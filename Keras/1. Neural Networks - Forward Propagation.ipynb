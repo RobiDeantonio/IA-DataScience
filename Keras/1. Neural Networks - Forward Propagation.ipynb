{
    "cells": [
        {
            "metadata": {
                "button": false,
                "new_sheet": false,
                "run_control": {
                    "read_only": false
                }
            },
            "cell_type": "markdown",
            "source": "<a href=\"https://cognitiveclass.ai/\"><img src = \"https://s3-api.us-geo.objectstorage.softlayer.net/cf-courses-data/CognitiveClass/DA0101EN/Images/CCLog.png\" width = 200, align = \"center\"></a>\n\n<h1 align=center><font size = 5>Artificial Neural Networks - Forward Propagation</font></h1>"
        },
        {
            "metadata": {
                "button": false,
                "new_sheet": false,
                "run_control": {
                    "read_only": false
                }
            },
            "cell_type": "markdown",
            "source": "## Introduction\n"
        },
        {
            "metadata": {
                "button": false,
                "new_sheet": false,
                "run_control": {
                    "read_only": false
                }
            },
            "cell_type": "markdown",
            "source": "In this lab, we will build a neural network from scratch and code how it performs predictions using forward propagation. Please note that all deep learning libraries have the entire training and prediction processes implemented, and so in practice you wouldn't really need to build a neural network from scratch. However, hopefully completing this lab will help you understand neural networks and how they work even better."
        },
        {
            "metadata": {
                "button": false,
                "new_sheet": false,
                "run_control": {
                    "read_only": false
                }
            },
            "cell_type": "markdown",
            "source": "## Table of Contents\n\n<div class=\"alert alert-block alert-info\" style=\"margin-top: 20px\">\n\n<font size = 3>    \n\n1. <a href=\"#item11\">Recap</a>\n2. <a href=\"#item12\">Initalize a Network</a>  \n3. <a href=\"#item13\">Compute Weighted Sum at Each Node</a>  \n4. <a href=\"#item14\">Compute Node Activation</a>  \n5. <a href=\"#item15\">Forward Propagation</a>\n\n</font>\n    \n</div>"
        },
        {
            "metadata": {
                "button": false,
                "new_sheet": false,
                "run_control": {
                    "read_only": false
                }
            },
            "cell_type": "markdown",
            "source": "   "
        },
        {
            "metadata": {
                "button": false,
                "new_sheet": false,
                "run_control": {
                    "read_only": false
                }
            },
            "cell_type": "markdown",
            "source": "<a id=\"item1\"></a>"
        },
        {
            "metadata": {},
            "cell_type": "markdown",
            "source": "<a id='item11'></a>"
        },
        {
            "metadata": {
                "button": false,
                "new_sheet": false,
                "run_control": {
                    "read_only": false
                }
            },
            "cell_type": "markdown",
            "source": "# Recap"
        },
        {
            "metadata": {
                "button": false,
                "new_sheet": false,
                "run_control": {
                    "read_only": false
                }
            },
            "cell_type": "markdown",
            "source": "From the videos, let's recap how a neural network makes predictions through the forward propagation process. Here is a neural network that takes two inputs, has one hidden layer with two nodes, and an output layer with one node."
        },
        {
            "metadata": {
                "button": false,
                "new_sheet": false,
                "run_control": {
                    "read_only": false
                }
            },
            "cell_type": "markdown",
            "source": "   "
        },
        {
            "metadata": {
                "button": false,
                "new_sheet": false,
                "run_control": {
                    "read_only": false
                }
            },
            "cell_type": "markdown",
            "source": "<img src=\"https://s3-api.us-geo.objectstorage.softlayer.net/cf-courses-data/CognitiveClass/DL0101EN/labs/neural_network_example.png\" alt=\"Neural Network Example\" width=600px>"
        },
        {
            "metadata": {
                "button": false,
                "new_sheet": false,
                "run_control": {
                    "read_only": false
                }
            },
            "cell_type": "markdown",
            "source": "  "
        },
        {
            "metadata": {
                "button": false,
                "new_sheet": false,
                "run_control": {
                    "read_only": false
                }
            },
            "cell_type": "markdown",
            "source": "Let's start by randomly initializing the weights and the biases in the network. We have 6 weights and 3 biases, one for each node in the hidden layer as well as for each node in the output layer."
        },
        {
            "metadata": {
                "button": false,
                "jupyter": {
                    "outputs_hidden": true
                },
                "new_sheet": false,
                "run_control": {
                    "read_only": false
                }
            },
            "cell_type": "code",
            "source": "import numpy as np # import Numpy library to generate \n\nweights = np.around(np.random.uniform(size=6), decimals=2) # initialize the weights\nbiases = np.around(np.random.uniform(size=3), decimals=2) # initialize the biases",
            "execution_count": 1,
            "outputs": []
        },
        {
            "metadata": {
                "button": false,
                "new_sheet": false,
                "run_control": {
                    "read_only": false
                }
            },
            "cell_type": "markdown",
            "source": "Let's print the weights and biases for sanity check."
        },
        {
            "metadata": {
                "button": false,
                "jupyter": {
                    "outputs_hidden": true
                },
                "new_sheet": false,
                "run_control": {
                    "read_only": false
                }
            },
            "cell_type": "code",
            "source": "print(weights)\nprint(biases)",
            "execution_count": 2,
            "outputs": [
                {
                    "name": "stdout",
                    "output_type": "stream",
                    "text": "[0.96 0.26 0.39 0.57 0.82 0.54]\n[0.17 0.95 0.39]\n"
                }
            ]
        },
        {
            "metadata": {
                "button": false,
                "new_sheet": false,
                "run_control": {
                    "read_only": false
                }
            },
            "cell_type": "markdown",
            "source": "Now that we have the weights and the biases defined for the network, let's compute the output for a given input, $x_1$ and $x_2$."
        },
        {
            "metadata": {
                "button": false,
                "jupyter": {
                    "outputs_hidden": true
                },
                "new_sheet": false,
                "run_control": {
                    "read_only": false
                }
            },
            "cell_type": "code",
            "source": "x_1 = 0.5 # input 1\nx_2 = 0.85 # input 2\n\nprint('x1 is {} and x2 is {}'.format(x_1, x_2))",
            "execution_count": 3,
            "outputs": [
                {
                    "name": "stdout",
                    "output_type": "stream",
                    "text": "x1 is 0.5 and x2 is 0.85\n"
                }
            ]
        },
        {
            "metadata": {
                "button": false,
                "new_sheet": false,
                "run_control": {
                    "read_only": false
                }
            },
            "cell_type": "markdown",
            "source": "Let's start by computing the wighted sum of the inputs, $z_{1, 1}$, at the first node of the hidden layer."
        },
        {
            "metadata": {
                "button": false,
                "jupyter": {
                    "outputs_hidden": true
                },
                "new_sheet": false,
                "run_control": {
                    "read_only": false
                }
            },
            "cell_type": "code",
            "source": "z_11 = x_1 * weights[0] + x_2 * weights[1] + biases[0]\n\nprint('The weighted sum of the inputs at the first node in the hidden layer is {}'.format(z_11))",
            "execution_count": 4,
            "outputs": [
                {
                    "name": "stdout",
                    "output_type": "stream",
                    "text": "The weighted sum of the inputs at the first node in the hidden layer is 0.871\n"
                }
            ]
        },
        {
            "metadata": {
                "button": false,
                "new_sheet": false,
                "run_control": {
                    "read_only": false
                }
            },
            "cell_type": "markdown",
            "source": "Next, let's compute the weighted sum of the inputs, $z_{1, 2}$, at the second node of the hidden layer. Assign the value to **z_12**."
        },
        {
            "metadata": {
                "button": false,
                "jupyter": {
                    "outputs_hidden": true
                },
                "new_sheet": false,
                "run_control": {
                    "read_only": false
                }
            },
            "cell_type": "code",
            "source": "### type your answer here\n\nz_12 = x_1 * weights[2] + x_2 * weights[3] + biases[1]",
            "execution_count": 5,
            "outputs": []
        },
        {
            "metadata": {
                "button": false,
                "new_sheet": false,
                "run_control": {
                    "read_only": false
                }
            },
            "cell_type": "markdown",
            "source": "Double-click __here__ for the solution.\n<!-- The correct answer is:\nz_12 = x_1 * weights[2] + x_2 * weights[3] + biases[1]\n-->"
        },
        {
            "metadata": {
                "button": false,
                "new_sheet": false,
                "run_control": {
                    "read_only": false
                }
            },
            "cell_type": "markdown",
            "source": "Print the weighted sum."
        },
        {
            "metadata": {
                "button": false,
                "jupyter": {
                    "outputs_hidden": true
                },
                "new_sheet": false,
                "run_control": {
                    "read_only": false
                }
            },
            "cell_type": "code",
            "source": "print('The weighted sum of the inputs at the second node in the hidden layer is {}'.format(np.around(z_12, decimals=4)))",
            "execution_count": 6,
            "outputs": [
                {
                    "name": "stdout",
                    "output_type": "stream",
                    "text": "The weighted sum of the inputs at the second node in the hidden layer is 1.6295\n"
                }
            ]
        },
        {
            "metadata": {
                "button": false,
                "new_sheet": false,
                "run_control": {
                    "read_only": false
                }
            },
            "cell_type": "markdown",
            "source": "Next, assuming a sigmoid activation function, let's compute the activation of the first node, $a_{1, 1}$, in the hidden layer."
        },
        {
            "metadata": {
                "button": false,
                "jupyter": {
                    "outputs_hidden": true
                },
                "new_sheet": false,
                "run_control": {
                    "read_only": false
                }
            },
            "cell_type": "code",
            "source": "a_11 = 1.0 / (1.0 + np.exp(-z_11))\n\nprint('The activation of the first node in the hidden layer is {}'.format(np.around(a_11, decimals=4)))",
            "execution_count": 7,
            "outputs": [
                {
                    "name": "stdout",
                    "output_type": "stream",
                    "text": "The activation of the first node in the hidden layer is 0.705\n"
                }
            ]
        },
        {
            "metadata": {
                "button": false,
                "new_sheet": false,
                "run_control": {
                    "read_only": false
                }
            },
            "cell_type": "markdown",
            "source": "Let's also compute the activation of the second node, $a_{1, 2}$, in the hidden layer. Assign the value to **a_12**."
        },
        {
            "metadata": {
                "button": false,
                "jupyter": {
                    "outputs_hidden": true
                },
                "new_sheet": false,
                "run_control": {
                    "read_only": false
                }
            },
            "cell_type": "code",
            "source": "### type your answer here\n\na_12 = 1.0 / (1.0 + np.exp(-z_12))",
            "execution_count": 8,
            "outputs": []
        },
        {
            "metadata": {
                "button": false,
                "new_sheet": false,
                "run_control": {
                    "read_only": false
                }
            },
            "cell_type": "markdown",
            "source": "Double-click __here__ for the solution.\n<!-- The correct answer is:\na_12 = 1.0 / (1.0 + np.exp(-z_12))\n-->"
        },
        {
            "metadata": {
                "button": false,
                "new_sheet": false,
                "run_control": {
                    "read_only": false
                }
            },
            "cell_type": "markdown",
            "source": "Print the activation of the second node."
        },
        {
            "metadata": {
                "button": false,
                "jupyter": {
                    "outputs_hidden": true
                },
                "new_sheet": false,
                "run_control": {
                    "read_only": false
                }
            },
            "cell_type": "code",
            "source": "print('The activation of the second node in the hidden layer is {}'.format(np.around(a_12, decimals=4)))",
            "execution_count": 9,
            "outputs": [
                {
                    "name": "stdout",
                    "output_type": "stream",
                    "text": "The activation of the second node in the hidden layer is 0.8361\n"
                }
            ]
        },
        {
            "metadata": {
                "button": false,
                "new_sheet": false,
                "run_control": {
                    "read_only": false
                }
            },
            "cell_type": "markdown",
            "source": "Now these activations will serve as the inputs to the output layer. So, let's compute the weighted sum of these inputs to the node in the output layer. Assign the value to **z_2**."
        },
        {
            "metadata": {
                "button": false,
                "jupyter": {
                    "outputs_hidden": true
                },
                "new_sheet": false,
                "run_control": {
                    "read_only": false
                }
            },
            "cell_type": "code",
            "source": "### type your answer here\n\nz_2 = weights[4]*a_11  + weights[5]*a_12 + biases[2]\n",
            "execution_count": 10,
            "outputs": []
        },
        {
            "metadata": {
                "button": false,
                "new_sheet": false,
                "run_control": {
                    "read_only": false
                }
            },
            "cell_type": "markdown",
            "source": "Double-click __here__ for the solution.\n<!-- The correct answer is:\nz_2 = a_11 * weights[4] + a_12 * weights[5] + biases[2]\n-->"
        },
        {
            "metadata": {
                "button": false,
                "new_sheet": false,
                "run_control": {
                    "read_only": false
                }
            },
            "cell_type": "markdown",
            "source": "Print the weighted sum of the inputs at the node in the output layer."
        },
        {
            "metadata": {
                "button": false,
                "jupyter": {
                    "outputs_hidden": true
                },
                "new_sheet": false,
                "run_control": {
                    "read_only": false
                }
            },
            "cell_type": "code",
            "source": "print('The weighted sum of the inputs at the node in the output layer is {}'.format(np.around(z_2, decimals=4)))",
            "execution_count": 11,
            "outputs": [
                {
                    "name": "stdout",
                    "output_type": "stream",
                    "text": "The weighted sum of the inputs at the node in the output layer is 1.4196\n"
                }
            ]
        },
        {
            "metadata": {
                "button": false,
                "new_sheet": false,
                "run_control": {
                    "read_only": false
                }
            },
            "cell_type": "markdown",
            "source": "Finally, let's compute the output of the network as the activation of the node in the output layer. Assign the value to **a_2**."
        },
        {
            "metadata": {
                "button": false,
                "jupyter": {
                    "outputs_hidden": true
                },
                "new_sheet": false,
                "run_control": {
                    "read_only": false
                }
            },
            "cell_type": "code",
            "source": "### type your answer here\n\na_2 = 1.0 / (1.0 + np.exp(-z_2))",
            "execution_count": 12,
            "outputs": []
        },
        {
            "metadata": {
                "button": false,
                "new_sheet": false,
                "run_control": {
                    "read_only": false
                }
            },
            "cell_type": "markdown",
            "source": "Double-click __here__ for the solution.\n<!-- The correct answer is:\na_2 = 1.0 / (1.0 + np.exp(-z_2))\n-->"
        },
        {
            "metadata": {
                "button": false,
                "new_sheet": false,
                "run_control": {
                    "read_only": false
                }
            },
            "cell_type": "markdown",
            "source": "Print the activation of the node in the output layer which is equivalent to the prediction made by the network."
        },
        {
            "metadata": {
                "button": false,
                "jupyter": {
                    "outputs_hidden": true
                },
                "new_sheet": false,
                "run_control": {
                    "read_only": false
                }
            },
            "cell_type": "code",
            "source": "print('The output of the network for x1 = 0.5 and x2 = 0.85 is {}'.format(np.around(a_2, decimals=4)))",
            "execution_count": 13,
            "outputs": [
                {
                    "name": "stdout",
                    "output_type": "stream",
                    "text": "The output of the network for x1 = 0.5 and x2 = 0.85 is 0.8053\n"
                }
            ]
        },
        {
            "metadata": {},
            "cell_type": "markdown",
            "source": "### Introduction to Neural Networks and Deep Learning - QUIZ\n\n<img src=\"https://d3c33hcgiwev3.cloudfront.net/imageAssetProxy.v1/SvXtW7zuEemCfwoJPcV7XA_d720e43fe2913fbcabe47df2cc289abd_Modul_1_Q3and4_new.png?expiry=1594512000000&hmac=TpNlc-NrOgCxgft2g_r6Nr0FlVt9i8jrVgIbsT4nWpo\" alt=\"Neural Network General\" width=600px>\n"
        },
        {
            "metadata": {},
            "cell_type": "code",
            "source": "x_1 = 0.5 # input 1\nx_2 = -0.35 # input 2\nprint('x1 is {} and x2 is {}'.format(x_1, x_2))",
            "execution_count": 14,
            "outputs": [
                {
                    "name": "stdout",
                    "output_type": "stream",
                    "text": "x1 is 0.5 and x2 is -0.35\n"
                }
            ]
        },
        {
            "metadata": {},
            "cell_type": "code",
            "source": "weights = [0.55, 0.45] # initialize the weights\nbiases = 0.15 # initialize the biases\nprint('weights are {} and bias is {}'.format(weights, biases))",
            "execution_count": 15,
            "outputs": [
                {
                    "name": "stdout",
                    "output_type": "stream",
                    "text": "weights are [0.55, 0.45] and bias is 0.15\n"
                }
            ]
        },
        {
            "metadata": {},
            "cell_type": "code",
            "source": "z = x_1 * weights[0] + x_2 * weights[1] + biases\n\nprint('The weighted sum of the inputs at the first node in the hidden layer is {}'.format(np.around(z, decimals=3)))",
            "execution_count": 16,
            "outputs": [
                {
                    "name": "stdout",
                    "output_type": "stream",
                    "text": "The weighted sum of the inputs at the first node in the hidden layer is 0.268\n"
                }
            ]
        },
        {
            "metadata": {},
            "cell_type": "code",
            "source": "a = 1.0 / (1.0 + np.exp(-z))\nprint('The output of the network for x1 = 0.5 and x2 = -0.35 is {}'.format(np.around(a, decimals=3)))",
            "execution_count": 17,
            "outputs": [
                {
                    "name": "stdout",
                    "output_type": "stream",
                    "text": "The output of the network for x1 = 0.5 and x2 = -0.35 is 0.566\n"
                }
            ]
        },
        {
            "metadata": {
                "button": false,
                "new_sheet": false,
                "run_control": {
                    "read_only": false
                }
            },
            "cell_type": "markdown",
            "source": "<hr>"
        },
        {
            "metadata": {
                "button": false,
                "new_sheet": false,
                "run_control": {
                    "read_only": false
                }
            },
            "cell_type": "markdown",
            "source": "Obviously, neural networks for real problems are composed of many hidden layers and many more nodes in each layer. So, we can't continue making predictions using this very inefficient approach of computing the weighted sum at each node and the activation of each node manually. "
        },
        {
            "metadata": {
                "button": false,
                "new_sheet": false,
                "run_control": {
                    "read_only": false
                }
            },
            "cell_type": "markdown",
            "source": "In order to code an automatic way of making predictions, let's generalize our network. A general network would take $n$ inputs, would have many hidden layers, each hidden layer having $m$ nodes, and would have an output layer. Although the network is showing one hidden layer, but we will code the network to have many hidden layers. Similarly, although the network shows an output layer with one node, we will code the network to have more than one node in the output layer."
        },
        {
            "metadata": {
                "button": false,
                "new_sheet": false,
                "run_control": {
                    "read_only": false
                }
            },
            "cell_type": "markdown",
            "source": "<img src=\"https://s3-api.us-geo.objectstorage.softlayer.net/cf-courses-data/CognitiveClass/DL0101EN/labs/neural_network_general.png\" alt=\"Neural Network General\" width=600px>"
        },
        {
            "metadata": {
                "button": false,
                "new_sheet": false,
                "run_control": {
                    "read_only": false
                }
            },
            "cell_type": "markdown",
            "source": "  "
        },
        {
            "metadata": {
                "button": false,
                "new_sheet": false,
                "run_control": {
                    "read_only": false
                }
            },
            "cell_type": "markdown",
            "source": "<a id=\"item2\"></a>"
        },
        {
            "metadata": {},
            "cell_type": "markdown",
            "source": "<a id='item12'></a>"
        },
        {
            "metadata": {
                "button": false,
                "new_sheet": false,
                "run_control": {
                    "read_only": false
                }
            },
            "cell_type": "markdown",
            "source": "## Initialize a Network"
        },
        {
            "metadata": {
                "button": false,
                "new_sheet": false,
                "run_control": {
                    "read_only": false
                }
            },
            "cell_type": "markdown",
            "source": "Let's start by formally defining the structure of the network."
        },
        {
            "metadata": {
                "button": false,
                "jupyter": {
                    "outputs_hidden": true
                },
                "new_sheet": false,
                "run_control": {
                    "read_only": false
                }
            },
            "cell_type": "code",
            "source": "n = 2 # number of inputs\nnum_hidden_layers = 2 # number of hidden layers\nm = [2, 2] # number of nodes in each hidden layer\nnum_nodes_output = 1 # number of nodes in the output layer",
            "execution_count": 18,
            "outputs": []
        },
        {
            "metadata": {
                "button": false,
                "new_sheet": false,
                "run_control": {
                    "read_only": false
                }
            },
            "cell_type": "markdown",
            "source": "Now that we defined the structure of the network, let's go ahead and inititailize the weights and the biases in the network to random numbers. In order to be able to initialize the weights and the biases to random numbers, we will need to import the **Numpy** library."
        },
        {
            "metadata": {
                "button": false,
                "jupyter": {
                    "outputs_hidden": true
                },
                "new_sheet": false,
                "run_control": {
                    "read_only": false
                }
            },
            "cell_type": "code",
            "source": "import numpy as np # import the Numpy library\n\nnum_nodes_previous = n # number of nodes in the previous layer\n\nnetwork = {} # initialize network an an empty dictionary\n\n# loop through each layer and randomly initialize the weights and biases associated with each node\n# notice how we are adding 1 to the number of hidden layers in order to include the output layer\nfor layer in range(num_hidden_layers + 1): \n    \n    # determine name of layer\n    if layer == num_hidden_layers:\n        layer_name = 'output'\n        num_nodes = num_nodes_output\n    else:\n        layer_name = 'layer_{}'.format(layer + 1)\n        num_nodes = m[layer]\n    \n    # initialize weights and biases associated with each node in the current layer\n    network[layer_name] = {}\n    for node in range(num_nodes):\n        node_name = 'node_{}'.format(node+1)\n        network[layer_name][node_name] = {\n            'weights': np.around(np.random.uniform(size=num_nodes_previous), decimals=2),\n            'bias': np.around(np.random.uniform(size=1), decimals=2),\n        }\n    \n    num_nodes_previous = num_nodes\n    \nprint(network) # print network",
            "execution_count": 19,
            "outputs": [
                {
                    "name": "stdout",
                    "output_type": "stream",
                    "text": "{'layer_1': {'node_1': {'weights': array([0.32, 0.45]), 'bias': array([0.08])}, 'node_2': {'weights': array([0.05, 0.75]), 'bias': array([0.77])}}, 'layer_2': {'node_1': {'weights': array([0.99, 0.35]), 'bias': array([0.29])}, 'node_2': {'weights': array([0.9 , 0.03]), 'bias': array([0.45])}}, 'output': {'node_1': {'weights': array([0.77, 0.84]), 'bias': array([0.84])}}}\n"
                }
            ]
        },
        {
            "metadata": {
                "button": false,
                "new_sheet": false,
                "run_control": {
                    "read_only": false
                }
            },
            "cell_type": "markdown",
            "source": "Awesome! So now with the above code, we are able to initialize the weights and the biases pertaining to any network of any number of hidden layers and number of nodes in each layer. But let's put this code in a function so that we are able to repetitively execute all this code whenever we want to construct a neural network.\n"
        },
        {
            "metadata": {
                "button": false,
                "jupyter": {
                    "outputs_hidden": true
                },
                "new_sheet": false,
                "run_control": {
                    "read_only": false
                }
            },
            "cell_type": "code",
            "source": "def initialize_network(num_inputs, num_hidden_layers, num_nodes_hidden, num_nodes_output):\n    \n    num_nodes_previous = num_inputs # number of nodes in the previous layer\n\n    network = {}\n    \n    # loop through each layer and randomly initialize the weights and biases associated with each layer\n    for layer in range(num_hidden_layers + 1):\n        \n        if layer == num_hidden_layers:\n            layer_name = 'output' # name last layer in the network output\n            num_nodes = num_nodes_output\n        else:\n            layer_name = 'layer_{}'.format(layer + 1) # otherwise give the layer a number\n            num_nodes = num_nodes_hidden[layer] \n        \n        # initialize weights and bias for each node\n        network[layer_name] = {}\n        for node in range(num_nodes):\n            node_name = 'node_{}'.format(node+1)\n            network[layer_name][node_name] = {\n                'weights': np.around(np.random.uniform(size=num_nodes_previous), decimals=2),\n                'bias': np.around(np.random.uniform(size=1), decimals=2),\n            }\n    \n        num_nodes_previous = num_nodes\n\n    return network # return the network",
            "execution_count": 20,
            "outputs": []
        },
        {
            "metadata": {
                "button": false,
                "new_sheet": false,
                "run_control": {
                    "read_only": false
                }
            },
            "cell_type": "markdown",
            "source": "#### Use the *initialize_network* function to create a network that:\n\n1. takes 5 inputs\n2. has three hidden layers\n3. has 3 nodes in the first layer, 2 nodes in the second layer, and 3 nodes in the third layer\n4. has 1 node in the output layer\n\nCall the network **small_network**."
        },
        {
            "metadata": {
                "button": false,
                "jupyter": {
                    "outputs_hidden": true
                },
                "new_sheet": false,
                "run_control": {
                    "read_only": false
                }
            },
            "cell_type": "code",
            "source": "### type your answer here\n\nsmall_network = initialize_network(num_inputs=5, num_hidden_layers=3, num_nodes_hidden=[3,2,3], num_nodes_output=1)\nsmall_network",
            "execution_count": 21,
            "outputs": [
                {
                    "data": {
                        "text/plain": "{'layer_1': {'node_1': {'weights': array([0.01, 0.22, 1.  , 0.37, 0.05]),\n   'bias': array([0.46])},\n  'node_2': {'weights': array([0.79, 0.02, 0.38, 0.56, 0.4 ]),\n   'bias': array([0.77])},\n  'node_3': {'weights': array([0.6 , 0.82, 0.74, 0.22, 0.67]),\n   'bias': array([0.52])}},\n 'layer_2': {'node_1': {'weights': array([0.09, 0.58, 0.17]),\n   'bias': array([0.21])},\n  'node_2': {'weights': array([0.24, 0.89, 0.56]), 'bias': array([0.47])}},\n 'layer_3': {'node_1': {'weights': array([0.39, 0.82]), 'bias': array([0.58])},\n  'node_2': {'weights': array([0.91, 0.51]), 'bias': array([0.08])},\n  'node_3': {'weights': array([0.36, 0.2 ]), 'bias': array([0.72])}},\n 'output': {'node_1': {'weights': array([0.98, 0.45, 0.74]),\n   'bias': array([0.29])}}}"
                    },
                    "execution_count": 21,
                    "metadata": {},
                    "output_type": "execute_result"
                }
            ]
        },
        {
            "metadata": {
                "button": false,
                "new_sheet": false,
                "run_control": {
                    "read_only": false
                }
            },
            "cell_type": "markdown",
            "source": "Double-click __here__ for the solution.\n<!-- The correct answer is:\nsmall_network = initialize_network(5, 3, [3, 2, 3], 1)\n-->"
        },
        {
            "metadata": {
                "button": false,
                "new_sheet": false,
                "run_control": {
                    "read_only": false
                }
            },
            "cell_type": "markdown",
            "source": "<a id=\"item3\"></a>"
        },
        {
            "metadata": {},
            "cell_type": "markdown",
            "source": "<a id='item13'></a>"
        },
        {
            "metadata": {
                "button": false,
                "new_sheet": false,
                "run_control": {
                    "read_only": false
                }
            },
            "cell_type": "markdown",
            "source": "## Compute Weighted Sum at Each Node"
        },
        {
            "metadata": {
                "button": false,
                "new_sheet": false,
                "run_control": {
                    "read_only": false
                }
            },
            "cell_type": "markdown",
            "source": "The weighted sum at each node is computed as the dot product of the inputs and the weights plus the bias. So let's create a function called *compute_weighted_sum* that does just that."
        },
        {
            "metadata": {
                "button": false,
                "jupyter": {
                    "outputs_hidden": true
                },
                "new_sheet": false,
                "run_control": {
                    "read_only": false
                }
            },
            "cell_type": "code",
            "source": "def compute_weighted_sum(inputs, weights, bias):\n    return np.sum(inputs * weights) + bias",
            "execution_count": 22,
            "outputs": []
        },
        {
            "metadata": {
                "button": false,
                "new_sheet": false,
                "run_control": {
                    "read_only": false
                }
            },
            "cell_type": "markdown",
            "source": "Let's generate 5 inputs that we can feed to **small_network**."
        },
        {
            "metadata": {
                "button": false,
                "jupyter": {
                    "outputs_hidden": true
                },
                "new_sheet": false,
                "run_control": {
                    "read_only": false
                }
            },
            "cell_type": "code",
            "source": "from random import seed\nimport numpy as np\n\nnp.random.seed(12)\ninputs = np.around(np.random.uniform(size=5), decimals=2)\n\nprint('The inputs to the network are {}'.format(inputs))",
            "execution_count": 23,
            "outputs": [
                {
                    "name": "stdout",
                    "output_type": "stream",
                    "text": "The inputs to the network are [0.15 0.74 0.26 0.53 0.01]\n"
                }
            ]
        },
        {
            "metadata": {
                "button": false,
                "new_sheet": false,
                "run_control": {
                    "read_only": false
                }
            },
            "cell_type": "markdown",
            "source": "#### Use the *compute_weighted_sum* function to compute the weighted sum at the first node in the first hidden layer."
        },
        {
            "metadata": {
                "button": false,
                "jupyter": {
                    "outputs_hidden": true
                },
                "new_sheet": false,
                "run_control": {
                    "read_only": false
                }
            },
            "cell_type": "code",
            "source": "### type your answer here\n\nnode_weights = small_network['layer_1']['node_1']['weights']\nnode_bias = small_network['layer_1']['node_1']['bias']\n\nweighted_sum = compute_weighted_sum(inputs, node_weights, node_bias)\nprint('The weighted sum at the first node in the hidden layer is {}'.format(np.around(weighted_sum[0], decimals=4)))",
            "execution_count": 24,
            "outputs": [
                {
                    "name": "stdout",
                    "output_type": "stream",
                    "text": "The weighted sum at the first node in the hidden layer is 1.0809\n"
                }
            ]
        },
        {
            "metadata": {
                "button": false,
                "new_sheet": false,
                "run_control": {
                    "read_only": false
                }
            },
            "cell_type": "markdown",
            "source": "Double-click __here__ for the solution.\n<!-- The correct answer is:\nnode_weights = small_network['layer_1']['node_1']['weights']\nnode_bias = small_network['layer_1']['node_1']['bias']\n\nweighted_sum = compute_weighted_sum(inputs, node_weights, node_bias)\nprint('The weighted sum at the first node in the hidden layer is {}'.format(np.around(weighted_sum[0], decimals=4)))\n-->"
        },
        {
            "metadata": {
                "button": false,
                "new_sheet": false,
                "run_control": {
                    "read_only": false
                }
            },
            "cell_type": "markdown",
            "source": "   "
        },
        {
            "metadata": {
                "button": false,
                "new_sheet": false,
                "run_control": {
                    "read_only": false
                }
            },
            "cell_type": "markdown",
            "source": "<a id=\"item4\"></a>"
        },
        {
            "metadata": {},
            "cell_type": "markdown",
            "source": "<a id='item14'></a>"
        },
        {
            "metadata": {
                "button": false,
                "new_sheet": false,
                "run_control": {
                    "read_only": false
                }
            },
            "cell_type": "markdown",
            "source": "## Compute Node Activation"
        },
        {
            "metadata": {
                "button": false,
                "new_sheet": false,
                "run_control": {
                    "read_only": false
                }
            },
            "cell_type": "markdown",
            "source": "Recall that the output of each node is simply a non-linear tranformation of the weighted sum. We use activation functions for this mapping. Let's use the sigmoid function as the activation function here. So let's define a function that takes a weighted sum as input and returns the non-linear transformation of the input using the sigmoid function."
        },
        {
            "metadata": {
                "button": false,
                "jupyter": {
                    "outputs_hidden": true
                },
                "new_sheet": false,
                "run_control": {
                    "read_only": false
                }
            },
            "cell_type": "code",
            "source": "def node_activation(weighted_sum):\n    return 1.0 / (1.0 + np.exp(-1 * weighted_sum))",
            "execution_count": 25,
            "outputs": []
        },
        {
            "metadata": {
                "button": false,
                "new_sheet": false,
                "run_control": {
                    "read_only": false
                }
            },
            "cell_type": "markdown",
            "source": "#### Use the *node_activation* function to compute the output of the first node in the first hidden layer."
        },
        {
            "metadata": {
                "button": false,
                "jupyter": {
                    "outputs_hidden": true
                },
                "new_sheet": false,
                "run_control": {
                    "read_only": false
                }
            },
            "cell_type": "code",
            "source": "### type your answer here\n\nnode_output  = node_activation(weighted_sum)\nprint('The output of the first node in the hidden layer is {}'.format(np.around(node_output[0], decimals=4)))",
            "execution_count": 26,
            "outputs": [
                {
                    "name": "stdout",
                    "output_type": "stream",
                    "text": "The output of the first node in the hidden layer is 0.7467\n"
                }
            ]
        },
        {
            "metadata": {
                "button": false,
                "new_sheet": false,
                "run_control": {
                    "read_only": false
                }
            },
            "cell_type": "markdown",
            "source": "Double-click __here__ for the solution.\n<!-- The correct answer is:\nnode_output  = node_activation(compute_weighted_sum(inputs, node_weights, node_bias))\nprint('The output of the first node in the hidden layer is {}'.format(np.around(node_output[0], decimals=4)))\n-->"
        },
        {
            "metadata": {
                "button": false,
                "new_sheet": false,
                "run_control": {
                    "read_only": false
                }
            },
            "cell_type": "markdown",
            "source": "   "
        },
        {
            "metadata": {
                "button": false,
                "new_sheet": false,
                "run_control": {
                    "read_only": false
                }
            },
            "cell_type": "markdown",
            "source": "<a id=\"item5\"></a>"
        },
        {
            "metadata": {},
            "cell_type": "markdown",
            "source": "<a id='item15'></a>"
        },
        {
            "metadata": {
                "button": false,
                "new_sheet": false,
                "run_control": {
                    "read_only": false
                }
            },
            "cell_type": "markdown",
            "source": "## Forward Propagation"
        },
        {
            "metadata": {
                "button": false,
                "new_sheet": false,
                "run_control": {
                    "read_only": false
                }
            },
            "cell_type": "markdown",
            "source": "The final piece of building a neural network that can perform predictions is to put everything together. So let's create a function that applies the *compute_weighted_sum* and *node_activation* functions to each node in the network and propagates the data all the way to the output layer and outputs a prediction for each node in the output layer."
        },
        {
            "metadata": {
                "button": false,
                "new_sheet": false,
                "run_control": {
                    "read_only": false
                }
            },
            "cell_type": "markdown",
            "source": "The way we are going to accomplish this is through the following procedure:\n\n1. Start with the input layer as the input to the first hidden layer.\n2. Compute the weighted sum at the nodes of the current layer.\n3. Compute the output of the nodes of the current layer.\n4. Set the output of the current layer to be the input to the next layer.\n5. Move to the next layer in the network.\n5. Repeat steps 2 - 4 until we compute the output of the output layer."
        },
        {
            "metadata": {
                "button": false,
                "jupyter": {
                    "outputs_hidden": true
                },
                "new_sheet": false,
                "run_control": {
                    "read_only": false
                }
            },
            "cell_type": "code",
            "source": "def forward_propagate(network, inputs):\n    \n    layer_inputs = list(inputs) # start with the input layer as the input to the first hidden layer\n    \n    for layer in network:\n        \n        layer_data = network[layer]\n        \n        layer_outputs = [] \n        for layer_node in layer_data:\n        \n            node_data = layer_data[layer_node]\n        \n            # compute the weighted sum and the output of each node at the same time \n            node_output = node_activation(compute_weighted_sum(layer_inputs, node_data['weights'], node_data['bias']))\n            layer_outputs.append(np.around(node_output[0], decimals=4))\n            \n        if layer != 'output':\n            print('The outputs of the nodes in hidden layer number {} is {}'.format(layer.split('_')[1], layer_outputs))\n    \n        layer_inputs = layer_outputs # set the output of this layer to be the input to next layer\n\n    network_predictions = layer_outputs\n    return network_predictions",
            "execution_count": 27,
            "outputs": []
        },
        {
            "metadata": {
                "button": false,
                "new_sheet": false,
                "run_control": {
                    "read_only": false
                }
            },
            "cell_type": "markdown",
            "source": "#### Use the *forward_propagate* function to compute the prediction of our small network"
        },
        {
            "metadata": {
                "button": false,
                "jupyter": {
                    "outputs_hidden": true
                },
                "new_sheet": false,
                "run_control": {
                    "read_only": false
                }
            },
            "cell_type": "code",
            "source": "### type your answser here\n\npredictions = forward_propagate(small_network, inputs)\nprint('The predicted value by the network for the given input is {}'.format(np.around(predictions[0], decimals=4)))\n",
            "execution_count": 28,
            "outputs": [
                {
                    "name": "stdout",
                    "output_type": "stream",
                    "text": "The outputs of the nodes in hidden layer number 1 is [0.7467, 0.7863, 0.8224]\nThe outputs of the nodes in hidden layer number 2 is [0.7054, 0.8593]\nThe outputs of the nodes in hidden layer number 3 is [0.8263, 0.7614, 0.7587]\nThe predicted value by the network for the given input is 0.8812\n"
                }
            ]
        },
        {
            "metadata": {
                "button": false,
                "new_sheet": false,
                "run_control": {
                    "read_only": false
                }
            },
            "cell_type": "markdown",
            "source": "So we built the code to define a neural network. We can specify the number of inputs that a neural network can take, the number of hidden layers as well as the number of nodes in each hidden layer, and the number of nodes in the output layer."
        },
        {
            "metadata": {
                "button": false,
                "new_sheet": false,
                "run_control": {
                    "read_only": false
                }
            },
            "cell_type": "markdown",
            "source": "We first use the *initialize_network* to create our neural network and define its weights and biases."
        },
        {
            "metadata": {
                "button": false,
                "jupyter": {
                    "outputs_hidden": true
                },
                "new_sheet": false,
                "run_control": {
                    "read_only": false
                }
            },
            "cell_type": "code",
            "source": "my_network = initialize_network(5, 3, [2, 3, 2], 3)",
            "execution_count": 29,
            "outputs": []
        },
        {
            "metadata": {
                "button": false,
                "new_sheet": false,
                "run_control": {
                    "read_only": false
                }
            },
            "cell_type": "markdown",
            "source": "Then, for a given input,"
        },
        {
            "metadata": {
                "button": false,
                "jupyter": {
                    "outputs_hidden": true
                },
                "new_sheet": false,
                "run_control": {
                    "read_only": false
                }
            },
            "cell_type": "code",
            "source": "inputs = np.around(np.random.uniform(size=5), decimals=2)",
            "execution_count": 30,
            "outputs": []
        },
        {
            "metadata": {
                "button": false,
                "new_sheet": false,
                "run_control": {
                    "read_only": false
                }
            },
            "cell_type": "markdown",
            "source": "we compute the network predictions."
        },
        {
            "metadata": {
                "button": false,
                "jupyter": {
                    "outputs_hidden": true
                },
                "new_sheet": false,
                "run_control": {
                    "read_only": false
                }
            },
            "cell_type": "code",
            "source": "predictions = forward_propagate(my_network, inputs)\nprint('The predicted values by the network for the given input are {}'.format(predictions))",
            "execution_count": 31,
            "outputs": [
                {
                    "name": "stdout",
                    "output_type": "stream",
                    "text": "The outputs of the nodes in hidden layer number 1 is [0.8857, 0.8889]\nThe outputs of the nodes in hidden layer number 2 is [0.7822, 0.6965, 0.7411]\nThe outputs of the nodes in hidden layer number 3 is [0.868, 0.881]\nThe predicted values by the network for the given input are [0.8952, 0.8222, 0.8035]\n"
                }
            ]
        },
        {
            "metadata": {
                "button": false,
                "new_sheet": false,
                "run_control": {
                    "read_only": false
                }
            },
            "cell_type": "markdown",
            "source": "Feel free to play around with the code by creating different networks of different structures and enjoy making predictions using the *forward_propagate* function."
        },
        {
            "metadata": {
                "button": false,
                "jupyter": {
                    "outputs_hidden": true
                },
                "new_sheet": false,
                "run_control": {
                    "read_only": false
                }
            },
            "cell_type": "code",
            "source": "### create a network\n\n\n\n",
            "execution_count": 32,
            "outputs": []
        },
        {
            "metadata": {
                "button": false,
                "jupyter": {
                    "outputs_hidden": true
                },
                "new_sheet": false,
                "run_control": {
                    "read_only": false
                }
            },
            "cell_type": "code",
            "source": "### create another network\n\n\n\n",
            "execution_count": 33,
            "outputs": []
        },
        {
            "metadata": {
                "button": false,
                "new_sheet": false,
                "run_control": {
                    "read_only": false
                }
            },
            "cell_type": "markdown",
            "source": "### Thank you for completing this lab!\n\nThis notebook was created by [Alex Aklson](https://www.linkedin.com/in/aklson/). I hope you found this lab interesting and educational. Feel free to contact me if you have any questions!"
        },
        {
            "metadata": {
                "button": false,
                "new_sheet": false,
                "run_control": {
                    "read_only": false
                }
            },
            "cell_type": "markdown",
            "source": "This notebook is part of a course on **Coursera** called *Introduction to Deep Learning & Neural Networks with Keras*. If you accessed this notebook outside the course, you can take this course online by clicking [here](https://cocl.us/DL0101EN_Coursera_Week1_LAB1)."
        },
        {
            "metadata": {
                "button": false,
                "new_sheet": false,
                "run_control": {
                    "read_only": false
                }
            },
            "cell_type": "markdown",
            "source": "<hr>\n\nCopyright &copy; 2019 [IBM Developer Skills Network](https://cognitiveclass.ai/?utm_source=bducopyrightlink&utm_medium=dswb&utm_campaign=bdu). This notebook and its source code are released under the terms of the [MIT License](https://bigdatauniversity.com/mit-license/)."
        }
    ],
    "metadata": {
        "kernelspec": {
            "name": "python3",
            "display_name": "Python 3.6",
            "language": "python"
        },
        "language_info": {
            "name": "python",
            "version": "3.6.9",
            "mimetype": "text/x-python",
            "codemirror_mode": {
                "name": "ipython",
                "version": 3
            },
            "pygments_lexer": "ipython3",
            "nbconvert_exporter": "python",
            "file_extension": ".py"
        }
    },
    "nbformat": 4,
    "nbformat_minor": 4
}
