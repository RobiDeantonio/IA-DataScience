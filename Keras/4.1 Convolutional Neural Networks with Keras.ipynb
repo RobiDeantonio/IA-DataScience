{
    "cells": [
        {
            "metadata": {},
            "cell_type": "markdown",
            "source": "<a href=\"https://cognitiveclass.ai/\"><img src = \"https://s3-api.us-geo.objectstorage.softlayer.net/cf-courses-data/CognitiveClass/DA0101EN/Images/CCLog.png\" width = 200, align = \"center\"></a>\n\n<h1>Convolutional Neural Networks with Keras</h1>"
        },
        {
            "metadata": {},
            "cell_type": "markdown",
            "source": "In this lab, we will learn how to use the Keras library to build convolutional neural networks. We will also use the popular MNIST dataset and we will compare our results to using a conventional neural network.\n"
        },
        {
            "metadata": {},
            "cell_type": "markdown",
            "source": "## Table of Contents\n\n<div class=\"alert alert-block alert-info\" style=\"margin-top: 20px\">\n\n<font size = 3>\n      \n1. <a href=\"#item41\">Import Keras and Packages</a>   \n2. <a href=\"#item42\">Convolutional Neural Network with One Convolutional and Pooling Layers</a>  \n3. <a href=\"#item43\">Convolutional Neural Network with Two Convolutional and Pooling Layers</a>  \n\n</font>\n</div>"
        },
        {
            "metadata": {},
            "cell_type": "markdown",
            "source": "<a id='item41'></a>"
        },
        {
            "metadata": {},
            "cell_type": "markdown",
            "source": "## Import Keras and Packages"
        },
        {
            "metadata": {},
            "cell_type": "markdown",
            "source": "Let's start by importing the keras libraries and the packages that we would need to build a neural network."
        },
        {
            "metadata": {},
            "cell_type": "code",
            "source": "import keras\nfrom keras.models import Sequential\nfrom keras.layers import Dense\nfrom keras.utils import to_categorical",
            "execution_count": 1,
            "outputs": []
        },
        {
            "metadata": {},
            "cell_type": "markdown",
            "source": "When working with convolutional neural networks in particular, we will need additional packages."
        },
        {
            "metadata": {},
            "cell_type": "code",
            "source": "from keras.layers.convolutional import Conv2D # to add convolutional layers\nfrom keras.layers.convolutional import MaxPooling2D # to add pooling layers\nfrom keras.layers import Flatten # to flatten data for fully connected layers",
            "execution_count": 2,
            "outputs": []
        },
        {
            "metadata": {},
            "cell_type": "markdown",
            "source": "<a id='item42'></a>"
        },
        {
            "metadata": {},
            "cell_type": "markdown",
            "source": "## Convolutional Layer with One set of convolutional and pooling layers"
        },
        {
            "metadata": {},
            "cell_type": "code",
            "source": "# import data\nfrom keras.datasets import mnist\n\n# load data\n(X_train, y_train), (X_test, y_test) = mnist.load_data()\n\n# reshape to be [samples][pixels][width][height]\nX_train = X_train.reshape(X_train.shape[0], 28, 28, 1).astype('float32')\nX_test = X_test.reshape(X_test.shape[0], 28, 28, 1).astype('float32')",
            "execution_count": 3,
            "outputs": []
        },
        {
            "metadata": {},
            "cell_type": "markdown",
            "source": "Let's normalize the pixel values to be between 0 and 1"
        },
        {
            "metadata": {},
            "cell_type": "code",
            "source": "X_train = X_train / 255 # normalize training data\nX_test = X_test / 255 # normalize test data",
            "execution_count": 4,
            "outputs": []
        },
        {
            "metadata": {},
            "cell_type": "markdown",
            "source": "Next, let's convert the target variable into binary categories"
        },
        {
            "metadata": {},
            "cell_type": "code",
            "source": "y_train = to_categorical(y_train)\ny_test = to_categorical(y_test)\n\nnum_classes = y_test.shape[1] # number of categories",
            "execution_count": 5,
            "outputs": []
        },
        {
            "metadata": {},
            "cell_type": "markdown",
            "source": "Next, let's define a function that creates our model. Let's start with one set of convolutional and pooling layers."
        },
        {
            "metadata": {},
            "cell_type": "code",
            "source": "def convolutional_model():\n    \n    # create model\n    model = Sequential()\n    model.add(Conv2D(16, (5, 5), strides=(1, 1), activation='relu', input_shape=(28, 28, 1)))\n    model.add(MaxPooling2D(pool_size=(2, 2), strides=(2, 2)))\n    \n    model.add(Flatten())\n    model.add(Dense(100, activation='relu'))\n    model.add(Dense(num_classes, activation='softmax'))\n    \n    # compile model\n    model.compile(optimizer='adam', loss='categorical_crossentropy',  metrics=['accuracy'])\n    return model",
            "execution_count": 6,
            "outputs": []
        },
        {
            "metadata": {},
            "cell_type": "markdown",
            "source": "Finally, let's call the function to create the model, and then let's train it and evaluate it."
        },
        {
            "metadata": {},
            "cell_type": "code",
            "source": "# build the model\nmodel = convolutional_model()\n\n# fit the model\nmodel.fit(X_train, y_train, validation_data=(X_test, y_test), epochs=10, batch_size=200, verbose=2)\n\n# evaluate the model\nscores = model.evaluate(X_test, y_test, verbose=0)\nprint(\"Accuracy: {} \\n Error: {}\".format(scores[1], 100-scores[1]*100))",
            "execution_count": 7,
            "outputs": [
                {
                    "name": "stdout",
                    "output_type": "stream",
                    "text": "Epoch 1/10\n300/300 - 7s - loss: 0.3009 - accuracy: 0.9146 - val_loss: 0.1123 - val_accuracy: 0.9673\nEpoch 2/10\n300/300 - 7s - loss: 0.0901 - accuracy: 0.9738 - val_loss: 0.0643 - val_accuracy: 0.9802\nEpoch 3/10\n300/300 - 7s - loss: 0.0608 - accuracy: 0.9819 - val_loss: 0.0503 - val_accuracy: 0.9840\nEpoch 4/10\n300/300 - 8s - loss: 0.0492 - accuracy: 0.9855 - val_loss: 0.0520 - val_accuracy: 0.9820\nEpoch 5/10\n300/300 - 8s - loss: 0.0383 - accuracy: 0.9888 - val_loss: 0.0407 - val_accuracy: 0.9859\nEpoch 6/10\n300/300 - 8s - loss: 0.0326 - accuracy: 0.9903 - val_loss: 0.0392 - val_accuracy: 0.9872\nEpoch 7/10\n300/300 - 7s - loss: 0.0283 - accuracy: 0.9912 - val_loss: 0.0348 - val_accuracy: 0.9885\nEpoch 8/10\n300/300 - 7s - loss: 0.0241 - accuracy: 0.9927 - val_loss: 0.0378 - val_accuracy: 0.9873\nEpoch 9/10\n300/300 - 7s - loss: 0.0184 - accuracy: 0.9947 - val_loss: 0.0452 - val_accuracy: 0.9856\nEpoch 10/10\n300/300 - 7s - loss: 0.0164 - accuracy: 0.9952 - val_loss: 0.0348 - val_accuracy: 0.9885\nAccuracy: 0.9884999990463257 \n Error: 1.1500000953674316\n"
                }
            ]
        },
        {
            "metadata": {},
            "cell_type": "markdown",
            "source": "------------------------------------------"
        },
        {
            "metadata": {},
            "cell_type": "markdown",
            "source": "<a id='item43'></a>"
        },
        {
            "metadata": {},
            "cell_type": "markdown",
            "source": "## Convolutional Layer with two sets of convolutional and pooling layers"
        },
        {
            "metadata": {},
            "cell_type": "markdown",
            "source": "Let's redefine our convolutional model so that it has two convolutional and pooling layers instead of just one layer of each."
        },
        {
            "metadata": {},
            "cell_type": "code",
            "source": "def convolutional_model():\n    \n    # create model\n    model = Sequential()\n    model.add(Conv2D(16, (5, 5), activation='relu', input_shape=(28, 28, 1)))\n    model.add(MaxPooling2D(pool_size=(2, 2), strides=(2, 2)))\n    \n    model.add(Conv2D(8, (2, 2), activation='relu'))\n    model.add(MaxPooling2D(pool_size=(2, 2), strides=(2, 2)))\n    \n    model.add(Flatten())\n    model.add(Dense(100, activation='relu'))\n    model.add(Dense(num_classes, activation='softmax'))\n    \n    # Compile model\n    model.compile(optimizer='adam', loss='categorical_crossentropy',  metrics=['accuracy'])\n    return model",
            "execution_count": 8,
            "outputs": []
        },
        {
            "metadata": {},
            "cell_type": "markdown",
            "source": "Now, let's call the function to create our new convolutional neural network, and then let's train it and evaluate it."
        },
        {
            "metadata": {},
            "cell_type": "code",
            "source": "# build the model\nmodel = convolutional_model()\n\n# fit the model\nmodel.fit(X_train, y_train, validation_data=(X_test, y_test), epochs=10, batch_size=200, verbose=2)\n\n# evaluate the model\nscores = model.evaluate(X_test, y_test, verbose=0)\nprint(\"Accuracy: {} \\n Error: {}\".format(scores[1], 100-scores[1]*100))",
            "execution_count": 9,
            "outputs": [
                {
                    "name": "stdout",
                    "output_type": "stream",
                    "text": "Epoch 1/10\n300/300 - 7s - loss: 0.4846 - accuracy: 0.8640 - val_loss: 0.1421 - val_accuracy: 0.9564\nEpoch 2/10\n300/300 - 8s - loss: 0.1131 - accuracy: 0.9670 - val_loss: 0.0755 - val_accuracy: 0.9775\nEpoch 3/10\n300/300 - 8s - loss: 0.0808 - accuracy: 0.9755 - val_loss: 0.0658 - val_accuracy: 0.9779\nEpoch 4/10\n300/300 - 8s - loss: 0.0679 - accuracy: 0.9786 - val_loss: 0.0512 - val_accuracy: 0.9840\nEpoch 5/10\n300/300 - 9s - loss: 0.0555 - accuracy: 0.9831 - val_loss: 0.0490 - val_accuracy: 0.9848\nEpoch 6/10\n300/300 - 8s - loss: 0.0506 - accuracy: 0.9847 - val_loss: 0.0444 - val_accuracy: 0.9852\nEpoch 7/10\n300/300 - 8s - loss: 0.0453 - accuracy: 0.9859 - val_loss: 0.0435 - val_accuracy: 0.9857\nEpoch 8/10\n300/300 - 8s - loss: 0.0401 - accuracy: 0.9878 - val_loss: 0.0380 - val_accuracy: 0.9866\nEpoch 9/10\n300/300 - 8s - loss: 0.0371 - accuracy: 0.9884 - val_loss: 0.0410 - val_accuracy: 0.9865\nEpoch 10/10\n300/300 - 8s - loss: 0.0332 - accuracy: 0.9896 - val_loss: 0.0383 - val_accuracy: 0.9876\nAccuracy: 0.9876000285148621 \n Error: 1.239997148513794\n"
                }
            ]
        },
        {
            "metadata": {},
            "cell_type": "markdown",
            "source": "### Thank you for completing this lab!\n\nThis notebook was created by [Alex Aklson](https://www.linkedin.com/in/aklson/). I hope you found this lab interesting and educational. Feel free to contact me if you have any questions!"
        },
        {
            "metadata": {},
            "cell_type": "markdown",
            "source": "This notebook is part of a course on **Coursera** called *Introduction to Deep Learning & Neural Networks with Keras*. If you accessed this notebook outside the course, you can take this course online by clicking [here](https://cocl.us/DL0101EN_Coursera_Week4_LAB1)."
        },
        {
            "metadata": {},
            "cell_type": "markdown",
            "source": "<hr>\n\nCopyright &copy; 2019 [IBM Developer Skills Network](https://cognitiveclass.ai/?utm_source=bducopyrightlink&utm_medium=dswb&utm_campaign=bdu). This notebook and its source code are released under the terms of the [MIT License](https://bigdatauniversity.com/mit-license/)."
        }
    ],
    "metadata": {
        "kernelspec": {
            "name": "python3",
            "display_name": "Python 3.6",
            "language": "python"
        },
        "language_info": {
            "name": "python",
            "version": "3.6.9",
            "mimetype": "text/x-python",
            "codemirror_mode": {
                "name": "ipython",
                "version": 3
            },
            "pygments_lexer": "ipython3",
            "nbconvert_exporter": "python",
            "file_extension": ".py"
        }
    },
    "nbformat": 4,
    "nbformat_minor": 4
}
