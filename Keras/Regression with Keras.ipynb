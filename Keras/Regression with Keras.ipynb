{
    "cells": [
        {
            "metadata": {
                "button": false,
                "new_sheet": false,
                "run_control": {
                    "read_only": false
                }
            },
            "cell_type": "markdown",
            "source": "<a href=\"https://cognitiveclass.ai/\"><img src = \"https://s3-api.us-geo.objectstorage.softlayer.net/cf-courses-data/CognitiveClass/DA0101EN/Images/CCLog.png\" width = 200, align = \"center\"></a>\n\n<h1>Regression Models with Keras</h1>"
        },
        {
            "metadata": {
                "button": false,
                "new_sheet": false,
                "run_control": {
                    "read_only": false
                }
            },
            "cell_type": "markdown",
            "source": "## Introduction"
        },
        {
            "metadata": {
                "button": false,
                "new_sheet": false,
                "run_control": {
                    "read_only": false
                }
            },
            "cell_type": "markdown",
            "source": "As we discussed in the videos, despite the popularity of more powerful libraries such as PyToch and TensorFlow, they are not easy to use and have a steep learning curve. So, for people who are just starting to learn deep learning, there is no better library to use other than the Keras library. \n\nKeras is a high-level API for building deep learning models. It has gained favor for its ease of use and syntactic simplicity facilitating fast development. As you will see in this lab and the other labs in this course, building a very complex deep learning network can be achieved with Keras with only few lines of code. You will appreciate Keras even more, once you learn how to build deep models using PyTorch and TensorFlow in the other courses.\n\nSo, in this lab, you will learn how to use the Keras library to build a regression model."
        },
        {
            "metadata": {
                "button": false,
                "new_sheet": false,
                "run_control": {
                    "read_only": false
                }
            },
            "cell_type": "markdown",
            "source": "## Table of Contents\n\n<div class=\"alert alert-block alert-info\" style=\"margin-top: 20px\">\n\n<font size = 3>\n    \n1. <a href=\"#item31\">Download and Clean Dataset</a>  \n2. <a href=\"#item32\">Import Keras</a>  \n3. <a href=\"#item33\">Build a Neural Network</a>  \n4. <a href=\"#item34\">Train and Test the Network</a>  \n\n</font>\n</div>"
        },
        {
            "metadata": {
                "button": false,
                "new_sheet": false,
                "run_control": {
                    "read_only": false
                }
            },
            "cell_type": "markdown",
            "source": "<a id=\"item31\"></a>"
        },
        {
            "metadata": {
                "button": false,
                "new_sheet": false,
                "run_control": {
                    "read_only": false
                }
            },
            "cell_type": "markdown",
            "source": "## Download and Clean Dataset"
        },
        {
            "metadata": {
                "button": false,
                "new_sheet": false,
                "run_control": {
                    "read_only": false
                }
            },
            "cell_type": "markdown",
            "source": "Let's start by importing the <em>pandas</em> and the Numpy libraries."
        },
        {
            "metadata": {
                "button": false,
                "new_sheet": false,
                "run_control": {
                    "read_only": false
                }
            },
            "cell_type": "code",
            "source": "import pandas as pd\nimport numpy as np",
            "execution_count": 1,
            "outputs": []
        },
        {
            "metadata": {
                "button": false,
                "new_sheet": false,
                "run_control": {
                    "read_only": false
                }
            },
            "cell_type": "markdown",
            "source": "We will be playing around with the same dataset that we used in the videos.\n\n<strong>The dataset is about the compressive strength of different samples of concrete based on the volumes of the different ingredients that were used to make them. Ingredients include:</strong>\n\n<strong>1. Cement</strong>\n\n<strong>2. Blast Furnace Slag</strong>\n\n<strong>3. Fly Ash</strong>\n\n<strong>4. Water</strong>\n\n<strong>5. Superplasticizer</strong>\n\n<strong>6. Coarse Aggregate</strong>\n\n<strong>7. Fine Aggregate</strong>"
        },
        {
            "metadata": {
                "button": false,
                "new_sheet": false,
                "run_control": {
                    "read_only": false
                }
            },
            "cell_type": "markdown",
            "source": "Let's download the data and read it into a <em>pandas</em> dataframe."
        },
        {
            "metadata": {
                "button": false,
                "new_sheet": false,
                "run_control": {
                    "read_only": false
                }
            },
            "cell_type": "code",
            "source": "concrete_data = pd.read_csv('https://s3-api.us-geo.objectstorage.softlayer.net/cf-courses-data/CognitiveClass/DL0101EN/labs/data/concrete_data.csv')\nconcrete_data.head()",
            "execution_count": 2,
            "outputs": [
                {
                    "data": {
                        "text/html": "<div>\n<style scoped>\n    .dataframe tbody tr th:only-of-type {\n        vertical-align: middle;\n    }\n\n    .dataframe tbody tr th {\n        vertical-align: top;\n    }\n\n    .dataframe thead th {\n        text-align: right;\n    }\n</style>\n<table border=\"1\" class=\"dataframe\">\n  <thead>\n    <tr style=\"text-align: right;\">\n      <th></th>\n      <th>Cement</th>\n      <th>Blast Furnace Slag</th>\n      <th>Fly Ash</th>\n      <th>Water</th>\n      <th>Superplasticizer</th>\n      <th>Coarse Aggregate</th>\n      <th>Fine Aggregate</th>\n      <th>Age</th>\n      <th>Strength</th>\n    </tr>\n  </thead>\n  <tbody>\n    <tr>\n      <th>0</th>\n      <td>540.0</td>\n      <td>0.0</td>\n      <td>0.0</td>\n      <td>162.0</td>\n      <td>2.5</td>\n      <td>1040.0</td>\n      <td>676.0</td>\n      <td>28</td>\n      <td>79.99</td>\n    </tr>\n    <tr>\n      <th>1</th>\n      <td>540.0</td>\n      <td>0.0</td>\n      <td>0.0</td>\n      <td>162.0</td>\n      <td>2.5</td>\n      <td>1055.0</td>\n      <td>676.0</td>\n      <td>28</td>\n      <td>61.89</td>\n    </tr>\n    <tr>\n      <th>2</th>\n      <td>332.5</td>\n      <td>142.5</td>\n      <td>0.0</td>\n      <td>228.0</td>\n      <td>0.0</td>\n      <td>932.0</td>\n      <td>594.0</td>\n      <td>270</td>\n      <td>40.27</td>\n    </tr>\n    <tr>\n      <th>3</th>\n      <td>332.5</td>\n      <td>142.5</td>\n      <td>0.0</td>\n      <td>228.0</td>\n      <td>0.0</td>\n      <td>932.0</td>\n      <td>594.0</td>\n      <td>365</td>\n      <td>41.05</td>\n    </tr>\n    <tr>\n      <th>4</th>\n      <td>198.6</td>\n      <td>132.4</td>\n      <td>0.0</td>\n      <td>192.0</td>\n      <td>0.0</td>\n      <td>978.4</td>\n      <td>825.5</td>\n      <td>360</td>\n      <td>44.30</td>\n    </tr>\n  </tbody>\n</table>\n</div>",
                        "text/plain": "   Cement  Blast Furnace Slag  Fly Ash  Water  Superplasticizer  \\\n0   540.0                 0.0      0.0  162.0               2.5   \n1   540.0                 0.0      0.0  162.0               2.5   \n2   332.5               142.5      0.0  228.0               0.0   \n3   332.5               142.5      0.0  228.0               0.0   \n4   198.6               132.4      0.0  192.0               0.0   \n\n   Coarse Aggregate  Fine Aggregate  Age  Strength  \n0            1040.0           676.0   28     79.99  \n1            1055.0           676.0   28     61.89  \n2             932.0           594.0  270     40.27  \n3             932.0           594.0  365     41.05  \n4             978.4           825.5  360     44.30  "
                    },
                    "execution_count": 2,
                    "metadata": {},
                    "output_type": "execute_result"
                }
            ]
        },
        {
            "metadata": {
                "button": false,
                "new_sheet": false,
                "run_control": {
                    "read_only": false
                }
            },
            "cell_type": "markdown",
            "source": "So the first concrete sample has 540 cubic meter of cement, 0 cubic meter of blast furnace slag, 0 cubic meter of fly ash, 162 cubic meter of water, 2.5 cubic meter of superplaticizer, 1040 cubic meter of coarse aggregate, 676 cubic meter of fine aggregate. Such a concrete mix which is 28 days old, has a compressive strength of 79.99 MPa. "
        },
        {
            "metadata": {
                "button": false,
                "new_sheet": false,
                "run_control": {
                    "read_only": false
                }
            },
            "cell_type": "markdown",
            "source": "#### Let's check how many data points we have."
        },
        {
            "metadata": {
                "button": false,
                "new_sheet": false,
                "run_control": {
                    "read_only": false
                }
            },
            "cell_type": "code",
            "source": "concrete_data.shape",
            "execution_count": 3,
            "outputs": [
                {
                    "data": {
                        "text/plain": "(1030, 9)"
                    },
                    "execution_count": 3,
                    "metadata": {},
                    "output_type": "execute_result"
                }
            ]
        },
        {
            "metadata": {
                "button": false,
                "new_sheet": false,
                "run_control": {
                    "read_only": false
                }
            },
            "cell_type": "markdown",
            "source": "So, there are approximately 1000 samples to train our model on. Because of the few samples, we have to be careful not to overfit the training data."
        },
        {
            "metadata": {
                "button": false,
                "new_sheet": false,
                "run_control": {
                    "read_only": false
                }
            },
            "cell_type": "markdown",
            "source": "Let's check the dataset for any missing values."
        },
        {
            "metadata": {
                "button": false,
                "new_sheet": false,
                "run_control": {
                    "read_only": false
                }
            },
            "cell_type": "code",
            "source": "concrete_data.describe()",
            "execution_count": 4,
            "outputs": [
                {
                    "data": {
                        "text/html": "<div>\n<style scoped>\n    .dataframe tbody tr th:only-of-type {\n        vertical-align: middle;\n    }\n\n    .dataframe tbody tr th {\n        vertical-align: top;\n    }\n\n    .dataframe thead th {\n        text-align: right;\n    }\n</style>\n<table border=\"1\" class=\"dataframe\">\n  <thead>\n    <tr style=\"text-align: right;\">\n      <th></th>\n      <th>Cement</th>\n      <th>Blast Furnace Slag</th>\n      <th>Fly Ash</th>\n      <th>Water</th>\n      <th>Superplasticizer</th>\n      <th>Coarse Aggregate</th>\n      <th>Fine Aggregate</th>\n      <th>Age</th>\n      <th>Strength</th>\n    </tr>\n  </thead>\n  <tbody>\n    <tr>\n      <th>count</th>\n      <td>1030.000000</td>\n      <td>1030.000000</td>\n      <td>1030.000000</td>\n      <td>1030.000000</td>\n      <td>1030.000000</td>\n      <td>1030.000000</td>\n      <td>1030.000000</td>\n      <td>1030.000000</td>\n      <td>1030.000000</td>\n    </tr>\n    <tr>\n      <th>mean</th>\n      <td>281.167864</td>\n      <td>73.895825</td>\n      <td>54.188350</td>\n      <td>181.567282</td>\n      <td>6.204660</td>\n      <td>972.918932</td>\n      <td>773.580485</td>\n      <td>45.662136</td>\n      <td>35.817961</td>\n    </tr>\n    <tr>\n      <th>std</th>\n      <td>104.506364</td>\n      <td>86.279342</td>\n      <td>63.997004</td>\n      <td>21.354219</td>\n      <td>5.973841</td>\n      <td>77.753954</td>\n      <td>80.175980</td>\n      <td>63.169912</td>\n      <td>16.705742</td>\n    </tr>\n    <tr>\n      <th>min</th>\n      <td>102.000000</td>\n      <td>0.000000</td>\n      <td>0.000000</td>\n      <td>121.800000</td>\n      <td>0.000000</td>\n      <td>801.000000</td>\n      <td>594.000000</td>\n      <td>1.000000</td>\n      <td>2.330000</td>\n    </tr>\n    <tr>\n      <th>25%</th>\n      <td>192.375000</td>\n      <td>0.000000</td>\n      <td>0.000000</td>\n      <td>164.900000</td>\n      <td>0.000000</td>\n      <td>932.000000</td>\n      <td>730.950000</td>\n      <td>7.000000</td>\n      <td>23.710000</td>\n    </tr>\n    <tr>\n      <th>50%</th>\n      <td>272.900000</td>\n      <td>22.000000</td>\n      <td>0.000000</td>\n      <td>185.000000</td>\n      <td>6.400000</td>\n      <td>968.000000</td>\n      <td>779.500000</td>\n      <td>28.000000</td>\n      <td>34.445000</td>\n    </tr>\n    <tr>\n      <th>75%</th>\n      <td>350.000000</td>\n      <td>142.950000</td>\n      <td>118.300000</td>\n      <td>192.000000</td>\n      <td>10.200000</td>\n      <td>1029.400000</td>\n      <td>824.000000</td>\n      <td>56.000000</td>\n      <td>46.135000</td>\n    </tr>\n    <tr>\n      <th>max</th>\n      <td>540.000000</td>\n      <td>359.400000</td>\n      <td>200.100000</td>\n      <td>247.000000</td>\n      <td>32.200000</td>\n      <td>1145.000000</td>\n      <td>992.600000</td>\n      <td>365.000000</td>\n      <td>82.600000</td>\n    </tr>\n  </tbody>\n</table>\n</div>",
                        "text/plain": "            Cement  Blast Furnace Slag      Fly Ash        Water  \\\ncount  1030.000000         1030.000000  1030.000000  1030.000000   \nmean    281.167864           73.895825    54.188350   181.567282   \nstd     104.506364           86.279342    63.997004    21.354219   \nmin     102.000000            0.000000     0.000000   121.800000   \n25%     192.375000            0.000000     0.000000   164.900000   \n50%     272.900000           22.000000     0.000000   185.000000   \n75%     350.000000          142.950000   118.300000   192.000000   \nmax     540.000000          359.400000   200.100000   247.000000   \n\n       Superplasticizer  Coarse Aggregate  Fine Aggregate          Age  \\\ncount       1030.000000       1030.000000     1030.000000  1030.000000   \nmean           6.204660        972.918932      773.580485    45.662136   \nstd            5.973841         77.753954       80.175980    63.169912   \nmin            0.000000        801.000000      594.000000     1.000000   \n25%            0.000000        932.000000      730.950000     7.000000   \n50%            6.400000        968.000000      779.500000    28.000000   \n75%           10.200000       1029.400000      824.000000    56.000000   \nmax           32.200000       1145.000000      992.600000   365.000000   \n\n          Strength  \ncount  1030.000000  \nmean     35.817961  \nstd      16.705742  \nmin       2.330000  \n25%      23.710000  \n50%      34.445000  \n75%      46.135000  \nmax      82.600000  "
                    },
                    "execution_count": 4,
                    "metadata": {},
                    "output_type": "execute_result"
                }
            ]
        },
        {
            "metadata": {
                "button": false,
                "new_sheet": false,
                "run_control": {
                    "read_only": false
                }
            },
            "cell_type": "code",
            "source": "concrete_data.isnull().sum()",
            "execution_count": 5,
            "outputs": [
                {
                    "data": {
                        "text/plain": "Cement                0\nBlast Furnace Slag    0\nFly Ash               0\nWater                 0\nSuperplasticizer      0\nCoarse Aggregate      0\nFine Aggregate        0\nAge                   0\nStrength              0\ndtype: int64"
                    },
                    "execution_count": 5,
                    "metadata": {},
                    "output_type": "execute_result"
                }
            ]
        },
        {
            "metadata": {
                "button": false,
                "new_sheet": false,
                "run_control": {
                    "read_only": false
                }
            },
            "cell_type": "markdown",
            "source": "The data looks very clean and is ready to be used to build our model."
        },
        {
            "metadata": {
                "button": false,
                "new_sheet": false,
                "run_control": {
                    "read_only": false
                }
            },
            "cell_type": "markdown",
            "source": "#### Split data into predictors and target"
        },
        {
            "metadata": {},
            "cell_type": "markdown",
            "source": "The target variable in this problem is the concrete sample strength. Therefore, our predictors will be all the other columns."
        },
        {
            "metadata": {
                "button": false,
                "new_sheet": false,
                "run_control": {
                    "read_only": false
                }
            },
            "cell_type": "code",
            "source": "concrete_data_columns = concrete_data.columns\n\npredictors = concrete_data[concrete_data_columns[concrete_data_columns != 'Strength']] # all columns except Strength\ntarget = concrete_data['Strength'] # Strength column",
            "execution_count": 6,
            "outputs": []
        },
        {
            "metadata": {
                "button": false,
                "new_sheet": false,
                "run_control": {
                    "read_only": false
                }
            },
            "cell_type": "markdown",
            "source": "<a id=\"item2\"></a>"
        },
        {
            "metadata": {
                "button": false,
                "new_sheet": false,
                "run_control": {
                    "read_only": false
                }
            },
            "cell_type": "markdown",
            "source": "Let's do a quick sanity check of the predictors and the target dataframes."
        },
        {
            "metadata": {
                "button": false,
                "new_sheet": false,
                "run_control": {
                    "read_only": false
                }
            },
            "cell_type": "code",
            "source": "predictors.head()",
            "execution_count": 7,
            "outputs": [
                {
                    "data": {
                        "text/html": "<div>\n<style scoped>\n    .dataframe tbody tr th:only-of-type {\n        vertical-align: middle;\n    }\n\n    .dataframe tbody tr th {\n        vertical-align: top;\n    }\n\n    .dataframe thead th {\n        text-align: right;\n    }\n</style>\n<table border=\"1\" class=\"dataframe\">\n  <thead>\n    <tr style=\"text-align: right;\">\n      <th></th>\n      <th>Cement</th>\n      <th>Blast Furnace Slag</th>\n      <th>Fly Ash</th>\n      <th>Water</th>\n      <th>Superplasticizer</th>\n      <th>Coarse Aggregate</th>\n      <th>Fine Aggregate</th>\n      <th>Age</th>\n    </tr>\n  </thead>\n  <tbody>\n    <tr>\n      <th>0</th>\n      <td>540.0</td>\n      <td>0.0</td>\n      <td>0.0</td>\n      <td>162.0</td>\n      <td>2.5</td>\n      <td>1040.0</td>\n      <td>676.0</td>\n      <td>28</td>\n    </tr>\n    <tr>\n      <th>1</th>\n      <td>540.0</td>\n      <td>0.0</td>\n      <td>0.0</td>\n      <td>162.0</td>\n      <td>2.5</td>\n      <td>1055.0</td>\n      <td>676.0</td>\n      <td>28</td>\n    </tr>\n    <tr>\n      <th>2</th>\n      <td>332.5</td>\n      <td>142.5</td>\n      <td>0.0</td>\n      <td>228.0</td>\n      <td>0.0</td>\n      <td>932.0</td>\n      <td>594.0</td>\n      <td>270</td>\n    </tr>\n    <tr>\n      <th>3</th>\n      <td>332.5</td>\n      <td>142.5</td>\n      <td>0.0</td>\n      <td>228.0</td>\n      <td>0.0</td>\n      <td>932.0</td>\n      <td>594.0</td>\n      <td>365</td>\n    </tr>\n    <tr>\n      <th>4</th>\n      <td>198.6</td>\n      <td>132.4</td>\n      <td>0.0</td>\n      <td>192.0</td>\n      <td>0.0</td>\n      <td>978.4</td>\n      <td>825.5</td>\n      <td>360</td>\n    </tr>\n  </tbody>\n</table>\n</div>",
                        "text/plain": "   Cement  Blast Furnace Slag  Fly Ash  Water  Superplasticizer  \\\n0   540.0                 0.0      0.0  162.0               2.5   \n1   540.0                 0.0      0.0  162.0               2.5   \n2   332.5               142.5      0.0  228.0               0.0   \n3   332.5               142.5      0.0  228.0               0.0   \n4   198.6               132.4      0.0  192.0               0.0   \n\n   Coarse Aggregate  Fine Aggregate  Age  \n0            1040.0           676.0   28  \n1            1055.0           676.0   28  \n2             932.0           594.0  270  \n3             932.0           594.0  365  \n4             978.4           825.5  360  "
                    },
                    "execution_count": 7,
                    "metadata": {},
                    "output_type": "execute_result"
                }
            ]
        },
        {
            "metadata": {
                "button": false,
                "new_sheet": false,
                "run_control": {
                    "read_only": false
                }
            },
            "cell_type": "code",
            "source": "target.head()",
            "execution_count": 8,
            "outputs": [
                {
                    "data": {
                        "text/plain": "0    79.99\n1    61.89\n2    40.27\n3    41.05\n4    44.30\nName: Strength, dtype: float64"
                    },
                    "execution_count": 8,
                    "metadata": {},
                    "output_type": "execute_result"
                }
            ]
        },
        {
            "metadata": {
                "button": false,
                "new_sheet": false,
                "run_control": {
                    "read_only": false
                }
            },
            "cell_type": "markdown",
            "source": "Finally, the last step is to normalize the data by substracting the mean and dividing by the standard deviation."
        },
        {
            "metadata": {
                "button": false,
                "new_sheet": false,
                "run_control": {
                    "read_only": false
                }
            },
            "cell_type": "code",
            "source": "predictors_norm = (predictors - predictors.mean()) / predictors.std()\npredictors_norm.head()",
            "execution_count": 9,
            "outputs": [
                {
                    "data": {
                        "text/html": "<div>\n<style scoped>\n    .dataframe tbody tr th:only-of-type {\n        vertical-align: middle;\n    }\n\n    .dataframe tbody tr th {\n        vertical-align: top;\n    }\n\n    .dataframe thead th {\n        text-align: right;\n    }\n</style>\n<table border=\"1\" class=\"dataframe\">\n  <thead>\n    <tr style=\"text-align: right;\">\n      <th></th>\n      <th>Cement</th>\n      <th>Blast Furnace Slag</th>\n      <th>Fly Ash</th>\n      <th>Water</th>\n      <th>Superplasticizer</th>\n      <th>Coarse Aggregate</th>\n      <th>Fine Aggregate</th>\n      <th>Age</th>\n    </tr>\n  </thead>\n  <tbody>\n    <tr>\n      <th>0</th>\n      <td>2.476712</td>\n      <td>-0.856472</td>\n      <td>-0.846733</td>\n      <td>-0.916319</td>\n      <td>-0.620147</td>\n      <td>0.862735</td>\n      <td>-1.217079</td>\n      <td>-0.279597</td>\n    </tr>\n    <tr>\n      <th>1</th>\n      <td>2.476712</td>\n      <td>-0.856472</td>\n      <td>-0.846733</td>\n      <td>-0.916319</td>\n      <td>-0.620147</td>\n      <td>1.055651</td>\n      <td>-1.217079</td>\n      <td>-0.279597</td>\n    </tr>\n    <tr>\n      <th>2</th>\n      <td>0.491187</td>\n      <td>0.795140</td>\n      <td>-0.846733</td>\n      <td>2.174405</td>\n      <td>-1.038638</td>\n      <td>-0.526262</td>\n      <td>-2.239829</td>\n      <td>3.551340</td>\n    </tr>\n    <tr>\n      <th>3</th>\n      <td>0.491187</td>\n      <td>0.795140</td>\n      <td>-0.846733</td>\n      <td>2.174405</td>\n      <td>-1.038638</td>\n      <td>-0.526262</td>\n      <td>-2.239829</td>\n      <td>5.055221</td>\n    </tr>\n    <tr>\n      <th>4</th>\n      <td>-0.790075</td>\n      <td>0.678079</td>\n      <td>-0.846733</td>\n      <td>0.488555</td>\n      <td>-1.038638</td>\n      <td>0.070492</td>\n      <td>0.647569</td>\n      <td>4.976069</td>\n    </tr>\n  </tbody>\n</table>\n</div>",
                        "text/plain": "     Cement  Blast Furnace Slag   Fly Ash     Water  Superplasticizer  \\\n0  2.476712           -0.856472 -0.846733 -0.916319         -0.620147   \n1  2.476712           -0.856472 -0.846733 -0.916319         -0.620147   \n2  0.491187            0.795140 -0.846733  2.174405         -1.038638   \n3  0.491187            0.795140 -0.846733  2.174405         -1.038638   \n4 -0.790075            0.678079 -0.846733  0.488555         -1.038638   \n\n   Coarse Aggregate  Fine Aggregate       Age  \n0          0.862735       -1.217079 -0.279597  \n1          1.055651       -1.217079 -0.279597  \n2         -0.526262       -2.239829  3.551340  \n3         -0.526262       -2.239829  5.055221  \n4          0.070492        0.647569  4.976069  "
                    },
                    "execution_count": 9,
                    "metadata": {},
                    "output_type": "execute_result"
                }
            ]
        },
        {
            "metadata": {},
            "cell_type": "markdown",
            "source": "Let's save the number of predictors to *n_cols* since we will need this number when building our network."
        },
        {
            "metadata": {
                "button": false,
                "new_sheet": false,
                "run_control": {
                    "read_only": false
                }
            },
            "cell_type": "code",
            "source": "n_cols = predictors_norm.shape[1] # number of predictors",
            "execution_count": 10,
            "outputs": []
        },
        {
            "metadata": {
                "button": false,
                "new_sheet": false,
                "run_control": {
                    "read_only": false
                }
            },
            "cell_type": "markdown",
            "source": "<a id=\"item1\"></a>"
        },
        {
            "metadata": {},
            "cell_type": "markdown",
            "source": "<a id='item32'></a>"
        },
        {
            "metadata": {
                "button": false,
                "new_sheet": false,
                "run_control": {
                    "read_only": false
                }
            },
            "cell_type": "markdown",
            "source": "## Import Keras"
        },
        {
            "metadata": {
                "button": false,
                "new_sheet": false,
                "run_control": {
                    "read_only": false
                }
            },
            "cell_type": "markdown",
            "source": "Recall from the videos that Keras normally runs on top of a low-level library such as TensorFlow. This means that to be able to use the Keras library, you will have to install TensorFlow first and when you import the Keras library, it will be explicitly displayed what backend was used to install the Keras library. In CC Labs, we used TensorFlow as the backend to install Keras, so it should clearly print that when we import Keras."
        },
        {
            "metadata": {
                "button": false,
                "new_sheet": false,
                "run_control": {
                    "read_only": false
                }
            },
            "cell_type": "markdown",
            "source": "#### Let's go ahead and import the Keras library"
        },
        {
            "metadata": {},
            "cell_type": "code",
            "source": "#!pip install keras\n#!pip install tensorflow",
            "execution_count": 11,
            "outputs": []
        },
        {
            "metadata": {
                "button": false,
                "new_sheet": false,
                "run_control": {
                    "read_only": false
                }
            },
            "cell_type": "code",
            "source": "import keras",
            "execution_count": 12,
            "outputs": []
        },
        {
            "metadata": {
                "button": false,
                "new_sheet": false,
                "run_control": {
                    "read_only": false
                }
            },
            "cell_type": "markdown",
            "source": "As you can see, the TensorFlow backend was used to install the Keras library."
        },
        {
            "metadata": {
                "button": false,
                "new_sheet": false,
                "run_control": {
                    "read_only": false
                }
            },
            "cell_type": "markdown",
            "source": "Let's import the rest of the packages from the Keras library that we will need to build our regressoin model."
        },
        {
            "metadata": {
                "button": false,
                "new_sheet": false,
                "run_control": {
                    "read_only": false
                }
            },
            "cell_type": "code",
            "source": "from keras.models import Sequential\nfrom keras.layers import Dense",
            "execution_count": 13,
            "outputs": []
        },
        {
            "metadata": {},
            "cell_type": "markdown",
            "source": "<a id='item33'></a>"
        },
        {
            "metadata": {
                "button": false,
                "new_sheet": false,
                "run_control": {
                    "read_only": false
                }
            },
            "cell_type": "markdown",
            "source": "## Build a Neural Network"
        },
        {
            "metadata": {
                "button": false,
                "new_sheet": false,
                "run_control": {
                    "read_only": false
                }
            },
            "cell_type": "markdown",
            "source": "Let's define a function that defines our regression model for us so that we can conveniently call it to create our model."
        },
        {
            "metadata": {
                "button": false,
                "new_sheet": false,
                "run_control": {
                    "read_only": false
                }
            },
            "cell_type": "code",
            "source": "# define regression model\ndef regression_model():\n    # create model\n    model = Sequential()\n    model.add(Dense(50, activation='relu', input_shape=(n_cols,)))\n    model.add(Dense(50, activation='relu'))\n    model.add(Dense(1))\n    \n    # compile model\n    model.compile(optimizer='adam', loss='mean_squared_error')\n    return model",
            "execution_count": 14,
            "outputs": []
        },
        {
            "metadata": {},
            "cell_type": "markdown",
            "source": "The above function create a model that has two hidden layers, each of 50 hidden units."
        },
        {
            "metadata": {
                "button": false,
                "new_sheet": false,
                "run_control": {
                    "read_only": false
                }
            },
            "cell_type": "markdown",
            "source": "<a id=\"item4\"></a>"
        },
        {
            "metadata": {},
            "cell_type": "markdown",
            "source": "<a id='item34'></a>"
        },
        {
            "metadata": {
                "button": false,
                "new_sheet": false,
                "run_control": {
                    "read_only": false
                }
            },
            "cell_type": "markdown",
            "source": "## Train and Test the Network"
        },
        {
            "metadata": {},
            "cell_type": "markdown",
            "source": "Let's call the function now to create our model."
        },
        {
            "metadata": {
                "button": false,
                "new_sheet": false,
                "run_control": {
                    "read_only": false
                }
            },
            "cell_type": "code",
            "source": "# build the model\nmodel = regression_model()",
            "execution_count": 15,
            "outputs": []
        },
        {
            "metadata": {},
            "cell_type": "markdown",
            "source": "Next, we will train and test the model at the same time using the *fit* method. We will leave out 30% of the data for validation and we will train the model for 100 epochs."
        },
        {
            "metadata": {
                "scrolled": true
            },
            "cell_type": "code",
            "source": "# fit the model\nmodel.fit(predictors_norm, target, validation_split=0.3, epochs=100, verbose=2)",
            "execution_count": 16,
            "outputs": [
                {
                    "name": "stdout",
                    "output_type": "stream",
                    "text": "Epoch 1/100\n23/23 - 0s - loss: 1658.7491 - val_loss: 1151.6353\nEpoch 2/100\n23/23 - 0s - loss: 1519.3099 - val_loss: 1039.1438\nEpoch 3/100\n23/23 - 0s - loss: 1315.9875 - val_loss: 871.5624\nEpoch 4/100\n23/23 - 0s - loss: 1023.4609 - val_loss: 655.0636\nEpoch 5/100\n23/23 - 0s - loss: 682.6097 - val_loss: 430.9677\nEpoch 6/100\n23/23 - 0s - loss: 408.4731 - val_loss: 269.8955\nEpoch 7/100\n23/23 - 0s - loss: 278.1569 - val_loss: 202.8731\nEpoch 8/100\n23/23 - 0s - loss: 240.6559 - val_loss: 185.7124\nEpoch 9/100\n23/23 - 0s - loss: 225.8249 - val_loss: 178.6287\nEpoch 10/100\n23/23 - 0s - loss: 213.8872 - val_loss: 177.3974\nEpoch 11/100\n23/23 - 0s - loss: 204.2744 - val_loss: 173.3059\nEpoch 12/100\n23/23 - 0s - loss: 196.1644 - val_loss: 168.4169\nEpoch 13/100\n23/23 - 0s - loss: 190.2567 - val_loss: 164.9396\nEpoch 14/100\n23/23 - 0s - loss: 184.3472 - val_loss: 161.1889\nEpoch 15/100\n23/23 - 0s - loss: 180.1952 - val_loss: 157.7235\nEpoch 16/100\n23/23 - 0s - loss: 175.7943 - val_loss: 155.0154\nEpoch 17/100\n23/23 - 0s - loss: 171.8457 - val_loss: 154.4210\nEpoch 18/100\n23/23 - 0s - loss: 168.4883 - val_loss: 151.3845\nEpoch 19/100\n23/23 - 0s - loss: 164.5355 - val_loss: 150.0825\nEpoch 20/100\n23/23 - 0s - loss: 161.6609 - val_loss: 148.1386\nEpoch 21/100\n23/23 - 0s - loss: 158.7366 - val_loss: 147.8374\nEpoch 22/100\n23/23 - 0s - loss: 156.0064 - val_loss: 146.3818\nEpoch 23/100\n23/23 - 0s - loss: 153.7242 - val_loss: 146.7870\nEpoch 24/100\n23/23 - 0s - loss: 151.9737 - val_loss: 146.5787\nEpoch 25/100\n23/23 - 0s - loss: 149.0408 - val_loss: 145.1678\nEpoch 26/100\n23/23 - 0s - loss: 146.6800 - val_loss: 144.0925\nEpoch 27/100\n23/23 - 0s - loss: 144.9207 - val_loss: 144.7202\nEpoch 28/100\n23/23 - 0s - loss: 143.9310 - val_loss: 145.5092\nEpoch 29/100\n23/23 - 0s - loss: 141.2091 - val_loss: 146.2538\nEpoch 30/100\n23/23 - 0s - loss: 139.6175 - val_loss: 144.4829\nEpoch 31/100\n23/23 - 0s - loss: 137.9397 - val_loss: 147.7045\nEpoch 32/100\n23/23 - 0s - loss: 136.2557 - val_loss: 145.1124\nEpoch 33/100\n23/23 - 0s - loss: 134.5845 - val_loss: 145.0362\nEpoch 34/100\n23/23 - 0s - loss: 133.5061 - val_loss: 147.5352\nEpoch 35/100\n23/23 - 0s - loss: 131.6473 - val_loss: 143.2625\nEpoch 36/100\n23/23 - 0s - loss: 130.1705 - val_loss: 144.8976\nEpoch 37/100\n23/23 - 0s - loss: 129.0510 - val_loss: 149.8188\nEpoch 38/100\n23/23 - 0s - loss: 126.6247 - val_loss: 144.9292\nEpoch 39/100\n23/23 - 0s - loss: 125.0712 - val_loss: 149.3551\nEpoch 40/100\n23/23 - 0s - loss: 123.0509 - val_loss: 150.5742\nEpoch 41/100\n23/23 - 0s - loss: 122.0342 - val_loss: 150.6000\nEpoch 42/100\n23/23 - 0s - loss: 120.2202 - val_loss: 147.4142\nEpoch 43/100\n23/23 - 0s - loss: 118.2861 - val_loss: 149.1881\nEpoch 44/100\n23/23 - 0s - loss: 116.8863 - val_loss: 152.7837\nEpoch 45/100\n23/23 - 0s - loss: 115.7321 - val_loss: 149.4326\nEpoch 46/100\n23/23 - 0s - loss: 113.8055 - val_loss: 148.5224\nEpoch 47/100\n23/23 - 0s - loss: 112.1408 - val_loss: 147.4041\nEpoch 48/100\n23/23 - 0s - loss: 110.5136 - val_loss: 150.7287\nEpoch 49/100\n23/23 - 0s - loss: 109.0707 - val_loss: 148.4311\nEpoch 50/100\n23/23 - 0s - loss: 106.7821 - val_loss: 147.7967\nEpoch 51/100\n23/23 - 0s - loss: 105.4815 - val_loss: 148.5861\nEpoch 52/100\n23/23 - 0s - loss: 103.5837 - val_loss: 149.5970\nEpoch 53/100\n23/23 - 0s - loss: 101.3274 - val_loss: 146.8998\nEpoch 54/100\n23/23 - 0s - loss: 98.9074 - val_loss: 142.6037\nEpoch 55/100\n23/23 - 0s - loss: 96.3544 - val_loss: 145.0887\nEpoch 56/100\n23/23 - 0s - loss: 94.1879 - val_loss: 142.3826\nEpoch 57/100\n23/23 - 0s - loss: 92.3127 - val_loss: 147.5904\nEpoch 58/100\n23/23 - 0s - loss: 90.0080 - val_loss: 141.5949\nEpoch 59/100\n23/23 - 0s - loss: 87.9035 - val_loss: 143.7113\nEpoch 60/100\n23/23 - 0s - loss: 85.6045 - val_loss: 139.8627\nEpoch 61/100\n23/23 - 0s - loss: 83.1272 - val_loss: 138.2102\nEpoch 62/100\n23/23 - 0s - loss: 81.8055 - val_loss: 139.6026\nEpoch 63/100\n23/23 - 0s - loss: 79.5475 - val_loss: 139.1931\nEpoch 64/100\n23/23 - 0s - loss: 76.5870 - val_loss: 137.6340\nEpoch 65/100\n23/23 - 0s - loss: 75.0780 - val_loss: 138.1892\nEpoch 66/100\n23/23 - 0s - loss: 72.9063 - val_loss: 134.5637\nEpoch 67/100\n23/23 - 0s - loss: 71.4727 - val_loss: 136.7516\nEpoch 68/100\n23/23 - 0s - loss: 69.3054 - val_loss: 131.2247\nEpoch 69/100\n23/23 - 0s - loss: 67.4887 - val_loss: 131.3178\nEpoch 70/100\n23/23 - 0s - loss: 66.1130 - val_loss: 137.6357\nEpoch 71/100\n23/23 - 0s - loss: 64.0744 - val_loss: 128.0526\nEpoch 72/100\n23/23 - 0s - loss: 62.2378 - val_loss: 136.0670\nEpoch 73/100\n23/23 - 0s - loss: 60.8383 - val_loss: 129.1703\nEpoch 74/100\n23/23 - 0s - loss: 59.4915 - val_loss: 128.8751\nEpoch 75/100\n23/23 - 0s - loss: 57.8813 - val_loss: 129.5040\nEpoch 76/100\n23/23 - 0s - loss: 56.6342 - val_loss: 128.7621\nEpoch 77/100\n23/23 - 0s - loss: 55.6939 - val_loss: 129.9139\nEpoch 78/100\n23/23 - 0s - loss: 54.1028 - val_loss: 130.6187\nEpoch 79/100\n23/23 - 0s - loss: 52.8053 - val_loss: 128.7551\nEpoch 80/100\n23/23 - 0s - loss: 52.6936 - val_loss: 122.0750\nEpoch 81/100\n23/23 - 0s - loss: 50.9894 - val_loss: 122.7236\nEpoch 82/100\n23/23 - 0s - loss: 49.8575 - val_loss: 124.0164\nEpoch 83/100\n23/23 - 0s - loss: 48.9063 - val_loss: 118.8644\nEpoch 84/100\n23/23 - 0s - loss: 47.6390 - val_loss: 120.9112\nEpoch 85/100\n23/23 - 0s - loss: 47.2495 - val_loss: 116.1829\nEpoch 86/100\n23/23 - 0s - loss: 46.7111 - val_loss: 118.6193\nEpoch 87/100\n23/23 - 0s - loss: 45.6632 - val_loss: 118.3105\nEpoch 88/100\n23/23 - 0s - loss: 44.0381 - val_loss: 116.1091\nEpoch 89/100\n23/23 - 0s - loss: 43.4172 - val_loss: 116.8252\nEpoch 90/100\n23/23 - 0s - loss: 43.1776 - val_loss: 115.5081\nEpoch 91/100\n23/23 - 0s - loss: 42.1934 - val_loss: 119.6365\nEpoch 92/100\n23/23 - 0s - loss: 41.3392 - val_loss: 108.3920\nEpoch 93/100\n23/23 - 0s - loss: 40.5696 - val_loss: 116.6409\nEpoch 94/100\n23/23 - 0s - loss: 40.3644 - val_loss: 111.7310\nEpoch 95/100\n23/23 - 0s - loss: 39.0259 - val_loss: 118.9837\nEpoch 96/100\n23/23 - 0s - loss: 38.6625 - val_loss: 107.3379\nEpoch 97/100\n23/23 - 0s - loss: 38.2509 - val_loss: 117.0903\nEpoch 98/100\n23/23 - 0s - loss: 37.9765 - val_loss: 118.0682\nEpoch 99/100\n23/23 - 0s - loss: 37.3747 - val_loss: 109.2758\nEpoch 100/100\n23/23 - 0s - loss: 36.7654 - val_loss: 109.9191\n"
                },
                {
                    "data": {
                        "text/plain": "<tensorflow.python.keras.callbacks.History at 0x7fd9100700f0>"
                    },
                    "execution_count": 16,
                    "metadata": {},
                    "output_type": "execute_result"
                }
            ]
        },
        {
            "metadata": {
                "button": false,
                "new_sheet": false,
                "run_control": {
                    "read_only": false
                }
            },
            "cell_type": "markdown",
            "source": "<strong>You can refer to this [link](https://keras.io/models/sequential/) to learn about other functions that you can use for prediction or evaluation.</strong>"
        },
        {
            "metadata": {
                "button": false,
                "new_sheet": false,
                "run_control": {
                    "read_only": false
                }
            },
            "cell_type": "markdown",
            "source": "Feel free to vary the following and note what impact each change has on the model's performance:\n\n1. Increase or decreate number of neurons in hidden layers\n2. Add more hidden layers\n3. Increase number of epochs"
        },
        {
            "metadata": {
                "button": false,
                "new_sheet": false,
                "run_control": {
                    "read_only": false
                }
            },
            "cell_type": "markdown",
            "source": "### Thank you for completing this lab!\n\nThis notebook was created by [Alex Aklson](https://www.linkedin.com/in/aklson/). I hope you found this lab interesting and educational. Feel free to contact me if you have any questions!"
        },
        {
            "metadata": {
                "button": false,
                "new_sheet": false,
                "run_control": {
                    "read_only": false
                }
            },
            "cell_type": "markdown",
            "source": "This notebook is part of a course on **Coursera** called *Introduction to Deep Learning & Neural Networks with Keras*. If you accessed this notebook outside the course, you can take this course online by clicking [here](https://cocl.us/DL0101EN_Coursera_Week3_LAB1)."
        },
        {
            "metadata": {
                "button": false,
                "new_sheet": false,
                "run_control": {
                    "read_only": false
                }
            },
            "cell_type": "markdown",
            "source": "<hr>\n\nCopyright &copy; 2019 [IBM Developer Skills Network](https://cognitiveclass.ai/?utm_source=bducopyrightlink&utm_medium=dswb&utm_campaign=bdu). This notebook and its source code are released under the terms of the [MIT License](https://bigdatauniversity.com/mit-license/)."
        }
    ],
    "metadata": {
        "kernelspec": {
            "name": "python3",
            "display_name": "Python 3.6",
            "language": "python"
        },
        "language_info": {
            "name": "python",
            "version": "3.6.9",
            "mimetype": "text/x-python",
            "codemirror_mode": {
                "name": "ipython",
                "version": 3
            },
            "pygments_lexer": "ipython3",
            "nbconvert_exporter": "python",
            "file_extension": ".py"
        }
    },
    "nbformat": 4,
    "nbformat_minor": 4
}