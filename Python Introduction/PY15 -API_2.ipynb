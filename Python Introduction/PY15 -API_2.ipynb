{
    "cells": [
        {
            "metadata": {},
            "cell_type": "markdown",
            "source": "<a href=\"https://cognitiveclass.ai/\">\n    <img src=\"https://s3-api.us-geo.objectstorage.softlayer.net/cf-courses-data/CognitiveClass/PY0101EN/Ad/CCLog.png\" width=\"200\" align=\"center\">\n</a>\n\n<h1 align=\"center\"><font size=\"5\"><b>Application Programming Interface</b></font></h1>"
        },
        {
            "metadata": {},
            "cell_type": "markdown",
            "source": "<p>In this notebook, you will learn to convert an audio file of an English speaker to text using a Speech to Text API. Then you will translate the English version to a Spanish version using a Language Translator API. <b>Note:</b> You must obtain the API keys and enpoints to complete the lab.</p>"
        },
        {
            "metadata": {},
            "cell_type": "markdown",
            "source": "<div class=\"alert alert-block alert-info\" style=\"margin-top: 20px\">\n    <a href=\"https://cocl.us/topNotebooksPython101Coursera\">\n         <img src=\"https://s3-api.us-geo.objectstorage.softlayer.net/cf-courses-data/CognitiveClass/PY0101EN/Ad/TopAd.png\" width=\"750\" align=\"center\">\n    </a>\n</div>"
        },
        {
            "metadata": {},
            "cell_type": "markdown",
            "source": "<div class=\"alert alert-block alert-info\" style=\"margin-top: 20px\">\n<h2>Table of Contents</h2>\n<ul>\n    <li><a href=\"#ref0\">Speech To Text</a></li>\n    <li><a href=\"#ref1\">Language Translator</a></li>\n    <li><a href=\"#ref2\">Exercise</a></li>\n</ul>\n<br>\n<p>Estimated Time Needed: <strong>25 min</strong></p>\n</div>"
        },
        {
            "metadata": {
                "jupyter": {
                    "outputs_hidden": false
                }
            },
            "cell_type": "code",
            "source": "#you will need the following library \n!pip install ibm_watson wget",
            "execution_count": 1,
            "outputs": [
                {
                    "output_type": "stream",
                    "text": "Collecting ibm_watson\n\u001b[?25l  Downloading https://files.pythonhosted.org/packages/dc/da/10f8774b319acdda29885931c01fae862622519bff492957c73b0ba84743/ibm-watson-4.5.0.tar.gz (370kB)\n\u001b[K     |\u2588\u2588\u2588\u2588\u2588\u2588\u2588\u2588\u2588\u2588\u2588\u2588\u2588\u2588\u2588\u2588\u2588\u2588\u2588\u2588\u2588\u2588\u2588\u2588\u2588\u2588\u2588\u2588\u2588\u2588\u2588\u2588| 378kB 7.1MB/s eta 0:00:01\n\u001b[?25hCollecting wget\n  Downloading https://files.pythonhosted.org/packages/47/6a/62e288da7bcda82b935ff0c6cfe542970f04e29c756b0e147251b2fb251f/wget-3.2.zip\nRequirement already satisfied: requests<3.0,>=2.0 in /opt/conda/envs/Python36/lib/python3.6/site-packages (from ibm_watson) (2.21.0)\nRequirement already satisfied: python_dateutil>=2.5.3 in /opt/conda/envs/Python36/lib/python3.6/site-packages (from ibm_watson) (2.7.5)\nCollecting websocket-client==0.48.0 (from ibm_watson)\n\u001b[?25l  Downloading https://files.pythonhosted.org/packages/8a/a1/72ef9aa26cfe1a75cee09fc1957e4723add9de098c15719416a1ee89386b/websocket_client-0.48.0-py2.py3-none-any.whl (198kB)\n\u001b[K     |\u2588\u2588\u2588\u2588\u2588\u2588\u2588\u2588\u2588\u2588\u2588\u2588\u2588\u2588\u2588\u2588\u2588\u2588\u2588\u2588\u2588\u2588\u2588\u2588\u2588\u2588\u2588\u2588\u2588\u2588\u2588\u2588| 204kB 28.2MB/s eta 0:00:01\n\u001b[?25hCollecting ibm_cloud_sdk_core==1.5.1 (from ibm_watson)\n  Downloading https://files.pythonhosted.org/packages/b7/f6/10d5271c807d73d236e6ae07b68035fed78b28b5ab836704d34097af3986/ibm-cloud-sdk-core-1.5.1.tar.gz\nRequirement already satisfied: chardet<3.1.0,>=3.0.2 in /opt/conda/envs/Python36/lib/python3.6/site-packages (from requests<3.0,>=2.0->ibm_watson) (3.0.4)\nRequirement already satisfied: idna<2.9,>=2.5 in /opt/conda/envs/Python36/lib/python3.6/site-packages (from requests<3.0,>=2.0->ibm_watson) (2.8)\nRequirement already satisfied: urllib3<1.25,>=1.21.1 in /opt/conda/envs/Python36/lib/python3.6/site-packages (from requests<3.0,>=2.0->ibm_watson) (1.24.1)\nRequirement already satisfied: certifi>=2017.4.17 in /opt/conda/envs/Python36/lib/python3.6/site-packages (from requests<3.0,>=2.0->ibm_watson) (2020.6.20)\nRequirement already satisfied: six>=1.5 in /opt/conda/envs/Python36/lib/python3.6/site-packages (from python_dateutil>=2.5.3->ibm_watson) (1.12.0)\nCollecting PyJWT>=1.7.1 (from ibm_cloud_sdk_core==1.5.1->ibm_watson)\n  Downloading https://files.pythonhosted.org/packages/87/8b/6a9f14b5f781697e51259d81657e6048fd31a113229cf346880bb7545565/PyJWT-1.7.1-py2.py3-none-any.whl\nBuilding wheels for collected packages: ibm-watson, wget, ibm-cloud-sdk-core\n  Building wheel for ibm-watson (setup.py) ... \u001b[?25ldone\n\u001b[?25h  Stored in directory: /home/dsxuser/.cache/pip/wheels/71/9a/0a/9b3ca8eca69bc5362eb04709a750b30055a9d27818fd0c9494\n  Building wheel for wget (setup.py) ... \u001b[?25ldone\n\u001b[?25h  Stored in directory: /home/dsxuser/.cache/pip/wheels/40/15/30/7d8f7cea2902b4db79e3fea550d7d7b85ecb27ef992b618f3f\n  Building wheel for ibm-cloud-sdk-core (setup.py) ... \u001b[?25ldone\n\u001b[?25h  Stored in directory: /home/dsxuser/.cache/pip/wheels/6a/42/50/f96888116b329578304f9dda4693cef6f3e76e18272d22cb6c\nSuccessfully built ibm-watson wget ibm-cloud-sdk-core\nInstalling collected packages: websocket-client, PyJWT, ibm-cloud-sdk-core, ibm-watson, wget\nSuccessfully installed PyJWT-1.7.1 ibm-cloud-sdk-core-1.5.1 ibm-watson-4.5.0 websocket-client-0.48.0 wget-3.2\n",
                    "name": "stdout"
                }
            ]
        },
        {
            "metadata": {},
            "cell_type": "markdown",
            "source": "<h2 id=\"ref0\">Speech to Text</h2>"
        },
        {
            "metadata": {},
            "cell_type": "markdown",
            "source": "<p>First we import <code>SpeechToTextV1</code> from <code>ibm_watson</code>.For more information on the API, please click on this <a href=\"https://cloud.ibm.com/apidocs/speech-to-text?code=python\">link</a></p>"
        },
        {
            "metadata": {
                "jupyter": {
                    "outputs_hidden": false
                }
            },
            "cell_type": "code",
            "source": "from ibm_watson import SpeechToTextV1 \nimport json\nfrom ibm_cloud_sdk_core.authenticators import IAMAuthenticator",
            "execution_count": 2,
            "outputs": []
        },
        {
            "metadata": {},
            "cell_type": "markdown",
            "source": "<p>The service endpoint is based on the location of the service instance, we store the information in the variable URL. To find out which URL to use, view the service credentials.</p>"
        },
        {
            "metadata": {},
            "cell_type": "code",
            "source": "url_s2t = \"https://api.us-south.speech-to-text.watson.cloud.ibm.com/instances/965e9cee-2512-4d5e-bbdf-0c30ac813af0\"",
            "execution_count": 11,
            "outputs": []
        },
        {
            "metadata": {},
            "cell_type": "markdown",
            "source": "<p>You require an API key, and you can obtain the key on the <a href=\"https://cloud.ibm.com/resources\">Dashboard </a>.</p>"
        },
        {
            "metadata": {
                "jupyter": {
                    "outputs_hidden": false
                }
            },
            "cell_type": "code",
            "source": "iam_apikey_s2t = \"03zD-yOCEg-yhq0j6IxIUvRdxDeSJXe2ERNRAE9W5NaB\"",
            "execution_count": 12,
            "outputs": []
        },
        {
            "metadata": {},
            "cell_type": "markdown",
            "source": "<p>You create a <a href=\"http://watson-developer-cloud.github.io/python-sdk/v0.25.0/apis/watson_developer_cloud.speech_to_text_v1.html\">Speech To Text Adapter object</a> the parameters are the  endpoint and API key.</p>"
        },
        {
            "metadata": {},
            "cell_type": "code",
            "source": "authenticator = IAMAuthenticator(iam_apikey_s2t)\ns2t = SpeechToTextV1(authenticator=authenticator)\ns2t.set_service_url(url_s2t)\ns2t",
            "execution_count": 13,
            "outputs": [
                {
                    "output_type": "execute_result",
                    "execution_count": 13,
                    "data": {
                        "text/plain": "<ibm_watson.speech_to_text_v1_adapter.SpeechToTextV1Adapter at 0x7f70ec548e10>"
                    },
                    "metadata": {}
                }
            ]
        },
        {
            "metadata": {},
            "cell_type": "markdown",
            "source": "<p>Lets download the audio file that we will use to convert into text.</p>"
        },
        {
            "metadata": {},
            "cell_type": "code",
            "source": "!wget -O PolynomialRegressionandPipelines.mp3  https://s3-api.us-geo.objectstorage.softlayer.net/cf-courses-data/CognitiveClass/PY0101EN/labs/PolynomialRegressionandPipelines.mp3",
            "execution_count": 6,
            "outputs": [
                {
                    "output_type": "stream",
                    "text": "--2020-07-05 20:17:38--  https://s3-api.us-geo.objectstorage.softlayer.net/cf-courses-data/CognitiveClass/PY0101EN/labs/PolynomialRegressionandPipelines.mp3\nResolving s3-api.us-geo.objectstorage.softlayer.net (s3-api.us-geo.objectstorage.softlayer.net)... 67.228.254.196\nConnecting to s3-api.us-geo.objectstorage.softlayer.net (s3-api.us-geo.objectstorage.softlayer.net)|67.228.254.196|:443... connected.\nHTTP request sent, awaiting response... 200 OK\nLength: 4234179 (4.0M) [audio/mpeg]\nSaving to: \u2018PolynomialRegressionandPipelines.mp3\u2019\n\n100%[======================================>] 4,234,179   --.-K/s   in 0.1s    \n\n2020-07-05 20:17:38 (34.7 MB/s) - \u2018PolynomialRegressionandPipelines.mp3\u2019 saved [4234179/4234179]\n\n",
                    "name": "stdout"
                }
            ]
        },
        {
            "metadata": {},
            "cell_type": "markdown",
            "source": "<p>We have the path of the wav file we would like to convert to text</p>"
        },
        {
            "metadata": {
                "jupyter": {
                    "outputs_hidden": false
                }
            },
            "cell_type": "code",
            "source": "filename='PolynomialRegressionandPipelines.mp3'",
            "execution_count": 9,
            "outputs": []
        },
        {
            "metadata": {},
            "cell_type": "markdown",
            "source": "<p>We create the file object <code>wav</code> with the wav file using  <code>open</code> ; we set the <code>mode</code> to  \"rb\" ,  this is similar to read mode, but it ensures the file is in binary mode.We use the method <code>recognize</code> to return the recognized text. The parameter audio is the file object <code>wav</code>, the parameter <code>content_type</code> is the format of the audio file.</p>"
        },
        {
            "metadata": {
                "jupyter": {
                    "outputs_hidden": false
                }
            },
            "cell_type": "code",
            "source": "with open(filename, mode=\"rb\")  as wav:\n    response = s2t.recognize(audio=wav, content_type='audio/mp3')",
            "execution_count": 14,
            "outputs": []
        },
        {
            "metadata": {},
            "cell_type": "markdown",
            "source": "<p>The attribute result contains a dictionary that includes the translation:</p>"
        },
        {
            "metadata": {
                "scrolled": true
            },
            "cell_type": "code",
            "source": "response.result",
            "execution_count": 15,
            "outputs": [
                {
                    "output_type": "execute_result",
                    "execution_count": 15,
                    "data": {
                        "text/plain": "{'result_index': 0,\n 'results': [{'final': True,\n   'alternatives': [{'transcript': 'in this video we will cover polynomial regression and pipelines ',\n     'confidence': 0.94}]},\n  {'final': True,\n   'alternatives': [{'transcript': \"what do we do when a linear model is not the best fit for our data let's look into another type of regression model the polynomial regression we transform our data into a polynomial then use linear regression to fit the parameters that we will discuss pipelines pipelines are way to simplify your code \",\n     'confidence': 0.9}]},\n  {'final': True,\n   'alternatives': [{'transcript': \"polynomial regression is a special case of the general linear regression this method is beneficial for describing curvilinear relationships what is a curvilinear relationship it's what you get by squaring or setting higher order terms of the predictor variables in the model transforming the data the model can be quadratic which means the predictor variable in the model is squared we use a bracket to indicated as an exponent this is the second order polynomial regression with a figure representing the function \",\n     'confidence': 0.95}]},\n  {'final': True,\n   'alternatives': [{'transcript': 'the model can be cubic which means the predictor variable is cute this is the third order polynomial regression we see by examining the figure that the function has more variation ',\n     'confidence': 0.95}]},\n  {'final': True,\n   'alternatives': [{'transcript': \"there also exists higher order polynomial regressions when a good fit hasn't been achieved by second or third order we can see in figures how much the graphs change when we change the order of the polynomial regression the degree of the regression makes a big difference and can result in a better fit if you pick the right value in all cases the relationship between the variable in the parameter is always linear \",\n     'confidence': 0.91}]},\n  {'final': True,\n   'alternatives': [{'transcript': \"let's look at an example from our data we generate a polynomial regression model \",\n     'confidence': 0.89}]},\n  {'final': True,\n   'alternatives': [{'transcript': 'in python we do this by using the poly fit function in this example we develop a third order polynomial regression model base we can print out the model symbolic form for the model is given by the following expression ',\n     'confidence': 0.92}]},\n  {'final': True,\n   'alternatives': [{'transcript': \"negative one point five five seven X. one cute plus two hundred four point eight X. one squared plus eight thousand nine hundred sixty five X. one plus one point three seven times ten to the power of five we can also have multi dimensional polynomial linear regression the expression can get complicated here are just some of the terms for two dimensional second order polynomial none pies poly fit function cannot perform this type of regression we use the preprocessing librarian scikit learn to create a polynomial feature object the constructor takes the degree of the polynomial as a parameter then we transform the features into a polynomial feature with the fit underscore transform method let's do a more intuitive example \",\n     'confidence': 0.9}]},\n  {'final': True,\n   'alternatives': [{'transcript': 'consider the feature shown here applying the method we transform the data we now have a new set of features that are transformed version of our original features as that I mention of the data gets larger we may want to normalize multiple features as scikit learn instead we can use the preprocessing module to simplify many tasks for example we can standardize each feature simultaneously we import standard scaler we train the object fit the scale object then transform the data into a new data frame on a rate X. underscore scale there are more normalization methods available in the pre processing library as well as other transformations we can simplify our code by using a pipeline library there are many steps to getting a prediction for example normalization polynomial transform and linear regression we simplify the process using a pipeline ',\n     'confidence': 0.9}]},\n  {'final': True,\n   'alternatives': [{'transcript': 'pipeline sequentially perform a series of transformations the last step carries out a prediction first we import all the modules we need then we import the library pipeline we create a list of topples the first element in the topple contains the name of the estimator model the second element contains model constructor we input the list in the pipeline constructor we now have a pipeline object we can train the pipeline by applying the train method to the pipeline object we can also produce a prediction as well ',\n     'confidence': 0.89}]},\n  {'final': True,\n   'alternatives': [{'transcript': 'the method normalizes the data performs a polynomial transform then outputs a prediction ',\n     'confidence': 0.89}]}]}"
                    },
                    "metadata": {}
                }
            ]
        },
        {
            "metadata": {},
            "cell_type": "code",
            "source": "from pandas.io.json import json_normalize\n\njson_normalize(response.result['results'],\"alternatives\")",
            "execution_count": 16,
            "outputs": [
                {
                    "output_type": "execute_result",
                    "execution_count": 16,
                    "data": {
                        "text/plain": "    confidence                                         transcript\n0         0.94  in this video we will cover polynomial regress...\n1         0.90  what do we do when a linear model is not the b...\n2         0.95  polynomial regression is a special case of the...\n3         0.95  the model can be cubic which means the predict...\n4         0.91  there also exists higher order polynomial regr...\n5         0.89  let's look at an example from our data we gene...\n6         0.92  in python we do this by using the poly fit fun...\n7         0.90  negative one point five five seven X. one cute...\n8         0.90  consider the feature shown here applying the m...\n9         0.89  pipeline sequentially perform a series of tran...\n10        0.89  the method normalizes the data performs a poly...",
                        "text/html": "<div>\n<style scoped>\n    .dataframe tbody tr th:only-of-type {\n        vertical-align: middle;\n    }\n\n    .dataframe tbody tr th {\n        vertical-align: top;\n    }\n\n    .dataframe thead th {\n        text-align: right;\n    }\n</style>\n<table border=\"1\" class=\"dataframe\">\n  <thead>\n    <tr style=\"text-align: right;\">\n      <th></th>\n      <th>confidence</th>\n      <th>transcript</th>\n    </tr>\n  </thead>\n  <tbody>\n    <tr>\n      <th>0</th>\n      <td>0.94</td>\n      <td>in this video we will cover polynomial regress...</td>\n    </tr>\n    <tr>\n      <th>1</th>\n      <td>0.90</td>\n      <td>what do we do when a linear model is not the b...</td>\n    </tr>\n    <tr>\n      <th>2</th>\n      <td>0.95</td>\n      <td>polynomial regression is a special case of the...</td>\n    </tr>\n    <tr>\n      <th>3</th>\n      <td>0.95</td>\n      <td>the model can be cubic which means the predict...</td>\n    </tr>\n    <tr>\n      <th>4</th>\n      <td>0.91</td>\n      <td>there also exists higher order polynomial regr...</td>\n    </tr>\n    <tr>\n      <th>5</th>\n      <td>0.89</td>\n      <td>let's look at an example from our data we gene...</td>\n    </tr>\n    <tr>\n      <th>6</th>\n      <td>0.92</td>\n      <td>in python we do this by using the poly fit fun...</td>\n    </tr>\n    <tr>\n      <th>7</th>\n      <td>0.90</td>\n      <td>negative one point five five seven X. one cute...</td>\n    </tr>\n    <tr>\n      <th>8</th>\n      <td>0.90</td>\n      <td>consider the feature shown here applying the m...</td>\n    </tr>\n    <tr>\n      <th>9</th>\n      <td>0.89</td>\n      <td>pipeline sequentially perform a series of tran...</td>\n    </tr>\n    <tr>\n      <th>10</th>\n      <td>0.89</td>\n      <td>the method normalizes the data performs a poly...</td>\n    </tr>\n  </tbody>\n</table>\n</div>"
                    },
                    "metadata": {}
                }
            ]
        },
        {
            "metadata": {},
            "cell_type": "code",
            "source": "response",
            "execution_count": 17,
            "outputs": [
                {
                    "output_type": "execute_result",
                    "execution_count": 17,
                    "data": {
                        "text/plain": "<ibm_cloud_sdk_core.detailed_response.DetailedResponse at 0x7f70ec3cad68>"
                    },
                    "metadata": {}
                }
            ]
        },
        {
            "metadata": {},
            "cell_type": "markdown",
            "source": "<p>We can obtain the recognized text and assign it to the variable <code>recognized_text</code>:</p>"
        },
        {
            "metadata": {
                "jupyter": {
                    "outputs_hidden": false
                }
            },
            "cell_type": "code",
            "source": "recognized_text=response.result['results'][0][\"alternatives\"][0][\"transcript\"]\ntype(recognized_text)",
            "execution_count": 18,
            "outputs": [
                {
                    "output_type": "execute_result",
                    "execution_count": 18,
                    "data": {
                        "text/plain": "str"
                    },
                    "metadata": {}
                }
            ]
        },
        {
            "metadata": {},
            "cell_type": "markdown",
            "source": "<h2 id=\"ref1\">Language Translator</h2>"
        },
        {
            "metadata": {},
            "cell_type": "markdown",
            "source": "<p>First we import <code>LanguageTranslatorV3</code> from ibm_watson. For more information on the API click <a href=\"https://cloud.ibm.com/apidocs/speech-to-text?code=python\"> here</a></p>"
        },
        {
            "metadata": {},
            "cell_type": "code",
            "source": "from ibm_watson import LanguageTranslatorV3",
            "execution_count": 19,
            "outputs": []
        },
        {
            "metadata": {},
            "cell_type": "markdown",
            "source": "<p>The service endpoint is based on the location of the service instance, we store the information in the variable URL. To find out which URL to use, view the service credentials.</p>"
        },
        {
            "metadata": {
                "jupyter": {
                    "outputs_hidden": false
                }
            },
            "cell_type": "code",
            "source": "url_lt='https://api.us-south.language-translator.watson.cloud.ibm.com/instances/e490bbff-88e4-4f87-a392-dd89a0b5fb87'",
            "execution_count": 22,
            "outputs": []
        },
        {
            "metadata": {},
            "cell_type": "markdown",
            "source": "<p>You require an API key, and you can obtain the key on the <a href=\"https://cloud.ibm.com/resources\">Dashboard</a>.</p>"
        },
        {
            "metadata": {
                "jupyter": {
                    "outputs_hidden": false
                }
            },
            "cell_type": "code",
            "source": "apikey_lt='QFoRaPtTRT6s6xFhcgKyTmT23oxDomsniZeT2VISPGxH'",
            "execution_count": 23,
            "outputs": []
        },
        {
            "metadata": {},
            "cell_type": "markdown",
            "source": "<p>API requests require a version parameter that takes a date in the format version=YYYY-MM-DD. This lab describes the current version of Language Translator, 2018-05-01</p>"
        },
        {
            "metadata": {
                "jupyter": {
                    "outputs_hidden": false
                }
            },
            "cell_type": "code",
            "source": "version_lt='2018-05-01'",
            "execution_count": 24,
            "outputs": []
        },
        {
            "metadata": {},
            "cell_type": "markdown",
            "source": "<p>we create a  Language Translator object <code>language_translator</code>:</p>"
        },
        {
            "metadata": {
                "jupyter": {
                    "outputs_hidden": false
                }
            },
            "cell_type": "code",
            "source": "authenticator = IAMAuthenticator(apikey_lt)\nlanguage_translator = LanguageTranslatorV3(version=version_lt,authenticator=authenticator)\nlanguage_translator.set_service_url(url_lt)\nlanguage_translator",
            "execution_count": 25,
            "outputs": [
                {
                    "output_type": "execute_result",
                    "execution_count": 25,
                    "data": {
                        "text/plain": "<ibm_watson.language_translator_v3.LanguageTranslatorV3 at 0x7f70d20e9160>"
                    },
                    "metadata": {}
                }
            ]
        },
        {
            "metadata": {},
            "cell_type": "markdown",
            "source": "<p>We can get a Lists the languages that the service can identify.\nThe method Returns the language code.  For example English (en) to  Spanis (es) and name of each language.</p>"
        },
        {
            "metadata": {
                "jupyter": {
                    "outputs_hidden": false
                },
                "scrolled": true
            },
            "cell_type": "code",
            "source": "from pandas.io.json import json_normalize\n\njson_normalize(language_translator.list_identifiable_languages().get_result(), \"languages\")",
            "execution_count": 26,
            "outputs": [
                {
                    "output_type": "execute_result",
                    "execution_count": 26,
                    "data": {
                        "text/plain": "   language                                  name\n0        af                             Afrikaans\n1        ar                                Arabic\n2        az                           Azerbaijani\n3        ba                               Bashkir\n4        be                            Belarusian\n5        bg                             Bulgarian\n6        bn                               Bengali\n7        ca                               Catalan\n8        cs                                 Czech\n9        cv                               Chuvash\n10       da                                Danish\n11       de                                German\n12       el                                 Greek\n13       en                               English\n14       eo                             Esperanto\n15       es                               Spanish\n16       et                              Estonian\n17       eu                                Basque\n18       fa                               Persian\n19       fi                               Finnish\n20       fr                                French\n21       ga                                 Irish\n22       gu                              Gujarati\n23       he                                Hebrew\n24       hi                                 Hindi\n25       hr                              Croatian\n26       ht                               Haitian\n27       hu                             Hungarian\n28       hy                              Armenian\n29       is                             Icelandic\n..      ...                                   ...\n45       mt                               Maltese\n46       my                               Burmese\n47       nb                      Norwegian Bokmal\n48       ne                                Nepali\n49       nl                                 Dutch\n50       nn                     Norwegian Nynorsk\n51       pa                               Punjabi\n52    pa-PK  Punjabi (Shahmukhi script, Pakistan)\n53       pl                                Polish\n54       ps                                Pushto\n55       pt                            Portuguese\n56       ro                              Romanian\n57       ru                               Russian\n58       si                               Sinhala\n59       sk                             Slovakian\n60       sl                             Slovenian\n61       so                                Somali\n62       sq                              Albanian\n63       sr                               Serbian\n64       sv                               Swedish\n65       ta                                 Tamil\n66       te                                Telugu\n67       th                                  Thai\n68       tl                               Tagalog\n69       tr                               Turkish\n70       uk                             Ukrainian\n71       ur                                  Urdu\n72       vi                            Vietnamese\n73       zh                    Simplified Chinese\n74    zh-TW                   Traditional Chinese\n\n[75 rows x 2 columns]",
                        "text/html": "<div>\n<style scoped>\n    .dataframe tbody tr th:only-of-type {\n        vertical-align: middle;\n    }\n\n    .dataframe tbody tr th {\n        vertical-align: top;\n    }\n\n    .dataframe thead th {\n        text-align: right;\n    }\n</style>\n<table border=\"1\" class=\"dataframe\">\n  <thead>\n    <tr style=\"text-align: right;\">\n      <th></th>\n      <th>language</th>\n      <th>name</th>\n    </tr>\n  </thead>\n  <tbody>\n    <tr>\n      <th>0</th>\n      <td>af</td>\n      <td>Afrikaans</td>\n    </tr>\n    <tr>\n      <th>1</th>\n      <td>ar</td>\n      <td>Arabic</td>\n    </tr>\n    <tr>\n      <th>2</th>\n      <td>az</td>\n      <td>Azerbaijani</td>\n    </tr>\n    <tr>\n      <th>3</th>\n      <td>ba</td>\n      <td>Bashkir</td>\n    </tr>\n    <tr>\n      <th>4</th>\n      <td>be</td>\n      <td>Belarusian</td>\n    </tr>\n    <tr>\n      <th>5</th>\n      <td>bg</td>\n      <td>Bulgarian</td>\n    </tr>\n    <tr>\n      <th>6</th>\n      <td>bn</td>\n      <td>Bengali</td>\n    </tr>\n    <tr>\n      <th>7</th>\n      <td>ca</td>\n      <td>Catalan</td>\n    </tr>\n    <tr>\n      <th>8</th>\n      <td>cs</td>\n      <td>Czech</td>\n    </tr>\n    <tr>\n      <th>9</th>\n      <td>cv</td>\n      <td>Chuvash</td>\n    </tr>\n    <tr>\n      <th>10</th>\n      <td>da</td>\n      <td>Danish</td>\n    </tr>\n    <tr>\n      <th>11</th>\n      <td>de</td>\n      <td>German</td>\n    </tr>\n    <tr>\n      <th>12</th>\n      <td>el</td>\n      <td>Greek</td>\n    </tr>\n    <tr>\n      <th>13</th>\n      <td>en</td>\n      <td>English</td>\n    </tr>\n    <tr>\n      <th>14</th>\n      <td>eo</td>\n      <td>Esperanto</td>\n    </tr>\n    <tr>\n      <th>15</th>\n      <td>es</td>\n      <td>Spanish</td>\n    </tr>\n    <tr>\n      <th>16</th>\n      <td>et</td>\n      <td>Estonian</td>\n    </tr>\n    <tr>\n      <th>17</th>\n      <td>eu</td>\n      <td>Basque</td>\n    </tr>\n    <tr>\n      <th>18</th>\n      <td>fa</td>\n      <td>Persian</td>\n    </tr>\n    <tr>\n      <th>19</th>\n      <td>fi</td>\n      <td>Finnish</td>\n    </tr>\n    <tr>\n      <th>20</th>\n      <td>fr</td>\n      <td>French</td>\n    </tr>\n    <tr>\n      <th>21</th>\n      <td>ga</td>\n      <td>Irish</td>\n    </tr>\n    <tr>\n      <th>22</th>\n      <td>gu</td>\n      <td>Gujarati</td>\n    </tr>\n    <tr>\n      <th>23</th>\n      <td>he</td>\n      <td>Hebrew</td>\n    </tr>\n    <tr>\n      <th>24</th>\n      <td>hi</td>\n      <td>Hindi</td>\n    </tr>\n    <tr>\n      <th>25</th>\n      <td>hr</td>\n      <td>Croatian</td>\n    </tr>\n    <tr>\n      <th>26</th>\n      <td>ht</td>\n      <td>Haitian</td>\n    </tr>\n    <tr>\n      <th>27</th>\n      <td>hu</td>\n      <td>Hungarian</td>\n    </tr>\n    <tr>\n      <th>28</th>\n      <td>hy</td>\n      <td>Armenian</td>\n    </tr>\n    <tr>\n      <th>29</th>\n      <td>is</td>\n      <td>Icelandic</td>\n    </tr>\n    <tr>\n      <th>...</th>\n      <td>...</td>\n      <td>...</td>\n    </tr>\n    <tr>\n      <th>45</th>\n      <td>mt</td>\n      <td>Maltese</td>\n    </tr>\n    <tr>\n      <th>46</th>\n      <td>my</td>\n      <td>Burmese</td>\n    </tr>\n    <tr>\n      <th>47</th>\n      <td>nb</td>\n      <td>Norwegian Bokmal</td>\n    </tr>\n    <tr>\n      <th>48</th>\n      <td>ne</td>\n      <td>Nepali</td>\n    </tr>\n    <tr>\n      <th>49</th>\n      <td>nl</td>\n      <td>Dutch</td>\n    </tr>\n    <tr>\n      <th>50</th>\n      <td>nn</td>\n      <td>Norwegian Nynorsk</td>\n    </tr>\n    <tr>\n      <th>51</th>\n      <td>pa</td>\n      <td>Punjabi</td>\n    </tr>\n    <tr>\n      <th>52</th>\n      <td>pa-PK</td>\n      <td>Punjabi (Shahmukhi script, Pakistan)</td>\n    </tr>\n    <tr>\n      <th>53</th>\n      <td>pl</td>\n      <td>Polish</td>\n    </tr>\n    <tr>\n      <th>54</th>\n      <td>ps</td>\n      <td>Pushto</td>\n    </tr>\n    <tr>\n      <th>55</th>\n      <td>pt</td>\n      <td>Portuguese</td>\n    </tr>\n    <tr>\n      <th>56</th>\n      <td>ro</td>\n      <td>Romanian</td>\n    </tr>\n    <tr>\n      <th>57</th>\n      <td>ru</td>\n      <td>Russian</td>\n    </tr>\n    <tr>\n      <th>58</th>\n      <td>si</td>\n      <td>Sinhala</td>\n    </tr>\n    <tr>\n      <th>59</th>\n      <td>sk</td>\n      <td>Slovakian</td>\n    </tr>\n    <tr>\n      <th>60</th>\n      <td>sl</td>\n      <td>Slovenian</td>\n    </tr>\n    <tr>\n      <th>61</th>\n      <td>so</td>\n      <td>Somali</td>\n    </tr>\n    <tr>\n      <th>62</th>\n      <td>sq</td>\n      <td>Albanian</td>\n    </tr>\n    <tr>\n      <th>63</th>\n      <td>sr</td>\n      <td>Serbian</td>\n    </tr>\n    <tr>\n      <th>64</th>\n      <td>sv</td>\n      <td>Swedish</td>\n    </tr>\n    <tr>\n      <th>65</th>\n      <td>ta</td>\n      <td>Tamil</td>\n    </tr>\n    <tr>\n      <th>66</th>\n      <td>te</td>\n      <td>Telugu</td>\n    </tr>\n    <tr>\n      <th>67</th>\n      <td>th</td>\n      <td>Thai</td>\n    </tr>\n    <tr>\n      <th>68</th>\n      <td>tl</td>\n      <td>Tagalog</td>\n    </tr>\n    <tr>\n      <th>69</th>\n      <td>tr</td>\n      <td>Turkish</td>\n    </tr>\n    <tr>\n      <th>70</th>\n      <td>uk</td>\n      <td>Ukrainian</td>\n    </tr>\n    <tr>\n      <th>71</th>\n      <td>ur</td>\n      <td>Urdu</td>\n    </tr>\n    <tr>\n      <th>72</th>\n      <td>vi</td>\n      <td>Vietnamese</td>\n    </tr>\n    <tr>\n      <th>73</th>\n      <td>zh</td>\n      <td>Simplified Chinese</td>\n    </tr>\n    <tr>\n      <th>74</th>\n      <td>zh-TW</td>\n      <td>Traditional Chinese</td>\n    </tr>\n  </tbody>\n</table>\n<p>75 rows \u00d7 2 columns</p>\n</div>"
                    },
                    "metadata": {}
                }
            ]
        },
        {
            "metadata": {},
            "cell_type": "markdown",
            "source": "<p>We can use the method <code>translate</code> this will translate the text. The parameter text is the text. Model_id is the type of model we would like to use use we use list the the langwich . In this case, we set it to 'en-es' or English to Spanish. We get a Detailed Response object translation_response</p>"
        },
        {
            "metadata": {
                "jupyter": {
                    "outputs_hidden": false
                }
            },
            "cell_type": "code",
            "source": "translation_response = language_translator.translate(\\\n    text=recognized_text, model_id='en-es')\ntranslation_response",
            "execution_count": 27,
            "outputs": [
                {
                    "output_type": "execute_result",
                    "execution_count": 27,
                    "data": {
                        "text/plain": "<ibm_cloud_sdk_core.detailed_response.DetailedResponse at 0x7f70d20fe208>"
                    },
                    "metadata": {}
                }
            ]
        },
        {
            "metadata": {},
            "cell_type": "markdown",
            "source": "<p>The result is a dictionary.</p>"
        },
        {
            "metadata": {
                "jupyter": {
                    "outputs_hidden": false
                }
            },
            "cell_type": "code",
            "source": "translation=translation_response.get_result()\ntranslation",
            "execution_count": 28,
            "outputs": [
                {
                    "output_type": "execute_result",
                    "execution_count": 28,
                    "data": {
                        "text/plain": "{'translations': [{'translation': 'en este v\u00eddeo cubriremos la regresi\u00f3n polin\u00f3mica y las tuber\u00edas '}],\n 'word_count': 10,\n 'character_count': 64}"
                    },
                    "metadata": {}
                }
            ]
        },
        {
            "metadata": {},
            "cell_type": "markdown",
            "source": "<p>We can obtain the actual translation as a string as follows:</p>"
        },
        {
            "metadata": {},
            "cell_type": "code",
            "source": "spanish_translation =translation['translations'][0]['translation']\nspanish_translation ",
            "execution_count": 29,
            "outputs": [
                {
                    "output_type": "execute_result",
                    "execution_count": 29,
                    "data": {
                        "text/plain": "'en este v\u00eddeo cubriremos la regresi\u00f3n polin\u00f3mica y las tuber\u00edas '"
                    },
                    "metadata": {}
                }
            ]
        },
        {
            "metadata": {},
            "cell_type": "markdown",
            "source": "<p>We can translate back to English</p>"
        },
        {
            "metadata": {},
            "cell_type": "code",
            "source": "translation_new = language_translator.translate(text=spanish_translation ,model_id='es-en').get_result()",
            "execution_count": 30,
            "outputs": []
        },
        {
            "metadata": {},
            "cell_type": "markdown",
            "source": "<p>We can obtain the actual translation as a string as follows:</p>"
        },
        {
            "metadata": {},
            "cell_type": "code",
            "source": "translation_eng=translation_new['translations'][0]['translation']\ntranslation_eng",
            "execution_count": 31,
            "outputs": [
                {
                    "output_type": "execute_result",
                    "execution_count": 31,
                    "data": {
                        "text/plain": "'in this video we will cover the polynomial regression and the pipes '"
                    },
                    "metadata": {}
                }
            ]
        },
        {
            "metadata": {},
            "cell_type": "markdown",
            "source": "<p>We can convert it to french as well:</p>"
        },
        {
            "metadata": {},
            "cell_type": "code",
            "source": "French_translation=language_translator.translate(\n    text=translation_eng , model_id='en-fr').get_result()",
            "execution_count": 32,
            "outputs": []
        },
        {
            "metadata": {},
            "cell_type": "code",
            "source": "French_translation['translations'][0]['translation']",
            "execution_count": 33,
            "outputs": [
                {
                    "output_type": "execute_result",
                    "execution_count": 33,
                    "data": {
                        "text/plain": "'Dans cette vid\u00e9o nous couvrons la r\u00e9gression polynomiale et les tuyaux '"
                    },
                    "metadata": {}
                }
            ]
        },
        {
            "metadata": {},
            "cell_type": "markdown",
            "source": "<h3>Language Translator</h3>"
        },
        {
            "metadata": {},
            "cell_type": "markdown",
            "source": " <a href=\"http://cocl.us/NotebooksPython101bottom\"><img src=\"https://ibm.box.com/shared/static/irypdxea2q4th88zu1o1tsd06dya10go.png\" width=\"750\" align=\"center\"></a>"
        },
        {
            "metadata": {},
            "cell_type": "markdown",
            "source": "<b>References</b>"
        },
        {
            "metadata": {},
            "cell_type": "markdown",
            "source": "https://cloud.ibm.com/apidocs/speech-to-text?code=python"
        },
        {
            "metadata": {},
            "cell_type": "markdown",
            "source": "https://cloud.ibm.com/apidocs/language-translator?code=python"
        },
        {
            "metadata": {},
            "cell_type": "markdown",
            "source": "<hr>"
        },
        {
            "metadata": {},
            "cell_type": "markdown",
            "source": "<h4>About the Author:</h4>\n<p><a href=\"https://www.linkedin.com/in/joseph-s-50398b136/\">Joseph Santarcangelo</a> has a PhD in Electrical Engineering, his research focused on using machine learning, signal processing, and computer vision to determine how videos impact human cognition. Joseph has been working for IBM since he completed his PhD.</p>"
        },
        {
            "metadata": {},
            "cell_type": "markdown",
            "source": "Other contributor: <a href=\"https://www.linkedin.com/in/fanjiang0619/\">Fan Jiang</a>"
        },
        {
            "metadata": {},
            "cell_type": "markdown",
            "source": "Copyright &copy; 2019 [cognitiveclass.ai](https:cognitiveclass.ai). This notebook and its source code are released under the terms of the [MIT License](cognitiveclass.ai)."
        }
    ],
    "metadata": {
        "kernelspec": {
            "name": "python3",
            "display_name": "Python 3.6",
            "language": "python"
        },
        "language_info": {
            "name": "python",
            "version": "3.6.9",
            "mimetype": "text/x-python",
            "codemirror_mode": {
                "name": "ipython",
                "version": 3
            },
            "pygments_lexer": "ipython3",
            "nbconvert_exporter": "python",
            "file_extension": ".py"
        }
    },
    "nbformat": 4,
    "nbformat_minor": 4
}