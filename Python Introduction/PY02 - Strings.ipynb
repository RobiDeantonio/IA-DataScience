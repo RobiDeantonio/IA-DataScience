{
    "cells": [
        {
            "metadata": {},
            "cell_type": "markdown",
            "source": "<a href=\"https://cognitiveclass.ai/\">\n    <img src=\"https://s3-api.us-geo.objectstorage.softlayer.net/cf-courses-data/CognitiveClass/PY0101EN/Ad/CCLog.png\" width=\"200\" align=\"center\">\n</a>"
        },
        {
            "metadata": {},
            "cell_type": "markdown",
            "source": "<h1>String Operations</h1>"
        },
        {
            "metadata": {},
            "cell_type": "markdown",
            "source": "<p><strong>Welcome!</strong> This notebook will teach you about the string operations in the Python Programming Language. By the end of this notebook, you'll know the basics string operations in Python, including indexing, escape sequences and operations.</p> "
        },
        {
            "metadata": {},
            "cell_type": "markdown",
            "source": "<div class=\"alert alert-block alert-info\" style=\"margin-top: 20px\">\n    <a href=\"https://cocl.us/topNotebooksPython101Coursera\">\n         <img src=\"https://s3-api.us-geo.objectstorage.softlayer.net/cf-courses-data/CognitiveClass/PY0101EN/Ad/TopAd.png\" width=\"750\" align=\"center\">\n    </a>\n</div>"
        },
        {
            "metadata": {},
            "cell_type": "markdown",
            "source": "<h2>Table of Contents</h2>\n<div class=\"alert alert-block alert-info\" style=\"margin-top: 20px\">\n    <ul>\n        <li>\n            <a href=\"#strings\">What are Strings?</a>\n        </li>\n        <li>\n            <a href=\"#index\">Indexing</a>\n            <ul>\n                <li><a href=\"neg\">Negative Indexing</a></li>\n                <li><a href=\"slice\">Slicing</a></li>\n                <li><a href=\"stride\">Stride</a></li>\n                <li><a href=\"concat\">Concatenate Strings</a></li>\n            </ul>\n        </li>\n        <li>\n            <a href=\"#escape\">Escape Sequences</a>\n        </li>\n        <li>\n            <a href=\"#operations\">String Operations</a>\n        </li>\n        <li>\n            <a href=\"#quiz\">Quiz on Strings</a>\n        </li>\n    </ul>\n    <p>\n        Estimated time needed: <strong>15 min</strong>\n    </p>\n</div>\n\n<hr>"
        },
        {
            "metadata": {},
            "cell_type": "markdown",
            "source": "<h2 id=\"strings\">What are Strings?</h2>"
        },
        {
            "metadata": {},
            "cell_type": "markdown",
            "source": "The following example shows a string contained within 2 quotation marks:"
        },
        {
            "metadata": {},
            "cell_type": "code",
            "source": "# Use quotation marks for defining string\n\n\"Michael Jackson\"",
            "execution_count": 1,
            "outputs": [
                {
                    "output_type": "execute_result",
                    "execution_count": 1,
                    "data": {
                        "text/plain": "'Michael Jackson'"
                    },
                    "metadata": {}
                }
            ]
        },
        {
            "metadata": {},
            "cell_type": "markdown",
            "source": "We can also use single quotation marks:"
        },
        {
            "metadata": {},
            "cell_type": "code",
            "source": "# Use single quotation marks for defining string\n\n'Michael Jackson'",
            "execution_count": 2,
            "outputs": [
                {
                    "output_type": "execute_result",
                    "execution_count": 2,
                    "data": {
                        "text/plain": "'Michael Jackson'"
                    },
                    "metadata": {}
                }
            ]
        },
        {
            "metadata": {},
            "cell_type": "markdown",
            "source": "A string can be a combination of spaces and digits: "
        },
        {
            "metadata": {},
            "cell_type": "code",
            "source": "# Digitals and spaces in string\n\n'1 2 3 4 5 6 '",
            "execution_count": 3,
            "outputs": [
                {
                    "output_type": "execute_result",
                    "execution_count": 3,
                    "data": {
                        "text/plain": "'1 2 3 4 5 6 '"
                    },
                    "metadata": {}
                }
            ]
        },
        {
            "metadata": {},
            "cell_type": "markdown",
            "source": "A string can also be a combination of special characters : "
        },
        {
            "metadata": {},
            "cell_type": "code",
            "source": "# Special characters in string\n\n'@#2_#]&*^%$'",
            "execution_count": 4,
            "outputs": [
                {
                    "output_type": "execute_result",
                    "execution_count": 4,
                    "data": {
                        "text/plain": "'@#2_#]&*^%$'"
                    },
                    "metadata": {}
                }
            ]
        },
        {
            "metadata": {},
            "cell_type": "markdown",
            "source": "We can print our string using the print statement:"
        },
        {
            "metadata": {},
            "cell_type": "code",
            "source": "# Print the string\n\nprint(\"hello!\")",
            "execution_count": 5,
            "outputs": [
                {
                    "output_type": "stream",
                    "text": "hello!\n",
                    "name": "stdout"
                }
            ]
        },
        {
            "metadata": {},
            "cell_type": "markdown",
            "source": "We can bind or assign a string to another variable:\n"
        },
        {
            "metadata": {},
            "cell_type": "code",
            "source": "# Assign string to variable\n\nName = \"Michael Jackson\"\nName",
            "execution_count": 6,
            "outputs": [
                {
                    "output_type": "execute_result",
                    "execution_count": 6,
                    "data": {
                        "text/plain": "'Michael Jackson'"
                    },
                    "metadata": {}
                }
            ]
        },
        {
            "metadata": {},
            "cell_type": "markdown",
            "source": "<hr>"
        },
        {
            "metadata": {},
            "cell_type": "markdown",
            "source": "<h2 id=\"index\">Indexing</h2>"
        },
        {
            "metadata": {},
            "cell_type": "markdown",
            "source": "It is helpful to think of a string as an ordered sequence. Each element in the sequence can be accessed using an index represented by the array of numbers:  "
        },
        {
            "metadata": {},
            "cell_type": "markdown",
            "source": "<img src=\"https://s3-api.us-geo.objectstorage.softlayer.net/cf-courses-data/CognitiveClass/PY0101EN/Chapter%201/Images/StringsIndex.png\" width=\"600\" align=\"center\" />"
        },
        {
            "metadata": {},
            "cell_type": "markdown",
            "source": " The first index can be accessed as follows:"
        },
        {
            "metadata": {},
            "cell_type": "markdown",
            "source": "<hr/>\n<div class=\"alert alert-success alertsuccess\" style=\"margin-top: 20px\">\n[Tip]: Because indexing starts at 0, it means the first index is on the index 0.\n</div>\n<hr/>"
        },
        {
            "metadata": {},
            "cell_type": "code",
            "source": "# Print the first element in the string\n\nprint(Name[0])",
            "execution_count": 7,
            "outputs": [
                {
                    "output_type": "stream",
                    "text": "M\n",
                    "name": "stdout"
                }
            ]
        },
        {
            "metadata": {},
            "cell_type": "markdown",
            "source": " We can access index 6:"
        },
        {
            "metadata": {},
            "cell_type": "code",
            "source": "# Print the element on index 6 in the string\n\nprint(Name[6])",
            "execution_count": 8,
            "outputs": [
                {
                    "output_type": "stream",
                    "text": "l\n",
                    "name": "stdout"
                }
            ]
        },
        {
            "metadata": {},
            "cell_type": "markdown",
            "source": "Moreover, we can access the 13th index:"
        },
        {
            "metadata": {},
            "cell_type": "code",
            "source": "# Print the element on the 13th index in the string\n\nprint(Name[13])",
            "execution_count": 9,
            "outputs": [
                {
                    "output_type": "stream",
                    "text": "o\n",
                    "name": "stdout"
                }
            ]
        },
        {
            "metadata": {},
            "cell_type": "markdown",
            "source": "<h3 id=\"neg\">Negative Indexing</h3>"
        },
        {
            "metadata": {},
            "cell_type": "markdown",
            "source": " We can also use negative indexing with strings:"
        },
        {
            "metadata": {},
            "cell_type": "markdown",
            "source": "<img src=\"https://s3-api.us-geo.objectstorage.softlayer.net/cf-courses-data/CognitiveClass/PY0101EN/Chapter%201/Images/StringsNeg.png\" width=\"600\" align=\"center\" />"
        },
        {
            "metadata": {},
            "cell_type": "markdown",
            "source": "Negative index can help us to count the element from the end of the string."
        },
        {
            "metadata": {},
            "cell_type": "markdown",
            "source": "The last element is given by the index -1: "
        },
        {
            "metadata": {},
            "cell_type": "code",
            "source": "# Print the last element in the string\n\nprint(Name[-1])",
            "execution_count": 10,
            "outputs": [
                {
                    "output_type": "stream",
                    "text": "n\n",
                    "name": "stdout"
                }
            ]
        },
        {
            "metadata": {},
            "cell_type": "markdown",
            "source": " The first element can be obtained by  index -15:"
        },
        {
            "metadata": {},
            "cell_type": "code",
            "source": "# Print the first element in the string\n\nprint(Name[-15])",
            "execution_count": 11,
            "outputs": [
                {
                    "output_type": "stream",
                    "text": "M\n",
                    "name": "stdout"
                }
            ]
        },
        {
            "metadata": {},
            "cell_type": "markdown",
            "source": "We can find the number of characters in a string by using <code>len</code>, short for length:"
        },
        {
            "metadata": {},
            "cell_type": "code",
            "source": "# Find the length of string\n\nlen(\"Michael Jackson\")",
            "execution_count": 12,
            "outputs": [
                {
                    "output_type": "execute_result",
                    "execution_count": 12,
                    "data": {
                        "text/plain": "15"
                    },
                    "metadata": {}
                }
            ]
        },
        {
            "metadata": {},
            "cell_type": "markdown",
            "source": "<h3 id=\"slice\">Slicing</h3>"
        },
        {
            "metadata": {},
            "cell_type": "markdown",
            "source": "We can obtain multiple characters from a string using slicing, we can obtain the 0 to 4th and 8th to the 12th element:  "
        },
        {
            "metadata": {},
            "cell_type": "markdown",
            "source": "<img src=\"https://s3-api.us-geo.objectstorage.softlayer.net/cf-courses-data/CognitiveClass/PY0101EN/Chapter%201/Images/StringsSlice.png\" width=\"600\" align=\"center\" />"
        },
        {
            "metadata": {},
            "cell_type": "markdown",
            "source": "<hr/>\n<div class=\"alert alert-success alertsuccess\" style=\"margin-top: 20px\">\n[Tip]: When taking the slice, the first number means the index (start at 0), and the second number means the length from the index to the last element you want (start at 1)\n</div>\n<hr/>"
        },
        {
            "metadata": {},
            "cell_type": "code",
            "source": "# Take the slice on variable Name with only index 0 to index 3\n\nName[0:4]",
            "execution_count": 13,
            "outputs": [
                {
                    "output_type": "execute_result",
                    "execution_count": 13,
                    "data": {
                        "text/plain": "'Mich'"
                    },
                    "metadata": {}
                }
            ]
        },
        {
            "metadata": {},
            "cell_type": "code",
            "source": "# Take the slice on variable Name with only index 8 to index 11\n\nName[8:12]",
            "execution_count": 14,
            "outputs": [
                {
                    "output_type": "execute_result",
                    "execution_count": 14,
                    "data": {
                        "text/plain": "'Jack'"
                    },
                    "metadata": {}
                }
            ]
        },
        {
            "metadata": {},
            "cell_type": "markdown",
            "source": "<h3 id=\"stride\">Stride</h3>"
        },
        {
            "metadata": {},
            "cell_type": "markdown",
            "source": " We can also  input a stride value as follows, with the '2' indicating that we are selecting every second variable:"
        },
        {
            "metadata": {},
            "cell_type": "markdown",
            "source": "<img src=\"https://s3-api.us-geo.objectstorage.softlayer.net/cf-courses-data/CognitiveClass/PY0101EN/Chapter%201/Images/StringsStride.png\" width=\"600\" align=\"center\" />"
        },
        {
            "metadata": {},
            "cell_type": "code",
            "source": "# Get every second element. The elments on index 1, 3, 5 ...\n\nName[::2]",
            "execution_count": 15,
            "outputs": [
                {
                    "output_type": "execute_result",
                    "execution_count": 15,
                    "data": {
                        "text/plain": "'McalJcsn'"
                    },
                    "metadata": {}
                }
            ]
        },
        {
            "metadata": {},
            "cell_type": "markdown",
            "source": "We can also incorporate slicing  with the stride. In this case, we select the first five elements and then use the stride: "
        },
        {
            "metadata": {},
            "cell_type": "code",
            "source": "# Get every second element in the range from index 0 to index 4\n\nName[0:5:2]",
            "execution_count": 16,
            "outputs": [
                {
                    "output_type": "execute_result",
                    "execution_count": 16,
                    "data": {
                        "text/plain": "'Mca'"
                    },
                    "metadata": {}
                }
            ]
        },
        {
            "metadata": {},
            "cell_type": "markdown",
            "source": "<h3 id=\"concat\">Concatenate Strings</h3>"
        },
        {
            "metadata": {},
            "cell_type": "markdown",
            "source": "We can concatenate or combine strings by using the addition symbols, and the result is a new string that is a combination of both:\n"
        },
        {
            "metadata": {},
            "cell_type": "code",
            "source": "# Concatenate two strings\n\nStatement = Name + \"is the best\"\nStatement",
            "execution_count": 17,
            "outputs": [
                {
                    "output_type": "execute_result",
                    "execution_count": 17,
                    "data": {
                        "text/plain": "'Michael Jacksonis the best'"
                    },
                    "metadata": {}
                }
            ]
        },
        {
            "metadata": {},
            "cell_type": "markdown",
            "source": "To replicate values of a string we simply multiply the string by the number of times we would like to replicate it. In this case, the number is three. The result is a new string, and this new string consists of three copies of the original string:"
        },
        {
            "metadata": {},
            "cell_type": "code",
            "source": "# Print the string for 3 times\n\n3 * \"Michael Jackson\"",
            "execution_count": 18,
            "outputs": [
                {
                    "output_type": "execute_result",
                    "execution_count": 18,
                    "data": {
                        "text/plain": "'Michael JacksonMichael JacksonMichael Jackson'"
                    },
                    "metadata": {}
                }
            ]
        },
        {
            "metadata": {},
            "cell_type": "markdown",
            "source": "You can create a new string by setting it to the original variable. Concatenated  with a new string, the result is a new string that changes from Michael Jackson to \u201cMichael Jackson is the best\".\n"
        },
        {
            "metadata": {},
            "cell_type": "code",
            "source": "# Concatenate strings\n\nName = \"Michael Jackson\"\nName = Name + \" is the best\"\nName",
            "execution_count": 19,
            "outputs": [
                {
                    "output_type": "execute_result",
                    "execution_count": 19,
                    "data": {
                        "text/plain": "'Michael Jackson is the best'"
                    },
                    "metadata": {}
                }
            ]
        },
        {
            "metadata": {},
            "cell_type": "markdown",
            "source": "<hr>"
        },
        {
            "metadata": {},
            "cell_type": "markdown",
            "source": "<h2 id=\"escape\">Escape Sequences</h2>"
        },
        {
            "metadata": {},
            "cell_type": "markdown",
            "source": "Back slashes represent the beginning  of escape sequences. Escape sequences represent strings that may be difficult to input. For example, back slash \"n\" represents a new line. The output is given by a new line after the back slash \"n\" is encountered:"
        },
        {
            "metadata": {},
            "cell_type": "code",
            "source": "# New line escape sequence\n\nprint(\" Michael Jackson \\n is the best\" )",
            "execution_count": 20,
            "outputs": [
                {
                    "output_type": "stream",
                    "text": " Michael Jackson \n is the best\n",
                    "name": "stdout"
                }
            ]
        },
        {
            "metadata": {},
            "cell_type": "markdown",
            "source": "Similarly, back slash  \"t\" represents a tab: "
        },
        {
            "metadata": {},
            "cell_type": "code",
            "source": "# Tab escape sequence\n\nprint(\" Michael Jackson \\t is the best\" )",
            "execution_count": 21,
            "outputs": [
                {
                    "output_type": "stream",
                    "text": " Michael Jackson \t is the best\n",
                    "name": "stdout"
                }
            ]
        },
        {
            "metadata": {},
            "cell_type": "markdown",
            "source": " If you want to place a back slash in your string, use a double back slash:"
        },
        {
            "metadata": {},
            "cell_type": "code",
            "source": "# Include back slash in string\n\nprint(\" Michael Jackson \\\\ is the best\" )",
            "execution_count": 22,
            "outputs": [
                {
                    "output_type": "stream",
                    "text": " Michael Jackson \\ is the best\n",
                    "name": "stdout"
                }
            ]
        },
        {
            "metadata": {},
            "cell_type": "markdown",
            "source": " We can also place an \"r\" before the string to display the backslash:"
        },
        {
            "metadata": {},
            "cell_type": "code",
            "source": "# r will tell python that string will be display as raw string\n\nprint(r\" Michael Jackson \\ is the best\" )",
            "execution_count": 23,
            "outputs": [
                {
                    "output_type": "stream",
                    "text": " Michael Jackson \\ is the best\n",
                    "name": "stdout"
                }
            ]
        },
        {
            "metadata": {},
            "cell_type": "markdown",
            "source": "<hr>"
        },
        {
            "metadata": {},
            "cell_type": "markdown",
            "source": "<h2 id=\"operations\">String Operations</h2>"
        },
        {
            "metadata": {},
            "cell_type": "markdown",
            "source": "There are many string operation methods in Python that can be used to manipulate the data. We are going to use some basic string operations on the data. "
        },
        {
            "metadata": {},
            "cell_type": "markdown",
            "source": "Let's try with the method <code>upper</code>; this method converts lower case characters to upper case characters:"
        },
        {
            "metadata": {},
            "cell_type": "code",
            "source": "# Convert all the characters in string to upper case\n\nA = \"Thriller is the sixth studio album\"\nprint(\"before upper:\", A)\nB = A.upper()\nprint(\"After upper:\", B)",
            "execution_count": 24,
            "outputs": [
                {
                    "output_type": "stream",
                    "text": "before upper: Thriller is the sixth studio album\nAfter upper: THRILLER IS THE SIXTH STUDIO ALBUM\n",
                    "name": "stdout"
                }
            ]
        },
        {
            "metadata": {},
            "cell_type": "markdown",
            "source": "The method <code>replace</code> replaces a segment of the string, i.e. a substring  with a new string. We input the part of the string we would like to change. The second argument is what we would like to exchange the segment with, and the result is a new string with the segment changed: \n"
        },
        {
            "metadata": {},
            "cell_type": "code",
            "source": "# Replace the old substring with the new target substring is the segment has been found in the string\n\nA = \"Michael Jackson is the best\"\nB = A.replace('Michael', 'Janet')\nB",
            "execution_count": 25,
            "outputs": [
                {
                    "output_type": "execute_result",
                    "execution_count": 25,
                    "data": {
                        "text/plain": "'Janet Jackson is the best'"
                    },
                    "metadata": {}
                }
            ]
        },
        {
            "metadata": {},
            "cell_type": "markdown",
            "source": "The method <code>find</code> finds a sub-string. The argument is the substring you would like to find, and the output is the first index of the sequence. We can find the sub-string <code>jack</code> or <code>el<code>.  "
        },
        {
            "metadata": {},
            "cell_type": "markdown",
            "source": "<img src=\"https://s3-api.us-geo.objectstorage.softlayer.net/cf-courses-data/CognitiveClass/PY0101EN/Chapter%201/Images/StringsFind.png\" width=\"600\" align=\"center\" />"
        },
        {
            "metadata": {},
            "cell_type": "code",
            "source": "# Find the substring in the string. Only the index of the first elment of substring in string will be the output\n\nName = \"Michael Jackson\"\nName.find('el')",
            "execution_count": 26,
            "outputs": [
                {
                    "output_type": "execute_result",
                    "execution_count": 26,
                    "data": {
                        "text/plain": "5"
                    },
                    "metadata": {}
                }
            ]
        },
        {
            "metadata": {},
            "cell_type": "code",
            "source": "# Find the substring in the string.\n\nName.find('Jack')",
            "execution_count": 27,
            "outputs": [
                {
                    "output_type": "execute_result",
                    "execution_count": 27,
                    "data": {
                        "text/plain": "8"
                    },
                    "metadata": {}
                }
            ]
        },
        {
            "metadata": {},
            "cell_type": "markdown",
            "source": "If the  sub-string is not in the string then the output is a negative one. For example, the string 'Jasdfasdasdf' is not a substring:"
        },
        {
            "metadata": {},
            "cell_type": "code",
            "source": "# If cannot find the substring in the string\n\nName.find('Jasdfasdasdf')",
            "execution_count": 28,
            "outputs": [
                {
                    "output_type": "execute_result",
                    "execution_count": 28,
                    "data": {
                        "text/plain": "-1"
                    },
                    "metadata": {}
                }
            ]
        },
        {
            "metadata": {},
            "cell_type": "markdown",
            "source": "<hr>"
        },
        {
            "metadata": {},
            "cell_type": "markdown",
            "source": "<h2 id=\"quiz\">Quiz on Strings</h2>"
        },
        {
            "metadata": {},
            "cell_type": "markdown",
            "source": "What is the value of the variable <code>A</code> after the following code is executed? "
        },
        {
            "metadata": {},
            "cell_type": "code",
            "source": "# Write your code below and press Shift+Enter to execute \n\nA = \"1\"",
            "execution_count": 29,
            "outputs": []
        },
        {
            "metadata": {},
            "cell_type": "markdown",
            "source": "Double-click <b>here</b> for the solution.\n\n<!-- Your answer is below:\n\"1\"\n-->"
        },
        {
            "metadata": {},
            "cell_type": "markdown",
            "source": "What is the value of the variable <code>B</code> after the following code is executed?"
        },
        {
            "metadata": {},
            "cell_type": "code",
            "source": "# Write your code below and press Shift+Enter to execute\n\nB = \"2\"",
            "execution_count": 30,
            "outputs": []
        },
        {
            "metadata": {},
            "cell_type": "markdown",
            "source": "Double-click <b>here</b> for the solution.\n\n<!-- Your answer is below:\n\"2\"\n-->"
        },
        {
            "metadata": {},
            "cell_type": "markdown",
            "source": "What is the value of the variable <code>C</code> after the following code is executed?"
        },
        {
            "metadata": {},
            "cell_type": "code",
            "source": "# Write your code below and press Shift+Enter to execute \n\nC = A + B",
            "execution_count": 31,
            "outputs": []
        },
        {
            "metadata": {},
            "cell_type": "markdown",
            "source": "Double-click <b>here</b> for the solution.\n\n<!-- Your answer is below:\n\"12\"\n-->"
        },
        {
            "metadata": {},
            "cell_type": "markdown",
            "source": "<hr>"
        },
        {
            "metadata": {},
            "cell_type": "markdown",
            "source": "Consider the variable <code>D</code> use slicing to print out the first three elements:"
        },
        {
            "metadata": {},
            "cell_type": "code",
            "source": "# Write your code below and press Shift+Enter to execute\n\nD = \"ABCDEFG\"",
            "execution_count": 32,
            "outputs": []
        },
        {
            "metadata": {},
            "cell_type": "markdown",
            "source": "Double-click <b>here</b> for the solution.\n\n<!-- Your answer is below:\nprint(D[:3]) \n# or \nprint(D[0:3])\n-->"
        },
        {
            "metadata": {},
            "cell_type": "markdown",
            "source": "<hr>"
        },
        {
            "metadata": {},
            "cell_type": "markdown",
            "source": "Use a stride value of 2 to print out every second character of the string <code>E</code>: "
        },
        {
            "metadata": {},
            "cell_type": "code",
            "source": "# Write your code below and press Shift+Enter to execute\n\nE = 'clocrkr1e1c1t'",
            "execution_count": 33,
            "outputs": []
        },
        {
            "metadata": {},
            "cell_type": "markdown",
            "source": "Double-click <b>here</b> for the solution.\n\n<!-- Your answer is below:\nprint(E[::2])\n-->"
        },
        {
            "metadata": {},
            "cell_type": "markdown",
            "source": "<hr>"
        },
        {
            "metadata": {},
            "cell_type": "markdown",
            "source": "Print out a backslash:"
        },
        {
            "metadata": {},
            "cell_type": "code",
            "source": "# Write your code below and press Shift+Enter to execute\nprint(\"\\\\\")\n#OR\nprint(r\" \\ \")",
            "execution_count": 34,
            "outputs": [
                {
                    "output_type": "stream",
                    "text": "\\\n \\ \n",
                    "name": "stdout"
                }
            ]
        },
        {
            "metadata": {},
            "cell_type": "markdown",
            "source": "Double-click <b>here</b> for the solution.\n<!-- Your answer is below:\nprint(\"\\\\\")\nor\nprint(r\" \\ \")\n-->"
        },
        {
            "metadata": {},
            "cell_type": "markdown",
            "source": "<hr>"
        },
        {
            "metadata": {},
            "cell_type": "markdown",
            "source": "Convert the variable <code>F</code> to uppercase:"
        },
        {
            "metadata": {},
            "cell_type": "code",
            "source": "# Write your code below and press Shift+Enter to execute\n\nF = \"You are wrong\"\nF.upper()",
            "execution_count": 35,
            "outputs": [
                {
                    "output_type": "execute_result",
                    "execution_count": 35,
                    "data": {
                        "text/plain": "'YOU ARE WRONG'"
                    },
                    "metadata": {}
                }
            ]
        },
        {
            "metadata": {},
            "cell_type": "markdown",
            "source": "Double-click <b>here</b> for the solution.\n\n<!-- Your answer is below:\nF.upper()\n-->"
        },
        {
            "metadata": {},
            "cell_type": "markdown",
            "source": "<hr>"
        },
        {
            "metadata": {},
            "cell_type": "markdown",
            "source": "Consider the variable <code>G</code>, and find the first index of the sub-string <code>snow</code>:"
        },
        {
            "metadata": {},
            "cell_type": "code",
            "source": "# Write your code below and press Shift+Enter to execute\n\nG = \"Mary had a little lamb Little lamb, little lamb Mary had a little lamb \\\nIts fleece was white as snow And everywhere that Mary went Mary went, Mary went \\\nEverywhere that Mary went The lamb was sure to go\"\n\nG.find(\"snow\")",
            "execution_count": 36,
            "outputs": [
                {
                    "output_type": "execute_result",
                    "execution_count": 36,
                    "data": {
                        "text/plain": "95"
                    },
                    "metadata": {}
                }
            ]
        },
        {
            "metadata": {},
            "cell_type": "markdown",
            "source": "Double-click __here__ for the solution.\n\n<!-- Your answer is below:\nG.find(\"snow\")\n-->"
        },
        {
            "metadata": {},
            "cell_type": "markdown",
            "source": "In the variable <code>G</code>, replace the sub-string <code>Mary</code> with <code>Bob</code>:"
        },
        {
            "metadata": {},
            "cell_type": "code",
            "source": "# Write your code below and press Shift+Enter to execute\nG.replace(\"Mary\", \"Bob\")",
            "execution_count": 37,
            "outputs": [
                {
                    "output_type": "execute_result",
                    "execution_count": 37,
                    "data": {
                        "text/plain": "'Bob had a little lamb Little lamb, little lamb Bob had a little lamb Its fleece was white as snow And everywhere that Bob went Bob went, Bob went Everywhere that Bob went The lamb was sure to go'"
                    },
                    "metadata": {}
                }
            ]
        },
        {
            "metadata": {},
            "cell_type": "markdown",
            "source": "Double-click __here__ for the solution.\n\n<!-- Your answer is below:\nG.replace(\"Mary\", \"Bob\")\n-->"
        },
        {
            "metadata": {},
            "cell_type": "markdown",
            "source": "<hr>\n<h2>The last exercise!</h2>\n<p>Congratulations, you have completed your first lesson and hands-on lab in Python. However, there is one more thing you need to do. The Data Science community encourages sharing work. The best way to share and showcase your work is to share it on GitHub. By sharing your notebook on GitHub you are not only building your reputation with fellow data scientists, but you can also show it off when applying for a job. Even though this was your first piece of work, it is never too early to start building good habits. So, please read and follow <a href=\"https://cognitiveclass.ai/blog/data-scientists-stand-out-by-sharing-your-notebooks/\" target=\"_blank\">this article</a> to learn how to share your work.\n<hr>"
        },
        {
            "metadata": {},
            "cell_type": "markdown",
            "source": "<div class=\"alert alert-block alert-info\" style=\"margin-top: 20px\">\n<h2>Get IBM Watson Studio free of charge!</h2>\n    <p><a href=\"https://cocl.us/bottemNotebooksPython101Coursera\"><img src=\"https://s3-api.us-geo.objectstorage.softlayer.net/cf-courses-data/CognitiveClass/PY0101EN/Ad/BottomAd.png\" width=\"750\" align=\"center\"></a></p>\n</div>"
        },
        {
            "metadata": {},
            "cell_type": "markdown",
            "source": "<h3>About the Authors:</h3>  \n<p><a href=\"https://www.linkedin.com/in/joseph-s-50398b136/\" target=\"_blank\">Joseph Santarcangelo</a> is a Data Scientist at IBM, and holds a PhD in Electrical Engineering. His research focused on using Machine Learning, Signal Processing, and Computer Vision to determine how videos impact human cognition. Joseph has been working for IBM since he completed his PhD.</p>"
        },
        {
            "metadata": {},
            "cell_type": "markdown",
            "source": "Other contributors: <a href=\"www.linkedin.com/in/jiahui-mavis-zhou-a4537814a\">Mavis Zhou</a>"
        },
        {
            "metadata": {},
            "cell_type": "markdown",
            "source": "<hr>\n<p>Copyright &copy; 2018 IBM Developer Skills Network. This notebook and its source code are released under the terms of the <a href=\"https://cognitiveclass.ai/mit-license/\">MIT License</a>.</p>"
        }
    ],
    "metadata": {
        "kernelspec": {
            "name": "python3",
            "display_name": "Python 3.6",
            "language": "python"
        },
        "language_info": {
            "name": "python",
            "version": "3.6.9",
            "mimetype": "text/x-python",
            "codemirror_mode": {
                "name": "ipython",
                "version": 3
            },
            "pygments_lexer": "ipython3",
            "nbconvert_exporter": "python",
            "file_extension": ".py"
        }
    },
    "nbformat": 4,
    "nbformat_minor": 2
}
