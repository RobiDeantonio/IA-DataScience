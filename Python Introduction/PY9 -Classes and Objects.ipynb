{
    "cells": [
        {
            "metadata": {},
            "cell_type": "markdown",
            "source": "<a href=\"https://cognitiveclass.ai/\">\n    <img src=\"https://s3-api.us-geo.objectstorage.softlayer.net/cf-courses-data/CognitiveClass/PY0101EN/Ad/CCLog.png\" width=\"200\" align=\"center\">\n</a>"
        },
        {
            "metadata": {},
            "cell_type": "markdown",
            "source": "<h1>Classes and Objects in Python</h1>"
        },
        {
            "metadata": {},
            "cell_type": "markdown",
            "source": "<p>\n    <strong>Welcome!</strong> \n    Objects in programming are like objects in real life. Like life, there are different classes of objects. In this notebook, we will create two classes called Circle and Rectangle. By the end of this notebook, you will have a better idea about :\n    <ul>\n        <li>what a class is</li>\n        <li>what an attribute is</li>\n        <li>what a method is</li>\n    </ul>\n\n   Don\u2019t worry if you don\u2019t get it the first time, as much of the terminology is confusing. Don\u2019t forget to do the practice tests in the notebook.\n</p>"
        },
        {
            "metadata": {},
            "cell_type": "markdown",
            "source": "<div class=\"alert alert-block alert-info\" style=\"margin-top: 20px\">\n    <a href=\"https://cocl.us/topNotebooksPython101Coursera\">\n         <img src=\"https://s3-api.us-geo.objectstorage.softlayer.net/cf-courses-data/CognitiveClass/PY0101EN/Ad/TopAd.png\" width=\"750\" align=\"center\">\n    </a>\n</div>"
        },
        {
            "metadata": {},
            "cell_type": "markdown",
            "source": "<h2>Table of Contents</h2>\n<div class=\"alert alert-block alert-info\" style=\"margin-top: 20px\">\n    <ul>\n        <li>\n            <a href=\"#intro\">Introduction to Classes and Objects</a>\n            <ul>\n                <li><a href=\"create\">Creating a class</a></li>\n                <li><a href=\"instance\">Instances of a Class: Objects and Attributes</a></li>\n                <li><a href=\"method\">Methods</a></li>\n            </ul>\n        </li>\n        <li><a href=\"creating\">Creating a class</a></li>\n        <li><a href=\"circle\">Creating an instance of a class Circle</a></li>\n        <li><a href=\"rect\">The Rectangle Class</a></li>\n    </ul>\n    <p>\n        Estimated time needed: <strong>40 min</strong>\n    </p>\n</div>\n\n<hr>"
        },
        {
            "metadata": {},
            "cell_type": "markdown",
            "source": "<h2 id=\"intro\">Introduction to Classes and Objects</h2>"
        },
        {
            "metadata": {},
            "cell_type": "markdown",
            "source": "<h3>Creating a Class</h3>"
        },
        {
            "metadata": {},
            "cell_type": "markdown",
            "source": "The first part of creating a class is giving it a name: In this notebook, we will create two classes, Circle and Rectangle. We need to determine all the data that make up that class, and we call that an attribute. Think about this step as creating a blue print that we will use to create objects. In figure 1 we see two classes, circle and rectangle. Each has their attributes, they are variables. The class circle has the attribute radius and color, while the rectangle has the attribute height and width. Let\u2019s use the visual examples of these shapes before we get to the code, as this will help you get accustomed to the vocabulary."
        },
        {
            "metadata": {},
            "cell_type": "markdown",
            "source": "<img src=\"https://s3-api.us-geo.objectstorage.softlayer.net/cf-courses-data/CognitiveClass/PY0101EN/Chapter%203/Images/ClassesClass.png\" width=\"500\" />"
        },
        {
            "metadata": {},
            "cell_type": "markdown",
            "source": "<i>Figure 1: Classes circle and rectangle, and each has their own attributes. The class circle has the attribute radius and colour, the rectangle has the attribute height and width.</i>\n"
        },
        {
            "metadata": {},
            "cell_type": "markdown",
            "source": "<h3 id=\"instance\">Instances of a Class: Objects and Attributes</h3>"
        },
        {
            "metadata": {},
            "cell_type": "markdown",
            "source": "An instance of an object is the realisation of a class, and in Figure 2 we see three instances of the class circle. We give each object a name: red circle, yellow circle and green circle. Each object has different attributes, so let's focus on the attribute of colour for each object."
        },
        {
            "metadata": {},
            "cell_type": "markdown",
            "source": "<img src=\"https://s3-api.us-geo.objectstorage.softlayer.net/cf-courses-data/CognitiveClass/PY0101EN/Chapter%203/Images/ClassesObj.png\" width=\"500\" />"
        },
        {
            "metadata": {},
            "cell_type": "markdown",
            "source": "<i>Figure 2: Three instances of the class circle or three objects of type circle.</i>"
        },
        {
            "metadata": {},
            "cell_type": "markdown",
            "source": " The colour attribute for the red circle is the colour red, for the green circle object the colour attribute is green, and for the yellow circle the colour attribute is yellow.   \n"
        },
        {
            "metadata": {},
            "cell_type": "markdown",
            "source": "<h3 id=\"method\">Methods</h3>"
        },
        {
            "metadata": {},
            "cell_type": "markdown",
            "source": "Methods give you a way to change or interact with the object; they are functions that interact with objects. For example, let\u2019s say we would like to increase the radius by a specified amount of a circle. We can create a method called **add_radius(r)** that increases the radius by **r**. This is shown in figure 3, where after applying the method to the \"orange circle object\", the radius of the object increases accordingly. The \u201cdot\u201d notation means to apply the method to the object, which is essentially applying a function to the information in the object."
        },
        {
            "metadata": {},
            "cell_type": "markdown",
            "source": "<img src=\"https://s3-api.us-geo.objectstorage.softlayer.net/cf-courses-data/CognitiveClass/PY0101EN/Chapter%203/Images/ClassesMethod.png\" width=\"500\" /> "
        },
        {
            "metadata": {},
            "cell_type": "markdown",
            "source": "<i>Figure 3: Applying the method \u201cadd_radius\u201d to the object orange circle object.</i>"
        },
        {
            "metadata": {},
            "cell_type": "markdown",
            "source": "<hr>"
        },
        {
            "metadata": {},
            "cell_type": "markdown",
            "source": "<h2 id=\"creating\">Creating a Class</h2>"
        },
        {
            "metadata": {},
            "cell_type": "markdown",
            "source": "Now we are going to create a class circle, but first, we are going to import a library to draw the objects: "
        },
        {
            "metadata": {
                "collapsed": true
            },
            "cell_type": "code",
            "source": "# Import the library\n\nimport matplotlib.pyplot as plt\n%matplotlib inline  ",
            "execution_count": null,
            "outputs": []
        },
        {
            "metadata": {},
            "cell_type": "markdown",
            "source": " The first step in creating your own class is to use the <code>class</code> keyword, then the name of the class as shown in Figure 4. In this course the class parent will always be object: "
        },
        {
            "metadata": {},
            "cell_type": "markdown",
            "source": "<img src=\"https://s3-api.us-geo.objectstorage.softlayer.net/cf-courses-data/CognitiveClass/PY0101EN/Chapter%203/Images/ClassesDefine.png\" width=\"400\" />"
        },
        {
            "metadata": {},
            "cell_type": "markdown",
            "source": "<i>Figure 4: Three instances of the class circle or three objects of type circle.</i>"
        },
        {
            "metadata": {},
            "cell_type": "markdown",
            "source": "The next step is a special method called a constructor <code>&#95;&#95;init&#95;&#95;</code>, which is used to initialize the object. The input are data attributes. The term <code>self</code> contains all the attributes in the set. For example the <code>self.color</code> gives the  value of the attribute color and <code>self.radius</code> will give you the radius of the object. We also have the method <code>add_radius()</code> with the parameter <code>r</code>, the method adds the value of <code>r</code> to the attribute radius. To access the radius we use the syntax <code>self.radius</code>. The labeled syntax is summarized in Figure 5:"
        },
        {
            "metadata": {},
            "cell_type": "markdown",
            "source": "<img src=\"https://s3-api.us-geo.objectstorage.softlayer.net/cf-courses-data/CognitiveClass/PY0101EN/Chapter%203/Images/ClassesCircle.png\" width=\"600\" />"
        },
        {
            "metadata": {},
            "cell_type": "markdown",
            "source": "<i>Figure 5: Labeled syntax of the object circle.</i>"
        },
        {
            "metadata": {},
            "cell_type": "markdown",
            "source": "The actual object is shown below. We include the method <code>drawCircle</code> to display the image of a circle. We set the default radius to 3 and the default colour to blue:"
        },
        {
            "metadata": {},
            "cell_type": "code",
            "source": "# Create a class Circle\n\nclass Circle(object):\n    \n    # Constructor\n    def __init__(self, radius=3, color='blue'):\n        self.radius = radius\n        self.color = color \n    \n    # Method\n    def add_radius(self, r):\n        self.radius = self.radius + r\n        return(self.radius)\n    \n    # Method\n    def drawCircle(self):\n        plt.gca().add_patch(plt.Circle((0, 0), radius=self.radius, fc=self.color))\n        plt.axis('scaled')\n        plt.show()  ",
            "execution_count": null,
            "outputs": []
        },
        {
            "metadata": {},
            "cell_type": "markdown",
            "source": "<hr>"
        },
        {
            "metadata": {},
            "cell_type": "markdown",
            "source": "<h2 id=\"circle\">Creating an instance of a class Circle</h2>"
        },
        {
            "metadata": {},
            "cell_type": "markdown",
            "source": "Let\u2019s create the object <code>RedCircle</code> of type Circle to do the following:"
        },
        {
            "metadata": {},
            "cell_type": "code",
            "source": "# Create an object RedCircle\n\nRedCircle = Circle(10, 'red')",
            "execution_count": null,
            "outputs": []
        },
        {
            "metadata": {},
            "cell_type": "markdown",
            "source": "We can use the <code>dir</code> command to get a list of the object's methods. Many of them are default Python methods."
        },
        {
            "metadata": {},
            "cell_type": "code",
            "source": "# Find out the methods can be used on the object RedCircle\n\ndir(RedCircle)",
            "execution_count": null,
            "outputs": []
        },
        {
            "metadata": {},
            "cell_type": "markdown",
            "source": "We can look at the data attributes of the object: "
        },
        {
            "metadata": {},
            "cell_type": "code",
            "source": "# Print the object attribute radius\n\nRedCircle.radius",
            "execution_count": null,
            "outputs": []
        },
        {
            "metadata": {},
            "cell_type": "code",
            "source": "# Print the object attribute color\n\nRedCircle.color",
            "execution_count": null,
            "outputs": []
        },
        {
            "metadata": {},
            "cell_type": "markdown",
            "source": " We can change the object's data attributes: "
        },
        {
            "metadata": {},
            "cell_type": "code",
            "source": "# Set the object attribute radius\n\nRedCircle.radius = 1\nRedCircle.radius",
            "execution_count": null,
            "outputs": []
        },
        {
            "metadata": {},
            "cell_type": "markdown",
            "source": " We can draw the object by using the method <code>drawCircle()</code>:"
        },
        {
            "metadata": {},
            "cell_type": "code",
            "source": "# Call the method drawCircle\n\nRedCircle.drawCircle()",
            "execution_count": null,
            "outputs": []
        },
        {
            "metadata": {},
            "cell_type": "markdown",
            "source": "We can increase the radius of the circle by applying the method <code>add_radius()</code>. Let increases the radius by 2 and then by 5:  "
        },
        {
            "metadata": {},
            "cell_type": "code",
            "source": "# Use method to change the object attribute radius\n\nprint('Radius of object:',RedCircle.radius)\nRedCircle.add_radius(2)\nprint('Radius of object of after applying the method add_radius(2):',RedCircle.radius)\nRedCircle.add_radius(5)\nprint('Radius of object of after applying the method add_radius(5):',RedCircle.radius)",
            "execution_count": null,
            "outputs": []
        },
        {
            "metadata": {},
            "cell_type": "markdown",
            "source": " Let\u2019s  create a blue circle. As the default colour is blue, all we have to do is specify what the radius is:"
        },
        {
            "metadata": {},
            "cell_type": "code",
            "source": "# Create a blue circle with a given radius\n\nBlueCircle = Circle(radius=100)",
            "execution_count": null,
            "outputs": []
        },
        {
            "metadata": {},
            "cell_type": "markdown",
            "source": " As before we can access the attributes of the instance of the class by using the dot notation:"
        },
        {
            "metadata": {},
            "cell_type": "code",
            "source": "# Print the object attribute radius\n\nBlueCircle.radius",
            "execution_count": null,
            "outputs": []
        },
        {
            "metadata": {},
            "cell_type": "code",
            "source": "# Print the object attribute color\n\nBlueCircle.color",
            "execution_count": null,
            "outputs": []
        },
        {
            "metadata": {},
            "cell_type": "markdown",
            "source": " We can draw the object by using the method <code>drawCircle()</code>:"
        },
        {
            "metadata": {},
            "cell_type": "code",
            "source": "# Call the method drawCircle\n\nBlueCircle.drawCircle()",
            "execution_count": null,
            "outputs": []
        },
        {
            "metadata": {},
            "cell_type": "markdown",
            "source": "Compare the x and y axis of the figure to the figure  for <code>RedCircle</code>; they are different."
        },
        {
            "metadata": {},
            "cell_type": "markdown",
            "source": "<hr>"
        },
        {
            "metadata": {},
            "cell_type": "markdown",
            "source": "<h2 id=\"rect\">The Rectangle Class</h2>"
        },
        {
            "metadata": {},
            "cell_type": "markdown",
            "source": "Let's create a class rectangle with the attributes of height, width and color. We will only add the method to draw the rectangle object:"
        },
        {
            "metadata": {
                "collapsed": true
            },
            "cell_type": "code",
            "source": "# Create a new Rectangle class for creating a rectangle object\n\nclass Rectangle(object):\n    \n    # Constructor\n    def __init__(self, width=2, height=3, color='r'):\n        self.height = height \n        self.width = width\n        self.color = color\n    \n    # Method\n    def drawRectangle(self):\n        plt.gca().add_patch(plt.Rectangle((0, 0), self.width, self.height ,fc=self.color))\n        plt.axis('scaled')\n        plt.show()",
            "execution_count": null,
            "outputs": []
        },
        {
            "metadata": {},
            "cell_type": "markdown",
            "source": "Let\u2019s create the object <code>SkinnyBlueRectangle</code> of type Rectangle. Its width will be 2 and height will be 3, and the color will be blue:"
        },
        {
            "metadata": {},
            "cell_type": "code",
            "source": "# Create a new object rectangle\n\nSkinnyBlueRectangle = Rectangle(2, 10, 'blue')",
            "execution_count": null,
            "outputs": []
        },
        {
            "metadata": {},
            "cell_type": "markdown",
            "source": " As before we can access the attributes of the instance of the class by using the dot notation:"
        },
        {
            "metadata": {},
            "cell_type": "code",
            "source": "# Print the object attribute height\n\nSkinnyBlueRectangle.height ",
            "execution_count": null,
            "outputs": []
        },
        {
            "metadata": {},
            "cell_type": "code",
            "source": "# Print the object attribute width\n\nSkinnyBlueRectangle.width",
            "execution_count": null,
            "outputs": []
        },
        {
            "metadata": {},
            "cell_type": "code",
            "source": "# Print the object attribute color\n\nSkinnyBlueRectangle.color",
            "execution_count": null,
            "outputs": []
        },
        {
            "metadata": {},
            "cell_type": "markdown",
            "source": " We can draw the object:"
        },
        {
            "metadata": {
                "scrolled": true
            },
            "cell_type": "code",
            "source": "# Use the drawRectangle method to draw the shape\n\nSkinnyBlueRectangle.drawRectangle()",
            "execution_count": null,
            "outputs": []
        },
        {
            "metadata": {},
            "cell_type": "markdown",
            "source": "Let\u2019s create the object <code>FatYellowRectangle</code> of type Rectangle :"
        },
        {
            "metadata": {
                "collapsed": true
            },
            "cell_type": "code",
            "source": "# Create a new object rectangle\n\nFatYellowRectangle = Rectangle(20, 5, 'yellow')",
            "execution_count": null,
            "outputs": []
        },
        {
            "metadata": {},
            "cell_type": "markdown",
            "source": " We can access the attributes of the instance of the class by using the dot notation:"
        },
        {
            "metadata": {},
            "cell_type": "code",
            "source": "# Print the object attribute height\n\nFatYellowRectangle.height ",
            "execution_count": null,
            "outputs": []
        },
        {
            "metadata": {},
            "cell_type": "code",
            "source": "# Print the object attribute width\n\nFatYellowRectangle.width",
            "execution_count": null,
            "outputs": []
        },
        {
            "metadata": {},
            "cell_type": "code",
            "source": "# Print the object attribute color\n\nFatYellowRectangle.color",
            "execution_count": null,
            "outputs": []
        },
        {
            "metadata": {},
            "cell_type": "markdown",
            "source": " We can draw the object:"
        },
        {
            "metadata": {},
            "cell_type": "code",
            "source": "# Use the drawRectangle method to draw the shape\n\nFatYellowRectangle.drawRectangle()",
            "execution_count": null,
            "outputs": []
        },
        {
            "metadata": {},
            "cell_type": "markdown",
            "source": "<hr>\n<h2>The last exercise!</h2>\n<p>Congratulations, you have completed your first lesson and hands-on lab in Python. However, there is one more thing you need to do. The Data Science community encourages sharing work. The best way to share and showcase your work is to share it on GitHub. By sharing your notebook on GitHub you are not only building your reputation with fellow data scientists, but you can also show it off when applying for a job. Even though this was your first piece of work, it is never too early to start building good habits. So, please read and follow <a href=\"https://cognitiveclass.ai/blog/data-scientists-stand-out-by-sharing-your-notebooks/\" target=\"_blank\">this article</a> to learn how to share your work.\n<hr>"
        },
        {
            "metadata": {},
            "cell_type": "markdown",
            "source": "<div class=\"alert alert-block alert-info\" style=\"margin-top: 20px\">\n<h2>Get IBM Watson Studio free of charge!</h2>\n    <p><a href=\"https://cocl.us/bottemNotebooksPython101Coursera\"><img src=\"https://s3-api.us-geo.objectstorage.softlayer.net/cf-courses-data/CognitiveClass/PY0101EN/Ad/BottomAd.png\" width=\"750\" align=\"center\"></a></p>\n</div>"
        },
        {
            "metadata": {},
            "cell_type": "markdown",
            "source": "<h3>About the Authors:</h3>  \n<p><a href=\"https://www.linkedin.com/in/joseph-s-50398b136/\" target=\"_blank\">Joseph Santarcangelo</a> is a Data Scientist at IBM, and holds a PhD in Electrical Engineering. His research focused on using Machine Learning, Signal Processing, and Computer Vision to determine how videos impact human cognition. Joseph has been working for IBM since he completed his PhD.</p>"
        },
        {
            "metadata": {},
            "cell_type": "markdown",
            "source": "Other contributors: <a href=\"www.linkedin.com/in/jiahui-mavis-zhou-a4537814a\">Mavis Zhou</a>"
        },
        {
            "metadata": {},
            "cell_type": "markdown",
            "source": "<hr>"
        },
        {
            "metadata": {},
            "cell_type": "markdown",
            "source": "<p>Copyright &copy; 2018 IBM Developer Skills Network. This notebook and its source code are released under the terms of the <a href=\"https://cognitiveclass.ai/mit-license/\">MIT License</a>.</p>"
        }
    ],
    "metadata": {
        "kernelspec": {
            "name": "python3",
            "display_name": "Python 3.6",
            "language": "python"
        },
        "language_info": {
            "name": "python",
            "version": "3.6.9",
            "mimetype": "text/x-python",
            "codemirror_mode": {
                "name": "ipython",
                "version": 3
            },
            "pygments_lexer": "ipython3",
            "nbconvert_exporter": "python",
            "file_extension": ".py"
        }
    },
    "nbformat": 4,
    "nbformat_minor": 2
}