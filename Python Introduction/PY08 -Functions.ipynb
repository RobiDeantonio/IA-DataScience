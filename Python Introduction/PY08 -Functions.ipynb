{
    "cells": [
        {
            "metadata": {},
            "cell_type": "markdown",
            "source": "<a href=\"https://cognitiveclass.ai/\">\n    <img src=\"https://s3-api.us-geo.objectstorage.softlayer.net/cf-courses-data/CognitiveClass/PY0101EN/Ad/CCLog.png\" width=\"200\" align=\"center\">\n</a>"
        },
        {
            "metadata": {},
            "cell_type": "markdown",
            "source": "<h1>Functions in Python</h1>"
        },
        {
            "metadata": {},
            "cell_type": "markdown",
            "source": "<p><strong>Welcome!</strong> This notebook will teach you about the functions in the Python Programming Language. By the end of this lab, you'll know the basic concepts about function, variables, and how to use functions.</p>"
        },
        {
            "metadata": {},
            "cell_type": "markdown",
            "source": "<div class=\"alert alert-block alert-info\" style=\"margin-top: 20px\">\n    <a href=\"https://cocl.us/topNotebooksPython101Coursera\">\n         <img src=\"https://s3-api.us-geo.objectstorage.softlayer.net/cf-courses-data/CognitiveClass/PY0101EN/Ad/TopAd.png\" width=\"750\" align=\"center\">\n    </a>\n</div>"
        },
        {
            "metadata": {},
            "cell_type": "markdown",
            "source": "<h2>Table of Contents</h2>\n<div class=\"alert alert-block alert-info\" style=\"margin-top: 20px\">\n    <ul>\n        <li>\n            <a href=\"#func\">Functions</a>\n            <ul>\n                <li><a href=\"content\">What is a function?</a></li>\n                <li><a href=\"var\">Variables</a></li>\n                <li><a href=\"simple\">Functions Make Things Simple</a></li>\n            </ul>\n        </li>\n        <li><a href=\"pre\">Pre-defined functions</a></li>\n        <li><a href=\"if\">Using <code>if</code>/<code>else</code> Statements and Loops in Functions</a></li>\n        <li><a href=\"default\">Setting default argument values in your custom functions</a></li>\n        <li><a href=\"global\">Global variables</a></li>\n        <li><a href=\"scope\">Scope of a Variable</a></li>\n        <li>\n            <a href=\"#quiz\">Quiz on Loops</a>\n        </li>\n    </ul>\n    <p>\n        Estimated time needed: <strong>40 min</strong>\n    </p>\n</div>\n\n<hr>"
        },
        {
            "metadata": {},
            "cell_type": "markdown",
            "source": "<h2 id=\"func\">Functions</h2>"
        },
        {
            "metadata": {},
            "cell_type": "markdown",
            "source": "A function is a reusable block of code which performs operations specified in the function.  They let you break down tasks and allow you to reuse your code in different programs.\n\nThere are two types of functions :\n\n- <b>Pre-defined functions</b>\n- <b>User defined functions</b>"
        },
        {
            "metadata": {},
            "cell_type": "markdown",
            "source": "<h3 id=\"content\">What is a Function?</h3>"
        },
        {
            "metadata": {},
            "cell_type": "markdown",
            "source": "You can define functions to provide the required functionality. Here are simple rules to define a function in Python:\n-  Functions blocks begin <code>def</code>\u00a0followed by the function <code>name</code> and parentheses <code>()</code>.\n-  There are input parameters or arguments that should be placed within these parentheses. \n-  You can also define parameters inside these parentheses.\n-  There is a body within every function that starts with a colon (<code>:</code>) and is indented.\n-  You can also place documentation before the body \n-  The statement <code>return</code> exits a function, optionally passing back a value \n\nAn example of a function that adds on to the parameter <code>a</code> prints and returns the output as <code>b</code>:"
        },
        {
            "metadata": {},
            "cell_type": "code",
            "source": "# First function example: Add 1 to a and store as b\n\ndef add(a):\n    b = a + 1\n    print(a, \"if you add one\", b)\n    return(b)",
            "execution_count": 1,
            "outputs": []
        },
        {
            "metadata": {},
            "cell_type": "markdown",
            "source": "The figure below illustrates the terminology: "
        },
        {
            "metadata": {},
            "cell_type": "markdown",
            "source": "<img src=\"https://s3-api.us-geo.objectstorage.softlayer.net/cf-courses-data/CognitiveClass/PY0101EN/Chapter%203/Images/FuncsDefinition.png\" width=\"500\" /> "
        },
        {
            "metadata": {},
            "cell_type": "markdown",
            "source": "We can obtain help about a function :"
        },
        {
            "metadata": {},
            "cell_type": "code",
            "source": "# Get a help on add function\n\nhelp(add)",
            "execution_count": 2,
            "outputs": [
                {
                    "output_type": "stream",
                    "text": "Help on function add in module __main__:\n\nadd(a)\n\n",
                    "name": "stdout"
                }
            ]
        },
        {
            "metadata": {},
            "cell_type": "markdown",
            "source": "We can call the function:"
        },
        {
            "metadata": {},
            "cell_type": "code",
            "source": "# Call the function add()\n\nadd(1)",
            "execution_count": 3,
            "outputs": [
                {
                    "output_type": "stream",
                    "text": "1 if you add one 2\n",
                    "name": "stdout"
                },
                {
                    "output_type": "execute_result",
                    "execution_count": 3,
                    "data": {
                        "text/plain": "2"
                    },
                    "metadata": {}
                }
            ]
        },
        {
            "metadata": {},
            "cell_type": "markdown",
            "source": "If we call the function with a new input we get a new result:"
        },
        {
            "metadata": {},
            "cell_type": "code",
            "source": "# Call the function add()\n\nadd(2)",
            "execution_count": 4,
            "outputs": [
                {
                    "output_type": "stream",
                    "text": "2 if you add one 3\n",
                    "name": "stdout"
                },
                {
                    "output_type": "execute_result",
                    "execution_count": 4,
                    "data": {
                        "text/plain": "3"
                    },
                    "metadata": {}
                }
            ]
        },
        {
            "metadata": {},
            "cell_type": "markdown",
            "source": "We can create different functions. For example, we can create a function that multiplies two numbers. The numbers will be represented by the variables <code>a</code> and <code>b</code>:"
        },
        {
            "metadata": {},
            "cell_type": "code",
            "source": "# Define a function for multiple two numbers\n\ndef Mult(a, b):\n    c = a * b\n    return(c)",
            "execution_count": 5,
            "outputs": []
        },
        {
            "metadata": {},
            "cell_type": "markdown",
            "source": "The same function can be used for different data types. For example, we can multiply two integers:\n"
        },
        {
            "metadata": {},
            "cell_type": "code",
            "source": "# Use mult() multiply two integers\n\nMult(2, 3)",
            "execution_count": 6,
            "outputs": [
                {
                    "output_type": "execute_result",
                    "execution_count": 6,
                    "data": {
                        "text/plain": "6"
                    },
                    "metadata": {}
                }
            ]
        },
        {
            "metadata": {},
            "cell_type": "markdown",
            "source": " Two Floats: "
        },
        {
            "metadata": {},
            "cell_type": "code",
            "source": "# Use mult() multiply two floats\n\nMult(10.0, 3.14)",
            "execution_count": 7,
            "outputs": [
                {
                    "output_type": "execute_result",
                    "execution_count": 7,
                    "data": {
                        "text/plain": "31.400000000000002"
                    },
                    "metadata": {}
                }
            ]
        },
        {
            "metadata": {},
            "cell_type": "markdown",
            "source": "We can even replicate a string by multiplying with an integer: "
        },
        {
            "metadata": {},
            "cell_type": "code",
            "source": "# Use mult() multiply two different type values together\n\nMult(2, \"Michael Jackson \")",
            "execution_count": 8,
            "outputs": [
                {
                    "output_type": "execute_result",
                    "execution_count": 8,
                    "data": {
                        "text/plain": "'Michael Jackson Michael Jackson '"
                    },
                    "metadata": {}
                }
            ]
        },
        {
            "metadata": {},
            "cell_type": "markdown",
            "source": "<h3 id=\"var\">Variables</h3>"
        },
        {
            "metadata": {},
            "cell_type": "markdown",
            "source": "The input to a function is called a formal parameter.\n\nA variable that is declared inside a function is called a  local variable. The parameter only exists within the function (i.e. the point where the function starts and stops).  \n\nA variable that is declared outside a function definition is a global variable, and its value is accessible and modifiable throughout the program. We will discuss more about global variables at the end of the lab.\n"
        },
        {
            "metadata": {},
            "cell_type": "code",
            "source": "# Function Definition\n\ndef square(a):\n    \n    # Local variable b\n    b = 1\n    c = a * a + b\n    print(a, \"if you square + 1\", c) \n    return(c)",
            "execution_count": 9,
            "outputs": []
        },
        {
            "metadata": {},
            "cell_type": "markdown",
            "source": "The labels are displayed in the figure:  "
        },
        {
            "metadata": {},
            "cell_type": "markdown",
            "source": "<img src=\"https://s3-api.us-geo.objectstorage.softlayer.net/cf-courses-data/CognitiveClass/PY0101EN/Chapter%203/Images/FuncsVar.png\" width=\"500\" />"
        },
        {
            "metadata": {},
            "cell_type": "markdown",
            "source": "We can call the function  with an input of <b>3</b>:"
        },
        {
            "metadata": {},
            "cell_type": "code",
            "source": "# Initializes Global variable  \n\nx = 3\n# Makes function call and return function a y\ny = square(x)\ny",
            "execution_count": 10,
            "outputs": [
                {
                    "output_type": "stream",
                    "text": "3 if you square + 1 10\n",
                    "name": "stdout"
                },
                {
                    "output_type": "execute_result",
                    "execution_count": 10,
                    "data": {
                        "text/plain": "10"
                    },
                    "metadata": {}
                }
            ]
        },
        {
            "metadata": {},
            "cell_type": "markdown",
            "source": " We can call the function  with an input of <b>2</b> in a different manner:"
        },
        {
            "metadata": {},
            "cell_type": "code",
            "source": "# Directly enter a number as parameter\n\nsquare(2)",
            "execution_count": 11,
            "outputs": [
                {
                    "output_type": "stream",
                    "text": "2 if you square + 1 5\n",
                    "name": "stdout"
                },
                {
                    "output_type": "execute_result",
                    "execution_count": 11,
                    "data": {
                        "text/plain": "5"
                    },
                    "metadata": {}
                }
            ]
        },
        {
            "metadata": {},
            "cell_type": "markdown",
            "source": "If there is no <code>return</code> statement, the function returns <code>None</code>. The following two functions are equivalent:"
        },
        {
            "metadata": {},
            "cell_type": "code",
            "source": "# Define functions, one with return value None and other without return value\n\ndef MJ():\n    print('Michael Jackson')\n    \ndef MJ1():\n    print('Michael Jackson')\n    return(None)",
            "execution_count": 12,
            "outputs": []
        },
        {
            "metadata": {},
            "cell_type": "code",
            "source": "# See the output\n\nMJ()",
            "execution_count": 13,
            "outputs": [
                {
                    "output_type": "stream",
                    "text": "Michael Jackson\n",
                    "name": "stdout"
                }
            ]
        },
        {
            "metadata": {},
            "cell_type": "code",
            "source": "# See the output\n\nMJ1()",
            "execution_count": 14,
            "outputs": [
                {
                    "output_type": "stream",
                    "text": "Michael Jackson\n",
                    "name": "stdout"
                }
            ]
        },
        {
            "metadata": {},
            "cell_type": "markdown",
            "source": "Printing the function after a call reveals a **None** is the default return statement:"
        },
        {
            "metadata": {},
            "cell_type": "code",
            "source": "# See what functions returns are\n\nprint(MJ())\nprint(MJ1())",
            "execution_count": 15,
            "outputs": [
                {
                    "output_type": "stream",
                    "text": "Michael Jackson\nNone\nMichael Jackson\nNone\n",
                    "name": "stdout"
                }
            ]
        },
        {
            "metadata": {},
            "cell_type": "markdown",
            "source": "Create a function <code>con</code> that  concatenates two strings using the addition operation:"
        },
        {
            "metadata": {},
            "cell_type": "code",
            "source": "# Define the function for combining strings\n\ndef con(a, b):\n    return(a + b)",
            "execution_count": 16,
            "outputs": []
        },
        {
            "metadata": {},
            "cell_type": "code",
            "source": "# Test on the con() function\n\ncon(\"This \", \"is\")",
            "execution_count": 17,
            "outputs": [
                {
                    "output_type": "execute_result",
                    "execution_count": 17,
                    "data": {
                        "text/plain": "'This is'"
                    },
                    "metadata": {}
                }
            ]
        },
        {
            "metadata": {},
            "cell_type": "markdown",
            "source": "<hr/>\n    <div class=\"alert alert-success alertsuccess\" style=\"margin-top: 20px\">\n        <h4> [Tip] How do I learn more about the pre-defined functions in Python? </h4>\n        <p>We will be introducing a variety of pre-defined functions to you as you learn more about Python. There are just too many functions, so there's no way we can teach them all in one sitting. But if you'd like to take a quick peek, here's a short reference card for some of the commonly-used pre-defined functions: <a href=\"http://www.astro.up.pt/~sousasag/Python_For_Astronomers/Python_qr.pdf\">Reference</a></p>\n    </div>\n<hr/>"
        },
        {
            "metadata": {},
            "cell_type": "markdown",
            "source": "<h3 id=\"simple\">Functions Make Things Simple</h3>"
        },
        {
            "metadata": {},
            "cell_type": "markdown",
            "source": "Consider the two lines of code in <b>Block 1</b> and <b>Block 2</b>: the procedure for each block is identical. The only thing that is different is the variable names and values."
        },
        {
            "metadata": {},
            "cell_type": "markdown",
            "source": "<h4>Block 1:</h4>"
        },
        {
            "metadata": {},
            "cell_type": "code",
            "source": "# a and b calculation block1\n\na1 = 4\nb1 = 5\nc1 = a1 + b1 + 2 * a1 * b1 - 1\nif(c1 < 0):\n    c1 = 0 \nelse:\n    c1 = 5\nc1   ",
            "execution_count": 18,
            "outputs": [
                {
                    "output_type": "execute_result",
                    "execution_count": 18,
                    "data": {
                        "text/plain": "5"
                    },
                    "metadata": {}
                }
            ]
        },
        {
            "metadata": {},
            "cell_type": "markdown",
            "source": "<h4>Block 2:</h4>"
        },
        {
            "metadata": {},
            "cell_type": "code",
            "source": "# a and b calculation block2\n\na2 = 0\nb2 = 0\nc2 = a2 + b2 + 2 * a2 * b2 - 1\nif(c2 < 0):\n    c2 = 0 \nelse:\n    c2 = 5\nc2   ",
            "execution_count": 19,
            "outputs": [
                {
                    "output_type": "execute_result",
                    "execution_count": 19,
                    "data": {
                        "text/plain": "0"
                    },
                    "metadata": {}
                }
            ]
        },
        {
            "metadata": {},
            "cell_type": "markdown",
            "source": "We can replace the lines of code with a function. A function combines many instructions into a single line of code. Once a\u00a0function\u00a0is defined, it can be used repeatedly. You can invoke the same\u00a0function\u00a0many times in your\u00a0program. You can save your function and use it in another program or use someone else\u2019s function. The lines of code in code <b>Block 1</b> and code <b>Block 2</b> can be replaced by the following function:  "
        },
        {
            "metadata": {},
            "cell_type": "code",
            "source": "# Make a Function for the calculation above\n\ndef Equation(a,b):\n    c = a + b + 2 * a * b - 1\n    if(c < 0):\n        c = 0 \n    else:\n        c = 5\n    return(c) ",
            "execution_count": 20,
            "outputs": []
        },
        {
            "metadata": {},
            "cell_type": "markdown",
            "source": "This function takes two inputs, a and b, then applies several operations to return c. \nWe simply define the function, replace the instructions with the function, and input the new values of <code>a1</code>, <code>b1</code> and <code>a2</code>, <code>b2</code> as inputs. The entire process is demonstrated in the figure: "
        },
        {
            "metadata": {},
            "cell_type": "markdown",
            "source": "<img src=\"https://s3-api.us-geo.objectstorage.softlayer.net/cf-courses-data/CognitiveClass/PY0101EN/Chapter%203/Images/FuncsPros.gif\" width=\"850\" />"
        },
        {
            "metadata": {},
            "cell_type": "markdown",
            "source": "Code **Blocks 1** and **Block 2** can now be replaced with code **Block 3** and code **Block 4**."
        },
        {
            "metadata": {},
            "cell_type": "markdown",
            "source": "<h4>Block 3:</h4>"
        },
        {
            "metadata": {},
            "cell_type": "code",
            "source": "a1 = 4\nb1 = 5\nc1 = Equation(a1, b1)\nc1",
            "execution_count": 21,
            "outputs": [
                {
                    "output_type": "execute_result",
                    "execution_count": 21,
                    "data": {
                        "text/plain": "5"
                    },
                    "metadata": {}
                }
            ]
        },
        {
            "metadata": {},
            "cell_type": "markdown",
            "source": "<h4>Block 4:</h4>"
        },
        {
            "metadata": {},
            "cell_type": "code",
            "source": "a2 = 0\nb2 = 0\nc2 = Equation(a2, b2)\nc2",
            "execution_count": 22,
            "outputs": [
                {
                    "output_type": "execute_result",
                    "execution_count": 22,
                    "data": {
                        "text/plain": "0"
                    },
                    "metadata": {}
                }
            ]
        },
        {
            "metadata": {},
            "cell_type": "markdown",
            "source": "<hr>"
        },
        {
            "metadata": {},
            "cell_type": "markdown",
            "source": "<h2 id=\"pre\">Pre-defined functions</h2>"
        },
        {
            "metadata": {},
            "cell_type": "markdown",
            "source": "There are many pre-defined functions in Python, so let's start with the simple ones."
        },
        {
            "metadata": {},
            "cell_type": "markdown",
            "source": "The <code>print()</code> function:"
        },
        {
            "metadata": {},
            "cell_type": "code",
            "source": "# Build-in function print()\n\nalbum_ratings = [10.0, 8.5, 9.5, 7.0, 7.0, 9.5, 9.0, 9.5] \nprint(album_ratings)",
            "execution_count": 23,
            "outputs": [
                {
                    "output_type": "stream",
                    "text": "[10.0, 8.5, 9.5, 7.0, 7.0, 9.5, 9.0, 9.5]\n",
                    "name": "stdout"
                }
            ]
        },
        {
            "metadata": {},
            "cell_type": "markdown",
            "source": "The <code>sum()</code> function adds all the  elements in a list or tuple:"
        },
        {
            "metadata": {},
            "cell_type": "code",
            "source": "# Use sum() to add every element in a list or tuple together\n\nsum(album_ratings)",
            "execution_count": 24,
            "outputs": [
                {
                    "output_type": "execute_result",
                    "execution_count": 24,
                    "data": {
                        "text/plain": "70.0"
                    },
                    "metadata": {}
                }
            ]
        },
        {
            "metadata": {},
            "cell_type": "markdown",
            "source": "The <code>len()</code> function returns the length of a list or tuple: "
        },
        {
            "metadata": {},
            "cell_type": "code",
            "source": "# Show the length of the list or tuple\n\nlen(album_ratings)",
            "execution_count": 25,
            "outputs": [
                {
                    "output_type": "execute_result",
                    "execution_count": 25,
                    "data": {
                        "text/plain": "8"
                    },
                    "metadata": {}
                }
            ]
        },
        {
            "metadata": {},
            "cell_type": "markdown",
            "source": "<h2 id=\"if\">Using <code>if</code>/<code>else</code> Statements and Loops in Functions</h2>"
        },
        {
            "metadata": {},
            "cell_type": "markdown",
            "source": "The <code>return()</code> function is particularly useful if you have any IF statements in the function, when you want your output to be dependent on some condition: "
        },
        {
            "metadata": {},
            "cell_type": "code",
            "source": "# Function example\n\ndef type_of_album(artist, album, year_released):\n    \n    print(artist, album, year_released)\n    if year_released > 1980:\n        return \"Modern\"\n    else:\n        return \"Oldie\"\n    \nx = type_of_album(\"Michael Jackson\", \"Thriller\", 1980)\nprint(x)",
            "execution_count": 26,
            "outputs": [
                {
                    "output_type": "stream",
                    "text": "Michael Jackson Thriller 1980\nOldie\n",
                    "name": "stdout"
                }
            ]
        },
        {
            "metadata": {},
            "cell_type": "markdown",
            "source": "We can use a loop in a function. For example, we can <code>print</code> out each element in a list:"
        },
        {
            "metadata": {},
            "cell_type": "code",
            "source": "# Print the list using for loop\n\ndef PrintList(the_list):\n    for element in the_list:\n        print(element)",
            "execution_count": 27,
            "outputs": []
        },
        {
            "metadata": {},
            "cell_type": "code",
            "source": "# Implement the printlist function\n\nPrintList(['1', 1, 'the man', \"abc\"])",
            "execution_count": 28,
            "outputs": [
                {
                    "output_type": "stream",
                    "text": "1\n1\nthe man\nabc\n",
                    "name": "stdout"
                }
            ]
        },
        {
            "metadata": {},
            "cell_type": "markdown",
            "source": "<hr>"
        },
        {
            "metadata": {},
            "cell_type": "markdown",
            "source": "<h2 id=\"default\">Setting default argument values in your custom functions</h2>"
        },
        {
            "metadata": {},
            "cell_type": "markdown",
            "source": "You can set a default value for arguments in your function. For example, in the <code>isGoodRating()</code> function, what if we wanted to create a threshold for what we consider to be a good rating? Perhaps by default, we should have a default rating of 4:"
        },
        {
            "metadata": {},
            "cell_type": "code",
            "source": "# Example for setting param with default value\n\ndef isGoodRating(rating=4): \n    if(rating < 7):\n        print(\"this album sucks it's rating is\",rating)\n        \n    else:\n        print(\"this album is good its rating is\",rating)\n",
            "execution_count": 29,
            "outputs": []
        },
        {
            "metadata": {},
            "cell_type": "code",
            "source": "# Test the value with default value and with input\n\nisGoodRating()\nisGoodRating(10)",
            "execution_count": 30,
            "outputs": [
                {
                    "output_type": "stream",
                    "text": "this album sucks it's rating is 4\nthis album is good its rating is 10\n",
                    "name": "stdout"
                }
            ]
        },
        {
            "metadata": {},
            "cell_type": "markdown",
            "source": "<hr>"
        },
        {
            "metadata": {},
            "cell_type": "markdown",
            "source": "<h2 id=\"global\">Global variables</h2>"
        },
        {
            "metadata": {},
            "cell_type": "markdown",
            "source": "So far, we've been creating variables within functions, but we have not discussed variables outside the function.  These are called global variables. \n<br>\nLet's try to see what <code>printer1</code> returns:"
        },
        {
            "metadata": {},
            "cell_type": "code",
            "source": "# Example of global variable\n\nartist = \"Michael Jackson\"\ndef printer1(artist):\n    internal_var = artist\n    print(artist, \"is an artist\")\n    \nprinter1(artist)",
            "execution_count": 31,
            "outputs": [
                {
                    "output_type": "stream",
                    "text": "Michael Jackson is an artist\n",
                    "name": "stdout"
                }
            ]
        },
        {
            "metadata": {},
            "cell_type": "markdown",
            "source": "If we print <code>internal_var</code> we get an error. "
        },
        {
            "metadata": {},
            "cell_type": "markdown",
            "source": "<b>We got a Name Error:  <code>name 'internal_var' is not defined</code>. Why?</b>  \n\nIt's because all the variables we create in the function is a <b>local variable</b>, meaning that the variable assignment does not persist outside the function.  \n\nBut there is a way to create <b>global variables</b> from within a function as follows:"
        },
        {
            "metadata": {},
            "cell_type": "code",
            "source": "artist = \"Michael Jackson\"\n\ndef printer(artist):\n    global internal_var \n    internal_var= \"Whitney Houston\"\n    print(artist,\"is an artist\")\n\nprinter(artist) \nprinter(internal_var)",
            "execution_count": 32,
            "outputs": [
                {
                    "output_type": "stream",
                    "text": "Michael Jackson is an artist\nWhitney Houston is an artist\n",
                    "name": "stdout"
                }
            ]
        },
        {
            "metadata": {},
            "cell_type": "markdown",
            "source": "<h2 id=\"scope\">Scope of a Variable</h2>"
        },
        {
            "metadata": {},
            "cell_type": "markdown",
            "source": " The scope of a variable is the part of that program where that variable is accessible. Variables that are declared outside of all function definitions, such as the <code>myFavouriteBand</code> variable in the code shown here, are accessible from anywhere within the program. As a result, such variables are said to have global scope, and are known as global variables. \n    <code>myFavouriteBand</code> is a global variable, so it is accessible from within the <code>getBandRating</code> function, and we can use it to determine a band's rating. We can also use it outside of the function, such as when we pass it to the print function to display it:"
        },
        {
            "metadata": {},
            "cell_type": "code",
            "source": "# Example of global variable\n\nmyFavouriteBand = \"AC/DC\"\n\ndef getBandRating(bandname):\n    if bandname == myFavouriteBand:\n        return 10.0\n    else:\n        return 0.0\n\nprint(\"AC/DC's rating is:\", getBandRating(\"AC/DC\"))\nprint(\"Deep Purple's rating is:\",getBandRating(\"Deep Purple\"))\nprint(\"My favourite band is:\", myFavouriteBand)",
            "execution_count": 33,
            "outputs": [
                {
                    "output_type": "stream",
                    "text": "AC/DC's rating is: 10.0\nDeep Purple's rating is: 0.0\nMy favourite band is: AC/DC\n",
                    "name": "stdout"
                }
            ]
        },
        {
            "metadata": {},
            "cell_type": "markdown",
            "source": " Take a look at this modified version of our code. Now the <code>myFavouriteBand</code> variable is defined within the <code>getBandRating</code> function. A variable that is defined within a function is said to be a local variable of that function. That means that it is only accessible from within the function in which it is defined. Our <code>getBandRating</code> function will still work, because <code>myFavouriteBand</code> is still defined within the function. However, we can no longer print <code>myFavouriteBand</code> outside our function, because it is a local variable of our <code>getBandRating</code> function; it is only defined within the <code>getBandRating</code> function:"
        },
        {
            "metadata": {},
            "cell_type": "code",
            "source": "# Example of local variable\n\ndef getBandRating(bandname):\n    myFavouriteBand = \"AC/DC\"\n    if bandname == myFavouriteBand:\n        return 10.0\n    else:\n        return 0.0\n\nprint(\"AC/DC's rating is: \", getBandRating(\"AC/DC\"))\nprint(\"Deep Purple's rating is: \", getBandRating(\"Deep Purple\"))\nprint(\"My favourite band is\", myFavouriteBand)",
            "execution_count": 34,
            "outputs": [
                {
                    "output_type": "stream",
                    "text": "AC/DC's rating is:  10.0\nDeep Purple's rating is:  0.0\nMy favourite band is AC/DC\n",
                    "name": "stdout"
                }
            ]
        },
        {
            "metadata": {},
            "cell_type": "markdown",
            "source": " Finally, take a look at this example. We now have two <code>myFavouriteBand</code> variable definitions. The first one of these has a global scope, and the second of them is a local variable within the <code>getBandRating</code> function. Within the <code>getBandRating</code> function, the local variable takes precedence. **Deep Purple** will receive a rating of 10.0 when passed to the <code>getBandRating</code> function. However, outside of the <code>getBandRating</code> function, the <code>getBandRating</code> s local variable is not defined, so the <code>myFavouriteBand</code> variable we print is the global variable, which has a value of **AC/DC**:"
        },
        {
            "metadata": {},
            "cell_type": "code",
            "source": "# Example of global variable and local variable with the same name\n\nmyFavouriteBand = \"AC/DC\"\n\ndef getBandRating(bandname):\n    myFavouriteBand = \"Deep Purple\"\n    if bandname == myFavouriteBand:\n        return 10.0\n    else:\n        return 0.0\n\nprint(\"AC/DC's rating is:\",getBandRating(\"AC/DC\"))\nprint(\"Deep Purple's rating is: \",getBandRating(\"Deep Purple\"))\nprint(\"My favourite band is:\",myFavouriteBand)",
            "execution_count": 35,
            "outputs": [
                {
                    "output_type": "stream",
                    "text": "AC/DC's rating is: 0.0\nDeep Purple's rating is:  10.0\nMy favourite band is: AC/DC\n",
                    "name": "stdout"
                }
            ]
        },
        {
            "metadata": {},
            "cell_type": "markdown",
            "source": "<h2>Quiz on Functions</h2>"
        },
        {
            "metadata": {},
            "cell_type": "markdown",
            "source": "Come up with a function that divides the first input by the second input:"
        },
        {
            "metadata": {},
            "cell_type": "code",
            "source": "# Write your code below and press Shift+Enter to execute\ndef div(a, b):\n    return(a/b)",
            "execution_count": 36,
            "outputs": []
        },
        {
            "metadata": {},
            "cell_type": "markdown",
            "source": "Double-click __here__ for the solution.\n\n<!-- \ndef div(a, b):\n    return(a/b)\n-->"
        },
        {
            "metadata": {},
            "cell_type": "markdown",
            "source": "<hr>"
        },
        {
            "metadata": {},
            "cell_type": "markdown",
            "source": "Use the function <code>con</code> for the following question."
        },
        {
            "metadata": {},
            "cell_type": "code",
            "source": "# Use the con function for the following question\n\ndef con(a, b):\n    return(a + b)",
            "execution_count": 37,
            "outputs": []
        },
        {
            "metadata": {},
            "cell_type": "markdown",
            "source": "Can the <code>con</code> function we defined before be used to add to integers or strings?"
        },
        {
            "metadata": {},
            "cell_type": "code",
            "source": "# Write your code below and press Shift+Enter to execute\n#yes, for example: \ncon(2, 2)",
            "execution_count": 38,
            "outputs": [
                {
                    "output_type": "execute_result",
                    "execution_count": 38,
                    "data": {
                        "text/plain": "4"
                    },
                    "metadata": {}
                }
            ]
        },
        {
            "metadata": {},
            "cell_type": "markdown",
            "source": "Double-click __here__ for the solution.\n\n<!-- \nyes, for example: \ncon(2, 2)\n -->"
        },
        {
            "metadata": {},
            "cell_type": "markdown",
            "source": "<hr>"
        },
        {
            "metadata": {},
            "cell_type": "markdown",
            "source": "Can the <code>con</code> function we defined before be used to concentrate a list or tuple?"
        },
        {
            "metadata": {},
            "cell_type": "code",
            "source": "# Write your code below and press Shift+Enter to execute\n#yes,for example: \ncon(['a', 1], ['b', 1])",
            "execution_count": 39,
            "outputs": [
                {
                    "output_type": "execute_result",
                    "execution_count": 39,
                    "data": {
                        "text/plain": "['a', 1, 'b', 1]"
                    },
                    "metadata": {}
                }
            ]
        },
        {
            "metadata": {},
            "cell_type": "markdown",
            "source": "Double-click __here__ for the solution.\n\n<!-- \nyes,for example: \ncon(['a', 1], ['b', 1])\n-->"
        },
        {
            "metadata": {},
            "cell_type": "markdown",
            "source": "<hr>\n<h2>The last exercise!</h2>\n<p>Congratulations, you have completed your first lesson and hands-on lab in Python. However, there is one more thing you need to do. The Data Science community encourages sharing work. The best way to share and showcase your work is to share it on GitHub. By sharing your notebook on GitHub you are not only building your reputation with fellow data scientists, but you can also show it off when applying for a job. Even though this was your first piece of work, it is never too early to start building good habits. So, please read and follow <a href=\"https://cognitiveclass.ai/blog/data-scientists-stand-out-by-sharing-your-notebooks/\" target=\"_blank\">this article</a> to learn how to share your work.\n<hr>"
        },
        {
            "metadata": {},
            "cell_type": "markdown",
            "source": "<div class=\"alert alert-block alert-info\" style=\"margin-top: 20px\">\n<h2>Get IBM Watson Studio free of charge!</h2>\n    <p><a href=\"https://cocl.us/bottemNotebooksPython101Coursera\"><img src=\"https://s3-api.us-geo.objectstorage.softlayer.net/cf-courses-data/CognitiveClass/PY0101EN/Ad/BottomAd.png\" width=\"750\" align=\"center\"></a></p>\n</div>"
        },
        {
            "metadata": {},
            "cell_type": "markdown",
            "source": "<h3>About the Authors:</h3>  \n<p><a href=\"https://www.linkedin.com/in/joseph-s-50398b136/\" target=\"_blank\">Joseph Santarcangelo</a> is a Data Scientist at IBM, and holds a PhD in Electrical Engineering. His research focused on using Machine Learning, Signal Processing, and Computer Vision to determine how videos impact human cognition. Joseph has been working for IBM since he completed his PhD.</p>"
        },
        {
            "metadata": {},
            "cell_type": "markdown",
            "source": "Other contributors: <a href=\"www.linkedin.com/in/jiahui-mavis-zhou-a4537814a\">Mavis Zhou</a>, <a href=\"https://www.linkedin.com/in/reevejamesd/\">James Reeve</a>"
        },
        {
            "metadata": {},
            "cell_type": "markdown",
            "source": "<hr>"
        },
        {
            "metadata": {},
            "cell_type": "markdown",
            "source": "<p>Copyright &copy; 2018 IBM Developer Skills Network. This notebook and its source code are released under the terms of the <a href=\"https://cognitiveclass.ai/mit-license/\">MIT License</a>.</p>"
        }
    ],
    "metadata": {
        "kernelspec": {
            "name": "python3",
            "display_name": "Python 3.6",
            "language": "python"
        },
        "language_info": {
            "name": "python",
            "version": "3.6.9",
            "mimetype": "text/x-python",
            "codemirror_mode": {
                "name": "ipython",
                "version": 3
            },
            "pygments_lexer": "ipython3",
            "nbconvert_exporter": "python",
            "file_extension": ".py"
        }
    },
    "nbformat": 4,
    "nbformat_minor": 2
}
