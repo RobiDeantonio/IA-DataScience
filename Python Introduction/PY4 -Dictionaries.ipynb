{
    "cells": [
        {
            "metadata": {},
            "cell_type": "markdown",
            "source": "<a href=\"https://cognitiveclass.ai/\">\n    <img src=\"https://s3-api.us-geo.objectstorage.softlayer.net/cf-courses-data/CognitiveClass/PY0101EN/Ad/CCLog.png\" width=\"200\" align=\"center\">\n</a>"
        },
        {
            "metadata": {},
            "cell_type": "markdown",
            "source": "<h1>Dictionaries in Python</h1>"
        },
        {
            "metadata": {},
            "cell_type": "markdown",
            "source": "<p><strong>Welcome!</strong> This notebook will teach you about the dictionaries in the Python Programming Language. By the end of this lab, you'll know the basics dictionary operations in Python, including what it is, and the operations on it.</p>"
        },
        {
            "metadata": {},
            "cell_type": "markdown",
            "source": "<div class=\"alert alert-block alert-info\" style=\"margin-top: 20px\">\n    <a href=\"http://cocl.us/topNotebooksPython101Coursera\">\n         <img src=\"https://s3-api.us-geo.objectstorage.softlayer.net/cf-courses-data/CognitiveClass/PY0101EN/Ad/TopAd.png\" width=\"750\" align=\"center\">\n    </a>\n</div>"
        },
        {
            "metadata": {},
            "cell_type": "markdown",
            "source": "<h2>Table of Contents</h2>\n<div class=\"alert alert-block alert-info\" style=\"margin-top: 20px\">\n    <ul>\n        <li>\n            <a href=\"#dic\">Dictionaries</a>\n            <ul>\n                <li><a href=\"content\">What are Dictionaries?</a></li>\n                <li><a href=\"key\">Keys</a></li>\n            </ul>\n        </li>\n        <li>\n            <a href=\"#quiz\">Quiz on Dictionaries</a>\n        </li>\n    </ul>\n    <p>\n        Estimated time needed: <strong>20 min</strong>\n    </p>\n</div>\n\n<hr>"
        },
        {
            "metadata": {},
            "cell_type": "markdown",
            "source": "<h2 id=\"Dic\">Dictionaries</h2>"
        },
        {
            "metadata": {},
            "cell_type": "markdown",
            "source": "<h3 id=\"content\">What are Dictionaries?</h3>"
        },
        {
            "metadata": {},
            "cell_type": "markdown",
            "source": "A dictionary consists of keys and values. It is helpful to compare a dictionary to a list. Instead of the numerical indexes such as a list, dictionaries have keys. These keys are the keys that are used to access values within a dictionary."
        },
        {
            "metadata": {},
            "cell_type": "markdown",
            "source": "<img src=\"https://s3-api.us-geo.objectstorage.softlayer.net/cf-courses-data/CognitiveClass/PY0101EN/Chapter%202/Images/DictsList.png\" width=\"650\" />"
        },
        {
            "metadata": {},
            "cell_type": "markdown",
            "source": "An example of a Dictionary <code>Dict</code>:"
        },
        {
            "metadata": {},
            "cell_type": "code",
            "source": "# Create the dictionary\n\nDict = {\"key1\": 1, \"key2\": \"2\", \"key3\": [3, 3, 3], \"key4\": (4, 4, 4), ('key5'): 5, (0, 1): 6}\nDict",
            "execution_count": 1,
            "outputs": [
                {
                    "output_type": "execute_result",
                    "execution_count": 1,
                    "data": {
                        "text/plain": "{'key1': 1,\n 'key2': '2',\n 'key3': [3, 3, 3],\n 'key4': (4, 4, 4),\n 'key5': 5,\n (0, 1): 6}"
                    },
                    "metadata": {}
                }
            ]
        },
        {
            "metadata": {},
            "cell_type": "markdown",
            "source": "The keys can be strings:"
        },
        {
            "metadata": {},
            "cell_type": "code",
            "source": "# Access to the value by the key\n\nDict[\"key1\"]",
            "execution_count": 2,
            "outputs": [
                {
                    "output_type": "execute_result",
                    "execution_count": 2,
                    "data": {
                        "text/plain": "1"
                    },
                    "metadata": {}
                }
            ]
        },
        {
            "metadata": {},
            "cell_type": "markdown",
            "source": "Keys can also be any immutable object such as a tuple: "
        },
        {
            "metadata": {},
            "cell_type": "code",
            "source": "# Access to the value by the key\n\nDict[(0, 1)]",
            "execution_count": 3,
            "outputs": [
                {
                    "output_type": "execute_result",
                    "execution_count": 3,
                    "data": {
                        "text/plain": "6"
                    },
                    "metadata": {}
                }
            ]
        },
        {
            "metadata": {},
            "cell_type": "markdown",
            "source": " Each key is separated from its value by a colon \"<code>:</code>\".  Commas separate the items, and the whole dictionary is enclosed in curly braces. An empty dictionary without any items is written with just two curly braces, like this  \"<code>{}</code>\"."
        },
        {
            "metadata": {},
            "cell_type": "code",
            "source": "# Create a sample dictionary\n\nrelease_year_dict = {\"Thriller\": \"1982\", \"Back in Black\": \"1980\", \\\n                    \"The Dark Side of the Moon\": \"1973\", \"The Bodyguard\": \"1992\", \\\n                    \"Bat Out of Hell\": \"1977\", \"Their Greatest Hits (1971-1975)\": \"1976\", \\\n                    \"Saturday Night Fever\": \"1977\", \"Rumours\": \"1977\"}\nrelease_year_dict",
            "execution_count": 4,
            "outputs": [
                {
                    "output_type": "execute_result",
                    "execution_count": 4,
                    "data": {
                        "text/plain": "{'Thriller': '1982',\n 'Back in Black': '1980',\n 'The Dark Side of the Moon': '1973',\n 'The Bodyguard': '1992',\n 'Bat Out of Hell': '1977',\n 'Their Greatest Hits (1971-1975)': '1976',\n 'Saturday Night Fever': '1977',\n 'Rumours': '1977'}"
                    },
                    "metadata": {}
                }
            ]
        },
        {
            "metadata": {},
            "cell_type": "markdown",
            "source": "In summary, like a list, a dictionary holds a sequence of elements. Each element is represented by a key and its corresponding value. Dictionaries are created with two curly braces containing keys and values separated by a colon. For every key, there can only be one single value, however,  multiple keys can hold the same value. Keys can only be strings, numbers, or tuples, but values can be any data type."
        },
        {
            "metadata": {},
            "cell_type": "markdown",
            "source": "It is helpful to visualize the dictionary as a table, as in the following image. The first column represents the keys, the second column represents the values."
        },
        {
            "metadata": {},
            "cell_type": "markdown",
            "source": "<img src=\"https://s3-api.us-geo.objectstorage.softlayer.net/cf-courses-data/CognitiveClass/PY0101EN/Chapter%202/Images/DictsStructure.png\" width=\"650\" />"
        },
        {
            "metadata": {},
            "cell_type": "markdown",
            "source": "<h3 id=\"key\">Keys</h3>"
        },
        {
            "metadata": {},
            "cell_type": "markdown",
            "source": "You can retrieve the values based on the names:"
        },
        {
            "metadata": {},
            "cell_type": "code",
            "source": "# Get value by keys\n\nrelease_year_dict['Thriller'] ",
            "execution_count": 5,
            "outputs": [
                {
                    "output_type": "execute_result",
                    "execution_count": 5,
                    "data": {
                        "text/plain": "'1982'"
                    },
                    "metadata": {}
                }
            ]
        },
        {
            "metadata": {},
            "cell_type": "markdown",
            "source": "This corresponds to: \n"
        },
        {
            "metadata": {},
            "cell_type": "markdown",
            "source": "<img src=\"https://s3-api.us-geo.objectstorage.softlayer.net/cf-courses-data/CognitiveClass/PY0101EN/Chapter%202/Images/DictsKeyOne.png\" width=\"500\" />"
        },
        {
            "metadata": {},
            "cell_type": "markdown",
            "source": "Similarly for <b>The Bodyguard</b>"
        },
        {
            "metadata": {},
            "cell_type": "code",
            "source": "# Get value by key\n\nrelease_year_dict['The Bodyguard'] ",
            "execution_count": 6,
            "outputs": [
                {
                    "output_type": "execute_result",
                    "execution_count": 6,
                    "data": {
                        "text/plain": "'1992'"
                    },
                    "metadata": {}
                }
            ]
        },
        {
            "metadata": {},
            "cell_type": "markdown",
            "source": "<img src=\"https://s3-api.us-geo.objectstorage.softlayer.net/cf-courses-data/CognitiveClass/PY0101EN/Chapter%202/Images/DictsKeyTwo.png\" width=\"500\" />"
        },
        {
            "metadata": {},
            "cell_type": "markdown",
            "source": "Now let you retrieve the keys of the dictionary using the method <code>release_year_dict()</code>:"
        },
        {
            "metadata": {},
            "cell_type": "code",
            "source": "# Get all the keys in dictionary\n\nrelease_year_dict.keys() ",
            "execution_count": 7,
            "outputs": [
                {
                    "output_type": "execute_result",
                    "execution_count": 7,
                    "data": {
                        "text/plain": "dict_keys(['Thriller', 'Back in Black', 'The Dark Side of the Moon', 'The Bodyguard', 'Bat Out of Hell', 'Their Greatest Hits (1971-1975)', 'Saturday Night Fever', 'Rumours'])"
                    },
                    "metadata": {}
                }
            ]
        },
        {
            "metadata": {},
            "cell_type": "markdown",
            "source": "You can retrieve the values using the method  <code>values()</code>:"
        },
        {
            "metadata": {},
            "cell_type": "code",
            "source": "# Get all the values in dictionary\n\nrelease_year_dict.values() ",
            "execution_count": 8,
            "outputs": [
                {
                    "output_type": "execute_result",
                    "execution_count": 8,
                    "data": {
                        "text/plain": "dict_values(['1982', '1980', '1973', '1992', '1977', '1976', '1977', '1977'])"
                    },
                    "metadata": {}
                }
            ]
        },
        {
            "metadata": {},
            "cell_type": "markdown",
            "source": "We can add an entry:"
        },
        {
            "metadata": {},
            "cell_type": "code",
            "source": "# Append value with key into dictionary\n\nrelease_year_dict['Graduation'] = '2007'\nrelease_year_dict",
            "execution_count": 9,
            "outputs": [
                {
                    "output_type": "execute_result",
                    "execution_count": 9,
                    "data": {
                        "text/plain": "{'Thriller': '1982',\n 'Back in Black': '1980',\n 'The Dark Side of the Moon': '1973',\n 'The Bodyguard': '1992',\n 'Bat Out of Hell': '1977',\n 'Their Greatest Hits (1971-1975)': '1976',\n 'Saturday Night Fever': '1977',\n 'Rumours': '1977',\n 'Graduation': '2007'}"
                    },
                    "metadata": {}
                }
            ]
        },
        {
            "metadata": {},
            "cell_type": "markdown",
            "source": "We can delete an entry:   "
        },
        {
            "metadata": {},
            "cell_type": "code",
            "source": "# Delete entries by key\n\ndel(release_year_dict['Thriller'])\ndel(release_year_dict['Graduation'])\nrelease_year_dict",
            "execution_count": 10,
            "outputs": [
                {
                    "output_type": "execute_result",
                    "execution_count": 10,
                    "data": {
                        "text/plain": "{'Back in Black': '1980',\n 'The Dark Side of the Moon': '1973',\n 'The Bodyguard': '1992',\n 'Bat Out of Hell': '1977',\n 'Their Greatest Hits (1971-1975)': '1976',\n 'Saturday Night Fever': '1977',\n 'Rumours': '1977'}"
                    },
                    "metadata": {}
                }
            ]
        },
        {
            "metadata": {},
            "cell_type": "markdown",
            "source": " We can verify if an element is in the dictionary: "
        },
        {
            "metadata": {},
            "cell_type": "code",
            "source": "# Verify the key is in the dictionary\n\n'The Bodyguard' in release_year_dict",
            "execution_count": 11,
            "outputs": [
                {
                    "output_type": "execute_result",
                    "execution_count": 11,
                    "data": {
                        "text/plain": "True"
                    },
                    "metadata": {}
                }
            ]
        },
        {
            "metadata": {},
            "cell_type": "markdown",
            "source": "<hr>"
        },
        {
            "metadata": {},
            "cell_type": "markdown",
            "source": "<h2 id=\"quiz\">Quiz on Dictionaries</h2>"
        },
        {
            "metadata": {},
            "cell_type": "markdown",
            "source": "<b>You will need this dictionary for the next two questions:</b>"
        },
        {
            "metadata": {},
            "cell_type": "code",
            "source": "# Question sample dictionary\n\nsoundtrack_dic = {\"The Bodyguard\":\"1992\", \"Saturday Night Fever\":\"1977\"}\nsoundtrack_dic ",
            "execution_count": 12,
            "outputs": [
                {
                    "output_type": "execute_result",
                    "execution_count": 12,
                    "data": {
                        "text/plain": "{'The Bodyguard': '1992', 'Saturday Night Fever': '1977'}"
                    },
                    "metadata": {}
                }
            ]
        },
        {
            "metadata": {},
            "cell_type": "markdown",
            "source": "a) In the dictionary <code>soundtrack_dict</code> what are the keys ?"
        },
        {
            "metadata": {},
            "cell_type": "code",
            "source": "# Write your code below and press Shift+Enter to execute\nsoundtrack_dic.keys() # The Keys \"The Bodyguard\" and \"Saturday Night Fever\" ",
            "execution_count": 13,
            "outputs": [
                {
                    "output_type": "execute_result",
                    "execution_count": 13,
                    "data": {
                        "text/plain": "dict_keys(['The Bodyguard', 'Saturday Night Fever'])"
                    },
                    "metadata": {}
                }
            ]
        },
        {
            "metadata": {},
            "cell_type": "markdown",
            "source": "Double-click __here__ for the solution.\n\n<!-- Your answer is below:\nsoundtrack_dic.keys() # The Keys \"The Bodyguard\" and \"Saturday Night Fever\" \n-->"
        },
        {
            "metadata": {},
            "cell_type": "markdown",
            "source": "b) In the dictionary <code>soundtrack_dict</code> what are the values ?"
        },
        {
            "metadata": {},
            "cell_type": "code",
            "source": "# Write your code below and press Shift+Enter to execute\nsoundtrack_dic.values() # The values are \"1992\" and \"1977\"",
            "execution_count": 14,
            "outputs": [
                {
                    "output_type": "execute_result",
                    "execution_count": 14,
                    "data": {
                        "text/plain": "dict_values(['1992', '1977'])"
                    },
                    "metadata": {}
                }
            ]
        },
        {
            "metadata": {},
            "cell_type": "markdown",
            "source": "Double-click __here__ for the solution.\n\n<!-- Your answer is below:\nsoundtrack_dic.values() # The values are \"1992\" and \"1977\"\n-->"
        },
        {
            "metadata": {},
            "cell_type": "markdown",
            "source": "<hr>"
        },
        {
            "metadata": {},
            "cell_type": "markdown",
            "source": "<b>You will need this dictionary for the following questions:</b>"
        },
        {
            "metadata": {},
            "cell_type": "markdown",
            "source": "The Albums <b>Back in Black</b>, <b>The Bodyguard</b> and <b>Thriller</b> have the following music recording sales in millions 50, 50 and 65 respectively:"
        },
        {
            "metadata": {},
            "cell_type": "markdown",
            "source": "a) Create a dictionary <code>album_sales_dict</code> where the keys are the album name and the sales in millions are the values. "
        },
        {
            "metadata": {},
            "cell_type": "code",
            "source": "# Write your code below and press Shift+Enter to execute\nalbum_sales_dict = {\"The Bodyguard\":50, \"Back in Black\":50, \"Thriller\":65}\n",
            "execution_count": 15,
            "outputs": []
        },
        {
            "metadata": {},
            "cell_type": "markdown",
            "source": "Double-click __here__ for the solution.\n\n<!-- Your answer is below:\nalbum_sales_dict = {\"The Bodyguard\":50, \"Back in Black\":50, \"Thriller\":65}\n-->"
        },
        {
            "metadata": {},
            "cell_type": "markdown",
            "source": "b) Use the dictionary to find the total sales of <b>Thriller</b>:"
        },
        {
            "metadata": {},
            "cell_type": "code",
            "source": "# Write your code below and press Shift+Enter to execute\nalbum_sales_dict[\"Thriller\"]",
            "execution_count": 16,
            "outputs": [
                {
                    "output_type": "execute_result",
                    "execution_count": 16,
                    "data": {
                        "text/plain": "65"
                    },
                    "metadata": {}
                }
            ]
        },
        {
            "metadata": {},
            "cell_type": "markdown",
            "source": "Double-click __here__ for the solution.\n\n<!-- Your answer is below:\nalbum_sales_dict[\"Thriller\"]\n-->"
        },
        {
            "metadata": {},
            "cell_type": "markdown",
            "source": "c) Find the names of the albums from the dictionary using the method <code>keys</code>:"
        },
        {
            "metadata": {},
            "cell_type": "code",
            "source": "# Write your code below and press Shift+Enter to execute\nalbum_sales_dict.keys()",
            "execution_count": 17,
            "outputs": [
                {
                    "output_type": "execute_result",
                    "execution_count": 17,
                    "data": {
                        "text/plain": "dict_keys(['The Bodyguard', 'Back in Black', 'Thriller'])"
                    },
                    "metadata": {}
                }
            ]
        },
        {
            "metadata": {},
            "cell_type": "markdown",
            "source": "Double-click __here__ for the solution.\n\n<!-- Your answer is below:\nalbum_sales_dict.keys()\n-->"
        },
        {
            "metadata": {},
            "cell_type": "markdown",
            "source": "d) Find the names of the recording sales from the dictionary using the method <code>values</code>:"
        },
        {
            "metadata": {},
            "cell_type": "code",
            "source": "# Write your code below and press Shift+Enter to execute\nalbum_sales_dict.values()",
            "execution_count": 18,
            "outputs": [
                {
                    "output_type": "execute_result",
                    "execution_count": 18,
                    "data": {
                        "text/plain": "dict_values([50, 50, 65])"
                    },
                    "metadata": {}
                }
            ]
        },
        {
            "metadata": {},
            "cell_type": "markdown",
            "source": "Double-click __here__ for the solution.\n\n<!-- Your answer is below:\nalbum_sales_dict.values()\n-->"
        },
        {
            "metadata": {},
            "cell_type": "markdown",
            "source": "<hr>\n<h2>The last exercise!</h2>\n<p>Congratulations, you have completed your first lesson and hands-on lab in Python. However, there is one more thing you need to do. The Data Science community encourages sharing work. The best way to share and showcase your work is to share it on GitHub. By sharing your notebook on GitHub you are not only building your reputation with fellow data scientists, but you can also show it off when applying for a job. Even though this was your first piece of work, it is never too early to start building good habits. So, please read and follow <a href=\"https://cognitiveclass.ai/blog/data-scientists-stand-out-by-sharing-your-notebooks/\" target=\"_blank\">this article</a> to learn how to share your work.\n<hr>"
        },
        {
            "metadata": {},
            "cell_type": "markdown",
            "source": "<div class=\"alert alert-block alert-info\" style=\"margin-top: 20px\">\n<h2>Get IBM Watson Studio free of charge!</h2>\n    <p><a href=\"https://cocl.us/bottemNotebooksPython101Coursera\"><img src=\"https://s3-api.us-geo.objectstorage.softlayer.net/cf-courses-data/CognitiveClass/PY0101EN/Ad/BottomAd.png\" width=\"750\" align=\"center\"></a></p>\n</div>"
        },
        {
            "metadata": {},
            "cell_type": "markdown",
            "source": "<h3>About the Authors:</h3>  \n<p><a href=\"https://www.linkedin.com/in/joseph-s-50398b136/\" target=\"_blank\">Joseph Santarcangelo</a> is a Data Scientist at IBM, and holds a PhD in Electrical Engineering. His research focused on using Machine Learning, Signal Processing, and Computer Vision to determine how videos impact human cognition. Joseph has been working for IBM since he completed his PhD.</p>"
        },
        {
            "metadata": {},
            "cell_type": "markdown",
            "source": "Other contributors: <a href=\"www.linkedin.com/in/jiahui-mavis-zhou-a4537814a\">Mavis Zhou</a>"
        },
        {
            "metadata": {},
            "cell_type": "markdown",
            "source": "<hr>"
        },
        {
            "metadata": {},
            "cell_type": "markdown",
            "source": "<p>Copyright &copy; 2018 IBM Developer Skills Network. This notebook and its source code are released under the terms of the <a href=\"https://cognitiveclass.ai/mit-license/\">MIT License</a>.</p>"
        }
    ],
    "metadata": {
        "kernelspec": {
            "name": "python3",
            "display_name": "Python 3.6",
            "language": "python"
        },
        "language_info": {
            "name": "python",
            "version": "3.6.9",
            "mimetype": "text/x-python",
            "codemirror_mode": {
                "name": "ipython",
                "version": 3
            },
            "pygments_lexer": "ipython3",
            "nbconvert_exporter": "python",
            "file_extension": ".py"
        }
    },
    "nbformat": 4,
    "nbformat_minor": 2
}