{
    "cells": [
        {
            "metadata": {},
            "cell_type": "markdown",
            "source": ""
        },
        {
            "metadata": {},
            "cell_type": "markdown",
            "source": "<a href=\"https://cognitiveclass.ai/\">\n    <img src=\"https://s3-api.us-geo.objectstorage.softlayer.net/cf-courses-data/CognitiveClass/PY0101EN/Ad/CCLog.png\" width=\"200\" align=\"center\">\n</a>"
        },
        {
            "metadata": {},
            "cell_type": "markdown",
            "source": "<h1>Loops in Python</h1>"
        },
        {
            "metadata": {},
            "cell_type": "markdown",
            "source": "<p><strong>Welcome!</strong> This notebook will teach you about the loops in the Python Programming Language. By the end of this lab, you'll know how to use the loop statements in Python, including for loop, and while loop.</p>"
        },
        {
            "metadata": {},
            "cell_type": "markdown",
            "source": "<div class=\"alert alert-block alert-info\" style=\"margin-top: 20px\">\n    <a href=\"https://cocl.us/topNotebooksPython101Coursera\">\n         <img src=\"https://s3-api.us-geo.objectstorage.softlayer.net/cf-courses-data/CognitiveClass/PY0101EN/Ad/TopAd.png\" width=\"750\" align=\"center\">\n    </a>\n</div>"
        },
        {
            "metadata": {},
            "cell_type": "markdown",
            "source": "<h2>Table of Contents</h2>\n<div class=\"alert alert-block alert-info\" style=\"margin-top: 20px\">\n    <ul>\n        <li>\n            <a href=\"#loop\">Loops</a>\n            <ul>\n                <li><a href=\"range\">Range</a></li>\n                <li><a href=\"for\">What is <code>for</code> loop?</a></li>\n                <li><a href=\"while\">What is <code>while</code> loop?</a></li>\n            </ul>\n        </li>\n        <li>\n            <a href=\"#quiz\">Quiz on Loops</a>\n        </li>\n    </ul>\n    <p>\n        Estimated time needed: <strong>20 min</strong>\n    </p>\n</div>\n\n<hr>"
        },
        {
            "metadata": {},
            "cell_type": "markdown",
            "source": "<h2 id=\"loop\">Loops</h2>"
        },
        {
            "metadata": {},
            "cell_type": "markdown",
            "source": "<h3 id=\"range\">Range</h3>"
        },
        {
            "metadata": {},
            "cell_type": "markdown",
            "source": "Sometimes, you might want to repeat a given operation many times. Repeated executions like this are performed by <b>loops</b>. We will look at two types of loops, <code>for</code> loops and <code>while</code> loops.\n\nBefore we discuss loops lets discuss the <code>range</code> object. It is helpful to think of the range object as an ordered list. For now, let's look at the simplest case. If we would like to generate a sequence that contains three elements ordered from 0 to 2 we simply use the following command:"
        },
        {
            "metadata": {},
            "cell_type": "code",
            "source": "# Use the range\n\nrange(3)",
            "execution_count": 1,
            "outputs": [
                {
                    "output_type": "execute_result",
                    "execution_count": 1,
                    "data": {
                        "text/plain": "range(0, 3)"
                    },
                    "metadata": {}
                }
            ]
        },
        {
            "metadata": {},
            "cell_type": "markdown",
            "source": "<img src=\"https://s3-api.us-geo.objectstorage.softlayer.net/cf-courses-data/CognitiveClass/PY0101EN/Chapter%203/Images/LoopsRange.png\" width=\"300\" />"
        },
        {
            "metadata": {},
            "cell_type": "markdown",
            "source": "<h3 id=\"for\">What is <code>for</code> loop?</h3>"
        },
        {
            "metadata": {},
            "cell_type": "markdown",
            "source": "The <code>for</code> loop enables you to execute a code block multiple times. For example, you would use this if you would like to print out every element in a list.    \nLet's try to use a <code>for</code> loop to print all the years presented in the list <code>dates</code>:"
        },
        {
            "metadata": {},
            "cell_type": "markdown",
            "source": "This can be done as follows:"
        },
        {
            "metadata": {},
            "cell_type": "code",
            "source": "# For loop example\n\ndates = [1982,1980,1973]\nN = len(dates)\n\nfor i in range(N):\n    print(dates[i])     ",
            "execution_count": 2,
            "outputs": [
                {
                    "output_type": "stream",
                    "text": "1982\n1980\n1973\n",
                    "name": "stdout"
                }
            ]
        },
        {
            "metadata": {},
            "cell_type": "markdown",
            "source": "The code in the indent is executed <code>N</code> times, each time the value of <code>i</code> is increased by 1 for every execution. The statement executed is to <code>print</code> out the value in the list at index <code>i</code> as shown here:"
        },
        {
            "metadata": {},
            "cell_type": "markdown",
            "source": "<img src=\"https://s3-api.us-geo.objectstorage.softlayer.net/cf-courses-data/CognitiveClass/PY0101EN/Chapter%203/Images/LoopsForRange.gif\" width=\"800\" />"
        },
        {
            "metadata": {},
            "cell_type": "markdown",
            "source": "In this example we can print out a sequence of numbers from 0 to 7:"
        },
        {
            "metadata": {},
            "cell_type": "code",
            "source": "# Example of for loop\n\nfor i in range(0, 8):\n    print(i)",
            "execution_count": 3,
            "outputs": [
                {
                    "output_type": "stream",
                    "text": "0\n1\n2\n3\n4\n5\n6\n7\n",
                    "name": "stdout"
                }
            ]
        },
        {
            "metadata": {},
            "cell_type": "markdown",
            "source": "In Python we can directly access the elements in the list as follows: "
        },
        {
            "metadata": {},
            "cell_type": "code",
            "source": "# Exmaple of for loop, loop through list\n\nfor year in dates:  \n    print(year)   ",
            "execution_count": 4,
            "outputs": [
                {
                    "output_type": "stream",
                    "text": "1982\n1980\n1973\n",
                    "name": "stdout"
                }
            ]
        },
        {
            "metadata": {},
            "cell_type": "markdown",
            "source": "For each iteration, the value of the variable <code>years</code> behaves like the value of <code>dates[i]</code> in the  first example:"
        },
        {
            "metadata": {},
            "cell_type": "markdown",
            "source": "<img src=\"https://s3-api.us-geo.objectstorage.softlayer.net/cf-courses-data/CognitiveClass/PY0101EN/Chapter%203/Images/LoopsForList.gif\" width=\"800\">"
        },
        {
            "metadata": {},
            "cell_type": "markdown",
            "source": "We can change the elements in a list:"
        },
        {
            "metadata": {},
            "cell_type": "code",
            "source": "# Use for loop to change the elements in list\n\nsquares = ['red', 'yellow', 'green', 'purple', 'blue']\n\nfor i in range(0, 5):\n    print(\"Before square \", i, 'is',  squares[i])\n    squares[i] = 'weight'\n    print(\"After square \", i, 'is',  squares[i])",
            "execution_count": 5,
            "outputs": [
                {
                    "output_type": "stream",
                    "text": "Before square  0 is red\nAfter square  0 is weight\nBefore square  1 is yellow\nAfter square  1 is weight\nBefore square  2 is green\nAfter square  2 is weight\nBefore square  3 is purple\nAfter square  3 is weight\nBefore square  4 is blue\nAfter square  4 is weight\n",
                    "name": "stdout"
                }
            ]
        },
        {
            "metadata": {},
            "cell_type": "markdown",
            "source": " We can access the index and the elements of a list as follows: "
        },
        {
            "metadata": {},
            "cell_type": "code",
            "source": "# Loop through the list and iterate on both index and element value\n\nsquares=['red', 'yellow', 'green', 'purple', 'blue']\n\nfor i, square in enumerate(squares):\n    print(i, square)",
            "execution_count": 6,
            "outputs": [
                {
                    "output_type": "stream",
                    "text": "0 red\n1 yellow\n2 green\n3 purple\n4 blue\n",
                    "name": "stdout"
                }
            ]
        },
        {
            "metadata": {},
            "cell_type": "markdown",
            "source": "<h3 id=\"while\">What is <code>while</code> loop?</h3>"
        },
        {
            "metadata": {},
            "cell_type": "markdown",
            "source": "As you can see, the <code>for</code> loop is used for a controlled flow of repetition. However, what if we don't know when we want to stop the loop? What if we want to keep executing a code block until a certain condition is met? The <code>while</code> loop exists as a tool for repeated execution based on a condition. The code block will keep being executed until the given logical condition returns a **False** boolean value.\n"
        },
        {
            "metadata": {},
            "cell_type": "markdown",
            "source": "Let\u2019s say we would like to iterate through list <code>dates</code> and stop at the year 1973, then print out the number of iterations. This can be done with the following block of code:"
        },
        {
            "metadata": {},
            "cell_type": "code",
            "source": "# While Loop Example\n\ndates = [1982, 1980, 1973, 2000]\n\ni = 0\nyear = 0\n\nwhile(year != 1973):\n    year = dates[i]\n    i = i + 1\n    print(year)\n\nprint(\"It took \", i ,\"repetitions to get out of loop.\")",
            "execution_count": 7,
            "outputs": [
                {
                    "output_type": "stream",
                    "text": "1982\n1980\n1973\nIt took  3 repetitions to get out of loop.\n",
                    "name": "stdout"
                }
            ]
        },
        {
            "metadata": {},
            "cell_type": "markdown",
            "source": "A while loop iterates merely until the condition in the argument is not  met, as shown in the following figure:"
        },
        {
            "metadata": {},
            "cell_type": "markdown",
            "source": "<img src=\"https://s3-api.us-geo.objectstorage.softlayer.net/cf-courses-data/CognitiveClass/PY0101EN/Chapter%203/Images/LoopsWhile.gif\" width=\"650\" />"
        },
        {
            "metadata": {},
            "cell_type": "markdown",
            "source": "<hr>"
        },
        {
            "metadata": {},
            "cell_type": "markdown",
            "source": "<h2 id=\"quiz\">Quiz on Loops</h2>"
        },
        {
            "metadata": {},
            "cell_type": "markdown",
            "source": "Write a <code>for</code> loop the prints out all the element between <b>-5</b> and <b>5</b> using the range function."
        },
        {
            "metadata": {},
            "cell_type": "code",
            "source": "# Write your code below and press Shift+Enter to execute\nfor i in range(-5, 6):\n    print(i)",
            "execution_count": 8,
            "outputs": [
                {
                    "output_type": "stream",
                    "text": "-5\n-4\n-3\n-2\n-1\n0\n1\n2\n3\n4\n5\n",
                    "name": "stdout"
                }
            ]
        },
        {
            "metadata": {},
            "cell_type": "markdown",
            "source": "Double-click __here__ for the solution.\n<!-- \nfor i in range(-5, 6):\n    print(i)\n-->"
        },
        {
            "metadata": {},
            "cell_type": "markdown",
            "source": "Print the elements of the following list:\n<code>Genres=[ 'rock', 'R&B', 'Soundtrack', 'R&B', 'soul', 'pop']</code>\nMake sure you follow Python conventions."
        },
        {
            "metadata": {},
            "cell_type": "code",
            "source": "# Write your code below and press Shift+Enter to execute\nGenres = ['rock', 'R&B', 'Soundtrack', 'R&B', 'soul', 'pop']\nfor Genre in Genres:\n    print(Genre)",
            "execution_count": 9,
            "outputs": [
                {
                    "output_type": "stream",
                    "text": "rock\nR&B\nSoundtrack\nR&B\nsoul\npop\n",
                    "name": "stdout"
                }
            ]
        },
        {
            "metadata": {},
            "cell_type": "markdown",
            "source": "Double-click __here__ for the solution.\n<!-- \nGenres = ['rock', 'R&B', 'Soundtrack', 'R&B', 'soul', 'pop']\nfor Genre in Genres:\n    print(Genre)\n-->"
        },
        {
            "metadata": {},
            "cell_type": "markdown",
            "source": "<hr>"
        },
        {
            "metadata": {},
            "cell_type": "markdown",
            "source": "Write a for loop that prints out the following list: <code>squares=['red', 'yellow', 'green', 'purple', 'blue']</code>"
        },
        {
            "metadata": {},
            "cell_type": "code",
            "source": "# Write your code below and press Shift+Enter to execute\nsquares=['red', 'yellow', 'green', 'purple', 'blue']\nfor square in squares:\n    print(square)",
            "execution_count": 10,
            "outputs": [
                {
                    "output_type": "stream",
                    "text": "red\nyellow\ngreen\npurple\nblue\n",
                    "name": "stdout"
                }
            ]
        },
        {
            "metadata": {},
            "cell_type": "markdown",
            "source": "Double-click __here__ for the solution.\n<!-- \nsquares=['red', 'yellow', 'green', 'purple', 'blue']\nfor square in squares:\n    print(square)\n -->"
        },
        {
            "metadata": {},
            "cell_type": "markdown",
            "source": "<hr>"
        },
        {
            "metadata": {},
            "cell_type": "markdown",
            "source": "Write a while loop to display the values of the Rating of an album playlist stored in the list <code>PlayListRatings</code>. If the score is less than 6, exit the loop. The list <code>PlayListRatings</code> is given by: <code>PlayListRatings = [10, 9.5, 10, 8, 7.5, 5, 10, 10]</code>"
        },
        {
            "metadata": {},
            "cell_type": "code",
            "source": "# Write your code below and press Shift+Enter to execute\nPlayListRatings = [10, 9.5, 10, 8, 7.5, 5, 10, 10]\ni = 1\nRating = PlayListRatings[0]\nwhile(Rating >= 6):\n    print(Rating)\n    Rating = PlayListRatings[i]\n    i = i + 1",
            "execution_count": 11,
            "outputs": [
                {
                    "output_type": "stream",
                    "text": "10\n9.5\n10\n8\n7.5\n",
                    "name": "stdout"
                }
            ]
        },
        {
            "metadata": {},
            "cell_type": "markdown",
            "source": "Double-click __here__ for the solution.\n<!-- \nPlayListRatings = [10, 9.5, 10, 8, 7.5, 5, 10, 10]\ni = 1\nRating = PlayListRatings[0]\nwhile(Rating >= 6):\n    print(Rating)\n    Rating = PlayListRatings[i]\n    i = i + 1\n -->"
        },
        {
            "metadata": {},
            "cell_type": "markdown",
            "source": "<hr>"
        },
        {
            "metadata": {},
            "cell_type": "markdown",
            "source": "Write a while loop to copy the strings <code>'orange'</code> of the list <code>squares</code> to the list <code>new_squares</code>. Stop and exit the loop if the value on the list is not <code>'orange'</code>:"
        },
        {
            "metadata": {},
            "cell_type": "code",
            "source": "# Write your code below and press Shift+Enter to execute\n\nsquares = ['orange', 'orange', 'purple', 'blue ', 'orange']\nnew_squares = []\ni = 0\nwhile(squares[i] == 'orange'):\n    new_squares.append(squares[i])\n    i = i + 1\nprint (new_squares)",
            "execution_count": 12,
            "outputs": [
                {
                    "output_type": "stream",
                    "text": "['orange', 'orange']\n",
                    "name": "stdout"
                }
            ]
        },
        {
            "metadata": {},
            "cell_type": "markdown",
            "source": "Double-click __here__ for the solution.\n<!-- \nsquares = ['orange', 'orange', 'purple', 'blue ', 'orange']\nnew_squares = []\ni = 0\nwhile(squares[i] == 'orange'):\n    new_squares.append(squares[i])\n    i = i + 1\nprint (new_squares)\n -->"
        },
        {
            "metadata": {},
            "cell_type": "markdown",
            "source": "<hr>\n<h2>The last exercise!</h2>\n<p>Congratulations, you have completed your first lesson and hands-on lab in Python. However, there is one more thing you need to do. The Data Science community encourages sharing work. The best way to share and showcase your work is to share it on GitHub. By sharing your notebook on GitHub you are not only building your reputation with fellow data scientists, but you can also show it off when applying for a job. Even though this was your first piece of work, it is never too early to start building good habits. So, please read and follow <a href=\"https://cognitiveclass.ai/blog/data-scientists-stand-out-by-sharing-your-notebooks/\" target=\"_blank\">this article</a> to learn how to share your work.\n<hr>"
        },
        {
            "metadata": {},
            "cell_type": "markdown",
            "source": "<div class=\"alert alert-block alert-info\" style=\"margin-top: 20px\">\n<h2>Get IBM Watson Studio free of charge!</h2>\n    <p><a href=\"https://cocl.us/bottemNotebooksPython101Coursera\"><img src=\"https://s3-api.us-geo.objectstorage.softlayer.net/cf-courses-data/CognitiveClass/PY0101EN/Ad/BottomAd.png\" width=\"750\" align=\"center\"></a></p>\n</div>"
        },
        {
            "metadata": {},
            "cell_type": "markdown",
            "source": "<h3>About the Authors:</h3>  \n<p><a href=\"https://www.linkedin.com/in/joseph-s-50398b136/\" target=\"_blank\">Joseph Santarcangelo</a> is a Data Scientist at IBM, and holds a PhD in Electrical Engineering. His research focused on using Machine Learning, Signal Processing, and Computer Vision to determine how videos impact human cognition. Joseph has been working for IBM since he completed his PhD.</p>"
        },
        {
            "metadata": {},
            "cell_type": "markdown",
            "source": "Other contributors: <a href=\"www.linkedin.com/in/jiahui-mavis-zhou-a4537814a\">Mavis Zhou</a>, <a href=\"https://www.linkedin.com/in/reevejamesd/\">James Reeve</a>"
        },
        {
            "metadata": {},
            "cell_type": "markdown",
            "source": "<hr>"
        },
        {
            "metadata": {},
            "cell_type": "markdown",
            "source": "<p>Copyright &copy; 2018 IBM Developer Skills Network. This notebook and its source code are released under the terms of the <a href=\"https://cognitiveclass.ai/mit-license/\">MIT License</a>.</p>"
        }
    ],
    "metadata": {
        "kernelspec": {
            "name": "python3",
            "display_name": "Python 3.6",
            "language": "python"
        },
        "language_info": {
            "name": "python",
            "version": "3.6.9",
            "mimetype": "text/x-python",
            "codemirror_mode": {
                "name": "ipython",
                "version": 3
            },
            "pygments_lexer": "ipython3",
            "nbconvert_exporter": "python",
            "file_extension": ".py"
        }
    },
    "nbformat": 4,
    "nbformat_minor": 2
}
