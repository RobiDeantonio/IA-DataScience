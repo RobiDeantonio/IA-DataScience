{
    "cells": [
        {
            "metadata": {},
            "cell_type": "markdown",
            "source": "<div class=\"alert alert-block alert-info\" style=\"margin-top: 20px\">\n    <a href=\"https://cocl.us/topNotebooksPython101Coursera\">\n         <img src=\"https://s3-api.us-geo.objectstorage.softlayer.net/cf-courses-data/CognitiveClass/PY0101EN/Ad/TopAd.png\" width=\"750\" align=\"center\">\n    </a>\n</div>"
        },
        {
            "metadata": {},
            "cell_type": "markdown",
            "source": "<a href=\"https://cognitiveclass.ai/\">\n    <img src=\"https://s3-api.us-geo.objectstorage.softlayer.net/cf-courses-data/CognitiveClass/PY0101EN/Ad/CCLog.png\" width=\"200\" align=\"center\">\n</a>"
        },
        {
            "metadata": {},
            "cell_type": "markdown",
            "source": "<h1>Reading Files Python</h1>"
        },
        {
            "metadata": {},
            "cell_type": "markdown",
            "source": "<p><strong>Welcome!</strong> This notebook will teach you about reading the text file in the Python Programming Language. By the end of this lab, you'll know how to read text files.</p>"
        },
        {
            "metadata": {},
            "cell_type": "markdown",
            "source": "<h2>Table of Contents</h2>\n<div class=\"alert alert-block alert-info\" style=\"margin-top: 20px\">\n    <ul>\n        <li><a href=\"download\">Download Data</a></li>\n        <li><a href=\"read\">Reading Text Files</a></li>\n        <li><a href=\"better\">A Better Way to Open a File</a></li>\n    </ul>\n    <p>\n        Estimated time needed: <strong>40 min</strong>\n    </p>\n</div>\n\n<hr>"
        },
        {
            "metadata": {},
            "cell_type": "markdown",
            "source": "<h2 id=\"download\">Download Data</h2>"
        },
        {
            "metadata": {},
            "cell_type": "code",
            "source": "# Download Example file\n!wget -O Example1.txt https://s3-api.us-geo.objectstorage.softlayer.net/cf-courses-data/CognitiveClass/PY0101EN/labs/example1.txt",
            "execution_count": 1,
            "outputs": [
                {
                    "output_type": "stream",
                    "text": "--2020-07-05 20:00:32--  https://s3-api.us-geo.objectstorage.softlayer.net/cf-courses-data/CognitiveClass/PY0101EN/labs/example1.txt\nResolving s3-api.us-geo.objectstorage.softlayer.net (s3-api.us-geo.objectstorage.softlayer.net)... 67.228.254.196\nConnecting to s3-api.us-geo.objectstorage.softlayer.net (s3-api.us-geo.objectstorage.softlayer.net)|67.228.254.196|:443... connected.\nHTTP request sent, awaiting response... 200 OK\nLength: 45 [text/plain]\nSaving to: \u2018Example1.txt\u2019\n\n100%[======================================>] 45          --.-K/s   in 0s      \n\n2020-07-05 20:00:32 (5.25 MB/s) - \u2018Example1.txt\u2019 saved [45/45]\n\n",
                    "name": "stdout"
                }
            ]
        },
        {
            "metadata": {},
            "cell_type": "markdown",
            "source": "<hr>"
        },
        {
            "metadata": {},
            "cell_type": "markdown",
            "source": "<h2 id=\"read\">Reading Text Files</h2>"
        },
        {
            "metadata": {},
            "cell_type": "markdown",
            "source": "One way to read or write a file in Python is to use the built-in\u00a0<code>open</code>\u00a0function.\u00a0The <code>open</code> function provides a <b>File object</b> that\u00a0contains the methods and attributes you need in order to read, save, and manipulate the file. In this notebook, we will only cover <b>.txt</b> files. The first parameter you need is the file path and the file name. An example is shown as follow:"
        },
        {
            "metadata": {},
            "cell_type": "markdown",
            "source": "<img src=\"https://s3-api.us-geo.objectstorage.softlayer.net/cf-courses-data/CognitiveClass/PY0101EN/Chapter%204/Images/ReadOpen.png\" width=\"500\" />"
        },
        {
            "metadata": {},
            "cell_type": "markdown",
            "source": " The mode argument is optional and the default value is <b>r</b>. In this notebook we only cover two modes:\u00a0\n<ul>\n    <li><b>r</b> Read mode for reading files </li>\n    <li><b>w</b> Write mode for writing files</li>\n</ul>"
        },
        {
            "metadata": {},
            "cell_type": "markdown",
            "source": "For the next example, we will use the text file <b>Example1.txt</b>. The file is shown as follow:"
        },
        {
            "metadata": {},
            "cell_type": "markdown",
            "source": "<img src=\"https://s3-api.us-geo.objectstorage.softlayer.net/cf-courses-data/CognitiveClass/PY0101EN/Chapter%204/Images/ReadFile.png\" width=\"200\" />"
        },
        {
            "metadata": {},
            "cell_type": "markdown",
            "source": " We read the file: "
        },
        {
            "metadata": {},
            "cell_type": "code",
            "source": "# Read the Example1.txt\n\nexample1 = \"Example1.txt\"\nfile1 = open(example1, \"r\")",
            "execution_count": 2,
            "outputs": []
        },
        {
            "metadata": {},
            "cell_type": "markdown",
            "source": " We can view the attributes of the file."
        },
        {
            "metadata": {},
            "cell_type": "markdown",
            "source": "The name of the file:"
        },
        {
            "metadata": {},
            "cell_type": "code",
            "source": "# Print the path of file\n\nfile1.name",
            "execution_count": 3,
            "outputs": [
                {
                    "output_type": "execute_result",
                    "execution_count": 3,
                    "data": {
                        "text/plain": "'Example1.txt'"
                    },
                    "metadata": {}
                }
            ]
        },
        {
            "metadata": {},
            "cell_type": "markdown",
            "source": " The mode the file object is in:"
        },
        {
            "metadata": {},
            "cell_type": "code",
            "source": "# Print the mode of file, either 'r' or 'w'\n\nfile1.mode",
            "execution_count": 4,
            "outputs": [
                {
                    "output_type": "execute_result",
                    "execution_count": 4,
                    "data": {
                        "text/plain": "'r'"
                    },
                    "metadata": {}
                }
            ]
        },
        {
            "metadata": {},
            "cell_type": "markdown",
            "source": "We can read the file and assign it to a variable :"
        },
        {
            "metadata": {},
            "cell_type": "code",
            "source": "# Read the file\n\nFileContent = file1.read()\nFileContent",
            "execution_count": 5,
            "outputs": [
                {
                    "output_type": "execute_result",
                    "execution_count": 5,
                    "data": {
                        "text/plain": "'This is line 1 \\nThis is line 2\\nThis is line 3'"
                    },
                    "metadata": {}
                }
            ]
        },
        {
            "metadata": {},
            "cell_type": "markdown",
            "source": "The <b>/n</b> means that there is a new line. "
        },
        {
            "metadata": {},
            "cell_type": "markdown",
            "source": "We can print the file: "
        },
        {
            "metadata": {},
            "cell_type": "code",
            "source": "# Print the file with '\\n' as a new line\n\nprint(FileContent)",
            "execution_count": 6,
            "outputs": [
                {
                    "output_type": "stream",
                    "text": "This is line 1 \nThis is line 2\nThis is line 3\n",
                    "name": "stdout"
                }
            ]
        },
        {
            "metadata": {},
            "cell_type": "markdown",
            "source": "The file is of type string:"
        },
        {
            "metadata": {},
            "cell_type": "code",
            "source": "# Type of file content\n\ntype(FileContent)",
            "execution_count": 7,
            "outputs": [
                {
                    "output_type": "execute_result",
                    "execution_count": 7,
                    "data": {
                        "text/plain": "str"
                    },
                    "metadata": {}
                }
            ]
        },
        {
            "metadata": {},
            "cell_type": "markdown",
            "source": " We must close the file object:"
        },
        {
            "metadata": {},
            "cell_type": "code",
            "source": "# Close file after finish\n\nfile1.close()",
            "execution_count": 8,
            "outputs": []
        },
        {
            "metadata": {},
            "cell_type": "markdown",
            "source": "<hr>"
        },
        {
            "metadata": {},
            "cell_type": "markdown",
            "source": "<h2 id=\"better\">A Better Way to Open a File</h2>"
        },
        {
            "metadata": {},
            "cell_type": "markdown",
            "source": "Using the <code>with</code> statement is better practice, it automatically closes the file even if the code encounters an exception. The code will run everything in the indent block then close the file object. "
        },
        {
            "metadata": {},
            "cell_type": "code",
            "source": "# Open file using with\n\nwith open(example1, \"r\") as file1:\n    FileContent = file1.read()\n    print(FileContent)",
            "execution_count": 9,
            "outputs": [
                {
                    "output_type": "stream",
                    "text": "This is line 1 \nThis is line 2\nThis is line 3\n",
                    "name": "stdout"
                }
            ]
        },
        {
            "metadata": {},
            "cell_type": "markdown",
            "source": "The file object is closed, you can verify it by running the following cell:  "
        },
        {
            "metadata": {},
            "cell_type": "code",
            "source": "# Verify if the file is closed\n\nfile1.closed",
            "execution_count": 10,
            "outputs": [
                {
                    "output_type": "execute_result",
                    "execution_count": 10,
                    "data": {
                        "text/plain": "True"
                    },
                    "metadata": {}
                }
            ]
        },
        {
            "metadata": {},
            "cell_type": "markdown",
            "source": " We can see the info in the file:"
        },
        {
            "metadata": {},
            "cell_type": "code",
            "source": "# See the content of file\n\nprint(FileContent)",
            "execution_count": 11,
            "outputs": [
                {
                    "output_type": "stream",
                    "text": "This is line 1 \nThis is line 2\nThis is line 3\n",
                    "name": "stdout"
                }
            ]
        },
        {
            "metadata": {},
            "cell_type": "markdown",
            "source": "The syntax is a little confusing as the file object is after the <code>as</code> statement. We also don\u2019t explicitly close the file. Therefore we summarize the steps in a figure:"
        },
        {
            "metadata": {},
            "cell_type": "markdown",
            "source": "<img src=\"https://s3-api.us-geo.objectstorage.softlayer.net/cf-courses-data/CognitiveClass/PY0101EN/Chapter%204/Images/ReadWith.png\" width=\"500\" />"
        },
        {
            "metadata": {},
            "cell_type": "markdown",
            "source": "We don\u2019t have to read the entire file, for example, we can read the first 4 characters by entering three as a parameter to the method **.read()**:\n"
        },
        {
            "metadata": {},
            "cell_type": "code",
            "source": "# Read first four characters\n\nwith open(example1, \"r\") as file1:\n    print(file1.read(4))",
            "execution_count": 12,
            "outputs": [
                {
                    "output_type": "stream",
                    "text": "This\n",
                    "name": "stdout"
                }
            ]
        },
        {
            "metadata": {},
            "cell_type": "markdown",
            "source": "Once the method <code>.read(4)</code> is called the first 4 characters are called. If we call the method again, the next 4 characters are called. The output for the following cell will demonstrate the process for different inputs to the method <code>read()</code>:"
        },
        {
            "metadata": {},
            "cell_type": "code",
            "source": "# Read certain amount of characters\n\nwith open(example1, \"r\") as file1:\n    print(file1.read(4))\n    print(file1.read(4))\n    print(file1.read(7))\n    print(file1.read(15))",
            "execution_count": 13,
            "outputs": [
                {
                    "output_type": "stream",
                    "text": "This\n is \nline 1 \n\nThis is line 2\n",
                    "name": "stdout"
                }
            ]
        },
        {
            "metadata": {},
            "cell_type": "markdown",
            "source": "The process is illustrated in the below figure, and each color represents the part of the file read after the method <code>read()</code> is called:"
        },
        {
            "metadata": {},
            "cell_type": "markdown",
            "source": "<img src=\"https://s3-api.us-geo.objectstorage.softlayer.net/cf-courses-data/CognitiveClass/PY0101EN/Chapter%204/Images/ReadChar.png\" width=\"500\" />"
        },
        {
            "metadata": {},
            "cell_type": "markdown",
            "source": " Here is an example using the same file, but instead we read 16, 5, and then 9 characters at a time: "
        },
        {
            "metadata": {},
            "cell_type": "code",
            "source": "# Read certain amount of characters\n\nwith open(example1, \"r\") as file1:\n    print(file1.read(16))\n    print(file1.read(5))\n    print(file1.read(9))",
            "execution_count": 14,
            "outputs": [
                {
                    "output_type": "stream",
                    "text": "This is line 1 \n\nThis \nis line 2\n",
                    "name": "stdout"
                }
            ]
        },
        {
            "metadata": {},
            "cell_type": "markdown",
            "source": "We can also read one line of the file at a time using the method <code>readline()</code>: "
        },
        {
            "metadata": {},
            "cell_type": "code",
            "source": "# Read one line\n\nwith open(example1, \"r\") as file1:\n    print(\"first line: \" + file1.readline())",
            "execution_count": 15,
            "outputs": [
                {
                    "output_type": "stream",
                    "text": "first line: This is line 1 \n\n",
                    "name": "stdout"
                }
            ]
        },
        {
            "metadata": {},
            "cell_type": "markdown",
            "source": " We can use a loop to iterate through each line: \n"
        },
        {
            "metadata": {},
            "cell_type": "code",
            "source": "# Iterate through the lines\n\nwith open(example1,\"r\") as file1:\n        i = 0;\n        for line in file1:\n            print(\"Iteration\", str(i), \": \", line)\n            i = i + 1;",
            "execution_count": 16,
            "outputs": [
                {
                    "output_type": "stream",
                    "text": "Iteration 0 :  This is line 1 \n\nIteration 1 :  This is line 2\n\nIteration 2 :  This is line 3\n",
                    "name": "stdout"
                }
            ]
        },
        {
            "metadata": {},
            "cell_type": "markdown",
            "source": "We can use the method <code>readlines()</code> to save the text file to a list: "
        },
        {
            "metadata": {},
            "cell_type": "code",
            "source": "# Read all lines and save as a list\n\nwith open(example1, \"r\") as file1:\n    FileasList = file1.readlines()",
            "execution_count": 17,
            "outputs": []
        },
        {
            "metadata": {},
            "cell_type": "markdown",
            "source": " Each element of the list corresponds to a line of text:"
        },
        {
            "metadata": {},
            "cell_type": "code",
            "source": "# Print the first line\n\nFileasList[0]",
            "execution_count": 18,
            "outputs": [
                {
                    "output_type": "execute_result",
                    "execution_count": 18,
                    "data": {
                        "text/plain": "'This is line 1 \\n'"
                    },
                    "metadata": {}
                }
            ]
        },
        {
            "metadata": {},
            "cell_type": "code",
            "source": "# Print the second line\n\nFileasList[1]",
            "execution_count": 19,
            "outputs": [
                {
                    "output_type": "execute_result",
                    "execution_count": 19,
                    "data": {
                        "text/plain": "'This is line 2\\n'"
                    },
                    "metadata": {}
                }
            ]
        },
        {
            "metadata": {},
            "cell_type": "code",
            "source": "# Print the third line\n\nFileasList[2]",
            "execution_count": 20,
            "outputs": [
                {
                    "output_type": "execute_result",
                    "execution_count": 20,
                    "data": {
                        "text/plain": "'This is line 3'"
                    },
                    "metadata": {}
                }
            ]
        },
        {
            "metadata": {},
            "cell_type": "markdown",
            "source": "<hr>\n<h2>The last exercise!</h2>\n<p>Congratulations, you have completed your first lesson and hands-on lab in Python. However, there is one more thing you need to do. The Data Science community encourages sharing work. The best way to share and showcase your work is to share it on GitHub. By sharing your notebook on GitHub you are not only building your reputation with fellow data scientists, but you can also show it off when applying for a job. Even though this was your first piece of work, it is never too early to start building good habits. So, please read and follow <a href=\"https://cognitiveclass.ai/blog/data-scientists-stand-out-by-sharing-your-notebooks/\" target=\"_blank\">this article</a> to learn how to share your work.\n<hr>"
        },
        {
            "metadata": {},
            "cell_type": "markdown",
            "source": "<div class=\"alert alert-block alert-info\" style=\"margin-top: 20px\">\n<h2>Get IBM Watson Studio free of charge!</h2>\n    <p><a href=\"https://cocl.us/bottemNotebooksPython101Coursera\"><img src=\"https://s3-api.us-geo.objectstorage.softlayer.net/cf-courses-data/CognitiveClass/PY0101EN/Ad/BottomAd.png\" width=\"750\" align=\"center\"></a></p>\n</div>"
        },
        {
            "metadata": {},
            "cell_type": "markdown",
            "source": "<h3>About the Authors:</h3>  \n<p><a href=\"https://www.linkedin.com/in/joseph-s-50398b136/\" target=\"_blank\">Joseph Santarcangelo</a> is a Data Scientist at IBM, and holds a PhD in Electrical Engineering. His research focused on using Machine Learning, Signal Processing, and Computer Vision to determine how videos impact human cognition. Joseph has been working for IBM since he completed his PhD.</p>"
        },
        {
            "metadata": {},
            "cell_type": "markdown",
            "source": "Other contributors: <a href=\"www.linkedin.com/in/jiahui-mavis-zhou-a4537814a\">Mavis Zhou</a>"
        },
        {
            "metadata": {},
            "cell_type": "markdown",
            "source": "<hr>"
        },
        {
            "metadata": {},
            "cell_type": "markdown",
            "source": "<p>Copyright &copy; 2018 IBM Developer Skills Network. This notebook and its source code are released under the terms of the <a href=\"https://cognitiveclass.ai/mit-license/\">MIT License</a>.</p>"
        }
    ],
    "metadata": {
        "kernelspec": {
            "name": "python3",
            "display_name": "Python 3.6",
            "language": "python"
        },
        "language_info": {
            "name": "python",
            "version": "3.6.9",
            "mimetype": "text/x-python",
            "codemirror_mode": {
                "name": "ipython",
                "version": 3
            },
            "pygments_lexer": "ipython3",
            "nbconvert_exporter": "python",
            "file_extension": ".py"
        }
    },
    "nbformat": 4,
    "nbformat_minor": 2
}
