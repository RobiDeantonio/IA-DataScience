{
    "cells": [
        {
            "metadata": {
                "button": false,
                "new_sheet": false,
                "run_control": {
                    "read_only": false
                }
            },
            "cell_type": "markdown",
            "source": "<a href=\"https://cognitiveclass.ai\"><img src = \"https://ibm.box.com/shared/static/9gegpsmnsoo25ikkbl4qzlvlyjbgxs5x.png\" width = 400> </a>\n\n<h1 align=center><font size = 5>From Modeling to Evaluation</font></h1>"
        },
        {
            "metadata": {
                "button": false,
                "new_sheet": false,
                "run_control": {
                    "read_only": false
                }
            },
            "cell_type": "markdown",
            "source": "## Introduction\n\nIn this lab, we will continue learning about the data science methodology, and focus on the **Modeling** and **Evaluation** stages.\n\n------------"
        },
        {
            "metadata": {
                "button": false,
                "new_sheet": false,
                "run_control": {
                    "read_only": false
                }
            },
            "cell_type": "markdown",
            "source": "## Table of Contents\n\n\n<div class=\"alert alert-block alert-info\" style=\"margin-top: 20px\">\n\n1. [Recap](#0)<br>\n2. [Data Modeling](#2)<br>\n3. [Model Evaluation](#4)<br>\n</div>\n<hr>"
        },
        {
            "metadata": {
                "button": false,
                "new_sheet": false,
                "run_control": {
                    "read_only": false
                }
            },
            "cell_type": "markdown",
            "source": "# Recap <a id=\"0\"></a>\n\nIn Lab **From Understanding to Preparation**, we explored the data and prepared it for modeling."
        },
        {
            "metadata": {
                "button": false,
                "new_sheet": false,
                "run_control": {
                    "read_only": false
                }
            },
            "cell_type": "markdown",
            "source": "The data was compiled by a researcher named Yong-Yeol Ahn, who scraped tens of thousands of food recipes (cuisines and ingredients) from three different websites, namely:"
        },
        {
            "metadata": {
                "button": false,
                "new_sheet": false,
                "run_control": {
                    "read_only": false
                }
            },
            "cell_type": "markdown",
            "source": "<img src=\"https://s3-api.us-geo.objectstorage.softlayer.net/cf-courses-data/CognitiveClass/DS0103EN/labs/images/lab4_fig1_allrecipes.png\" width=500>\n\nwww.allrecipes.com\n\n<img src=\"https://s3-api.us-geo.objectstorage.softlayer.net/cf-courses-data/CognitiveClass/DS0103EN/labs/images/lab4_fig2_epicurious.png\" width=500>\n\nwww.epicurious.com\n\n<img src=\"https://s3-api.us-geo.objectstorage.softlayer.net/cf-courses-data/CognitiveClass/DS0103EN/labs/images/lab4_fig3_menupan.png\" width=500>\n\nwww.menupan.com"
        },
        {
            "metadata": {
                "button": false,
                "new_sheet": false,
                "run_control": {
                    "read_only": false
                }
            },
            "cell_type": "markdown",
            "source": "For more information on Yong-Yeol Ahn and his research, you can read his paper on [Flavor Network and the Principles of Food Pairing](http://yongyeol.com/papers/ahn-flavornet-2011.pdf)."
        },
        {
            "metadata": {
                "button": false,
                "new_sheet": false,
                "run_control": {
                    "read_only": false
                }
            },
            "cell_type": "markdown",
            "source": "<strong> Important note:</strong> Please note that you are not expected to know how to program in Python. This lab is meant to illustrate the stages of modeling and evaluation of the data science methodology, so it is totally fine if you do not understand the individual lines of code. We have a full course on programming in Python, <a href=\"http://cocl.us/PY0101EN_DS0103EN_LAB4_PYTHON_Coursera\"><strong>Python for Data Science</strong></a>, which is also offered on Coursera. So make sure to complete the Python course if you are interested in learning how to program in Python."
        },
        {
            "metadata": {
                "button": false,
                "new_sheet": false,
                "run_control": {
                    "read_only": false
                }
            },
            "cell_type": "markdown",
            "source": "### Using this notebook:\n\nTo run any of the following cells of code, you can type **Shift + Enter** to excute the code in a cell."
        },
        {
            "metadata": {
                "button": false,
                "new_sheet": false,
                "run_control": {
                    "read_only": false
                }
            },
            "cell_type": "markdown",
            "source": "Download the library and dependencies that we will need to run this lab."
        },
        {
            "metadata": {
                "button": false,
                "new_sheet": false,
                "run_control": {
                    "read_only": false
                }
            },
            "cell_type": "code",
            "source": "import pandas as pd # import library to read data into dataframe\npd.set_option(\"display.max_columns\", None)\nimport numpy as np # import numpy library\nimport re # import library for regular expression\nimport random # library for random number generation",
            "execution_count": 1,
            "outputs": []
        },
        {
            "metadata": {
                "button": false,
                "new_sheet": false,
                "run_control": {
                    "read_only": false
                }
            },
            "cell_type": "markdown",
            "source": "We already placed the data on an IBM server for your convenience, so let's download it from server and read it into a dataframe called **recipes**."
        },
        {
            "metadata": {
                "button": false,
                "new_sheet": false,
                "run_control": {
                    "read_only": false
                }
            },
            "cell_type": "code",
            "source": "recipes = pd.read_csv(\"https://s3-api.us-geo.objectstorage.softlayer.net/cf-courses-data/CognitiveClass/DS0103EN/labs/data/recipes.csv\")\n\nprint(\"Data read into dataframe!\") # takes about 30 seconds",
            "execution_count": 2,
            "outputs": [
                {
                    "name": "stdout",
                    "output_type": "stream",
                    "text": "Data read into dataframe!\n"
                }
            ]
        },
        {
            "metadata": {
                "button": false,
                "new_sheet": false,
                "run_control": {
                    "read_only": false
                }
            },
            "cell_type": "markdown",
            "source": "We will repeat the preprocessing steps that we implemented in Lab **From Understanding to Preparation** in order to prepare the data for modeling. For more details on preparing the data, please refer to Lab **From Understanding to Preparation**."
        },
        {
            "metadata": {
                "button": false,
                "new_sheet": false,
                "run_control": {
                    "read_only": false
                }
            },
            "cell_type": "code",
            "source": "# fix name of the column displaying the cuisine\ncolumn_names = recipes.columns.values\ncolumn_names[0] = \"cuisine\"\nrecipes.columns = column_names\n\n# convert cuisine names to lower case\nrecipes[\"cuisine\"] = recipes[\"cuisine\"].str.lower()\n\n# make the cuisine names consistent\nrecipes.loc[recipes[\"cuisine\"] == \"austria\", \"cuisine\"] = \"austrian\"\nrecipes.loc[recipes[\"cuisine\"] == \"belgium\", \"cuisine\"] = \"belgian\"\nrecipes.loc[recipes[\"cuisine\"] == \"china\", \"cuisine\"] = \"chinese\"\nrecipes.loc[recipes[\"cuisine\"] == \"canada\", \"cuisine\"] = \"canadian\"\nrecipes.loc[recipes[\"cuisine\"] == \"netherlands\", \"cuisine\"] = \"dutch\"\nrecipes.loc[recipes[\"cuisine\"] == \"france\", \"cuisine\"] = \"french\"\nrecipes.loc[recipes[\"cuisine\"] == \"germany\", \"cuisine\"] = \"german\"\nrecipes.loc[recipes[\"cuisine\"] == \"india\", \"cuisine\"] = \"indian\"\nrecipes.loc[recipes[\"cuisine\"] == \"indonesia\", \"cuisine\"] = \"indonesian\"\nrecipes.loc[recipes[\"cuisine\"] == \"iran\", \"cuisine\"] = \"iranian\"\nrecipes.loc[recipes[\"cuisine\"] == \"italy\", \"cuisine\"] = \"italian\"\nrecipes.loc[recipes[\"cuisine\"] == \"japan\", \"cuisine\"] = \"japanese\"\nrecipes.loc[recipes[\"cuisine\"] == \"israel\", \"cuisine\"] = \"jewish\"\nrecipes.loc[recipes[\"cuisine\"] == \"korea\", \"cuisine\"] = \"korean\"\nrecipes.loc[recipes[\"cuisine\"] == \"lebanon\", \"cuisine\"] = \"lebanese\"\nrecipes.loc[recipes[\"cuisine\"] == \"malaysia\", \"cuisine\"] = \"malaysian\"\nrecipes.loc[recipes[\"cuisine\"] == \"mexico\", \"cuisine\"] = \"mexican\"\nrecipes.loc[recipes[\"cuisine\"] == \"pakistan\", \"cuisine\"] = \"pakistani\"\nrecipes.loc[recipes[\"cuisine\"] == \"philippines\", \"cuisine\"] = \"philippine\"\nrecipes.loc[recipes[\"cuisine\"] == \"scandinavia\", \"cuisine\"] = \"scandinavian\"\nrecipes.loc[recipes[\"cuisine\"] == \"spain\", \"cuisine\"] = \"spanish_portuguese\"\nrecipes.loc[recipes[\"cuisine\"] == \"portugal\", \"cuisine\"] = \"spanish_portuguese\"\nrecipes.loc[recipes[\"cuisine\"] == \"switzerland\", \"cuisine\"] = \"swiss\"\nrecipes.loc[recipes[\"cuisine\"] == \"thailand\", \"cuisine\"] = \"thai\"\nrecipes.loc[recipes[\"cuisine\"] == \"turkey\", \"cuisine\"] = \"turkish\"\nrecipes.loc[recipes[\"cuisine\"] == \"vietnam\", \"cuisine\"] = \"vietnamese\"\nrecipes.loc[recipes[\"cuisine\"] == \"uk-and-ireland\", \"cuisine\"] = \"uk-and-irish\"\nrecipes.loc[recipes[\"cuisine\"] == \"irish\", \"cuisine\"] = \"uk-and-irish\"\n\n\n# remove data for cuisines with < 50 recipes:\nrecipes_counts = recipes[\"cuisine\"].value_counts()\ncuisines_indices = recipes_counts > 50\n\ncuisines_to_keep = list(np.array(recipes_counts.index.values)[np.array(cuisines_indices)])\nrecipes = recipes.loc[recipes[\"cuisine\"].isin(cuisines_to_keep)]\n\n# convert all Yes's to 1's and the No's to 0's\nrecipes = recipes.replace(to_replace=\"Yes\", value=1)\nrecipes = recipes.replace(to_replace=\"No\", value=0)",
            "execution_count": 3,
            "outputs": []
        },
        {
            "metadata": {
                "button": false,
                "new_sheet": false,
                "run_control": {
                    "read_only": false
                }
            },
            "cell_type": "markdown",
            "source": "<hr>"
        },
        {
            "metadata": {
                "button": false,
                "new_sheet": false,
                "run_control": {
                    "read_only": false
                }
            },
            "cell_type": "markdown",
            "source": "# Data Modeling <a id=\"2\"></a>"
        },
        {
            "metadata": {
                "button": false,
                "new_sheet": false,
                "run_control": {
                    "read_only": false
                }
            },
            "cell_type": "markdown",
            "source": "<img src=\"https://s3-api.us-geo.objectstorage.softlayer.net/cf-courses-data/CognitiveClass/DS0103EN/labs/images/lab4_fig4_flowchart_data_modeling.png\" width=500>"
        },
        {
            "metadata": {
                "button": false,
                "new_sheet": false,
                "run_control": {
                    "read_only": false
                }
            },
            "cell_type": "markdown",
            "source": "Download and install more libraries and dependies to build decision trees."
        },
        {
            "metadata": {
                "button": false,
                "new_sheet": false,
                "run_control": {
                    "read_only": false
                }
            },
            "cell_type": "code",
            "source": "# import decision trees scikit-learn libraries\n%matplotlib inline\nfrom sklearn import tree\nfrom sklearn.metrics import accuracy_score, confusion_matrix\n\nimport matplotlib.pyplot as plt\n\n!conda install python-graphviz --yes\nimport graphviz\n\nfrom sklearn.tree import export_graphviz\n\nimport itertools",
            "execution_count": 4,
            "outputs": [
                {
                    "name": "stdout",
                    "output_type": "stream",
                    "text": "Collecting package metadata (current_repodata.json): done\nSolving environment: done\n\n## Package Plan ##\n\n  environment location: /home/jupyterlab/conda/envs/python\n\n  added / updated specs:\n    - python-graphviz\n\n\nThe following packages will be downloaded:\n\n    package                    |            build\n    ---------------------------|-----------------\n    ca-certificates-2020.1.1   |                0         125 KB\n    certifi-2020.4.5.1         |           py36_0         155 KB\n    openssl-1.1.1g             |       h7b6447c_0         2.5 MB\n    python-graphviz-0.14       |             py_0          25 KB\n    ------------------------------------------------------------\n                                           Total:         2.8 MB\n\nThe following NEW packages will be INSTALLED:\n\n  python-graphviz    pkgs/main/noarch::python-graphviz-0.14-py_0\n\nThe following packages will be SUPERSEDED by a higher-priority channel:\n\n  ca-certificates    conda-forge::ca-certificates-2020.4.5~ --> pkgs/main::ca-certificates-2020.1.1-0\n  certifi            conda-forge::certifi-2020.4.5.1-py36h~ --> pkgs/main::certifi-2020.4.5.1-py36_0\n  openssl            conda-forge::openssl-1.1.1g-h516909a_0 --> pkgs/main::openssl-1.1.1g-h7b6447c_0\n\n\n\nDownloading and Extracting Packages\nca-certificates-2020 | 125 KB    | ##################################### | 100% \nopenssl-1.1.1g       | 2.5 MB    | ##################################### | 100% \npython-graphviz-0.14 | 25 KB     | ##################################### | 100% \ncertifi-2020.4.5.1   | 155 KB    | ##################################### | 100% \nPreparing transaction: done\nVerifying transaction: done\nExecuting transaction: done\n"
                }
            ]
        },
        {
            "metadata": {
                "button": false,
                "new_sheet": false,
                "run_control": {
                    "read_only": false
                }
            },
            "cell_type": "markdown",
            "source": "Check the data again!"
        },
        {
            "metadata": {
                "button": false,
                "new_sheet": false,
                "run_control": {
                    "read_only": false
                }
            },
            "cell_type": "code",
            "source": "recipes.head()",
            "execution_count": 5,
            "outputs": [
                {
                    "data": {
                        "text/html": "<div>\n<style scoped>\n    .dataframe tbody tr th:only-of-type {\n        vertical-align: middle;\n    }\n\n    .dataframe tbody tr th {\n        vertical-align: top;\n    }\n\n    .dataframe thead th {\n        text-align: right;\n    }\n</style>\n<table border=\"1\" class=\"dataframe\">\n  <thead>\n    <tr style=\"text-align: right;\">\n      <th></th>\n      <th>cuisine</th>\n      <th>almond</th>\n      <th>angelica</th>\n      <th>anise</th>\n      <th>anise_seed</th>\n      <th>apple</th>\n      <th>apple_brandy</th>\n      <th>apricot</th>\n      <th>armagnac</th>\n      <th>artemisia</th>\n      <th>artichoke</th>\n      <th>asparagus</th>\n      <th>avocado</th>\n      <th>bacon</th>\n      <th>baked_potato</th>\n      <th>balm</th>\n      <th>banana</th>\n      <th>barley</th>\n      <th>bartlett_pear</th>\n      <th>basil</th>\n      <th>bay</th>\n      <th>bean</th>\n      <th>beech</th>\n      <th>beef</th>\n      <th>beef_broth</th>\n      <th>beef_liver</th>\n      <th>beer</th>\n      <th>beet</th>\n      <th>bell_pepper</th>\n      <th>bergamot</th>\n      <th>berry</th>\n      <th>bitter_orange</th>\n      <th>black_bean</th>\n      <th>black_currant</th>\n      <th>black_mustard_seed_oil</th>\n      <th>black_pepper</th>\n      <th>black_raspberry</th>\n      <th>black_sesame_seed</th>\n      <th>black_tea</th>\n      <th>blackberry</th>\n      <th>blackberry_brandy</th>\n      <th>blue_cheese</th>\n      <th>blueberry</th>\n      <th>bone_oil</th>\n      <th>bourbon_whiskey</th>\n      <th>brandy</th>\n      <th>brassica</th>\n      <th>bread</th>\n      <th>broccoli</th>\n      <th>brown_rice</th>\n      <th>brussels_sprout</th>\n      <th>buckwheat</th>\n      <th>butter</th>\n      <th>buttermilk</th>\n      <th>cabbage</th>\n      <th>cabernet_sauvignon_wine</th>\n      <th>cacao</th>\n      <th>camembert_cheese</th>\n      <th>cane_molasses</th>\n      <th>caraway</th>\n      <th>cardamom</th>\n      <th>carnation</th>\n      <th>carob</th>\n      <th>carrot</th>\n      <th>cashew</th>\n      <th>cassava</th>\n      <th>catfish</th>\n      <th>cauliflower</th>\n      <th>caviar</th>\n      <th>cayenne</th>\n      <th>celery</th>\n      <th>celery_oil</th>\n      <th>cereal</th>\n      <th>chamomile</th>\n      <th>champagne_wine</th>\n      <th>chayote</th>\n      <th>cheddar_cheese</th>\n      <th>cheese</th>\n      <th>cherry</th>\n      <th>cherry_brandy</th>\n      <th>chervil</th>\n      <th>chicken</th>\n      <th>chicken_broth</th>\n      <th>chicken_liver</th>\n      <th>chickpea</th>\n      <th>chicory</th>\n      <th>chinese_cabbage</th>\n      <th>chive</th>\n      <th>cider</th>\n      <th>cilantro</th>\n      <th>cinnamon</th>\n      <th>citrus</th>\n      <th>citrus_peel</th>\n      <th>clam</th>\n      <th>clove</th>\n      <th>cocoa</th>\n      <th>coconut</th>\n      <th>coconut_oil</th>\n      <th>cod</th>\n      <th>coffee</th>\n      <th>cognac</th>\n      <th>concord_grape</th>\n      <th>condiment</th>\n      <th>coriander</th>\n      <th>corn</th>\n      <th>corn_flake</th>\n      <th>corn_grit</th>\n      <th>cottage_cheese</th>\n      <th>crab</th>\n      <th>cranberry</th>\n      <th>cream</th>\n      <th>cream_cheese</th>\n      <th>cucumber</th>\n      <th>cumin</th>\n      <th>cured_pork</th>\n      <th>currant</th>\n      <th>date</th>\n      <th>dill</th>\n      <th>durian</th>\n      <th>eel</th>\n      <th>egg</th>\n      <th>egg_noodle</th>\n      <th>elderberry</th>\n      <th>emmental_cheese</th>\n      <th>endive</th>\n      <th>enokidake</th>\n      <th>fennel</th>\n      <th>fenugreek</th>\n      <th>feta_cheese</th>\n      <th>fig</th>\n      <th>fish</th>\n      <th>flower</th>\n      <th>frankfurter</th>\n      <th>fruit</th>\n      <th>galanga</th>\n      <th>gardenia</th>\n      <th>garlic</th>\n      <th>gelatin</th>\n      <th>geranium</th>\n      <th>gin</th>\n      <th>ginger</th>\n      <th>goat_cheese</th>\n      <th>grape</th>\n      <th>grape_brandy</th>\n      <th>grape_juice</th>\n      <th>grapefruit</th>\n      <th>green_bell_pepper</th>\n      <th>green_tea</th>\n      <th>gruyere_cheese</th>\n      <th>guava</th>\n      <th>haddock</th>\n      <th>ham</th>\n      <th>hazelnut</th>\n      <th>herring</th>\n      <th>holy_basil</th>\n      <th>honey</th>\n      <th>hop</th>\n      <th>horseradish</th>\n      <th>huckleberry</th>\n      <th>jamaican_rum</th>\n      <th>japanese_plum</th>\n      <th>jasmine</th>\n      <th>jasmine_tea</th>\n      <th>juniper_berry</th>\n      <th>kaffir_lime</th>\n      <th>kale</th>\n      <th>katsuobushi</th>\n      <th>kelp</th>\n      <th>kidney_bean</th>\n      <th>kiwi</th>\n      <th>kohlrabi</th>\n      <th>kumquat</th>\n      <th>lamb</th>\n      <th>lard</th>\n      <th>laurel</th>\n      <th>lavender</th>\n      <th>leaf</th>\n      <th>leek</th>\n      <th>lemon</th>\n      <th>lemon_juice</th>\n      <th>lemon_peel</th>\n      <th>lemongrass</th>\n      <th>lentil</th>\n      <th>lettuce</th>\n      <th>licorice</th>\n      <th>lilac_flower_oil</th>\n      <th>lima_bean</th>\n      <th>lime</th>\n      <th>lime_juice</th>\n      <th>lime_peel_oil</th>\n      <th>lingonberry</th>\n      <th>litchi</th>\n      <th>liver</th>\n      <th>lobster</th>\n      <th>long_pepper</th>\n      <th>lovage</th>\n      <th>macadamia_nut</th>\n      <th>macaroni</th>\n      <th>mace</th>\n      <th>mackerel</th>\n      <th>malt</th>\n      <th>mandarin</th>\n      <th>mandarin_peel</th>\n      <th>mango</th>\n      <th>maple_syrup</th>\n      <th>marjoram</th>\n      <th>mate</th>\n      <th>matsutake</th>\n      <th>meat</th>\n      <th>melon</th>\n      <th>milk</th>\n      <th>milk_fat</th>\n      <th>mint</th>\n      <th>mozzarella_cheese</th>\n      <th>mung_bean</th>\n      <th>munster_cheese</th>\n      <th>muscat_grape</th>\n      <th>mushroom</th>\n      <th>mussel</th>\n      <th>mustard</th>\n      <th>mutton</th>\n      <th>nectarine</th>\n      <th>nira</th>\n      <th>nut</th>\n      <th>nutmeg</th>\n      <th>oat</th>\n      <th>oatmeal</th>\n      <th>octopus</th>\n      <th>okra</th>\n      <th>olive</th>\n      <th>olive_oil</th>\n      <th>onion</th>\n      <th>orange</th>\n      <th>orange_flower</th>\n      <th>orange_juice</th>\n      <th>orange_peel</th>\n      <th>oregano</th>\n      <th>ouzo</th>\n      <th>oyster</th>\n      <th>palm</th>\n      <th>papaya</th>\n      <th>parmesan_cheese</th>\n      <th>parsley</th>\n      <th>parsnip</th>\n      <th>passion_fruit</th>\n      <th>pea</th>\n      <th>peach</th>\n      <th>peanut</th>\n      <th>peanut_butter</th>\n      <th>peanut_oil</th>\n      <th>pear</th>\n      <th>pear_brandy</th>\n      <th>pecan</th>\n      <th>pelargonium</th>\n      <th>pepper</th>\n      <th>peppermint</th>\n      <th>peppermint_oil</th>\n      <th>pimenta</th>\n      <th>pimento</th>\n      <th>pineapple</th>\n      <th>pistachio</th>\n      <th>plum</th>\n      <th>popcorn</th>\n      <th>porcini</th>\n      <th>pork</th>\n      <th>pork_liver</th>\n      <th>pork_sausage</th>\n      <th>port_wine</th>\n      <th>potato</th>\n      <th>potato_chip</th>\n      <th>prawn</th>\n      <th>prickly_pear</th>\n      <th>provolone_cheese</th>\n      <th>pumpkin</th>\n      <th>quince</th>\n      <th>radish</th>\n      <th>raisin</th>\n      <th>rapeseed</th>\n      <th>raspberry</th>\n      <th>raw_beef</th>\n      <th>red_algae</th>\n      <th>red_bean</th>\n      <th>red_kidney_bean</th>\n      <th>red_wine</th>\n      <th>rhubarb</th>\n      <th>rice</th>\n      <th>roasted_almond</th>\n      <th>roasted_beef</th>\n      <th>roasted_hazelnut</th>\n      <th>roasted_meat</th>\n      <th>roasted_nut</th>\n      <th>roasted_peanut</th>\n      <th>roasted_pecan</th>\n      <th>roasted_pork</th>\n      <th>roasted_sesame_seed</th>\n      <th>romano_cheese</th>\n      <th>root</th>\n      <th>roquefort_cheese</th>\n      <th>rose</th>\n      <th>rosemary</th>\n      <th>rum</th>\n      <th>rutabaga</th>\n      <th>rye_bread</th>\n      <th>rye_flour</th>\n      <th>saffron</th>\n      <th>sage</th>\n      <th>sake</th>\n      <th>salmon</th>\n      <th>salmon_roe</th>\n      <th>sassafras</th>\n      <th>sauerkraut</th>\n      <th>savory</th>\n      <th>scallion</th>\n      <th>scallop</th>\n      <th>sea_algae</th>\n      <th>seaweed</th>\n      <th>seed</th>\n      <th>sesame_oil</th>\n      <th>sesame_seed</th>\n      <th>shallot</th>\n      <th>sheep_cheese</th>\n      <th>shellfish</th>\n      <th>sherry</th>\n      <th>shiitake</th>\n      <th>shrimp</th>\n      <th>smoke</th>\n      <th>smoked_fish</th>\n      <th>smoked_salmon</th>\n      <th>smoked_sausage</th>\n      <th>sour_cherry</th>\n      <th>sour_milk</th>\n      <th>soy_sauce</th>\n      <th>soybean</th>\n      <th>soybean_oil</th>\n      <th>spearmint</th>\n      <th>squash</th>\n      <th>squid</th>\n      <th>star_anise</th>\n      <th>starch</th>\n      <th>strawberry</th>\n      <th>strawberry_jam</th>\n      <th>strawberry_juice</th>\n      <th>sturgeon_caviar</th>\n      <th>sumac</th>\n      <th>sunflower_oil</th>\n      <th>sweet_potato</th>\n      <th>swiss_cheese</th>\n      <th>tabasco_pepper</th>\n      <th>tamarind</th>\n      <th>tangerine</th>\n      <th>tarragon</th>\n      <th>tea</th>\n      <th>tequila</th>\n      <th>thai_pepper</th>\n      <th>thyme</th>\n      <th>tomato</th>\n      <th>tomato_juice</th>\n      <th>truffle</th>\n      <th>tuna</th>\n      <th>turkey</th>\n      <th>turmeric</th>\n      <th>turnip</th>\n      <th>vanilla</th>\n      <th>veal</th>\n      <th>vegetable</th>\n      <th>vegetable_oil</th>\n      <th>vinegar</th>\n      <th>violet</th>\n      <th>walnut</th>\n      <th>wasabi</th>\n      <th>watercress</th>\n      <th>watermelon</th>\n      <th>wheat</th>\n      <th>wheat_bread</th>\n      <th>whiskey</th>\n      <th>white_bread</th>\n      <th>white_wine</th>\n      <th>whole_grain_wheat_flour</th>\n      <th>wine</th>\n      <th>wood</th>\n      <th>yam</th>\n      <th>yeast</th>\n      <th>yogurt</th>\n      <th>zucchini</th>\n    </tr>\n  </thead>\n  <tbody>\n    <tr>\n      <th>0</th>\n      <td>vietnamese</td>\n      <td>0</td>\n      <td>0</td>\n      <td>0</td>\n      <td>0</td>\n      <td>0</td>\n      <td>0</td>\n      <td>0</td>\n      <td>0</td>\n      <td>0</td>\n      <td>0</td>\n      <td>0</td>\n      <td>0</td>\n      <td>0</td>\n      <td>0</td>\n      <td>0</td>\n      <td>0</td>\n      <td>0</td>\n      <td>0</td>\n      <td>1</td>\n      <td>0</td>\n      <td>0</td>\n      <td>0</td>\n      <td>0</td>\n      <td>0</td>\n      <td>0</td>\n      <td>0</td>\n      <td>0</td>\n      <td>0</td>\n      <td>0</td>\n      <td>0</td>\n      <td>0</td>\n      <td>0</td>\n      <td>0</td>\n      <td>0</td>\n      <td>0</td>\n      <td>0</td>\n      <td>0</td>\n      <td>0</td>\n      <td>0</td>\n      <td>0</td>\n      <td>0</td>\n      <td>0</td>\n      <td>0</td>\n      <td>0</td>\n      <td>0</td>\n      <td>0</td>\n      <td>0</td>\n      <td>0</td>\n      <td>0</td>\n      <td>0</td>\n      <td>0</td>\n      <td>0</td>\n      <td>0</td>\n      <td>0</td>\n      <td>0</td>\n      <td>0</td>\n      <td>0</td>\n      <td>0</td>\n      <td>0</td>\n      <td>0</td>\n      <td>0</td>\n      <td>0</td>\n      <td>1</td>\n      <td>0</td>\n      <td>0</td>\n      <td>0</td>\n      <td>0</td>\n      <td>0</td>\n      <td>1</td>\n      <td>0</td>\n      <td>0</td>\n      <td>0</td>\n      <td>0</td>\n      <td>0</td>\n      <td>0</td>\n      <td>0</td>\n      <td>0</td>\n      <td>0</td>\n      <td>0</td>\n      <td>0</td>\n      <td>0</td>\n      <td>0</td>\n      <td>0</td>\n      <td>0</td>\n      <td>0</td>\n      <td>0</td>\n      <td>0</td>\n      <td>0</td>\n      <td>1</td>\n      <td>0</td>\n      <td>0</td>\n      <td>0</td>\n      <td>0</td>\n      <td>0</td>\n      <td>0</td>\n      <td>0</td>\n      <td>0</td>\n      <td>0</td>\n      <td>0</td>\n      <td>0</td>\n      <td>0</td>\n      <td>0</td>\n      <td>0</td>\n      <td>0</td>\n      <td>0</td>\n      <td>0</td>\n      <td>0</td>\n      <td>0</td>\n      <td>0</td>\n      <td>0</td>\n      <td>0</td>\n      <td>1</td>\n      <td>0</td>\n      <td>0</td>\n      <td>0</td>\n      <td>0</td>\n      <td>0</td>\n      <td>0</td>\n      <td>0</td>\n      <td>0</td>\n      <td>0</td>\n      <td>0</td>\n      <td>0</td>\n      <td>0</td>\n      <td>0</td>\n      <td>0</td>\n      <td>0</td>\n      <td>0</td>\n      <td>0</td>\n      <td>1</td>\n      <td>0</td>\n      <td>0</td>\n      <td>0</td>\n      <td>0</td>\n      <td>0</td>\n      <td>1</td>\n      <td>0</td>\n      <td>0</td>\n      <td>0</td>\n      <td>0</td>\n      <td>0</td>\n      <td>0</td>\n      <td>0</td>\n      <td>0</td>\n      <td>0</td>\n      <td>0</td>\n      <td>0</td>\n      <td>0</td>\n      <td>0</td>\n      <td>0</td>\n      <td>0</td>\n      <td>0</td>\n      <td>0</td>\n      <td>0</td>\n      <td>0</td>\n      <td>0</td>\n      <td>0</td>\n      <td>0</td>\n      <td>0</td>\n      <td>0</td>\n      <td>0</td>\n      <td>0</td>\n      <td>0</td>\n      <td>0</td>\n      <td>0</td>\n      <td>0</td>\n      <td>0</td>\n      <td>0</td>\n      <td>0</td>\n      <td>0</td>\n      <td>0</td>\n      <td>0</td>\n      <td>0</td>\n      <td>0</td>\n      <td>0</td>\n      <td>0</td>\n      <td>0</td>\n      <td>0</td>\n      <td>0</td>\n      <td>0</td>\n      <td>0</td>\n      <td>0</td>\n      <td>1</td>\n      <td>0</td>\n      <td>0</td>\n      <td>0</td>\n      <td>0</td>\n      <td>1</td>\n      <td>0</td>\n      <td>0</td>\n      <td>0</td>\n      <td>0</td>\n      <td>0</td>\n      <td>0</td>\n      <td>0</td>\n      <td>0</td>\n      <td>0</td>\n      <td>0</td>\n      <td>0</td>\n      <td>0</td>\n      <td>0</td>\n      <td>0</td>\n      <td>0</td>\n      <td>0</td>\n      <td>0</td>\n      <td>0</td>\n      <td>0</td>\n      <td>0</td>\n      <td>0</td>\n      <td>0</td>\n      <td>0</td>\n      <td>1</td>\n      <td>0</td>\n      <td>0</td>\n      <td>0</td>\n      <td>0</td>\n      <td>0</td>\n      <td>0</td>\n      <td>0</td>\n      <td>0</td>\n      <td>0</td>\n      <td>0</td>\n      <td>0</td>\n      <td>0</td>\n      <td>0</td>\n      <td>0</td>\n      <td>0</td>\n      <td>0</td>\n      <td>0</td>\n      <td>1</td>\n      <td>0</td>\n      <td>0</td>\n      <td>0</td>\n      <td>0</td>\n      <td>0</td>\n      <td>0</td>\n      <td>0</td>\n      <td>0</td>\n      <td>0</td>\n      <td>0</td>\n      <td>0</td>\n      <td>0</td>\n      <td>0</td>\n      <td>0</td>\n      <td>0</td>\n      <td>0</td>\n      <td>0</td>\n      <td>0</td>\n      <td>0</td>\n      <td>0</td>\n      <td>0</td>\n      <td>0</td>\n      <td>0</td>\n      <td>0</td>\n      <td>0</td>\n      <td>0</td>\n      <td>0</td>\n      <td>0</td>\n      <td>0</td>\n      <td>0</td>\n      <td>0</td>\n      <td>0</td>\n      <td>0</td>\n      <td>0</td>\n      <td>0</td>\n      <td>0</td>\n      <td>0</td>\n      <td>0</td>\n      <td>0</td>\n      <td>0</td>\n      <td>0</td>\n      <td>0</td>\n      <td>0</td>\n      <td>0</td>\n      <td>0</td>\n      <td>0</td>\n      <td>0</td>\n      <td>0</td>\n      <td>0</td>\n      <td>0</td>\n      <td>0</td>\n      <td>0</td>\n      <td>0</td>\n      <td>0</td>\n      <td>1</td>\n      <td>0</td>\n      <td>0</td>\n      <td>0</td>\n      <td>0</td>\n      <td>0</td>\n      <td>0</td>\n      <td>0</td>\n      <td>0</td>\n      <td>0</td>\n      <td>0</td>\n      <td>0</td>\n      <td>0</td>\n      <td>0</td>\n      <td>0</td>\n      <td>0</td>\n      <td>0</td>\n      <td>0</td>\n      <td>0</td>\n      <td>0</td>\n      <td>0</td>\n      <td>0</td>\n      <td>0</td>\n      <td>0</td>\n      <td>0</td>\n      <td>0</td>\n      <td>0</td>\n      <td>0</td>\n      <td>0</td>\n      <td>0</td>\n      <td>0</td>\n      <td>1</td>\n      <td>0</td>\n      <td>0</td>\n      <td>0</td>\n      <td>0</td>\n      <td>0</td>\n      <td>0</td>\n      <td>1</td>\n      <td>1</td>\n      <td>0</td>\n      <td>0</td>\n      <td>0</td>\n      <td>0</td>\n      <td>0</td>\n      <td>0</td>\n      <td>0</td>\n      <td>0</td>\n      <td>0</td>\n      <td>0</td>\n      <td>0</td>\n      <td>0</td>\n      <td>0</td>\n      <td>0</td>\n      <td>0</td>\n      <td>0</td>\n      <td>0</td>\n      <td>0</td>\n      <td>0</td>\n      <td>0</td>\n      <td>0</td>\n      <td>0</td>\n      <td>0</td>\n      <td>0</td>\n      <td>0</td>\n      <td>0</td>\n      <td>0</td>\n      <td>0</td>\n      <td>0</td>\n      <td>0</td>\n      <td>0</td>\n      <td>0</td>\n      <td>0</td>\n      <td>0</td>\n      <td>0</td>\n      <td>0</td>\n      <td>0</td>\n      <td>0</td>\n      <td>0</td>\n      <td>0</td>\n      <td>0</td>\n      <td>1</td>\n      <td>0</td>\n      <td>0</td>\n      <td>0</td>\n      <td>0</td>\n      <td>0</td>\n      <td>0</td>\n      <td>0</td>\n      <td>0</td>\n      <td>0</td>\n      <td>0</td>\n      <td>0</td>\n      <td>0</td>\n      <td>0</td>\n      <td>0</td>\n      <td>0</td>\n      <td>0</td>\n      <td>0</td>\n    </tr>\n    <tr>\n      <th>1</th>\n      <td>vietnamese</td>\n      <td>0</td>\n      <td>0</td>\n      <td>0</td>\n      <td>0</td>\n      <td>0</td>\n      <td>0</td>\n      <td>0</td>\n      <td>0</td>\n      <td>0</td>\n      <td>0</td>\n      <td>0</td>\n      <td>0</td>\n      <td>0</td>\n      <td>0</td>\n      <td>0</td>\n      <td>0</td>\n      <td>0</td>\n      <td>0</td>\n      <td>0</td>\n      <td>0</td>\n      <td>0</td>\n      <td>0</td>\n      <td>0</td>\n      <td>0</td>\n      <td>0</td>\n      <td>0</td>\n      <td>0</td>\n      <td>0</td>\n      <td>0</td>\n      <td>0</td>\n      <td>0</td>\n      <td>0</td>\n      <td>0</td>\n      <td>0</td>\n      <td>1</td>\n      <td>0</td>\n      <td>0</td>\n      <td>0</td>\n      <td>0</td>\n      <td>0</td>\n      <td>0</td>\n      <td>0</td>\n      <td>0</td>\n      <td>0</td>\n      <td>0</td>\n      <td>0</td>\n      <td>0</td>\n      <td>0</td>\n      <td>0</td>\n      <td>0</td>\n      <td>0</td>\n      <td>0</td>\n      <td>0</td>\n      <td>0</td>\n      <td>0</td>\n      <td>0</td>\n      <td>0</td>\n      <td>0</td>\n      <td>0</td>\n      <td>0</td>\n      <td>0</td>\n      <td>0</td>\n      <td>0</td>\n      <td>0</td>\n      <td>0</td>\n      <td>0</td>\n      <td>0</td>\n      <td>0</td>\n      <td>1</td>\n      <td>0</td>\n      <td>0</td>\n      <td>0</td>\n      <td>0</td>\n      <td>0</td>\n      <td>0</td>\n      <td>0</td>\n      <td>0</td>\n      <td>0</td>\n      <td>0</td>\n      <td>0</td>\n      <td>0</td>\n      <td>0</td>\n      <td>0</td>\n      <td>0</td>\n      <td>0</td>\n      <td>0</td>\n      <td>0</td>\n      <td>0</td>\n      <td>0</td>\n      <td>0</td>\n      <td>0</td>\n      <td>0</td>\n      <td>0</td>\n      <td>0</td>\n      <td>0</td>\n      <td>0</td>\n      <td>0</td>\n      <td>0</td>\n      <td>0</td>\n      <td>0</td>\n      <td>0</td>\n      <td>0</td>\n      <td>0</td>\n      <td>0</td>\n      <td>0</td>\n      <td>0</td>\n      <td>0</td>\n      <td>0</td>\n      <td>0</td>\n      <td>0</td>\n      <td>0</td>\n      <td>0</td>\n      <td>0</td>\n      <td>0</td>\n      <td>0</td>\n      <td>0</td>\n      <td>0</td>\n      <td>0</td>\n      <td>0</td>\n      <td>0</td>\n      <td>0</td>\n      <td>0</td>\n      <td>0</td>\n      <td>0</td>\n      <td>0</td>\n      <td>0</td>\n      <td>0</td>\n      <td>0</td>\n      <td>0</td>\n      <td>1</td>\n      <td>0</td>\n      <td>0</td>\n      <td>0</td>\n      <td>0</td>\n      <td>0</td>\n      <td>1</td>\n      <td>0</td>\n      <td>0</td>\n      <td>0</td>\n      <td>0</td>\n      <td>0</td>\n      <td>0</td>\n      <td>0</td>\n      <td>0</td>\n      <td>0</td>\n      <td>0</td>\n      <td>0</td>\n      <td>0</td>\n      <td>0</td>\n      <td>0</td>\n      <td>0</td>\n      <td>0</td>\n      <td>0</td>\n      <td>0</td>\n      <td>0</td>\n      <td>0</td>\n      <td>0</td>\n      <td>0</td>\n      <td>0</td>\n      <td>0</td>\n      <td>0</td>\n      <td>0</td>\n      <td>0</td>\n      <td>0</td>\n      <td>0</td>\n      <td>0</td>\n      <td>0</td>\n      <td>0</td>\n      <td>0</td>\n      <td>0</td>\n      <td>0</td>\n      <td>0</td>\n      <td>0</td>\n      <td>0</td>\n      <td>0</td>\n      <td>0</td>\n      <td>0</td>\n      <td>0</td>\n      <td>0</td>\n      <td>0</td>\n      <td>0</td>\n      <td>0</td>\n      <td>0</td>\n      <td>0</td>\n      <td>0</td>\n      <td>0</td>\n      <td>0</td>\n      <td>0</td>\n      <td>0</td>\n      <td>0</td>\n      <td>0</td>\n      <td>0</td>\n      <td>0</td>\n      <td>0</td>\n      <td>0</td>\n      <td>0</td>\n      <td>0</td>\n      <td>0</td>\n      <td>0</td>\n      <td>0</td>\n      <td>0</td>\n      <td>0</td>\n      <td>0</td>\n      <td>0</td>\n      <td>0</td>\n      <td>0</td>\n      <td>0</td>\n      <td>0</td>\n      <td>0</td>\n      <td>0</td>\n      <td>0</td>\n      <td>0</td>\n      <td>0</td>\n      <td>0</td>\n      <td>0</td>\n      <td>0</td>\n      <td>0</td>\n      <td>0</td>\n      <td>0</td>\n      <td>0</td>\n      <td>0</td>\n      <td>0</td>\n      <td>0</td>\n      <td>0</td>\n      <td>0</td>\n      <td>0</td>\n      <td>0</td>\n      <td>0</td>\n      <td>0</td>\n      <td>0</td>\n      <td>1</td>\n      <td>0</td>\n      <td>0</td>\n      <td>0</td>\n      <td>0</td>\n      <td>0</td>\n      <td>0</td>\n      <td>0</td>\n      <td>0</td>\n      <td>0</td>\n      <td>0</td>\n      <td>0</td>\n      <td>0</td>\n      <td>0</td>\n      <td>0</td>\n      <td>0</td>\n      <td>0</td>\n      <td>0</td>\n      <td>0</td>\n      <td>0</td>\n      <td>0</td>\n      <td>0</td>\n      <td>0</td>\n      <td>0</td>\n      <td>0</td>\n      <td>0</td>\n      <td>0</td>\n      <td>0</td>\n      <td>0</td>\n      <td>0</td>\n      <td>0</td>\n      <td>0</td>\n      <td>0</td>\n      <td>0</td>\n      <td>0</td>\n      <td>0</td>\n      <td>0</td>\n      <td>0</td>\n      <td>0</td>\n      <td>0</td>\n      <td>0</td>\n      <td>0</td>\n      <td>0</td>\n      <td>0</td>\n      <td>0</td>\n      <td>0</td>\n      <td>0</td>\n      <td>0</td>\n      <td>0</td>\n      <td>0</td>\n      <td>0</td>\n      <td>0</td>\n      <td>0</td>\n      <td>0</td>\n      <td>0</td>\n      <td>0</td>\n      <td>0</td>\n      <td>0</td>\n      <td>0</td>\n      <td>0</td>\n      <td>0</td>\n      <td>0</td>\n      <td>0</td>\n      <td>0</td>\n      <td>0</td>\n      <td>0</td>\n      <td>0</td>\n      <td>0</td>\n      <td>0</td>\n      <td>0</td>\n      <td>0</td>\n      <td>0</td>\n      <td>0</td>\n      <td>0</td>\n      <td>0</td>\n      <td>0</td>\n      <td>0</td>\n      <td>0</td>\n      <td>0</td>\n      <td>0</td>\n      <td>0</td>\n      <td>0</td>\n      <td>0</td>\n      <td>0</td>\n      <td>0</td>\n      <td>1</td>\n      <td>0</td>\n      <td>0</td>\n      <td>0</td>\n      <td>0</td>\n      <td>0</td>\n      <td>0</td>\n      <td>0</td>\n      <td>0</td>\n      <td>0</td>\n      <td>0</td>\n      <td>0</td>\n      <td>0</td>\n      <td>0</td>\n      <td>0</td>\n      <td>0</td>\n      <td>0</td>\n      <td>0</td>\n      <td>0</td>\n      <td>0</td>\n      <td>0</td>\n      <td>0</td>\n      <td>0</td>\n      <td>0</td>\n      <td>0</td>\n      <td>0</td>\n      <td>0</td>\n      <td>0</td>\n      <td>0</td>\n      <td>0</td>\n      <td>0</td>\n      <td>0</td>\n      <td>0</td>\n      <td>0</td>\n      <td>0</td>\n      <td>0</td>\n      <td>0</td>\n      <td>0</td>\n      <td>0</td>\n      <td>0</td>\n      <td>0</td>\n      <td>0</td>\n      <td>0</td>\n      <td>0</td>\n      <td>0</td>\n      <td>0</td>\n      <td>0</td>\n      <td>0</td>\n      <td>0</td>\n      <td>0</td>\n      <td>0</td>\n      <td>0</td>\n      <td>0</td>\n      <td>0</td>\n      <td>0</td>\n      <td>0</td>\n      <td>0</td>\n      <td>0</td>\n      <td>0</td>\n      <td>0</td>\n      <td>0</td>\n      <td>0</td>\n      <td>0</td>\n      <td>0</td>\n      <td>0</td>\n      <td>0</td>\n      <td>0</td>\n      <td>0</td>\n    </tr>\n    <tr>\n      <th>2</th>\n      <td>vietnamese</td>\n      <td>0</td>\n      <td>0</td>\n      <td>0</td>\n      <td>0</td>\n      <td>0</td>\n      <td>0</td>\n      <td>0</td>\n      <td>0</td>\n      <td>0</td>\n      <td>0</td>\n      <td>0</td>\n      <td>0</td>\n      <td>0</td>\n      <td>0</td>\n      <td>0</td>\n      <td>0</td>\n      <td>0</td>\n      <td>0</td>\n      <td>0</td>\n      <td>0</td>\n      <td>0</td>\n      <td>0</td>\n      <td>0</td>\n      <td>0</td>\n      <td>0</td>\n      <td>0</td>\n      <td>0</td>\n      <td>0</td>\n      <td>0</td>\n      <td>0</td>\n      <td>0</td>\n      <td>0</td>\n      <td>0</td>\n      <td>0</td>\n      <td>0</td>\n      <td>0</td>\n      <td>0</td>\n      <td>0</td>\n      <td>0</td>\n      <td>0</td>\n      <td>0</td>\n      <td>0</td>\n      <td>0</td>\n      <td>0</td>\n      <td>0</td>\n      <td>0</td>\n      <td>0</td>\n      <td>0</td>\n      <td>0</td>\n      <td>0</td>\n      <td>0</td>\n      <td>0</td>\n      <td>0</td>\n      <td>0</td>\n      <td>0</td>\n      <td>0</td>\n      <td>0</td>\n      <td>0</td>\n      <td>0</td>\n      <td>0</td>\n      <td>0</td>\n      <td>0</td>\n      <td>0</td>\n      <td>0</td>\n      <td>0</td>\n      <td>0</td>\n      <td>0</td>\n      <td>0</td>\n      <td>0</td>\n      <td>0</td>\n      <td>0</td>\n      <td>0</td>\n      <td>0</td>\n      <td>0</td>\n      <td>0</td>\n      <td>0</td>\n      <td>0</td>\n      <td>0</td>\n      <td>0</td>\n      <td>0</td>\n      <td>0</td>\n      <td>0</td>\n      <td>0</td>\n      <td>0</td>\n      <td>0</td>\n      <td>0</td>\n      <td>0</td>\n      <td>0</td>\n      <td>0</td>\n      <td>0</td>\n      <td>0</td>\n      <td>0</td>\n      <td>0</td>\n      <td>0</td>\n      <td>0</td>\n      <td>0</td>\n      <td>0</td>\n      <td>0</td>\n      <td>0</td>\n      <td>0</td>\n      <td>0</td>\n      <td>0</td>\n      <td>0</td>\n      <td>0</td>\n      <td>0</td>\n      <td>0</td>\n      <td>0</td>\n      <td>0</td>\n      <td>0</td>\n      <td>0</td>\n      <td>0</td>\n      <td>0</td>\n      <td>0</td>\n      <td>0</td>\n      <td>0</td>\n      <td>0</td>\n      <td>0</td>\n      <td>0</td>\n      <td>0</td>\n      <td>0</td>\n      <td>0</td>\n      <td>0</td>\n      <td>0</td>\n      <td>0</td>\n      <td>0</td>\n      <td>0</td>\n      <td>0</td>\n      <td>0</td>\n      <td>0</td>\n      <td>0</td>\n      <td>0</td>\n      <td>0</td>\n      <td>0</td>\n      <td>0</td>\n      <td>0</td>\n      <td>1</td>\n      <td>0</td>\n      <td>0</td>\n      <td>0</td>\n      <td>0</td>\n      <td>0</td>\n      <td>0</td>\n      <td>0</td>\n      <td>0</td>\n      <td>0</td>\n      <td>0</td>\n      <td>0</td>\n      <td>0</td>\n      <td>0</td>\n      <td>0</td>\n      <td>0</td>\n      <td>0</td>\n      <td>0</td>\n      <td>0</td>\n      <td>0</td>\n      <td>0</td>\n      <td>0</td>\n      <td>0</td>\n      <td>0</td>\n      <td>0</td>\n      <td>0</td>\n      <td>0</td>\n      <td>0</td>\n      <td>0</td>\n      <td>0</td>\n      <td>0</td>\n      <td>0</td>\n      <td>0</td>\n      <td>0</td>\n      <td>0</td>\n      <td>0</td>\n      <td>0</td>\n      <td>0</td>\n      <td>0</td>\n      <td>0</td>\n      <td>0</td>\n      <td>0</td>\n      <td>0</td>\n      <td>0</td>\n      <td>0</td>\n      <td>0</td>\n      <td>0</td>\n      <td>0</td>\n      <td>0</td>\n      <td>0</td>\n      <td>0</td>\n      <td>0</td>\n      <td>1</td>\n      <td>0</td>\n      <td>0</td>\n      <td>0</td>\n      <td>0</td>\n      <td>0</td>\n      <td>0</td>\n      <td>0</td>\n      <td>0</td>\n      <td>0</td>\n      <td>0</td>\n      <td>0</td>\n      <td>0</td>\n      <td>0</td>\n      <td>0</td>\n      <td>0</td>\n      <td>0</td>\n      <td>0</td>\n      <td>0</td>\n      <td>0</td>\n      <td>0</td>\n      <td>0</td>\n      <td>0</td>\n      <td>0</td>\n      <td>0</td>\n      <td>0</td>\n      <td>0</td>\n      <td>0</td>\n      <td>0</td>\n      <td>0</td>\n      <td>0</td>\n      <td>0</td>\n      <td>0</td>\n      <td>0</td>\n      <td>0</td>\n      <td>0</td>\n      <td>0</td>\n      <td>0</td>\n      <td>0</td>\n      <td>0</td>\n      <td>0</td>\n      <td>0</td>\n      <td>0</td>\n      <td>0</td>\n      <td>0</td>\n      <td>0</td>\n      <td>0</td>\n      <td>0</td>\n      <td>0</td>\n      <td>0</td>\n      <td>0</td>\n      <td>0</td>\n      <td>0</td>\n      <td>0</td>\n      <td>0</td>\n      <td>0</td>\n      <td>0</td>\n      <td>0</td>\n      <td>0</td>\n      <td>0</td>\n      <td>0</td>\n      <td>0</td>\n      <td>0</td>\n      <td>0</td>\n      <td>0</td>\n      <td>0</td>\n      <td>0</td>\n      <td>0</td>\n      <td>0</td>\n      <td>0</td>\n      <td>0</td>\n      <td>0</td>\n      <td>0</td>\n      <td>0</td>\n      <td>0</td>\n      <td>0</td>\n      <td>0</td>\n      <td>0</td>\n      <td>0</td>\n      <td>0</td>\n      <td>0</td>\n      <td>0</td>\n      <td>0</td>\n      <td>0</td>\n      <td>0</td>\n      <td>0</td>\n      <td>0</td>\n      <td>0</td>\n      <td>0</td>\n      <td>0</td>\n      <td>0</td>\n      <td>0</td>\n      <td>0</td>\n      <td>0</td>\n      <td>0</td>\n      <td>0</td>\n      <td>0</td>\n      <td>0</td>\n      <td>0</td>\n      <td>0</td>\n      <td>0</td>\n      <td>0</td>\n      <td>0</td>\n      <td>0</td>\n      <td>0</td>\n      <td>0</td>\n      <td>0</td>\n      <td>0</td>\n      <td>0</td>\n      <td>0</td>\n      <td>0</td>\n      <td>0</td>\n      <td>0</td>\n      <td>0</td>\n      <td>0</td>\n      <td>0</td>\n      <td>0</td>\n      <td>0</td>\n      <td>0</td>\n      <td>0</td>\n      <td>0</td>\n      <td>0</td>\n      <td>0</td>\n      <td>0</td>\n      <td>0</td>\n      <td>0</td>\n      <td>0</td>\n      <td>0</td>\n      <td>0</td>\n      <td>0</td>\n      <td>0</td>\n      <td>0</td>\n      <td>0</td>\n      <td>0</td>\n      <td>0</td>\n      <td>0</td>\n      <td>0</td>\n      <td>0</td>\n      <td>0</td>\n      <td>0</td>\n      <td>0</td>\n      <td>0</td>\n      <td>0</td>\n      <td>1</td>\n      <td>0</td>\n      <td>0</td>\n      <td>0</td>\n      <td>0</td>\n      <td>0</td>\n      <td>0</td>\n      <td>0</td>\n      <td>0</td>\n      <td>0</td>\n      <td>0</td>\n      <td>0</td>\n      <td>0</td>\n      <td>0</td>\n      <td>0</td>\n      <td>0</td>\n      <td>0</td>\n      <td>0</td>\n      <td>0</td>\n      <td>0</td>\n      <td>0</td>\n      <td>0</td>\n      <td>1</td>\n      <td>0</td>\n      <td>0</td>\n      <td>0</td>\n      <td>0</td>\n      <td>0</td>\n      <td>0</td>\n      <td>0</td>\n      <td>0</td>\n      <td>0</td>\n      <td>0</td>\n      <td>0</td>\n      <td>0</td>\n      <td>0</td>\n      <td>0</td>\n      <td>0</td>\n      <td>0</td>\n      <td>0</td>\n      <td>0</td>\n      <td>0</td>\n      <td>0</td>\n      <td>0</td>\n      <td>0</td>\n      <td>0</td>\n      <td>0</td>\n      <td>0</td>\n      <td>0</td>\n      <td>0</td>\n      <td>0</td>\n      <td>0</td>\n      <td>0</td>\n    </tr>\n    <tr>\n      <th>3</th>\n      <td>vietnamese</td>\n      <td>0</td>\n      <td>0</td>\n      <td>0</td>\n      <td>0</td>\n      <td>0</td>\n      <td>0</td>\n      <td>0</td>\n      <td>0</td>\n      <td>0</td>\n      <td>0</td>\n      <td>0</td>\n      <td>0</td>\n      <td>0</td>\n      <td>0</td>\n      <td>0</td>\n      <td>0</td>\n      <td>0</td>\n      <td>0</td>\n      <td>1</td>\n      <td>0</td>\n      <td>1</td>\n      <td>0</td>\n      <td>0</td>\n      <td>1</td>\n      <td>0</td>\n      <td>0</td>\n      <td>0</td>\n      <td>0</td>\n      <td>0</td>\n      <td>0</td>\n      <td>0</td>\n      <td>0</td>\n      <td>0</td>\n      <td>0</td>\n      <td>0</td>\n      <td>0</td>\n      <td>0</td>\n      <td>0</td>\n      <td>0</td>\n      <td>0</td>\n      <td>0</td>\n      <td>0</td>\n      <td>0</td>\n      <td>0</td>\n      <td>0</td>\n      <td>0</td>\n      <td>0</td>\n      <td>0</td>\n      <td>0</td>\n      <td>0</td>\n      <td>0</td>\n      <td>0</td>\n      <td>0</td>\n      <td>0</td>\n      <td>0</td>\n      <td>0</td>\n      <td>0</td>\n      <td>0</td>\n      <td>0</td>\n      <td>0</td>\n      <td>0</td>\n      <td>0</td>\n      <td>0</td>\n      <td>0</td>\n      <td>0</td>\n      <td>0</td>\n      <td>0</td>\n      <td>0</td>\n      <td>1</td>\n      <td>0</td>\n      <td>0</td>\n      <td>0</td>\n      <td>0</td>\n      <td>0</td>\n      <td>0</td>\n      <td>0</td>\n      <td>0</td>\n      <td>0</td>\n      <td>0</td>\n      <td>0</td>\n      <td>0</td>\n      <td>0</td>\n      <td>0</td>\n      <td>0</td>\n      <td>0</td>\n      <td>0</td>\n      <td>0</td>\n      <td>0</td>\n      <td>1</td>\n      <td>0</td>\n      <td>0</td>\n      <td>0</td>\n      <td>0</td>\n      <td>0</td>\n      <td>0</td>\n      <td>0</td>\n      <td>0</td>\n      <td>0</td>\n      <td>0</td>\n      <td>0</td>\n      <td>0</td>\n      <td>0</td>\n      <td>0</td>\n      <td>0</td>\n      <td>0</td>\n      <td>0</td>\n      <td>0</td>\n      <td>0</td>\n      <td>0</td>\n      <td>0</td>\n      <td>0</td>\n      <td>0</td>\n      <td>0</td>\n      <td>0</td>\n      <td>0</td>\n      <td>0</td>\n      <td>0</td>\n      <td>0</td>\n      <td>0</td>\n      <td>0</td>\n      <td>0</td>\n      <td>0</td>\n      <td>0</td>\n      <td>0</td>\n      <td>0</td>\n      <td>0</td>\n      <td>0</td>\n      <td>0</td>\n      <td>0</td>\n      <td>1</td>\n      <td>0</td>\n      <td>0</td>\n      <td>0</td>\n      <td>0</td>\n      <td>0</td>\n      <td>0</td>\n      <td>0</td>\n      <td>0</td>\n      <td>0</td>\n      <td>1</td>\n      <td>0</td>\n      <td>0</td>\n      <td>0</td>\n      <td>0</td>\n      <td>0</td>\n      <td>0</td>\n      <td>0</td>\n      <td>0</td>\n      <td>0</td>\n      <td>0</td>\n      <td>0</td>\n      <td>0</td>\n      <td>0</td>\n      <td>0</td>\n      <td>0</td>\n      <td>0</td>\n      <td>0</td>\n      <td>0</td>\n      <td>0</td>\n      <td>0</td>\n      <td>0</td>\n      <td>0</td>\n      <td>0</td>\n      <td>0</td>\n      <td>0</td>\n      <td>0</td>\n      <td>0</td>\n      <td>0</td>\n      <td>0</td>\n      <td>0</td>\n      <td>0</td>\n      <td>0</td>\n      <td>0</td>\n      <td>0</td>\n      <td>0</td>\n      <td>0</td>\n      <td>0</td>\n      <td>0</td>\n      <td>0</td>\n      <td>0</td>\n      <td>0</td>\n      <td>0</td>\n      <td>0</td>\n      <td>0</td>\n      <td>0</td>\n      <td>0</td>\n      <td>1</td>\n      <td>1</td>\n      <td>0</td>\n      <td>0</td>\n      <td>0</td>\n      <td>0</td>\n      <td>0</td>\n      <td>0</td>\n      <td>0</td>\n      <td>0</td>\n      <td>0</td>\n      <td>0</td>\n      <td>0</td>\n      <td>0</td>\n      <td>0</td>\n      <td>0</td>\n      <td>0</td>\n      <td>0</td>\n      <td>0</td>\n      <td>0</td>\n      <td>0</td>\n      <td>0</td>\n      <td>0</td>\n      <td>0</td>\n      <td>0</td>\n      <td>1</td>\n      <td>0</td>\n      <td>0</td>\n      <td>0</td>\n      <td>0</td>\n      <td>0</td>\n      <td>0</td>\n      <td>0</td>\n      <td>0</td>\n      <td>0</td>\n      <td>0</td>\n      <td>0</td>\n      <td>0</td>\n      <td>0</td>\n      <td>0</td>\n      <td>0</td>\n      <td>0</td>\n      <td>0</td>\n      <td>0</td>\n      <td>0</td>\n      <td>0</td>\n      <td>0</td>\n      <td>0</td>\n      <td>0</td>\n      <td>0</td>\n      <td>0</td>\n      <td>0</td>\n      <td>0</td>\n      <td>0</td>\n      <td>0</td>\n      <td>0</td>\n      <td>0</td>\n      <td>0</td>\n      <td>1</td>\n      <td>0</td>\n      <td>0</td>\n      <td>0</td>\n      <td>0</td>\n      <td>0</td>\n      <td>0</td>\n      <td>0</td>\n      <td>0</td>\n      <td>0</td>\n      <td>0</td>\n      <td>0</td>\n      <td>0</td>\n      <td>0</td>\n      <td>0</td>\n      <td>0</td>\n      <td>0</td>\n      <td>0</td>\n      <td>0</td>\n      <td>0</td>\n      <td>0</td>\n      <td>0</td>\n      <td>0</td>\n      <td>0</td>\n      <td>0</td>\n      <td>0</td>\n      <td>0</td>\n      <td>0</td>\n      <td>0</td>\n      <td>0</td>\n      <td>0</td>\n      <td>0</td>\n      <td>0</td>\n      <td>0</td>\n      <td>0</td>\n      <td>0</td>\n      <td>0</td>\n      <td>0</td>\n      <td>0</td>\n      <td>0</td>\n      <td>1</td>\n      <td>0</td>\n      <td>1</td>\n      <td>0</td>\n      <td>0</td>\n      <td>0</td>\n      <td>0</td>\n      <td>0</td>\n      <td>0</td>\n      <td>0</td>\n      <td>0</td>\n      <td>0</td>\n      <td>0</td>\n      <td>0</td>\n      <td>0</td>\n      <td>0</td>\n      <td>0</td>\n      <td>0</td>\n      <td>0</td>\n      <td>0</td>\n      <td>0</td>\n      <td>0</td>\n      <td>0</td>\n      <td>0</td>\n      <td>0</td>\n      <td>0</td>\n      <td>0</td>\n      <td>0</td>\n      <td>0</td>\n      <td>0</td>\n      <td>0</td>\n      <td>0</td>\n      <td>0</td>\n      <td>0</td>\n      <td>1</td>\n      <td>0</td>\n      <td>0</td>\n      <td>0</td>\n      <td>0</td>\n      <td>0</td>\n      <td>0</td>\n      <td>0</td>\n      <td>0</td>\n      <td>0</td>\n      <td>0</td>\n      <td>0</td>\n      <td>0</td>\n      <td>0</td>\n      <td>0</td>\n      <td>0</td>\n      <td>0</td>\n      <td>0</td>\n      <td>0</td>\n      <td>0</td>\n      <td>0</td>\n      <td>0</td>\n      <td>0</td>\n      <td>0</td>\n      <td>0</td>\n      <td>0</td>\n      <td>0</td>\n      <td>0</td>\n      <td>0</td>\n      <td>0</td>\n      <td>0</td>\n      <td>0</td>\n      <td>0</td>\n      <td>0</td>\n      <td>0</td>\n      <td>0</td>\n      <td>0</td>\n      <td>0</td>\n      <td>0</td>\n      <td>0</td>\n      <td>0</td>\n      <td>0</td>\n      <td>0</td>\n      <td>0</td>\n      <td>0</td>\n      <td>0</td>\n      <td>1</td>\n      <td>0</td>\n      <td>0</td>\n      <td>0</td>\n      <td>0</td>\n      <td>0</td>\n      <td>0</td>\n      <td>0</td>\n      <td>0</td>\n      <td>0</td>\n      <td>0</td>\n      <td>0</td>\n      <td>0</td>\n      <td>0</td>\n      <td>0</td>\n      <td>0</td>\n      <td>0</td>\n      <td>0</td>\n      <td>0</td>\n    </tr>\n    <tr>\n      <th>4</th>\n      <td>vietnamese</td>\n      <td>0</td>\n      <td>0</td>\n      <td>0</td>\n      <td>0</td>\n      <td>0</td>\n      <td>0</td>\n      <td>0</td>\n      <td>0</td>\n      <td>0</td>\n      <td>0</td>\n      <td>0</td>\n      <td>0</td>\n      <td>0</td>\n      <td>0</td>\n      <td>0</td>\n      <td>0</td>\n      <td>0</td>\n      <td>0</td>\n      <td>0</td>\n      <td>0</td>\n      <td>0</td>\n      <td>0</td>\n      <td>0</td>\n      <td>0</td>\n      <td>0</td>\n      <td>0</td>\n      <td>0</td>\n      <td>0</td>\n      <td>0</td>\n      <td>0</td>\n      <td>0</td>\n      <td>0</td>\n      <td>0</td>\n      <td>0</td>\n      <td>0</td>\n      <td>0</td>\n      <td>0</td>\n      <td>0</td>\n      <td>0</td>\n      <td>0</td>\n      <td>0</td>\n      <td>0</td>\n      <td>0</td>\n      <td>0</td>\n      <td>0</td>\n      <td>0</td>\n      <td>0</td>\n      <td>0</td>\n      <td>0</td>\n      <td>0</td>\n      <td>0</td>\n      <td>0</td>\n      <td>0</td>\n      <td>0</td>\n      <td>0</td>\n      <td>0</td>\n      <td>0</td>\n      <td>0</td>\n      <td>0</td>\n      <td>0</td>\n      <td>0</td>\n      <td>0</td>\n      <td>0</td>\n      <td>0</td>\n      <td>0</td>\n      <td>0</td>\n      <td>0</td>\n      <td>0</td>\n      <td>1</td>\n      <td>0</td>\n      <td>0</td>\n      <td>0</td>\n      <td>0</td>\n      <td>0</td>\n      <td>0</td>\n      <td>0</td>\n      <td>0</td>\n      <td>0</td>\n      <td>0</td>\n      <td>0</td>\n      <td>0</td>\n      <td>0</td>\n      <td>0</td>\n      <td>0</td>\n      <td>0</td>\n      <td>0</td>\n      <td>0</td>\n      <td>0</td>\n      <td>0</td>\n      <td>0</td>\n      <td>0</td>\n      <td>0</td>\n      <td>0</td>\n      <td>0</td>\n      <td>0</td>\n      <td>0</td>\n      <td>0</td>\n      <td>0</td>\n      <td>0</td>\n      <td>0</td>\n      <td>0</td>\n      <td>0</td>\n      <td>1</td>\n      <td>0</td>\n      <td>0</td>\n      <td>0</td>\n      <td>0</td>\n      <td>0</td>\n      <td>0</td>\n      <td>0</td>\n      <td>0</td>\n      <td>1</td>\n      <td>0</td>\n      <td>0</td>\n      <td>0</td>\n      <td>0</td>\n      <td>0</td>\n      <td>0</td>\n      <td>0</td>\n      <td>0</td>\n      <td>0</td>\n      <td>0</td>\n      <td>0</td>\n      <td>0</td>\n      <td>0</td>\n      <td>0</td>\n      <td>0</td>\n      <td>0</td>\n      <td>0</td>\n      <td>1</td>\n      <td>0</td>\n      <td>0</td>\n      <td>0</td>\n      <td>0</td>\n      <td>0</td>\n      <td>1</td>\n      <td>0</td>\n      <td>0</td>\n      <td>0</td>\n      <td>0</td>\n      <td>0</td>\n      <td>0</td>\n      <td>0</td>\n      <td>0</td>\n      <td>0</td>\n      <td>0</td>\n      <td>0</td>\n      <td>0</td>\n      <td>0</td>\n      <td>0</td>\n      <td>0</td>\n      <td>0</td>\n      <td>0</td>\n      <td>0</td>\n      <td>0</td>\n      <td>0</td>\n      <td>0</td>\n      <td>0</td>\n      <td>0</td>\n      <td>0</td>\n      <td>0</td>\n      <td>0</td>\n      <td>0</td>\n      <td>0</td>\n      <td>0</td>\n      <td>0</td>\n      <td>0</td>\n      <td>0</td>\n      <td>0</td>\n      <td>0</td>\n      <td>0</td>\n      <td>0</td>\n      <td>0</td>\n      <td>0</td>\n      <td>0</td>\n      <td>0</td>\n      <td>0</td>\n      <td>1</td>\n      <td>0</td>\n      <td>0</td>\n      <td>0</td>\n      <td>0</td>\n      <td>0</td>\n      <td>0</td>\n      <td>0</td>\n      <td>0</td>\n      <td>0</td>\n      <td>1</td>\n      <td>0</td>\n      <td>0</td>\n      <td>0</td>\n      <td>0</td>\n      <td>0</td>\n      <td>0</td>\n      <td>0</td>\n      <td>0</td>\n      <td>0</td>\n      <td>0</td>\n      <td>0</td>\n      <td>0</td>\n      <td>0</td>\n      <td>0</td>\n      <td>0</td>\n      <td>0</td>\n      <td>0</td>\n      <td>0</td>\n      <td>0</td>\n      <td>0</td>\n      <td>0</td>\n      <td>0</td>\n      <td>0</td>\n      <td>1</td>\n      <td>0</td>\n      <td>0</td>\n      <td>0</td>\n      <td>0</td>\n      <td>0</td>\n      <td>0</td>\n      <td>0</td>\n      <td>0</td>\n      <td>0</td>\n      <td>0</td>\n      <td>0</td>\n      <td>0</td>\n      <td>0</td>\n      <td>0</td>\n      <td>0</td>\n      <td>0</td>\n      <td>0</td>\n      <td>0</td>\n      <td>0</td>\n      <td>0</td>\n      <td>0</td>\n      <td>0</td>\n      <td>0</td>\n      <td>0</td>\n      <td>0</td>\n      <td>0</td>\n      <td>0</td>\n      <td>0</td>\n      <td>0</td>\n      <td>0</td>\n      <td>0</td>\n      <td>0</td>\n      <td>0</td>\n      <td>0</td>\n      <td>1</td>\n      <td>0</td>\n      <td>0</td>\n      <td>0</td>\n      <td>0</td>\n      <td>0</td>\n      <td>0</td>\n      <td>0</td>\n      <td>0</td>\n      <td>0</td>\n      <td>0</td>\n      <td>0</td>\n      <td>0</td>\n      <td>0</td>\n      <td>0</td>\n      <td>0</td>\n      <td>0</td>\n      <td>0</td>\n      <td>0</td>\n      <td>0</td>\n      <td>0</td>\n      <td>0</td>\n      <td>0</td>\n      <td>0</td>\n      <td>0</td>\n      <td>0</td>\n      <td>0</td>\n      <td>0</td>\n      <td>0</td>\n      <td>0</td>\n      <td>0</td>\n      <td>0</td>\n      <td>0</td>\n      <td>0</td>\n      <td>0</td>\n      <td>0</td>\n      <td>0</td>\n      <td>0</td>\n      <td>1</td>\n      <td>0</td>\n      <td>0</td>\n      <td>0</td>\n      <td>0</td>\n      <td>0</td>\n      <td>0</td>\n      <td>0</td>\n      <td>0</td>\n      <td>0</td>\n      <td>0</td>\n      <td>0</td>\n      <td>0</td>\n      <td>0</td>\n      <td>0</td>\n      <td>0</td>\n      <td>0</td>\n      <td>0</td>\n      <td>0</td>\n      <td>0</td>\n      <td>0</td>\n      <td>0</td>\n      <td>0</td>\n      <td>0</td>\n      <td>0</td>\n      <td>0</td>\n      <td>0</td>\n      <td>1</td>\n      <td>0</td>\n      <td>0</td>\n      <td>0</td>\n      <td>0</td>\n      <td>0</td>\n      <td>0</td>\n      <td>0</td>\n      <td>0</td>\n      <td>0</td>\n      <td>0</td>\n      <td>0</td>\n      <td>1</td>\n      <td>0</td>\n      <td>0</td>\n      <td>0</td>\n      <td>0</td>\n      <td>0</td>\n      <td>0</td>\n      <td>0</td>\n      <td>0</td>\n      <td>0</td>\n      <td>0</td>\n      <td>0</td>\n      <td>0</td>\n      <td>0</td>\n      <td>0</td>\n      <td>0</td>\n      <td>0</td>\n      <td>0</td>\n      <td>0</td>\n      <td>0</td>\n      <td>0</td>\n      <td>0</td>\n      <td>0</td>\n      <td>0</td>\n      <td>0</td>\n      <td>0</td>\n      <td>0</td>\n      <td>0</td>\n      <td>0</td>\n      <td>0</td>\n      <td>0</td>\n      <td>0</td>\n      <td>0</td>\n      <td>0</td>\n      <td>0</td>\n      <td>0</td>\n      <td>0</td>\n      <td>0</td>\n      <td>0</td>\n      <td>0</td>\n      <td>0</td>\n      <td>0</td>\n      <td>1</td>\n      <td>0</td>\n      <td>0</td>\n      <td>0</td>\n      <td>0</td>\n      <td>0</td>\n      <td>0</td>\n      <td>0</td>\n      <td>0</td>\n      <td>0</td>\n      <td>0</td>\n      <td>0</td>\n      <td>0</td>\n      <td>0</td>\n      <td>0</td>\n      <td>0</td>\n      <td>0</td>\n      <td>0</td>\n    </tr>\n  </tbody>\n</table>\n</div>",
                        "text/plain": "      cuisine  almond  angelica  anise  anise_seed  apple  apple_brandy  \\\n0  vietnamese       0         0      0           0      0             0   \n1  vietnamese       0         0      0           0      0             0   \n2  vietnamese       0         0      0           0      0             0   \n3  vietnamese       0         0      0           0      0             0   \n4  vietnamese       0         0      0           0      0             0   \n\n   apricot  armagnac  artemisia  artichoke  asparagus  avocado  bacon  \\\n0        0         0          0          0          0        0      0   \n1        0         0          0          0          0        0      0   \n2        0         0          0          0          0        0      0   \n3        0         0          0          0          0        0      0   \n4        0         0          0          0          0        0      0   \n\n   baked_potato  balm  banana  barley  bartlett_pear  basil  bay  bean  beech  \\\n0             0     0       0       0              0      1    0     0      0   \n1             0     0       0       0              0      0    0     0      0   \n2             0     0       0       0              0      0    0     0      0   \n3             0     0       0       0              0      1    0     1      0   \n4             0     0       0       0              0      0    0     0      0   \n\n   beef  beef_broth  beef_liver  beer  beet  bell_pepper  bergamot  berry  \\\n0     0           0           0     0     0            0         0      0   \n1     0           0           0     0     0            0         0      0   \n2     0           0           0     0     0            0         0      0   \n3     0           1           0     0     0            0         0      0   \n4     0           0           0     0     0            0         0      0   \n\n   bitter_orange  black_bean  black_currant  black_mustard_seed_oil  \\\n0              0           0              0                       0   \n1              0           0              0                       0   \n2              0           0              0                       0   \n3              0           0              0                       0   \n4              0           0              0                       0   \n\n   black_pepper  black_raspberry  black_sesame_seed  black_tea  blackberry  \\\n0             0                0                  0          0           0   \n1             1                0                  0          0           0   \n2             0                0                  0          0           0   \n3             0                0                  0          0           0   \n4             0                0                  0          0           0   \n\n   blackberry_brandy  blue_cheese  blueberry  bone_oil  bourbon_whiskey  \\\n0                  0            0          0         0                0   \n1                  0            0          0         0                0   \n2                  0            0          0         0                0   \n3                  0            0          0         0                0   \n4                  0            0          0         0                0   \n\n   brandy  brassica  bread  broccoli  brown_rice  brussels_sprout  buckwheat  \\\n0       0         0      0         0           0                0          0   \n1       0         0      0         0           0                0          0   \n2       0         0      0         0           0                0          0   \n3       0         0      0         0           0                0          0   \n4       0         0      0         0           0                0          0   \n\n   butter  buttermilk  cabbage  cabernet_sauvignon_wine  cacao  \\\n0       0           0        0                        0      0   \n1       0           0        0                        0      0   \n2       0           0        0                        0      0   \n3       0           0        0                        0      0   \n4       0           0        0                        0      0   \n\n   camembert_cheese  cane_molasses  caraway  cardamom  carnation  carob  \\\n0                 0              0        0         0          0      0   \n1                 0              0        0         0          0      0   \n2                 0              0        0         0          0      0   \n3                 0              0        0         0          0      0   \n4                 0              0        0         0          0      0   \n\n   carrot  cashew  cassava  catfish  cauliflower  caviar  cayenne  celery  \\\n0       1       0        0        0            0       0        1       0   \n1       0       0        0        0            0       0        1       0   \n2       0       0        0        0            0       0        0       0   \n3       0       0        0        0            0       0        1       0   \n4       0       0        0        0            0       0        1       0   \n\n   celery_oil  cereal  chamomile  champagne_wine  chayote  cheddar_cheese  \\\n0           0       0          0               0        0               0   \n1           0       0          0               0        0               0   \n2           0       0          0               0        0               0   \n3           0       0          0               0        0               0   \n4           0       0          0               0        0               0   \n\n   cheese  cherry  cherry_brandy  chervil  chicken  chicken_broth  \\\n0       0       0              0        0        0              0   \n1       0       0              0        0        0              0   \n2       0       0              0        0        0              0   \n3       0       0              0        0        0              0   \n4       0       0              0        0        0              0   \n\n   chicken_liver  chickpea  chicory  chinese_cabbage  chive  cider  cilantro  \\\n0              0         0        0                0      0      0         1   \n1              0         0        0                0      0      0         0   \n2              0         0        0                0      0      0         0   \n3              0         0        0                0      0      0         1   \n4              0         0        0                0      0      0         0   \n\n   cinnamon  citrus  citrus_peel  clam  clove  cocoa  coconut  coconut_oil  \\\n0         0       0            0     0      0      0        0            0   \n1         0       0            0     0      0      0        0            0   \n2         0       0            0     0      0      0        0            0   \n3         0       0            0     0      0      0        0            0   \n4         0       0            0     0      0      0        0            0   \n\n   cod  coffee  cognac  concord_grape  condiment  coriander  corn  corn_flake  \\\n0    0       0       0              0          0          0     0           0   \n1    0       0       0              0          0          0     0           0   \n2    0       0       0              0          0          0     0           0   \n3    0       0       0              0          0          0     0           0   \n4    0       0       0              0          0          1     0           0   \n\n   corn_grit  cottage_cheese  crab  cranberry  cream  cream_cheese  cucumber  \\\n0          0               0     0          0      0             0         1   \n1          0               0     0          0      0             0         0   \n2          0               0     0          0      0             0         0   \n3          0               0     0          0      0             0         0   \n4          0               0     0          0      0             0         1   \n\n   cumin  cured_pork  currant  date  dill  durian  eel  egg  egg_noodle  \\\n0      0           0        0     0     0       0    0    0           0   \n1      0           0        0     0     0       0    0    0           0   \n2      0           0        0     0     0       0    0    0           0   \n3      0           0        0     0     0       0    0    0           0   \n4      0           0        0     0     0       0    0    0           0   \n\n   elderberry  emmental_cheese  endive  enokidake  fennel  fenugreek  \\\n0           0                0       0          0       0          0   \n1           0                0       0          0       0          0   \n2           0                0       0          0       0          0   \n3           0                0       0          0       0          0   \n4           0                0       0          0       0          0   \n\n   feta_cheese  fig  fish  flower  frankfurter  fruit  galanga  gardenia  \\\n0            0    0     1       0            0      0        0         0   \n1            0    0     1       0            0      0        0         0   \n2            0    0     0       0            0      0        0         0   \n3            0    0     1       0            0      0        0         0   \n4            0    0     1       0            0      0        0         0   \n\n   garlic  gelatin  geranium  gin  ginger  goat_cheese  grape  grape_brandy  \\\n0       1        0         0    0       0            0      0             0   \n1       1        0         0    0       0            0      0             0   \n2       1        0         0    0       0            0      0             0   \n3       0        0         0    0       1            0      0             0   \n4       1        0         0    0       0            0      0             0   \n\n   grape_juice  grapefruit  green_bell_pepper  green_tea  gruyere_cheese  \\\n0            0           0                  0          0               0   \n1            0           0                  0          0               0   \n2            0           0                  0          0               0   \n3            0           0                  0          0               0   \n4            0           0                  0          0               0   \n\n   guava  haddock  ham  hazelnut  herring  holy_basil  honey  hop  \\\n0      0        0    0         0        0           0      0    0   \n1      0        0    0         0        0           0      0    0   \n2      0        0    0         0        0           0      0    0   \n3      0        0    0         0        0           0      0    0   \n4      0        0    0         0        0           0      0    0   \n\n   horseradish  huckleberry  jamaican_rum  japanese_plum  jasmine  \\\n0            0            0             0              0        0   \n1            0            0             0              0        0   \n2            0            0             0              0        0   \n3            0            0             0              0        0   \n4            0            0             0              0        0   \n\n   jasmine_tea  juniper_berry  kaffir_lime  kale  katsuobushi  kelp  \\\n0            0              0            0     0            0     0   \n1            0              0            0     0            0     0   \n2            0              0            0     0            0     0   \n3            0              0            0     0            0     0   \n4            0              0            0     0            0     0   \n\n   kidney_bean  kiwi  kohlrabi  kumquat  lamb  lard  laurel  lavender  leaf  \\\n0            0     0         0        0     0     0       0         0     0   \n1            0     0         0        0     0     0       0         0     0   \n2            0     0         0        0     0     0       0         0     0   \n3            0     0         0        0     0     0       0         0     0   \n4            0     0         0        0     0     0       0         0     0   \n\n   leek  lemon  lemon_juice  lemon_peel  lemongrass  lentil  lettuce  \\\n0     0      0            0           0           0       0        1   \n1     0      0            0           0           0       0        0   \n2     0      0            0           0           0       0        0   \n3     0      0            0           0           0       0        0   \n4     0      1            0           0           0       0        0   \n\n   licorice  lilac_flower_oil  lima_bean  lime  lime_juice  lime_peel_oil  \\\n0         0                 0          0     0           1              0   \n1         0                 0          0     0           0              0   \n2         0                 0          0     0           1              0   \n3         0                 0          0     1           1              0   \n4         0                 0          0     0           1              0   \n\n   lingonberry  litchi  liver  lobster  long_pepper  lovage  macadamia_nut  \\\n0            0       0      0        0            0       0              0   \n1            0       0      0        0            0       0              0   \n2            0       0      0        0            0       0              0   \n3            0       0      0        0            0       0              0   \n4            0       0      0        0            0       0              0   \n\n   macaroni  mace  mackerel  malt  mandarin  mandarin_peel  mango  \\\n0         0     0         0     0         0              0      0   \n1         0     0         0     0         0              0      0   \n2         0     0         0     0         0              0      0   \n3         0     0         0     0         0              0      0   \n4         0     0         0     0         0              0      0   \n\n   maple_syrup  marjoram  mate  matsutake  meat  melon  milk  milk_fat  mint  \\\n0            0         0     0          0     0      0     0         0     1   \n1            0         0     0          0     0      0     0         0     0   \n2            0         0     0          0     0      0     0         0     0   \n3            0         0     0          0     0      0     0         0     1   \n4            0         0     0          0     0      0     0         0     1   \n\n   mozzarella_cheese  mung_bean  munster_cheese  muscat_grape  mushroom  \\\n0                  0          0               0             0         0   \n1                  0          0               0             0         0   \n2                  0          0               0             0         0   \n3                  0          0               0             0         0   \n4                  0          0               0             0         0   \n\n   mussel  mustard  mutton  nectarine  nira  nut  nutmeg  oat  oatmeal  \\\n0       0        0       0          0     0    0       0    0        0   \n1       0        0       0          0     0    0       0    0        0   \n2       0        0       0          0     0    0       0    0        0   \n3       0        0       0          0     0    0       0    0        0   \n4       0        0       0          0     0    0       0    0        0   \n\n   octopus  okra  olive  olive_oil  onion  orange  orange_flower  \\\n0        0     0      0          1      0       0              0   \n1        0     0      0          0      1       0              0   \n2        0     0      0          0      0       0              0   \n3        0     0      0          0      0       0              0   \n4        0     0      0          0      0       0              0   \n\n   orange_juice  orange_peel  oregano  ouzo  oyster  palm  papaya  \\\n0             0            0        0     0       0     0       0   \n1             0            0        0     0       0     0       0   \n2             0            0        0     0       0     0       0   \n3             0            0        0     0       0     0       0   \n4             0            0        0     0       0     0       0   \n\n   parmesan_cheese  parsley  parsnip  passion_fruit  pea  peach  peanut  \\\n0                0        0        0              0    0      0       0   \n1                0        0        0              0    0      0       0   \n2                0        0        0              0    0      0       0   \n3                0        0        0              0    1      0       0   \n4                0        0        0              0    0      0       1   \n\n   peanut_butter  peanut_oil  pear  pear_brandy  pecan  pelargonium  pepper  \\\n0              0           0     0            0      0            0       0   \n1              0           0     0            0      0            0       0   \n2              0           0     0            0      0            0       0   \n3              0           0     0            0      0            0       0   \n4              0           0     0            0      0            0       0   \n\n   peppermint  peppermint_oil  pimenta  pimento  pineapple  pistachio  plum  \\\n0           0               0        0        0          0          0     0   \n1           0               0        0        0          0          0     0   \n2           0               0        0        0          0          0     0   \n3           0               0        0        0          0          0     0   \n4           0               0        0        0          0          0     0   \n\n   popcorn  porcini  pork  pork_liver  pork_sausage  port_wine  potato  \\\n0        0        0     0           0             0          0       0   \n1        0        0     0           0             0          0       0   \n2        0        0     0           0             0          0       0   \n3        0        0     0           0             0          0       0   \n4        0        0     0           0             0          0       0   \n\n   potato_chip  prawn  prickly_pear  provolone_cheese  pumpkin  quince  \\\n0            0      0             0                 0        0       0   \n1            0      0             0                 0        0       0   \n2            0      0             0                 0        0       0   \n3            0      0             0                 0        0       0   \n4            0      0             0                 0        0       0   \n\n   radish  raisin  rapeseed  raspberry  raw_beef  red_algae  red_bean  \\\n0       0       0         0          0         0          0         0   \n1       0       0         0          0         0          0         0   \n2       0       0         0          0         0          0         0   \n3       0       0         0          0         0          0         0   \n4       0       0         0          0         0          0         0   \n\n   red_kidney_bean  red_wine  rhubarb  rice  roasted_almond  roasted_beef  \\\n0                0         0        0     1               0             0   \n1                0         0        0     0               0             0   \n2                0         0        0     0               0             0   \n3                0         0        0     1               0             1   \n4                0         0        0     1               0             0   \n\n   roasted_hazelnut  roasted_meat  roasted_nut  roasted_peanut  roasted_pecan  \\\n0                 0             0            0               0              0   \n1                 0             0            0               0              0   \n2                 0             0            0               0              0   \n3                 0             0            0               0              0   \n4                 0             0            0               0              0   \n\n   roasted_pork  roasted_sesame_seed  romano_cheese  root  roquefort_cheese  \\\n0             0                    0              0     0                 0   \n1             0                    0              0     0                 0   \n2             0                    0              0     0                 0   \n3             0                    0              0     0                 0   \n4             0                    0              0     0                 0   \n\n   rose  rosemary  rum  rutabaga  rye_bread  rye_flour  saffron  sage  sake  \\\n0     0         0    0         0          0          0        0     0     0   \n1     0         0    0         0          0          0        0     0     0   \n2     0         0    0         0          0          0        0     0     0   \n3     0         0    0         0          0          0        0     0     0   \n4     0         0    0         0          0          0        0     0     0   \n\n   salmon  salmon_roe  sassafras  sauerkraut  savory  scallion  scallop  \\\n0       0           0          0           0       0         0        0   \n1       0           0          0           0       0         0        0   \n2       0           0          0           0       0         0        0   \n3       0           0          0           0       0         0        0   \n4       0           0          0           0       0         1        0   \n\n   sea_algae  seaweed  seed  sesame_oil  sesame_seed  shallot  sheep_cheese  \\\n0          0        0     1           0            0        0             0   \n1          0        0     1           0            0        0             0   \n2          0        0     0           0            0        0             0   \n3          0        0     0           0            0        1             0   \n4          0        0     0           0            0        0             0   \n\n   shellfish  sherry  shiitake  shrimp  smoke  smoked_fish  smoked_salmon  \\\n0          0       0         1       1      0            0              0   \n1          0       0         0       0      0            0              0   \n2          0       0         0       0      0            0              0   \n3          0       0         0       0      0            0              0   \n4          0       0         0       1      0            0              0   \n\n   smoked_sausage  sour_cherry  sour_milk  soy_sauce  soybean  soybean_oil  \\\n0               0            0          0          0        0            0   \n1               0            0          0          0        0            0   \n2               0            0          0          1        0            0   \n3               0            0          0          0        0            0   \n4               0            0          0          0        0            0   \n\n   spearmint  squash  squid  star_anise  starch  strawberry  strawberry_jam  \\\n0          0       0      0           0       0           0               0   \n1          0       0      0           0       0           0               0   \n2          0       0      0           0       0           0               0   \n3          0       0      0           0       0           0               0   \n4          0       0      0           0       0           0               0   \n\n   strawberry_juice  sturgeon_caviar  sumac  sunflower_oil  sweet_potato  \\\n0                 0                0      0              0             0   \n1                 0                0      0              0             0   \n2                 0                0      0              0             0   \n3                 0                0      0              0             0   \n4                 0                0      0              0             0   \n\n   swiss_cheese  tabasco_pepper  tamarind  tangerine  tarragon  tea  tequila  \\\n0             0               0         0          0         0    0        0   \n1             0               0         0          0         0    0        0   \n2             0               0         0          0         0    0        0   \n3             0               0         0          0         0    0        0   \n4             0               0         0          0         0    0        0   \n\n   thai_pepper  thyme  tomato  tomato_juice  truffle  tuna  turkey  turmeric  \\\n0            0      0       0             0        0     0       0         0   \n1            0      0       0             0        0     0       0         0   \n2            1      0       0             0        0     0       0         0   \n3            0      0       0             0        0     0       0         0   \n4            0      0       0             0        0     0       0         0   \n\n   turnip  vanilla  veal  vegetable  vegetable_oil  vinegar  violet  walnut  \\\n0       0        0     0          0              0        1       0       0   \n1       0        0     0          0              0        0       0       0   \n2       0        0     0          0              0        0       0       0   \n3       0        0     0          0              1        0       0       0   \n4       0        0     0          0              0        1       0       0   \n\n   wasabi  watercress  watermelon  wheat  wheat_bread  whiskey  white_bread  \\\n0       0           0           0      0            0        0            0   \n1       0           0           0      0            0        0            0   \n2       0           0           0      0            0        0            0   \n3       0           0           0      0            0        0            0   \n4       0           0           0      0            0        0            0   \n\n   white_wine  whole_grain_wheat_flour  wine  wood  yam  yeast  yogurt  \\\n0           0                        0     0     0    0      0       0   \n1           0                        0     0     0    0      0       0   \n2           0                        0     0     0    0      0       0   \n3           0                        0     0     0    0      0       0   \n4           0                        0     0     0    0      0       0   \n\n   zucchini  \n0         0  \n1         0  \n2         0  \n3         0  \n4         0  "
                    },
                    "execution_count": 5,
                    "metadata": {},
                    "output_type": "execute_result"
                }
            ]
        },
        {
            "metadata": {
                "button": false,
                "new_sheet": false,
                "run_control": {
                    "read_only": false
                }
            },
            "cell_type": "markdown",
            "source": "## [bamboo_tree] Only Asian and Indian Cuisines\n\nHere, we are creating a decision tree for the recipes for just some of the Asian (Korean, Japanese, Chinese, Thai) and Indian cuisines. The reason for this is because the decision tree does not run well when the data is biased towards one cuisine, in this case American cuisines. One option is to exclude the American cuisines from our analysis or just build decision trees for different subsets of the data. Let's go with the latter solution."
        },
        {
            "metadata": {
                "button": false,
                "new_sheet": false,
                "run_control": {
                    "read_only": false
                }
            },
            "cell_type": "markdown",
            "source": "Let's build our decision tree using the data pertaining to the Asian and Indian cuisines and name our decision tree *bamboo_tree*."
        },
        {
            "metadata": {
                "button": false,
                "new_sheet": false,
                "run_control": {
                    "read_only": false
                }
            },
            "cell_type": "code",
            "source": "# select subset of cuisines\nasian_indian_recipes = recipes[recipes.cuisine.isin([\"korean\", \"japanese\", \"chinese\", \"thai\", \"indian\"])]\ncuisines = asian_indian_recipes[\"cuisine\"]\ningredients = asian_indian_recipes.iloc[:,1:]\n\nbamboo_tree = tree.DecisionTreeClassifier(max_depth=3)\nbamboo_tree.fit(ingredients, cuisines)\n\nprint(\"Decision tree model saved to bamboo_tree!\")",
            "execution_count": 6,
            "outputs": [
                {
                    "name": "stdout",
                    "output_type": "stream",
                    "text": "Decision tree model saved to bamboo_tree!\n"
                }
            ]
        },
        {
            "metadata": {
                "button": false,
                "new_sheet": false,
                "run_control": {
                    "read_only": false
                }
            },
            "cell_type": "markdown",
            "source": "Let's plot the decision tree and examine how it looks like."
        },
        {
            "metadata": {
                "button": false,
                "new_sheet": false,
                "run_control": {
                    "read_only": false
                }
            },
            "cell_type": "code",
            "source": "export_graphviz(bamboo_tree,\n                feature_names=list(ingredients.columns.values),\n                out_file=\"bamboo_tree.dot\",\n                class_names=np.unique(cuisines),\n                filled=True,\n                node_ids=True,\n                special_characters=True,\n                impurity=False,\n                label=\"all\",\n                leaves_parallel=False)\n\nwith open(\"bamboo_tree.dot\") as bamboo_tree_image:\n    bamboo_tree_graph = bamboo_tree_image.read()\ngraphviz.Source(bamboo_tree_graph)",
            "execution_count": 7,
            "outputs": [
                {
                    "data": {
                        "image/svg+xml": "<?xml version=\"1.0\" encoding=\"UTF-8\" standalone=\"no\"?>\n<!DOCTYPE svg PUBLIC \"-//W3C//DTD SVG 1.1//EN\"\n \"http://www.w3.org/Graphics/SVG/1.1/DTD/svg11.dtd\">\n<!-- Generated by graphviz version 2.40.1 (20161225.0304)\n -->\n<!-- Title: Tree Pages: 1 -->\n<svg width=\"1667pt\" height=\"433pt\"\n viewBox=\"0.00 0.00 1667.00 433.00\" xmlns=\"http://www.w3.org/2000/svg\" xmlns:xlink=\"http://www.w3.org/1999/xlink\">\n<g id=\"graph0\" class=\"graph\" transform=\"scale(1 1) rotate(0) translate(4 429)\">\n<title>Tree</title>\n<polygon fill=\"#ffffff\" stroke=\"transparent\" points=\"-4,4 -4,-429 1663,-429 1663,4 -4,4\"/>\n<!-- 0 -->\n<g id=\"node1\" class=\"node\">\n<title>0</title>\n<polygon fill=\"#3c39e5\" fill-opacity=\"0.109804\" stroke=\"#000000\" points=\"995,-425 738,-425 738,-342 995,-342 995,-425\"/>\n<text text-anchor=\"start\" x=\"836\" y=\"-409.8\" font-family=\"Times,serif\" font-size=\"14.00\" fill=\"#000000\">node #0</text>\n<text text-anchor=\"start\" x=\"822.5\" y=\"-394.8\" font-family=\"Times,serif\" font-size=\"14.00\" fill=\"#000000\">cumin \u2264 0.5</text>\n<text text-anchor=\"start\" x=\"808.5\" y=\"-379.8\" font-family=\"Times,serif\" font-size=\"14.00\" fill=\"#000000\">samples = 2448</text>\n<text text-anchor=\"start\" x=\"746\" y=\"-364.8\" font-family=\"Times,serif\" font-size=\"14.00\" fill=\"#000000\">value = [442, 598, 320, 799, 289]</text>\n<text text-anchor=\"start\" x=\"813\" y=\"-349.8\" font-family=\"Times,serif\" font-size=\"14.00\" fill=\"#000000\">class = korean</text>\n</g>\n<!-- 1 -->\n<g id=\"node2\" class=\"node\">\n<title>1</title>\n<polygon fill=\"#3c39e5\" fill-opacity=\"0.231373\" stroke=\"#000000\" points=\"811,-306 554,-306 554,-223 811,-223 811,-306\"/>\n<text text-anchor=\"start\" x=\"652\" y=\"-290.8\" font-family=\"Times,serif\" font-size=\"14.00\" fill=\"#000000\">node #1</text>\n<text text-anchor=\"start\" x=\"583\" y=\"-275.8\" font-family=\"Times,serif\" font-size=\"14.00\" fill=\"#000000\">roasted_sesame_seed \u2264 0.5</text>\n<text text-anchor=\"start\" x=\"624.5\" y=\"-260.8\" font-family=\"Times,serif\" font-size=\"14.00\" fill=\"#000000\">samples = 1986</text>\n<text text-anchor=\"start\" x=\"562\" y=\"-245.8\" font-family=\"Times,serif\" font-size=\"14.00\" fill=\"#000000\">value = [438, 237, 314, 796, 201]</text>\n<text text-anchor=\"start\" x=\"629\" y=\"-230.8\" font-family=\"Times,serif\" font-size=\"14.00\" fill=\"#000000\">class = korean</text>\n</g>\n<!-- 0&#45;&gt;1 -->\n<g id=\"edge1\" class=\"edge\">\n<title>0&#45;&gt;1</title>\n<path fill=\"none\" stroke=\"#000000\" d=\"M802.1457,-341.8796C787.0185,-332.0962 770.7919,-321.6019 755.3224,-311.5971\"/>\n<polygon fill=\"#000000\" stroke=\"#000000\" points=\"757.1156,-308.5887 746.8179,-306.0969 753.3141,-314.4665 757.1156,-308.5887\"/>\n<text text-anchor=\"middle\" x=\"752.0617\" y=\"-326.8408\" font-family=\"Times,serif\" font-size=\"14.00\" fill=\"#000000\">True</text>\n</g>\n<!-- 8 -->\n<g id=\"node9\" class=\"node\">\n<title>8</title>\n<polygon fill=\"#7be539\" fill-opacity=\"0.729412\" stroke=\"#000000\" points=\"1183.5,-306 989.5,-306 989.5,-223 1183.5,-223 1183.5,-306\"/>\n<text text-anchor=\"start\" x=\"1056\" y=\"-290.8\" font-family=\"Times,serif\" font-size=\"14.00\" fill=\"#000000\">node #8</text>\n<text text-anchor=\"start\" x=\"1051.5\" y=\"-275.8\" font-family=\"Times,serif\" font-size=\"14.00\" fill=\"#000000\">fish \u2264 0.5</text>\n<text text-anchor=\"start\" x=\"1033\" y=\"-260.8\" font-family=\"Times,serif\" font-size=\"14.00\" fill=\"#000000\">samples = 462</text>\n<text text-anchor=\"start\" x=\"997.5\" y=\"-245.8\" font-family=\"Times,serif\" font-size=\"14.00\" fill=\"#000000\">value = [4, 361, 6, 3, 88]</text>\n<text text-anchor=\"start\" x=\"1035.5\" y=\"-230.8\" font-family=\"Times,serif\" font-size=\"14.00\" fill=\"#000000\">class = indian</text>\n</g>\n<!-- 0&#45;&gt;8 -->\n<g id=\"edge8\" class=\"edge\">\n<title>0&#45;&gt;8</title>\n<path fill=\"none\" stroke=\"#000000\" d=\"M943.4453,-341.8796C961.9509,-331.8697 981.8325,-321.1156 1000.7127,-310.9031\"/>\n<polygon fill=\"#000000\" stroke=\"#000000\" points=\"1002.4676,-313.9332 1009.5981,-306.0969 999.1372,-307.7762 1002.4676,-313.9332\"/>\n<text text-anchor=\"middle\" x=\"1002.4598\" y=\"-326.3562\" font-family=\"Times,serif\" font-size=\"14.00\" fill=\"#000000\">False</text>\n</g>\n<!-- 2 -->\n<g id=\"node3\" class=\"node\">\n<title>2</title>\n<polygon fill=\"#3c39e5\" fill-opacity=\"0.098039\" stroke=\"#000000\" points=\"510,-187 253,-187 253,-104 510,-104 510,-187\"/>\n<text text-anchor=\"start\" x=\"351\" y=\"-171.8\" font-family=\"Times,serif\" font-size=\"14.00\" fill=\"#000000\">node #2</text>\n<text text-anchor=\"start\" x=\"336.5\" y=\"-156.8\" font-family=\"Times,serif\" font-size=\"14.00\" fill=\"#000000\">starch \u2264 0.5</text>\n<text text-anchor=\"start\" x=\"323.5\" y=\"-141.8\" font-family=\"Times,serif\" font-size=\"14.00\" fill=\"#000000\">samples = 1738</text>\n<text text-anchor=\"start\" x=\"261\" y=\"-126.8\" font-family=\"Times,serif\" font-size=\"14.00\" fill=\"#000000\">value = [433, 237, 309, 560, 199]</text>\n<text text-anchor=\"start\" x=\"328\" y=\"-111.8\" font-family=\"Times,serif\" font-size=\"14.00\" fill=\"#000000\">class = korean</text>\n</g>\n<!-- 1&#45;&gt;2 -->\n<g id=\"edge2\" class=\"edge\">\n<title>1&#45;&gt;2</title>\n<path fill=\"none\" stroke=\"#000000\" d=\"M577.2248,-222.8796C550.9893,-212.5074 522.7324,-201.3361 496.073,-190.7963\"/>\n<polygon fill=\"#000000\" stroke=\"#000000\" points=\"497.3022,-187.5187 486.7158,-187.0969 494.7285,-194.0284 497.3022,-187.5187\"/>\n</g>\n<!-- 5 -->\n<g id=\"node6\" class=\"node\">\n<title>5</title>\n<polygon fill=\"#3c39e5\" fill-opacity=\"0.949020\" stroke=\"#000000\" points=\"775,-187 590,-187 590,-104 775,-104 775,-187\"/>\n<text text-anchor=\"start\" x=\"652\" y=\"-171.8\" font-family=\"Times,serif\" font-size=\"14.00\" fill=\"#000000\">node #5</text>\n<text text-anchor=\"start\" x=\"632.5\" y=\"-156.8\" font-family=\"Times,serif\" font-size=\"14.00\" fill=\"#000000\">cilantro \u2264 0.5</text>\n<text text-anchor=\"start\" x=\"629\" y=\"-141.8\" font-family=\"Times,serif\" font-size=\"14.00\" fill=\"#000000\">samples = 248</text>\n<text text-anchor=\"start\" x=\"598\" y=\"-126.8\" font-family=\"Times,serif\" font-size=\"14.00\" fill=\"#000000\">value = [5, 0, 5, 236, 2]</text>\n<text text-anchor=\"start\" x=\"629\" y=\"-111.8\" font-family=\"Times,serif\" font-size=\"14.00\" fill=\"#000000\">class = korean</text>\n</g>\n<!-- 1&#45;&gt;5 -->\n<g id=\"edge5\" class=\"edge\">\n<title>1&#45;&gt;5</title>\n<path fill=\"none\" stroke=\"#000000\" d=\"M682.5,-222.8796C682.5,-214.6838 682.5,-205.9891 682.5,-197.5013\"/>\n<polygon fill=\"#000000\" stroke=\"#000000\" points=\"686.0001,-197.298 682.5,-187.2981 679.0001,-197.2981 686.0001,-197.298\"/>\n</g>\n<!-- 3 -->\n<g id=\"node4\" class=\"node\">\n<title>3</title>\n<polygon fill=\"#3c39e5\" fill-opacity=\"0.184314\" stroke=\"#000000\" points=\"257,-68 0,-68 0,0 257,0 257,-68\"/>\n<text text-anchor=\"start\" x=\"98\" y=\"-52.8\" font-family=\"Times,serif\" font-size=\"14.00\" fill=\"#000000\">node #3</text>\n<text text-anchor=\"start\" x=\"70.5\" y=\"-37.8\" font-family=\"Times,serif\" font-size=\"14.00\" fill=\"#000000\">samples = 1507</text>\n<text text-anchor=\"start\" x=\"8\" y=\"-22.8\" font-family=\"Times,serif\" font-size=\"14.00\" fill=\"#000000\">value = [273, 235, 293, 519, 187]</text>\n<text text-anchor=\"start\" x=\"75\" y=\"-7.8\" font-family=\"Times,serif\" font-size=\"14.00\" fill=\"#000000\">class = korean</text>\n</g>\n<!-- 2&#45;&gt;3 -->\n<g id=\"edge3\" class=\"edge\">\n<title>2&#45;&gt;3</title>\n<path fill=\"none\" stroke=\"#000000\" d=\"M287.2921,-103.9815C263.6029,-93.5414 238.2945,-82.3877 215.0027,-72.1227\"/>\n<polygon fill=\"#000000\" stroke=\"#000000\" points=\"216.4045,-68.9158 205.8423,-68.0856 213.5815,-75.3213 216.4045,-68.9158\"/>\n</g>\n<!-- 4 -->\n<g id=\"node5\" class=\"node\">\n<title>4</title>\n<polygon fill=\"#e58139\" fill-opacity=\"0.627451\" stroke=\"#000000\" points=\"487.5,-68 275.5,-68 275.5,0 487.5,0 487.5,-68\"/>\n<text text-anchor=\"start\" x=\"351\" y=\"-52.8\" font-family=\"Times,serif\" font-size=\"14.00\" fill=\"#000000\">node #4</text>\n<text text-anchor=\"start\" x=\"328\" y=\"-37.8\" font-family=\"Times,serif\" font-size=\"14.00\" fill=\"#000000\">samples = 231</text>\n<text text-anchor=\"start\" x=\"283.5\" y=\"-22.8\" font-family=\"Times,serif\" font-size=\"14.00\" fill=\"#000000\">value = [160, 2, 16, 41, 12]</text>\n<text text-anchor=\"start\" x=\"325.5\" y=\"-7.8\" font-family=\"Times,serif\" font-size=\"14.00\" fill=\"#000000\">class = chinese</text>\n</g>\n<!-- 2&#45;&gt;4 -->\n<g id=\"edge4\" class=\"edge\">\n<title>2&#45;&gt;4</title>\n<path fill=\"none\" stroke=\"#000000\" d=\"M381.5,-103.9815C381.5,-95.618 381.5,-86.7965 381.5,-78.3409\"/>\n<polygon fill=\"#000000\" stroke=\"#000000\" points=\"385.0001,-78.2636 381.5,-68.2637 378.0001,-78.2637 385.0001,-78.2636\"/>\n</g>\n<!-- 6 -->\n<g id=\"node7\" class=\"node\">\n<title>6</title>\n<polygon fill=\"#3c39e5\" fill-opacity=\"0.956863\" stroke=\"#000000\" points=\"690,-68 505,-68 505,0 690,0 690,-68\"/>\n<text text-anchor=\"start\" x=\"567\" y=\"-52.8\" font-family=\"Times,serif\" font-size=\"14.00\" fill=\"#000000\">node #6</text>\n<text text-anchor=\"start\" x=\"544\" y=\"-37.8\" font-family=\"Times,serif\" font-size=\"14.00\" fill=\"#000000\">samples = 246</text>\n<text text-anchor=\"start\" x=\"513\" y=\"-22.8\" font-family=\"Times,serif\" font-size=\"14.00\" fill=\"#000000\">value = [4, 0, 5, 236, 1]</text>\n<text text-anchor=\"start\" x=\"544\" y=\"-7.8\" font-family=\"Times,serif\" font-size=\"14.00\" fill=\"#000000\">class = korean</text>\n</g>\n<!-- 5&#45;&gt;6 -->\n<g id=\"edge6\" class=\"edge\">\n<title>5&#45;&gt;6</title>\n<path fill=\"none\" stroke=\"#000000\" d=\"M650.8491,-103.9815C643.9829,-94.9747 636.7118,-85.4367 629.8202,-76.3965\"/>\n<polygon fill=\"#000000\" stroke=\"#000000\" points=\"632.4664,-74.0945 623.6203,-68.2637 626.8995,-78.3383 632.4664,-74.0945\"/>\n</g>\n<!-- 7 -->\n<g id=\"node8\" class=\"node\">\n<title>7</title>\n<polygon fill=\"transparent\" stroke=\"#000000\" points=\"875,-68 708,-68 708,0 875,0 875,-68\"/>\n<text text-anchor=\"start\" x=\"761\" y=\"-52.8\" font-family=\"Times,serif\" font-size=\"14.00\" fill=\"#000000\">node #7</text>\n<text text-anchor=\"start\" x=\"747\" y=\"-37.8\" font-family=\"Times,serif\" font-size=\"14.00\" fill=\"#000000\">samples = 2</text>\n<text text-anchor=\"start\" x=\"716\" y=\"-22.8\" font-family=\"Times,serif\" font-size=\"14.00\" fill=\"#000000\">value = [1, 0, 0, 0, 1]</text>\n<text text-anchor=\"start\" x=\"735.5\" y=\"-7.8\" font-family=\"Times,serif\" font-size=\"14.00\" fill=\"#000000\">class = chinese</text>\n</g>\n<!-- 5&#45;&gt;7 -->\n<g id=\"edge7\" class=\"edge\">\n<title>5&#45;&gt;7</title>\n<path fill=\"none\" stroke=\"#000000\" d=\"M723.0876,-103.9815C732.162,-94.6989 741.7879,-84.8522 750.8643,-75.5677\"/>\n<polygon fill=\"#000000\" stroke=\"#000000\" points=\"753.5169,-77.8611 758.0046,-68.2637 748.5113,-72.9678 753.5169,-77.8611\"/>\n</g>\n<!-- 9 -->\n<g id=\"node10\" class=\"node\">\n<title>9</title>\n<polygon fill=\"#7be539\" fill-opacity=\"0.854902\" stroke=\"#000000\" points=\"1183.5,-187 989.5,-187 989.5,-104 1183.5,-104 1183.5,-187\"/>\n<text text-anchor=\"start\" x=\"1056\" y=\"-171.8\" font-family=\"Times,serif\" font-size=\"14.00\" fill=\"#000000\">node #9</text>\n<text text-anchor=\"start\" x=\"1028\" y=\"-156.8\" font-family=\"Times,serif\" font-size=\"14.00\" fill=\"#000000\">soy_sauce \u2264 0.5</text>\n<text text-anchor=\"start\" x=\"1033\" y=\"-141.8\" font-family=\"Times,serif\" font-size=\"14.00\" fill=\"#000000\">samples = 405</text>\n<text text-anchor=\"start\" x=\"997.5\" y=\"-126.8\" font-family=\"Times,serif\" font-size=\"14.00\" fill=\"#000000\">value = [4, 353, 3, 1, 44]</text>\n<text text-anchor=\"start\" x=\"1035.5\" y=\"-111.8\" font-family=\"Times,serif\" font-size=\"14.00\" fill=\"#000000\">class = indian</text>\n</g>\n<!-- 8&#45;&gt;9 -->\n<g id=\"edge9\" class=\"edge\">\n<title>8&#45;&gt;9</title>\n<path fill=\"none\" stroke=\"#000000\" d=\"M1086.5,-222.8796C1086.5,-214.6838 1086.5,-205.9891 1086.5,-197.5013\"/>\n<polygon fill=\"#000000\" stroke=\"#000000\" points=\"1090.0001,-197.298 1086.5,-187.2981 1083.0001,-197.2981 1090.0001,-197.298\"/>\n</g>\n<!-- 12 -->\n<g id=\"node13\" class=\"node\">\n<title>12</title>\n<polygon fill=\"#e539c0\" fill-opacity=\"0.733333\" stroke=\"#000000\" points=\"1474.5,-187 1298.5,-187 1298.5,-104 1474.5,-104 1474.5,-187\"/>\n<text text-anchor=\"start\" x=\"1351.5\" y=\"-171.8\" font-family=\"Times,serif\" font-size=\"14.00\" fill=\"#000000\">node #12</text>\n<text text-anchor=\"start\" x=\"1341\" y=\"-156.8\" font-family=\"Times,serif\" font-size=\"14.00\" fill=\"#000000\">yogurt \u2264 0.5</text>\n<text text-anchor=\"start\" x=\"1337.5\" y=\"-141.8\" font-family=\"Times,serif\" font-size=\"14.00\" fill=\"#000000\">samples = 57</text>\n<text text-anchor=\"start\" x=\"1306.5\" y=\"-126.8\" font-family=\"Times,serif\" font-size=\"14.00\" fill=\"#000000\">value = [0, 8, 3, 2, 44]</text>\n<text text-anchor=\"start\" x=\"1344\" y=\"-111.8\" font-family=\"Times,serif\" font-size=\"14.00\" fill=\"#000000\">class = thai</text>\n</g>\n<!-- 8&#45;&gt;12 -->\n<g id=\"edge12\" class=\"edge\">\n<title>8&#45;&gt;12</title>\n<path fill=\"none\" stroke=\"#000000\" d=\"M1183.9014,-225.8641C1217.6028,-212.4959 1255.3601,-197.5188 1289.0643,-184.1495\"/>\n<polygon fill=\"#000000\" stroke=\"#000000\" points=\"1290.4515,-187.3646 1298.4564,-180.424 1287.8704,-180.8578 1290.4515,-187.3646\"/>\n</g>\n<!-- 10 -->\n<g id=\"node11\" class=\"node\">\n<title>10</title>\n<polygon fill=\"#7be539\" fill-opacity=\"0.917647\" stroke=\"#000000\" points=\"1086.5,-68 892.5,-68 892.5,0 1086.5,0 1086.5,-68\"/>\n<text text-anchor=\"start\" x=\"954.5\" y=\"-52.8\" font-family=\"Times,serif\" font-size=\"14.00\" fill=\"#000000\">node #10</text>\n<text text-anchor=\"start\" x=\"936\" y=\"-37.8\" font-family=\"Times,serif\" font-size=\"14.00\" fill=\"#000000\">samples = 375</text>\n<text text-anchor=\"start\" x=\"900.5\" y=\"-22.8\" font-family=\"Times,serif\" font-size=\"14.00\" fill=\"#000000\">value = [1, 346, 2, 1, 25]</text>\n<text text-anchor=\"start\" x=\"938.5\" y=\"-7.8\" font-family=\"Times,serif\" font-size=\"14.00\" fill=\"#000000\">class = indian</text>\n</g>\n<!-- 9&#45;&gt;10 -->\n<g id=\"edge10\" class=\"edge\">\n<title>9&#45;&gt;10</title>\n<path fill=\"none\" stroke=\"#000000\" d=\"M1050.3808,-103.9815C1042.3853,-94.7908 1033.9087,-85.0472 1025.9021,-75.8436\"/>\n<polygon fill=\"#000000\" stroke=\"#000000\" points=\"1028.512,-73.5111 1019.3079,-68.2637 1023.2307,-78.1055 1028.512,-73.5111\"/>\n</g>\n<!-- 11 -->\n<g id=\"node12\" class=\"node\">\n<title>11</title>\n<polygon fill=\"#e539c0\" fill-opacity=\"0.521569\" stroke=\"#000000\" points=\"1280.5,-68 1104.5,-68 1104.5,0 1280.5,0 1280.5,-68\"/>\n<text text-anchor=\"start\" x=\"1157.5\" y=\"-52.8\" font-family=\"Times,serif\" font-size=\"14.00\" fill=\"#000000\">node #11</text>\n<text text-anchor=\"start\" x=\"1143.5\" y=\"-37.8\" font-family=\"Times,serif\" font-size=\"14.00\" fill=\"#000000\">samples = 30</text>\n<text text-anchor=\"start\" x=\"1112.5\" y=\"-22.8\" font-family=\"Times,serif\" font-size=\"14.00\" fill=\"#000000\">value = [3, 7, 1, 0, 19]</text>\n<text text-anchor=\"start\" x=\"1150\" y=\"-7.8\" font-family=\"Times,serif\" font-size=\"14.00\" fill=\"#000000\">class = thai</text>\n</g>\n<!-- 9&#45;&gt;11 -->\n<g id=\"edge11\" class=\"edge\">\n<title>9&#45;&gt;11</title>\n<path fill=\"none\" stroke=\"#000000\" d=\"M1125.9705,-103.9815C1134.7952,-94.6989 1144.1562,-84.8522 1152.9827,-75.5677\"/>\n<polygon fill=\"#000000\" stroke=\"#000000\" points=\"1155.573,-77.9228 1159.9265,-68.2637 1150.4997,-73.0997 1155.573,-77.9228\"/>\n</g>\n<!-- 13 -->\n<g id=\"node14\" class=\"node\">\n<title>13</title>\n<polygon fill=\"#e539c0\" fill-opacity=\"0.835294\" stroke=\"#000000\" points=\"1474.5,-68 1298.5,-68 1298.5,0 1474.5,0 1474.5,-68\"/>\n<text text-anchor=\"start\" x=\"1351.5\" y=\"-52.8\" font-family=\"Times,serif\" font-size=\"14.00\" fill=\"#000000\">node #13</text>\n<text text-anchor=\"start\" x=\"1337.5\" y=\"-37.8\" font-family=\"Times,serif\" font-size=\"14.00\" fill=\"#000000\">samples = 52</text>\n<text text-anchor=\"start\" x=\"1306.5\" y=\"-22.8\" font-family=\"Times,serif\" font-size=\"14.00\" fill=\"#000000\">value = [0, 3, 3, 2, 44]</text>\n<text text-anchor=\"start\" x=\"1344\" y=\"-7.8\" font-family=\"Times,serif\" font-size=\"14.00\" fill=\"#000000\">class = thai</text>\n</g>\n<!-- 12&#45;&gt;13 -->\n<g id=\"edge13\" class=\"edge\">\n<title>12&#45;&gt;13</title>\n<path fill=\"none\" stroke=\"#000000\" d=\"M1386.5,-103.9815C1386.5,-95.618 1386.5,-86.7965 1386.5,-78.3409\"/>\n<polygon fill=\"#000000\" stroke=\"#000000\" points=\"1390.0001,-78.2636 1386.5,-68.2637 1383.0001,-78.2637 1390.0001,-78.2636\"/>\n</g>\n<!-- 14 -->\n<g id=\"node15\" class=\"node\">\n<title>14</title>\n<polygon fill=\"#7be539\" stroke=\"#000000\" points=\"1659,-68 1492,-68 1492,0 1659,0 1659,-68\"/>\n<text text-anchor=\"start\" x=\"1540.5\" y=\"-52.8\" font-family=\"Times,serif\" font-size=\"14.00\" fill=\"#000000\">node #14</text>\n<text text-anchor=\"start\" x=\"1531\" y=\"-37.8\" font-family=\"Times,serif\" font-size=\"14.00\" fill=\"#000000\">samples = 5</text>\n<text text-anchor=\"start\" x=\"1500\" y=\"-22.8\" font-family=\"Times,serif\" font-size=\"14.00\" fill=\"#000000\">value = [0, 5, 0, 0, 0]</text>\n<text text-anchor=\"start\" x=\"1524.5\" y=\"-7.8\" font-family=\"Times,serif\" font-size=\"14.00\" fill=\"#000000\">class = indian</text>\n</g>\n<!-- 12&#45;&gt;14 -->\n<g id=\"edge14\" class=\"edge\">\n<title>12&#45;&gt;14</title>\n<path fill=\"none\" stroke=\"#000000\" d=\"M1456.8766,-103.9815C1473.9469,-93.911 1492.1426,-83.1764 1509.0261,-73.2161\"/>\n<polygon fill=\"#000000\" stroke=\"#000000\" points=\"1510.8881,-76.1813 1517.7226,-68.0856 1507.3312,-70.1523 1510.8881,-76.1813\"/>\n</g>\n</g>\n</svg>\n",
                        "text/plain": "<graphviz.files.Source at 0x7f6a78394748>"
                    },
                    "execution_count": 7,
                    "metadata": {},
                    "output_type": "execute_result"
                }
            ]
        },
        {
            "metadata": {
                "button": false,
                "new_sheet": false,
                "run_control": {
                    "read_only": false
                }
            },
            "cell_type": "markdown",
            "source": "The decision tree learned:\n* If a recipe contains *cumin* and *fish* and **no** *yoghurt*, then it is most likely a **Thai** recipe.\n* If a recipe contains *cumin* but **no** *fish* and **no** *soy_sauce*, then it is most likely an **Indian** recipe."
        },
        {
            "metadata": {
                "button": false,
                "new_sheet": false,
                "run_control": {
                    "read_only": false
                }
            },
            "cell_type": "markdown",
            "source": "You can analyze the remaining branches of the tree to come up with similar rules for determining the cuisine of different recipes. "
        },
        {
            "metadata": {
                "button": false,
                "new_sheet": false,
                "run_control": {
                    "read_only": false
                }
            },
            "cell_type": "markdown",
            "source": "Feel free to select another subset of cuisines and build a decision tree of their recipes. You can select some European cuisines and build a decision tree to explore the ingredients that differentiate them."
        },
        {
            "metadata": {
                "button": false,
                "new_sheet": false,
                "run_control": {
                    "read_only": false
                }
            },
            "cell_type": "markdown",
            "source": "# Model Evaluation <a id=\"4\"></a>"
        },
        {
            "metadata": {
                "button": false,
                "new_sheet": false,
                "run_control": {
                    "read_only": false
                }
            },
            "cell_type": "markdown",
            "source": "<img src=\"https://s3-api.us-geo.objectstorage.softlayer.net/cf-courses-data/CognitiveClass/DS0103EN/labs/images/lab4_fig5_flowchart_evaluation.png\" width=500>"
        },
        {
            "metadata": {
                "button": false,
                "new_sheet": false,
                "run_control": {
                    "read_only": false
                }
            },
            "cell_type": "markdown",
            "source": "To evaluate our model of Asian and Indian cuisines, we will split our dataset into a training set and a test set. We will build the decision tree using the training set. Then, we will test the model on the test set and compare the cuisines that the model predicts to the actual cuisines. "
        },
        {
            "metadata": {
                "button": false,
                "new_sheet": false,
                "run_control": {
                    "read_only": false
                }
            },
            "cell_type": "markdown",
            "source": "Let's first create a new dataframe using only the data pertaining to the Asian and the Indian cuisines, and let's call the new dataframe **bamboo**."
        },
        {
            "metadata": {
                "button": false,
                "new_sheet": false,
                "run_control": {
                    "read_only": false
                }
            },
            "cell_type": "code",
            "source": "bamboo = recipes[recipes.cuisine.isin([\"korean\", \"japanese\", \"chinese\", \"thai\", \"indian\"])]",
            "execution_count": 8,
            "outputs": []
        },
        {
            "metadata": {
                "button": false,
                "new_sheet": false,
                "run_control": {
                    "read_only": false
                }
            },
            "cell_type": "markdown",
            "source": "Let's see how many recipes exist for each cuisine."
        },
        {
            "metadata": {
                "button": false,
                "new_sheet": false,
                "run_control": {
                    "read_only": false
                }
            },
            "cell_type": "code",
            "source": "bamboo[\"cuisine\"].value_counts()",
            "execution_count": 9,
            "outputs": [
                {
                    "data": {
                        "text/plain": "korean      799\nindian      598\nchinese     442\njapanese    320\nthai        289\nName: cuisine, dtype: int64"
                    },
                    "execution_count": 9,
                    "metadata": {},
                    "output_type": "execute_result"
                }
            ]
        },
        {
            "metadata": {
                "button": false,
                "new_sheet": false,
                "run_control": {
                    "read_only": false
                }
            },
            "cell_type": "markdown",
            "source": "Let's remove 30 recipes from each cuisine to use as the test set, and let's name this test set **bamboo_test**."
        },
        {
            "metadata": {
                "button": false,
                "new_sheet": false,
                "run_control": {
                    "read_only": false
                }
            },
            "cell_type": "code",
            "source": "# set sample size\nsample_n = 30",
            "execution_count": 10,
            "outputs": []
        },
        {
            "metadata": {
                "button": false,
                "new_sheet": false,
                "run_control": {
                    "read_only": false
                }
            },
            "cell_type": "markdown",
            "source": "Create a dataframe containing 30 recipes from each cuisine, selected randomly."
        },
        {
            "metadata": {
                "button": false,
                "new_sheet": false,
                "run_control": {
                    "read_only": false
                }
            },
            "cell_type": "code",
            "source": "# take 30 recipes from each cuisine\nrandom.seed(1234) # set random seed\nbamboo_test = bamboo.groupby(\"cuisine\", group_keys=False).apply(lambda x: x.sample(sample_n))\n\nbamboo_test_ingredients = bamboo_test.iloc[:,1:] # ingredients\nbamboo_test_cuisines = bamboo_test[\"cuisine\"] # corresponding cuisines or labels",
            "execution_count": 11,
            "outputs": []
        },
        {
            "metadata": {
                "button": false,
                "new_sheet": false,
                "run_control": {
                    "read_only": false
                }
            },
            "cell_type": "markdown",
            "source": "Check that there are 30 recipes for each cuisine."
        },
        {
            "metadata": {
                "button": false,
                "new_sheet": false,
                "run_control": {
                    "read_only": false
                }
            },
            "cell_type": "code",
            "source": "# check that we have 30 recipes from each cuisine\nbamboo_test[\"cuisine\"].value_counts()",
            "execution_count": 12,
            "outputs": [
                {
                    "data": {
                        "text/plain": "thai        30\nchinese     30\nindian      30\njapanese    30\nkorean      30\nName: cuisine, dtype: int64"
                    },
                    "execution_count": 12,
                    "metadata": {},
                    "output_type": "execute_result"
                }
            ]
        },
        {
            "metadata": {
                "button": false,
                "new_sheet": false,
                "run_control": {
                    "read_only": false
                }
            },
            "cell_type": "markdown",
            "source": "Next, let's create the training set by removing the test set from the **bamboo** dataset, and let's call the training set **bamboo_train**."
        },
        {
            "metadata": {
                "button": false,
                "new_sheet": false,
                "run_control": {
                    "read_only": false
                }
            },
            "cell_type": "code",
            "source": "bamboo_test_index = bamboo.index.isin(bamboo_test.index)\nbamboo_train = bamboo[~bamboo_test_index]\n\nbamboo_train_ingredients = bamboo_train.iloc[:,1:] # ingredients\nbamboo_train_cuisines = bamboo_train[\"cuisine\"] # corresponding cuisines or labels",
            "execution_count": 13,
            "outputs": []
        },
        {
            "metadata": {
                "button": false,
                "new_sheet": false,
                "run_control": {
                    "read_only": false
                }
            },
            "cell_type": "markdown",
            "source": "Check that there are 30 _fewer_ recipes now for each cuisine."
        },
        {
            "metadata": {
                "button": false,
                "new_sheet": false,
                "run_control": {
                    "read_only": false
                }
            },
            "cell_type": "code",
            "source": "bamboo_train[\"cuisine\"].value_counts()",
            "execution_count": 14,
            "outputs": [
                {
                    "data": {
                        "text/plain": "korean      769\nindian      568\nchinese     412\njapanese    290\nthai        259\nName: cuisine, dtype: int64"
                    },
                    "execution_count": 14,
                    "metadata": {},
                    "output_type": "execute_result"
                }
            ]
        },
        {
            "metadata": {
                "button": false,
                "new_sheet": false,
                "run_control": {
                    "read_only": false
                }
            },
            "cell_type": "markdown",
            "source": "Let's build the decision tree using the training set, **bamboo_train**, and name the generated tree **bamboo_train_tree** for prediction."
        },
        {
            "metadata": {
                "button": false,
                "new_sheet": false,
                "run_control": {
                    "read_only": false
                }
            },
            "cell_type": "code",
            "source": "bamboo_train_tree = tree.DecisionTreeClassifier(max_depth=15)\nbamboo_train_tree.fit(bamboo_train_ingredients, bamboo_train_cuisines)\n\nprint(\"Decision tree model saved to bamboo_train_tree!\")",
            "execution_count": 15,
            "outputs": [
                {
                    "name": "stdout",
                    "output_type": "stream",
                    "text": "Decision tree model saved to bamboo_train_tree!\n"
                }
            ]
        },
        {
            "metadata": {
                "button": false,
                "new_sheet": false,
                "run_control": {
                    "read_only": false
                }
            },
            "cell_type": "markdown",
            "source": "Let's plot the decision tree and explore it."
        },
        {
            "metadata": {
                "button": false,
                "new_sheet": false,
                "run_control": {
                    "read_only": false
                }
            },
            "cell_type": "code",
            "source": "###### export_graphviz(bamboo_train_tree,\n                feature_names=list(bamboo_train_ingredients.columns.values),\n                out_file=\"bamboo_train_tree.dot\",\n                class_names=np.unique(bamboo_train_cuisines),\n                filled=True,\n                node_ids=True,\n                special_characters=True,\n                impurity=False,\n                label=\"all\",\n                leaves_parallel=False)\n\nwith open(\"bamboo_train_tree.dot\") as bamboo_train_tree_image:\n    bamboo_train_tree_graph = bamboo_train_tree_image.read()\ngraphviz.Source(bamboo_train_tree_graph)",
            "execution_count": null,
            "outputs": []
        },
        {
            "metadata": {
                "button": false,
                "new_sheet": false,
                "run_control": {
                    "read_only": false
                }
            },
            "cell_type": "markdown",
            "source": "Now that we defined our tree to be deeper, more decision nodes are generated."
        },
        {
            "metadata": {
                "button": false,
                "new_sheet": false,
                "run_control": {
                    "read_only": false
                }
            },
            "cell_type": "markdown",
            "source": "#### Now let's test our model on the test data."
        },
        {
            "metadata": {
                "button": false,
                "new_sheet": false,
                "run_control": {
                    "read_only": false
                }
            },
            "cell_type": "code",
            "source": "bamboo_pred_cuisines = bamboo_train_tree.predict(bamboo_test_ingredients)",
            "execution_count": 17,
            "outputs": []
        },
        {
            "metadata": {
                "button": false,
                "new_sheet": false,
                "run_control": {
                    "read_only": false
                }
            },
            "cell_type": "markdown",
            "source": "To quantify how well the decision tree is able to determine the cuisine of each recipe correctly, we will create a confusion matrix which presents a nice summary on how many recipes from each cuisine are correctly classified. It also sheds some light on what cuisines are being confused with what other cuisines."
        },
        {
            "metadata": {
                "button": false,
                "new_sheet": false,
                "run_control": {
                    "read_only": false
                }
            },
            "cell_type": "markdown",
            "source": "So let's go ahead and create the confusion matrix for how well the decision tree is able to correctly classify the recipes in **bamboo_test**."
        },
        {
            "metadata": {
                "button": false,
                "new_sheet": false,
                "run_control": {
                    "read_only": false
                }
            },
            "cell_type": "code",
            "source": "test_cuisines = np.unique(bamboo_test_cuisines)\nbamboo_confusion_matrix = confusion_matrix(bamboo_test_cuisines, bamboo_pred_cuisines, test_cuisines)\ntitle = 'Bamboo Confusion Matrix'\ncmap = plt.cm.Blues\n\nplt.figure(figsize=(8, 6))\nbamboo_confusion_matrix = (\n    bamboo_confusion_matrix.astype('float') / bamboo_confusion_matrix.sum(axis=1)[:, np.newaxis]\n    ) * 100\n\nplt.imshow(bamboo_confusion_matrix, interpolation='nearest', cmap=cmap)\nplt.title(title)\nplt.colorbar()\ntick_marks = np.arange(len(test_cuisines))\nplt.xticks(tick_marks, test_cuisines)\nplt.yticks(tick_marks, test_cuisines)\n\nfmt = '.2f'\nthresh = bamboo_confusion_matrix.max() / 2.\nfor i, j in itertools.product(range(bamboo_confusion_matrix.shape[0]), range(bamboo_confusion_matrix.shape[1])):\n    plt.text(j, i, format(bamboo_confusion_matrix[i, j], fmt),\n             horizontalalignment=\"center\",\n             color=\"white\" if bamboo_confusion_matrix[i, j] > thresh else \"black\")\n\nplt.tight_layout()\nplt.ylabel('True label')\nplt.xlabel('Predicted label')\n\nplt.show()",
            "execution_count": 18,
            "outputs": [
                {
                    "data": {
                        "image/png": "[encoded data removed]",
                        "text/plain": "<Figure size 576x432 with 2 Axes>"
                    },
                    "metadata": {
                        "needs_background": "light"
                    },
                    "output_type": "display_data"
                }
            ]
        },
        {
            "metadata": {
                "button": false,
                "new_sheet": false,
                "run_control": {
                    "read_only": false
                }
            },
            "cell_type": "markdown",
            "source": "After running the above code, you should get a confusion matrix similar to the following:"
        },
        {
            "metadata": {
                "button": false,
                "new_sheet": false,
                "run_control": {
                    "read_only": false
                }
            },
            "cell_type": "markdown",
            "source": "<img src=\"https://ibm.box.com/shared/static/69f5m7txv2u6g47867qe0eypnfylrj4w.png\" width=500>"
        },
        {
            "metadata": {
                "button": false,
                "new_sheet": false,
                "run_control": {
                    "read_only": false
                }
            },
            "cell_type": "markdown",
            "source": "The rows represent the actual cuisines from the dataset and the columns represent the predicted ones. Each row should sum to 100%. According to this confusion matrix, we make the following observations:\n\n* Using the first row in the confusion matrix, 60% of the **Chinese** recipes in **bamboo_test** were correctly classified by our decision tree whereas 37% of the **Chinese** recipes were misclassified as **Korean** and 3% were misclassified as **Indian**.\n\n* Using the Indian row, 77% of the **Indian** recipes in **bamboo_test** were correctly classified by our decision tree and 3% of the **Indian** recipes were misclassified as **Chinese** and 13% were misclassified as **Korean** and 7% were misclassified as **Thai**."
        },
        {
            "metadata": {
                "button": false,
                "new_sheet": false,
                "run_control": {
                    "read_only": false
                }
            },
            "cell_type": "markdown",
            "source": "**Please note** that because decision trees are created using random sampling of the datapoints in the training set, then you may not get the same results every time you create the decision tree even using the same training set. The performance should still be comparable though! So don't worry if you get slightly different numbers in your confusion matrix than the ones shown above."
        },
        {
            "metadata": {
                "button": false,
                "new_sheet": false,
                "run_control": {
                    "read_only": false
                }
            },
            "cell_type": "markdown",
            "source": "Using the reference confusion matrix, how many **Japanese** recipes were correctly classified by our decision tree?"
        },
        {
            "metadata": {
                "button": false,
                "new_sheet": false,
                "run_control": {
                    "read_only": false
                }
            },
            "cell_type": "raw",
            "source": "Your Answer:\n\n"
        },
        {
            "metadata": {
                "button": false,
                "new_sheet": false,
                "run_control": {
                    "read_only": false
                }
            },
            "cell_type": "markdown",
            "source": "Double-click __here__ for the solution.\n<!-- The correct answer is:\n36.67%.\n-->"
        },
        {
            "metadata": {
                "button": false,
                "new_sheet": false,
                "run_control": {
                    "read_only": false
                }
            },
            "cell_type": "markdown",
            "source": "Also using the reference confusion matrix, how many **Korean** recipes were misclassified as **Japanese**?"
        },
        {
            "metadata": {
                "button": false,
                "new_sheet": false,
                "run_control": {
                    "read_only": false
                }
            },
            "cell_type": "raw",
            "source": "Your Answer:\n\n"
        },
        {
            "metadata": {
                "button": false,
                "new_sheet": false,
                "run_control": {
                    "read_only": false
                }
            },
            "cell_type": "markdown",
            "source": "Double-click __here__ for the solution.\n<!-- The correct answer is:\n3.33%.\n-->"
        },
        {
            "metadata": {
                "button": false,
                "new_sheet": false,
                "run_control": {
                    "read_only": false
                }
            },
            "cell_type": "markdown",
            "source": "What cuisine has the least number of recipes correctly classified by the decision tree using the reference confusion matrix?"
        },
        {
            "metadata": {
                "button": false,
                "new_sheet": false,
                "run_control": {
                    "read_only": false
                }
            },
            "cell_type": "raw",
            "source": "Your Answer:\n\n"
        },
        {
            "metadata": {
                "button": false,
                "new_sheet": false,
                "run_control": {
                    "read_only": false
                }
            },
            "cell_type": "markdown",
            "source": "Double-click __here__ for the solution.\n<!-- The correct answer is:\nJapanese cuisine, with 36.67% only.\n-->"
        },
        {
            "metadata": {
                "button": false,
                "new_sheet": false,
                "run_control": {
                    "read_only": false
                }
            },
            "cell_type": "markdown",
            "source": "<br>\n<hr>"
        },
        {
            "metadata": {
                "button": false,
                "new_sheet": false,
                "run_control": {
                    "read_only": false
                }
            },
            "cell_type": "markdown",
            "source": "### Thank you for completing this lab!\n\nThis notebook was created by [Alex Aklson](https://www.linkedin.com/in/aklson/). We hope you found this lab session interesting. Feel free to contact us if you have any questions!"
        },
        {
            "metadata": {
                "button": false,
                "new_sheet": false,
                "run_control": {
                    "read_only": false
                }
            },
            "cell_type": "markdown",
            "source": "This notebook is part of a course on **Coursera** called *Data Science Methodology*. If you accessed this notebook outside the course, you can take this course, online by clicking [here](https://cocl.us/DS0103EN_Coursera_LAB4)."
        },
        {
            "metadata": {
                "button": false,
                "new_sheet": false,
                "run_control": {
                    "read_only": false
                }
            },
            "cell_type": "markdown",
            "source": "<hr>\n\nCopyright &copy; 2019 [Cognitive Class](https://cognitiveclass.ai/?utm_source=bducopyrightlink&utm_medium=dswb&utm_campaign=bdu). This notebook and its source code are released under the terms of the [MIT License](https://bigdatauniversity.com/mit-license/)."
        }
    ],
    "metadata": {
        "kernelspec": {
            "name": "python3",
            "display_name": "Python 3.6",
            "language": "python"
        },
        "language_info": {
            "name": "python",
            "version": "3.6.9",
            "mimetype": "text/x-python",
            "codemirror_mode": {
                "name": "ipython",
                "version": 3
            },
            "pygments_lexer": "ipython3",
            "nbconvert_exporter": "python",
            "file_extension": ".py"
        },
        "widgets": {
            "state": {},
            "version": "1.1.2"
        }
    },
    "nbformat": 4,
    "nbformat_minor": 4
}