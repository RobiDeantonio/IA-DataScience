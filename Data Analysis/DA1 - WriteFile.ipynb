{
    "cells": [
        {
            "metadata": {},
            "cell_type": "markdown",
            "source": "<div class=\"alert alert-block alert-info\" style=\"margin-top: 20px\">\n    <a href=\"https://cocl.us/topNotebooksPython101Coursera\">\n         <img src=\"https://s3-api.us-geo.objectstorage.softlayer.net/cf-courses-data/CognitiveClass/PY0101EN/Ad/TopAd.png\" width=\"750\" align=\"center\">\n    </a>\n</div>"
        },
        {
            "metadata": {},
            "cell_type": "markdown",
            "source": "<a href=\"https://cognitiveclass.ai/\">\n    <img src=\"https://s3-api.us-geo.objectstorage.softlayer.net/cf-courses-data/CognitiveClass/PY0101EN/Ad/CCLog.png\" width=\"300\" align=\"center\">\n</a>"
        },
        {
            "metadata": {},
            "cell_type": "markdown",
            "source": "<h1>Write and Save Files in Python</h1>"
        },
        {
            "metadata": {},
            "cell_type": "markdown",
            "source": "<p><strong>Welcome!</strong> This notebook will teach you about write the text to file in the Python Programming Language. By the end of this lab, you'll know how to write to file and copy the file.</p>"
        },
        {
            "metadata": {},
            "cell_type": "markdown",
            "source": "<h2>Table of Contents</h2>\n<div class=\"alert alert-block alert-info\" style=\"margin-top: 20px\">\n    <ul>\n        <li><a href=\"write\">Writing Files</a></li>\n        <li><a href=\"copy\">Copy a File</a></li>\n    </ul>\n    <p>\n        Estimated time needed: <strong>15 min</strong>\n    </p>\n</div>"
        },
        {
            "metadata": {},
            "cell_type": "markdown",
            "source": "<h2 id=\"write\">Writing Files</h2>"
        },
        {
            "metadata": {},
            "cell_type": "markdown",
            "source": " We can open a file object using the method <code>write()</code> to save the text file to a list. To write the mode, argument must be set to write <b>w</b>. Let\u2019s write a file <b>Example2.txt</b> with the line: <b>\u201cThis is line A\u201d</b>"
        },
        {
            "metadata": {
                "collapsed": true
            },
            "cell_type": "code",
            "source": "# Write line to file\n\nwith open('/resources/data/Example2.txt', 'w') as writefile:\n    writefile.write(\"This is line A\")",
            "execution_count": null,
            "outputs": []
        },
        {
            "metadata": {},
            "cell_type": "markdown",
            "source": " We can read the file to see if it worked:"
        },
        {
            "metadata": {},
            "cell_type": "code",
            "source": "# Read file\n\nwith open('/resources/data/Example2.txt', 'r') as testwritefile:\n    print(testwritefile.read())",
            "execution_count": null,
            "outputs": []
        },
        {
            "metadata": {},
            "cell_type": "markdown",
            "source": "We can write multiple lines:"
        },
        {
            "metadata": {
                "collapsed": true
            },
            "cell_type": "code",
            "source": "# Write lines to file\n\nwith open('/resources/data/Example2.txt', 'w') as writefile:\n    writefile.write(\"This is line A\\n\")\n    writefile.write(\"This is line B\\n\")",
            "execution_count": null,
            "outputs": []
        },
        {
            "metadata": {},
            "cell_type": "markdown",
            "source": "The method <code>.write()</code> works similar to the method <code>.readline()</code>, except instead of reading a new line it writes a new line. The process is illustrated in the figure , the different colour coding of the grid represents a new line added to the file after each method call."
        },
        {
            "metadata": {},
            "cell_type": "markdown",
            "source": "<img src=\"https://s3-api.us-geo.objectstorage.softlayer.net/cf-courses-data/CognitiveClass/PY0101EN/Chapter%204/Images/WriteLine.png\" width=\"500\" />"
        },
        {
            "metadata": {},
            "cell_type": "markdown",
            "source": "You can check the file to see if your results are correct "
        },
        {
            "metadata": {},
            "cell_type": "code",
            "source": "# Check whether write to file\n\nwith open('/resources/data/Example2.txt', 'r') as testwritefile:\n    print(testwritefile.read())",
            "execution_count": null,
            "outputs": []
        },
        {
            "metadata": {},
            "cell_type": "markdown",
            "source": " By setting the mode argument to append **a**  you can append a new line as follows:"
        },
        {
            "metadata": {},
            "cell_type": "code",
            "source": "# Write a new line to text file\n\nwith open('/resources/data/Example2.txt', 'a') as testwritefile:\n    testwritefile.write(\"This is line C\\n\")",
            "execution_count": null,
            "outputs": []
        },
        {
            "metadata": {},
            "cell_type": "markdown",
            "source": " You can verify the file has changed by running the following cell:"
        },
        {
            "metadata": {},
            "cell_type": "code",
            "source": "# Verify if the new line is in the text file\n\nwith open('/resources/data/Example2.txt', 'r') as testwritefile:\n    print(testwritefile.read())",
            "execution_count": null,
            "outputs": []
        },
        {
            "metadata": {},
            "cell_type": "markdown",
            "source": " We write a list to a <b>.txt</b> file  as follows:"
        },
        {
            "metadata": {},
            "cell_type": "code",
            "source": "# Sample list of text\n\nLines = [\"This is line A\\n\", \"This is line B\\n\", \"This is line C\\n\"]\nLines",
            "execution_count": null,
            "outputs": []
        },
        {
            "metadata": {},
            "cell_type": "code",
            "source": "# Write the strings in the list to text file\n\nwith open('Example2.txt', 'w') as writefile:\n    for line in Lines:\n        print(line)\n        writefile.write(line)",
            "execution_count": null,
            "outputs": []
        },
        {
            "metadata": {},
            "cell_type": "markdown",
            "source": " We can verify the file is written by reading it and printing out the values:  "
        },
        {
            "metadata": {},
            "cell_type": "code",
            "source": "# Verify if writing to file is successfully executed\n\nwith open('Example2.txt', 'r') as testwritefile:\n    print(testwritefile.read())",
            "execution_count": null,
            "outputs": []
        },
        {
            "metadata": {},
            "cell_type": "markdown",
            "source": "We can again append to the file by changing the second parameter to <b>a</b>. This adds the code:"
        },
        {
            "metadata": {},
            "cell_type": "code",
            "source": "# Append the line to the file\n\nwith open('Example2.txt', 'a') as testwritefile:\n    testwritefile.write(\"This is line D\\n\")",
            "execution_count": null,
            "outputs": []
        },
        {
            "metadata": {},
            "cell_type": "markdown",
            "source": "We can see the results of appending the file: "
        },
        {
            "metadata": {},
            "cell_type": "code",
            "source": "# Verify if the appending is successfully executed\n\nwith open('Example2.txt', 'r') as testwritefile:\n    print(testwritefile.read())",
            "execution_count": null,
            "outputs": []
        },
        {
            "metadata": {},
            "cell_type": "markdown",
            "source": "<hr>"
        },
        {
            "metadata": {},
            "cell_type": "markdown",
            "source": "<h2 id=\"copy\">Copy a File</h2> "
        },
        {
            "metadata": {},
            "cell_type": "markdown",
            "source": "Let's copy the file <b>Example2.txt</b> to the file <b>Example3.txt</b>:"
        },
        {
            "metadata": {},
            "cell_type": "code",
            "source": "# Copy file to another\n\nwith open('Example2.txt','r') as readfile:\n    with open('Example3.txt','w') as writefile:\n          for line in readfile:\n                writefile.write(line)",
            "execution_count": null,
            "outputs": []
        },
        {
            "metadata": {},
            "cell_type": "markdown",
            "source": "We can read the file to see if everything works:"
        },
        {
            "metadata": {},
            "cell_type": "code",
            "source": "# Verify if the copy is successfully executed\n\nwith open('Example3.txt','r') as testwritefile:\n    print(testwritefile.read())",
            "execution_count": null,
            "outputs": []
        },
        {
            "metadata": {},
            "cell_type": "markdown",
            "source": " After reading files, we can also write data into files and save them in different file formats like **.txt, .csv, .xls (for excel files) etc**. Let's take a look at some examples."
        },
        {
            "metadata": {},
            "cell_type": "markdown",
            "source": "Now go to the directory to ensure the <b>.txt</b> file exists and contains the summary data that we wrote."
        },
        {
            "metadata": {},
            "cell_type": "markdown",
            "source": "<hr>\n<h2>The last exercise!</h2>\n<p>Congratulations, you have completed your first lesson and hands-on lab in Python. However, there is one more thing you need to do. The Data Science community encourages sharing work. The best way to share and showcase your work is to share it on GitHub. By sharing your notebook on GitHub you are not only building your reputation with fellow data scientists, but you can also show it off when applying for a job. Even though this was your first piece of work, it is never too early to start building good habits. So, please read and follow <a href=\"https://cognitiveclass.ai/blog/data-scientists-stand-out-by-sharing-your-notebooks/\" target=\"_blank\">this article</a> to learn how to share your work.\n<hr>"
        },
        {
            "metadata": {},
            "cell_type": "markdown",
            "source": "<div class=\"alert alert-block alert-info\" style=\"margin-top: 20px\">\n<h2>Get IBM Watson Studio free of charge!</h2>\n    <p><a href=\"https://cocl.us/bottemNotebooksPython101Coursera\"><img src=\"https://s3-api.us-geo.objectstorage.softlayer.net/cf-courses-data/CognitiveClass/PY0101EN/Ad/BottomAd.png\" width=\"750\" align=\"center\"></a></p>\n</div>"
        },
        {
            "metadata": {},
            "cell_type": "markdown",
            "source": "<h3>About the Authors:</h3>  \n<p><a href=\"https://www.linkedin.com/in/joseph-s-50398b136/\" target=\"_blank\">Joseph Santarcangelo</a> is a Data Scientist at IBM, and holds a PhD in Electrical Engineering. His research focused on using Machine Learning, Signal Processing, and Computer Vision to determine how videos impact human cognition. Joseph has been working for IBM since he completed his PhD.</p>"
        },
        {
            "metadata": {},
            "cell_type": "markdown",
            "source": "Other contributors: <a href=\"www.linkedin.com/in/jiahui-mavis-zhou-a4537814a\">Mavis Zhou</a>"
        },
        {
            "metadata": {},
            "cell_type": "code",
            "source": "def a(): return 10\ntype(a)\n################\n5//2\n###########\na = {1:9, 2:8}\na\na.items()\na.values() \n##############\na= 7\na.__str__()\n#############\nset([1,2,1]) == set([1,2])\n#################\na = {1:9, 2:8}\na.get(4)\n##############\nprint(\"hello\"'word '*2)\n##############\nM = re.search(r(ab[CD]?))",
            "execution_count": 14,
            "outputs": [
                {
                    "output_type": "stream",
                    "text": "helloword helloword \n",
                    "name": "stdout"
                }
            ]
        },
        {
            "metadata": {},
            "cell_type": "code",
            "source": "a =[1,2,3]\na[-1]\n\na = {1:9, 2:8}\na\na.items()\n#.keys()\n#avalues() \n\na= 7\na.__str__()\n\n\ndef f():\n    f()\n    return 42\nf()",
            "execution_count": 9,
            "outputs": [
                {
                    "output_type": "execute_result",
                    "execution_count": 9,
                    "data": {
                        "text/plain": "'7'"
                    },
                    "metadata": {}
                }
            ]
        },
        {
            "metadata": {},
            "cell_type": "code",
            "source": "print(\"hello\"'word '*2)\n\n\nclass test():\n    id=0\n    def__init__(self,id):\n        self.id=id\n        id = 2\nt = test(1)\nt.id\n\n\nm=re.search(r'(ab[cd]?)', \"\"\"acdeabdabcde \"\"\" )",
            "execution_count": 17,
            "outputs": [
                {
                    "output_type": "error",
                    "ename": "SyntaxError",
                    "evalue": "invalid syntax (<ipython-input-17-3d450da966e2>, line 6)",
                    "traceback": [
                        "\u001b[0;36m  File \u001b[0;32m\"<ipython-input-17-3d450da966e2>\"\u001b[0;36m, line \u001b[0;32m6\u001b[0m\n\u001b[0;31m    def__init__(self,id):\u001b[0m\n\u001b[0m                         ^\u001b[0m\n\u001b[0;31mSyntaxError\u001b[0m\u001b[0;31m:\u001b[0m invalid syntax\n"
                    ]
                }
            ]
        },
        {
            "metadata": {},
            "cell_type": "code",
            "source": "m=re.search(r'(ab[cd]?)', \"\"\"acdeabdabcde \"\"\" )",
            "execution_count": 19,
            "outputs": [
                {
                    "output_type": "error",
                    "ename": "NameError",
                    "evalue": "name 're' is not defined",
                    "traceback": [
                        "\u001b[0;31m---------------------------------------------------------------------------\u001b[0m",
                        "\u001b[0;31mNameError\u001b[0m                                 Traceback (most recent call last)",
                        "\u001b[0;32m<ipython-input-19-3da006d758c3>\u001b[0m in \u001b[0;36m<module>\u001b[0;34m\u001b[0m\n\u001b[0;32m----> 1\u001b[0;31m \u001b[0mm\u001b[0m\u001b[0;34m=\u001b[0m\u001b[0mre\u001b[0m\u001b[0;34m.\u001b[0m\u001b[0msearch\u001b[0m\u001b[0;34m(\u001b[0m\u001b[0;34mr'(ab[cd]?)'\u001b[0m\u001b[0;34m,\u001b[0m \u001b[0;34m\"\"\"acdeabdabcde \"\"\"\u001b[0m \u001b[0;34m)\u001b[0m\u001b[0;34m\u001b[0m\u001b[0;34m\u001b[0m\u001b[0m\n\u001b[0m",
                        "\u001b[0;31mNameError\u001b[0m: name 're' is not defined"
                    ]
                }
            ]
        },
        {
            "metadata": {},
            "cell_type": "markdown",
            "source": "<p>Copyright &copy; 2018 IBM Developer Skills Network. This notebook and its source code are released under the terms of the <a href=\"https://cognitiveclass.ai/mit-license/\">MIT License</a>.</p>"
        }
    ],
    "metadata": {
        "kernelspec": {
            "name": "python3",
            "display_name": "Python 3.6",
            "language": "python"
        },
        "language_info": {
            "name": "python",
            "version": "3.6.9",
            "mimetype": "text/x-python",
            "codemirror_mode": {
                "name": "ipython",
                "version": 3
            },
            "pygments_lexer": "ipython3",
            "nbconvert_exporter": "python",
            "file_extension": ".py"
        }
    },
    "nbformat": 4,
    "nbformat_minor": 2
}