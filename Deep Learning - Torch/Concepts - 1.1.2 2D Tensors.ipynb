{
    "cells": [
        {
            "metadata": {},
            "cell_type": "markdown",
            "source": "<a href=\"http://cocl.us/pytorch_link_top\">\n    <img src=\"https://s3-api.us-geo.objectstorage.softlayer.net/cf-courses-data/CognitiveClass/DL0110EN/notebook_images%20/Pytochtop.png\" width=\"750\" alt=\"IBM Product \" />\n</a> "
        },
        {
            "metadata": {},
            "cell_type": "markdown",
            "source": "<img src=\"https://s3-api.us-geo.objectstorage.softlayer.net/cf-courses-data/CognitiveClass/DL0110EN/notebook_images%20/cc-logo-square.png\" width=\"200\" alt=\"cognitiveclass.ai logo\" />"
        },
        {
            "metadata": {},
            "cell_type": "markdown",
            "source": "<h1>Two-Dimensional Tensors</h1>"
        },
        {
            "metadata": {},
            "cell_type": "markdown",
            "source": "<h2>Table of Contents</h2>"
        },
        {
            "metadata": {},
            "cell_type": "markdown",
            "source": "<p>In this lab, you will learn the basics of tensor operations on 2D tensors.</p>\n<ul>\n    <li><a href=\"#Types_Shape\">Types and Shape </a></li>\n    <li><a href=\"#Index_Slice\">Indexing and Slicing</a></li>\n    <li><a href=\"#Tensor_Op\">Tensor Operations</a></li>\n</ul>\n\n<p>Estimated Time Needed: <b>10 min</b></p>\n<hr>"
        },
        {
            "metadata": {},
            "cell_type": "markdown",
            "source": "<h2>Preparation</h2>"
        },
        {
            "metadata": {},
            "cell_type": "markdown",
            "source": "The following are the libraries we are going to use for this lab."
        },
        {
            "metadata": {},
            "cell_type": "code",
            "source": "# These are the libraries will be used for this lab.\n\nimport numpy as np \nimport matplotlib.pyplot as plt\nimport torch\nimport pandas as pd",
            "execution_count": 1,
            "outputs": []
        },
        {
            "metadata": {},
            "cell_type": "markdown",
            "source": "<!--Empty Space for separating topics-->"
        },
        {
            "metadata": {},
            "cell_type": "markdown",
            "source": "<h2 id=\"Types_Shape\">Types and Shape</h2>"
        },
        {
            "metadata": {},
            "cell_type": "markdown",
            "source": "The methods and types for 2D tensors is similar to the methods and types for 1D tensors which has been introduced in <i>Previous Lab</i>."
        },
        {
            "metadata": {},
            "cell_type": "markdown",
            "source": "Let us see how to convert a 2D list to a 2D tensor. First, let us create a 3X3 2D tensor. Then let us try to use <code>torch.tensor()</code> which we used for converting a 1D list to 1D tensor. Is it going to work?"
        },
        {
            "metadata": {},
            "cell_type": "code",
            "source": "# Convert 2D List to 2D Tensor\n\ntwoD_list = [[11, 12, 13], [21, 22, 23], [31, 32, 33]]\ntwoD_tensor = torch.tensor(twoD_list)\nprint(\"The New 2D Tensor: \", twoD_tensor)",
            "execution_count": 2,
            "outputs": [
                {
                    "name": "stdout",
                    "output_type": "stream",
                    "text": "The New 2D Tensor:  tensor([[11, 12, 13],\n        [21, 22, 23],\n        [31, 32, 33]])\n"
                }
            ]
        },
        {
            "metadata": {},
            "cell_type": "markdown",
            "source": "Bravo! The method <code>torch.tensor()</code> works perfectly.Now, let us try other functions we studied in the <i>Previous Lab</i>."
        },
        {
            "metadata": {},
            "cell_type": "markdown",
            "source": "<!--Empty Space for separating topics-->"
        },
        {
            "metadata": {},
            "cell_type": "markdown",
            "source": "Let us try <code><i>tensor_obj</i>.ndimension()</code> (<code>tensor_obj</code>: This can be any tensor object), <code><i>tensor_obj</i>.shape</code>, and <code><i>tensor_obj</i>.size()</code>"
        },
        {
            "metadata": {},
            "cell_type": "code",
            "source": "# Try tensor_obj.ndimension(), tensor_obj.shape, tensor_obj.size()\n\nprint(\"The dimension of twoD_tensor: \", twoD_tensor.ndimension())\nprint(\"The shape of twoD_tensor: \", twoD_tensor.shape)\nprint(\"The shape of twoD_tensor: \", twoD_tensor.size())\nprint(\"The number of elements in twoD_tensor: \", twoD_tensor.numel())",
            "execution_count": 3,
            "outputs": [
                {
                    "name": "stdout",
                    "output_type": "stream",
                    "text": "The dimension of twoD_tensor:  2\nThe shape of twoD_tensor:  torch.Size([3, 3])\nThe shape of twoD_tensor:  torch.Size([3, 3])\nThe number of elements in twoD_tensor:  9\n"
                }
            ]
        },
        {
            "metadata": {},
            "cell_type": "markdown",
            "source": "Because it is a 2D 3X3 tensor,  the outputs are correct."
        },
        {
            "metadata": {},
            "cell_type": "markdown",
            "source": "<!--Empty Space for separating topics-->"
        },
        {
            "metadata": {},
            "cell_type": "markdown",
            "source": "Now, let us try converting the tensor to a numpy array and convert the numpy array back to a tensor."
        },
        {
            "metadata": {},
            "cell_type": "code",
            "source": "# Convert tensor to numpy array; Convert numpy array to tensor\n\ntwoD_numpy = twoD_tensor.numpy()\nprint(\"Tensor -> Numpy Array:\")\nprint(\"The numpy array after converting: \", twoD_numpy)\nprint(\"Type after converting: \", twoD_numpy.dtype)\n\nprint(\"================================================\")\n\nnew_twoD_tensor = torch.from_numpy(twoD_numpy)\nprint(\"Numpy Array -> Tensor:\")\nprint(\"The tensor after converting:\", new_twoD_tensor)\nprint(\"Type after converting: \", new_twoD_tensor.dtype)",
            "execution_count": 4,
            "outputs": [
                {
                    "name": "stdout",
                    "output_type": "stream",
                    "text": "Tensor -> Numpy Array:\nThe numpy array after converting:  [[11 12 13]\n [21 22 23]\n [31 32 33]]\nType after converting:  int64\n================================================\nNumpy Array -> Tensor:\nThe tensor after converting: tensor([[11, 12, 13],\n        [21, 22, 23],\n        [31, 32, 33]])\nType after converting:  torch.int64\n"
                }
            ]
        },
        {
            "metadata": {},
            "cell_type": "markdown",
            "source": "The result shows the tensor has successfully been converted to a numpy array and then converted back to a tensor."
        },
        {
            "metadata": {},
            "cell_type": "markdown",
            "source": "<!--Empty Space for separating topics-->"
        },
        {
            "metadata": {},
            "cell_type": "markdown",
            "source": "Now let us try to convert a Pandas Dataframe to a tensor. The process is the  Same as the 1D conversion, we can obtain the numpy array via the attribute <code>values</code>. Then, we can use <code>torch.from_numpy()</code> to convert the value of the Pandas Series to a tensor."
        },
        {
            "metadata": {},
            "cell_type": "code",
            "source": "# Try to convert the Panda Dataframe to tensor\n\ndf = pd.DataFrame({'a':[11,21,31],'b':[12,22,312]})\n\nprint(\"Pandas Dataframe to numpy: \", df.values)\nprint(\"Type BEFORE converting: \", df.values.dtype)\n\nprint(\"================================================\")\n\nnew_tensor = torch.from_numpy(df.values)\nprint(\"Tensor AFTER converting: \", new_tensor)\nprint(\"Type AFTER converting: \", new_tensor.dtype)",
            "execution_count": 5,
            "outputs": [
                {
                    "name": "stdout",
                    "output_type": "stream",
                    "text": "Pandas Dataframe to numpy:  [[ 11  12]\n [ 21  22]\n [ 31 312]]\nType BEFORE converting:  int64\n================================================\nTensor AFTER converting:  tensor([[ 11,  12],\n        [ 21,  22],\n        [ 31, 312]])\nType AFTER converting:  torch.int64\n"
                }
            ]
        },
        {
            "metadata": {},
            "cell_type": "markdown",
            "source": "<!--Empty Space for separating topics-->"
        },
        {
            "metadata": {},
            "cell_type": "markdown",
            "source": "<!--Empty Space for separating topics-->"
        },
        {
            "metadata": {},
            "cell_type": "markdown",
            "source": "<h3>Practice</h3>"
        },
        {
            "metadata": {},
            "cell_type": "markdown",
            "source": "Try to convert the following Pandas Dataframe  to a tensor"
        },
        {
            "metadata": {},
            "cell_type": "code",
            "source": "# Practice: try to convert Pandas Series to tensor\n\ndf = pd.DataFrame({'A':[11, 33, 22],'B':[3, 3, 2]})\ndftorch = torch.from_numpy(df.values)\ndftorch",
            "execution_count": 6,
            "outputs": [
                {
                    "data": {
                        "text/plain": "tensor([[11,  3],\n        [33,  3],\n        [22,  2]])"
                    },
                    "execution_count": 6,
                    "metadata": {},
                    "output_type": "execute_result"
                }
            ]
        },
        {
            "metadata": {},
            "cell_type": "markdown",
            "source": "Double-click <b>here</b> for the solution.\n\n<!--\nconverted_tensor = torch.tensor(df.values)\nprint (\"Tensor: \", converted_tensor)\n-->"
        },
        {
            "metadata": {},
            "cell_type": "markdown",
            "source": "<h2 id=\"Index_Slice\">Indexing and Slicing</h2>"
        },
        {
            "metadata": {},
            "cell_type": "markdown",
            "source": "You can use rectangular brackets to access the different elements of the tensor. The correspondence between the rectangular brackets and the list and the rectangular representation is shown in the following figure for a 3X3 tensor:  "
        },
        {
            "metadata": {},
            "cell_type": "markdown",
            "source": "<img src=\"https://s3-api.us-geo.objectstorage.softlayer.net/cf-courses-data/CognitiveClass/DL0110EN/notebook_images%20/chapter%201/1.2index1.png\" width=500 alt=\"Matrix Structure Introduce\">"
        },
        {
            "metadata": {},
            "cell_type": "markdown",
            "source": "You can access the 2nd-row 3rd-column as shown in the following figure:"
        },
        {
            "metadata": {},
            "cell_type": "markdown",
            "source": "<img src=\"https://s3-api.us-geo.objectstorage.softlayer.net/cf-courses-data/CognitiveClass/DL0110EN/notebook_images%20/chapter%201/1.2index.png\" width=\"500\" alt=\"Example of Matrix Index\">"
        },
        {
            "metadata": {},
            "cell_type": "markdown",
            "source": "You simply use the square brackets and the indices corresponding to the element that you want."
        },
        {
            "metadata": {},
            "cell_type": "markdown",
            "source": "Now, let us try to access the value on position 2nd-row 3rd-column. Remember that the index is always 1 less than how we count rows and columns. There are two ways to access the certain value of a tensor. The example in code will be the same as the example picture above."
        },
        {
            "metadata": {},
            "cell_type": "code",
            "source": "# Use tensor_obj[row, column] and tensor_obj[row][column] to access certain position\n\ntensor_example = torch.tensor([[11, 12, 13], [21, 22, 23], [31, 32, 33]])\nprint(\"What is the value on 2nd-row 3rd-column? \", tensor_example[1, 2])\nprint(\"What is the value on 2nd-row 3rd-column? \", tensor_example[1][2])",
            "execution_count": 7,
            "outputs": [
                {
                    "name": "stdout",
                    "output_type": "stream",
                    "text": "What is the value on 2nd-row 3rd-column?  tensor(23)\nWhat is the value on 2nd-row 3rd-column?  tensor(23)\n"
                }
            ]
        },
        {
            "metadata": {},
            "cell_type": "markdown",
            "source": "As we can see, both methods return the true value (the same value as the picture above). Therefore, both of the methods work."
        },
        {
            "metadata": {},
            "cell_type": "markdown",
            "source": "<!--Empty Space for separating topics-->"
        },
        {
            "metadata": {},
            "cell_type": "markdown",
            "source": "Consider the elements shown in the following figure: "
        },
        {
            "metadata": {},
            "cell_type": "markdown",
            "source": "<img src=\"https://s3-api.us-geo.objectstorage.softlayer.net/cf-courses-data/CognitiveClass/DL0110EN/notebook_images%20/chapter%201/1.2_index2.png\" width=\"500\" alt=\"Example of Matrix Index\" />"
        },
        {
            "metadata": {},
            "cell_type": "markdown",
            "source": "Use the method above, we can access the 1st-row 1st-column by <code>tensor_example[0][0]</code>"
        },
        {
            "metadata": {},
            "cell_type": "code",
            "source": "tensor_example[0][0]",
            "execution_count": 8,
            "outputs": [
                {
                    "data": {
                        "text/plain": "tensor(11)"
                    },
                    "execution_count": 8,
                    "metadata": {},
                    "output_type": "execute_result"
                }
            ]
        },
        {
            "metadata": {},
            "cell_type": "markdown",
            "source": "But what if we want to get the value on both 1st-row 1st-column and 1st-row 2nd-column?"
        },
        {
            "metadata": {},
            "cell_type": "markdown",
            "source": "You can also use slicing in a tensor. Consider the following figure. You want to obtain the 1st two columns in the 1st row:  "
        },
        {
            "metadata": {},
            "cell_type": "markdown",
            "source": "<img src=\"https://s3-api.us-geo.objectstorage.softlayer.net/cf-courses-data/CognitiveClass/DL0110EN/notebook_images%20/chapter%201/1.2sliceing.png\" width=\"500\" alt=\"Example of Matrix Index and Slicing\" />"
        },
        {
            "metadata": {},
            "cell_type": "markdown",
            "source": "## Let us see how  we use slicing with 2D tensors to get the values in the above picture."
        },
        {
            "metadata": {},
            "cell_type": "code",
            "source": "# Use tensor_obj[begin_row_number: end_row_number, begin_column_number: end_column number] \n# and tensor_obj[row][begin_column_number: end_column number] to do the slicing\n\ntensor_example = torch.tensor([[11, 12, 13], [21, 22, 23], [31, 32, 33]])\nprint(\"What is the value on 1st-row first two columns? \", tensor_example[0, 0:2])\nprint(\"What is the value on 1st-row first two columns? \", tensor_example[0][0:2])",
            "execution_count": 9,
            "outputs": [
                {
                    "name": "stdout",
                    "output_type": "stream",
                    "text": "What is the value on 1st-row first two columns?  tensor([11, 12])\nWhat is the value on 1st-row first two columns?  tensor([11, 12])\n"
                }
            ]
        },
        {
            "metadata": {},
            "cell_type": "markdown",
            "source": "We get the result as <code>tensor([11, 12])</code> successfully."
        },
        {
            "metadata": {},
            "cell_type": "markdown",
            "source": "<!--Empty Space for separating topics-->"
        },
        {
            "metadata": {},
            "cell_type": "markdown",
            "source": "But we <b>can't</b> combine using slicing on row and pick one column by using the code <code>tensor_obj[begin_row_number: end_row_number][begin_column_number: end_column number]</code>. The reason is that the slicing will be applied on the tensor first. The result type will be a two dimension again. The second bracket will no longer represent the index of the column it will be the index of the row at that time. Let us see an example. "
        },
        {
            "metadata": {},
            "cell_type": "code",
            "source": "# Give an idea on tensor_obj[number: number][number]\n\ntensor_example = torch.tensor([[11, 12, 13], [21, 22, 23], [31, 32, 33]])\nsliced_tensor_example = tensor_example[1:3]\nprint(\"1. Slicing step on tensor_example: \")\nprint(\"Result after tensor_example[1:3]: \", sliced_tensor_example)\nprint(\"Dimension after tensor_example[1:3]: \", sliced_tensor_example.ndimension())\nprint(\"================================================\")\nprint(\"2. Pick an index on sliced_tensor_example: \")\nprint(\"Result after sliced_tensor_example[1]: \", sliced_tensor_example[1])\nprint(\"Dimension after sliced_tensor_example[1]: \", sliced_tensor_example[1].ndimension())\nprint(\"================================================\")\nprint(\"3. Combine these step together:\")\nprint(\"Result: \", tensor_example[1:3][1])\nprint(\"Dimension: \", tensor_example[1:3][1].ndimension())",
            "execution_count": 10,
            "outputs": [
                {
                    "name": "stdout",
                    "output_type": "stream",
                    "text": "1. Slicing step on tensor_example: \nResult after tensor_example[1:3]:  tensor([[21, 22, 23],\n        [31, 32, 33]])\nDimension after tensor_example[1:3]:  2\n================================================\n2. Pick an index on sliced_tensor_example: \nResult after sliced_tensor_example[1]:  tensor([31, 32, 33])\nDimension after sliced_tensor_example[1]:  1\n================================================\n3. Combine these step together:\nResult:  tensor([31, 32, 33])\nDimension:  1\n"
                }
            ]
        },
        {
            "metadata": {},
            "cell_type": "markdown",
            "source": "See the results and dimensions in 2 and 3 are the same. Both of them contains the 3rd row in the <code>tensor_example</code>, but not the last two values in the 3rd column."
        },
        {
            "metadata": {},
            "cell_type": "markdown",
            "source": "<!--Empty Space for separating topics-->"
        },
        {
            "metadata": {},
            "cell_type": "markdown",
            "source": "So how can we get the elements in the 3rd column with the last two rows? As the below picture."
        },
        {
            "metadata": {},
            "cell_type": "markdown",
            "source": "<img src=\"https://s3-api.us-geo.objectstorage.softlayer.net/cf-courses-data/CognitiveClass/DL0110EN/notebook_images%20/chapter%201/1.2slicing2.png\" width=\"500\" alt=\"Example of Matrix Index and Slicing\" />"
        },
        {
            "metadata": {},
            "cell_type": "markdown",
            "source": "Let's see the code below."
        },
        {
            "metadata": {},
            "cell_type": "code",
            "source": "# Use tensor_obj[begin_row_number: end_row_number, begin_column_number: end_column number] \n\ntensor_example = torch.tensor([[11, 12, 13], [21, 22, 23], [31, 32, 33]])\nprint(\"What is the value on 3rd-column last two rows? \", tensor_example[1:3, 2])",
            "execution_count": 11,
            "outputs": [
                {
                    "name": "stdout",
                    "output_type": "stream",
                    "text": "What is the value on 3rd-column last two rows?  tensor([23, 33])\n"
                }
            ]
        },
        {
            "metadata": {},
            "cell_type": "markdown",
            "source": "Fortunately, the code <code>tensor_obj[begin_row_number: end_row_number, begin_column_number: end_column number]</code> is still works."
        },
        {
            "metadata": {},
            "cell_type": "markdown",
            "source": "<!--Empty Space for separating topics-->"
        },
        {
            "metadata": {},
            "cell_type": "markdown",
            "source": "<h3>Practice</h3>"
        },
        {
            "metadata": {},
            "cell_type": "markdown",
            "source": "Try to change the values on the second column and the last two rows to 0. Basically, change the values on <code>tensor_ques[1][1]</code> and <code>tensor_ques[2][1]</code> to 0."
        },
        {
            "metadata": {},
            "cell_type": "code",
            "source": "# Practice: Use slice and index to change the values on the matrix tensor_ques.\n\ntensor_ques = torch.tensor([[11, 12, 13], [21, 22, 23], [31, 32, 33]])\ntensor_ques[1:3,1] = 0\ntensor_ques",
            "execution_count": 12,
            "outputs": [
                {
                    "data": {
                        "text/plain": "tensor([[11, 12, 13],\n        [21,  0, 23],\n        [31,  0, 33]])"
                    },
                    "execution_count": 12,
                    "metadata": {},
                    "output_type": "execute_result"
                }
            ]
        },
        {
            "metadata": {},
            "cell_type": "markdown",
            "source": "Double-click <b>here</b> for the solution.\n\n<!--\ntensor_ques[1:3, 1] = 0\nprint(\"The result: \", tensor_ques)\n-->"
        },
        {
            "metadata": {},
            "cell_type": "markdown",
            "source": "<!--Empty Space for separating topics-->"
        },
        {
            "metadata": {},
            "cell_type": "markdown",
            "source": "<h2 id=\"Tensor_Op\">Tensor Operations</h2> "
        },
        {
            "metadata": {},
            "cell_type": "markdown",
            "source": "We can also do some calculations on 2D tensors."
        },
        {
            "metadata": {},
            "cell_type": "markdown",
            "source": "<!--Empty Space for separating topics-->"
        },
        {
            "metadata": {},
            "cell_type": "markdown",
            "source": "<h3>Tensor Addition</h3>"
        },
        {
            "metadata": {},
            "cell_type": "markdown",
            "source": "You can also add tensors; the process is identical to matrix addition. Matrix addition of <b>X</b> and <b>Y</b> is shown in the following figure:"
        },
        {
            "metadata": {},
            "cell_type": "markdown",
            "source": "<img src=\"https://s3-api.us-geo.objectstorage.softlayer.net/cf-courses-data/CognitiveClass/DL0110EN/notebook_images%20/chapter%201/1.2add.png\" width=\"500\" alt=\"Tensor Addition in 2D\">"
        },
        {
            "metadata": {},
            "cell_type": "markdown",
            "source": "Let us see how tensor addition works with <code>X</code> and <code>Y</code>."
        },
        {
            "metadata": {},
            "cell_type": "code",
            "source": "# Calculate [[1, 0], [0, 1]] + [[2, 1], [1, 2]]\n\nX = torch.tensor([[1, 0],[0, 1]]) \nY = torch.tensor([[2, 1],[1, 2]])\nX_plus_Y = X + Y\nprint(\"The result of X + Y: \", X_plus_Y)",
            "execution_count": 13,
            "outputs": [
                {
                    "name": "stdout",
                    "output_type": "stream",
                    "text": "The result of X + Y:  tensor([[3, 1],\n        [1, 3]])\n"
                }
            ]
        },
        {
            "metadata": {},
            "cell_type": "markdown",
            "source": "Like the result shown in the picture above. The result is <code>[[3, 1], [1, 3]]</code>"
        },
        {
            "metadata": {},
            "cell_type": "markdown",
            "source": "<!--Empty Space for separating topics-->"
        },
        {
            "metadata": {},
            "cell_type": "markdown",
            "source": "<h3> Scalar Multiplication </h3>"
        },
        {
            "metadata": {},
            "cell_type": "markdown",
            "source": "Multiplying a tensor by a scalar is identical to multiplying a matrix by a scaler. If you multiply the matrix <b>Y</b> by the scalar 2, you simply multiply every element in the matrix by 2 as shown in the figure:"
        },
        {
            "metadata": {},
            "cell_type": "markdown",
            "source": "<img src=\"https://s3-api.us-geo.objectstorage.softlayer.net/cf-courses-data/CognitiveClass/DL0110EN/notebook_images%20/chapter%201/1.2scaller_mult.png\" width=\"500\" alt=\"The product of tensor and scalar\">"
        },
        {
            "metadata": {},
            "cell_type": "markdown",
            "source": "Let us try to calculate the product of <b>2Y</b>."
        },
        {
            "metadata": {},
            "cell_type": "code",
            "source": "# Calculate 2 * [[2, 1], [1, 2]]\n\nY = torch.tensor([[2, 1], [1, 2]]) \ntwo_Y = 2 * Y\nprint(\"The result of 2Y: \", two_Y)",
            "execution_count": 14,
            "outputs": [
                {
                    "name": "stdout",
                    "output_type": "stream",
                    "text": "The result of 2Y:  tensor([[4, 2],\n        [2, 4]])\n"
                }
            ]
        },
        {
            "metadata": {},
            "cell_type": "markdown",
            "source": "<!--Empty Space for separating topics-->"
        },
        {
            "metadata": {},
            "cell_type": "markdown",
            "source": "<h3>Element-wise Product/Hadamard Product</h3>"
        },
        {
            "metadata": {},
            "cell_type": "markdown",
            "source": "Multiplication of two tensors corresponds to an element-wise product or Hadamard product.  Consider matrix the <b>X</b> and <b>Y</b> with the same size. The Hadamard product corresponds to multiplying each of the elements at the same position, that is, multiplying elements with the same color together. The result is a new matrix that is the same size as matrix <b>X</b> and <b>Y</b> as shown in the following figure:"
        },
        {
            "metadata": {},
            "cell_type": "markdown",
            "source": " <a><img src=\"https://s3-api.us-geo.objectstorage.softlayer.net/cf-courses-data/CognitiveClass/DL0110EN/notebook_images%20/chapter%201/1.2tensor_pruduct.png\" width=500 align=\"center\"> </a>\n"
        },
        {
            "metadata": {},
            "cell_type": "markdown",
            "source": "The code below calculates the element-wise product of the tensor <strong>X</strong> and <strong>Y</strong>:"
        },
        {
            "metadata": {},
            "cell_type": "code",
            "source": "# Calculate [[1, 0], [0, 1]] * [[2, 1], [1, 2]]\n\nX = torch.tensor([[1, 0], [0, 1]])\nY = torch.tensor([[2, 1], [1, 2]]) \nX_times_Y = X * Y\nprint(\"The result of X * Y: \", X_times_Y)",
            "execution_count": 15,
            "outputs": [
                {
                    "name": "stdout",
                    "output_type": "stream",
                    "text": "The result of X * Y:  tensor([[2, 0],\n        [0, 2]])\n"
                }
            ]
        },
        {
            "metadata": {},
            "cell_type": "markdown",
            "source": "This is a simple calculation. The result from the code matches the result shown in the picture."
        },
        {
            "metadata": {},
            "cell_type": "markdown",
            "source": "<!--Empty Space for separating topics-->"
        },
        {
            "metadata": {},
            "cell_type": "markdown",
            "source": "<h3>Matrix Multiplication </h3>"
        },
        {
            "metadata": {},
            "cell_type": "markdown",
            "source": "We can also apply matrix multiplication to two tensors, if you have learned linear algebra, you should know that in the multiplication of two matrices order matters. This means if <i>X * Y</i> is valid, it does not mean <i>Y * X</i> is valid. The number of columns of the matrix on the left side of the multiplication sign must equal to the number of rows of the matrix on the right side."
        },
        {
            "metadata": {},
            "cell_type": "markdown",
            "source": "First, let us create a tensor <code>X</code> with size 2X3. Then, let us create another tensor <code>Y</code> with size 3X2. Since the number of columns of <code>X</code> is equal to the number of rows of <code>Y</code>. We are able to perform the multiplication."
        },
        {
            "metadata": {},
            "cell_type": "markdown",
            "source": "We use <code>torch.mm()</code> for calculating the multiplication between tensors with different sizes."
        },
        {
            "metadata": {},
            "cell_type": "code",
            "source": "# Calculate [[0, 1, 1], [1, 0, 1]] * [[1, 1], [1, 1], [-1, 1]]\n\nA = torch.tensor([[0, 1, 1], [1, 0, 1]])\nB = torch.tensor([[1, 1], [1, 1], [-1, 1]])\nA_times_B = torch.mm(A,B)\nprint(\"The result of A * B: \", A_times_B)",
            "execution_count": 16,
            "outputs": [
                {
                    "name": "stdout",
                    "output_type": "stream",
                    "text": "The result of A * B:  tensor([[0, 2],\n        [0, 2]])\n"
                }
            ]
        },
        {
            "metadata": {},
            "cell_type": "markdown",
            "source": "<!--Empty Space for separating topics-->"
        },
        {
            "metadata": {},
            "cell_type": "markdown",
            "source": "<h3>Practice</h3>"
        },
        {
            "metadata": {},
            "cell_type": "markdown",
            "source": "Try to create your own two tensors (<code>X</code> and <code>Y</code>) with different sizes, and multiply them."
        },
        {
            "metadata": {},
            "cell_type": "code",
            "source": "# Practice: Calculate the product of two tensors (X and Y) with different sizes \n\n# Type your code here\nC = torch.tensor([[1,2],[3,4]])\nD = torch.tensor([[5,6],[7,8]])\nE = torch.mm(C,D)\nprint(\"The result of C * D: \", E)",
            "execution_count": 17,
            "outputs": [
                {
                    "name": "stdout",
                    "output_type": "stream",
                    "text": "The result of C * D:  tensor([[19, 22],\n        [43, 50]])\n"
                }
            ]
        },
        {
            "metadata": {},
            "cell_type": "markdown",
            "source": "Double-click <b>here</b> for the solution.\n\n<!--\nX = torch.tensor([[0, 1], [1, 2]])\nY = torch.tensor([[-1, -2, 0], [2, 1, 2]])\nX_times_Y = torch.mm(X, Y)\nprint(\"The result of X * Y: \", X_times_Y)\n-->"
        },
        {
            "metadata": {},
            "cell_type": "markdown",
            "source": "<!--Empty Space for separating topics-->"
        },
        {
            "metadata": {},
            "cell_type": "markdown",
            "source": "<!--Empty Space for separating topics-->"
        },
        {
            "metadata": {},
            "cell_type": "markdown",
            "source": "<a href=\"http://cocl.us/pytorch_link_bottom\">\n    <img src=\"https://s3-api.us-geo.objectstorage.softlayer.net/cf-courses-data/CognitiveClass/DL0110EN/notebook_images%20/notebook_bottom%20.png\" width=\"750\" alt=\"PyTorch Bottom\" />\n</a>"
        },
        {
            "metadata": {},
            "cell_type": "markdown",
            "source": "<h2>About the Authors:</h2> \n\n<a href=\"https://www.linkedin.com/in/joseph-s-50398b136/\">Joseph Santarcangelo</a> has a PhD in Electrical Engineering, his research focused on using machine learning, signal processing, and computer vision to determine how videos impact human cognition. Joseph has been working for IBM since he completed his PhD."
        },
        {
            "metadata": {},
            "cell_type": "markdown",
            "source": "Other contributors: <a href=\"https://www.linkedin.com/in/michelleccarey/\">Michelle Carey</a>, <a href=\"www.linkedin.com/in/jiahui-mavis-zhou-a4537814a\">Mavis Zhou</a> "
        },
        {
            "metadata": {},
            "cell_type": "markdown",
            "source": "<hr>"
        },
        {
            "metadata": {},
            "cell_type": "markdown",
            "source": "Copyright &copy; 2018 <a href=\"cognitiveclass.ai?utm_source=bducopyrightlink&utm_medium=dswb&utm_campaign=bdu\">cognitiveclass.ai</a>. This notebook and its source code are released under the terms of the <a href=\"https://bigdatauniversity.com/mit-license/\">MIT License</a>."
        }
    ],
    "metadata": {
        "kernelspec": {
            "name": "python3",
            "display_name": "Python 3.6",
            "language": "python"
        },
        "language_info": {
            "name": "python",
            "version": "3.6.9",
            "mimetype": "text/x-python",
            "codemirror_mode": {
                "name": "ipython",
                "version": 3
            },
            "pygments_lexer": "ipython3",
            "nbconvert_exporter": "python",
            "file_extension": ".py"
        }
    },
    "nbformat": 4,
    "nbformat_minor": 2
}