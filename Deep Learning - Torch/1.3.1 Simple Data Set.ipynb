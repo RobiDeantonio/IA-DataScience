{
    "cells": [
        {
            "metadata": {},
            "cell_type": "markdown",
            "source": "<a href=\"http://cocl.us/pytorch_link_top\">\n    <img src=\"https://s3-api.us-geo.objectstorage.softlayer.net/cf-courses-data/CognitiveClass/DL0110EN/notebook_images%20/Pytochtop.png\" width=\"750\" alt=\"IBM Product \" />\n</a> "
        },
        {
            "metadata": {},
            "cell_type": "markdown",
            "source": "<img src=\"https://s3-api.us-geo.objectstorage.softlayer.net/cf-courses-data/CognitiveClass/DL0110EN/notebook_images%20/cc-logo-square.png\" width=\"200\" alt=\"cognitiveclass.ai logo\" />"
        },
        {
            "metadata": {},
            "cell_type": "markdown",
            "source": "<h1>Simple Dataset</h1> "
        },
        {
            "metadata": {},
            "cell_type": "markdown",
            "source": "<h2>Table of Contents</h2>"
        },
        {
            "metadata": {},
            "cell_type": "markdown",
            "source": "<p>In this lab, you will construct a basic dataset by using PyTorch and learn how to apply basic transformations to it.</p> \n<ul>\n    <li><a href=\"#Simple_Dataset\">Simple dataset</a></li>\n    <li><a href=\"#Transforms\">Transforms</a></li>\n    <li><a href=\"#Compose\">Compose</a></li>\n</ul>\n<p>Estimated Time Needed: <strong>30 min</strong></p>\n<hr>"
        },
        {
            "metadata": {},
            "cell_type": "markdown",
            "source": "<h2>Preparation</h2>"
        },
        {
            "metadata": {},
            "cell_type": "markdown",
            "source": "The following are the libraries we are going to use for this lab. The <code>torch.manual_seed()</code> is for forcing the random function to give the same number every time we try to recompile it."
        },
        {
            "metadata": {},
            "cell_type": "code",
            "source": "# These are the libraries will be used for this lab.\n\nimport torch\nfrom torch.utils.data import Dataset\ntorch.manual_seed(1)",
            "execution_count": 1,
            "outputs": [
                {
                    "data": {
                        "text/plain": "<torch._C.Generator at 0x7f6dd4091550>"
                    },
                    "execution_count": 1,
                    "metadata": {},
                    "output_type": "execute_result"
                }
            ]
        },
        {
            "metadata": {},
            "cell_type": "markdown",
            "source": "<!--Empty Space for separating topics-->"
        },
        {
            "metadata": {},
            "cell_type": "markdown",
            "source": "<h2 id=\"Simple_Dataset\">Simple dataset</h2>"
        },
        {
            "metadata": {},
            "cell_type": "markdown",
            "source": "Let us try to create our own dataset class."
        },
        {
            "metadata": {},
            "cell_type": "code",
            "source": "# Define class for dataset\n\nclass toy_set(Dataset):\n    \n    # Constructor with defult values \n    def __init__(self, length = 100, transform = None):\n        self.len = length\n        self.x = 2 * torch.ones(length, 2)\n        self.y = torch.ones(length, 1)\n        self.transform = transform\n     \n    # Getter\n    def __getitem__(self, index):\n        sample = self.x[index], self.y[index]\n        if self.transform:\n            sample = self.transform(sample)     \n        return sample\n    \n    # Get Length\n    def __len__(self):\n        return self.len",
            "execution_count": 2,
            "outputs": []
        },
        {
            "metadata": {},
            "cell_type": "markdown",
            "source": "Now, let us create our <code>toy_set</code> object, and find out the value on index 1 and the length of the inital dataset"
        },
        {
            "metadata": {},
            "cell_type": "code",
            "source": "# Create Dataset Object. Find out the value on index 1. Find out the length of Dataset Object.\n\nour_dataset = toy_set()\nprint(\"Our toy_set object: \", our_dataset)\nprint(\"Value on index 0 of our toy_set object: \", our_dataset[0])\nprint(\"Our toy_set length: \", len(our_dataset))",
            "execution_count": 3,
            "outputs": [
                {
                    "name": "stdout",
                    "output_type": "stream",
                    "text": "Our toy_set object:  <__main__.toy_set object at 0x7f6dd54ce710>\nValue on index 0 of our toy_set object:  (tensor([2., 2.]), tensor([1.]))\nOur toy_set length:  100\n"
                }
            ]
        },
        {
            "metadata": {},
            "cell_type": "markdown",
            "source": "As a result, we can apply the same indexing convention as a <code>list</code>,\nand apply the fuction <code>len</code> on the <code>toy_set</code> object. We are able to customize the indexing and length method by <code>def &#95;&#95;getitem&#95;&#95;(self, index)</code> and <code>def &#95;&#95;len&#95;&#95;(self)</code>."
        },
        {
            "metadata": {},
            "cell_type": "markdown",
            "source": "Now, let us print out the first 3 elements and assign them to x and y:"
        },
        {
            "metadata": {},
            "cell_type": "code",
            "source": "# Use loop to print out first 3 elements in dataset\n\nfor i in range(3):\n    x, y=our_dataset[i]\n    print(\"index: \", i, '; x:', x, '; y:', y)",
            "execution_count": 4,
            "outputs": [
                {
                    "name": "stdout",
                    "output_type": "stream",
                    "text": "index:  0 ; x: tensor([2., 2.]) ; y: tensor([1.])\nindex:  1 ; x: tensor([2., 2.]) ; y: tensor([1.])\nindex:  2 ; x: tensor([2., 2.]) ; y: tensor([1.])\n"
                }
            ]
        },
        {
            "metadata": {},
            "cell_type": "markdown",
            "source": "The dataset object is an Iterable; as a result, we  apply the loop directly on the dataset object "
        },
        {
            "metadata": {
                "scrolled": true
            },
            "cell_type": "code",
            "source": "for x,y in our_dataset:\n    print(' x:', x, 'y:', y)",
            "execution_count": 5,
            "outputs": [
                {
                    "name": "stdout",
                    "output_type": "stream",
                    "text": " x: tensor([2., 2.]) y: tensor([1.])\n x: tensor([2., 2.]) y: tensor([1.])\n x: tensor([2., 2.]) y: tensor([1.])\n x: tensor([2., 2.]) y: tensor([1.])\n x: tensor([2., 2.]) y: tensor([1.])\n x: tensor([2., 2.]) y: tensor([1.])\n x: tensor([2., 2.]) y: tensor([1.])\n x: tensor([2., 2.]) y: tensor([1.])\n x: tensor([2., 2.]) y: tensor([1.])\n x: tensor([2., 2.]) y: tensor([1.])\n x: tensor([2., 2.]) y: tensor([1.])\n x: tensor([2., 2.]) y: tensor([1.])\n x: tensor([2., 2.]) y: tensor([1.])\n x: tensor([2., 2.]) y: tensor([1.])\n x: tensor([2., 2.]) y: tensor([1.])\n x: tensor([2., 2.]) y: tensor([1.])\n x: tensor([2., 2.]) y: tensor([1.])\n x: tensor([2., 2.]) y: tensor([1.])\n x: tensor([2., 2.]) y: tensor([1.])\n x: tensor([2., 2.]) y: tensor([1.])\n x: tensor([2., 2.]) y: tensor([1.])\n x: tensor([2., 2.]) y: tensor([1.])\n x: tensor([2., 2.]) y: tensor([1.])\n x: tensor([2., 2.]) y: tensor([1.])\n x: tensor([2., 2.]) y: tensor([1.])\n x: tensor([2., 2.]) y: tensor([1.])\n x: tensor([2., 2.]) y: tensor([1.])\n x: tensor([2., 2.]) y: tensor([1.])\n x: tensor([2., 2.]) y: tensor([1.])\n x: tensor([2., 2.]) y: tensor([1.])\n x: tensor([2., 2.]) y: tensor([1.])\n x: tensor([2., 2.]) y: tensor([1.])\n x: tensor([2., 2.]) y: tensor([1.])\n x: tensor([2., 2.]) y: tensor([1.])\n x: tensor([2., 2.]) y: tensor([1.])\n x: tensor([2., 2.]) y: tensor([1.])\n x: tensor([2., 2.]) y: tensor([1.])\n x: tensor([2., 2.]) y: tensor([1.])\n x: tensor([2., 2.]) y: tensor([1.])\n x: tensor([2., 2.]) y: tensor([1.])\n x: tensor([2., 2.]) y: tensor([1.])\n x: tensor([2., 2.]) y: tensor([1.])\n x: tensor([2., 2.]) y: tensor([1.])\n x: tensor([2., 2.]) y: tensor([1.])\n x: tensor([2., 2.]) y: tensor([1.])\n x: tensor([2., 2.]) y: tensor([1.])\n x: tensor([2., 2.]) y: tensor([1.])\n x: tensor([2., 2.]) y: tensor([1.])\n x: tensor([2., 2.]) y: tensor([1.])\n x: tensor([2., 2.]) y: tensor([1.])\n x: tensor([2., 2.]) y: tensor([1.])\n x: tensor([2., 2.]) y: tensor([1.])\n x: tensor([2., 2.]) y: tensor([1.])\n x: tensor([2., 2.]) y: tensor([1.])\n x: tensor([2., 2.]) y: tensor([1.])\n x: tensor([2., 2.]) y: tensor([1.])\n x: tensor([2., 2.]) y: tensor([1.])\n x: tensor([2., 2.]) y: tensor([1.])\n x: tensor([2., 2.]) y: tensor([1.])\n x: tensor([2., 2.]) y: tensor([1.])\n x: tensor([2., 2.]) y: tensor([1.])\n x: tensor([2., 2.]) y: tensor([1.])\n x: tensor([2., 2.]) y: tensor([1.])\n x: tensor([2., 2.]) y: tensor([1.])\n x: tensor([2., 2.]) y: tensor([1.])\n x: tensor([2., 2.]) y: tensor([1.])\n x: tensor([2., 2.]) y: tensor([1.])\n x: tensor([2., 2.]) y: tensor([1.])\n x: tensor([2., 2.]) y: tensor([1.])\n x: tensor([2., 2.]) y: tensor([1.])\n x: tensor([2., 2.]) y: tensor([1.])\n x: tensor([2., 2.]) y: tensor([1.])\n x: tensor([2., 2.]) y: tensor([1.])\n x: tensor([2., 2.]) y: tensor([1.])\n x: tensor([2., 2.]) y: tensor([1.])\n x: tensor([2., 2.]) y: tensor([1.])\n x: tensor([2., 2.]) y: tensor([1.])\n x: tensor([2., 2.]) y: tensor([1.])\n x: tensor([2., 2.]) y: tensor([1.])\n x: tensor([2., 2.]) y: tensor([1.])\n x: tensor([2., 2.]) y: tensor([1.])\n x: tensor([2., 2.]) y: tensor([1.])\n x: tensor([2., 2.]) y: tensor([1.])\n x: tensor([2., 2.]) y: tensor([1.])\n x: tensor([2., 2.]) y: tensor([1.])\n x: tensor([2., 2.]) y: tensor([1.])\n x: tensor([2., 2.]) y: tensor([1.])\n x: tensor([2., 2.]) y: tensor([1.])\n x: tensor([2., 2.]) y: tensor([1.])\n x: tensor([2., 2.]) y: tensor([1.])\n x: tensor([2., 2.]) y: tensor([1.])\n x: tensor([2., 2.]) y: tensor([1.])\n x: tensor([2., 2.]) y: tensor([1.])\n x: tensor([2., 2.]) y: tensor([1.])\n x: tensor([2., 2.]) y: tensor([1.])\n x: tensor([2., 2.]) y: tensor([1.])\n x: tensor([2., 2.]) y: tensor([1.])\n x: tensor([2., 2.]) y: tensor([1.])\n x: tensor([2., 2.]) y: tensor([1.])\n x: tensor([2., 2.]) y: tensor([1.])\n"
                }
            ]
        },
        {
            "metadata": {},
            "cell_type": "markdown",
            "source": "<!--Empty Space for separating topics-->"
        },
        {
            "metadata": {},
            "cell_type": "markdown",
            "source": "<h3>Practice</h3>"
        },
        {
            "metadata": {},
            "cell_type": "markdown",
            "source": "Try to create an <code>toy_set</code> object with length <b>50</b>. Print out the length of your object."
        },
        {
            "metadata": {},
            "cell_type": "code",
            "source": "# Practice: Create a new object with length 50, and print the length of object out.\n\n# Type your code here",
            "execution_count": 6,
            "outputs": []
        },
        {
            "metadata": {},
            "cell_type": "markdown",
            "source": "Double-click <b>here</b> for the solution.\n<!-- \nmy_dataset = toy_set(length = 50)\nprint(\"My toy_set length: \", len(my_dataset))\n-->"
        },
        {
            "metadata": {},
            "cell_type": "markdown",
            "source": "<!--Empty Space for separating topics-->"
        },
        {
            "metadata": {},
            "cell_type": "markdown",
            "source": "<h2 id=\"Transforms\">Transforms</h2>"
        },
        {
            "metadata": {},
            "cell_type": "markdown",
            "source": "You can also create a class for transforming the data. In this case, we will try to add 1 to x and multiply y by 2:"
        },
        {
            "metadata": {},
            "cell_type": "code",
            "source": "# Create tranform class add_mult\n\nclass add_mult(object):\n    \n    # Constructor\n    def __init__(self, addx = 1, muly = 2):\n        self.addx = addx\n        self.muly = muly\n    \n    # Executor\n    def __call__(self, sample):\n        x = sample[0]\n        y = sample[1]\n        x = x + self.addx\n        y = y * self.muly\n        sample = x, y\n        return sample",
            "execution_count": 7,
            "outputs": []
        },
        {
            "metadata": {},
            "cell_type": "markdown",
            "source": "<!--Empty Space for separating topics-->"
        },
        {
            "metadata": {},
            "cell_type": "markdown",
            "source": "Now, create a transform object:."
        },
        {
            "metadata": {},
            "cell_type": "code",
            "source": "# Create an add_mult transform object, and an toy_set object\n\na_m = add_mult()\ndata_set = toy_set()",
            "execution_count": 8,
            "outputs": []
        },
        {
            "metadata": {},
            "cell_type": "markdown",
            "source": "Assign the outputs of the original dataset to <code>x</code> and <code>y</code>. Then, apply the transform <code>add_mult</code> to the dataset and output the values as <code>x_</code> and <code>y_</code>, respectively: "
        },
        {
            "metadata": {},
            "cell_type": "code",
            "source": "# Use loop to print out first 10 elements in dataset\n\nfor i in range(10):\n    x, y = data_set[i]\n    print('Index: ', i, 'Original x: ', x, 'Original y: ', y)\n    x_, y_ = a_m(data_set[i])\n    print('Index: ', i, 'Transformed x_:', x_, 'Transformed y_:', y_)",
            "execution_count": 9,
            "outputs": [
                {
                    "name": "stdout",
                    "output_type": "stream",
                    "text": "Index:  0 Original x:  tensor([2., 2.]) Original y:  tensor([1.])\nIndex:  0 Transformed x_: tensor([3., 3.]) Transformed y_: tensor([2.])\nIndex:  1 Original x:  tensor([2., 2.]) Original y:  tensor([1.])\nIndex:  1 Transformed x_: tensor([3., 3.]) Transformed y_: tensor([2.])\nIndex:  2 Original x:  tensor([2., 2.]) Original y:  tensor([1.])\nIndex:  2 Transformed x_: tensor([3., 3.]) Transformed y_: tensor([2.])\nIndex:  3 Original x:  tensor([2., 2.]) Original y:  tensor([1.])\nIndex:  3 Transformed x_: tensor([3., 3.]) Transformed y_: tensor([2.])\nIndex:  4 Original x:  tensor([2., 2.]) Original y:  tensor([1.])\nIndex:  4 Transformed x_: tensor([3., 3.]) Transformed y_: tensor([2.])\nIndex:  5 Original x:  tensor([2., 2.]) Original y:  tensor([1.])\nIndex:  5 Transformed x_: tensor([3., 3.]) Transformed y_: tensor([2.])\nIndex:  6 Original x:  tensor([2., 2.]) Original y:  tensor([1.])\nIndex:  6 Transformed x_: tensor([3., 3.]) Transformed y_: tensor([2.])\nIndex:  7 Original x:  tensor([2., 2.]) Original y:  tensor([1.])\nIndex:  7 Transformed x_: tensor([3., 3.]) Transformed y_: tensor([2.])\nIndex:  8 Original x:  tensor([2., 2.]) Original y:  tensor([1.])\nIndex:  8 Transformed x_: tensor([3., 3.]) Transformed y_: tensor([2.])\nIndex:  9 Original x:  tensor([2., 2.]) Original y:  tensor([1.])\nIndex:  9 Transformed x_: tensor([3., 3.]) Transformed y_: tensor([2.])\n"
                }
            ]
        },
        {
            "metadata": {},
            "cell_type": "markdown",
            "source": "As the result, <code>x</code> has been added by 1 and y has been multiplied by 2, as <i>[2, 2] + 1 = [3, 3]</i> and <i>[1] x 2 = [2]</i>"
        },
        {
            "metadata": {},
            "cell_type": "markdown",
            "source": "<!--Empty Space for separating topics-->"
        },
        {
            "metadata": {},
            "cell_type": "markdown",
            "source": "We can apply the transform object every time we create a new <code>toy_set object</code>? Remember, we have the constructor in toy_set class with the parameter <code>transform = None</code>.\nWhen we create a new object using the constructor, we can assign the transform object to the parameter transform, as the following code demonstrates."
        },
        {
            "metadata": {},
            "cell_type": "code",
            "source": "# Create a new data_set object with add_mult object as transform\n\ncust_data_set = toy_set(transform = a_m)",
            "execution_count": 10,
            "outputs": []
        },
        {
            "metadata": {},
            "cell_type": "markdown",
            "source": "This applied <code>a_m</code> object (a transform method) to every element in <code>cust_data_set</code> as initialized. Let us print out the first 10 elements in <code>cust_data_set</code> in order to see whether the <code>a_m</code> applied on <code>cust_data_set</code>"
        },
        {
            "metadata": {},
            "cell_type": "code",
            "source": "# Use loop to print out first 10 elements in dataset\n\nfor i in range(10):\n    x, y = data_set[i]\n    print('Index: ', i, 'Original x: ', x, 'Original y: ', y)\n    x_, y_ = cust_data_set[i]\n    print('Index: ', i, 'Transformed x_:', x_, 'Transformed y_:', y_)",
            "execution_count": 11,
            "outputs": [
                {
                    "name": "stdout",
                    "output_type": "stream",
                    "text": "Index:  0 Original x:  tensor([2., 2.]) Original y:  tensor([1.])\nIndex:  0 Transformed x_: tensor([3., 3.]) Transformed y_: tensor([2.])\nIndex:  1 Original x:  tensor([2., 2.]) Original y:  tensor([1.])\nIndex:  1 Transformed x_: tensor([3., 3.]) Transformed y_: tensor([2.])\nIndex:  2 Original x:  tensor([2., 2.]) Original y:  tensor([1.])\nIndex:  2 Transformed x_: tensor([3., 3.]) Transformed y_: tensor([2.])\nIndex:  3 Original x:  tensor([2., 2.]) Original y:  tensor([1.])\nIndex:  3 Transformed x_: tensor([3., 3.]) Transformed y_: tensor([2.])\nIndex:  4 Original x:  tensor([2., 2.]) Original y:  tensor([1.])\nIndex:  4 Transformed x_: tensor([3., 3.]) Transformed y_: tensor([2.])\nIndex:  5 Original x:  tensor([2., 2.]) Original y:  tensor([1.])\nIndex:  5 Transformed x_: tensor([3., 3.]) Transformed y_: tensor([2.])\nIndex:  6 Original x:  tensor([2., 2.]) Original y:  tensor([1.])\nIndex:  6 Transformed x_: tensor([3., 3.]) Transformed y_: tensor([2.])\nIndex:  7 Original x:  tensor([2., 2.]) Original y:  tensor([1.])\nIndex:  7 Transformed x_: tensor([3., 3.]) Transformed y_: tensor([2.])\nIndex:  8 Original x:  tensor([2., 2.]) Original y:  tensor([1.])\nIndex:  8 Transformed x_: tensor([3., 3.]) Transformed y_: tensor([2.])\nIndex:  9 Original x:  tensor([2., 2.]) Original y:  tensor([1.])\nIndex:  9 Transformed x_: tensor([3., 3.]) Transformed y_: tensor([2.])\n"
                }
            ]
        },
        {
            "metadata": {},
            "cell_type": "markdown",
            "source": "The result is the same as the previous method."
        },
        {
            "metadata": {},
            "cell_type": "markdown",
            "source": "<!--Empty Space for separating topics-->"
        },
        {
            "metadata": {},
            "cell_type": "code",
            "source": "# Practice: Construct your own my_add_mult transform. Apply my_add_mult on a new toy_set object. Print out the first three elements from the transformed dataset.\n\n# Type your code here.\n\nclass my_add_mult(object):   \n    def __init__(self, add = 2, mul = 10):\n        self.add=add\n        self.mul=mul\n        \n    def __call__(self, sample):\n        x = sample[0]\n        y = sample[1]\n        x = x + self.add\n        y = y + self.add\n        x = x * self.mul\n        y = y * self.mul\n        sample = x, y\n        return sample\n        \n       \nmy_dataset = toy_set(transform = my_add_mult())\nfor i in range(3):\n    x_, y_ = my_dataset[i]\n    print('Index: ', i, 'Transformed x_:', x_, 'Transformed y_:', y_)",
            "execution_count": 12,
            "outputs": [
                {
                    "name": "stdout",
                    "output_type": "stream",
                    "text": "Index:  0 Transformed x_: tensor([40., 40.]) Transformed y_: tensor([30.])\nIndex:  1 Transformed x_: tensor([40., 40.]) Transformed y_: tensor([30.])\nIndex:  2 Transformed x_: tensor([40., 40.]) Transformed y_: tensor([30.])\n"
                }
            ]
        },
        {
            "metadata": {},
            "cell_type": "markdown",
            "source": "Double-click <b>here</b> for the solution.\n<!-- \nclass my_add_mult(object):   \n    def __init__(self, add = 2, mul = 10):\n        self.add=add\n        self.mul=mul\n        \n    def __call__(self, sample):\n        x = sample[0]\n        y = sample[1]\n        x = x + self.add\n        y = y + self.add\n        x = x * self.mul\n        y = y * self.mul\n        sample = x, y\n        return sample\n        \n       \nmy_dataset = toy_set(transform = my_add_mult())\nfor i in range(3):\n    x_, y_ = my_dataset[i]\n    print('Index: ', i, 'Transformed x_:', x_, 'Transformed y_:', y_)\n    \n -->"
        },
        {
            "metadata": {},
            "cell_type": "markdown",
            "source": "<!--Empty Space for separating topics-->"
        },
        {
            "metadata": {},
            "cell_type": "markdown",
            "source": "<h2 id=\"Compose\">Compose</h2>"
        },
        {
            "metadata": {},
            "cell_type": "markdown",
            "source": "You can compose multiple transforms on the dataset object. First, import <code>transforms</code> from <code>torchvision</code>:"
        },
        {
            "metadata": {},
            "cell_type": "code",
            "source": "# Run the command below when you do not have torchvision installed\n# !conda install -y torchvision\n#!pip install torchvision\nfrom torchvision import transforms",
            "execution_count": 13,
            "outputs": []
        },
        {
            "metadata": {},
            "cell_type": "markdown",
            "source": "Then, create a new transform class that multiplies each of the elements by 100: "
        },
        {
            "metadata": {},
            "cell_type": "code",
            "source": "# Create tranform class mult\n\nclass mult(object):\n    \n    # Constructor\n    def __init__(self, mult = 100):\n        self.mult = mult\n        \n    # Executor\n    def __call__(self, sample):\n        x = sample[0]\n        y = sample[1]\n        x = x * self.mult\n        y = y * self.mult\n        sample = x, y\n        return sample",
            "execution_count": 14,
            "outputs": []
        },
        {
            "metadata": {},
            "cell_type": "markdown",
            "source": "Now let us try to combine the transforms <code>add_mult</code> and <code>mult</code>"
        },
        {
            "metadata": {},
            "cell_type": "code",
            "source": "# Combine the add_mult() and mult()\n\ndata_transform = transforms.Compose([add_mult(), mult()])\nprint(\"The combination of transforms (Compose): \", data_transform)\n",
            "execution_count": 15,
            "outputs": [
                {
                    "name": "stdout",
                    "output_type": "stream",
                    "text": "The combination of transforms (Compose):  Compose(\n    <__main__.add_mult object at 0x7f6d57c36a20>\n    <__main__.mult object at 0x7f6d57c36a58>\n)\n"
                }
            ]
        },
        {
            "metadata": {},
            "cell_type": "markdown",
            "source": "The new <code>Compose</code> object will perform each transform concurrently as shown in this figure:"
        },
        {
            "metadata": {},
            "cell_type": "markdown",
            "source": "<img src=\"https://s3-api.us-geo.objectstorage.softlayer.net/cf-courses-data/CognitiveClass/DL0110EN/notebook_images%20/chapter%201/1.3.1_trasform.png\" width=\"500\" alt=\"Compose PyTorch\">"
        },
        {
            "metadata": {},
            "cell_type": "code",
            "source": "data_transform(data_set[0])",
            "execution_count": 16,
            "outputs": [
                {
                    "data": {
                        "text/plain": "(tensor([300., 300.]), tensor([200.]))"
                    },
                    "execution_count": 16,
                    "metadata": {},
                    "output_type": "execute_result"
                }
            ]
        },
        {
            "metadata": {},
            "cell_type": "code",
            "source": "x,y=data_set[0]\nx_,y_=data_transform(data_set[0])\nprint( 'Original x: ', x, 'Original y: ', y)\n\nprint( 'Transformed x_:', x_, 'Transformed y_:', y_)",
            "execution_count": 17,
            "outputs": [
                {
                    "name": "stdout",
                    "output_type": "stream",
                    "text": "Original x:  tensor([2., 2.]) Original y:  tensor([1.])\nTransformed x_: tensor([300., 300.]) Transformed y_: tensor([200.])\n"
                }
            ]
        },
        {
            "metadata": {},
            "cell_type": "markdown",
            "source": "Now we can pass the new <code>Compose</code> object (The combination of methods <code>add_mult()</code> and <code>mult</code>) to the constructor for creating <code>toy_set</code> object."
        },
        {
            "metadata": {},
            "cell_type": "code",
            "source": "# Create a new toy_set object with compose object as transform\n\ncompose_data_set = toy_set(transform = data_transform)",
            "execution_count": 18,
            "outputs": []
        },
        {
            "metadata": {},
            "cell_type": "markdown",
            "source": "Let us print out the first 3 elements in different <code>toy_set</code> datasets in order to compare the output after different transforms have been applied: "
        },
        {
            "metadata": {},
            "cell_type": "code",
            "source": "# Use loop to print out first 3 elements in dataset\n\nfor i in range(3):\n    x, y = data_set[i]\n    print('Index: ', i, 'Original x: ', x, 'Original y: ', y)\n    x_, y_ = cust_data_set[i]\n    print('Index: ', i, 'Transformed x_:', x_, 'Transformed y_:', y_)\n    x_co, y_co = compose_data_set[i]\n    print('Index: ', i, 'Compose Transformed x_co: ', x_co ,'Compose Transformed y_co: ',y_co)",
            "execution_count": 19,
            "outputs": [
                {
                    "name": "stdout",
                    "output_type": "stream",
                    "text": "Index:  0 Original x:  tensor([2., 2.]) Original y:  tensor([1.])\nIndex:  0 Transformed x_: tensor([3., 3.]) Transformed y_: tensor([2.])\nIndex:  0 Compose Transformed x_co:  tensor([300., 300.]) Compose Transformed y_co:  tensor([200.])\nIndex:  1 Original x:  tensor([2., 2.]) Original y:  tensor([1.])\nIndex:  1 Transformed x_: tensor([3., 3.]) Transformed y_: tensor([2.])\nIndex:  1 Compose Transformed x_co:  tensor([300., 300.]) Compose Transformed y_co:  tensor([200.])\nIndex:  2 Original x:  tensor([2., 2.]) Original y:  tensor([1.])\nIndex:  2 Transformed x_: tensor([3., 3.]) Transformed y_: tensor([2.])\nIndex:  2 Compose Transformed x_co:  tensor([300., 300.]) Compose Transformed y_co:  tensor([200.])\n"
                }
            ]
        },
        {
            "metadata": {},
            "cell_type": "markdown",
            "source": "Let us see what happened on index 0. The original value of <code>x</code> is <i>[2, 2]</i>, and the original value of <code>y</code> is [1]. If we only applied <code>add_mult()</code> on the original dataset, then the <code>x</code> became <i>[3, 3]</i> and y became <i>[2]</i>. Now let us see what is the value after applied both <code>add_mult()</code> and <code>mult()</code>. The result of x is <i>[300, 300]</i> and y is <i>[200]</i>. The calculation which is equavalent to the compose is <i> x = ([2, 2] + 1) x 100 = [300, 300], y = ([1] x 2) x 100 = 200</i>"
        },
        {
            "metadata": {},
            "cell_type": "markdown",
            "source": "<h3>Practice</h3>"
        },
        {
            "metadata": {},
            "cell_type": "markdown",
            "source": "Try to combine the <code>mult()</code> and <code>add_mult()</code> as <code>mult()</code> to be executed first. And apply this on a new <code>toy_set</code> dataset. Print out the first 3 elements in the transformed dataset."
        },
        {
            "metadata": {},
            "cell_type": "code",
            "source": "# Practice: Make a compose as mult() execute first and then add_mult(). Apply the compose on toy_set dataset. Print out the first 3 elements in the transformed dataset.\n\n# Type your code here.\n\nmy_compose = transforms.Compose([mult(), add_mult()])\nmy_transformed_dataset = toy_set(transform = my_compose)\nfor i in range(3):\n    x_, y_ = my_transformed_dataset[i]\n    print('Index: ', i, 'Transformed x_:', x_, 'Transformed y_:', y_)",
            "execution_count": 20,
            "outputs": [
                {
                    "name": "stdout",
                    "output_type": "stream",
                    "text": "Index:  0 Transformed x_: tensor([201., 201.]) Transformed y_: tensor([200.])\nIndex:  1 Transformed x_: tensor([201., 201.]) Transformed y_: tensor([200.])\nIndex:  2 Transformed x_: tensor([201., 201.]) Transformed y_: tensor([200.])\n"
                }
            ]
        },
        {
            "metadata": {},
            "cell_type": "markdown",
            "source": "Double-click <b>here</b> for the solution.\n<!--\nmy_compose = transforms.Compose([mult(), add_mult()])\nmy_transformed_dataset = toy_set(transform = my_compose)\nfor i in range(3):\n    x_, y_ = my_transformed_dataset[i]\n    print('Index: ', i, 'Transformed x_:', x_, 'Transformed y_:', y_)\n-->"
        },
        {
            "metadata": {},
            "cell_type": "markdown",
            "source": "<!--Empty Space for separating topics-->"
        },
        {
            "metadata": {},
            "cell_type": "markdown",
            "source": "<a href=\"http://cocl.us/pytorch_link_bottom\">\n    <img src=\"https://s3-api.us-geo.objectstorage.softlayer.net/cf-courses-data/CognitiveClass/DL0110EN/notebook_images%20/notebook_bottom%20.png\" width=\"750\" alt=\"PyTorch Bottom\" />\n</a>"
        },
        {
            "metadata": {},
            "cell_type": "markdown",
            "source": "<h2>About the Authors:</h2> \n\n<a href=\"https://www.linkedin.com/in/joseph-s-50398b136/\">Joseph Santarcangelo</a> has a PhD in Electrical Engineering, his research focused on using machine learning, signal processing, and computer vision to determine how videos impact human cognition. Joseph has been working for IBM since he completed his PhD."
        },
        {
            "metadata": {},
            "cell_type": "markdown",
            "source": "Other contributors: <a href=\"https://www.linkedin.com/in/michelleccarey/\">Michelle Carey</a>, <a href=\"www.linkedin.com/in/jiahui-mavis-zhou-a4537814a\">Mavis Zhou</a> "
        },
        {
            "metadata": {},
            "cell_type": "markdown",
            "source": "<hr>"
        },
        {
            "metadata": {},
            "cell_type": "markdown",
            "source": "Copyright &copy; 2018 <a href=\"cognitiveclass.ai?utm_source=bducopyrightlink&utm_medium=dswb&utm_campaign=bdu\">cognitiveclass.ai</a>. This notebook and its source code are released under the terms of the <a href=\"https://bigdatauniversity.com/mit-license/\">MIT License</a>."
        }
    ],
    "metadata": {
        "kernelspec": {
            "name": "python3",
            "display_name": "Python 3.6",
            "language": "python"
        },
        "language_info": {
            "name": "python",
            "version": "3.6.9",
            "mimetype": "text/x-python",
            "codemirror_mode": {
                "name": "ipython",
                "version": 3
            },
            "pygments_lexer": "ipython3",
            "nbconvert_exporter": "python",
            "file_extension": ".py"
        }
    },
    "nbformat": 4,
    "nbformat_minor": 2
}