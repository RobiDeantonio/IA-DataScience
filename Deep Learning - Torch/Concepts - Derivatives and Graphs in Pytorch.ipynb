{
    "cells": [
        {
            "metadata": {},
            "cell_type": "markdown",
            "source": "<a href=\"http://cocl.us/pytorch_link_top\">\n    <img src=\"https://s3-api.us-geo.objectstorage.softlayer.net/cf-courses-data/CognitiveClass/DL0110EN/notebook_images%20/Pytochtop.png\" width=\"750\" alt=\"IBM Product \" />\n</a> "
        },
        {
            "metadata": {},
            "cell_type": "markdown",
            "source": "<img src=\"https://s3-api.us-geo.objectstorage.softlayer.net/cf-courses-data/CognitiveClass/DL0110EN/notebook_images%20/cc-logo-square.png\" width=\"200\" alt=\"cognitiveclass.ai logo\" />"
        },
        {
            "metadata": {},
            "cell_type": "markdown",
            "source": "<h1>Differentiation in PyTorch</h1> "
        },
        {
            "metadata": {},
            "cell_type": "markdown",
            "source": "<h2>Table of Contents</h2>\n\n<p>In this lab, you will learn the basics of differentiation.</p> \n\n<ul>\n    <li><a href=\"#Derivative\">Derivatives</a></li>\n    <li><a href=\"#Partial_Derivative\">Partial Derivatives</a></li>\n</ul>\n\n<p>Estimated Time Needed: <strong>25 min</strong></p>\n<hr>"
        },
        {
            "metadata": {},
            "cell_type": "markdown",
            "source": "<h2>Preparation</h2>"
        },
        {
            "metadata": {},
            "cell_type": "markdown",
            "source": "The following are the libraries we are going to use for this lab."
        },
        {
            "metadata": {},
            "cell_type": "code",
            "source": "# These are the libraries will be useing for this lab.\n\nimport torch \nimport matplotlib.pylab as plt\n",
            "execution_count": 1,
            "outputs": []
        },
        {
            "metadata": {},
            "cell_type": "markdown",
            "source": "<!--Empty Space for separating topics-->"
        },
        {
            "metadata": {},
            "cell_type": "markdown",
            "source": "<h2 id=\"Derivative\">Derivatives</h2>"
        },
        {
            "metadata": {},
            "cell_type": "markdown",
            "source": "Let us create the tensor <code>x</code> and set the parameter <code>requires_grad</code> to true because you are going to take the derivative of the tensor."
        },
        {
            "metadata": {},
            "cell_type": "code",
            "source": "# Create a tensor x\n\nx = torch.tensor(2.0, requires_grad = True)\nprint(\"The tensor x: \", x)",
            "execution_count": 2,
            "outputs": [
                {
                    "name": "stdout",
                    "output_type": "stream",
                    "text": "The tensor x:  tensor(2., requires_grad=True)\n"
                }
            ]
        },
        {
            "metadata": {},
            "cell_type": "markdown",
            "source": "Then let us create a tensor according to the equation $ y=x^2 $."
        },
        {
            "metadata": {
                "jupyter": {
                    "outputs_hidden": false
                }
            },
            "cell_type": "code",
            "source": "# Create a tensor y according to y = x^2\n\ny = x ** 2\nprint(\"The result of y = x^2: \", y)",
            "execution_count": 3,
            "outputs": [
                {
                    "name": "stdout",
                    "output_type": "stream",
                    "text": "The result of y = x^2:  tensor(4., grad_fn=<PowBackward0>)\n"
                }
            ]
        },
        {
            "metadata": {},
            "cell_type": "markdown",
            "source": "Then let us take the derivative with respect x at x = 2"
        },
        {
            "metadata": {
                "jupyter": {
                    "outputs_hidden": false
                }
            },
            "cell_type": "code",
            "source": "# Take the derivative. Try to print out the derivative at the value x = 2\n\ny.backward()\nprint(\"The dervative at x = 2: \", x.grad)",
            "execution_count": 4,
            "outputs": [
                {
                    "name": "stdout",
                    "output_type": "stream",
                    "text": "The dervative at x = 2:  tensor(4.)\n"
                }
            ]
        },
        {
            "metadata": {},
            "cell_type": "markdown",
            "source": "The preceding lines perform the following operation: "
        },
        {
            "metadata": {},
            "cell_type": "markdown",
            "source": "$\\frac{\\mathrm{dy(x)}}{\\mathrm{dx}}=2x$"
        },
        {
            "metadata": {},
            "cell_type": "markdown",
            "source": "$\\frac{\\mathrm{dy(x=2)}}{\\mathrm{dx}}=2(2)=4$"
        },
        {
            "metadata": {},
            "cell_type": "code",
            "source": "",
            "execution_count": null,
            "outputs": []
        },
        {
            "metadata": {},
            "cell_type": "code",
            "source": "print('data:',x.data)\nprint('grad_fn:',x.grad_fn)\nprint('grad:',x.grad)\nprint(\"is_leaf:\",x.is_leaf)\nprint(\"requires_grad:\",x.requires_grad)",
            "execution_count": 5,
            "outputs": [
                {
                    "name": "stdout",
                    "output_type": "stream",
                    "text": "data: tensor(2.)\ngrad_fn: None\ngrad: tensor(4.)\nis_leaf: True\nrequires_grad: True\n"
                }
            ]
        },
        {
            "metadata": {},
            "cell_type": "code",
            "source": "print('data:',y.data)\nprint('grad_fn:',y.grad_fn)\nprint('grad:',y.grad)\nprint(\"is_leaf:\",y.is_leaf)\nprint(\"requires_grad:\",y.requires_grad)",
            "execution_count": 6,
            "outputs": [
                {
                    "name": "stdout",
                    "output_type": "stream",
                    "text": "data: tensor(4.)\ngrad_fn: <PowBackward0 object at 0x7f55084ae978>\ngrad: None\nis_leaf: False\nrequires_grad: True\n"
                },
                {
                    "name": "stderr",
                    "output_type": "stream",
                    "text": "/home/robi/.virtualenvs/DataScience/lib/python3.6/site-packages/torch/tensor.py:746: UserWarning: The .grad attribute of a Tensor that is not a leaf Tensor is being accessed. Its .grad attribute won't be populated during autograd.backward(). If you indeed want the gradient for a non-leaf Tensor, use .retain_grad() on the non-leaf Tensor. If you access the non-leaf Tensor by mistake, make sure you access the leaf Tensor instead. See github.com/pytorch/pytorch/pull/30531 for more informations.\n  warnings.warn(\"The .grad attribute of a Tensor that is not a leaf Tensor is being accessed. Its .grad \"\n"
                }
            ]
        },
        {
            "metadata": {},
            "cell_type": "markdown",
            "source": "Let us try to calculate the derivative for a more complicated function. "
        },
        {
            "metadata": {},
            "cell_type": "code",
            "source": "# Calculate the y = x^2 + 2x + 1, then find the derivative \n\nx = torch.tensor(2.0, requires_grad = True)\ny = x ** 2 + 2 * x + 1\nprint(\"The result of y = x^2 + 2x + 1: \", y)\ny.backward()\nprint(\"The dervative at x = 2: \", x.grad)",
            "execution_count": 7,
            "outputs": [
                {
                    "name": "stdout",
                    "output_type": "stream",
                    "text": "The result of y = x^2 + 2x + 1:  tensor(9., grad_fn=<AddBackward0>)\nThe dervative at x = 2:  tensor(6.)\n"
                }
            ]
        },
        {
            "metadata": {},
            "cell_type": "markdown",
            "source": "The function is in the following form:\n$y=x^{2}+2x+1$"
        },
        {
            "metadata": {},
            "cell_type": "markdown",
            "source": "The derivative is given by:\n"
        },
        {
            "metadata": {},
            "cell_type": "markdown",
            "source": "$\\frac{\\mathrm{dy(x)}}{\\mathrm{dx}}=2x+2$\n\n$\\frac{\\mathrm{dy(x=2)}}{\\mathrm{dx}}=2(2)+2=6$"
        },
        {
            "metadata": {},
            "cell_type": "markdown",
            "source": "<!--Empty Space for separating topics-->"
        },
        {
            "metadata": {},
            "cell_type": "markdown",
            "source": "<h3>Practice</h3>"
        },
        {
            "metadata": {},
            "cell_type": "markdown",
            "source": "Determine the derivative of $ y = 2x^3+x $ at $x=1$"
        },
        {
            "metadata": {},
            "cell_type": "code",
            "source": "# Practice: Calculate the derivative of y = 2x^3 + x at x = 1\n\n# Type your code here\n\nx = torch.tensor(1.0, requires_grad = True)\ny = 2 * x**3 + x\nprint('The result of y = 2x^3 + x: ', y)\n\ny.backward()\nprint(\"The dervative at x = 1: \", x.grad)",
            "execution_count": 8,
            "outputs": [
                {
                    "name": "stdout",
                    "output_type": "stream",
                    "text": "The result of y = 2x^3 + x:  tensor(3., grad_fn=<AddBackward0>)\nThe dervative at x = 1:  tensor(7.)\n"
                }
            ]
        },
        {
            "metadata": {},
            "cell_type": "markdown",
            "source": "Double-click <b>here</b> for the solution.\n<!-- \nx = torch.tensor(1.0, requires_grad=True)\ny = 2 * x ** 3 + x\ny.backward()\nprint(\"The derivative result: \", x.grad)\n -->"
        },
        {
            "metadata": {},
            "cell_type": "markdown",
            "source": "<!--Empty Space for separating topics-->"
        },
        {
            "metadata": {},
            "cell_type": "markdown",
            "source": " We can implement our own custom autograd Functions by subclassing\n    torch.autograd.Function and implementing the forward and backward passes\n    which operate on Tensors"
        },
        {
            "metadata": {},
            "cell_type": "code",
            "source": "class SQ(torch.autograd.Function):\n\n\n    @staticmethod\n    def forward(ctx,i):\n        \"\"\"\n        In the forward pass we receive a Tensor containing the input and return\n        a Tensor containing the output. ctx is a context object that can be used\n        to stash information for backward computation. You can cache arbitrary\n        objects for use in the backward pass using the ctx.save_for_backward method.\n        \"\"\"\n        result=i**2\n        ctx.save_for_backward(i)\n        return result\n\n    @staticmethod\n    def backward(ctx, grad_output):\n        \"\"\"\n        In the backward pass we receive a Tensor containing the gradient of the loss\n        with respect to the output, and we need to compute the gradient of the loss\n        with respect to the input.\n        \"\"\"\n        i, = ctx.saved_tensors\n        grad_output = 2*i\n        return grad_output",
            "execution_count": 9,
            "outputs": []
        },
        {
            "metadata": {},
            "cell_type": "markdown",
            "source": "We can apply it the function  "
        },
        {
            "metadata": {},
            "cell_type": "code",
            "source": "x=torch.tensor(2.0,requires_grad=True )\nsq=SQ.apply\n\ny=sq(x)\ny\nprint(y.grad_fn)\ny.backward()\nx.grad",
            "execution_count": 10,
            "outputs": [
                {
                    "name": "stdout",
                    "output_type": "stream",
                    "text": "<torch.autograd.function.SQBackward object at 0x7f5578777668>\n"
                },
                {
                    "data": {
                        "text/plain": "tensor(4.)"
                    },
                    "execution_count": 10,
                    "metadata": {},
                    "output_type": "execute_result"
                }
            ]
        },
        {
            "metadata": {},
            "cell_type": "markdown",
            "source": "<h2 id=\"Partial_Derivative\">Partial Derivatives</h2>"
        },
        {
            "metadata": {},
            "cell_type": "markdown",
            "source": "We can also calculate <b>Partial Derivatives</b>. Consider the function: $f(u,v)=vu+u^{2}$"
        },
        {
            "metadata": {},
            "cell_type": "markdown",
            "source": "Let us create <code>u</code> tensor, <code>v</code> tensor and  <code>f</code> tensor"
        },
        {
            "metadata": {},
            "cell_type": "code",
            "source": "# Calculate f(u, v) = v * u + u^2 at u = 1, v = 2\n\nu = torch.tensor(1.0,requires_grad=True)\nv = torch.tensor(2.0,requires_grad=True)\nf = u * v + u ** 2\nprint(\"The result of v * u + u^2: \", f)",
            "execution_count": 11,
            "outputs": [
                {
                    "name": "stdout",
                    "output_type": "stream",
                    "text": "The result of v * u + u^2:  tensor(3., grad_fn=<AddBackward0>)\n"
                }
            ]
        },
        {
            "metadata": {},
            "cell_type": "markdown",
            "source": "This is equivalent to the following: "
        },
        {
            "metadata": {},
            "cell_type": "markdown",
            "source": "$f(u=1,v=2)=(2)(1)+1^{2}=3$"
        },
        {
            "metadata": {},
            "cell_type": "markdown",
            "source": "<!--Empty Space for separating topics-->"
        },
        {
            "metadata": {},
            "cell_type": "markdown",
            "source": "Now let us take the derivative with respect to <code>u</code>:"
        },
        {
            "metadata": {},
            "cell_type": "code",
            "source": "# Calculate the derivative with respect to u\n\nf.backward()\nprint(\"The partial derivative with respect to u: \", u.grad)",
            "execution_count": 12,
            "outputs": [
                {
                    "name": "stdout",
                    "output_type": "stream",
                    "text": "The partial derivative with respect to u:  tensor(4.)\n"
                }
            ]
        },
        {
            "metadata": {},
            "cell_type": "markdown",
            "source": "the expression is given by:"
        },
        {
            "metadata": {},
            "cell_type": "markdown",
            "source": "$\\frac{\\mathrm{\\partial f(u,v)}}{\\partial {u}}=v+2u$\n\n$\\frac{\\mathrm{\\partial f(u=1,v=2)}}{\\partial {u}}=2+2(1)=4$"
        },
        {
            "metadata": {},
            "cell_type": "markdown",
            "source": "<!--Empty Space for separating topics-->"
        },
        {
            "metadata": {},
            "cell_type": "markdown",
            "source": "Now, take the derivative with respect to <code>v</code>:"
        },
        {
            "metadata": {},
            "cell_type": "code",
            "source": "# Calculate the derivative with respect to v\n\nprint(\"The partial derivative with respect to u: \", v.grad)",
            "execution_count": 13,
            "outputs": [
                {
                    "name": "stdout",
                    "output_type": "stream",
                    "text": "The partial derivative with respect to u:  tensor(1.)\n"
                }
            ]
        },
        {
            "metadata": {},
            "cell_type": "markdown",
            "source": "The equation is given by:"
        },
        {
            "metadata": {},
            "cell_type": "markdown",
            "source": "$\\frac{\\mathrm{\\partial f(u,v)}}{\\partial {v}}=u$\n\n$\\frac{\\mathrm{\\partial f(u=1,v=2)}}{\\partial {v}}=1$"
        },
        {
            "metadata": {},
            "cell_type": "markdown",
            "source": "<!--Empty Space for separating topics-->"
        },
        {
            "metadata": {},
            "cell_type": "markdown",
            "source": "Calculate the derivative with respect to a function with multiple values as follows. You use the sum trick to produce a scalar valued function and then take the gradient: "
        },
        {
            "metadata": {},
            "cell_type": "code",
            "source": "# Calculate the derivative with multiple values\n\nx = torch.linspace(-10, 10, 10, requires_grad = True)\nY = x ** 2\ny = torch.sum(x ** 2)",
            "execution_count": 14,
            "outputs": []
        },
        {
            "metadata": {},
            "cell_type": "markdown",
            "source": "We can plot the function  and its derivative "
        },
        {
            "metadata": {
                "scrolled": true
            },
            "cell_type": "code",
            "source": "# Take the derivative with respect to multiple value. Plot out the function and its derivative\n\ny.backward()\n\nplt.plot(x.detach().numpy(), Y.detach().numpy(), label = 'function')\nplt.plot(x.detach().numpy(), x.grad.detach().numpy(), label = 'derivative')\nplt.xlabel('x')\nplt.legend()\nplt.show()",
            "execution_count": 15,
            "outputs": [
                {
                    "data": {
                        "image/png": "[encoded data removed]",
                        "text/plain": "<Figure size 432x288 with 1 Axes>"
                    },
                    "metadata": {
                        "needs_background": "light"
                    },
                    "output_type": "display_data"
                }
            ]
        },
        {
            "metadata": {},
            "cell_type": "markdown",
            "source": "The orange line is the slope of the blue line at the intersection point, which is the derivative of the blue line."
        },
        {
            "metadata": {},
            "cell_type": "markdown",
            "source": "The  method <code> detach()</code>  excludes further tracking of operations in the graph, and therefore the subgraph will not record operations. This allows us to then convert the tensor to a numpy array. To understand the sum operation  <a href=\"https://pytorch.org/tutorials/beginner/blitz/autograd_tutorial.html\">Click Here</a>\n\n"
        },
        {
            "metadata": {},
            "cell_type": "markdown",
            "source": "<!--Empty Space for separating topics-->"
        },
        {
            "metadata": {},
            "cell_type": "markdown",
            "source": "The <b>relu</b> activation function is an essential function in neural networks. We can take the derivative as follows: "
        },
        {
            "metadata": {
                "jupyter": {
                    "outputs_hidden": true
                }
            },
            "cell_type": "code",
            "source": "x.grad.numpy()",
            "execution_count": 16,
            "outputs": [
                {
                    "data": {
                        "text/plain": "array([-20.       , -15.555555 , -11.111111 ,  -6.6666665,  -2.2222223,\n         2.2222223,   6.6666665,  11.111111 ,  15.555555 ,  20.       ],\n      dtype=float32)"
                    },
                    "execution_count": 16,
                    "metadata": {},
                    "output_type": "execute_result"
                }
            ]
        },
        {
            "metadata": {},
            "cell_type": "code",
            "source": "x.grad.detach().numpy()",
            "execution_count": 17,
            "outputs": [
                {
                    "data": {
                        "text/plain": "array([-20.       , -15.555555 , -11.111111 ,  -6.6666665,  -2.2222223,\n         2.2222223,   6.6666665,  11.111111 ,  15.555555 ,  20.       ],\n      dtype=float32)"
                    },
                    "execution_count": 17,
                    "metadata": {},
                    "output_type": "execute_result"
                }
            ]
        },
        {
            "metadata": {},
            "cell_type": "code",
            "source": "# Take the derivative of Relu with respect to multiple value. Plot out the function and its derivative\n\nx = torch.linspace(-10, 10, 1000, requires_grad = True)\nY = torch.relu(x)\ny = Y.sum()\ny.backward()\nplt.plot(x.detach().numpy(), Y.detach().numpy(), label = 'function')\nplt.plot(x.detach().numpy(), x.grad.detach().numpy(), label = 'derivative')\nplt.xlabel('x')\nplt.legend()\nplt.show()",
            "execution_count": 18,
            "outputs": [
                {
                    "data": {
                        "image/png": "[encoded data removed]",
                        "text/plain": "<Figure size 432x288 with 1 Axes>"
                    },
                    "metadata": {
                        "needs_background": "light"
                    },
                    "output_type": "display_data"
                }
            ]
        },
        {
            "metadata": {},
            "cell_type": "markdown",
            "source": "<!--Empty Space for separating topics-->"
        },
        {
            "metadata": {},
            "cell_type": "code",
            "source": "y.grad_fn",
            "execution_count": 19,
            "outputs": [
                {
                    "data": {
                        "text/plain": "<SumBackward0 at 0x7f55084cf240>"
                    },
                    "execution_count": 19,
                    "metadata": {},
                    "output_type": "execute_result"
                }
            ]
        },
        {
            "metadata": {},
            "cell_type": "markdown",
            "source": "<h3>Practice</h3>"
        },
        {
            "metadata": {},
            "cell_type": "markdown",
            "source": "Try to determine partial derivative  $u$ of the following function where $u=2$ and $v=1$: $ f=uv+(uv)^2$"
        },
        {
            "metadata": {},
            "cell_type": "code",
            "source": "# Practice: Calculate the derivative of f = u * v + (u * v) ** 2 at u = 2, v = 1\n\n# Type the code here\nu = torch.tensor(2.0, requires_grad=True )\nv = torch.tensor(1.0, requires_grad=True)\nf = u*v + (u*v)**2\nf.backward()\nprint('The partial derivative with respect to u:', u.grad.numpy())\nprint('The partial derivative with respect to v:', v.grad.numpy())",
            "execution_count": 20,
            "outputs": [
                {
                    "name": "stdout",
                    "output_type": "stream",
                    "text": "The partial derivative with respect to u: 5.0\nThe partial derivative with respect to v: 10.0\n"
                }
            ]
        },
        {
            "metadata": {},
            "cell_type": "markdown",
            "source": "Double-click __here__ for the solution.\n<!-- \nu = torch.tensor(2.0, requires_grad = True)\nv = torch.tensor(1.0, requires_grad = True)\nf = u * v + (u * v) ** 2\nf.backward()\nprint(\"The result is \", u.grad)\n -->"
        },
        {
            "metadata": {},
            "cell_type": "markdown",
            "source": "<!--Empty Space for separating topics-->"
        },
        {
            "metadata": {},
            "cell_type": "markdown",
            "source": "<a href=\"http://cocl.us/pytorch_link_bottom\">\n    <img src=\"https://s3-api.us-geo.objectstorage.softlayer.net/cf-courses-data/CognitiveClass/DL0110EN/notebook_images%20/notebook_bottom%20.png\" width=\"750\" alt=\"PyTorch Bottom\" />\n</a>"
        },
        {
            "metadata": {},
            "cell_type": "markdown",
            "source": "<h2>About the Authors:</h2> \n\n<a href=\"https://www.linkedin.com/in/joseph-s-50398b136/\">Joseph Santarcangelo</a> has a PhD in Electrical Engineering, his research focused on using machine learning, signal processing, and computer vision to determine how videos impact human cognition. Joseph has been working for IBM since he completed his PhD."
        },
        {
            "metadata": {},
            "cell_type": "markdown",
            "source": "Other contributors: <a href=\"https://www.linkedin.com/in/michelleccarey/\">Michelle Carey</a>, <a href=\"www.linkedin.com/in/jiahui-mavis-zhou-a4537814a\">Mavis Zhou</a> "
        },
        {
            "metadata": {},
            "cell_type": "markdown",
            "source": "<hr>"
        },
        {
            "metadata": {},
            "cell_type": "markdown",
            "source": "Copyright &copy; 2018 <a href=\"cognitiveclass.ai?utm_source=bducopyrightlink&utm_medium=dswb&utm_campaign=bdu\">cognitiveclass.ai</a>. This notebook and its source code are released under the terms of the <a href=\"https://bigdatauniversity.com/mit-license/\">MIT License</a>."
        }
    ],
    "metadata": {
        "kernelspec": {
            "name": "python3",
            "display_name": "Python 3.6",
            "language": "python"
        },
        "language_info": {
            "name": "python",
            "version": "3.6.9",
            "mimetype": "text/x-python",
            "codemirror_mode": {
                "name": "ipython",
                "version": 3
            },
            "pygments_lexer": "ipython3",
            "nbconvert_exporter": "python",
            "file_extension": ".py"
        }
    },
    "nbformat": 4,
    "nbformat_minor": 4
}