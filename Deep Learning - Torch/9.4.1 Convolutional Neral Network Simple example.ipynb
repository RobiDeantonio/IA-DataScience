{
    "cells": [
        {
            "metadata": {},
            "cell_type": "markdown",
            "source": "<img src=\"https://s3-api.us-geo.objectstorage.softlayer.net/cf-courses-data/CognitiveClass/DL0110EN/notebook_images%20/cc-logo-square.png\" width=\"200\" alt=\"cognitiveclass.ai logo\" />\n\n<h1>Convolutional Neral Network Simple example </h1> "
        },
        {
            "metadata": {},
            "cell_type": "markdown",
            "source": "\n# Table of Contents\nIn this lab, we will use a Convolutional Neral Networks to classify horizontal an vertical Lines \n\n<div class=\"alert alert-block alert-info\" style=\"margin-top: 20px\">\n<li><a href=\"#ref0\">Helper functions </a></li>\n\n<li><a href=\"#ref1\"> Prepare Data </a></li>\n<li><a href=\"#ref2\">Convolutional Neral Network </a></li>\n<li><a href=\"#ref3\">Define Softmax , Criterion function, Optimizer and Train the  Model</a></li>\n<li><a href=\"#ref4\">Analyse Results</a></li>\n\n<br>\n<p></p>\nEstimated Time Needed: <strong>25 min</strong>\n</div>\n"
        },
        {
            "metadata": {},
            "cell_type": "markdown",
            "source": "<a id=\"ref0\"></a>\n<h2 align=center>Helper functions </h2>"
        },
        {
            "metadata": {},
            "cell_type": "code",
            "source": "import torch \nimport torch.nn as nn\nimport torchvision.transforms as transforms\nimport torchvision.datasets as dsets\nimport matplotlib.pylab as plt\nimport numpy as np\nimport pandas as pd",
            "execution_count": 1,
            "outputs": []
        },
        {
            "metadata": {},
            "cell_type": "code",
            "source": "torch.manual_seed(4)",
            "execution_count": 2,
            "outputs": [
                {
                    "data": {
                        "text/plain": "<torch._C.Generator at 0x7f36a805bf30>"
                    },
                    "execution_count": 2,
                    "metadata": {},
                    "output_type": "execute_result"
                }
            ]
        },
        {
            "metadata": {},
            "cell_type": "markdown",
            "source": "function to plot out the parameters of the Convolutional layers  "
        },
        {
            "metadata": {},
            "cell_type": "code",
            "source": "def plot_channels(W):\n    #number of output channels \n    n_out=W.shape[0]\n    #number of input channels \n    n_in=W.shape[1]\n    w_min=W.min().item()\n    w_max=W.max().item()\n    fig, axes = plt.subplots(n_out,n_in)\n    fig.subplots_adjust(hspace = 0.1)\n    out_index=0\n    in_index=0\n    #plot outputs as rows inputs as columns \n    for ax in axes.flat:\n    \n        if in_index>n_in-1:\n            out_index=out_index+1\n            in_index=0\n              \n        ax.imshow(W[out_index,in_index,:,:], vmin=w_min, vmax=w_max, cmap='seismic')\n        ax.set_yticklabels([])\n        ax.set_xticklabels([])\n        in_index=in_index+1\n\n    plt.show()",
            "execution_count": 3,
            "outputs": []
        },
        {
            "metadata": {},
            "cell_type": "markdown",
            "source": "<code>show_data</code>: plot out data sample"
        },
        {
            "metadata": {},
            "cell_type": "code",
            "source": "def show_data(dataset,sample):\n\n    plt.imshow(dataset.x[sample,0,:,:].numpy(),cmap='gray')\n    plt.title('y='+str(dataset.y[sample].item()))\n    plt.show()",
            "execution_count": 4,
            "outputs": []
        },
        {
            "metadata": {},
            "cell_type": "markdown",
            "source": "create some toy data "
        },
        {
            "metadata": {},
            "cell_type": "code",
            "source": "from torch.utils.data import Dataset, DataLoader\nclass Data(Dataset):\n    def __init__(self,N_images=100,offset=0,p=0.9, train=False):\n        \"\"\"\n        p:portability that pixel is wight  \n        N_images:number of images \n        offset:set a random vertical and horizontal offset images by a sample should be less than 3 \n        \"\"\"\n        if train==True:\n            np.random.seed(1)  \n        \n        #make images multiple of 3 \n        N_images=2*(N_images//2)\n        images=np.zeros((N_images,1,11,11))\n        start1=3\n        start2=1\n        self.y=torch.zeros(N_images).type(torch.long)\n\n        for n in range(N_images):\n            if offset>0:\n        \n                low=int(np.random.randint(low=start1, high=start1+offset, size=1))\n                high=int(np.random.randint(low=start2, high=start2+offset, size=1))\n            else:\n                low=4\n                high=1\n        \n            if n<=N_images//2:\n                self.y[n]=0\n                images[n,0,high:high+9,low:low+3]= np.random.binomial(1, p, (9,3))\n            elif  n>N_images//2:\n                self.y[n]=1\n                images[n,0,low:low+3,high:high+9] = np.random.binomial(1, p, (3,9))\n           \n        \n        \n        self.x=torch.from_numpy(images).type(torch.FloatTensor)\n        self.len=self.x.shape[0]\n        del(images)\n        np.random.seed(0)\n    def __getitem__(self,index):      \n        return self.x[index],self.y[index]\n    def __len__(self):\n        return self.len",
            "execution_count": 5,
            "outputs": []
        },
        {
            "metadata": {},
            "cell_type": "markdown",
            "source": "<code>plot_activation</code>: plot out the activations of the Convolutional layers  "
        },
        {
            "metadata": {},
            "cell_type": "code",
            "source": "def plot_activations(A,number_rows= 1,name=\"\"):\n    A=A[0,:,:,:].detach().numpy()\n    n_activations=A.shape[0]\n    \n    \n    print(n_activations)\n    A_min=A.min().item()\n    A_max=A.max().item()\n\n    if n_activations==1:\n\n        # Plot the image.\n        plt.imshow(A[0,:], vmin=A_min, vmax=A_max, cmap='seismic')\n\n    else:\n        fig, axes = plt.subplots(number_rows, n_activations//number_rows)\n        fig.subplots_adjust(hspace = 0.4)\n        for i,ax in enumerate(axes.flat):\n            if i< n_activations:\n                # Set the label for the sub-plot.\n                ax.set_xlabel( \"activation:{0}\".format(i+1))\n\n                # Plot the image.\n                ax.imshow(A[i,:], vmin=A_min, vmax=A_max, cmap='seismic')\n                ax.set_xticks([])\n                ax.set_yticks([])\n    plt.show()",
            "execution_count": 6,
            "outputs": []
        },
        {
            "metadata": {},
            "cell_type": "markdown",
            "source": "\nUtility function for computing output of convolutions\ntakes a tuple of (h,w) and returns a tuple of (h,w)"
        },
        {
            "metadata": {},
            "cell_type": "code",
            "source": "\ndef conv_output_shape(h_w, kernel_size=1, stride=1, pad=0, dilation=1):\n    #by Duane Nielsen\n    from math import floor\n    if type(kernel_size) is not tuple:\n        kernel_size = (kernel_size, kernel_size)\n    h = floor( ((h_w[0] + (2 * pad) - ( dilation * (kernel_size[0] - 1) ) - 1 )/ stride) + 1)\n    w = floor( ((h_w[1] + (2 * pad) - ( dilation * (kernel_size[1] - 1) ) - 1 )/ stride) + 1)\n    return h, w",
            "execution_count": 7,
            "outputs": []
        },
        {
            "metadata": {},
            "cell_type": "markdown",
            "source": "<a id=\"ref1\"></a>\n<h2 align=center>Prepare Data </h2> "
        },
        {
            "metadata": {},
            "cell_type": "markdown",
            "source": "Load the training dataset with 10000 samples "
        },
        {
            "metadata": {},
            "cell_type": "code",
            "source": "N_images=10000\ntrain_dataset=Data(N_images=N_images)",
            "execution_count": 8,
            "outputs": []
        },
        {
            "metadata": {},
            "cell_type": "markdown",
            "source": "Load the testing dataset"
        },
        {
            "metadata": {},
            "cell_type": "code",
            "source": "validation_dataset=Data(N_images=1000,train=False)\nvalidation_dataset",
            "execution_count": 9,
            "outputs": [
                {
                    "data": {
                        "text/plain": "<__main__.Data at 0x7f3620cc1f28>"
                    },
                    "execution_count": 9,
                    "metadata": {},
                    "output_type": "execute_result"
                }
            ]
        },
        {
            "metadata": {},
            "cell_type": "markdown",
            "source": "we can see the data type is long "
        },
        {
            "metadata": {},
            "cell_type": "markdown",
            "source": "### Data Visualization "
        },
        {
            "metadata": {},
            "cell_type": "markdown",
            "source": "Each element in the rectangular  tensor corresponds to a number representing a pixel intensity  as demonstrated by  the following image."
        },
        {
            "metadata": {},
            "cell_type": "markdown",
            "source": "We can print out the third label "
        },
        {
            "metadata": {},
            "cell_type": "code",
            "source": "show_data(train_dataset,0)",
            "execution_count": 10,
            "outputs": [
                {
                    "data": {
                        "image/png": "[encoded data removed]",
                        "text/plain": "<Figure size 432x288 with 1 Axes>"
                    },
                    "metadata": {
                        "needs_background": "light"
                    },
                    "output_type": "display_data"
                }
            ]
        },
        {
            "metadata": {},
            "cell_type": "code",
            "source": "show_data(train_dataset,N_images//2+2)",
            "execution_count": 11,
            "outputs": [
                {
                    "data": {
                        "image/png": "[encoded data removed]",
                        "text/plain": "<Figure size 432x288 with 1 Axes>"
                    },
                    "metadata": {
                        "needs_background": "light"
                    },
                    "output_type": "display_data"
                }
            ]
        },
        {
            "metadata": {},
            "cell_type": "markdown",
            "source": "we can plot the 3rd  sample "
        },
        {
            "metadata": {},
            "cell_type": "markdown",
            "source": "<a id=\"ref3\"></a>\n### Build a Convolutional Neral Network Class "
        },
        {
            "metadata": {},
            "cell_type": "markdown",
            "source": "The input image is 11 x11, the following will change the size of the activations:\n<ul>\n<il>convolutional layer</il> \n</ul>\n<ul>\n<il>max pooling layer</il> \n</ul>\n<ul>\n<il>convolutional layer </il>\n</ul>\n<ul>\n<il>max pooling layer </il>\n</ul>\n\nwith the following parameters <code>kernel_size</code>, <code>stride</code> and <code> pad</code>.\nWe use the following  lines of code to change the image before we get tot he fully connected layer "
        },
        {
            "metadata": {},
            "cell_type": "code",
            "source": "out=conv_output_shape((11,11), kernel_size=2, stride=1, pad=0, dilation=1)\nprint(out)\nout1=conv_output_shape(out, kernel_size=2, stride=1, pad=0, dilation=1)\nprint(out1)\nout2=conv_output_shape(out1, kernel_size=2, stride=1, pad=0, dilation=1)\nprint(out2)\n\nout3=conv_output_shape(out2, kernel_size=2, stride=1, pad=0, dilation=1)\nprint(out3)",
            "execution_count": 12,
            "outputs": [
                {
                    "name": "stdout",
                    "output_type": "stream",
                    "text": "(10, 10)\n(9, 9)\n(8, 8)\n(7, 7)\n"
                }
            ]
        },
        {
            "metadata": {},
            "cell_type": "markdown",
            "source": "Build a Convolutional Network class with two Convolutional layers and one fully connected layer. Pre-determine the size of the final output matrix. The parameters in the constructor are the number of output channels for the first and second layer."
        },
        {
            "metadata": {},
            "cell_type": "code",
            "source": "class CNN(nn.Module):\n    def __init__(self,out_1=2,out_2=1):\n        \n        super(CNN,self).__init__()\n        #first Convolutional layers \n        self.cnn1=nn.Conv2d(in_channels=1,out_channels=out_1,kernel_size=2,padding=0)\n        self.maxpool1=nn.MaxPool2d(kernel_size=2 ,stride=1)\n\n        #second Convolutional layers\n        self.cnn2=nn.Conv2d(in_channels=out_1,out_channels=out_2,kernel_size=2,stride=1,padding=0)\n        self.maxpool2=nn.MaxPool2d(kernel_size=2 ,stride=1)\n        #max pooling \n\n        #fully connected layer \n        self.fc1=nn.Linear(out_2*7*7,2)\n        \n    def forward(self,x):\n        #first Convolutional layers\n        x=self.cnn1(x)\n        #activation function \n        x=torch.relu(x)\n        #max pooling \n        x=self.maxpool1(x)\n        #first Convolutional layers\n        x=self.cnn2(x)\n        #activation function\n        x=torch.relu(x)\n        #max pooling\n        x=self.maxpool2(x)\n        #flatten output \n        x=x.view(x.size(0),-1)\n        #fully connected layer\n        x=self.fc1(x)\n        return x\n    \n    def activations(self,x):\n        #outputs activation this is not necessary just for fun \n        z1=self.cnn1(x)\n        a1=torch.relu(z1)\n        out=self.maxpool1(a1)\n        \n        z2=self.cnn2(out)\n        a2=torch.relu(z2)\n        out=self.maxpool2(a2)\n        out=out.view(out.size(0),-1)\n        return z1,a1,z2,a2,out        ",
            "execution_count": 13,
            "outputs": []
        },
        {
            "metadata": {},
            "cell_type": "markdown",
            "source": "<a id=\"ref3\"></a>\n<h2> Define the Convolutional Neral Network Classifier , Criterion function, Optimizer and Train the  Model  </h2> "
        },
        {
            "metadata": {},
            "cell_type": "markdown",
            "source": "There are 2 output channels for the first layer, and 1 outputs channel for the second layer "
        },
        {
            "metadata": {},
            "cell_type": "code",
            "source": "model=CNN(2,1)",
            "execution_count": 14,
            "outputs": []
        },
        {
            "metadata": {},
            "cell_type": "markdown",
            "source": "we can see the model parameters with the object "
        },
        {
            "metadata": {},
            "cell_type": "code",
            "source": "model",
            "execution_count": 15,
            "outputs": [
                {
                    "data": {
                        "text/plain": "CNN(\n  (cnn1): Conv2d(1, 2, kernel_size=(2, 2), stride=(1, 1))\n  (maxpool1): MaxPool2d(kernel_size=2, stride=1, padding=0, dilation=1, ceil_mode=False)\n  (cnn2): Conv2d(2, 1, kernel_size=(2, 2), stride=(1, 1))\n  (maxpool2): MaxPool2d(kernel_size=2, stride=1, padding=0, dilation=1, ceil_mode=False)\n  (fc1): Linear(in_features=49, out_features=2, bias=True)\n)"
                    },
                    "execution_count": 15,
                    "metadata": {},
                    "output_type": "execute_result"
                }
            ]
        },
        {
            "metadata": {},
            "cell_type": "markdown",
            "source": "Plot the model parameters for the kernels before training the kernels. The kernels are initialized randomly."
        },
        {
            "metadata": {},
            "cell_type": "code",
            "source": "\nplot_channels(model.state_dict()['cnn1.weight'])\n",
            "execution_count": 16,
            "outputs": [
                {
                    "data": {
                        "image/png": "[encoded data removed]",
                        "text/plain": "<Figure size 432x288 with 2 Axes>"
                    },
                    "metadata": {
                        "needs_background": "light"
                    },
                    "output_type": "display_data"
                }
            ]
        },
        {
            "metadata": {},
            "cell_type": "markdown",
            "source": "Loss function "
        },
        {
            "metadata": {},
            "cell_type": "code",
            "source": "plot_channels(model.state_dict()['cnn2.weight'])",
            "execution_count": 17,
            "outputs": [
                {
                    "data": {
                        "image/png": "[encoded data removed]",
                        "text/plain": "<Figure size 432x288 with 2 Axes>"
                    },
                    "metadata": {
                        "needs_background": "light"
                    },
                    "output_type": "display_data"
                }
            ]
        },
        {
            "metadata": {},
            "cell_type": "markdown",
            "source": "Define the loss function "
        },
        {
            "metadata": {},
            "cell_type": "code",
            "source": "criterion=nn.CrossEntropyLoss()",
            "execution_count": 18,
            "outputs": []
        },
        {
            "metadata": {},
            "cell_type": "markdown",
            "source": " optimizer class "
        },
        {
            "metadata": {},
            "cell_type": "code",
            "source": "learning_rate=0.001\n\noptimizer = torch.optim.Adam(model.parameters(), lr=learning_rate)",
            "execution_count": 19,
            "outputs": []
        },
        {
            "metadata": {},
            "cell_type": "markdown",
            "source": "Define the optimizer class "
        },
        {
            "metadata": {},
            "cell_type": "code",
            "source": "\ntrain_loader=torch.utils.data.DataLoader(dataset=train_dataset,batch_size=10)\nvalidation_loader=torch.utils.data.DataLoader(dataset=validation_dataset,batch_size=20)",
            "execution_count": 20,
            "outputs": []
        },
        {
            "metadata": {},
            "cell_type": "markdown",
            "source": "Train the model and determine validation accuracy technically test accuracy **(This may take a long time)**"
        },
        {
            "metadata": {},
            "cell_type": "code",
            "source": "n_epochs=10\ncost_list=[]\naccuracy_list=[]\nN_test=len(validation_dataset)\ncost=0\n#n_epochs\nfor epoch in range(n_epochs):\n    cost=0    \n    for x, y in train_loader:\n      \n\n        #clear gradient \n        optimizer.zero_grad()\n        #make a prediction \n        z=model(x)\n        # calculate loss \n        loss=criterion(z,y)\n        # calculate gradients of parameters \n        loss.backward()\n        # update parameters \n        optimizer.step()\n        cost+=loss.item()\n    cost_list.append(cost)\n        \n        \n    correct=0\n    #perform a prediction on the validation  data  \n    for x_test, y_test in validation_loader:\n\n        z=model(x_test)\n        _,yhat=torch.max(z.data,1)\n\n        correct+=(yhat==y_test).sum().item()\n        \n\n    accuracy=correct/N_test\n\n    accuracy_list.append(accuracy)\n    \n\n",
            "execution_count": 21,
            "outputs": []
        },
        {
            "metadata": {},
            "cell_type": "markdown",
            "source": "#### <a id=\"ref3\"></a>\n<h2 align=center>Analyse Results</h2> "
        },
        {
            "metadata": {},
            "cell_type": "markdown",
            "source": "Plot the loss and accuracy on the validation data:"
        },
        {
            "metadata": {},
            "cell_type": "code",
            "source": "fig, ax1 = plt.subplots()\ncolor = 'tab:red'\nax1.plot(cost_list,color=color)\nax1.set_xlabel('epoch',color=color)\nax1.set_ylabel('total loss',color=color)\nax1.tick_params(axis='y', color=color)\n    \nax2 = ax1.twinx()  \ncolor = 'tab:blue'\nax2.set_ylabel('accuracy', color=color)  \nax2.plot( accuracy_list, color=color)\nax2.tick_params(axis='y', labelcolor=color)\nfig.tight_layout()",
            "execution_count": 22,
            "outputs": [
                {
                    "data": {
                        "image/png": "[encoded data removed]",
                        "text/plain": "<Figure size 432x288 with 2 Axes>"
                    },
                    "metadata": {
                        "needs_background": "light"
                    },
                    "output_type": "display_data"
                }
            ]
        },
        {
            "metadata": {},
            "cell_type": "markdown",
            "source": "View the results of the parameters for the Convolutional layers "
        },
        {
            "metadata": {},
            "cell_type": "code",
            "source": "model.state_dict()['cnn1.weight']",
            "execution_count": 23,
            "outputs": [
                {
                    "data": {
                        "text/plain": "tensor([[[[ 0.3253,  0.4508],\n          [-0.1418, -0.2315]]],\n\n\n        [[[-0.4218, -0.2659],\n          [ 0.9496,  0.8850]]]])"
                    },
                    "execution_count": 23,
                    "metadata": {},
                    "output_type": "execute_result"
                }
            ]
        },
        {
            "metadata": {},
            "cell_type": "code",
            "source": "plot_channels(model.state_dict()['cnn1.weight'])",
            "execution_count": 24,
            "outputs": [
                {
                    "data": {
                        "image/png": "[encoded data removed]",
                        "text/plain": "<Figure size 432x288 with 2 Axes>"
                    },
                    "metadata": {
                        "needs_background": "light"
                    },
                    "output_type": "display_data"
                }
            ]
        },
        {
            "metadata": {},
            "cell_type": "code",
            "source": "model.state_dict()['cnn1.weight']",
            "execution_count": 25,
            "outputs": [
                {
                    "data": {
                        "text/plain": "tensor([[[[ 0.3253,  0.4508],\n          [-0.1418, -0.2315]]],\n\n\n        [[[-0.4218, -0.2659],\n          [ 0.9496,  0.8850]]]])"
                    },
                    "execution_count": 25,
                    "metadata": {},
                    "output_type": "execute_result"
                }
            ]
        },
        {
            "metadata": {},
            "cell_type": "code",
            "source": "plot_channels(model.state_dict()['cnn2.weight'])",
            "execution_count": 26,
            "outputs": [
                {
                    "data": {
                        "image/png": "[encoded data removed]",
                        "text/plain": "<Figure size 432x288 with 2 Axes>"
                    },
                    "metadata": {
                        "needs_background": "light"
                    },
                    "output_type": "display_data"
                }
            ]
        },
        {
            "metadata": {},
            "cell_type": "markdown",
            "source": "Consider the following sample "
        },
        {
            "metadata": {},
            "cell_type": "code",
            "source": "show_data(train_dataset,N_images//2+2)",
            "execution_count": 27,
            "outputs": [
                {
                    "data": {
                        "image/png": "[encoded data removed]",
                        "text/plain": "<Figure size 432x288 with 1 Axes>"
                    },
                    "metadata": {
                        "needs_background": "light"
                    },
                    "output_type": "display_data"
                }
            ]
        },
        {
            "metadata": {},
            "cell_type": "markdown",
            "source": "Determine the activations "
        },
        {
            "metadata": {},
            "cell_type": "code",
            "source": "out=model.activations(train_dataset[N_images//2+2][0].view(1,1,11,11))\nout=model.activations(train_dataset[0][0].view(1,1,11,11))",
            "execution_count": 28,
            "outputs": []
        },
        {
            "metadata": {},
            "cell_type": "markdown",
            "source": "Plot them out"
        },
        {
            "metadata": {},
            "cell_type": "code",
            "source": "plot_activations(out[0],number_rows=1,name=\" feature map\")\nplt.show()\n",
            "execution_count": 29,
            "outputs": [
                {
                    "name": "stdout",
                    "output_type": "stream",
                    "text": "2\n"
                },
                {
                    "data": {
                        "image/png": "[encoded data removed]",
                        "text/plain": "<Figure size 432x288 with 2 Axes>"
                    },
                    "metadata": {},
                    "output_type": "display_data"
                }
            ]
        },
        {
            "metadata": {},
            "cell_type": "code",
            "source": "plot_activations(out[2],number_rows=1,name=\"2nd feature map\")\nplt.show()",
            "execution_count": 30,
            "outputs": [
                {
                    "name": "stdout",
                    "output_type": "stream",
                    "text": "1\n"
                },
                {
                    "data": {
                        "image/png": "[encoded data removed]",
                        "text/plain": "<Figure size 432x288 with 1 Axes>"
                    },
                    "metadata": {
                        "needs_background": "light"
                    },
                    "output_type": "display_data"
                }
            ]
        },
        {
            "metadata": {},
            "cell_type": "code",
            "source": "plot_activations(out[3],number_rows=1,name=\"first feature map\")\nplt.show()",
            "execution_count": 31,
            "outputs": [
                {
                    "name": "stdout",
                    "output_type": "stream",
                    "text": "1\n"
                },
                {
                    "data": {
                        "image/png": "[encoded data removed]",
                        "text/plain": "<Figure size 432x288 with 1 Axes>"
                    },
                    "metadata": {
                        "needs_background": "light"
                    },
                    "output_type": "display_data"
                }
            ]
        },
        {
            "metadata": {},
            "cell_type": "markdown",
            "source": "we save the output of the activation after flattening  "
        },
        {
            "metadata": {},
            "cell_type": "code",
            "source": "out1=out[4][0].detach().numpy()",
            "execution_count": 32,
            "outputs": []
        },
        {
            "metadata": {},
            "cell_type": "markdown",
            "source": "we can do the same for a sample  where y=0 "
        },
        {
            "metadata": {},
            "cell_type": "code",
            "source": "out0=model.activations(train_dataset[100][0].view(1,1,11,11))[4][0].detach().numpy()\nout0",
            "execution_count": 33,
            "outputs": [
                {
                    "data": {
                        "text/plain": "array([0.7358585 , 1.5187367 , 2.1036825 , 2.202339  , 2.202339  ,\n       1.9765741 , 0.9449974 , 0.5976124 , 1.4159722 , 2.0133903 ,\n       2.0754225 , 2.0754225 , 1.6251111 , 0.77718395, 0.5976124 ,\n       1.2777262 , 1.6882929 , 1.6882929 , 1.6882929 , 1.4572977 ,\n       0.77718395, 0.5976124 , 1.2777262 , 1.7256893 , 1.8400233 ,\n       1.8400233 , 1.5945338 , 0.847204  , 0.63500875, 1.414962  ,\n       1.7256893 , 1.8400233 , 1.8400233 , 1.5945338 , 0.93571275,\n       0.63500875, 1.414962  , 1.9067581 , 2.0004158 , 2.0004158 ,\n       1.7363496 , 1.0335062 , 0.69366723, 1.7314105 , 2.323927  ,\n       2.3275137 , 2.3275137 , 1.9896516 , 1.0335062 ], dtype=float32)"
                    },
                    "execution_count": 33,
                    "metadata": {},
                    "output_type": "execute_result"
                }
            ]
        },
        {
            "metadata": {},
            "cell_type": "code",
            "source": "plt.subplot(2, 1, 1)\nplt.plot( out1, 'b')\nplt.title('Flatted Activation Values  ')\nplt.ylabel('Activation')\nplt.xlabel('index')\nplt.subplot(2, 1, 2)\nplt.plot(out0, 'r')\nplt.xlabel('index')\nplt.ylabel('Activation')",
            "execution_count": 34,
            "outputs": [
                {
                    "data": {
                        "text/plain": "Text(0, 0.5, 'Activation')"
                    },
                    "execution_count": 34,
                    "metadata": {},
                    "output_type": "execute_result"
                },
                {
                    "data": {
                        "image/png": "[encoded data removed]",
                        "text/plain": "<Figure size 432x288 with 2 Axes>"
                    },
                    "metadata": {
                        "needs_background": "light"
                    },
                    "output_type": "display_data"
                }
            ]
        },
        {
            "metadata": {},
            "cell_type": "markdown",
            "source": "### About the Authors:  \n[Joseph Santarcangelo]( https://www.linkedin.com/in/joseph-s-50398b136/) has a PhD in Electrical Engineering. His research focused on using machine learning, signal processing, and computer vision to determine how videos impact human cognition. \n\nOther contributors: [Michelle Carey](  https://www.linkedin.com/in/michelleccarey/) "
        },
        {
            "metadata": {},
            "cell_type": "markdown",
            "source": "  <hr>\nCopyright &copy; 2018 [cognitiveclass.ai](cognitiveclass.ai?utm_source=bducopyrightlink&utm_medium=dswb&utm_campaign=bdu). This notebook and its source code are released under the terms of the [MIT License](https://bigdatauniversity.com/mit-license/)."
        },
        {
            "metadata": {},
            "cell_type": "code",
            "source": "",
            "execution_count": null,
            "outputs": []
        }
    ],
    "metadata": {
        "kernelspec": {
            "name": "python3",
            "display_name": "Python 3.6",
            "language": "python"
        },
        "language_info": {
            "name": "python",
            "version": "3.6.9",
            "mimetype": "text/x-python",
            "codemirror_mode": {
                "name": "ipython",
                "version": 3
            },
            "pygments_lexer": "ipython3",
            "nbconvert_exporter": "python",
            "file_extension": ".py"
        }
    },
    "nbformat": 4,
    "nbformat_minor": 2
}