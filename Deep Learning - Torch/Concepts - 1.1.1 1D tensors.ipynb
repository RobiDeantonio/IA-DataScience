{
    "cells": [
        {
            "metadata": {},
            "cell_type": "markdown",
            "source": "<a href=\"http://cocl.us/pytorch_link_top\">\n    <img src=\"https://s3-api.us-geo.objectstorage.softlayer.net/cf-courses-data/CognitiveClass/DL0110EN/notebook_images%20/Pytochtop.png\" width=\"750\" alt=\"IBM Product \" />\n</a> "
        },
        {
            "metadata": {},
            "cell_type": "markdown",
            "source": "<img src=\"https://s3-api.us-geo.objectstorage.softlayer.net/cf-courses-data/CognitiveClass/DL0110EN/notebook_images%20/cc-logo-square.png\" width=\"200\" alt=\"cognitiveclass.ai logo\" />"
        },
        {
            "metadata": {},
            "cell_type": "markdown",
            "source": "<h1>Torch Tensors in 1D</h1>"
        },
        {
            "metadata": {},
            "cell_type": "markdown",
            "source": "<h2>Table of Contents</h2>"
        },
        {
            "metadata": {},
            "cell_type": "markdown",
            "source": "<p>In this lab, you will learn the basics of tensor operations. Tensors are an essential part of PyTorch; there are complex mathematical objects in and of themselves. Fortunately, most of the intricacies are not necessary. In this section, you will compare them to vectors and numpy arrays.</p>\n<ul>\n    <li><a href=\"#Types_Shape\">Types and Shape</a></li>\n    <li><a href=\"#Index_Slice\">Indexing and Slicing</a></li>\n    <li><a href=\"#Tensor_Func\">Tensor Functions</a></li>\n    <li><a href=\"#Tensor_Op\">Tensor Operations</a></li>\n    <li><a href=\"#Device_Op\">Device_Op Operations</a></li>\n</ul>\n\n<p>Estimated Time Needed: <b>25 min</b></p>\n<hr>"
        },
        {
            "metadata": {},
            "cell_type": "markdown",
            "source": "<h2>Preparation</h2>"
        },
        {
            "metadata": {},
            "cell_type": "markdown",
            "source": "Import the following libraries that you'll use for this lab:"
        },
        {
            "metadata": {},
            "cell_type": "code",
            "source": "!pip install torch",
            "execution_count": 1,
            "outputs": [
                {
                    "name": "stdout",
                    "output_type": "stream",
                    "text": "Requirement already satisfied: torch in /home/robi/.virtualenvs/DataScience/lib/python3.6/site-packages (1.5.1)\r\nRequirement already satisfied: numpy in /home/robi/.virtualenvs/DataScience/lib/python3.6/site-packages (from torch) (1.18.2)\r\nRequirement already satisfied: future in /home/robi/.virtualenvs/DataScience/lib/python3.6/site-packages (from torch) (0.18.2)\r\n"
                }
            ]
        },
        {
            "metadata": {
                "jupyter": {
                    "outputs_hidden": true
                }
            },
            "cell_type": "code",
            "source": "# These are the libraries will be used for this lab.\n\nimport torch \nimport numpy as np \nimport pandas as pd\n\nimport matplotlib.pyplot as plt\n%matplotlib inline  ",
            "execution_count": 2,
            "outputs": []
        },
        {
            "metadata": {},
            "cell_type": "markdown",
            "source": "Check PyTorch version:"
        },
        {
            "metadata": {
                "jupyter": {
                    "outputs_hidden": true
                }
            },
            "cell_type": "code",
            "source": "torch.__version__",
            "execution_count": 3,
            "outputs": [
                {
                    "data": {
                        "text/plain": "'1.5.1'"
                    },
                    "execution_count": 3,
                    "metadata": {},
                    "output_type": "execute_result"
                }
            ]
        },
        {
            "metadata": {},
            "cell_type": "markdown",
            "source": "This is the function for plotting diagrams. You will use this function to plot the vectors in Coordinate system."
        },
        {
            "metadata": {
                "jupyter": {
                    "outputs_hidden": false
                }
            },
            "cell_type": "code",
            "source": "# Plot vecotrs, please keep the parameters in the same length\n# @param: Vectors = [{\"vector\": vector variable, \"name\": name of vector, \"color\": color of the vector on diagram}]\n    \ndef plotVec(vectors):\n    ax = plt.axes()\n    \n    # For loop to draw the vectors\n    for vec in vectors:\n        ax.arrow(0, 0, *vec[\"vector\"], head_width = 0.05,color = vec[\"color\"], head_length = 0.1)\n        plt.text(*(vec[\"vector\"] + 0.1), vec[\"name\"])\n    \n    plt.ylim(-2,2)\n    plt.xlim(-2,2)",
            "execution_count": 4,
            "outputs": []
        },
        {
            "metadata": {},
            "cell_type": "markdown",
            "source": "<!--Empty Space for separating topics-->"
        },
        {
            "metadata": {},
            "cell_type": "markdown",
            "source": "<h2 id=\"Types_Shape\">Types and Shape</h2>"
        },
        {
            "metadata": {},
            "cell_type": "markdown",
            "source": "You can find the type of the following list of integers <i>[0, 1, 2, 3, 4]</i> by applying the constructor <code>torch.tensor()</code>:"
        },
        {
            "metadata": {
                "jupyter": {
                    "outputs_hidden": false
                }
            },
            "cell_type": "code",
            "source": "# Convert a integer list with length 5 to a tensor\n\nints_to_tensor = torch.tensor([0, 1, 2, 3, 4])\nprint(\"The dtype of tensor object after converting it to tensor: \", ints_to_tensor.dtype)\nprint(\"The type of tensor object after converting it to tensor: \", ints_to_tensor.type())",
            "execution_count": 5,
            "outputs": [
                {
                    "name": "stdout",
                    "output_type": "stream",
                    "text": "The dtype of tensor object after converting it to tensor:  torch.int64\nThe type of tensor object after converting it to tensor:  torch.LongTensor\n"
                }
            ]
        },
        {
            "metadata": {},
            "cell_type": "markdown",
            "source": "As a result, the integer list has been converted to a long tensor."
        },
        {
            "metadata": {},
            "cell_type": "markdown",
            "source": "The Python type is still <code>torch.Tensor</code>:"
        },
        {
            "metadata": {},
            "cell_type": "code",
            "source": "type(ints_to_tensor)",
            "execution_count": 6,
            "outputs": [
                {
                    "data": {
                        "text/plain": "torch.Tensor"
                    },
                    "execution_count": 6,
                    "metadata": {},
                    "output_type": "execute_result"
                }
            ]
        },
        {
            "metadata": {},
            "cell_type": "markdown",
            "source": "<!--Empty Space for separate topics-->"
        },
        {
            "metadata": {},
            "cell_type": "markdown",
            "source": "You can find the type of this float list <i>[0.0, 1.0, 2.0, 3.0, 4.0]</i> by applying the method <code>torch.tensor()</code>:"
        },
        {
            "metadata": {
                "jupyter": {
                    "outputs_hidden": false
                }
            },
            "cell_type": "code",
            "source": "# Convert a float list with length 5 to a tensor\n\nfloats_to_tensor = torch.tensor([0.0, 1.0, 2.0, 3.0, 4.0])\nprint(\"The dtype of tensor object after converting it to tensor: \", floats_to_tensor.dtype)\nprint(\"The type of tensor object after converting it to tensor: \", floats_to_tensor.type())",
            "execution_count": 7,
            "outputs": [
                {
                    "name": "stdout",
                    "output_type": "stream",
                    "text": "The dtype of tensor object after converting it to tensor:  torch.float32\nThe type of tensor object after converting it to tensor:  torch.FloatTensor\n"
                }
            ]
        },
        {
            "metadata": {},
            "cell_type": "markdown",
            "source": "The float list is converted to a float tensor."
        },
        {
            "metadata": {},
            "cell_type": "code",
            "source": "list_floats=[0.0, 1.0, 2.0, 3.0, 4.0]\n\nfloats_int_tensor=torch.tensor(list_floats,dtype=torch.int64)",
            "execution_count": 8,
            "outputs": []
        },
        {
            "metadata": {},
            "cell_type": "code",
            "source": "print(\"The dtype of tensor object is: \", floats_int_tensor.dtype)\nprint(\"The type of tensor object is: \", floats_int_tensor.type())",
            "execution_count": 9,
            "outputs": [
                {
                    "name": "stdout",
                    "output_type": "stream",
                    "text": "The dtype of tensor object is:  torch.int64\nThe type of tensor object is:  torch.LongTensor\n"
                }
            ]
        },
        {
            "metadata": {},
            "cell_type": "markdown",
            "source": "<b>Note: The elements in the list that will be converted to tensor must have the same type.</b>"
        },
        {
            "metadata": {},
            "cell_type": "markdown",
            "source": "<!--Empty Space for separating topics-->"
        },
        {
            "metadata": {},
            "cell_type": "markdown",
            "source": "From the previous examples, you see that <code>torch.tensor()</code> converts the list to the tensor type, which is similar to the original list type. However, what if you want to convert the list to a certain tensor type? <code>torch</code> contains the methods required to do this conversion. The following code  converts an integer list to float tensor:"
        },
        {
            "metadata": {},
            "cell_type": "code",
            "source": "# Convert a integer list with length 5 to float tensor\n\nnew_float_tensor = torch.FloatTensor([0, 1, 2, 3, 4])\nnew_float_tensor.type()\nprint(\"The type of the new_float_tensor:\", new_float_tensor.type())",
            "execution_count": 10,
            "outputs": [
                {
                    "name": "stdout",
                    "output_type": "stream",
                    "text": "The type of the new_float_tensor: torch.FloatTensor\n"
                }
            ]
        },
        {
            "metadata": {},
            "cell_type": "code",
            "source": "new_float_tensor = torch.FloatTensor([0, 1, 2, 3, 4])",
            "execution_count": 11,
            "outputs": []
        },
        {
            "metadata": {},
            "cell_type": "markdown",
            "source": "<!--Empty Space for separating topics-->"
        },
        {
            "metadata": {},
            "cell_type": "markdown",
            "source": "You can also convert an existing tensor object (<code><i>tensor_obj</i></code>) to another tensor type. Convert the integer tensor to a float tensor:"
        },
        {
            "metadata": {},
            "cell_type": "code",
            "source": "# Another method to convert the integer list to float tensor\n\nold_int_tensor = torch.tensor([0, 1, 2, 3, 4])\nnew_float_tensor = old_int_tensor.type(torch.FloatTensor)\nprint(\"The type of the new_float_tensor:\", new_float_tensor.type())",
            "execution_count": 12,
            "outputs": [
                {
                    "name": "stdout",
                    "output_type": "stream",
                    "text": "The type of the new_float_tensor: torch.FloatTensor\n"
                }
            ]
        },
        {
            "metadata": {},
            "cell_type": "markdown",
            "source": "<!--Empty Space for separating topics-->"
        },
        {
            "metadata": {},
            "cell_type": "markdown",
            "source": "The <code><i>tensor_obj</i>.size()</code> helps you to find out the size of the <code><i>tensor_obj</i></code>.\nThe <code><i>tensor_obj</i>.ndimension()</code> shows the dimension of the tensor object."
        },
        {
            "metadata": {},
            "cell_type": "code",
            "source": "# Introduce the tensor_obj.size() & tensor_ndimension.size() methods\n\nprint(\"The size of the new_float_tensor: \", new_float_tensor.size())\nprint(\"The dimension of the new_float_tensor: \",new_float_tensor.ndimension())",
            "execution_count": 13,
            "outputs": [
                {
                    "name": "stdout",
                    "output_type": "stream",
                    "text": "The size of the new_float_tensor:  torch.Size([5])\nThe dimension of the new_float_tensor:  1\n"
                }
            ]
        },
        {
            "metadata": {},
            "cell_type": "markdown",
            "source": "<!--Empty Space for separating topics-->"
        },
        {
            "metadata": {},
            "cell_type": "markdown",
            "source": "The <code><i>tensor_obj</i>.view(<i>row, column</i>)</code> is used for reshaping a tensor object.<br>"
        },
        {
            "metadata": {},
            "cell_type": "markdown",
            "source": "What if you have a tensor object with <code>torch.Size([5])</code> as a <code>new_float_tensor</code> as shown in the previous example?<br>\nAfter you execute <code>new_float_tensor.view(5, 1)</code>, the size of <code>new_float_tensor</code> will be <code>torch.Size([5, 1])</code>.<br>\nThis means that the tensor object <code>new_float_tensor</code> has been reshaped from a one-dimensional  tensor object with 5 elements to a two-dimensional tensor object with 5 rows and 1 column."
        },
        {
            "metadata": {},
            "cell_type": "code",
            "source": "# Introduce the tensor_obj.view(row, column) method\n\ntwoD_float_tensor = new_float_tensor.view(5, 1)\nprint(\"Original Size: \", new_float_tensor)\nprint(\"Size after view method\", twoD_float_tensor)",
            "execution_count": 14,
            "outputs": [
                {
                    "name": "stdout",
                    "output_type": "stream",
                    "text": "Original Size:  tensor([0., 1., 2., 3., 4.])\nSize after view method tensor([[0.],\n        [1.],\n        [2.],\n        [3.],\n        [4.]])\n"
                }
            ]
        },
        {
            "metadata": {},
            "cell_type": "markdown",
            "source": "Note that the original size is 5. The tensor after reshaping becomes a 5X1 tensor analog to a column vector."
        },
        {
            "metadata": {},
            "cell_type": "markdown",
            "source": "<b>Note: The number of elements in a tensor must remain constant after applying view.</b>"
        },
        {
            "metadata": {},
            "cell_type": "markdown",
            "source": "<!--Empty Space for separating topics-->"
        },
        {
            "metadata": {},
            "cell_type": "markdown",
            "source": "What if you have a tensor with dynamic size but you want to reshape it? You can use <b>-1</b> to do just that."
        },
        {
            "metadata": {},
            "cell_type": "code",
            "source": "# Introduce the use of -1 in tensor_obj.view(row, column) method\n\ntwoD_float_tensor = new_float_tensor.view(-1, 1)\nprint(\"Original Size: \", new_float_tensor)\nprint(\"Size after view method\", twoD_float_tensor)",
            "execution_count": 15,
            "outputs": [
                {
                    "name": "stdout",
                    "output_type": "stream",
                    "text": "Original Size:  tensor([0., 1., 2., 3., 4.])\nSize after view method tensor([[0.],\n        [1.],\n        [2.],\n        [3.],\n        [4.]])\n"
                }
            ]
        },
        {
            "metadata": {},
            "cell_type": "markdown",
            "source": "You get the same result as the previous example. The <b>-1</b> can represent any size. However, be careful because you can set only one argument as <b>-1</b>."
        },
        {
            "metadata": {},
            "cell_type": "markdown",
            "source": "<!--Empty Space for separating topics-->"
        },
        {
            "metadata": {},
            "cell_type": "markdown",
            "source": "You can also convert a <b>numpy</b> array to a <b>tensor</b>, for example: "
        },
        {
            "metadata": {},
            "cell_type": "code",
            "source": "# Convert a numpy array to a tensor\n\nnumpy_array = np.array([0.0, 1.0, 2.0, 3.0, 4.0])\nnew_tensor = torch.from_numpy(numpy_array)\n\nprint(\"The dtype of new tensor: \", new_tensor.dtype)\nprint(\"The type of new tensor: \", new_tensor.type())",
            "execution_count": 16,
            "outputs": [
                {
                    "name": "stdout",
                    "output_type": "stream",
                    "text": "The dtype of new tensor:  torch.float64\nThe type of new tensor:  torch.DoubleTensor\n"
                }
            ]
        },
        {
            "metadata": {},
            "cell_type": "markdown",
            "source": "<!--Empty Space for separating topics-->"
        },
        {
            "metadata": {},
            "cell_type": "markdown",
            "source": "Converting a <b>tensor</b> to a <b>numpy</b> is also supported in PyTorch. The syntax is shown below:"
        },
        {
            "metadata": {},
            "cell_type": "code",
            "source": "# Convert a tensor to a numpy array\n\nback_to_numpy = new_tensor.numpy()\nprint(\"The numpy array from tensor: \", back_to_numpy)\nprint(\"The dtype of numpy array: \", back_to_numpy.dtype)",
            "execution_count": 17,
            "outputs": [
                {
                    "name": "stdout",
                    "output_type": "stream",
                    "text": "The numpy array from tensor:  [0. 1. 2. 3. 4.]\nThe dtype of numpy array:  float64\n"
                }
            ]
        },
        {
            "metadata": {},
            "cell_type": "markdown",
            "source": "<code>back_to_numpy</code> and <code>new_tensor</code> still point to <code>numpy_array</code>. As a result if we change <code>numpy_array</code> both <code>back_to_numpy</code> and <code>new_tensor</code> will change. For example if we set all the elements in <code>numpy_array</code> to zeros, <code>back_to_numpy</code> and <code> new_tensor</code> will follow suit."
        },
        {
            "metadata": {},
            "cell_type": "code",
            "source": "# Set all elements in numpy array to zero \nnumpy_array[:] = 0\nprint(\"The new tensor points to numpy_array : \", new_tensor)\nprint(\"and back to numpy array points to the tensor: \", back_to_numpy)",
            "execution_count": 18,
            "outputs": [
                {
                    "name": "stdout",
                    "output_type": "stream",
                    "text": "The new tensor points to numpy_array :  tensor([0., 0., 0., 0., 0.], dtype=torch.float64)\nand back to numpy array points to the tensor:  [0. 0. 0. 0. 0.]\n"
                }
            ]
        },
        {
            "metadata": {},
            "cell_type": "markdown",
            "source": "<!--Empty Space for separating topics-->"
        },
        {
            "metadata": {},
            "cell_type": "markdown",
            "source": "<b>Pandas Series</b> can also be converted by using the numpy array that is stored in <code>pandas_series.values</code>. Note that <code>pandas_series</code> can be any pandas_series object. "
        },
        {
            "metadata": {},
            "cell_type": "code",
            "source": "# Convert a panda series to a tensor\n\npandas_series=pd.Series([0.1, 2, 0.3, 10.1])\nnew_tensor=torch.from_numpy(pandas_series.values)\nprint(\"The new tensor from numpy array: \", new_tensor)\nprint(\"The dtype of new tensor: \", new_tensor.dtype)\nprint(\"The type of new tensor: \", new_tensor.type())",
            "execution_count": 19,
            "outputs": [
                {
                    "name": "stdout",
                    "output_type": "stream",
                    "text": "The new tensor from numpy array:  tensor([ 0.1000,  2.0000,  0.3000, 10.1000], dtype=torch.float64)\nThe dtype of new tensor:  torch.float64\nThe type of new tensor:  torch.DoubleTensor\n"
                }
            ]
        },
        {
            "metadata": {},
            "cell_type": "markdown",
            "source": "consider the following tensor "
        },
        {
            "metadata": {},
            "cell_type": "code",
            "source": "this_tensor=torch.tensor([0,1, 2,3]) ",
            "execution_count": 20,
            "outputs": []
        },
        {
            "metadata": {},
            "cell_type": "markdown",
            "source": "The method <code>item()</code> returns the value of this tensor as a standard Python number. This only works for one element. "
        },
        {
            "metadata": {},
            "cell_type": "code",
            "source": "this_tensor=torch.tensor([0,1, 2,3]) \n\nprint(\"the first item is given by\",this_tensor[0].item(),\"the first tensor value is given by \",this_tensor[0])\nprint(\"the second item is given by\",this_tensor[1].item(),\"the second tensor value is given by \",this_tensor[1])\nprint(\"the third  item is given by\",this_tensor[2].item(),\"the third tensor value is given by \",this_tensor[2])",
            "execution_count": 21,
            "outputs": [
                {
                    "name": "stdout",
                    "output_type": "stream",
                    "text": "the first item is given by 0 the first tensor value is given by  tensor(0)\nthe second item is given by 1 the second tensor value is given by  tensor(1)\nthe third  item is given by 2 the third tensor value is given by  tensor(2)\n"
                }
            ]
        },
        {
            "metadata": {},
            "cell_type": "markdown",
            "source": "we can use the method <code> tolist()</code> to return a list "
        },
        {
            "metadata": {},
            "cell_type": "code",
            "source": "torch_to_list=this_tensor.tolist()\n\nprint('tensor:', this_tensor,\"\\nlist:\",torch_to_list)",
            "execution_count": 22,
            "outputs": [
                {
                    "name": "stdout",
                    "output_type": "stream",
                    "text": "tensor: tensor([0, 1, 2, 3]) \nlist: [0, 1, 2, 3]\n"
                }
            ]
        },
        {
            "metadata": {},
            "cell_type": "markdown",
            "source": "<!--Empty Space for separating topics-->"
        },
        {
            "metadata": {},
            "cell_type": "markdown",
            "source": "<h3>Practice</h3>"
        },
        {
            "metadata": {},
            "cell_type": "markdown",
            "source": "Try to convert <code>your_tensor</code> to a 1X5 tensor."
        },
        {
            "metadata": {},
            "cell_type": "code",
            "source": "# Practice: convert the following tensor to a tensor object with 1 row and 5 columns\n\nyour_tensor = torch.tensor([1, 2, 3, 4, 5])",
            "execution_count": 23,
            "outputs": []
        },
        {
            "metadata": {},
            "cell_type": "markdown",
            "source": "Double-click <b>here</b> for the solution.\n<!-- \nyour_new_tensor = your_tensor.view(1, 5)\nprint(\"Original Size: \", your_tensor)\nprint(\"Size after view method\", your_new_tensor)\n-->"
        },
        {
            "metadata": {},
            "cell_type": "markdown",
            "source": "<!--Empty Space for separating topics-->"
        },
        {
            "metadata": {},
            "cell_type": "markdown",
            "source": "<h2 id=\"Index_Slice\">Indexing and Slicing</h2>"
        },
        {
            "metadata": {},
            "cell_type": "markdown",
            "source": "In Python, <b>the index starts with 0</b>. Therefore, the last index will always be 1 less than the length of the tensor object.\nYou can access the value on a certain index by using the square bracket, for example:"
        },
        {
            "metadata": {},
            "cell_type": "code",
            "source": "# A tensor for showing how the indexs work on tensors\n\nindex_tensor = torch.tensor([0, 1, 2, 3, 4])\nprint(\"The value on index 0:\",index_tensor[0])\nprint(\"The value on index 1:\",index_tensor[1])\nprint(\"The value on index 2:\",index_tensor[2])\nprint(\"The value on index 3:\",index_tensor[3])\nprint(\"The value on index 4:\",index_tensor[4])",
            "execution_count": 24,
            "outputs": [
                {
                    "name": "stdout",
                    "output_type": "stream",
                    "text": "The value on index 0: tensor(0)\nThe value on index 1: tensor(1)\nThe value on index 2: tensor(2)\nThe value on index 3: tensor(3)\nThe value on index 4: tensor(4)\n"
                }
            ]
        },
        {
            "metadata": {},
            "cell_type": "markdown",
            "source": "<b>Note that the <code>index_tensor[5]</code> will create an error.</b>"
        },
        {
            "metadata": {},
            "cell_type": "markdown",
            "source": "<!--Empty Space for separating topics-->"
        },
        {
            "metadata": {},
            "cell_type": "markdown",
            "source": "The index is shown in the following figure: "
        },
        {
            "metadata": {},
            "cell_type": "markdown",
            "source": "<img src=\"https://s3-api.us-geo.objectstorage.softlayer.net/cf-courses-data/CognitiveClass/DL0110EN/notebook_images%20/chapter%201/idex_1.png\" width=\"500\" alt=\"Python Index\" />"
        },
        {
            "metadata": {},
            "cell_type": "markdown",
            "source": "<!--Empty Space for separating topics-->"
        },
        {
            "metadata": {},
            "cell_type": "markdown",
            "source": "Now, you'll see how to change the values on certain indexes."
        },
        {
            "metadata": {},
            "cell_type": "markdown",
            "source": "Suppose you have a tensor as shown here: "
        },
        {
            "metadata": {
                "jupyter": {
                    "outputs_hidden": false
                }
            },
            "cell_type": "code",
            "source": "# A tensor for showing how to change value according to the index\n\ntensor_sample = torch.tensor([20, 1, 2, 3, 4])",
            "execution_count": 25,
            "outputs": []
        },
        {
            "metadata": {},
            "cell_type": "markdown",
            "source": "Assign the value on index 0 as 100:"
        },
        {
            "metadata": {
                "jupyter": {
                    "outputs_hidden": false
                }
            },
            "cell_type": "code",
            "source": "# Change the value on the index 0 to 100\n\nprint(\"Inital value on index 0:\", tensor_sample[0])\ntensor_sample[0] = 100\nprint(\"Modified tensor:\", tensor_sample)",
            "execution_count": 26,
            "outputs": [
                {
                    "name": "stdout",
                    "output_type": "stream",
                    "text": "Inital value on index 0: tensor(20)\nModified tensor: tensor([100,   1,   2,   3,   4])\n"
                }
            ]
        },
        {
            "metadata": {},
            "cell_type": "markdown",
            "source": "As you can see, the value on index 0 changes. Change the value on index 4 to 0:"
        },
        {
            "metadata": {
                "jupyter": {
                    "outputs_hidden": false
                }
            },
            "cell_type": "code",
            "source": "# Change the value on the index 4 to 0\n\nprint(\"Inital value on index 4:\", tensor_sample[4])\ntensor_sample[4] = 0\nprint(\"Modified tensor:\", tensor_sample)",
            "execution_count": 27,
            "outputs": [
                {
                    "name": "stdout",
                    "output_type": "stream",
                    "text": "Inital value on index 4: tensor(4)\nModified tensor: tensor([100,   1,   2,   3,   0])\n"
                }
            ]
        },
        {
            "metadata": {},
            "cell_type": "markdown",
            "source": "The value on index 4 turns to 0."
        },
        {
            "metadata": {},
            "cell_type": "markdown",
            "source": "<!--Empty Space for separating topics-->"
        },
        {
            "metadata": {},
            "cell_type": "markdown",
            "source": "If you are familiar with Python, you know that there is a feature called slicing on a list. Tensors support the same feature. "
        },
        {
            "metadata": {},
            "cell_type": "markdown",
            "source": "Get the subset of <code>tensor_sample</code>. The subset should contain the values in <code>tensor_sample</code> from index 1 to index 3."
        },
        {
            "metadata": {
                "jupyter": {
                    "outputs_hidden": false
                }
            },
            "cell_type": "code",
            "source": "# Slice tensor_sample\n\nsubset_tensor_sample = tensor_sample[1:4]\nprint(\"Original tensor sample: \", tensor_sample)\nprint(\"The subset of tensor sample:\", subset_tensor_sample)",
            "execution_count": 28,
            "outputs": [
                {
                    "name": "stdout",
                    "output_type": "stream",
                    "text": "Original tensor sample:  tensor([100,   1,   2,   3,   0])\nThe subset of tensor sample: tensor([1, 2, 3])\n"
                }
            ]
        },
        {
            "metadata": {},
            "cell_type": "markdown",
            "source": "As a result, the <code>subset_tensor_sample</code> returned only the values on index 1, index 2, and index 3. Then, it stored them in a <code>subset_tensor_sample</code>."
        },
        {
            "metadata": {},
            "cell_type": "markdown",
            "source": "<b>Note: The number on the left side of the colon represents the index of the first value. The number on the right side of the colon is always 1 larger than the index of the last value. For example, <code>tensor_sample[1:4]</code> means you get values from the index 1 to index 3 <i>(4-1)</i></b>."
        },
        {
            "metadata": {},
            "cell_type": "markdown",
            "source": "<!--Empty Space for separating topics-->"
        },
        {
            "metadata": {},
            "cell_type": "markdown",
            "source": "As for assigning values to the certain index, you can also assign the value to the slices:"
        },
        {
            "metadata": {},
            "cell_type": "markdown",
            "source": "Change the value of <code>tensor_sample</code> from index 3 to index 4:"
        },
        {
            "metadata": {},
            "cell_type": "code",
            "source": "# Change the values on index 3 and index 4\n\nprint(\"Inital value on index 3 and index 4:\", tensor_sample[3:5])\ntensor_sample[3:5] = torch.tensor([300.0, 400.0])\nprint(\"Modified tensor:\", tensor_sample)",
            "execution_count": 29,
            "outputs": [
                {
                    "name": "stdout",
                    "output_type": "stream",
                    "text": "Inital value on index 3 and index 4: tensor([3, 0])\nModified tensor: tensor([100,   1,   2, 300, 400])\n"
                }
            ]
        },
        {
            "metadata": {},
            "cell_type": "markdown",
            "source": "The values on both index 3 and index 4 were changed. The values on other indexes remain the same."
        },
        {
            "metadata": {},
            "cell_type": "markdown",
            "source": "<!--Empty Space for separating topics-->"
        },
        {
            "metadata": {},
            "cell_type": "markdown",
            "source": "You can also use a variable to contain the selected indexes and pass that variable to a tensor slice operation as a parameter, for example:  "
        },
        {
            "metadata": {
                "jupyter": {
                    "outputs_hidden": true
                }
            },
            "cell_type": "code",
            "source": "# Using variable to contain the selected index, and pass it to slice operation\n\nselected_indexes = [3, 4]\nsubset_tensor_sample = tensor_sample[selected_indexes]\nprint(\"The inital tensor_sample\", tensor_sample)\nprint(\"The subset of tensor_sample with the values on index 3 and 4: \", subset_tensor_sample)",
            "execution_count": 30,
            "outputs": [
                {
                    "name": "stdout",
                    "output_type": "stream",
                    "text": "The inital tensor_sample tensor([100,   1,   2, 300, 400])\nThe subset of tensor_sample with the values on index 3 and 4:  tensor([300, 400])\n"
                }
            ]
        },
        {
            "metadata": {},
            "cell_type": "markdown",
            "source": "<!--Empty Space for separating topics-->"
        },
        {
            "metadata": {},
            "cell_type": "markdown",
            "source": "You can also assign one value to the selected indexes by using the variable. For example, assign 100,000 to all the <code>selected_indexes</code>:"
        },
        {
            "metadata": {
                "jupyter": {
                    "outputs_hidden": false
                }
            },
            "cell_type": "code",
            "source": "#Using variable to assign the value to the selected indexes\n\nprint(\"The inital tensor_sample\", tensor_sample)\nselected_indexes = [1, 3]\ntensor_sample[selected_indexes] = 100000\nprint(\"Modified tensor with one value: \", tensor_sample)",
            "execution_count": 31,
            "outputs": [
                {
                    "name": "stdout",
                    "output_type": "stream",
                    "text": "The inital tensor_sample tensor([100,   1,   2, 300, 400])\nModified tensor with one value:  tensor([   100, 100000,      2, 100000,    400])\n"
                }
            ]
        },
        {
            "metadata": {},
            "cell_type": "markdown",
            "source": "The values on index 1 and index 3 were changed to 100,000. Others remain the same."
        },
        {
            "metadata": {},
            "cell_type": "markdown",
            "source": "<b>Note: You can use only one value for the assignment.</b>"
        },
        {
            "metadata": {},
            "cell_type": "markdown",
            "source": "<!--Empty Space for separating topics-->"
        },
        {
            "metadata": {},
            "cell_type": "markdown",
            "source": "<h3>Practice</h3>"
        },
        {
            "metadata": {},
            "cell_type": "markdown",
            "source": "Try to change the values on index 3, 4, 7 of the following tensor to 0."
        },
        {
            "metadata": {},
            "cell_type": "code",
            "source": "# Practice: Change the values on index 3, 4, 7 to 0\n\npractice_tensor = torch.tensor([2, 7, 3, 4, 6, 2, 3, 1, 2])\n\npractice_tensor[1:4] = 0 # or\nselected_indexes = [3, 4, 7]\npractice_tensor[selected_indexes] = 0\n\nprint(\"New Practice Tensor: \", practice_tensor)",
            "execution_count": 32,
            "outputs": [
                {
                    "name": "stdout",
                    "output_type": "stream",
                    "text": "New Practice Tensor:  tensor([2, 0, 0, 0, 0, 2, 3, 0, 2])\n"
                }
            ]
        },
        {
            "metadata": {},
            "cell_type": "markdown",
            "source": "Double-click <b>here</b> for the solution.\n<!-- \nselected_indexes = [3, 4, 7]\npractice_tensor[selected_indexes] = 0\nprint(\"New Practice Tensor: \", practice_tensor)\n-->"
        },
        {
            "metadata": {},
            "cell_type": "markdown",
            "source": "<!--Empty Space for separating topics-->"
        },
        {
            "metadata": {},
            "cell_type": "markdown",
            "source": "\n<h2 id=\"Tensor_Func\">Tensor Functions</h2>"
        },
        {
            "metadata": {},
            "cell_type": "markdown",
            "source": "For this section, you'll work with some methods that you can apply to tensor objects."
        },
        {
            "metadata": {},
            "cell_type": "markdown",
            "source": "<h3>Mean and Standard Deviation</h3>"
        },
        {
            "metadata": {},
            "cell_type": "markdown",
            "source": "You'll review the mean and standard deviation methods first. They are two basic statistical methods."
        },
        {
            "metadata": {},
            "cell_type": "markdown",
            "source": "<!--Empty Space for separating topics-->"
        },
        {
            "metadata": {},
            "cell_type": "markdown",
            "source": "Create a tensor with values <i>[1.0, -1, 1, -1]</i>:"
        },
        {
            "metadata": {
                "jupyter": {
                    "outputs_hidden": true
                }
            },
            "cell_type": "code",
            "source": "# Sample tensor for mathmatic calculation methods on tensor\n\nmath_tensor = torch.tensor([1.0, -1.0, 1, -1])\nprint(\"Tensor example: \", math_tensor)",
            "execution_count": 33,
            "outputs": [
                {
                    "name": "stdout",
                    "output_type": "stream",
                    "text": "Tensor example:  tensor([ 1., -1.,  1., -1.])\n"
                }
            ]
        },
        {
            "metadata": {},
            "cell_type": "markdown",
            "source": "<!--Empty Space for separating topics-->"
        },
        {
            "metadata": {},
            "cell_type": "markdown",
            "source": "Here is the mean method:  "
        },
        {
            "metadata": {
                "jupyter": {
                    "outputs_hidden": false
                }
            },
            "cell_type": "code",
            "source": "#Calculate the mean for math_tensor\n\nmean = math_tensor.mean()\nprint(\"The mean of math_tensor: \", mean)",
            "execution_count": 34,
            "outputs": [
                {
                    "name": "stdout",
                    "output_type": "stream",
                    "text": "The mean of math_tensor:  tensor(0.)\n"
                }
            ]
        },
        {
            "metadata": {},
            "cell_type": "markdown",
            "source": "<!--Empty Space for separating topics-->"
        },
        {
            "metadata": {},
            "cell_type": "markdown",
            "source": "The standard deviation can also be calculated by using <code><i>tensor_obj</i>.std()</code>:"
        },
        {
            "metadata": {
                "jupyter": {
                    "outputs_hidden": false
                }
            },
            "cell_type": "code",
            "source": "#Calculate the standard deviation for math_tensor\n\nstandard_deviation = math_tensor.std()\nprint(\"The standard deviation of math_tensor: \", standard_deviation)",
            "execution_count": 35,
            "outputs": [
                {
                    "name": "stdout",
                    "output_type": "stream",
                    "text": "The standard deviation of math_tensor:  tensor(1.1547)\n"
                }
            ]
        },
        {
            "metadata": {},
            "cell_type": "markdown",
            "source": "<!--Empty Space for separating topics-->"
        },
        {
            "metadata": {},
            "cell_type": "markdown",
            "source": "<h3>Max and Min</h3>"
        },
        {
            "metadata": {},
            "cell_type": "markdown",
            "source": "Now, you'll review another two useful methods: <code><i>tensor_obj</i>.max()</code> and <code><i>tensor_obj</i>.min()</code>. These two methods are used for finding the maximum value and the minimum value in the tensor."
        },
        {
            "metadata": {},
            "cell_type": "markdown",
            "source": "<!--Empty Space for separating topics-->"
        },
        {
            "metadata": {},
            "cell_type": "markdown",
            "source": "Create a <code>max_min_tensor</code>: "
        },
        {
            "metadata": {
                "jupyter": {
                    "outputs_hidden": false
                }
            },
            "cell_type": "code",
            "source": "# Sample for introducing max and min methods\n\nmax_min_tensor = torch.tensor([1, 1, 3, 5, 5])\nprint(\"Tensor example: \", max_min_tensor)",
            "execution_count": 36,
            "outputs": [
                {
                    "name": "stdout",
                    "output_type": "stream",
                    "text": "Tensor example:  tensor([1, 1, 3, 5, 5])\n"
                }
            ]
        },
        {
            "metadata": {},
            "cell_type": "markdown",
            "source": "<b>Note: There are two minimum numbers as 1 and two maximum numbers as 5 in the tensor. Can you guess how PyTorch is going to deal with the duplicates?</b>"
        },
        {
            "metadata": {},
            "cell_type": "markdown",
            "source": "<!--Empty Space for separating topics-->"
        },
        {
            "metadata": {},
            "cell_type": "markdown",
            "source": "Apply <code><i>tensor_obj</i>.max()</code> on <code>max_min_tensor</code>:"
        },
        {
            "metadata": {
                "jupyter": {
                    "outputs_hidden": false
                }
            },
            "cell_type": "code",
            "source": "# Method for finding the maximum value in the tensor\n\nmax_val = max_min_tensor.max()\nprint(\"Maximum number in the tensor: \", max_val)",
            "execution_count": 37,
            "outputs": [
                {
                    "name": "stdout",
                    "output_type": "stream",
                    "text": "Maximum number in the tensor:  tensor(5)\n"
                }
            ]
        },
        {
            "metadata": {},
            "cell_type": "markdown",
            "source": "The answer is <code>tensor(5)</code>. Therefore, the method <code><i>tensor_obj</i>.max()</code> is grabbing the maximum value but not the elements that contain the maximum value in the tensor."
        },
        {
            "metadata": {},
            "cell_type": "code",
            "source": " max_min_tensor.max()",
            "execution_count": 38,
            "outputs": [
                {
                    "data": {
                        "text/plain": "tensor(5)"
                    },
                    "execution_count": 38,
                    "metadata": {},
                    "output_type": "execute_result"
                }
            ]
        },
        {
            "metadata": {},
            "cell_type": "markdown",
            "source": "<!--Empty Space for separating topics-->"
        },
        {
            "metadata": {},
            "cell_type": "markdown",
            "source": "Use <code><i>tensor_obj</i>.min()</code> on <code>max_min_tensor</code>:"
        },
        {
            "metadata": {
                "jupyter": {
                    "outputs_hidden": false
                }
            },
            "cell_type": "code",
            "source": "# Method for finding the minimum value in the tensor\n\nmin_val = max_min_tensor.min()\nprint(\"Minimum number in the tensor: \", min_val)",
            "execution_count": 39,
            "outputs": [
                {
                    "name": "stdout",
                    "output_type": "stream",
                    "text": "Minimum number in the tensor:  tensor(1)\n"
                }
            ]
        },
        {
            "metadata": {},
            "cell_type": "markdown",
            "source": "The answer is <code>tensor(1)</code>. Therefore, the method <code><i>tensor_obj</i>.min()</code> is grabbing the minimum value but not the elements that contain the minimum value in the tensor."
        },
        {
            "metadata": {},
            "cell_type": "markdown",
            "source": "<!--Empty Space for separating topics-->"
        },
        {
            "metadata": {},
            "cell_type": "markdown",
            "source": "<h3>Sin</h3>"
        },
        {
            "metadata": {},
            "cell_type": "markdown",
            "source": "Sin is the trigonometric function of an angle. Again, you will not be introducedvto any mathematic functions. You'll focus on Python."
        },
        {
            "metadata": {},
            "cell_type": "markdown",
            "source": "<!--Empty Space for separating topics-->"
        },
        {
            "metadata": {},
            "cell_type": "markdown",
            "source": "Create a tensor with 0, \u03c0/2 and \u03c0. Then, apply the sin function on the tensor. Notice here that the <code>sin()</code> is not a method of tensor object but is a function of torch:"
        },
        {
            "metadata": {
                "jupyter": {
                    "outputs_hidden": false
                }
            },
            "cell_type": "code",
            "source": "# Method for calculating the sin result of each element in the tensor\n\npi_tensor = torch.tensor([0, np.pi/2, np.pi])\nsin = torch.sin(pi_tensor)\nprint(\"The sin result of pi_tensor: \", sin)",
            "execution_count": 40,
            "outputs": [
                {
                    "name": "stdout",
                    "output_type": "stream",
                    "text": "The sin result of pi_tensor:  tensor([ 0.0000e+00,  1.0000e+00, -8.7423e-08])\n"
                }
            ]
        },
        {
            "metadata": {},
            "cell_type": "markdown",
            "source": "The resultant tensor <code>sin</code> contains the result of the <code>sin</code> function applied to each element in the <code>pi_tensor</code>.<br>\nThis is different from the previous methods. For <code><i>tensor_obj</i>.mean()</code>, <code><i>tensor_obj</i>.std()</code>, <code><i>tensor_obj</i>.max()</code>, and <code><i>tensor_obj</i>.min()</code>, the result is a tensor with only one number because these are aggregate methods.<br>\nHowever, the <code>torch.sin()</code> is not. Therefore, the resultant tensors have the same length as the input tensor."
        },
        {
            "metadata": {},
            "cell_type": "markdown",
            "source": "<!--Empty Space for separating topics-->"
        },
        {
            "metadata": {},
            "cell_type": "markdown",
            "source": "<h3>Create Tensor by <code>torch.linspace()</code></h3>"
        },
        {
            "metadata": {},
            "cell_type": "markdown",
            "source": "A useful function for plotting mathematical functions is <code>torch.linspace()</code>. <code>torch.linspace()</code> returns evenly spaced numbers over a specified interval. You specify the starting point of the sequence and the ending point of the sequence. The parameter <code>steps</code> indicates the number of samples to generate. Now, you'll work with <code>steps = 5</code>."
        },
        {
            "metadata": {
                "jupyter": {
                    "outputs_hidden": false
                }
            },
            "cell_type": "code",
            "source": "# First try on using linspace to create tensor\n\nlen_5_tensor = torch.linspace(-2, 2, steps = 5)\nprint (\"First Try on linspace\", len_5_tensor)",
            "execution_count": 41,
            "outputs": [
                {
                    "name": "stdout",
                    "output_type": "stream",
                    "text": "First Try on linspace tensor([-2., -1.,  0.,  1.,  2.])\n"
                }
            ]
        },
        {
            "metadata": {},
            "cell_type": "markdown",
            "source": "<!--Empty Space for separating topics-->"
        },
        {
            "metadata": {},
            "cell_type": "markdown",
            "source": "Assign <code>steps</code> with 9:"
        },
        {
            "metadata": {
                "jupyter": {
                    "outputs_hidden": false
                }
            },
            "cell_type": "code",
            "source": "# Second try on using linspace to create tensor\n\nlen_9_tensor = torch.linspace(-2, 2, steps = 9)\nprint (\"Second Try on linspace\", len_9_tensor)",
            "execution_count": 42,
            "outputs": [
                {
                    "name": "stdout",
                    "output_type": "stream",
                    "text": "Second Try on linspace tensor([-2.0000, -1.5000, -1.0000, -0.5000,  0.0000,  0.5000,  1.0000,  1.5000,\n         2.0000])\n"
                }
            ]
        },
        {
            "metadata": {},
            "cell_type": "markdown",
            "source": "<!--Empty Space for separating topics-->"
        },
        {
            "metadata": {},
            "cell_type": "markdown",
            "source": "Use both <code>torch.linspace()</code> and <code>torch.sin()</code> to construct a tensor that contains the 100 sin result in range from 0 (0 degree) to 2\u03c0 (360 degree): "
        },
        {
            "metadata": {
                "jupyter": {
                    "outputs_hidden": false
                }
            },
            "cell_type": "code",
            "source": "# Construct the tensor within 0 to 360 degree\n\npi_tensor = torch.linspace(0, 2*np.pi, 100)\nsin_result = torch.sin(pi_tensor)",
            "execution_count": 43,
            "outputs": []
        },
        {
            "metadata": {},
            "cell_type": "markdown",
            "source": "Plot the result to get a clearer picture. You must cast the tensor to a numpy array before plotting it."
        },
        {
            "metadata": {
                "jupyter": {
                    "outputs_hidden": false
                }
            },
            "cell_type": "code",
            "source": "# Plot sin_result\n\nplt.plot(pi_tensor.numpy(), sin_result.numpy())",
            "execution_count": 44,
            "outputs": [
                {
                    "data": {
                        "text/plain": "[<matplotlib.lines.Line2D at 0x7f870ecf48d0>]"
                    },
                    "execution_count": 44,
                    "metadata": {},
                    "output_type": "execute_result"
                },
                {
                    "data": {
                        "image/png": "[encoded data removed]",
                        "text/plain": "<Figure size 432x288 with 1 Axes>"
                    },
                    "metadata": {
                        "needs_background": "light"
                    },
                    "output_type": "display_data"
                }
            ]
        },
        {
            "metadata": {},
            "cell_type": "markdown",
            "source": "If you know the trigonometric function, you will notice this is the diagram of the sin result in the range 0 to 360 degrees."
        },
        {
            "metadata": {},
            "cell_type": "markdown",
            "source": "<!--Empty Space for separating topics-->"
        },
        {
            "metadata": {},
            "cell_type": "markdown",
            "source": "<h3>Practice</h3>"
        },
        {
            "metadata": {},
            "cell_type": "markdown",
            "source": "Construct a tensor with 25 steps in the range 0 to \u03c0/2. Print out the Maximum and Minimum number. Also, plot  a graph showing the diagram that shows the result."
        },
        {
            "metadata": {},
            "cell_type": "code",
            "source": "# Practice: Create your tensor, print max and min number, plot the sin result diagram\n\n# Type your code here\nxvalues = torch.linspace(0, np.pi/2, 25)\nyvalues = torch.sin(xvalues)\nprint('max:',yvalues.max(),' min:',yvalues.min())\nplt.plot(xvalues.numpy(), yvalues.numpy())",
            "execution_count": 45,
            "outputs": [
                {
                    "name": "stdout",
                    "output_type": "stream",
                    "text": "max: tensor(1.)  min: tensor(0.)\n"
                },
                {
                    "data": {
                        "text/plain": "[<matplotlib.lines.Line2D at 0x7f870e7d5550>]"
                    },
                    "execution_count": 45,
                    "metadata": {},
                    "output_type": "execute_result"
                },
                {
                    "data": {
                        "image/png": "[encoded data removed]",
                        "text/plain": "<Figure size 432x288 with 1 Axes>"
                    },
                    "metadata": {
                        "needs_background": "light"
                    },
                    "output_type": "display_data"
                }
            ]
        },
        {
            "metadata": {},
            "cell_type": "markdown",
            "source": "Double-click <b>here</b> for the solution.\n<!-- \npi_tensor = torch.linspace(0, np.pi/2, 100)\nprint(\"Max Number: \", pi_tensor.max())\nprint(\"Min Number\", pi_tensor.min())\nsin_result = torch.sin(pi_tensor)\nplt.plot(pi_tensor.numpy(), sin_result.numpy())\n-->"
        },
        {
            "metadata": {},
            "cell_type": "markdown",
            "source": "<!--Empty Space for separating topics-->"
        },
        {
            "metadata": {},
            "cell_type": "markdown",
            "source": "<h2 id=\"Tensor_Op\">Tensor Operations</h2>"
        },
        {
            "metadata": {},
            "cell_type": "markdown",
            "source": "In the following section, you'll work with operations that you can apply to a tensor."
        },
        {
            "metadata": {},
            "cell_type": "markdown",
            "source": "<!--Empty Space for separating topics-->"
        },
        {
            "metadata": {},
            "cell_type": "markdown",
            "source": "<h3>Tensor Addition</h3>"
        },
        {
            "metadata": {},
            "cell_type": "markdown",
            "source": "You can perform addition between two tensors."
        },
        {
            "metadata": {},
            "cell_type": "markdown",
            "source": "Create a tensor <code>u</code> with 1 dimension and 2 elements. Then, create another tensor <code>v</code> with the same number of dimensions and the same number of elements:"
        },
        {
            "metadata": {
                "jupyter": {
                    "outputs_hidden": false
                }
            },
            "cell_type": "code",
            "source": "# Create two sample tensors\n\nu = torch.tensor([1, 0])\nv = torch.tensor([0, 1])",
            "execution_count": 46,
            "outputs": []
        },
        {
            "metadata": {},
            "cell_type": "markdown",
            "source": "Add <code>u</code> and <code>v</code> together:"
        },
        {
            "metadata": {
                "jupyter": {
                    "outputs_hidden": false
                }
            },
            "cell_type": "code",
            "source": "# Add u and v\n\nw = u + v\nprint(\"The result tensor: \", w)",
            "execution_count": 47,
            "outputs": [
                {
                    "name": "stdout",
                    "output_type": "stream",
                    "text": "The result tensor:  tensor([1, 1])\n"
                }
            ]
        },
        {
            "metadata": {},
            "cell_type": "markdown",
            "source": "The result is <code>tensor([1, 1])</code>. The behavior is <i>[1 + 0, 0 + 1]</i>."
        },
        {
            "metadata": {},
            "cell_type": "markdown",
            "source": "Plot the result to to get a clearer picture."
        },
        {
            "metadata": {
                "jupyter": {
                    "outputs_hidden": false
                }
            },
            "cell_type": "code",
            "source": "# Plot u, v, w\n\nplotVec([\n    {\"vector\": u.numpy(), \"name\": 'u', \"color\": 'r'},\n    {\"vector\": v.numpy(), \"name\": 'v', \"color\": 'b'},\n    {\"vector\": w.numpy(), \"name\": 'w', \"color\": 'g'}\n])",
            "execution_count": 48,
            "outputs": [
                {
                    "data": {
                        "image/png": "[encoded data removed]",
                        "text/plain": "<Figure size 432x288 with 1 Axes>"
                    },
                    "metadata": {
                        "needs_background": "light"
                    },
                    "output_type": "display_data"
                }
            ]
        },
        {
            "metadata": {},
            "cell_type": "markdown",
            "source": "<!--Empty Space for separating topics-->"
        },
        {
            "metadata": {},
            "cell_type": "markdown",
            "source": "<h3>Try</h3> "
        },
        {
            "metadata": {},
            "cell_type": "markdown",
            "source": "Implement the tensor subtraction with <code>u</code> and <code>v</code> as u-v."
        },
        {
            "metadata": {
                "jupyter": {
                    "outputs_hidden": false
                }
            },
            "cell_type": "code",
            "source": "# Try by yourself to get a result of u-v\n\nu = torch.tensor([1, 0])\nv = torch.tensor([0, 1])\n\nw = u-v\nprint(\"The result tensor: \", w)\n\nplotVec([\n    {'vector':u.numpy(), 'name':'u', 'color': 'r'},\n    {'vector':v.numpy(), 'name':'v', 'color': 'b'},\n    {'vector':w.numpy(), 'name':'w', 'color': 'g'}\n        \n])",
            "execution_count": 49,
            "outputs": [
                {
                    "name": "stdout",
                    "output_type": "stream",
                    "text": "The result tensor:  tensor([ 1, -1])\n"
                },
                {
                    "data": {
                        "image/png": "[encoded data removed]",
                        "text/plain": "<Figure size 432x288 with 1 Axes>"
                    },
                    "metadata": {
                        "needs_background": "light"
                    },
                    "output_type": "display_data"
                }
            ]
        },
        {
            "metadata": {},
            "cell_type": "markdown",
            "source": "Double-click <b>here</b> for the solution.\n<!--\nprint(\"The result tensor: \", u-v)\n-->"
        },
        {
            "metadata": {},
            "cell_type": "markdown",
            "source": "Tensors must be of the same data type to perform addition as well as other operations.If you uncomment the  following code and try to run it you will get an error as the two tensors are of two different data types. **NOTE This lab was created on a older PyTorch version so in the current version we are using this is possible and will produce a float64 tensor.**"
        },
        {
            "metadata": {},
            "cell_type": "code",
            "source": "torch.tensor([1,2,3],dtype=torch.int64)+torch.tensor([1,2,3],dtype=torch.float64)",
            "execution_count": 50,
            "outputs": [
                {
                    "data": {
                        "text/plain": "tensor([2., 4., 6.], dtype=torch.float64)"
                    },
                    "execution_count": 50,
                    "metadata": {},
                    "output_type": "execute_result"
                }
            ]
        },
        {
            "metadata": {},
            "cell_type": "markdown",
            "source": "<!--Empty Space for separating topics-->"
        },
        {
            "metadata": {},
            "cell_type": "markdown",
            "source": "You can add a scalar to the tensor. Use <code>u</code> as the sample tensor:"
        },
        {
            "metadata": {},
            "cell_type": "code",
            "source": "# tensor + scalar\n\nu = torch.tensor([1, 2, 3, -1])\nv = u + 1\nprint (\"Addition Result: \", v)",
            "execution_count": 51,
            "outputs": [
                {
                    "name": "stdout",
                    "output_type": "stream",
                    "text": "Addition Result:  tensor([2, 3, 4, 0])\n"
                }
            ]
        },
        {
            "metadata": {},
            "cell_type": "markdown",
            "source": "The result is simply adding 1 to each element in tensor <code>u</code> as shown in the following image:"
        },
        {
            "metadata": {},
            "cell_type": "markdown",
            "source": "<img src = \"https://s3-api.us-geo.objectstorage.softlayer.net/cf-courses-data/CognitiveClass/DL0110EN/notebook_images%20/chapter%201/brodcasting.gif\" width = \"500\" alt=\"tensor addition\" />"
        },
        {
            "metadata": {},
            "cell_type": "markdown",
            "source": "<!--Empty Space for separating topics-->"
        },
        {
            "metadata": {},
            "cell_type": "markdown",
            "source": "<h3>Tensor Multiplication </h3>"
        },
        {
            "metadata": {},
            "cell_type": "markdown",
            "source": "Now, you'll review the multiplication between a tensor and a scalar."
        },
        {
            "metadata": {},
            "cell_type": "markdown",
            "source": "Create a tensor with value <code>[1, 2]</code> and then multiply it by 2:"
        },
        {
            "metadata": {
                "jupyter": {
                    "outputs_hidden": false
                }
            },
            "cell_type": "code",
            "source": "# tensor * scalar\n\nu = torch.tensor([1, 2])\nv = 2 * u\nprint(\"The result of 2 * u: \", v)",
            "execution_count": 52,
            "outputs": [
                {
                    "name": "stdout",
                    "output_type": "stream",
                    "text": "The result of 2 * u:  tensor([2, 4])\n"
                }
            ]
        },
        {
            "metadata": {},
            "cell_type": "markdown",
            "source": "The result is <code>tensor([2, 4])</code>, so the code <code>2 * u</code> multiplies each element in the tensor by 2. This is how you get the product between a vector or matrix and a scalar in linear algebra."
        },
        {
            "metadata": {},
            "cell_type": "markdown",
            "source": "<!--Empty Space for separating topics-->"
        },
        {
            "metadata": {},
            "cell_type": "markdown",
            "source": "You can use multiplication between two tensors."
        },
        {
            "metadata": {},
            "cell_type": "markdown",
            "source": "Create two tensors <code>u</code> and <code>v</code> and then multiply them together:"
        },
        {
            "metadata": {
                "jupyter": {
                    "outputs_hidden": false
                }
            },
            "cell_type": "code",
            "source": "# tensor * tensor\n\nu = torch.tensor([1, 2])\nv = torch.tensor([3, 2])\nw = u * v\nprint (\"The result of u * v\", w)",
            "execution_count": 53,
            "outputs": [
                {
                    "name": "stdout",
                    "output_type": "stream",
                    "text": "The result of u * v tensor([3, 4])\n"
                }
            ]
        },
        {
            "metadata": {},
            "cell_type": "markdown",
            "source": "The result is simply <code>tensor([3, 4])</code>. This result is achieved by multiplying every element in <code>u</code> with the corresponding element in the same position <code>v</code>, which is similar to <i>[1 * 3, 2 * 2]</i>."
        },
        {
            "metadata": {},
            "cell_type": "markdown",
            "source": "<!--Empty Space for separating topics-->"
        },
        {
            "metadata": {},
            "cell_type": "markdown",
            "source": "<h3>Dot Product</h3>"
        },
        {
            "metadata": {},
            "cell_type": "markdown",
            "source": "The dot product is a special operation for a vector that you can use in Torch."
        },
        {
            "metadata": {},
            "cell_type": "markdown",
            "source": "Here is the dot product of the two tensors <code>u</code> and <code>v</code>:"
        },
        {
            "metadata": {},
            "cell_type": "code",
            "source": "# Calculate dot product of u, v\n\nu = torch.tensor([1, 2])\nv = torch.tensor([3, 2])\n\nprint(\"Dot Product of u, v:\", torch.dot(u,v))",
            "execution_count": 54,
            "outputs": [
                {
                    "name": "stdout",
                    "output_type": "stream",
                    "text": "Dot Product of u, v: tensor(7)\n"
                }
            ]
        },
        {
            "metadata": {},
            "cell_type": "markdown",
            "source": "The result is <code>tensor(7)</code>. The function is <i>1 x 3 + 2 x 2 = 7</i>."
        },
        {
            "metadata": {},
            "cell_type": "markdown",
            "source": "<!--Empty Space for separating topics-->"
        },
        {
            "metadata": {},
            "cell_type": "markdown",
            "source": "<h3>Practice</h3>"
        },
        {
            "metadata": {},
            "cell_type": "markdown",
            "source": "Convert the list <i>[-1, 1]</i> and <i>[1, 1]</i> to tensors <code>u</code> and <code>v</code>. Then, plot the tensor <code>u</code> and <code>v</code> as a vector by using the function <code>plotVec</code> and find the dot product:"
        },
        {
            "metadata": {
                "jupyter": {
                    "outputs_hidden": false
                }
            },
            "cell_type": "code",
            "source": "# Practice: calculate the dot product of u and v, and plot out two vectors\nu = torch.tensor([-1, 1])\nv = torch.tensor([1, 1])\n\nplotVec([\n    {'vector':u, 'name': 'u', 'color':'r'},\n    {'vector':v, 'name': 'v', 'color':'b'},\n])\n\nprint('Dot Product of u, v:',torch.dot(u,v).numpy())\n# Type your code here",
            "execution_count": 55,
            "outputs": [
                {
                    "name": "stdout",
                    "output_type": "stream",
                    "text": "Dot Product of u, v: 0\n"
                },
                {
                    "data": {
                        "image/png": "[encoded data removed]",
                        "text/plain": "<Figure size 432x288 with 1 Axes>"
                    },
                    "metadata": {
                        "needs_background": "light"
                    },
                    "output_type": "display_data"
                }
            ]
        },
        {
            "metadata": {},
            "cell_type": "markdown",
            "source": "Double-click <b>here</b> for the solution.\n<!-- \nu= torch.tensor([-1, 1])\nv= torch.tensor([1, 1])\nplotVec([\n    {\"vector\": u.numpy(), \"name\": 'u', \"color\": 'r'},\n    {\"vector\": v.numpy(), \"name\": 'v', \"color\": 'b'}\n])\nprint(\"The Dot Product is\",np.dot(u, v))\n -->"
        },
        {
            "metadata": {},
            "cell_type": "markdown",
            "source": "<!--Empty Space for separating topics-->"
        },
        {
            "metadata": {},
            "cell_type": "markdown",
            "source": "See <a href=\"https://docs.scipy.org/doc/numpy-1.13.0/user/basics.broadcasting.html\">Broadcasting</a> for more information on numpy that is similar to PyTorch."
        },
        {
            "metadata": {},
            "cell_type": "markdown",
            "source": "<a href=\"http://cocl.us/pytorch_link_bottom\">\n    <img src=\"https://s3-api.us-geo.objectstorage.softlayer.net/cf-courses-data/CognitiveClass/DL0110EN/notebook_images%20/notebook_bottom%20.png\" width=\"750\" alt=\"PyTorch Bottom\" />\n</a>\n"
        },
        {
            "metadata": {},
            "cell_type": "markdown",
            "source": "<h2>About the Authors:</h2> \n\n<a href=\"https://www.linkedin.com/in/joseph-s-50398b136/\">Joseph Santarcangelo</a> has a PhD in Electrical Engineering, his research focused on using machine learning, signal processing, and computer vision to determine how videos impact human cognition. Joseph has been working for IBM since he completed his PhD."
        },
        {
            "metadata": {},
            "cell_type": "markdown",
            "source": "Other contributors: <a href=\"https://www.linkedin.com/in/michelleccarey/\">Michelle Carey</a>, <a href=\"www.linkedin.com/in/jiahui-mavis-zhou-a4537814a\">Mavis Zhou</a> "
        },
        {
            "metadata": {},
            "cell_type": "markdown",
            "source": "<hr>"
        },
        {
            "metadata": {},
            "cell_type": "markdown",
            "source": "Copyright &copy; 2018 <a href=\"cognitiveclass.ai?utm_source=bducopyrightlink&utm_medium=dswb&utm_campaign=bdu\">cognitiveclass.ai</a>. This notebook and its source code are released under the terms of the <a href=\"https://bigdatauniversity.com/mit-license/\">MIT License</a>."
        }
    ],
    "metadata": {
        "kernelspec": {
            "name": "python3",
            "display_name": "Python 3.6",
            "language": "python"
        },
        "language_info": {
            "name": "python",
            "version": "3.6.9",
            "mimetype": "text/x-python",
            "codemirror_mode": {
                "name": "ipython",
                "version": 3
            },
            "pygments_lexer": "ipython3",
            "nbconvert_exporter": "python",
            "file_extension": ".py"
        }
    },
    "nbformat": 4,
    "nbformat_minor": 4
}