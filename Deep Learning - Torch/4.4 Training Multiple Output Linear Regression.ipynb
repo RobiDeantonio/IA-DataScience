{
    "cells": [
        {
            "cell_type": "markdown",
            "metadata": {},
            "source": "<a href=\"http://cocl.us/pytorch_link_top\">\n    <img src=\"https://s3-api.us-geo.objectstorage.softlayer.net/cf-courses-data/CognitiveClass/DL0110EN/notebook_images%20/Pytochtop.png\" width=\"750\" alt=\"IBM Product \" />\n</a> "
        },
        {
            "cell_type": "markdown",
            "metadata": {},
            "source": "<img src=\"https://s3-api.us-geo.objectstorage.softlayer.net/cf-courses-data/CognitiveClass/DL0110EN/notebook_images%20/cc-logo-square.png\" width=\"200\" alt=\"cognitiveclass.ai logo\" />"
        },
        {
            "cell_type": "markdown",
            "metadata": {},
            "source": "<h1>Linear Regression Multiple Outputs</h1> \n\n# Table of Contents\nIn this lab, you will create a model the Pytroch way. This will help you as models get more complicated.\n\n<div class=\"alert alert-block alert-info\" style=\"margin-top: 20px\">\n<li><a href=\"#ref0\">Make Some Data</a></li>\n<li><a href=\"#ref1\">Create the Model and Cost Function the Pytorch way</a></li>\n<li><a href=\"#ref2\">Train the Model: Batch Gradient Descent</a></li>\n<li><a href=\"#ref3\">Practice Questions </a></li>\n<br>\n<p></p>\nEstimated Time Needed: <strong>20 min</strong>\n</div>\n\n<hr>"
        },
        {
            "cell_type": "markdown",
            "metadata": {},
            "source": "Import the following libraries:  "
        },
        {
            "cell_type": "code",
            "execution_count": 1,
            "metadata": {},
            "outputs": [],
            "source": "import torch\nimport numpy as np\nimport matplotlib.pyplot as plt\nfrom torch import nn,optim\nfrom mpl_toolkits.mplot3d import Axes3D\nfrom torch.utils.data import Dataset, DataLoader\nimport torchvision.transforms as transforms"
        },
        {
            "cell_type": "markdown",
            "metadata": {},
            "source": "Set the random seed:"
        },
        {
            "cell_type": "code",
            "execution_count": 2,
            "metadata": {},
            "outputs": [
                {
                    "data": {
                        "text/plain": "<torch._C.Generator at 0x7f218c7aa0f0>"
                    },
                    "execution_count": 2,
                    "metadata": {},
                    "output_type": "execute_result"
                }
            ],
            "source": "torch.manual_seed(1)"
        },
        {
            "cell_type": "markdown",
            "metadata": {},
            "source": "<a id=\"ref0\"></a>\n<h2 align=center>Make Some Data </h2>\nCreate a dataset class with two-dimensional features and two targets: "
        },
        {
            "cell_type": "code",
            "execution_count": 3,
            "metadata": {},
            "outputs": [],
            "source": "from torch.utils.data import Dataset, DataLoader\nclass Data(Dataset):\n    def __init__(self):\n            self.x=torch.zeros(20,2)\n            self.x[:,0]=torch.arange(-1,1,0.1)\n            self.x[:,1]=torch.arange(-1,1,0.1)\n            self.w=torch.tensor([ [1.0,-1.0],[1.0,3.0]])\n            self.b=torch.tensor([[1.0,-1.0]])\n            self.f=torch.mm(self.x,self.w)+self.b\n            \n            self.y=self.f+0.001*torch.randn((self.x.shape[0],1))\n            self.len=self.x.shape[0]\n\n    def __getitem__(self,index):\n\n        return self.x[index],self.y[index]\n    \n    def __len__(self):\n        return self.len"
        },
        {
            "cell_type": "markdown",
            "metadata": {},
            "source": "create a dataset object "
        },
        {
            "cell_type": "code",
            "execution_count": 4,
            "metadata": {},
            "outputs": [],
            "source": "data_set=Data()"
        },
        {
            "cell_type": "markdown",
            "metadata": {},
            "source": "<a id=\"ref1\"></a>\n<h2 align=center>Create the Model, Optimizer, and Total Loss Function (cost)</h2>"
        },
        {
            "cell_type": "markdown",
            "metadata": {},
            "source": "Create a custom module:"
        },
        {
            "cell_type": "code",
            "execution_count": 5,
            "metadata": {},
            "outputs": [],
            "source": "class linear_regression(nn.Module):\n    def __init__(self,input_size,output_size):\n        super(linear_regression,self).__init__()\n        self.linear=nn.Linear(input_size,output_size)\n    def forward(self,x):\n        yhat=self.linear(x)\n        return yhat"
        },
        {
            "cell_type": "markdown",
            "metadata": {},
            "source": "\nCreate an optimizer object and set the learning rate to 0.1. **Don't forget to enter the model parameters in the constructor.**  "
        },
        {
            "cell_type": "code",
            "execution_count": 6,
            "metadata": {},
            "outputs": [],
            "source": "model=linear_regression(2,2)"
        },
        {
            "cell_type": "markdown",
            "metadata": {},
            "source": "Create an optimizer object and set the learning rate to 0.1. **Don't forget to enter the model parameters in the constructor.**  "
        },
        {
            "cell_type": "markdown",
            "metadata": {},
            "source": "<img src = \"https://public.boxcloud.com/d/1/b1!gWKvibwheqRE9SGawkv0CWN7rD6RpXPVhLCv74hihQs1YqgX7KYDByHEB-Usb4nIPEHBZxdVsNlN1TeEUWBFEpIxgvEsT_7pxT2bWdC9_p2733iqgHngmmU04qViPPJME4jBwYCYXHoieyf1n_dbX4wjSPO-ShFDGH6tVxjkg4kM726nkWuicSbBFq8jbgDWm3fZnGyBt1SpCrqoV8mvNRkkzM6nSjn1qLUc4OIc5PfzUZj085d4Bl90UyvF-0E-ao0UnQG4NK-eQDu2eFgiMIfF1bADGD52K9-M4_FIk08-Hhb-7I2aRwZgf9JzhAgrWRye3mXm0fPRnstRvAkClc3Cql9beKUKRbPW5imDMjF1XzoUgp3oEXeSpK9MXnad1agdDyup8Bc3J5lfTnlLT8UlmRmzvVPxiu9wKYSsWURDHJqAGrgABn8ajogUEkljHtdRJQ_5P63ScUclMHmGIr3RQ9sLzr2E23JM_wUfezAtSpUtE9E55sif7gCOosEUuAFQ-H8-L0Tz9v2qQjbId7iYAN0hwqh13o4ma4_AF3Q63jbAq5ynVw4b7hT7i6xzL1FMkA9ZwDjQ473WepGjRwSj28wSWx2J3zcCfv7DIDfCcgq-sZlLKmeUWgdKICm7e6GF_35CPDbHSR5OGqmaqhwz5QuRFgT0YbG_tZiB6042Gqwuaom48KtRNtBxwY_AYylas63IWbKm9cRdzWDM27dZrapHwuEbt0gHZLe7BoNY6h_5iGN_tovHgy-vuAukUcY0Af315beGfEfmuQa5mXKAYx9L8xms2XPQ68A-ADVSl9k32MPNVVuewjbPjvpZeymOhMR-NeyGxdO9cSB-GRqUAuBswdeImWjfwyQpkS62v2_XiNLucpcvqW9Lh498-Pg5nCvXRmp6z3sUykBK58qMr4wSX6_1QI76SNZb_iw7-0kEjWHYA0h9MmDLh9BayZdi9xLQj_rDNpGU4AtJHRwQolm93Hh_lwysNS7_nqTwD99loxNa98VElVV79ffZuiwzOQCS7fOYzfyCCeut9Wz_IaYL6WHO9iPNtH5d_GpFKV3SYKdkAhIZ9sR7mu23rZenhx3dmNdI6Si7KruanmN5EHyXIzupQnE4NCzlHmhs3yJfu_XRZSXdCQEGeu0ak_J_nOM8OHEJEnEBLjr9Kldh-5hNjdRqLl_K3xk8rm_AXFW3XuVrKmGg4RIDW18OcvuWbUFnbzhRjeLfV-BqgigmBFl6CP39pnoIx7YFkbtWaocTTcr_F5_36ji-ClLk3qLg4MgeRR8A7b5E4GXdaxrprTxQXwUro6hSQHAZ6KgiQBRV5vCY9Lyrq7iYFbBxM0CHCQ_Igikm69J1g-LvUKjdU8fxx3AyfLzS8W9FeksCL3R1LN1RofrGTNI6bjCGUMq8iEIo8imcVaxgkUvQ6tLVocsllGc86UpITkhhocj_7vYfelo1Rk2onMcsh6Poai8c2FS1rKQ./download\" width = 100, align = \"center\">\n"
        },
        {
            "cell_type": "code",
            "execution_count": 7,
            "metadata": {},
            "outputs": [],
            "source": "optimizer = optim.SGD(model.parameters(), lr = 0.1)"
        },
        {
            "cell_type": "markdown",
            "metadata": {},
            "source": "Create the criterion function that calculates the total loss or cost:"
        },
        {
            "cell_type": "code",
            "execution_count": 8,
            "metadata": {},
            "outputs": [],
            "source": "criterion = nn.MSELoss()"
        },
        {
            "cell_type": "markdown",
            "metadata": {},
            "source": "Create a data loader object and set the batch_size to 5:"
        },
        {
            "cell_type": "code",
            "execution_count": 9,
            "metadata": {},
            "outputs": [],
            "source": "train_loader=DataLoader(dataset=data_set,batch_size=5)"
        },
        {
            "cell_type": "markdown",
            "metadata": {},
            "source": "<a id=\"ref2\"></a>\n<h2 align=center>Train the Model via Mini-Batch Gradient Descent </h2>"
        },
        {
            "cell_type": "markdown",
            "metadata": {},
            "source": "Run 100 epochs of Mini-Batch Gradient Descent and store the total loss or cost for every iteration. Remember that this is an approximation of the true total loss or cost."
        },
        {
            "cell_type": "code",
            "execution_count": 10,
            "metadata": {},
            "outputs": [],
            "source": "LOSS=[]\n \nepochs=100\n   \nfor epoch in range(epochs):\n    for x,y in train_loader:\n        #make a prediction \n        yhat=model(x)\n        #calculate the loss\n        loss=criterion(yhat,y)\n        #store loss/cost \n        LOSS.append(loss.item())\n        #clear gradient \n        optimizer.zero_grad()\n        #Backward pass: compute gradient of the loss with respect to all the learnable parameters\n        loss.backward()\n        #the step function on an Optimizer makes an update to its parameters\n        optimizer.step()\n     \n\n\n    "
        },
        {
            "cell_type": "markdown",
            "metadata": {},
            "source": "Plot the cost:"
        },
        {
            "cell_type": "code",
            "execution_count": 11,
            "metadata": {},
            "outputs": [
                {
                    "data": {
                        "image/png": "[encoded data removed]",
                        "text/plain": "<Figure size 432x288 with 1 Axes>"
                    },
                    "metadata": {
                        "needs_background": "light"
                    },
                    "output_type": "display_data"
                }
            ],
            "source": "plt.plot(LOSS)\nplt.xlabel(\"iterations \")\nplt.ylabel(\"Cost/total loss \")\nplt.show()"
        },
        {
            "cell_type": "markdown",
            "metadata": {},
            "source": "<a href=\"http://cocl.us/pytorch_link_bottom\">\n    <img src=\"https://s3-api.us-geo.objectstorage.softlayer.net/cf-courses-data/CognitiveClass/DL0110EN/notebook_images%20/notebook_bottom%20.png\" width=\"750\" alt=\"PyTorch Bottom\" />\n</a>"
        },
        {
            "cell_type": "markdown",
            "metadata": {},
            "source": "### About the Authors:  \n\n [Joseph Santarcangelo]( https://www.linkedin.com/in/joseph-s-50398b136/) has a PhD in Electrical Engineering. His research focused on using machine learning, signal processing, and computer vision to determine how videos impact human cognition. \n\nOther contributors: [Michelle Carey](  https://www.linkedin.com/in/michelleccarey/) "
        },
        {
            "cell_type": "markdown",
            "metadata": {},
            "source": "Copyright &copy; 2018 <a href=\"cognitiveclass.ai?utm_source=bducopyrightlink&utm_medium=dswb&utm_campaign=bdu\">cognitiveclass.ai</a>. This notebook and its source code are released under the terms of the <a href=\"https://bigdatauniversity.com/mit-license/\">MIT License</a>."
        },
        {
            "cell_type": "markdown",
            "metadata": {},
            "source": "v"
        }
    ],
    "metadata": {
        "kernelspec": {
            "display_name": "Python 3",
            "language": "python",
            "name": "python3"
        },
        "language_info": {
            "codemirror_mode": {
                "name": "ipython",
                "version": 3
            },
            "file_extension": ".py",
            "mimetype": "text/x-python",
            "name": "python",
            "nbconvert_exporter": "python",
            "pygments_lexer": "ipython3",
            "version": "3.6.9"
        }
    },
    "nbformat": 4,
    "nbformat_minor": 2
}