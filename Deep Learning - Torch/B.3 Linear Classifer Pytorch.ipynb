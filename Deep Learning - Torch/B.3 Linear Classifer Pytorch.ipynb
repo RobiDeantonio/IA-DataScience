{
    "cells": [
        {
            "metadata": {},
            "cell_type": "markdown",
            "source": "<a href=\"http://cocl.us/pytorch_link_top\">\n    <img src=\"https://s3-api.us-geo.objectstorage.softlayer.net/cf-courses-data/CognitiveClass/DL0110EN/notebook_images%20/Pytochtop.png\" width=\"750\" alt=\"IBM Product \" />\n</a> "
        },
        {
            "metadata": {},
            "cell_type": "markdown",
            "source": "<img src=\"https://s3-api.us-geo.objectstorage.softlayer.net/cf-courses-data/CognitiveClass/DL0110EN/notebook_images%20/cc-logo-square.png\" width=\"200\" alt=\"cognitiveclass.ai logo\" />"
        },
        {
            "metadata": {},
            "cell_type": "markdown",
            "source": "<h1>Linear  Classifier with PyTorch </h1>"
        },
        {
            "metadata": {},
            "cell_type": "markdown",
            "source": "<p>Before you use a  Deep neural network to solve the classification problem,  it 's a good idea to try and solve the problem with the simplest method. You will need the dataset object from the previous section.\nIn this lab, we solve the problem with a linear classifier.\n You will be asked to determine the maximum accuracy your linear classifier can achieve on the validation data for 5 epochs. We will give some free parameter values if you follow the instructions you will be able to answer the quiz. Just like the other labs there are several steps, but in this lab you will only be quizzed on the final result. </p>"
        },
        {
            "metadata": {},
            "cell_type": "markdown",
            "source": "<h2>Table of Contents</h2>"
        },
        {
            "metadata": {},
            "cell_type": "markdown",
            "source": "<div class=\"alert alert-block alert-info\" style=\"margin-top: 20px\">\n\n\n<ul>\n    <li><a href=\"#download_data\"> Download data</a></li>\n    <li><a href=\"#auxiliary\"> Imports and Auxiliary Functions </a></li>\n    <li><a href=\"#data_class\"> Dataset Class</a></li>\n    <li><a href=\"#trasform_Data_object\">Transform Object and Dataset Object</a></li>\n    <li><a href=\"#Question\">Question</a></li>\n</ul>\n<p>Estimated Time Needed: <strong>25 min</strong></p>\n </div>\n<hr>\n"
        },
        {
            "metadata": {},
            "cell_type": "markdown",
            "source": "<h2 id=\"download_data\">Download Data</h2>"
        },
        {
            "metadata": {},
            "cell_type": "markdown",
            "source": "In this section, you are going to download the data from IBM object storage using <b>wget</b>, then unzip them.  <b>wget</b> is a command the retrieves content from web servers, in this case its a zip file. Locally we store the data in the directory  <b>/resources/data</b> . The <b>-p</b> creates the entire directory tree up to the given directory."
        },
        {
            "metadata": {},
            "cell_type": "markdown",
            "source": "First, we download the file that contains the images, if you dint do this in your first lab uncomment:"
        },
        {
            "metadata": {},
            "cell_type": "code",
            "source": "#!wget https://s3-api.us-geo.objectstorage.softlayer.net/cf-courses-data/CognitiveClass/DL0321EN/data/images/concrete_crack_images_for_classification.zip -P /resources/data",
            "execution_count": null,
            "outputs": []
        },
        {
            "metadata": {},
            "cell_type": "markdown",
            "source": "We then unzip the file, this ma take a while:"
        },
        {
            "metadata": {},
            "cell_type": "code",
            "source": "#!unzip -q  /resources/data/concrete_crack_images_for_classification.zip -d  /resources/data",
            "execution_count": null,
            "outputs": []
        },
        {
            "metadata": {},
            "cell_type": "markdown",
            "source": "We then download the files that contain the negative images:"
        },
        {
            "metadata": {},
            "cell_type": "markdown",
            "source": "<h2 id=\"auxiliary\">Imports and Auxiliary Functions</h2>"
        },
        {
            "metadata": {},
            "cell_type": "markdown",
            "source": "The following are the libraries we are going to use for this lab:"
        },
        {
            "metadata": {},
            "cell_type": "code",
            "source": "from PIL import Image\nimport matplotlib.pyplot as plt\nimport os\nimport glob\nimport torch\nfrom torch.utils.data import Dataset, DataLoader\nimport torchvision.transforms as transforms\nimport torch.nn as nn\nimport torch.nn.functional as F\nfrom torch import optim \nimport numpy as np",
            "execution_count": 107,
            "outputs": []
        },
        {
            "metadata": {},
            "cell_type": "markdown",
            "source": "<h2 id=\"data_class\">Dataset Class</h2>"
        },
        {
            "metadata": {},
            "cell_type": "markdown",
            "source": "In this section, we will use the previous code to build a dataset class. As before, make sure the even samples are positive, and the odd samples are negative.  If the parameter <code>train</code> is set to <code>True</code>, use the first 30 000  samples as training data; otherwise, the remaining samples will be used as validation data. Do not forget to sort your files so they are in the same order.  "
        },
        {
            "metadata": {},
            "cell_type": "code",
            "source": "class Dataset(Dataset):\n\n    # Constructor\n    def __init__(self,transform=None,train=True):\n        directory=\"\"  #/resources/data\n        positive=\"Positive\"\n        negative=\"Negative\"\n\n        positive_file_path=os.path.join(directory,positive)\n        negative_file_path=os.path.join(directory,negative)\n        positive_files=[os.path.join(positive_file_path,file) for file in  os.listdir(positive_file_path) if file.endswith(\".jpg\")]\n        positive_files.sort()\n        negative_files=[os.path.join(negative_file_path,file) for file in  os.listdir(negative_file_path) if file.endswith(\".jpg\")]\n        negative_files.sort()\n        number_of_samples=len(positive_files)+len(negative_files)\n        self.all_files=[None]*number_of_samples\n        self.all_files[::2]=positive_files\n        self.all_files[1::2]=negative_files \n        # The transform is goint to be used on image\n        self.transform = transform\n        #torch.LongTensor\n        self.Y=torch.zeros([number_of_samples]).type(torch.LongTensor)\n        self.Y[::2]=1\n        self.Y[1::2]=0\n        \n        if train:\n            self.all_files=self.all_files[0:30000]\n            self.Y=self.Y[0:30000]\n            self.len=len(self.all_files)\n        else:\n            self.all_files=self.all_files[30000:]\n            self.Y=self.Y[30000:]\n            self.len=len(self.all_files)    \n       \n    # Get the length\n    def __len__(self):\n        return self.len\n    \n    # Getter\n    def __getitem__(self, idx):\n        \n        \n        image=Image.open(self.all_files[idx])\n        y=self.Y[idx]\n          \n        \n        # If there is any transform method, apply it onto the image\n        if self.transform:\n            image = self.transform(image)\n\n        return image, y",
            "execution_count": 6,
            "outputs": []
        },
        {
            "metadata": {},
            "cell_type": "markdown",
            "source": "<h2 id=\"trasform_Data_object\">Transform Object and Dataset Object</h2>"
        },
        {
            "metadata": {},
            "cell_type": "markdown",
            "source": "Create a transform object, that uses the <code>Compose</code> function. First use the transform <code>ToTensor()</code> and followed by <code>Normalize(mean, std)</code>. The value for <code> mean</code> and <code>std</code> are provided for you."
        },
        {
            "metadata": {},
            "cell_type": "code",
            "source": "mean = [0.485, 0.456, 0.406]\nstd = [0.229, 0.224, 0.225]\n# transforms.ToTensor()\n#transforms.Normalize(mean, std)\n#transforms.Compose([])\n\ntransform =transforms.Compose([ transforms.ToTensor(), transforms.Normalize(mean, std)])\n",
            "execution_count": 3,
            "outputs": []
        },
        {
            "metadata": {},
            "cell_type": "markdown",
            "source": "Create object for the training data  <code>dataset_train</code> and validation <code>dataset_val</code>. Use the transform object to convert the images to tensors using the transform object:"
        },
        {
            "metadata": {},
            "cell_type": "code",
            "source": "dataset_train=Dataset(transform=transform,train=True)\ndataset_val=Dataset(transform=transform,train=False)",
            "execution_count": 7,
            "outputs": []
        },
        {
            "metadata": {},
            "cell_type": "code",
            "source": "dataset_train[20001][1]",
            "execution_count": 83,
            "outputs": [
                {
                    "data": {
                        "text/plain": "tensor(0)"
                    },
                    "execution_count": 83,
                    "metadata": {},
                    "output_type": "execute_result"
                }
            ]
        },
        {
            "metadata": {},
            "cell_type": "markdown",
            "source": "We  can find the shape of the image:"
        },
        {
            "metadata": {},
            "cell_type": "code",
            "source": "dataset_train[0][0].shape",
            "execution_count": 8,
            "outputs": [
                {
                    "data": {
                        "text/plain": "torch.Size([3, 227, 227])"
                    },
                    "execution_count": 8,
                    "metadata": {},
                    "output_type": "execute_result"
                }
            ]
        },
        {
            "metadata": {},
            "cell_type": "markdown",
            "source": "We see that it's a color image with three channels:"
        },
        {
            "metadata": {},
            "cell_type": "code",
            "source": "size_of_image=3*227*227\nsize_of_image",
            "execution_count": 9,
            "outputs": [
                {
                    "data": {
                        "text/plain": "154587"
                    },
                    "execution_count": 9,
                    "metadata": {},
                    "output_type": "execute_result"
                }
            ]
        },
        {
            "metadata": {},
            "cell_type": "markdown",
            "source": "<h2 id=\"Question\"> Question <h2>"
        },
        {
            "metadata": {},
            "cell_type": "markdown",
            "source": "<b> Create a custom module for Softmax for two classes,called model. The input size should be the <code>size_of_image</code>, you should record the maximum accuracy achieved on the validation data for the different epochs. For example if the 5 epochs the accuracy was 0.5, 0.2, 0.64,0.77, 0.66 you would select 0.77.</b>"
        },
        {
            "metadata": {},
            "cell_type": "markdown",
            "source": "Train the model with the following free parameter values:"
        },
        {
            "metadata": {},
            "cell_type": "markdown",
            "source": "<b>Parameter Values</b>\n   <li>learning rate:0.1 </li>\n   <li>momentum term:0.1 </li>\n   <li>batch size training:1000</li>\n   <li>Loss function:Cross Entropy Loss </li>\n   <li>epochs:5</li>\n   <li>set: torch.manual_seed(0)</li>"
        },
        {
            "metadata": {},
            "cell_type": "code",
            "source": "torch.manual_seed(0)",
            "execution_count": 10,
            "outputs": [
                {
                    "data": {
                        "text/plain": "<torch._C.Generator at 0x7fd3f6197410>"
                    },
                    "execution_count": 10,
                    "metadata": {},
                    "output_type": "execute_result"
                }
            ]
        },
        {
            "metadata": {},
            "cell_type": "markdown",
            "source": "<b>Custom Module:</b>"
        },
        {
            "metadata": {},
            "cell_type": "code",
            "source": "# Create dataset object\n\nclass Net(nn.Module):\n    \n    # Constructor\n    def __init__(self, Layers):\n        super(Net, self).__init__()\n        self.hidden = nn.ModuleList()\n        for input_size, output_size in zip(Layers, Layers[1:]):\n            self.hidden.append(nn.Linear(input_size, output_size))\n    \n    # Prediction\n    def forward(self, activation):\n        L = len(self.hidden)\n        for (l, linear_transform) in zip(range(L), self.hidden):\n            if l < L - 1:\n                activation = F.relu(linear_transform(activation))    \n            else:\n                activation = linear_transform(activation)\n        return activation\n    ",
            "execution_count": 28,
            "outputs": []
        },
        {
            "metadata": {},
            "cell_type": "markdown",
            "source": "<b>Model Object:</b>"
        },
        {
            "metadata": {},
            "cell_type": "code",
            "source": "# size_of_image = 154587\nLayers = [size_of_image, 2]\nmodel = Net(Layers)\nmodel",
            "execution_count": 113,
            "outputs": [
                {
                    "data": {
                        "text/plain": "Net(\n  (hidden): ModuleList(\n    (0): Linear(in_features=154587, out_features=2, bias=True)\n  )\n)"
                    },
                    "execution_count": 113,
                    "metadata": {},
                    "output_type": "execute_result"
                }
            ]
        },
        {
            "metadata": {},
            "cell_type": "markdown",
            "source": "<b>Optimizer:</b>"
        },
        {
            "metadata": {},
            "cell_type": "code",
            "source": "# Define the learning rate, optimizer, criterion and data loader\n\nlearning_rate = 0.1\noptimizer = torch.optim.SGD(model.parameters(), lr=learning_rate, momentum=0.1)",
            "execution_count": 114,
            "outputs": []
        },
        {
            "metadata": {},
            "cell_type": "markdown",
            "source": "<b>Criterion:</b>"
        },
        {
            "metadata": {},
            "cell_type": "code",
            "source": "criterion = nn.CrossEntropyLoss()",
            "execution_count": 115,
            "outputs": []
        },
        {
            "metadata": {},
            "cell_type": "markdown",
            "source": "<b>Data Loader Training and Validation:</b>"
        },
        {
            "metadata": {},
            "cell_type": "code",
            "source": "train_loader = torch.utils.data.DataLoader(dataset=dataset_train, batch_size=1000)\nvalidation_loader = torch.utils.data.DataLoader(dataset=dataset_val, batch_size=1000)  \ntrain_loader",
            "execution_count": 116,
            "outputs": [
                {
                    "data": {
                        "text/plain": "<torch.utils.data.dataloader.DataLoader at 0x7fd3ece7d710>"
                    },
                    "execution_count": 116,
                    "metadata": {},
                    "output_type": "execute_result"
                }
            ]
        },
        {
            "metadata": {},
            "cell_type": "markdown",
            "source": "<b>Train Model with 5 epochs, should take 35 minutes: </b>"
        },
        {
            "metadata": {},
            "cell_type": "code",
            "source": "# Define a function for calculating accuracy\n\ndef accuracy(model, data_set):\n    ztrain = model(np.asarray(data_set.all_files).view(-1, 3*227*227 ))\n    _, yhat = torch.max(ztrain.data, 1)\n    return (yhat == data_set.Y).numpy().mean()",
            "execution_count": 117,
            "outputs": []
        },
        {
            "metadata": {},
            "cell_type": "code",
            "source": "Results = {\"momentum 0\": {\"Loss\": 0, \"Accuracy:\": 0}, \"momentum 0.1\": {\"Loss\": 0, \"Accuracy:\": 0}}",
            "execution_count": 118,
            "outputs": []
        },
        {
            "metadata": {},
            "cell_type": "code",
            "source": "# Define the function for training the model\nloss_list = []\naccuracy_list = []\nN_test = len(dataset_val)\n\ndef train(dataset_train, model, criterion, train_loader, validation_loader, optimizer, epochs=10):\n    LOSS = []\n    ACC = []\n    \n    for epoch in range(epochs):\n        for x, y in train_loader:\n            optimizer.zero_grad()\n            yhat = model(x.view(-1, 3*227*227))\n            loss = criterion(yhat, y)\n            optimizer.zero_grad()\n            loss.backward()\n            optimizer.step()\n        LOSS.append(loss.item())\n        #ACC.append(accuracy(model,dataset_train))  #data_set\n            \n        correct = 0\n        # perform a prediction on the validationdata  \n        for x_test, y_test in validation_loader:\n            z = model(x_test.view(-1, 3*227*227 ))\n            _, yhat = torch.max(z.data, 1)\n            correct += (yhat == y_test).sum().item()  \n        accuracyTest = correct / N_test\n        loss_list.append(loss.data)\n        accuracy_list.append(accuracyTest)\n        \n        \n    results ={\"Loss\":LOSS, \"Accuracy\":ACC}\n    fig, ax1 = plt.subplots()\n    color = 'tab:red'\n    ax1.plot(LOSS,color=color)\n    ax1.set_xlabel('epoch', color=color)\n    ax1.set_ylabel('total loss', color=color)\n    ax1.tick_params(axis = 'y', color=color)\n    \n    ax2 = ax1.twinx()  \n    color = 'tab:blue'\n    ax2.set_ylabel('accuracy', color=color)  # we already handled the x-label with ax1\n    ax2.plot(accuracy_list, color=color)\n    ax2.tick_params(axis='y', color=color)\n    fig.tight_layout()  # otherwise the right y-label is slightly clipped\n    \n    plt.show()\n    return results",
            "execution_count": 123,
            "outputs": []
        },
        {
            "metadata": {
                "scrolled": false
            },
            "cell_type": "code",
            "source": "Results[\"momentum 0\"] = train(dataset_train, model, criterion, train_loader,validation_loader, optimizer, epochs=5)",
            "execution_count": 124,
            "outputs": [
                {
                    "data": {
                        "image/png": "[encoded data removed]",
                        "text/plain": "<Figure size 432x288 with 2 Axes>"
                    },
                    "metadata": {
                        "needs_background": "light"
                    },
                    "output_type": "display_data"
                }
            ]
        },
        {
            "metadata": {},
            "cell_type": "markdown",
            "source": "<h2>About the Authors:</h2>\n <a href=\\\"https://www.linkedin.com/in/joseph-s-50398b136/\\\">Joseph Santarcangelo</a> has a PhD in Electrical Engineering, his research focused on using machine learning, signal processing, and computer vision to determine how videos impact human cognition. Joseph has been working for IBM since he completed his PhD."
        },
        {
            "metadata": {},
            "cell_type": "markdown",
            "source": "Copyright &copy; 2019 <a href=\"cognitiveclass.ai\"> cognitiveclass.ai</a>. This notebook and its source code are released under the terms of the <a href=\"https://bigdatauniversity.com/mit-license/\">MIT License</a>"
        },
        {
            "metadata": {},
            "cell_type": "code",
            "source": "",
            "execution_count": null,
            "outputs": []
        }
    ],
    "metadata": {
        "kernelspec": {
            "name": "python3",
            "display_name": "Python 3.6",
            "language": "python"
        },
        "language_info": {
            "name": "python",
            "version": "3.6.9",
            "mimetype": "text/x-python",
            "codemirror_mode": {
                "name": "ipython",
                "version": 3
            },
            "pygments_lexer": "ipython3",
            "nbconvert_exporter": "python",
            "file_extension": ".py"
        }
    },
    "nbformat": 4,
    "nbformat_minor": 4
}