{
    "cells": [
        {
            "metadata": {},
            "cell_type": "markdown",
            "source": "<a href=\"http://cocl.us/pytorch_link_top\">\n    <img src=\"https://s3-api.us-geo.objectstorage.softlayer.net/cf-courses-data/CognitiveClass/DL0110EN/notebook_images%20/Pytochtop.png\" width=\"750\" alt=\"IBM Product \" />\n</a> "
        },
        {
            "metadata": {},
            "cell_type": "markdown",
            "source": "<img src=\"https://s3-api.us-geo.objectstorage.softlayer.net/cf-courses-data/CognitiveClass/DL0110EN/notebook_images%20/cc-logo-square.png\" width=\"200\" alt=\"cognitiveclass.ai logo\" />"
        },
        {
            "metadata": {},
            "cell_type": "markdown",
            "source": "<h1>Image Datasets and Transforms</h1> "
        },
        {
            "metadata": {},
            "cell_type": "markdown",
            "source": "<h2>Table of Contents</h2>\n<p>In this lab, you will build a dataset objects for images; many of the processes can be applied to a larger dataset. Then you will apply pre-build transforms from Torchvision Transforms to that dataset.</p>\n<ul>\n    <li><a href=\"#auxiliary\"> Auxiliary Functions </a></li>\n    <li><a href=\"#Dataset\"> Datasets</a></li>\n    <li><a href=\"#Torchvision\">Torchvision Transforms</a></li>\n</ul>\n<p>Estimated Time Needed: <strong>25 min</strong></p>\n\n<hr>"
        },
        {
            "metadata": {},
            "cell_type": "markdown",
            "source": "<h2>Preparation</h2>"
        },
        {
            "metadata": {},
            "cell_type": "markdown",
            "source": "Download the dataset and unzip the files in your data directory, **to download faster this dataset has only 100 samples**:"
        },
        {
            "metadata": {},
            "cell_type": "code",
            "source": "! wget https://s3-api.us-geo.objectstorage.softlayer.net/cf-courses-data/CognitiveClass/DL0110EN/datasets/img.tar.gz -P /\n",
            "execution_count": 1,
            "outputs": [
                {
                    "name": "stdout",
                    "output_type": "stream",
                    "text": "--2020-07-14 11:27:24--  https://s3-api.us-geo.objectstorage.softlayer.net/cf-courses-data/CognitiveClass/DL0110EN/datasets/img.tar.gz\nResolviendo s3-api.us-geo.objectstorage.softlayer.net (s3-api.us-geo.objectstorage.softlayer.net)... 67.228.254.196\nConectando con s3-api.us-geo.objectstorage.softlayer.net (s3-api.us-geo.objectstorage.softlayer.net)[67.228.254.196]:443... conectado.\nPetici\u00f3n HTTP enviada, esperando respuesta... 200 OK\nLongitud: 50460 (49K) [application/octet-stream]\nGuardando como: \u201cimg.tar.gz.1\u201d\n\nmg.tar.gz.1         100%[===================>]  49,28K   253KB/s    en 0,2s    \n\n2020-07-14 11:27:25 (253 KB/s) - \u201cimg.tar.gz.1\u201d guardado [50460/50460]\n\n"
                }
            ]
        },
        {
            "metadata": {},
            "cell_type": "code",
            "source": "!tar -xf img.tar.gz ",
            "execution_count": 2,
            "outputs": []
        },
        {
            "metadata": {},
            "cell_type": "code",
            "source": "!wget https://s3-api.us-geo.objectstorage.softlayer.net/cf-courses-data/CognitiveClass/DL0110EN/datasets/index.csv ",
            "execution_count": 3,
            "outputs": [
                {
                    "name": "stdout",
                    "output_type": "stream",
                    "text": "--2020-07-14 11:27:25--  https://s3-api.us-geo.objectstorage.softlayer.net/cf-courses-data/CognitiveClass/DL0110EN/datasets/index.csv\nResolviendo s3-api.us-geo.objectstorage.softlayer.net (s3-api.us-geo.objectstorage.softlayer.net)... 67.228.254.196\nConectando con s3-api.us-geo.objectstorage.softlayer.net (s3-api.us-geo.objectstorage.softlayer.net)[67.228.254.196]:443... conectado.\nPetici\u00f3n HTTP enviada, esperando respuesta... 200 OK\nLongitud: 1680905 (1,6M) [text/csv]\nGuardando como: \u201cindex.csv.2\u201d\n\nindex.csv.2         100%[===================>]   1,60M   382KB/s    en 4,3s    \n\n2020-07-14 11:27:30 (384 KB/s) - \u201cindex.csv.2\u201d guardado [1680905/1680905]\n\n"
                }
            ]
        },
        {
            "metadata": {},
            "cell_type": "markdown",
            "source": "We will use this function in the lab:"
        },
        {
            "metadata": {},
            "cell_type": "code",
            "source": "def show_data(data_sample, shape = (28, 28)):\n    plt.imshow(data_sample[0].numpy().reshape(shape), cmap='gray')\n    plt.title('y = ' + data_sample[1])",
            "execution_count": 4,
            "outputs": []
        },
        {
            "metadata": {},
            "cell_type": "markdown",
            "source": "The following are the libraries we are going to use for this lab. The <code>torch.manual_seed()</code> is for forcing the random function to give the same number every time we try to recompile it."
        },
        {
            "metadata": {},
            "cell_type": "code",
            "source": "# These are the libraries will be used for this lab.\n\nimport torch \nimport matplotlib.pylab as plt\nimport numpy as np\nfrom torch.utils.data import Dataset, DataLoader\ntorch.manual_seed(0)",
            "execution_count": 5,
            "outputs": [
                {
                    "data": {
                        "text/plain": "<torch._C.Generator at 0x7faf70392f30>"
                    },
                    "execution_count": 5,
                    "metadata": {},
                    "output_type": "execute_result"
                }
            ]
        },
        {
            "metadata": {},
            "cell_type": "code",
            "source": "from matplotlib.pyplot import imshow\nimport matplotlib.pylab as plt\nfrom PIL import Image\nimport pandas as pd\nimport os",
            "execution_count": 6,
            "outputs": []
        },
        {
            "metadata": {},
            "cell_type": "markdown",
            "source": "<!--Empty Space for separating topics-->"
        },
        {
            "metadata": {},
            "cell_type": "markdown",
            "source": "<h2 id=\"auxiliary\">Auxiliary Functions</h2>"
        },
        {
            "metadata": {},
            "cell_type": "markdown",
            "source": "You will use the following function as components of a dataset object, in this section, you will review each of the components independently."
        },
        {
            "metadata": {},
            "cell_type": "markdown",
            "source": " The path to the csv file with the labels for each image."
        },
        {
            "metadata": {},
            "cell_type": "code",
            "source": "# Read CSV file from the URL and print out the first five samples\ndirectory=\"\"\ncsv_file ='index.csv'\ncsv_path=os.path.join(directory,csv_file)",
            "execution_count": 7,
            "outputs": []
        },
        {
            "metadata": {},
            "cell_type": "markdown",
            "source": "You can load the CSV file and convert it into a dataframe , using the Pandas function <code>read_csv()</code> . You can view the dataframe using the method head."
        },
        {
            "metadata": {},
            "cell_type": "code",
            "source": "data_name = pd.read_csv(csv_path)\ndata_name.head()",
            "execution_count": 8,
            "outputs": [
                {
                    "data": {
                        "text/html": "<div>\n<style scoped>\n    .dataframe tbody tr th:only-of-type {\n        vertical-align: middle;\n    }\n\n    .dataframe tbody tr th {\n        vertical-align: top;\n    }\n\n    .dataframe thead th {\n        text-align: right;\n    }\n</style>\n<table border=\"1\" class=\"dataframe\">\n  <thead>\n    <tr style=\"text-align: right;\">\n      <th></th>\n      <th>category</th>\n      <th>image</th>\n    </tr>\n  </thead>\n  <tbody>\n    <tr>\n      <th>0</th>\n      <td>Ankle boot</td>\n      <td>img/fashion0.png</td>\n    </tr>\n    <tr>\n      <th>1</th>\n      <td>T-shirt</td>\n      <td>img/fashion1.png</td>\n    </tr>\n    <tr>\n      <th>2</th>\n      <td>T-shirt</td>\n      <td>img/fashion2.png</td>\n    </tr>\n    <tr>\n      <th>3</th>\n      <td>Dress</td>\n      <td>img/fashion3.png</td>\n    </tr>\n    <tr>\n      <th>4</th>\n      <td>T-shirt</td>\n      <td>img/fashion4.png</td>\n    </tr>\n  </tbody>\n</table>\n</div>",
                        "text/plain": "     category             image\n0  Ankle boot  img/fashion0.png\n1     T-shirt  img/fashion1.png\n2     T-shirt  img/fashion2.png\n3       Dress  img/fashion3.png\n4     T-shirt  img/fashion4.png"
                    },
                    "execution_count": 8,
                    "metadata": {},
                    "output_type": "execute_result"
                }
            ]
        },
        {
            "metadata": {},
            "cell_type": "markdown",
            "source": "The first column of the dataframe corresponds to the type of clothing. The second column is the name of the image file corresponding to the clothing. You can obtain the path of the first file by using the method  <code> <i>DATAFRAME</i>.iloc[0, 1]</code>. The first argument corresponds to the sample number, and the second input corresponds to the column index. "
        },
        {
            "metadata": {},
            "cell_type": "code",
            "source": "# Get the value on location row 0, column 1 (Notice that index starts at 0)\n#rember this dataset has only 100 samples to make the download faster  \nprint('File name:', data_name.iloc[0, 1])",
            "execution_count": 9,
            "outputs": [
                {
                    "name": "stdout",
                    "output_type": "stream",
                    "text": "File name: img/fashion0.png\n"
                }
            ]
        },
        {
            "metadata": {},
            "cell_type": "markdown",
            "source": "As the class of the sample is in the first column, you can also obtain the class value as follows."
        },
        {
            "metadata": {},
            "cell_type": "code",
            "source": "# Get the value on location row 0, column 0 (Notice that index starts at 0.)\n\nprint('y:', data_name.iloc[0, 0])",
            "execution_count": 10,
            "outputs": [
                {
                    "name": "stdout",
                    "output_type": "stream",
                    "text": "y: Ankle boot\n"
                }
            ]
        },
        {
            "metadata": {},
            "cell_type": "markdown",
            "source": "Similarly, You can obtain the file name of the second image file and class type:"
        },
        {
            "metadata": {},
            "cell_type": "code",
            "source": "# Print out the file name and the class number of the element on row 1 (the second row)\n\nprint('File name:', data_name.iloc[1, 1])\nprint('class or y:', data_name.iloc[1, 0])",
            "execution_count": 11,
            "outputs": [
                {
                    "name": "stdout",
                    "output_type": "stream",
                    "text": "File name: img/fashion1.png\nclass or y: T-shirt\n"
                }
            ]
        },
        {
            "metadata": {},
            "cell_type": "markdown",
            "source": "The number of samples corresponds to the number of rows in a dataframe. You can obtain the number of rows using the following lines of code. This will correspond the data attribute <code>len</code>."
        },
        {
            "metadata": {},
            "cell_type": "code",
            "source": "# Print out the total number of rows in traing dataset\n\nprint('The number of rows: ', data_name.shape[0])",
            "execution_count": 12,
            "outputs": [
                {
                    "name": "stdout",
                    "output_type": "stream",
                    "text": "The number of rows:  60000\n"
                }
            ]
        },
        {
            "metadata": {},
            "cell_type": "markdown",
            "source": "<h2 id=\"load_image\">Load Image</h2>"
        },
        {
            "metadata": {},
            "cell_type": "markdown",
            "source": "To load the image, you need the directory and the image name. You can concatenate the variable <code>train_data_dir</code> with the name of the image stored in a Dataframe. Finally, you will store the result in the variable <code>image_name</code>"
        },
        {
            "metadata": {},
            "cell_type": "code",
            "source": "# Combine the directory path with file name\n\nimage_name =data_name.iloc[1, 1]\nimage_name",
            "execution_count": 13,
            "outputs": [
                {
                    "data": {
                        "text/plain": "'img/fashion1.png'"
                    },
                    "execution_count": 13,
                    "metadata": {},
                    "output_type": "execute_result"
                }
            ]
        },
        {
            "metadata": {},
            "cell_type": "markdown",
            "source": "we can find the image path:"
        },
        {
            "metadata": {},
            "cell_type": "code",
            "source": "image_path=os.path.join(directory,image_name)\nimage_path",
            "execution_count": 14,
            "outputs": [
                {
                    "data": {
                        "text/plain": "'img/fashion1.png'"
                    },
                    "execution_count": 14,
                    "metadata": {},
                    "output_type": "execute_result"
                }
            ]
        },
        {
            "metadata": {},
            "cell_type": "markdown",
            "source": "You can then use the function <code>Image.open</code> to store the image to the variable <code>image</code> and display the image and class ."
        },
        {
            "metadata": {},
            "cell_type": "code",
            "source": "# Plot the second training image\n\nimage = Image.open(image_path)\nplt.imshow(image,cmap='gray', vmin=0, vmax=255)\nplt.title(data_name.iloc[1, 0])\nplt.show()",
            "execution_count": 15,
            "outputs": [
                {
                    "data": {
                        "image/png": "[encoded data removed]",
                        "text/plain": "<Figure size 432x288 with 1 Axes>"
                    },
                    "metadata": {
                        "needs_background": "light"
                    },
                    "output_type": "display_data"
                }
            ]
        },
        {
            "metadata": {},
            "cell_type": "markdown",
            "source": "You can repeat the process for the 20th image."
        },
        {
            "metadata": {},
            "cell_type": "code",
            "source": "# Plot the 20th image\n\nimage_name = data_name.iloc[19, 1]\nimage_path=os.path.join(directory,image_name)\nimage = Image.open(image_path)\nplt.imshow(image,cmap='gray', vmin=0, vmax=255)\nplt.title(data_name.iloc[19, 0])\nplt.show()",
            "execution_count": 16,
            "outputs": [
                {
                    "data": {
                        "image/png": "[encoded data removed]",
                        "text/plain": "<Figure size 432x288 with 1 Axes>"
                    },
                    "metadata": {
                        "needs_background": "light"
                    },
                    "output_type": "display_data"
                }
            ]
        },
        {
            "metadata": {},
            "cell_type": "markdown",
            "source": "<hr>"
        },
        {
            "metadata": {},
            "cell_type": "markdown",
            "source": " Create the dataset object."
        },
        {
            "metadata": {},
            "cell_type": "markdown",
            "source": "<h2 id=\"data_class\">Create a Dataset Class</h2>"
        },
        {
            "metadata": {},
            "cell_type": "markdown",
            "source": "In this section, we will use the components in the last section to build a dataset class and then create an object."
        },
        {
            "metadata": {},
            "cell_type": "code",
            "source": "# Create your own dataset object\n\nclass Dataset(Dataset):\n\n    # Constructor\n    def __init__(self, csv_file, data_dir, transform=None):\n        \n        # Image directory\n        self.data_dir=data_dir\n        \n        # The transform is goint to be used on image\n        self.transform = transform\n        data_dircsv_file=os.path.join(self.data_dir,csv_file)\n        # Load the CSV file contians image info\n        self.data_name= pd.read_csv(data_dircsv_file)\n        \n        # Number of images in dataset\n        self.len=self.data_name.shape[0] \n    \n    # Get the length\n    def __len__(self):\n        return self.len\n    \n    # Getter\n    def __getitem__(self, idx):\n        \n        # Image file path\n        img_name=os.path.join(self.data_dir,self.data_name.iloc[idx, 1])\n        # Open image file\n        image = Image.open(img_name)\n        \n        # The class label for the image\n        y = self.data_name.iloc[idx, 0]\n        \n        # If there is any transform method, apply it onto the image\n        if self.transform:\n            image = self.transform(image)\n\n        return image, y",
            "execution_count": 17,
            "outputs": []
        },
        {
            "metadata": {},
            "cell_type": "code",
            "source": "# Create the dataset objects\n\ndataset = Dataset(csv_file=csv_file, data_dir=directory)",
            "execution_count": 18,
            "outputs": []
        },
        {
            "metadata": {},
            "cell_type": "markdown",
            "source": "Each sample of the image and the class y is stored in a tuple <code> dataset[sample]</code> . The image is the first element in the tuple <code> dataset[sample][0]</code> the label or class is the second element in the tuple <code> dataset[sample][1]</code>. For example you can plot the first image and class."
        },
        {
            "metadata": {},
            "cell_type": "code",
            "source": "image=dataset[0][0]\ny=dataset[0][1]\n\nplt.imshow(image,cmap='gray', vmin=0, vmax=255)\nplt.title(y)\nplt.show()",
            "execution_count": 19,
            "outputs": [
                {
                    "data": {
                        "image/png": "[encoded data removed]",
                        "text/plain": "<Figure size 432x288 with 1 Axes>"
                    },
                    "metadata": {
                        "needs_background": "light"
                    },
                    "output_type": "display_data"
                }
            ]
        },
        {
            "metadata": {},
            "cell_type": "code",
            "source": "y",
            "execution_count": 20,
            "outputs": [
                {
                    "data": {
                        "text/plain": "'Ankle boot'"
                    },
                    "execution_count": 20,
                    "metadata": {},
                    "output_type": "execute_result"
                }
            ]
        },
        {
            "metadata": {},
            "cell_type": "markdown",
            "source": "Similarly, you can plot the second image: "
        },
        {
            "metadata": {},
            "cell_type": "code",
            "source": "image=dataset[9][0]\ny=dataset[9][1]\n\nplt.imshow(image,cmap='gray', vmin=0, vmax=255)\nplt.title(y)\nplt.show()",
            "execution_count": 21,
            "outputs": [
                {
                    "data": {
                        "image/png": "[encoded data removed]",
                        "text/plain": "<Figure size 432x288 with 1 Axes>"
                    },
                    "metadata": {
                        "needs_background": "light"
                    },
                    "output_type": "display_data"
                }
            ]
        },
        {
            "metadata": {},
            "cell_type": "markdown",
            "source": "<h2 id=\"Torchvision\"> Torchvision Transforms  </h2>"
        },
        {
            "metadata": {},
            "cell_type": "markdown",
            "source": " \nYou will focus on the following libraries:"
        },
        {
            "metadata": {},
            "cell_type": "code",
            "source": "import torchvision.transforms as transforms",
            "execution_count": 22,
            "outputs": []
        },
        {
            "metadata": {},
            "cell_type": "markdown",
            "source": "We can apply some image transform functions on the dataset object. The iamge can be cropped and converted to a tensor. We can use <code>transform.Compose</code> we learned from the previous lab to combine the two transform functions."
        },
        {
            "metadata": {},
            "cell_type": "code",
            "source": "# Combine two transforms: crop and convert to tensor. Apply the compose to MNIST dataset\n\ncroptensor_data_transform = transforms.Compose([transforms.CenterCrop(20), transforms.ToTensor()])\ndataset = Dataset(csv_file=csv_file , data_dir=directory,transform=croptensor_data_transform )\nprint(\"The shape of the first element tensor: \", dataset[0][0].shape)\n",
            "execution_count": 23,
            "outputs": [
                {
                    "name": "stdout",
                    "output_type": "stream",
                    "text": "The shape of the first element tensor:  torch.Size([1, 20, 20])\n"
                }
            ]
        },
        {
            "metadata": {},
            "cell_type": "markdown",
            "source": "We can see the image is now 20 x 20"
        },
        {
            "metadata": {},
            "cell_type": "markdown",
            "source": "<!--Empty Space for separating topics-->"
        },
        {
            "metadata": {},
            "cell_type": "markdown",
            "source": "Let us plot the first image again. Notice we see less of the shoe."
        },
        {
            "metadata": {},
            "cell_type": "code",
            "source": "# Plot the first element in the dataset\n\nshow_data(dataset[0],shape = (20, 20))",
            "execution_count": 24,
            "outputs": [
                {
                    "data": {
                        "image/png": "[encoded data removed]",
                        "text/plain": "<Figure size 432x288 with 1 Axes>"
                    },
                    "metadata": {
                        "needs_background": "light"
                    },
                    "output_type": "display_data"
                }
            ]
        },
        {
            "metadata": {},
            "cell_type": "code",
            "source": "# Plot the second element in the dataset\n\nshow_data(dataset[1],shape = (20, 20))",
            "execution_count": 25,
            "outputs": [
                {
                    "data": {
                        "image/png": "[encoded data removed]",
                        "text/plain": "<Figure size 432x288 with 1 Axes>"
                    },
                    "metadata": {
                        "needs_background": "light"
                    },
                    "output_type": "display_data"
                }
            ]
        },
        {
            "metadata": {},
            "cell_type": "markdown",
            "source": "In the below example, we Vertically flip the image, and then convert it to a tensor. Use <code>transforms.Compose()</code> to combine these two transform functions. Plot the flipped image."
        },
        {
            "metadata": {},
            "cell_type": "code",
            "source": "# Construct the compose. Apply it on MNIST dataset. Plot the image out.\n\nfliptensor_data_transform = transforms.Compose([transforms.RandomVerticalFlip(p=1),transforms.ToTensor()])\ndataset = Dataset(csv_file=csv_file , data_dir=directory,transform=fliptensor_data_transform )\nshow_data(dataset[1])",
            "execution_count": 26,
            "outputs": [
                {
                    "data": {
                        "image/png": "[encoded data removed]",
                        "text/plain": "<Figure size 432x288 with 1 Axes>"
                    },
                    "metadata": {
                        "needs_background": "light"
                    },
                    "output_type": "display_data"
                }
            ]
        },
        {
            "metadata": {},
            "cell_type": "markdown",
            "source": "<!--Empty Space for separating topics-->"
        },
        {
            "metadata": {},
            "cell_type": "markdown",
            "source": "<h3>Practice</h3>"
        },
        {
            "metadata": {},
            "cell_type": "markdown",
            "source": "Try to use the <code>RandomVerticalFlip</code> (vertically flip the image) with horizontally flip and convert to tensor as a compose. Apply the compose on image. Use <code>show_data()</code> to plot the second image (the image as <b>2</b>)."
        },
        {
            "metadata": {},
            "cell_type": "code",
            "source": "# Practice: Combine vertical flip, horizontal flip and convert to tensor as a compose. Apply the compose on image. Then plot the image\n\n# Type your code here\nmy_data_transform = transforms.Compose([transforms.RandomVerticalFlip(p = 1), transforms.RandomHorizontalFlip(p = 1), transforms.ToTensor()])\ndataset = Dataset(csv_file=csv_file , data_dir=directory,transform=fliptensor_data_transform )\nshow_data(dataset[1])",
            "execution_count": 27,
            "outputs": [
                {
                    "data": {
                        "image/png": "[encoded data removed]",
                        "text/plain": "<Figure size 432x288 with 1 Axes>"
                    },
                    "metadata": {
                        "needs_background": "light"
                    },
                    "output_type": "display_data"
                }
            ]
        },
        {
            "metadata": {},
            "cell_type": "markdown",
            "source": "Double-click __here__ for the solution.\n<!-- \nmy_data_transform = transforms.Compose([transforms.RandomVerticalFlip(p = 1), transforms.RandomHorizontalFlip(p = 1), transforms.ToTensor()])\ndataset = Dataset(csv_file=csv_file , data_dir=directory,transform=fliptensor_data_transform )\nshow_data(dataset[1])\n -->"
        },
        {
            "metadata": {},
            "cell_type": "markdown",
            "source": "<!--Empty Space for separating topics-->"
        },
        {
            "metadata": {},
            "cell_type": "markdown",
            "source": "<a href=\"http://cocl.us/pytorch_link_bottom\">\n    <img src=\"https://s3-api.us-geo.objectstorage.softlayer.net/cf-courses-data/CognitiveClass/DL0110EN/notebook_images%20/notebook_bottom%20.png\" width=\"750\" alt=\"PyTorch Bottom\" />\n</a>"
        },
        {
            "metadata": {},
            "cell_type": "markdown",
            "source": "<h2>About the Authors:</h2> \n\n<a href=\"https://www.linkedin.com/in/joseph-s-50398b136/\">Joseph Santarcangelo</a> has a PhD in Electrical Engineering, his research focused on using machine learning, signal processing, and computer vision to determine how videos impact human cognition. Joseph has been working for IBM since he completed his PhD."
        },
        {
            "metadata": {},
            "cell_type": "markdown",
            "source": "Other contributors: <a href=\"https://www.linkedin.com/in/michelleccarey/\">Michelle Carey</a>, <a href=\"www.linkedin.com/in/jiahui-mavis-zhou-a4537814a\">Mavis Zhou</a> "
        },
        {
            "metadata": {},
            "cell_type": "markdown",
            "source": "<hr>"
        },
        {
            "metadata": {},
            "cell_type": "markdown",
            "source": "Copyright &copy; 2018 <a href=\"cognitiveclass.ai?utm_source=bducopyrightlink&utm_medium=dswb&utm_campaign=bdu\">cognitiveclass.ai</a>. This notebook and its source code are released under the terms of the <a href=\"https://bigdatauniversity.com/mit-license/\">MIT License</a>."
        }
    ],
    "metadata": {
        "kernelspec": {
            "name": "python3",
            "display_name": "Python 3.6",
            "language": "python"
        },
        "language_info": {
            "name": "python",
            "version": "3.6.9",
            "mimetype": "text/x-python",
            "codemirror_mode": {
                "name": "ipython",
                "version": 3
            },
            "pygments_lexer": "ipython3",
            "nbconvert_exporter": "python",
            "file_extension": ".py"
        }
    },
    "nbformat": 4,
    "nbformat_minor": 4
}