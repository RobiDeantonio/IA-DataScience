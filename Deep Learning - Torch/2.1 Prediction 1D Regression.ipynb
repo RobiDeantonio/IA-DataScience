{
    "cells": [
        {
            "metadata": {},
            "cell_type": "markdown",
            "source": "<a href=\"http://cocl.us/pytorch_link_top\">\n    <img src=\"https://s3-api.us-geo.objectstorage.softlayer.net/cf-courses-data/CognitiveClass/DL0110EN/notebook_images%20/Pytochtop.png\" width=\"750\" alt=\"IBM Product \" />\n</a> "
        },
        {
            "metadata": {},
            "cell_type": "markdown",
            "source": "<img src=\"https://s3-api.us-geo.objectstorage.softlayer.net/cf-courses-data/CognitiveClass/DL0110EN/notebook_images%20/cc-logo-square.png\" width=\"200\" alt=\"cognitiveclass.ai logo\" />"
        },
        {
            "metadata": {},
            "cell_type": "markdown",
            "source": "<h1>Linear Regression 1D: Prediction</h1>"
        },
        {
            "metadata": {},
            "cell_type": "markdown",
            "source": "<h2>Table of Contents</h2>\n<p>In this lab, we will  review how to make a prediction in several different ways by using PyTorch.</h2>\n<ul>\n    <li><a href=\"#Prediction\">Prediction</a></li>\n    <li><a href=\"#Linear\">Class Linear</a></li>\n    <li><a href=\"#Cust\">Build Custom Modules</a></li>\n</ul>\n<p>Estimated Time Needed: <strong>15 min</strong></p>\n\n<hr>"
        },
        {
            "metadata": {},
            "cell_type": "markdown",
            "source": "<h2>Preparation</h2>"
        },
        {
            "metadata": {},
            "cell_type": "markdown",
            "source": "The following are the libraries we are going to use for this lab."
        },
        {
            "metadata": {},
            "cell_type": "code",
            "source": "# These are the libraries will be used for this lab.\n\nimport torch",
            "execution_count": null,
            "outputs": []
        },
        {
            "metadata": {},
            "cell_type": "markdown",
            "source": "<!--Empty Space for separating topics-->"
        },
        {
            "metadata": {},
            "cell_type": "markdown",
            "source": "<h2 id=\"Prediction\">Prediction</h2>"
        },
        {
            "metadata": {},
            "cell_type": "markdown",
            "source": "Let us create the following expressions:"
        },
        {
            "metadata": {},
            "cell_type": "markdown",
            "source": "$b=-1,w=2$\n\n$\\hat{y}=-1+2x$"
        },
        {
            "metadata": {},
            "cell_type": "markdown",
            "source": "First, define the parameters:"
        },
        {
            "metadata": {},
            "cell_type": "code",
            "source": "# Define w = 2 and b = -1 for y = wx + b\n\nw = torch.tensor(2.0, requires_grad = True)\nb = torch.tensor(-1.0, requires_grad = True)",
            "execution_count": null,
            "outputs": []
        },
        {
            "metadata": {},
            "cell_type": "markdown",
            "source": "Then, define the function <code>forward(x, w, b)</code> makes the prediction: "
        },
        {
            "metadata": {},
            "cell_type": "code",
            "source": "# Function forward(x) for prediction\n\ndef forward(x):\n    yhat = w * x + b\n    return yhat",
            "execution_count": null,
            "outputs": []
        },
        {
            "metadata": {},
            "cell_type": "markdown",
            "source": "Let's make the following prediction at <i>x = 1</i>"
        },
        {
            "metadata": {},
            "cell_type": "markdown",
            "source": "$\\hat{y}=-1+2x$\n\n$\\hat{y}=-1+2(1)$"
        },
        {
            "metadata": {},
            "cell_type": "code",
            "source": "# Predict y = 2x - 1 at x = 1\n\nx = torch.tensor([[1.0]])\nyhat = forward(x)\nprint(\"The prediction: \", yhat)",
            "execution_count": null,
            "outputs": []
        },
        {
            "metadata": {},
            "cell_type": "markdown",
            "source": "<!--Empty Space for separating topics-->"
        },
        {
            "metadata": {},
            "cell_type": "markdown",
            "source": "Now, let us try to make the prediction for multiple inputs:"
        },
        {
            "metadata": {},
            "cell_type": "markdown",
            "source": "<img src=\"https://s3-api.us-geo.objectstorage.softlayer.net/cf-courses-data/CognitiveClass/DL0110EN/notebook_images%20/chapter2/2.1.2.png\" width=\"500\" alt=\"Linear Regression Multiple Input Samples\" />"
        },
        {
            "metadata": {},
            "cell_type": "markdown",
            "source": "Let us construct the <code>x</code> tensor first. Check the shape of <code>x</code>."
        },
        {
            "metadata": {},
            "cell_type": "code",
            "source": "# Create x Tensor and check the shape of x tensor\n\nx = torch.tensor([[1.0], [2.0]])\nprint(\"The shape of x: \", x.shape)",
            "execution_count": null,
            "outputs": []
        },
        {
            "metadata": {},
            "cell_type": "markdown",
            "source": "Now make the prediction: "
        },
        {
            "metadata": {},
            "cell_type": "code",
            "source": "# Make the prediction of y = 2x - 1 at x = [1, 2]\n\nyhat = forward(x)\nprint(\"The prediction: \", yhat)",
            "execution_count": null,
            "outputs": []
        },
        {
            "metadata": {},
            "cell_type": "markdown",
            "source": "The result is the same as what it is in the image above."
        },
        {
            "metadata": {},
            "cell_type": "markdown",
            "source": "<!--Empty Space for separating topics-->"
        },
        {
            "metadata": {},
            "cell_type": "markdown",
            "source": "<h3>Practice</h3>"
        },
        {
            "metadata": {},
            "cell_type": "markdown",
            "source": "Make a prediction of the following <code>x</code> tensor using the <code>w</code> and <code>b</code> from above."
        },
        {
            "metadata": {},
            "cell_type": "code",
            "source": "# Practice: Make a prediction of y = 2x - 1 at x = [[1.0], [2.0], [3.0]]\n\nx = torch.tensor([[1.0], [2.0], [3.0]])",
            "execution_count": null,
            "outputs": []
        },
        {
            "metadata": {},
            "cell_type": "markdown",
            "source": "Double-click <b>here</b> for the solution.\n\n<!-- Your answer is below:\nyhat = forward(x)\nprint(\"The prediction: \", yhat)\n-->"
        },
        {
            "metadata": {},
            "cell_type": "markdown",
            "source": "<!--Empty Space for separating topics-->"
        },
        {
            "metadata": {},
            "cell_type": "markdown",
            "source": "<h2 id=\"Linear\">Class Linear</h2>"
        },
        {
            "metadata": {},
            "cell_type": "markdown",
            "source": "The linear class can be used to make a prediction. We can also use the linear class to build more complex models. Let's import the module:"
        },
        {
            "metadata": {},
            "cell_type": "code",
            "source": "# Import Class Linear\n\nfrom torch.nn import Linear",
            "execution_count": null,
            "outputs": []
        },
        {
            "metadata": {},
            "cell_type": "markdown",
            "source": "Set the random seed because the parameters are randomly initialized:"
        },
        {
            "metadata": {},
            "cell_type": "code",
            "source": "# Set random seed\n\ntorch.manual_seed(1)",
            "execution_count": null,
            "outputs": []
        },
        {
            "metadata": {},
            "cell_type": "markdown",
            "source": "<!--Empty Space for separating topics-->"
        },
        {
            "metadata": {},
            "cell_type": "markdown",
            "source": "Let us create the linear object by using the constructor. The parameters are randomly created. Let us print out to see what <i>w</i> and <i>b</i>. The parameters of an <code>torch.nn.Module</code> model are contained in the model\u2019s parameters accessed with <code>lr.parameters()</code>:"
        },
        {
            "metadata": {},
            "cell_type": "code",
            "source": "# Create Linear Regression Model, and print out the parameters\n\nlr = Linear(in_features=1, out_features=1, bias=True)\nprint(\"Parameters w and b: \", list(lr.parameters()))\n",
            "execution_count": null,
            "outputs": []
        },
        {
            "metadata": {},
            "cell_type": "markdown",
            "source": "This is equivalent to the following expression:  "
        },
        {
            "metadata": {},
            "cell_type": "markdown",
            "source": "$b=-0.44, w=0.5153$\n\n$\\hat{y}=-0.44+0.5153x$"
        },
        {
            "metadata": {},
            "cell_type": "markdown",
            "source": "A method  <code>state_dict()</code> Returns a Python dictionary object corresponding to the layers of each parameter  tensor. "
        },
        {
            "metadata": {},
            "cell_type": "code",
            "source": "print(\"Python dictionary: \",lr.state_dict())\nprint(\"keys: \",lr.state_dict().keys())\nprint(\"values: \",lr.state_dict().values())",
            "execution_count": null,
            "outputs": []
        },
        {
            "metadata": {},
            "cell_type": "markdown",
            "source": "The keys correspond to the name of the attributes and the values correspond to the parameter value."
        },
        {
            "metadata": {},
            "cell_type": "code",
            "source": "print(\"weight:\",lr.weight)\nprint(\"bias:\",lr.bias)",
            "execution_count": null,
            "outputs": []
        },
        {
            "metadata": {},
            "cell_type": "markdown",
            "source": "Now let us make a single prediction at <i>x = [[1.0]]</i>."
        },
        {
            "metadata": {},
            "cell_type": "code",
            "source": "# Make the prediction at x = [[1.0]]\n\nx = torch.tensor([[1.0]])\nyhat = lr(x)\nprint(\"The prediction: \", yhat)",
            "execution_count": null,
            "outputs": []
        },
        {
            "metadata": {},
            "cell_type": "markdown",
            "source": "<!--Empty Space for separating topics-->"
        },
        {
            "metadata": {},
            "cell_type": "markdown",
            "source": "Similarly, you can make multiple predictions:"
        },
        {
            "metadata": {},
            "cell_type": "markdown",
            "source": "<img src=\"https://s3-api.us-geo.objectstorage.softlayer.net/cf-courses-data/CognitiveClass/DL0110EN/notebook_images%20/chapter2/2.1.2vector_function.png\" width=\"500\" alt=\"Linear Class Sample with Multiple Inputs\" />"
        },
        {
            "metadata": {},
            "cell_type": "markdown",
            "source": "Use model <code>lr(x)</code> to predict the result."
        },
        {
            "metadata": {},
            "cell_type": "code",
            "source": "# Create the prediction using linear model\n\nx = torch.tensor([[1.0], [2.0]])\nyhat = lr(x)\nprint(\"The prediction: \", yhat)",
            "execution_count": null,
            "outputs": []
        },
        {
            "metadata": {},
            "cell_type": "markdown",
            "source": "<!--Empty Space for separating topics-->"
        },
        {
            "metadata": {},
            "cell_type": "markdown",
            "source": "<h3>Practice</h3>"
        },
        {
            "metadata": {},
            "cell_type": "markdown",
            "source": "Make a prediction of the following <code>x</code> tensor using the linear regression model <code>lr</code>."
        },
        {
            "metadata": {},
            "cell_type": "code",
            "source": "# Practice: Use the linear regression model object lr to make the prediction.\n\nx = torch.tensor([[1.0],[2.0],[3.0]])",
            "execution_count": null,
            "outputs": []
        },
        {
            "metadata": {},
            "cell_type": "markdown",
            "source": "Double-click <b>here</b> for the solution.\n\n<!-- Your answer is below:\nx=torch.tensor([[1.0],[2.0],[3.0]])\nyhat = lr(x)\nprint(\"The prediction: \", yhat)\n-->"
        },
        {
            "metadata": {},
            "cell_type": "markdown",
            "source": "<!--Empty Space for separating topics-->"
        },
        {
            "metadata": {},
            "cell_type": "markdown",
            "source": "<h2 id=\"Cust\">Build Custom Modules</h2>"
        },
        {
            "metadata": {},
            "cell_type": "markdown",
            "source": "Now, let's build a custom module. We can make more complex models by using this method later on. "
        },
        {
            "metadata": {},
            "cell_type": "markdown",
            "source": "First, import the following library."
        },
        {
            "metadata": {},
            "cell_type": "code",
            "source": "# Library for this section\n\nfrom torch import nn",
            "execution_count": null,
            "outputs": []
        },
        {
            "metadata": {},
            "cell_type": "markdown",
            "source": "Now, let us define the class: "
        },
        {
            "metadata": {},
            "cell_type": "code",
            "source": "# Customize Linear Regression Class\n\nclass LR(nn.Module):\n    \n    # Constructor\n    def __init__(self, input_size, output_size):\n        \n        # Inherit from parent\n        super(LR, self).__init__()\n        self.linear = nn.Linear(input_size, output_size)\n    \n    # Prediction function\n    def forward(self, x):\n        out = self.linear(x)\n        return out",
            "execution_count": null,
            "outputs": []
        },
        {
            "metadata": {},
            "cell_type": "markdown",
            "source": "Create an object by using the constructor. Print out the parameters we get and the model."
        },
        {
            "metadata": {},
            "cell_type": "code",
            "source": "# Create the linear regression model. Print out the parameters.\n\nlr = LR(1, 1)\nprint(\"The parameters: \", list(lr.parameters()))\nprint(\"Linear model: \", lr.linear)",
            "execution_count": null,
            "outputs": []
        },
        {
            "metadata": {},
            "cell_type": "markdown",
            "source": "<!--Empty Space for separating topics-->"
        },
        {
            "metadata": {},
            "cell_type": "markdown",
            "source": "Let us try to make a prediction of a single input sample."
        },
        {
            "metadata": {},
            "cell_type": "code",
            "source": "# Try our customize linear regression model with single input\n\nx = torch.tensor([[1.0]])\nyhat = lr(x)\nprint(\"The prediction: \", yhat)",
            "execution_count": null,
            "outputs": []
        },
        {
            "metadata": {},
            "cell_type": "markdown",
            "source": "<!--Empty Space for separating topics-->"
        },
        {
            "metadata": {},
            "cell_type": "markdown",
            "source": "Now, let us try another example with multiple samples."
        },
        {
            "metadata": {},
            "cell_type": "code",
            "source": "# Try our customize linear regression model with multiple input\n\nx = torch.tensor([[1.0], [2.0]])\nyhat = lr(x)\nprint(\"The prediction: \", yhat)",
            "execution_count": null,
            "outputs": []
        },
        {
            "metadata": {},
            "cell_type": "markdown",
            "source": "the parameters are also stored in an ordered dictionary :"
        },
        {
            "metadata": {},
            "cell_type": "code",
            "source": "print(\"Python dictionary: \", lr.state_dict())\nprint(\"keys: \",lr.state_dict().keys())\nprint(\"values: \",lr.state_dict().values())\n",
            "execution_count": null,
            "outputs": []
        },
        {
            "metadata": {},
            "cell_type": "markdown",
            "source": "<!--Empty Space for separating topics-->"
        },
        {
            "metadata": {},
            "cell_type": "markdown",
            "source": "<h3>Practice</h3>"
        },
        {
            "metadata": {},
            "cell_type": "markdown",
            "source": "Create an object <code>lr1</code> from the class we created before and make a prediction by using the following tensor: "
        },
        {
            "metadata": {},
            "cell_type": "code",
            "source": "# Practice: Use the LR class to create a model and make a prediction of the following tensor.\n\nx = torch.tensor([[1.0], [2.0], [3.0]])",
            "execution_count": null,
            "outputs": []
        },
        {
            "metadata": {},
            "cell_type": "markdown",
            "source": "Double-click <b>here</b> for the solution.\n\n<!-- Your answer is below:\nx=torch.tensor([[1.0],[2.0],[3.0]])\nlr1=LR(1,1)\nyhat=lr(x)\nyhat\n-->"
        },
        {
            "metadata": {},
            "cell_type": "markdown",
            "source": " <!-- Your answer is below:\nx=torch.tensor([[1.0],[2.0],[3.0]])\nlr1=LR(1,1)\nyhat=lr1(x)\nyhat\n-->"
        },
        {
            "metadata": {},
            "cell_type": "markdown",
            "source": "<a href=\"http://cocl.us/pytorch_link_bottom\">\n    <img src=\"https://s3-api.us-geo.objectstorage.softlayer.net/cf-courses-data/CognitiveClass/DL0110EN/notebook_images%20/notebook_bottom%20.png\" width=\"750\" alt=\"PyTorch Bottom\" />\n</a>"
        },
        {
            "metadata": {},
            "cell_type": "markdown",
            "source": "<h2>About the Authors:</h2> \n\n<a href=\"https://www.linkedin.com/in/joseph-s-50398b136/\">Joseph Santarcangelo</a> has a PhD in Electrical Engineering, his research focused on using machine learning, signal processing, and computer vision to determine how videos impact human cognition. Joseph has been working for IBM since he completed his PhD."
        },
        {
            "metadata": {},
            "cell_type": "markdown",
            "source": "Other contributors: <a href=\"https://www.linkedin.com/in/michelleccarey/\">Michelle Carey</a>, <a href=\"www.linkedin.com/in/jiahui-mavis-zhou-a4537814a\">Mavis Zhou</a> "
        },
        {
            "metadata": {},
            "cell_type": "markdown",
            "source": "<hr>"
        },
        {
            "metadata": {},
            "cell_type": "markdown",
            "source": "Copyright &copy; 2018 <a href=\"cognitiveclass.ai?utm_source=bducopyrightlink&utm_medium=dswb&utm_campaign=bdu\">cognitiveclass.ai</a>. This notebook and its source code are released under the terms of the <a href=\"https://bigdatauniversity.com/mit-license/\">MIT License</a>."
        }
    ],
    "metadata": {
        "kernelspec": {
            "name": "python3",
            "display_name": "Python 3.6",
            "language": "python"
        },
        "language_info": {
            "name": "python",
            "version": "3.6.9",
            "mimetype": "text/x-python",
            "codemirror_mode": {
                "name": "ipython",
                "version": 3
            },
            "pygments_lexer": "ipython3",
            "nbconvert_exporter": "python",
            "file_extension": ".py"
        }
    },
    "nbformat": 4,
    "nbformat_minor": 2
}