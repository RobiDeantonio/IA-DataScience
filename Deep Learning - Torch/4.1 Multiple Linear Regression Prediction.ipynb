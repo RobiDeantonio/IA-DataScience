{
    "cells": [
        {
            "metadata": {},
            "cell_type": "markdown",
            "source": "<a href=\"http://cocl.us/pytorch_link_top\">\n    <img src=\"https://s3-api.us-geo.objectstorage.softlayer.net/cf-courses-data/CognitiveClass/DL0110EN/notebook_images%20/Pytochtop.png\" width=\"750\" alt=\"IBM Product \" />\n</a> "
        },
        {
            "metadata": {},
            "cell_type": "markdown",
            "source": "<img src=\"https://s3-api.us-geo.objectstorage.softlayer.net/cf-courses-data/CognitiveClass/DL0110EN/notebook_images%20/cc-logo-square.png\" width=\"200\" alt=\"cognitiveclass.ai logo\" />"
        },
        {
            "metadata": {},
            "cell_type": "markdown",
            "source": "<h1>Multiple Linear Regression</h1>"
        },
        {
            "metadata": {},
            "cell_type": "markdown",
            "source": "<h2>Table of Contents</h2>\n<p>In this lab, you will review how to make a prediction in several different ways by using PyTorch.</p>\n\n<ul>\n    <li><a href=\"#Prediction\">Prediction</a></li>\n    <li><a href=\"#Linear\">Class Linear</a></li>\n    <li><a href=\"#Cust\">Build Custom Modules</a></li>\n</ul>\n\n<p>Estimated Time Needed: <strong>15 min</strong></p>\n\n<hr>"
        },
        {
            "metadata": {},
            "cell_type": "markdown",
            "source": "<h2>Preparation</h2>"
        },
        {
            "metadata": {},
            "cell_type": "markdown",
            "source": "Import the libraries and set the random seed."
        },
        {
            "metadata": {},
            "cell_type": "code",
            "source": "# Import the libraries and set the random seed\n\nfrom torch import nn\nimport torch\ntorch.manual_seed(1)",
            "execution_count": 1,
            "outputs": [
                {
                    "data": {
                        "text/plain": "<torch._C.Generator at 0x7f0f49c331b0>"
                    },
                    "execution_count": 1,
                    "metadata": {},
                    "output_type": "execute_result"
                }
            ]
        },
        {
            "metadata": {},
            "cell_type": "markdown",
            "source": "<!--Empty Space for separating topics-->"
        },
        {
            "metadata": {},
            "cell_type": "markdown",
            "source": "<h2 id=\"Prediction\">Prediction</h2>"
        },
        {
            "metadata": {},
            "cell_type": "markdown",
            "source": "Set weight and bias."
        },
        {
            "metadata": {},
            "cell_type": "code",
            "source": "# Set the weight and bias\n\nw = torch.tensor([[2.0], [3.0]], requires_grad=True)\nb = torch.tensor([[1.0]], requires_grad=True)",
            "execution_count": 2,
            "outputs": []
        },
        {
            "metadata": {},
            "cell_type": "markdown",
            "source": "Define the parameters. <code>torch.mm</code> uses matrix multiplication instead of scaler multiplication."
        },
        {
            "metadata": {},
            "cell_type": "code",
            "source": "# Define Prediction Function\n\ndef forward(x):\n    yhat = torch.mm(x, w) + b\n    return yhat",
            "execution_count": 3,
            "outputs": []
        },
        {
            "metadata": {},
            "cell_type": "markdown",
            "source": "The function <code>forward</code> implements the following equation:"
        },
        {
            "metadata": {},
            "cell_type": "markdown",
            "source": "<img src=\"https://s3-api.us-geo.objectstorage.softlayer.net/cf-courses-data/CognitiveClass/DL0110EN/notebook_images%20/chapter2/2.6.1_matrix_eq.png\" width=\"600\" alt=\"Matrix Linear Regression\"/>"
        },
        {
            "metadata": {},
            "cell_type": "markdown",
            "source": "If we input a <i>1x2</i> tensor, because we have a <i>2x1</i> tensor as <code>w</code>, we will get a <i>1x1</i> tensor: "
        },
        {
            "metadata": {},
            "cell_type": "code",
            "source": "# Calculate yhat\n\nx = torch.tensor([[1.0, 2.0]])\nyhat = forward(x)\nprint(\"The result: \", yhat)",
            "execution_count": 4,
            "outputs": [
                {
                    "name": "stdout",
                    "output_type": "stream",
                    "text": "The result:  tensor([[9.]], grad_fn=<AddBackward0>)\n"
                }
            ]
        },
        {
            "metadata": {},
            "cell_type": "markdown",
            "source": "<img src = \"https://s3-api.us-geo.objectstorage.softlayer.net/cf-courses-data/CognitiveClass/DL0110EN/notebook_images%20/chapter2/2.6.1example.png\" width = \"300\" alt=\"Linear Regression Matrix Sample One\" />"
        },
        {
            "metadata": {},
            "cell_type": "markdown",
            "source": "# Each row of the following tensor represents a sample:"
        },
        {
            "metadata": {},
            "cell_type": "code",
            "source": "# Sample tensor X\n\nX = torch.tensor([[1.0, 1.0], [1.0, 2.0], [1.0, 3.0]])",
            "execution_count": 5,
            "outputs": []
        },
        {
            "metadata": {},
            "cell_type": "code",
            "source": "# Make the prediction of X \n\nyhat = forward(X)\nprint(\"The result: \", yhat)",
            "execution_count": 6,
            "outputs": [
                {
                    "name": "stdout",
                    "output_type": "stream",
                    "text": "The result:  tensor([[ 6.],\n        [ 9.],\n        [12.]], grad_fn=<AddBackward0>)\n"
                }
            ]
        },
        {
            "metadata": {},
            "cell_type": "markdown",
            "source": "<!--Empty Space for separating topics-->"
        },
        {
            "metadata": {},
            "cell_type": "markdown",
            "source": "<h2 id=\"Linear\">Class Linear</h2>"
        },
        {
            "metadata": {},
            "cell_type": "markdown",
            "source": "We can use the linear class to make a prediction. You'll also use the linear class to build more complex models."
        },
        {
            "metadata": {},
            "cell_type": "markdown",
            "source": "Let us create a model."
        },
        {
            "metadata": {},
            "cell_type": "code",
            "source": "# Make a linear regression model using build-in function\n\nmodel = nn.Linear(2, 1)",
            "execution_count": 7,
            "outputs": []
        },
        {
            "metadata": {},
            "cell_type": "markdown",
            "source": "Make a prediction with the first sample:"
        },
        {
            "metadata": {},
            "cell_type": "code",
            "source": "# Make a prediction of x\n\nyhat = model(x)\nprint(\"The result: \", yhat)",
            "execution_count": 8,
            "outputs": [
                {
                    "name": "stdout",
                    "output_type": "stream",
                    "text": "The result:  tensor([[-0.3969]], grad_fn=<AddmmBackward>)\n"
                }
            ]
        },
        {
            "metadata": {},
            "cell_type": "markdown",
            "source": "Predict with multiple samples <code>X</code>: "
        },
        {
            "metadata": {},
            "cell_type": "code",
            "source": "# Make a prediction of X\n\nyhat = model(X)\nprint(\"The result: \", yhat)",
            "execution_count": 9,
            "outputs": [
                {
                    "name": "stdout",
                    "output_type": "stream",
                    "text": "The result:  tensor([[-0.0848],\n        [-0.3969],\n        [-0.7090]], grad_fn=<AddmmBackward>)\n"
                }
            ]
        },
        {
            "metadata": {},
            "cell_type": "markdown",
            "source": "The function performs matrix multiplication as shown in this image:"
        },
        {
            "metadata": {},
            "cell_type": "markdown",
            "source": "<img src = \"https://s3-api.us-geo.objectstorage.softlayer.net/cf-courses-data/CognitiveClass/DL0110EN/notebook_images%20/chapter2/2.6.1multi_sample_example.png\" width = \"600\" alt=\"Linear Regression Matrix Sample One\" />"
        },
        {
            "metadata": {},
            "cell_type": "markdown",
            "source": "<!--Empty Space for separating topics-->"
        },
        {
            "metadata": {},
            "cell_type": "markdown",
            "source": "<h2 id=\"Cust\">Build Custom Modules </h2>"
        },
        {
            "metadata": {},
            "cell_type": "markdown",
            "source": "Now, you'll build a custom module. You can make more complex models by using this method later. "
        },
        {
            "metadata": {},
            "cell_type": "code",
            "source": "# Create linear_regression Class\n\nclass linear_regression(nn.Module):\n    \n    # Constructor\n    def __init__(self, input_size, output_size):\n        super(linear_regression, self).__init__()\n        self.linear = nn.Linear(input_size, output_size)\n    \n    # Prediction function\n    def forward(self, x):\n        yhat = self.linear(x)\n        return yhat",
            "execution_count": 10,
            "outputs": []
        },
        {
            "metadata": {},
            "cell_type": "markdown",
            "source": "Build a linear regression object. The input feature size is two. "
        },
        {
            "metadata": {},
            "cell_type": "code",
            "source": "model = linear_regression(2, 1)",
            "execution_count": 11,
            "outputs": []
        },
        {
            "metadata": {},
            "cell_type": "markdown",
            "source": "This will input the following equation:"
        },
        {
            "metadata": {},
            "cell_type": "markdown",
            "source": "<img src=\"https://s3-api.us-geo.objectstorage.softlayer.net/cf-courses-data/CognitiveClass/DL0110EN/notebook_images%20/chapter2/2.6.1_matrix_eq.png\" width=\"600\" alt=\"Matrix Linear Regression\" />"
        },
        {
            "metadata": {},
            "cell_type": "markdown",
            "source": "You can see the randomly initialized parameters by using the <code>parameters()</code> method:"
        },
        {
            "metadata": {},
            "cell_type": "code",
            "source": "# Print model parameters\n\nprint(\"The parameters: \", list(model.parameters()))",
            "execution_count": 12,
            "outputs": [
                {
                    "name": "stdout",
                    "output_type": "stream",
                    "text": "The parameters:  [Parameter containing:\ntensor([[ 0.3319, -0.6657]], requires_grad=True), Parameter containing:\ntensor([0.4241], requires_grad=True)]\n"
                }
            ]
        },
        {
            "metadata": {},
            "cell_type": "markdown",
            "source": "You can also see the parameters by using the <code>state_dict()</code> method:"
        },
        {
            "metadata": {},
            "cell_type": "code",
            "source": "# Print model parameters\n\nprint(\"The parameters: \", model.state_dict())",
            "execution_count": 13,
            "outputs": [
                {
                    "name": "stdout",
                    "output_type": "stream",
                    "text": "The parameters:  OrderedDict([('linear.weight', tensor([[ 0.3319, -0.6657]])), ('linear.bias', tensor([0.4241]))])\n"
                }
            ]
        },
        {
            "metadata": {},
            "cell_type": "markdown",
            "source": "Now we input a 1x2 tensor, and we will get a 1x1 tensor."
        },
        {
            "metadata": {},
            "cell_type": "code",
            "source": "# Make a prediction of x\n\nyhat = model(x)\nprint(\"The result: \", yhat)",
            "execution_count": 14,
            "outputs": [
                {
                    "name": "stdout",
                    "output_type": "stream",
                    "text": "The result:  tensor([[-0.5754]], grad_fn=<AddmmBackward>)\n"
                }
            ]
        },
        {
            "metadata": {},
            "cell_type": "markdown",
            "source": "The shape of the output is shown in the following image: "
        },
        {
            "metadata": {},
            "cell_type": "markdown",
            "source": "<img src=\"https://s3-api.us-geo.objectstorage.softlayer.net/cf-courses-data/CognitiveClass/DL0110EN/notebook_images%20/chapter2/2.6.1_matrix_eq.png\" width=\"600\" alt=\"Matrix Linear Regression\" />"
        },
        {
            "metadata": {},
            "cell_type": "markdown",
            "source": "Make a prediction for multiple samples:"
        },
        {
            "metadata": {},
            "cell_type": "code",
            "source": "# Make a prediction of X\n\nyhat = model(X)\nprint(\"The result: \", yhat)",
            "execution_count": 15,
            "outputs": [
                {
                    "name": "stdout",
                    "output_type": "stream",
                    "text": "The result:  tensor([[ 0.0903],\n        [-0.5754],\n        [-1.2411]], grad_fn=<AddmmBackward>)\n"
                }
            ]
        },
        {
            "metadata": {},
            "cell_type": "markdown",
            "source": "The shape is shown in the following image: \n"
        },
        {
            "metadata": {},
            "cell_type": "markdown",
            "source": "<img src=\"https://s3-api.us-geo.objectstorage.softlayer.net/cf-courses-data/CognitiveClass/DL0110EN/notebook_images%20/chapter2/2.6.1Multi_sample.png\" width=\"600\" alt=\"Multiple Samples Linear Regression\" />"
        },
        {
            "metadata": {},
            "cell_type": "markdown",
            "source": "<!--Empty Space for separating topics-->"
        },
        {
            "metadata": {},
            "cell_type": "markdown",
            "source": "<h3>Practice</h3>"
        },
        {
            "metadata": {},
            "cell_type": "markdown",
            "source": "Build a model or object of type <code>linear_regression</code>. Using the <code>linear_regression</code> object will predict the following tensor: "
        },
        {
            "metadata": {},
            "cell_type": "code",
            "source": "# Practice: Build a model to predict the follow tensor.\n\nX = torch.tensor([[11.0, 12.0, 13, 14], [11, 12, 13, 14]])\n\nmodel = linear_regression(4, 1)\nyhat = model(X)\nprint(\"The result: \", yhat)",
            "execution_count": 16,
            "outputs": [
                {
                    "name": "stdout",
                    "output_type": "stream",
                    "text": "The result:  tensor([[2.1062],\n        [2.1062]], grad_fn=<AddmmBackward>)\n"
                }
            ]
        },
        {
            "metadata": {},
            "cell_type": "markdown",
            "source": "Double-click <b>here</b> for the solution.\n<!-- Your answer is below:\nmodel = linear_regression(4, 1)\nyhat = model(X)\nprint(\"The result: \", yhat)\n-->"
        },
        {
            "metadata": {},
            "cell_type": "markdown",
            "source": "<!--Empty Space for separating topics-->"
        },
        {
            "metadata": {},
            "cell_type": "markdown",
            "source": "<a href=\"http://cocl.us/pytorch_link_bottom\">\n    <img src=\"https://s3-api.us-geo.objectstorage.softlayer.net/cf-courses-data/CognitiveClass/DL0110EN/notebook_images%20/notebook_bottom%20.png\" width=\"750\" alt=\"PyTorch Bottom\" />\n</a>"
        },
        {
            "metadata": {},
            "cell_type": "markdown",
            "source": "<h2>About the Authors:</h2> \n\n<a href=\"https://www.linkedin.com/in/joseph-s-50398b136/\">Joseph Santarcangelo</a> has a PhD in Electrical Engineering, his research focused on using machine learning, signal processing, and computer vision to determine how videos impact human cognition. Joseph has been working for IBM since he completed his PhD."
        },
        {
            "metadata": {},
            "cell_type": "markdown",
            "source": "Other contributors: <a href=\"https://www.linkedin.com/in/michelleccarey/\">Michelle Carey</a>, <a href=\"www.linkedin.com/in/jiahui-mavis-zhou-a4537814a\">Mavis Zhou</a>"
        },
        {
            "metadata": {},
            "cell_type": "markdown",
            "source": "<hr>"
        },
        {
            "metadata": {},
            "cell_type": "markdown",
            "source": "Copyright &copy; 2018 <a href=\"cognitiveclass.ai?utm_source=bducopyrightlink&utm_medium=dswb&utm_campaign=bdu\">cognitiveclass.ai</a>. This notebook and its source code are released under the terms of the <a href=\"https://bigdatauniversity.com/mit-license/\">MIT License</a>."
        }
    ],
    "metadata": {
        "kernelspec": {
            "name": "python3",
            "display_name": "Python 3.6",
            "language": "python"
        },
        "language_info": {
            "name": "python",
            "version": "3.6.9",
            "mimetype": "text/x-python",
            "codemirror_mode": {
                "name": "ipython",
                "version": 3
            },
            "pygments_lexer": "ipython3",
            "nbconvert_exporter": "python",
            "file_extension": ".py"
        }
    },
    "nbformat": 4,
    "nbformat_minor": 4
}