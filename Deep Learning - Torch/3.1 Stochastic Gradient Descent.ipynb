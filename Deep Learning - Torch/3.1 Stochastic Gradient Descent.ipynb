{
    "cells": [
        {
            "metadata": {},
            "cell_type": "markdown",
            "source": "<a href=\"http://cocl.us/pytorch_link_top\">\n    <img src=\"https://s3-api.us-geo.objectstorage.softlayer.net/cf-courses-data/CognitiveClass/DL0110EN/notebook_images%20/Pytochtop.png\" width=\"750\" alt=\"IBM Product \" />\n</a> "
        },
        {
            "metadata": {},
            "cell_type": "markdown",
            "source": "<img src=\"https://s3-api.us-geo.objectstorage.softlayer.net/cf-courses-data/CognitiveClass/DL0110EN/notebook_images%20/cc-logo-square.png\" width=\"200\" alt=\"cognitiveclass.ai logo\" />"
        },
        {
            "metadata": {},
            "cell_type": "markdown",
            "source": "<h1>Linear regression 1D: Training Two Parameter Stochastic Gradient Descent (SGD)</h1>"
        },
        {
            "metadata": {},
            "cell_type": "markdown",
            "source": "<h2>Table of Contents</h2>\n<p>In this Lab, you will practice training a model by using Stochastic Gradient descent.</p>\n\n<ul>\n    <li><a href=\"#Makeup_Data\">Make Some Data</a></li>\n    <li><a href=\"#Model_Cost\">Create the Model and Cost Function (Total Loss)</a></li>\n    <li><a href=\"#BGD\">Train the Model:Batch Gradient Descent</a></li>\n    <li><a href=\"#SGD\">Train the Model:Stochastic gradient descent</a></li>\n    <li><a href=\"#SGD_Loader\">Train the Model:Stochastic gradient descent with Data Loader</a></li>\n</ul>\n<p>Estimated Time Needed: <strong>30 min</strong></p>\n\n<hr>"
        },
        {
            "metadata": {},
            "cell_type": "markdown",
            "source": "<h2>Preparation</h2>"
        },
        {
            "metadata": {},
            "cell_type": "markdown",
            "source": "We'll need the following libraries:  "
        },
        {
            "metadata": {},
            "cell_type": "code",
            "source": "# These are the libraries we are going to use in the lab.\n\nimport torch\nimport matplotlib.pyplot as plt\nimport numpy as np\n\nfrom mpl_toolkits import mplot3d",
            "execution_count": null,
            "outputs": []
        },
        {
            "metadata": {},
            "cell_type": "markdown",
            "source": "The class <code>plot_error_surfaces</code> is just to help you visualize the data space and the parameter space during training and has nothing to do with PyTorch."
        },
        {
            "metadata": {},
            "cell_type": "code",
            "source": "# The class for plot the diagram\n\nclass plot_error_surfaces(object):\n    \n    # Constructor\n    def __init__(self, w_range, b_range, X, Y, n_samples = 30, go = True):\n        W = np.linspace(-w_range, w_range, n_samples)\n        B = np.linspace(-b_range, b_range, n_samples)\n        w, b = np.meshgrid(W, B)    \n        Z = np.zeros((30, 30))\n        count1 = 0\n        self.y = Y.numpy()\n        self.x = X.numpy()\n        for w1, b1 in zip(w, b):\n            count2 = 0\n            for w2, b2 in zip(w1, b1):\n                Z[count1, count2] = np.mean((self.y - w2 * self.x + b2) ** 2)\n                count2 += 1\n            count1 += 1\n        self.Z = Z\n        self.w = w\n        self.b = b\n        self.W = []\n        self.B = []\n        self.LOSS = []\n        self.n = 0\n        if go == True:\n            plt.figure()\n            plt.figure(figsize = (7.5, 5))\n            plt.axes(projection = '3d').plot_surface(self.w, self.b, self.Z, rstride = 1, cstride = 1,cmap = 'viridis', edgecolor = 'none')\n            plt.title('Loss Surface')\n            plt.xlabel('w')\n            plt.ylabel('b')\n            plt.show()\n            plt.figure()\n            plt.title('Loss Surface Contour')\n            plt.xlabel('w')\n            plt.ylabel('b')\n            plt.contour(self.w, self.b, self.Z)\n            plt.show()\n    \n    # Setter\n    def set_para_loss(self, W, B, loss):\n        self.n = self.n + 1\n        self.W.append(W)\n        self.B.append(B)\n        self.LOSS.append(loss)\n    \n    # Plot diagram\n    def final_plot(self): \n        ax = plt.axes(projection = '3d')\n        ax.plot_wireframe(self.w, self.b, self.Z)\n        ax.scatter(self.W, self.B, self.LOSS, c = 'r', marker = 'x', s = 200, alpha = 1)\n        plt.figure()\n        plt.contour(self.w, self.b, self.Z)\n        plt.scatter(self.W, self.B, c = 'r', marker = 'x')\n        plt.xlabel('w')\n        plt.ylabel('b')\n        plt.show()\n    \n    # Plot diagram\n    def plot_ps(self):\n        plt.subplot(121)\n        plt.ylim\n        plt.plot(self.x, self.y, 'ro', label = \"training points\")\n        plt.plot(self.x, self.W[-1] * self.x + self.B[-1], label = \"estimated line\")\n        plt.xlabel('x')\n        plt.ylabel('y')\n        plt.ylim((-10, 15))\n        plt.title('Data Space Iteration: ' + str(self.n))\n        plt.subplot(122)\n        plt.contour(self.w, self.b, self.Z)\n        plt.scatter(self.W, self.B, c = 'r', marker = 'x')\n        plt.title('Loss Surface Contour Iteration' + str(self.n))\n        plt.xlabel('w')\n        plt.ylabel('b')\n        plt.show()",
            "execution_count": null,
            "outputs": []
        },
        {
            "metadata": {},
            "cell_type": "markdown",
            "source": "<!--Empty Space for separating topics-->"
        },
        {
            "metadata": {},
            "cell_type": "markdown",
            "source": "<h2 id=\"Makeup_Data\">Make Some Data</h2>"
        },
        {
            "metadata": {},
            "cell_type": "markdown",
            "source": "Set random seed: "
        },
        {
            "metadata": {},
            "cell_type": "code",
            "source": "# Set random seed\n\ntorch.manual_seed(1)",
            "execution_count": null,
            "outputs": []
        },
        {
            "metadata": {},
            "cell_type": "markdown",
            "source": "Generate values from <i>-3</i> to <i>3</i> that create a line with a slope of <i>1</i> and a bias of <i>-1</i>. This is the line that you need to estimate. Add some noise to the data:"
        },
        {
            "metadata": {},
            "cell_type": "code",
            "source": "# Setup the actual data and simulated data\n\nX = torch.arange(-3, 3, 0.1).view(-1, 1)\nf = 1 * X - 1\nY = f + 0.1 * torch.randn(X.size())",
            "execution_count": null,
            "outputs": []
        },
        {
            "metadata": {},
            "cell_type": "markdown",
            "source": "Plot the results:"
        },
        {
            "metadata": {},
            "cell_type": "code",
            "source": "# Plot out the data dots and line\n\nplt.plot(X.numpy(), Y.numpy(), 'rx', label = 'y')\nplt.plot(X.numpy(), f.numpy(), label = 'f')\nplt.xlabel('x')\nplt.ylabel('y')\nplt.legend()\nplt.show()",
            "execution_count": null,
            "outputs": []
        },
        {
            "metadata": {},
            "cell_type": "markdown",
            "source": "<!--Empty Space for separating topics-->"
        },
        {
            "metadata": {},
            "cell_type": "markdown",
            "source": "<h2 id=\"Model_Cost\">Create the Model and Cost Function (Total Loss)</h2>"
        },
        {
            "metadata": {},
            "cell_type": "markdown",
            "source": "Define the <code>forward</code> function:"
        },
        {
            "metadata": {},
            "cell_type": "code",
            "source": "# Define the forward function\n\ndef forward(x):\n    return w * x + b",
            "execution_count": null,
            "outputs": []
        },
        {
            "metadata": {},
            "cell_type": "markdown",
            "source": "Define the cost or criterion function (MSE): "
        },
        {
            "metadata": {},
            "cell_type": "code",
            "source": "# Define the MSE Loss function\n\ndef criterion(yhat, y):\n    return torch.mean((yhat - y) ** 2)",
            "execution_count": null,
            "outputs": []
        },
        {
            "metadata": {},
            "cell_type": "markdown",
            "source": "Create a <code> plot_error_surfaces</code> object to visualize the data space and the parameter space during training:"
        },
        {
            "metadata": {},
            "cell_type": "code",
            "source": "# Create plot_error_surfaces for viewing the data\n\nget_surface = plot_error_surfaces(15, 13, X, Y, 30)",
            "execution_count": null,
            "outputs": []
        },
        {
            "metadata": {},
            "cell_type": "markdown",
            "source": "<!--Empty Space for separating topics-->"
        },
        {
            "metadata": {},
            "cell_type": "markdown",
            "source": "<h2 id=\"BGD\">Train the Model: Batch Gradient Descent</h2>"
        },
        {
            "metadata": {},
            "cell_type": "markdown",
            "source": "Create model parameters <code>w</code>, <code>b</code> by setting the argument <code>requires_grad</code> to True because the system must learn it."
        },
        {
            "metadata": {},
            "cell_type": "code",
            "source": "# Define the parameters w, b for y = wx + b\n\nw = torch.tensor(-15.0, requires_grad = True)\nb = torch.tensor(-10.0, requires_grad = True)",
            "execution_count": null,
            "outputs": []
        },
        {
            "metadata": {},
            "cell_type": "markdown",
            "source": "Set the learning rate to  0.1 and create an empty list <code>LOSS</code> for storing the loss for each iteration."
        },
        {
            "metadata": {},
            "cell_type": "code",
            "source": "# Define learning rate and create an empty list for containing the loss for each iteration.\n\nlr = 0.1\nLOSS_BGD = []",
            "execution_count": null,
            "outputs": []
        },
        {
            "metadata": {},
            "cell_type": "markdown",
            "source": "Define <code>train_model</code> function for train the model."
        },
        {
            "metadata": {},
            "cell_type": "code",
            "source": "# The function for training the model\n\ndef train_model(iter):\n    \n    # Loop\n    for epoch in range(iter):\n        \n        # make a prediction\n        Yhat = forward(X)\n        \n        # calculate the loss \n        loss = criterion(Yhat, Y)\n\n        # Section for plotting\n        get_surface.set_para_loss(w.data.tolist(), b.data.tolist(), loss.tolist())\n        get_surface.plot_ps()\n            \n        # store the loss in the list LOSS_BGD\n        LOSS_BGD.append(loss)\n        \n        # backward pass: compute gradient of the loss with respect to all the learnable parameters\n        loss.backward()\n        \n        # update parameters slope and bias\n        w.data = w.data - lr * w.grad.data\n        b.data = b.data - lr * b.grad.data\n        \n        # zero the gradients before running the backward pass\n        w.grad.data.zero_()\n        b.grad.data.zero_()",
            "execution_count": null,
            "outputs": []
        },
        {
            "metadata": {},
            "cell_type": "markdown",
            "source": "Run 10 epochs of batch gradient descent: <b>bug</b> data space is 1 iteration ahead of parameter space. "
        },
        {
            "metadata": {},
            "cell_type": "code",
            "source": "# Train the model with 10 iterations\n\ntrain_model(10)",
            "execution_count": null,
            "outputs": []
        },
        {
            "metadata": {},
            "cell_type": "markdown",
            "source": "<!--Empty Space for separating topics-->"
        },
        {
            "metadata": {},
            "cell_type": "markdown",
            "source": "<h2 id=\"SGD\">Train the Model: Stochastic Gradient Descent</h2>"
        },
        {
            "metadata": {},
            "cell_type": "markdown",
            "source": "Create a <code>plot_error_surfaces</code> object to visualize the data space and the parameter space during training:"
        },
        {
            "metadata": {},
            "cell_type": "code",
            "source": "# Create plot_error_surfaces for viewing the data\n\nget_surface = plot_error_surfaces(15, 13, X, Y, 30, go = False)",
            "execution_count": null,
            "outputs": []
        },
        {
            "metadata": {},
            "cell_type": "markdown",
            "source": "Define <code>train_model_SGD</code> function for training the model."
        },
        {
            "metadata": {},
            "cell_type": "code",
            "source": "# The function for training the model\n\nLOSS_SGD = []\nw = torch.tensor(-15.0, requires_grad = True)\nb = torch.tensor(-10.0, requires_grad = True)\n\ndef train_model_SGD(iter):\n    \n    # Loop\n    for epoch in range(iter):\n        \n        # SGD is an approximation of out true total loss/cost, in this line of code we calculate our true loss/cost and store it\n        Yhat = forward(X)\n\n        # store the loss \n        LOSS_SGD.append(criterion(Yhat, Y).tolist())\n        \n        for x, y in zip(X, Y):\n            \n            # make a pridiction\n            yhat = forward(x)\n        \n            # calculate the loss \n            loss = criterion(yhat, y)\n\n            # Section for plotting\n            get_surface.set_para_loss(w.data.tolist(), b.data.tolist(), loss.tolist())\n        \n            # backward pass: compute gradient of the loss with respect to all the learnable parameters\n            loss.backward()\n        \n            # update parameters slope and bias\n            w.data = w.data - lr * w.grad.data\n            b.data = b.data - lr * b.grad.data\n\n            # zero the gradients before running the backward pass\n            w.grad.data.zero_()\n            b.grad.data.zero_()\n            \n        #plot surface and data space after each epoch    \n        get_surface.plot_ps()",
            "execution_count": null,
            "outputs": []
        },
        {
            "metadata": {},
            "cell_type": "markdown",
            "source": "Run 10 epochs of stochastic gradient descent: <b>bug</b> data space is 1 iteration ahead of parameter space. "
        },
        {
            "metadata": {},
            "cell_type": "code",
            "source": "# Train the model with 10 iterations\n\ntrain_model_SGD(10)",
            "execution_count": null,
            "outputs": []
        },
        {
            "metadata": {},
            "cell_type": "markdown",
            "source": "Compare the loss of both batch gradient descent as SGD."
        },
        {
            "metadata": {},
            "cell_type": "code",
            "source": "# Plot out the LOSS_BGD and LOSS_SGD\n\nplt.plot(LOSS_BGD,label = \"Batch Gradient Descent\")\nplt.plot(LOSS_SGD,label = \"Stochastic Gradient Descent\")\nplt.xlabel('epoch')\nplt.ylabel('Cost/ total loss')\nplt.legend()\nplt.show()",
            "execution_count": null,
            "outputs": []
        },
        {
            "metadata": {},
            "cell_type": "markdown",
            "source": "<!--Empty Space for separating topics-->"
        },
        {
            "metadata": {},
            "cell_type": "markdown",
            "source": "<h2 id=\"SGD_Loader\">SGD with Dataset DataLoader</h2>"
        },
        {
            "metadata": {},
            "cell_type": "markdown",
            "source": "Import the module for building a dataset class: "
        },
        {
            "metadata": {},
            "cell_type": "code",
            "source": "# Import the library for DataLoader\n\nfrom torch.utils.data import Dataset, DataLoader",
            "execution_count": null,
            "outputs": []
        },
        {
            "metadata": {},
            "cell_type": "markdown",
            "source": "Create a dataset class:"
        },
        {
            "metadata": {},
            "cell_type": "code",
            "source": "# Dataset Class\n\nclass Data(Dataset):\n    \n    # Constructor\n    def __init__(self):\n        self.x = torch.arange(-3, 3, 0.1).view(-1, 1)\n        self.y = 1 * self.x - 1\n        self.len = self.x.shape[0]\n        \n    # Getter\n    def __getitem__(self,index):    \n        return self.x[index], self.y[index]\n    \n    # Return the length\n    def __len__(self):\n        return self.len",
            "execution_count": null,
            "outputs": []
        },
        {
            "metadata": {},
            "cell_type": "markdown",
            "source": "Create a dataset object and check the length of the dataset."
        },
        {
            "metadata": {},
            "cell_type": "code",
            "source": "# Create the dataset and check the length\n\ndataset = Data()\nprint(\"The length of dataset: \", len(dataset))",
            "execution_count": null,
            "outputs": []
        },
        {
            "metadata": {},
            "cell_type": "markdown",
            "source": "Obtain the first training point:  "
        },
        {
            "metadata": {},
            "cell_type": "code",
            "source": "# Print the first point\n\nx, y = dataset[0]\nprint(\"(\", x, \", \", y, \")\")",
            "execution_count": null,
            "outputs": []
        },
        {
            "metadata": {},
            "cell_type": "markdown",
            "source": "Similarly, obtain the first three training points:  "
        },
        {
            "metadata": {},
            "cell_type": "code",
            "source": "# Print the first 3 point\n\nx, y = dataset[0:3]\nprint(\"The first 3 x: \", x)\nprint(\"The first 3 y: \", y)",
            "execution_count": null,
            "outputs": []
        },
        {
            "metadata": {},
            "cell_type": "markdown",
            "source": "Create a <code>plot_error_surfaces</code> object to visualize the data space and the parameter space during training:"
        },
        {
            "metadata": {},
            "cell_type": "code",
            "source": "# Create plot_error_surfaces for viewing the data\n\nget_surface = plot_error_surfaces(15, 13, X, Y, 30, go = False)",
            "execution_count": null,
            "outputs": []
        },
        {
            "metadata": {},
            "cell_type": "markdown",
            "source": "Create a <code>DataLoader</code> object by using the constructor: "
        },
        {
            "metadata": {},
            "cell_type": "code",
            "source": "# Create DataLoader\n\ntrainloader = DataLoader(dataset = dataset, batch_size = 1)",
            "execution_count": null,
            "outputs": []
        },
        {
            "metadata": {},
            "cell_type": "markdown",
            "source": "Define <code>train_model_DataLoader</code> function for training the model."
        },
        {
            "metadata": {},
            "cell_type": "code",
            "source": "# The function for training the model\n\nw = torch.tensor(-15.0,requires_grad=True)\nb = torch.tensor(-10.0,requires_grad=True)\nLOSS_Loader = []\n\ndef train_model_DataLoader(epochs):\n    \n    # Loop\n    for epoch in range(epochs):\n        \n        # SGD is an approximation of out true total loss/cost, in this line of code we calculate our true loss/cost and store it\n        Yhat = forward(X)\n        \n        # store the loss \n        LOSS_Loader.append(criterion(Yhat, Y).tolist())\n        \n        for x, y in trainloader:\n            \n            # make a prediction\n            yhat = forward(x)\n            \n            # calculate the loss\n            loss = criterion(yhat, y)\n            \n            # Section for plotting\n            get_surface.set_para_loss(w.data.tolist(), b.data.tolist(), loss.tolist())\n            \n            # Backward pass: compute gradient of the loss with respect to all the learnable parameters\n            loss.backward()\n            \n            # Updata parameters slope\n            w.data = w.data - lr * w.grad.data\n            b.data = b.data - lr* b.grad.data\n            \n            # Clear gradients \n            w.grad.data.zero_()\n            b.grad.data.zero_()\n            \n        #plot surface and data space after each epoch    \n        get_surface.plot_ps()",
            "execution_count": null,
            "outputs": []
        },
        {
            "metadata": {},
            "cell_type": "markdown",
            "source": "Run 10 epochs of stochastic gradient descent: <b>bug</b> data space is 1 iteration ahead of parameter space. "
        },
        {
            "metadata": {},
            "cell_type": "code",
            "source": "# Run 10 iterations\n\ntrain_model_DataLoader(10)",
            "execution_count": null,
            "outputs": []
        },
        {
            "metadata": {},
            "cell_type": "markdown",
            "source": "Compare the loss of both batch gradient decent as SGD. Note that SGD converges to a minimum faster, that is, it decreases faster. "
        },
        {
            "metadata": {},
            "cell_type": "code",
            "source": "# Plot the LOSS_BGD and LOSS_Loader\n\nplt.plot(LOSS_BGD,label=\"Batch Gradient Descent\")\nplt.plot(LOSS_Loader,label=\"Stochastic Gradient Descent with DataLoader\")\nplt.xlabel('epoch')\nplt.ylabel('Cost/ total loss')\nplt.legend()\nplt.show()",
            "execution_count": null,
            "outputs": []
        },
        {
            "metadata": {},
            "cell_type": "markdown",
            "source": "<h3>Practice</h3>"
        },
        {
            "metadata": {},
            "cell_type": "markdown",
            "source": "For practice, try to use SGD with DataLoader to train model with 10 iterations. Store the total loss in <code>LOSS</code>. We are going to use it in the next question."
        },
        {
            "metadata": {},
            "cell_type": "code",
            "source": "# Practice: Use SGD with trainloader to train model and store the total loss in LOSS\n\nLOSS = []\nw = torch.tensor(-12.0, requires_grad = True)\nb = torch.tensor(-10.0, requires_grad = True)",
            "execution_count": null,
            "outputs": []
        },
        {
            "metadata": {},
            "cell_type": "markdown",
            "source": "Double-click <b>here</b> for the solution.\n\n<!-- \ndef my_train_model(epochs):\n    for epoch in range(epochs):\n        Yhat = forward(X)\n        LOSS.append(criterion(Yhat, X))\n        for x, y in trainloader:\n            yhat = forward(x)\n            loss = criterion(yhat, y)\n            get_surface.set_para_loss(w.data.tolist(), b.data.tolist(), loss.tolist())\n            loss.backward()\n            w.data = w.data - lr * w.grad.data\n            b.data = b.data - lr * b.grad.data\n            w.grad.data.zero_()\n            b.grad.data.zero_()\n        get_surface.plot_ps()\nmy_train_model(10)\n-->"
        },
        {
            "metadata": {},
            "cell_type": "markdown",
            "source": "Plot the total loss"
        },
        {
            "metadata": {},
            "cell_type": "code",
            "source": "# Practice: Plot the total loss using LOSS\n\n# Type your code here",
            "execution_count": null,
            "outputs": []
        },
        {
            "metadata": {},
            "cell_type": "markdown",
            "source": "Double-click __here__ for the solution.\n<!-- \nplt.plot(LOSS,label = \"Stochastic Gradient Descent\")\nplt.xlabel('iteration')\nplt.ylabel('Cost/ total loss')\nplt.legend()\nplt.show()\n-->"
        },
        {
            "metadata": {},
            "cell_type": "markdown",
            "source": "<!--Empty Space for separating topics-->"
        },
        {
            "metadata": {},
            "cell_type": "markdown",
            "source": "<a href=\"http://cocl.us/pytorch_link_bottom\">\n    <img src=\"https://s3-api.us-geo.objectstorage.softlayer.net/cf-courses-data/CognitiveClass/DL0110EN/notebook_images%20/notebook_bottom%20.png\" width=\"750\" alt=\"PyTorch Bottom\" />\n</a>"
        },
        {
            "metadata": {},
            "cell_type": "markdown",
            "source": "<h2>About the Authors:</h2> \n\n<a href=\"https://www.linkedin.com/in/joseph-s-50398b136/\">Joseph Santarcangelo</a> has a PhD in Electrical Engineering, his research focused on using machine learning, signal processing, and computer vision to determine how videos impact human cognition. Joseph has been working for IBM since he completed his PhD."
        },
        {
            "metadata": {},
            "cell_type": "markdown",
            "source": "Other contributors: <a href=\"https://www.linkedin.com/in/michelleccarey/\">Michelle Carey</a>, <a href=\"www.linkedin.com/in/jiahui-mavis-zhou-a4537814a\">Mavis Zhou</a>\n\nThanks to: Andrew Kin ,Alessandro Barboza"
        },
        {
            "metadata": {},
            "cell_type": "markdown",
            "source": "<hr>"
        },
        {
            "metadata": {},
            "cell_type": "markdown",
            "source": "Copyright &copy; 2018 <a href=\"cognitiveclass.ai?utm_source=bducopyrightlink&utm_medium=dswb&utm_campaign=bdu\">cognitiveclass.ai</a>. This notebook and its source code are released under the terms of the <a href=\"https://bigdatauniversity.com/mit-license/\">MIT License</a>."
        },
        {
            "metadata": {},
            "cell_type": "code",
            "source": "",
            "execution_count": null,
            "outputs": []
        }
    ],
    "metadata": {
        "kernelspec": {
            "name": "python3",
            "display_name": "Python 3.6",
            "language": "python"
        },
        "language_info": {
            "name": "python",
            "version": "3.6.9",
            "mimetype": "text/x-python",
            "codemirror_mode": {
                "name": "ipython",
                "version": 3
            },
            "pygments_lexer": "ipython3",
            "nbconvert_exporter": "python",
            "file_extension": ".py"
        }
    },
    "nbformat": 4,
    "nbformat_minor": 2
}