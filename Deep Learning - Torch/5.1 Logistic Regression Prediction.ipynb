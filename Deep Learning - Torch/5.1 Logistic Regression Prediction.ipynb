{
    "cells": [
        {
            "cell_type": "markdown",
            "metadata": {},
            "source": "<a href=\"http://cocl.us/pytorch_link_top\">\n    <img src=\"https://s3-api.us-geo.objectstorage.softlayer.net/cf-courses-data/CognitiveClass/DL0110EN/notebook_images%20/Pytochtop.png\" width=\"750\" alt=\"IBM Product \" />\n</a> "
        },
        {
            "cell_type": "markdown",
            "metadata": {},
            "source": "<img src=\"https://s3-api.us-geo.objectstorage.softlayer.net/cf-courses-data/CognitiveClass/DL0110EN/notebook_images%20/cc-logo-square.png\" width=\"200\" alt=\"cognitiveclass.ai logo\" />"
        },
        {
            "cell_type": "markdown",
            "metadata": {},
            "source": "<h1>Logistic Regression</h1>"
        },
        {
            "cell_type": "markdown",
            "metadata": {},
            "source": "<h2>Table of Contents</h2>\n<p>In this lab, we will cover logistic regression using PyTorch.</p>\n\n<ul>\n    <li><a href=\"#Log\">Logistic Function</a></li>\n    <li><a href=\"#Seq\">Build a Logistic Regression Using nn.Sequential</a></li>\n    <li><a href=\"#Model\">Build Custom Modules</a></li>\n</ul>\n<p>Estimated Time Needed: <strong>15 min</strong></p>\n\n<hr>"
        },
        {
            "cell_type": "markdown",
            "metadata": {},
            "source": "<h2>Preparation</h2>"
        },
        {
            "cell_type": "markdown",
            "metadata": {},
            "source": "We'll need the following libraries:  "
        },
        {
            "cell_type": "code",
            "execution_count": 1,
            "metadata": {},
            "outputs": [],
            "source": "# Import the libraries we need for this lab\n\nimport torch.nn as nn\nimport torch\nimport matplotlib.pyplot as plt "
        },
        {
            "cell_type": "markdown",
            "metadata": {},
            "source": "Set the random seed:"
        },
        {
            "cell_type": "code",
            "execution_count": 2,
            "metadata": {},
            "outputs": [
                {
                    "data": {
                        "text/plain": "<torch._C.Generator at 0x7f4c100b3130>"
                    },
                    "execution_count": 2,
                    "metadata": {},
                    "output_type": "execute_result"
                }
            ],
            "source": "# Set the random seed\n\ntorch.manual_seed(2)"
        },
        {
            "cell_type": "markdown",
            "metadata": {},
            "source": "<!--Empty Space for separating topics-->"
        },
        {
            "cell_type": "markdown",
            "metadata": {},
            "source": "<h2 id=\"Log\">Logistic Function</h2>"
        },
        {
            "cell_type": "markdown",
            "metadata": {},
            "source": "Create a tensor ranging from -100 to 100:"
        },
        {
            "cell_type": "code",
            "execution_count": 3,
            "metadata": {},
            "outputs": [
                {
                    "name": "stdout",
                    "output_type": "stream",
                    "text": "The tensor:  tensor([[-100.0000],\n        [ -99.9000],\n        [ -99.8000],\n        ...,\n        [  99.7000],\n        [  99.8000],\n        [  99.9000]])\n"
                }
            ],
            "source": "z = torch.arange(-100, 100, 0.1).view(-1, 1)\nprint(\"The tensor: \", z)"
        },
        {
            "cell_type": "markdown",
            "metadata": {},
            "source": "Create a sigmoid object: "
        },
        {
            "cell_type": "code",
            "execution_count": 4,
            "metadata": {},
            "outputs": [],
            "source": "# Create sigmoid object\n\nsig = nn.Sigmoid()"
        },
        {
            "cell_type": "markdown",
            "metadata": {},
            "source": "Apply the element-wise function Sigmoid with the object:"
        },
        {
            "cell_type": "code",
            "execution_count": 5,
            "metadata": {},
            "outputs": [],
            "source": "# Use sigmoid object to calculate the \n\nyhat = sig(z)"
        },
        {
            "cell_type": "markdown",
            "metadata": {},
            "source": "Plot the results: "
        },
        {
            "cell_type": "code",
            "execution_count": 6,
            "metadata": {},
            "outputs": [
                {
                    "data": {
                        "text/plain": "Text(0, 0.5, 'yhat')"
                    },
                    "execution_count": 6,
                    "metadata": {},
                    "output_type": "execute_result"
                },
                {
                    "data": {
                        "image/png": "[encoded data removed]",
                        "text/plain": "<Figure size 432x288 with 1 Axes>"
                    },
                    "metadata": {
                        "needs_background": "light"
                    },
                    "output_type": "display_data"
                }
            ],
            "source": "plt.plot(z.numpy(), yhat.numpy())\nplt.xlabel('z')\nplt.ylabel('yhat')"
        },
        {
            "cell_type": "markdown",
            "metadata": {},
            "source": "Apply the element-wise Sigmoid from the function module and plot the results:"
        },
        {
            "cell_type": "code",
            "execution_count": 7,
            "metadata": {},
            "outputs": [
                {
                    "data": {
                        "text/plain": "[<matplotlib.lines.Line2D at 0x7f4b9d8b6dd8>]"
                    },
                    "execution_count": 7,
                    "metadata": {},
                    "output_type": "execute_result"
                },
                {
                    "data": {
                        "image/png": "[encoded data removed]",
                        "text/plain": "<Figure size 432x288 with 1 Axes>"
                    },
                    "metadata": {
                        "needs_background": "light"
                    },
                    "output_type": "display_data"
                }
            ],
            "source": "yhat = torch.sigmoid(z)\nplt.plot(z.numpy(), yhat.numpy())"
        },
        {
            "cell_type": "markdown",
            "metadata": {},
            "source": "<!--Empty Space for separating topics-->"
        },
        {
            "cell_type": "markdown",
            "metadata": {},
            "source": "<h2 id=\"Seq\">Build a Logistic Regression with <code>nn.Sequential</code></h2>"
        },
        {
            "cell_type": "markdown",
            "metadata": {},
            "source": "Create a 1x1 tensor where x represents one data sample with one dimension, and 2x1 tensor X represents two data samples of one dimension:"
        },
        {
            "cell_type": "code",
            "execution_count": 8,
            "metadata": {},
            "outputs": [
                {
                    "name": "stdout",
                    "output_type": "stream",
                    "text": "x =  tensor([[1.]])\nX =  tensor([[  1.],\n        [100.]])\n"
                }
            ],
            "source": "# Create x and X tensor\n\nx = torch.tensor([[1.0]])\nX = torch.tensor([[1.0], [100]])\nprint('x = ', x)\nprint('X = ', X)"
        },
        {
            "cell_type": "markdown",
            "metadata": {},
            "source": "Create a logistic regression object with the <code>nn.Sequential</code> model with a one-dimensional input:"
        },
        {
            "cell_type": "code",
            "execution_count": 9,
            "metadata": {},
            "outputs": [],
            "source": "# Use sequential function to create model\n\nmodel = nn.Sequential(nn.Linear(1, 1), nn.Sigmoid())"
        },
        {
            "cell_type": "markdown",
            "metadata": {},
            "source": "The object is represented in the following diagram: "
        },
        {
            "cell_type": "markdown",
            "metadata": {},
            "source": "<img src = \"https://s3-api.us-geo.objectstorage.softlayer.net/cf-courses-data/CognitiveClass/DL0110EN/notebook_images%20/chapter3/3.1.1_logistic_regression_block_diagram.png\" width = 800, align = \"center\" alt=\"logistic regression block diagram\" />"
        },
        {
            "cell_type": "markdown",
            "metadata": {},
            "source": "In this case, the parameters are randomly initialized. You can view them the following ways:"
        },
        {
            "cell_type": "code",
            "execution_count": 10,
            "metadata": {},
            "outputs": [
                {
                    "name": "stdout",
                    "output_type": "stream",
                    "text": "list(model.parameters()):\n  [Parameter containing:\ntensor([[0.2294]], requires_grad=True), Parameter containing:\ntensor([-0.2380], requires_grad=True)]\n\nmodel.state_dict():\n  OrderedDict([('0.weight', tensor([[0.2294]])), ('0.bias', tensor([-0.2380]))])\n"
                }
            ],
            "source": "# Print the parameters\n\nprint(\"list(model.parameters()):\\n \", list(model.parameters()))\nprint(\"\\nmodel.state_dict():\\n \", model.state_dict())"
        },
        {
            "cell_type": "markdown",
            "metadata": {},
            "source": "Make a prediction with one sample:"
        },
        {
            "cell_type": "code",
            "execution_count": 11,
            "metadata": {},
            "outputs": [
                {
                    "name": "stdout",
                    "output_type": "stream",
                    "text": "The prediction:  tensor([[0.4979]], grad_fn=<SigmoidBackward>)\n"
                }
            ],
            "source": "# The prediction for x\n\nyhat = model(x)\nprint(\"The prediction: \", yhat)"
        },
        {
            "cell_type": "markdown",
            "metadata": {},
            "source": "Calling the object with tensor <code>X</code> performed the following operation <b>(code values may not be the same as the diagrams value  depending on the version of PyTorch) </b>:"
        },
        {
            "cell_type": "markdown",
            "metadata": {},
            "source": "<img src=\"https://s3-api.us-geo.objectstorage.softlayer.net/cf-courses-data/CognitiveClass/DL0110EN/notebook_images%20/chapter3/3.1.1_logistic_functio_example%20.png\" width=\"400\" alt=\"Logistic Example\" />"
        },
        {
            "cell_type": "markdown",
            "metadata": {},
            "source": "Make a prediction with multiple samples:"
        },
        {
            "cell_type": "code",
            "execution_count": 12,
            "metadata": {},
            "outputs": [
                {
                    "data": {
                        "text/plain": "tensor([[0.4979],\n        [1.0000]], grad_fn=<SigmoidBackward>)"
                    },
                    "execution_count": 12,
                    "metadata": {},
                    "output_type": "execute_result"
                }
            ],
            "source": "# The prediction for X\n\nyhat = model(X)\nyhat"
        },
        {
            "cell_type": "markdown",
            "metadata": {},
            "source": "Calling the object performed the following operation: "
        },
        {
            "cell_type": "markdown",
            "metadata": {},
            "source": "Create a 1x2 tensor where x represents one data sample with one dimension, and 2x3 tensor X represents one data sample of two dimensions:"
        },
        {
            "cell_type": "code",
            "execution_count": 13,
            "metadata": {},
            "outputs": [
                {
                    "name": "stdout",
                    "output_type": "stream",
                    "text": "x =  tensor([[1., 1.]])\nX =  tensor([[1., 1.],\n        [1., 2.],\n        [1., 3.]])\n"
                }
            ],
            "source": "# Create and print samples\n\nx = torch.tensor([[1.0, 1.0]])\nX = torch.tensor([[1.0, 1.0], [1.0, 2.0], [1.0, 3.0]])\nprint('x = ', x)\nprint('X = ', X)"
        },
        {
            "cell_type": "markdown",
            "metadata": {},
            "source": "Create a logistic regression object with the <code>nn.Sequential</code> model with a two-dimensional input: "
        },
        {
            "cell_type": "code",
            "execution_count": 14,
            "metadata": {},
            "outputs": [],
            "source": "# Create new model using nn.sequential()\n\nmodel = nn.Sequential(nn.Linear(2, 1), nn.Sigmoid())"
        },
        {
            "cell_type": "markdown",
            "metadata": {},
            "source": "The object will apply the Sigmoid function to the output of the linear function as shown in the following diagram:"
        },
        {
            "cell_type": "markdown",
            "metadata": {},
            "source": "<img src=\"https://s3-api.us-geo.objectstorage.softlayer.net/cf-courses-data/CognitiveClass/DL0110EN/notebook_images%20/chapter3/3.1.1logistic_output.png\" width=\"800\" alt=\"The structure of nn.sequential\"/>"
        },
        {
            "cell_type": "markdown",
            "metadata": {},
            "source": "In this case, the parameters are randomly initialized. You can view them the following ways:"
        },
        {
            "cell_type": "code",
            "execution_count": 15,
            "metadata": {},
            "outputs": [
                {
                    "name": "stdout",
                    "output_type": "stream",
                    "text": "list(model.parameters()):\n  [Parameter containing:\ntensor([[ 0.1939, -0.0361]], requires_grad=True), Parameter containing:\ntensor([0.3021], requires_grad=True)]\n\nmodel.state_dict():\n  OrderedDict([('0.weight', tensor([[ 0.1939, -0.0361]])), ('0.bias', tensor([0.3021]))])\n"
                }
            ],
            "source": "# Print the parameters\n\nprint(\"list(model.parameters()):\\n \", list(model.parameters()))\nprint(\"\\nmodel.state_dict():\\n \", model.state_dict())"
        },
        {
            "cell_type": "markdown",
            "metadata": {},
            "source": "Make a prediction with one sample:"
        },
        {
            "cell_type": "code",
            "execution_count": 16,
            "metadata": {},
            "outputs": [
                {
                    "name": "stdout",
                    "output_type": "stream",
                    "text": "The prediction:  tensor([[0.6130]], grad_fn=<SigmoidBackward>)\n"
                }
            ],
            "source": "# Make the prediction of x\n\nyhat = model(x)\nprint(\"The prediction: \", yhat)"
        },
        {
            "cell_type": "markdown",
            "metadata": {},
            "source": "The operation is represented in the following diagram:"
        },
        {
            "cell_type": "markdown",
            "metadata": {},
            "source": "<img src=\"https://s3-api.us-geo.objectstorage.softlayer.net/cf-courses-data/CognitiveClass/DL0110EN/notebook_images%20/chapter3/3.3.1.logisticwithouptut.png\" width=\"500\" alt=\"Sequential Example\" />"
        },
        {
            "cell_type": "markdown",
            "metadata": {},
            "source": "Make a prediction with multiple samples:"
        },
        {
            "cell_type": "code",
            "execution_count": 17,
            "metadata": {},
            "outputs": [
                {
                    "name": "stdout",
                    "output_type": "stream",
                    "text": "The prediction:  tensor([[0.6130],\n        [0.6044],\n        [0.5957]], grad_fn=<SigmoidBackward>)\n"
                }
            ],
            "source": "# The prediction of X\n\nyhat = model(X)\nprint(\"The prediction: \", yhat)"
        },
        {
            "cell_type": "markdown",
            "metadata": {},
            "source": "The operation is represented in the following diagram: "
        },
        {
            "cell_type": "markdown",
            "metadata": {},
            "source": "<img src=\"https://s3-api.us-geo.objectstorage.softlayer.net/cf-courses-data/CognitiveClass/DL0110EN/notebook_images%20/chapter3/3.1.1_logistic_with_outputs2.png\" width=\"800\" alt=\"Sequential Example\" />"
        },
        {
            "cell_type": "markdown",
            "metadata": {},
            "source": "<!--Empty Space for separating topics-->"
        },
        {
            "cell_type": "markdown",
            "metadata": {},
            "source": "<h2 id=\"Model\">Build Custom Modules</h2>"
        },
        {
            "cell_type": "markdown",
            "metadata": {},
            "source": "In this section, you will build a custom Module or class. The model or object function is identical to using <code>nn.Sequential</code>."
        },
        {
            "cell_type": "markdown",
            "metadata": {},
            "source": "Create a logistic regression custom module:"
        },
        {
            "cell_type": "code",
            "execution_count": 18,
            "metadata": {},
            "outputs": [],
            "source": "# Create logistic_regression custom class\n\nclass logistic_regression(nn.Module):\n    \n    # Constructor\n    def __init__(self, n_inputs):\n        super(logistic_regression, self).__init__()\n        self.linear = nn.Linear(n_inputs, 1)\n    \n    # Prediction\n    def forward(self, x):\n        yhat = torch.sigmoid(self.linear(x))\n        return yhat"
        },
        {
            "cell_type": "markdown",
            "metadata": {},
            "source": "Create a 1x1 tensor where x represents one data sample with one dimension, and 3x1 tensor where $X$ represents one data sample of one dimension:"
        },
        {
            "cell_type": "code",
            "execution_count": 19,
            "metadata": {},
            "outputs": [
                {
                    "name": "stdout",
                    "output_type": "stream",
                    "text": "x =  tensor([[1.]])\nX =  tensor([[-100.],\n        [   0.],\n        [ 100.]])\n"
                }
            ],
            "source": "# Create x and X tensor\n\nx = torch.tensor([[1.0]])\nX = torch.tensor([[-100], [0], [100.0]])\nprint('x = ', x)\nprint('X = ', X)"
        },
        {
            "cell_type": "markdown",
            "metadata": {},
            "source": "Create a model to predict one dimension: "
        },
        {
            "cell_type": "code",
            "execution_count": 20,
            "metadata": {},
            "outputs": [],
            "source": "# Create logistic regression model\n\nmodel = logistic_regression(1)"
        },
        {
            "cell_type": "markdown",
            "metadata": {},
            "source": "In this case, the parameters are randomly initialized. You can view them the following ways:"
        },
        {
            "cell_type": "code",
            "execution_count": 21,
            "metadata": {},
            "outputs": [
                {
                    "name": "stdout",
                    "output_type": "stream",
                    "text": "list(model.parameters()):\n  [Parameter containing:\ntensor([[0.2381]], requires_grad=True), Parameter containing:\ntensor([-0.1149], requires_grad=True)]\n\nmodel.state_dict():\n  OrderedDict([('linear.weight', tensor([[0.2381]])), ('linear.bias', tensor([-0.1149]))])\n"
                }
            ],
            "source": "# Print parameters \n\nprint(\"list(model.parameters()):\\n \", list(model.parameters()))\nprint(\"\\nmodel.state_dict():\\n \", model.state_dict())"
        },
        {
            "cell_type": "markdown",
            "metadata": {},
            "source": "Make a prediction with one sample:"
        },
        {
            "cell_type": "code",
            "execution_count": 22,
            "metadata": {},
            "outputs": [
                {
                    "name": "stdout",
                    "output_type": "stream",
                    "text": "The prediction result: \n tensor([[0.5307]], grad_fn=<SigmoidBackward>)\n"
                }
            ],
            "source": "# Make the prediction of x\n\nyhat = model(x)\nprint(\"The prediction result: \\n\", yhat)"
        },
        {
            "cell_type": "markdown",
            "metadata": {},
            "source": "Make a prediction with multiple samples:"
        },
        {
            "cell_type": "code",
            "execution_count": 23,
            "metadata": {},
            "outputs": [
                {
                    "name": "stdout",
                    "output_type": "stream",
                    "text": "The prediction result: \n tensor([[4.0805e-11],\n        [4.7130e-01],\n        [1.0000e+00]], grad_fn=<SigmoidBackward>)\n"
                }
            ],
            "source": "# Make the prediction of X\n\nyhat = model(X)\nprint(\"The prediction result: \\n\", yhat)"
        },
        {
            "cell_type": "markdown",
            "metadata": {},
            "source": "Create a logistic regression object with a function with two inputs: "
        },
        {
            "cell_type": "code",
            "execution_count": 24,
            "metadata": {},
            "outputs": [],
            "source": "# Create logistic regression model\n\nmodel = logistic_regression(2)"
        },
        {
            "cell_type": "markdown",
            "metadata": {},
            "source": "Create a 1x2 tensor where x represents one data sample with one dimension, and 3x2 tensor X represents one data sample of one dimension:"
        },
        {
            "cell_type": "code",
            "execution_count": 25,
            "metadata": {},
            "outputs": [
                {
                    "name": "stdout",
                    "output_type": "stream",
                    "text": "x =  tensor([[1., 2.]])\nX =  tensor([[ 100., -100.],\n        [   0.,    0.],\n        [-100.,  100.]])\n"
                }
            ],
            "source": "# Create x and X tensor\n\nx = torch.tensor([[1.0, 2.0]])\nX = torch.tensor([[100, -100], [0.0, 0.0], [-100, 100]])\nprint('x = ', x)\nprint('X = ', X)"
        },
        {
            "cell_type": "markdown",
            "metadata": {},
            "source": "Make a prediction with one sample:"
        },
        {
            "cell_type": "code",
            "execution_count": 26,
            "metadata": {},
            "outputs": [
                {
                    "name": "stdout",
                    "output_type": "stream",
                    "text": "The prediction result: \n tensor([[0.2943]], grad_fn=<SigmoidBackward>)\n"
                }
            ],
            "source": "# Make the prediction of x\n\nyhat = model(x)\nprint(\"The prediction result: \\n\", yhat)"
        },
        {
            "cell_type": "markdown",
            "metadata": {},
            "source": "Make a prediction with multiple samples: "
        },
        {
            "cell_type": "code",
            "execution_count": 27,
            "metadata": {},
            "outputs": [
                {
                    "name": "stdout",
                    "output_type": "stream",
                    "text": "The prediction result: \n tensor([[7.7529e-33],\n        [3.4841e-01],\n        [1.0000e+00]], grad_fn=<SigmoidBackward>)\n"
                }
            ],
            "source": "# Make the prediction of X\n\nyhat = model(X)\nprint(\"The prediction result: \\n\", yhat)"
        },
        {
            "cell_type": "markdown",
            "metadata": {},
            "source": "<!--Empty Space for separating topics-->"
        },
        {
            "cell_type": "markdown",
            "metadata": {},
            "source": "<h3>Practice</h3>"
        },
        {
            "cell_type": "markdown",
            "metadata": {},
            "source": "Make your own model <code>my_model</code> as applying linear regression first and then logistic regression using <code>nn.Sequential()</code>. Print out your prediction."
        },
        {
            "cell_type": "code",
            "execution_count": 28,
            "metadata": {},
            "outputs": [
                {
                    "name": "stdout",
                    "output_type": "stream",
                    "text": "The prediction:  tensor([0.2231], grad_fn=<SigmoidBackward>)\n"
                }
            ],
            "source": "# Practice: Make your model and make the prediction\n\nX = torch.tensor([-10.0])\n\nmy_model = nn.Sequential(nn.Linear(1, 1),nn.Sigmoid())\nyhat = my_model(X)\nprint(\"The prediction: \", yhat)"
        },
        {
            "cell_type": "markdown",
            "metadata": {},
            "source": "Double-click <b>here</b> for the solution.\n\n<!-- \nmy_model = nn.Sequential(nn.Linear(1, 1),nn.Sigmoid())\nyhat = my_model(X)\nprint(\"The prediction: \", yhat)\n-->"
        },
        {
            "cell_type": "markdown",
            "metadata": {},
            "source": "<!--Empty Space for separating topics-->"
        },
        {
            "cell_type": "markdown",
            "metadata": {},
            "source": "<a href=\"http://cocl.us/pytorch_link_bottom\">\n    <img src=\"https://s3-api.us-geo.objectstorage.softlayer.net/cf-courses-data/CognitiveClass/DL0110EN/notebook_images%20/notebook_bottom%20.png\" width=\"750\" alt=\"PyTorch Bottom\" />\n</a>"
        },
        {
            "cell_type": "markdown",
            "metadata": {},
            "source": "<h2>About the Authors:</h2> \n\n<a href=\"https://www.linkedin.com/in/joseph-s-50398b136/\">Joseph Santarcangelo</a> has a PhD in Electrical Engineering, his research focused on using machine learning, signal processing, and computer vision to determine how videos impact human cognition. Joseph has been working for IBM since he completed his PhD. "
        },
        {
            "cell_type": "markdown",
            "metadata": {},
            "source": "Other contributors: <a href=\"https://www.linkedin.com/in/michelleccarey/\">Michelle Carey</a>, <a href=\"www.linkedin.com/in/jiahui-mavis-zhou-a4537814a\">Mavis Zhou</a>"
        },
        {
            "cell_type": "markdown",
            "metadata": {},
            "source": "<hr>"
        },
        {
            "cell_type": "markdown",
            "metadata": {},
            "source": "Copyright &copy; 2018 <a href=\"cognitiveclass.ai?utm_source=bducopyrightlink&utm_medium=dswb&utm_campaign=bdu\">cognitiveclass.ai</a>. This notebook and its source code are released under the terms of the <a href=\"https://bigdatauniversity.com/mit-license/\">MIT License</a>."
        }
    ],
    "metadata": {
        "kernelspec": {
            "display_name": "Python 3",
            "language": "python",
            "name": "python3"
        },
        "language_info": {
            "codemirror_mode": {
                "name": "ipython",
                "version": 3
            },
            "file_extension": ".py",
            "mimetype": "text/x-python",
            "name": "python",
            "nbconvert_exporter": "python",
            "pygments_lexer": "ipython3",
            "version": "3.6.9"
        }
    },
    "nbformat": 4,
    "nbformat_minor": 2
}