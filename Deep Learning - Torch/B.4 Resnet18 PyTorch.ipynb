{
    "cells": [
        {
            "metadata": {},
            "cell_type": "markdown",
            "source": "<a href=\"http://cocl.us/pytorch_link_top\">\n    <img src=\"https://s3-api.us-geo.objectstorage.softlayer.net/cf-courses-data/CognitiveClass/DL0110EN/notebook_images%20/Pytochtop.png\" width=\"750\" alt=\"IBM Product \" />\n</a> "
        },
        {
            "metadata": {},
            "cell_type": "markdown",
            "source": "<img src=\"https://s3-api.us-geo.objectstorage.softlayer.net/cf-courses-data/CognitiveClass/DL0110EN/notebook_images%20/cc-logo-square.png\" width=\"200\" alt=\"cognitiveclass.ai logo\" />"
        },
        {
            "metadata": {},
            "cell_type": "markdown",
            "source": "<h1><h1>Pre-trained-Models with PyTorch </h1>"
        },
        {
            "metadata": {},
            "cell_type": "markdown",
            "source": "In this lab, you will use pre-trained models to classify between the negative and positive samples; you will be provided with the dataset object. The particular pre-trained model will be resnet18; you will have three questions: \n<ul>\n<li>change the output layer</li>\n<li> train the model</li> \n<li>  identify  several  misclassified samples</li> \n </ul>\nYou will take several screenshots of your work and share your notebook. "
        },
        {
            "metadata": {},
            "cell_type": "markdown",
            "source": "<h2>Table of Contents</h2>"
        },
        {
            "metadata": {},
            "cell_type": "markdown",
            "source": "<div class=\"alert alert-block alert-info\" style=\"margin-top: 20px\">\n\n\n<ul>\n    <li><a href=\"#download_data\"> Download Data</a></li>\n    <li><a href=\"#auxiliary\"> Imports and Auxiliary Functions </a></li>\n    <li><a href=\"#data_class\"> Dataset Class</a></li>\n    <li><a href=\"#Question_1\">Question 1</a></li>\n    <li><a href=\"#Question_2\">Question 2</a></li>\n    <li><a href=\"#Question_3\">Question 3</a></li>\n</ul>\n<p>Estimated Time Needed: <strong>120 min</strong></p>\n </div>\n<hr>"
        },
        {
            "metadata": {},
            "cell_type": "markdown",
            "source": "<h2 id=\"download_data\">Download Data</h2>"
        },
        {
            "metadata": {},
            "cell_type": "markdown",
            "source": "Download the dataset and unzip the files in your data directory, unlike the other labs, all the data will be deleted after you close  the lab, this may take some time:"
        },
        {
            "metadata": {},
            "cell_type": "code",
            "source": "!wget https://s3-api.us-geo.objectstorage.softlayer.net/cf-courses-data/CognitiveClass/DL0321EN/data/images/Positive_tensors.zip ",
            "execution_count": 5,
            "outputs": [
                {
                    "name": "stdout",
                    "output_type": "stream",
                    "text": "--2020-07-24 21:55:29--  https://s3-api.us-geo.objectstorage.softlayer.net/cf-courses-data/CognitiveClass/DL0321EN/data/images/Positive_tensors.zip\nResolviendo s3-api.us-geo.objectstorage.softlayer.net (s3-api.us-geo.objectstorage.softlayer.net)... 67.228.254.196\nConectando con s3-api.us-geo.objectstorage.softlayer.net (s3-api.us-geo.objectstorage.softlayer.net)[67.228.254.196]:443... conectado.\nPetici\u00f3n HTTP enviada, esperando respuesta... 200 OK\nLongitud: 2598656062 (2,4G) [application/zip]\nGuardando como: \u201cPositive_tensors.zip\u201d\n\nPositive_tensors.zi 100%[===================>]   2,42G   284KB/s    en 2h 13m  \n\n2020-07-25 00:09:05 (317 KB/s) - \u201cPositive_tensors.zip\u201d guardado [2598656062/2598656062]\n\n"
                }
            ]
        },
        {
            "metadata": {},
            "cell_type": "code",
            "source": "!unzip -q Positive_tensors.zip ",
            "execution_count": 6,
            "outputs": []
        },
        {
            "metadata": {},
            "cell_type": "code",
            "source": "! wget https://s3-api.us-geo.objectstorage.softlayer.net/cf-courses-data/CognitiveClass/DL0321EN/data/images/Negative_tensors.zip\n!unzip -q Negative_tensors.zip",
            "execution_count": 7,
            "outputs": [
                {
                    "name": "stdout",
                    "output_type": "stream",
                    "text": "--2020-07-25 00:17:26--  https://s3-api.us-geo.objectstorage.softlayer.net/cf-courses-data/CognitiveClass/DL0321EN/data/images/Negative_tensors.zip\nResolviendo s3-api.us-geo.objectstorage.softlayer.net (s3-api.us-geo.objectstorage.softlayer.net)... 67.228.254.196\nConectando con s3-api.us-geo.objectstorage.softlayer.net (s3-api.us-geo.objectstorage.softlayer.net)[67.228.254.196]:443... conectado.\nPetici\u00f3n HTTP enviada, esperando respuesta... 200 OK\nLongitud: 2111408108 (2,0G) [application/zip]\nGuardando como: \u201cNegative_tensors.zip\u201d\n\nNegative_tensors.zi 100%[===================>]   1,97G   320KB/s    en 1h 51m  \n\n2020-07-25 02:08:40 (309 KB/s) - \u201cNegative_tensors.zip\u201d guardado [2111408108/2111408108]\n\n"
                }
            ]
        },
        {
            "metadata": {},
            "cell_type": "markdown",
            "source": "We will install torchvision:"
        },
        {
            "metadata": {},
            "cell_type": "code",
            "source": "!pip install torchvision",
            "execution_count": 8,
            "outputs": [
                {
                    "name": "stdout",
                    "output_type": "stream",
                    "text": "Requirement already satisfied: torchvision in /home/robi/.virtualenvs/DataScience/lib/python3.6/site-packages (0.6.1)\nRequirement already satisfied: numpy in /home/robi/.virtualenvs/DataScience/lib/python3.6/site-packages (from torchvision) (1.18.2)\nRequirement already satisfied: torch==1.5.1 in /home/robi/.virtualenvs/DataScience/lib/python3.6/site-packages (from torchvision) (1.5.1)\nRequirement already satisfied: pillow>=4.1.1 in /home/robi/.virtualenvs/DataScience/lib/python3.6/site-packages (from torchvision) (7.1.0)\nRequirement already satisfied: future in /home/robi/.virtualenvs/DataScience/lib/python3.6/site-packages (from torch==1.5.1->torchvision) (0.18.2)\n"
                }
            ]
        },
        {
            "metadata": {},
            "cell_type": "markdown",
            "source": "<h2 id=\"auxiliary\">Imports and Auxiliary Functions</h2>"
        },
        {
            "metadata": {},
            "cell_type": "markdown",
            "source": "The following are the libraries we are going to use for this lab. The <code>torch.manual_seed()</code> is for forcing the random function to give the same number every time we try to recompile it."
        },
        {
            "metadata": {},
            "cell_type": "code",
            "source": "# These are the libraries will be used for this lab.\nimport torchvision.models as models\nfrom PIL import Image\nimport pandas\nfrom torchvision import transforms\nimport torch.nn as nn\nimport time\nimport torch \nimport matplotlib.pylab as plt\nimport numpy as np\nfrom torch.utils.data import Dataset, DataLoader\nimport h5py\nimport os\nimport glob\ntorch.manual_seed(0)",
            "execution_count": 1,
            "outputs": [
                {
                    "data": {
                        "text/plain": "<torch._C.Generator at 0x7fc9123762b0>"
                    },
                    "execution_count": 1,
                    "metadata": {},
                    "output_type": "execute_result"
                }
            ]
        },
        {
            "metadata": {},
            "cell_type": "code",
            "source": "from matplotlib.pyplot import imshow\nimport matplotlib.pylab as plt\nfrom PIL import Image\nimport pandas as pd\nimport os",
            "execution_count": 2,
            "outputs": []
        },
        {
            "metadata": {},
            "cell_type": "markdown",
            "source": "<!--Empty Space for separating topics-->"
        },
        {
            "metadata": {},
            "cell_type": "markdown",
            "source": "<h2 id=\"data_class\">Dataset Class</h2>"
        },
        {
            "metadata": {},
            "cell_type": "markdown",
            "source": " This dataset class is essentially the same dataset you build in the previous section, but to speed things up, we are going to use tensors instead of jpeg images. Therefor for each iteration, you will skip the reshape step, conversion step to tensors and normalization step."
        },
        {
            "metadata": {},
            "cell_type": "code",
            "source": "# Create your own dataset object\n\nclass Dataset(Dataset):\n\n    # Constructor\n    def __init__(self,transform=None,train=True):\n        directory=\"\"\n        positive=\"Positive_tensors\"\n        negative='Negative_tensors'\n\n        positive_file_path=os.path.join(directory,positive)\n        negative_file_path=os.path.join(directory,negative)\n        positive_files=[os.path.join(positive_file_path,file) for file in os.listdir(positive_file_path) if file.endswith(\".pt\")]\n        negative_files=[os.path.join(negative_file_path,file) for file in os.listdir(negative_file_path) if file.endswith(\".pt\")]\n        number_of_samples=len(positive_files)+len(negative_files)\n        self.all_files=[None]*number_of_samples\n        self.all_files[::2]=positive_files\n        self.all_files[1::2]=negative_files \n        # The transform is goint to be used on image\n        self.transform = transform\n        #torch.LongTensor\n        self.Y=torch.zeros([number_of_samples]).type(torch.LongTensor)\n        self.Y[::2]=1\n        self.Y[1::2]=0\n        \n        if train:\n            self.all_files=self.all_files[0:30000]\n            self.Y=self.Y[0:30000]\n            self.len=len(self.all_files)\n        else:\n            self.all_files=self.all_files[30000:]\n            self.Y=self.Y[30000:]\n            self.len=len(self.all_files)     \n       \n    # Get the length\n    def __len__(self):\n        return self.len\n    \n    # Getter\n    def __getitem__(self, idx):\n               \n        image=torch.load(self.all_files[idx])\n        y=self.Y[idx]\n                  \n        # If there is any transform method, apply it onto the image\n        if self.transform:\n            image = self.transform(image)\n\n        return image, y\n    \nprint(\"done\")",
            "execution_count": 10,
            "outputs": [
                {
                    "name": "stdout",
                    "output_type": "stream",
                    "text": "done\n"
                }
            ]
        },
        {
            "metadata": {},
            "cell_type": "markdown",
            "source": "We create two dataset objects, one for the training data and one for the validation data."
        },
        {
            "metadata": {},
            "cell_type": "code",
            "source": "train_dataset = Dataset(train=True)\nvalidation_dataset = Dataset(train=False)\nprint(\"done\")\ntrain_dataset[0][0].shape",
            "execution_count": 19,
            "outputs": [
                {
                    "name": "stdout",
                    "output_type": "stream",
                    "text": "done\n"
                },
                {
                    "data": {
                        "text/plain": "torch.Size([3, 224, 224])"
                    },
                    "execution_count": 19,
                    "metadata": {},
                    "output_type": "execute_result"
                }
            ]
        },
        {
            "metadata": {},
            "cell_type": "markdown",
            "source": "<h2 id=\"Question_1\">Question 1</h2>"
        },
        {
            "metadata": {},
            "cell_type": "markdown",
            "source": "<b>Prepare a pre-trained resnet18 model :</b>"
        },
        {
            "metadata": {},
            "cell_type": "markdown",
            "source": "<b>Step 1</b>: Load the pre-trained model <code>resnet18</code> Set the parameter <code>pretrained</code> to true:"
        },
        {
            "metadata": {},
            "cell_type": "code",
            "source": "# Step 1: Load the pre-trained model resnet18\n\n# Type your code here\nmodel = models.resnet18(pretrained = True)\n",
            "execution_count": 14,
            "outputs": [
                {
                    "name": "stderr",
                    "output_type": "stream",
                    "text": "Downloading: \"https://download.pytorch.org/models/resnet18-5c106cde.pth\" to /home/robi/.cache/torch/checkpoints/resnet18-5c106cde.pth\n"
                },
                {
                    "data": {
                        "application/vnd.jupyter.widget-view+json": {
                            "model_id": "afdd50e1437f46da86e8cf1894d4d636",
                            "version_major": 2,
                            "version_minor": 0
                        },
                        "text/plain": "HBox(children=(FloatProgress(value=0.0, max=46827520.0), HTML(value='')))"
                    },
                    "metadata": {},
                    "output_type": "display_data"
                },
                {
                    "name": "stdout",
                    "output_type": "stream",
                    "text": "\n"
                }
            ]
        },
        {
            "metadata": {},
            "cell_type": "markdown",
            "source": "<b>Step 2</b>: Set the attribute <code>requires_grad</code> to <code>False</code>. As a result, the parameters will not be affected by training."
        },
        {
            "metadata": {},
            "cell_type": "code",
            "source": "# Step 2: Set the parameter cannot be trained for the pre-trained model\n\n# Type your code here\nfor param in model.parameters():\n    param.requires_grad = False",
            "execution_count": 15,
            "outputs": []
        },
        {
            "metadata": {},
            "cell_type": "markdown",
            "source": "<code>resnet18</code> is used to classify 1000 different objects; as a result, the last layer has 1000 outputs.  The 512 inputs come from the fact that the previously hidden layer has 512 outputs. "
        },
        {
            "metadata": {},
            "cell_type": "markdown",
            "source": "<b>Step 3</b>: Replace the output layer <code>model.fc</code> of the neural network with a <code>nn.Linear</code> object, to classify 2 different classes. For the parameters <code>in_features </code> remember the last hidden layer has 512 neurons."
        },
        {
            "metadata": {},
            "cell_type": "code",
            "source": "model.fc = nn.Linear(512,2)",
            "execution_count": 33,
            "outputs": []
        },
        {
            "metadata": {},
            "cell_type": "markdown",
            "source": "Print out the model in order to show whether you get the correct answer.<br> <b>(Your peer reviewer is going to mark based on what you print here.)</b>"
        },
        {
            "metadata": {
                "scrolled": true
            },
            "cell_type": "code",
            "source": "print(model)",
            "execution_count": 34,
            "outputs": [
                {
                    "name": "stdout",
                    "output_type": "stream",
                    "text": "ResNet(\n  (conv1): Conv2d(3, 64, kernel_size=(7, 7), stride=(2, 2), padding=(3, 3), bias=False)\n  (bn1): BatchNorm2d(64, eps=1e-05, momentum=0.1, affine=True, track_running_stats=True)\n  (relu): ReLU(inplace=True)\n  (maxpool): MaxPool2d(kernel_size=3, stride=2, padding=1, dilation=1, ceil_mode=False)\n  (layer1): Sequential(\n    (0): BasicBlock(\n      (conv1): Conv2d(64, 64, kernel_size=(3, 3), stride=(1, 1), padding=(1, 1), bias=False)\n      (bn1): BatchNorm2d(64, eps=1e-05, momentum=0.1, affine=True, track_running_stats=True)\n      (relu): ReLU(inplace=True)\n      (conv2): Conv2d(64, 64, kernel_size=(3, 3), stride=(1, 1), padding=(1, 1), bias=False)\n      (bn2): BatchNorm2d(64, eps=1e-05, momentum=0.1, affine=True, track_running_stats=True)\n    )\n    (1): BasicBlock(\n      (conv1): Conv2d(64, 64, kernel_size=(3, 3), stride=(1, 1), padding=(1, 1), bias=False)\n      (bn1): BatchNorm2d(64, eps=1e-05, momentum=0.1, affine=True, track_running_stats=True)\n      (relu): ReLU(inplace=True)\n      (conv2): Conv2d(64, 64, kernel_size=(3, 3), stride=(1, 1), padding=(1, 1), bias=False)\n      (bn2): BatchNorm2d(64, eps=1e-05, momentum=0.1, affine=True, track_running_stats=True)\n    )\n  )\n  (layer2): Sequential(\n    (0): BasicBlock(\n      (conv1): Conv2d(64, 128, kernel_size=(3, 3), stride=(2, 2), padding=(1, 1), bias=False)\n      (bn1): BatchNorm2d(128, eps=1e-05, momentum=0.1, affine=True, track_running_stats=True)\n      (relu): ReLU(inplace=True)\n      (conv2): Conv2d(128, 128, kernel_size=(3, 3), stride=(1, 1), padding=(1, 1), bias=False)\n      (bn2): BatchNorm2d(128, eps=1e-05, momentum=0.1, affine=True, track_running_stats=True)\n      (downsample): Sequential(\n        (0): Conv2d(64, 128, kernel_size=(1, 1), stride=(2, 2), bias=False)\n        (1): BatchNorm2d(128, eps=1e-05, momentum=0.1, affine=True, track_running_stats=True)\n      )\n    )\n    (1): BasicBlock(\n      (conv1): Conv2d(128, 128, kernel_size=(3, 3), stride=(1, 1), padding=(1, 1), bias=False)\n      (bn1): BatchNorm2d(128, eps=1e-05, momentum=0.1, affine=True, track_running_stats=True)\n      (relu): ReLU(inplace=True)\n      (conv2): Conv2d(128, 128, kernel_size=(3, 3), stride=(1, 1), padding=(1, 1), bias=False)\n      (bn2): BatchNorm2d(128, eps=1e-05, momentum=0.1, affine=True, track_running_stats=True)\n    )\n  )\n  (layer3): Sequential(\n    (0): BasicBlock(\n      (conv1): Conv2d(128, 256, kernel_size=(3, 3), stride=(2, 2), padding=(1, 1), bias=False)\n      (bn1): BatchNorm2d(256, eps=1e-05, momentum=0.1, affine=True, track_running_stats=True)\n      (relu): ReLU(inplace=True)\n      (conv2): Conv2d(256, 256, kernel_size=(3, 3), stride=(1, 1), padding=(1, 1), bias=False)\n      (bn2): BatchNorm2d(256, eps=1e-05, momentum=0.1, affine=True, track_running_stats=True)\n      (downsample): Sequential(\n        (0): Conv2d(128, 256, kernel_size=(1, 1), stride=(2, 2), bias=False)\n        (1): BatchNorm2d(256, eps=1e-05, momentum=0.1, affine=True, track_running_stats=True)\n      )\n    )\n    (1): BasicBlock(\n      (conv1): Conv2d(256, 256, kernel_size=(3, 3), stride=(1, 1), padding=(1, 1), bias=False)\n      (bn1): BatchNorm2d(256, eps=1e-05, momentum=0.1, affine=True, track_running_stats=True)\n      (relu): ReLU(inplace=True)\n      (conv2): Conv2d(256, 256, kernel_size=(3, 3), stride=(1, 1), padding=(1, 1), bias=False)\n      (bn2): BatchNorm2d(256, eps=1e-05, momentum=0.1, affine=True, track_running_stats=True)\n    )\n  )\n  (layer4): Sequential(\n    (0): BasicBlock(\n      (conv1): Conv2d(256, 512, kernel_size=(3, 3), stride=(2, 2), padding=(1, 1), bias=False)\n      (bn1): BatchNorm2d(512, eps=1e-05, momentum=0.1, affine=True, track_running_stats=True)\n      (relu): ReLU(inplace=True)\n      (conv2): Conv2d(512, 512, kernel_size=(3, 3), stride=(1, 1), padding=(1, 1), bias=False)\n      (bn2): BatchNorm2d(512, eps=1e-05, momentum=0.1, affine=True, track_running_stats=True)\n      (downsample): Sequential(\n        (0): Conv2d(256, 512, kernel_size=(1, 1), stride=(2, 2), bias=False)\n        (1): BatchNorm2d(512, eps=1e-05, momentum=0.1, affine=True, track_running_stats=True)\n      )\n    )\n    (1): BasicBlock(\n      (conv1): Conv2d(512, 512, kernel_size=(3, 3), stride=(1, 1), padding=(1, 1), bias=False)\n      (bn1): BatchNorm2d(512, eps=1e-05, momentum=0.1, affine=True, track_running_stats=True)\n      (relu): ReLU(inplace=True)\n      (conv2): Conv2d(512, 512, kernel_size=(3, 3), stride=(1, 1), padding=(1, 1), bias=False)\n      (bn2): BatchNorm2d(512, eps=1e-05, momentum=0.1, affine=True, track_running_stats=True)\n    )\n  )\n  (avgpool): AdaptiveAvgPool2d(output_size=(1, 1))\n  (fc): Linear(in_features=512, out_features=2, bias=True)\n)\n"
                }
            ]
        },
        {
            "metadata": {},
            "cell_type": "markdown",
            "source": "<h2 id=\"Question_2\">Question 2: Train the Model</h2>"
        },
        {
            "metadata": {},
            "cell_type": "markdown",
            "source": "In this question you will train your, model:"
        },
        {
            "metadata": {},
            "cell_type": "markdown",
            "source": "<b>Step 1</b>: Create a cross entropy criterion function "
        },
        {
            "metadata": {},
            "cell_type": "code",
            "source": "# Step 1: Create the loss function\n\n# Type your code here\ncriterion = nn.CrossEntropyLoss()",
            "execution_count": 35,
            "outputs": []
        },
        {
            "metadata": {},
            "cell_type": "markdown",
            "source": "<b>Step 2</b>: Create a training loader and validation loader object, the batch size should have 100 samples each."
        },
        {
            "metadata": {},
            "cell_type": "code",
            "source": "train_loader = torch.utils.data.DataLoader(dataset = train_dataset, batch_size = 100)\nvalidation_loader = torch.utils.data.DataLoader(dataset = validation_dataset, batch_size = 100)",
            "execution_count": 36,
            "outputs": []
        },
        {
            "metadata": {},
            "cell_type": "markdown",
            "source": "<b>Step 3</b>: Use the following optimizer to minimize the loss "
        },
        {
            "metadata": {},
            "cell_type": "code",
            "source": "optimizer = torch.optim.Adam([parameters  for parameters in model.parameters() if parameters.requires_grad],lr=0.001)",
            "execution_count": 37,
            "outputs": []
        },
        {
            "metadata": {},
            "cell_type": "markdown",
            "source": "<!--Empty Space for separating topics-->"
        },
        {
            "metadata": {},
            "cell_type": "markdown",
            "source": "**Complete the following code to calculate  the accuracy on the validation data for one epoch; this should take about 45 minutes. Make sure you calculate the accuracy on the validation data.**"
        },
        {
            "metadata": {},
            "cell_type": "code",
            "source": "n_epochs=1\nloss_list=[]\naccuracy_list=[]\ncorrect=0\nN_test=len(validation_dataset)\nN_train=len(train_dataset)\nstart_time = time.time()\n#n_epochs\n\nLoss=0\nstart_time = time.time()\nfor epoch in range(n_epochs):\n    for x, y in train_loader:\n\n        model.train() \n            #clear gradient \n        optimizer.zero_grad()\n            #make a prediction \n        z = model(x)\n            # calculate loss \n        loss = criterion(z, y)\n            # calculate gradients of parameters \n        optimizer.zero_grad()\n            # update parameters \n        loss.backward()\n        optimizer.step()\n        loss_list.append(loss.data)\n        \n    correct=0\n    for x_test, y_test in validation_loader:\n        # set model to eval \n        model.eval()\n        #make a prediction \n        z = model(x_test)\n        #find max \n        _, yhat = torch.max(z.data, 1)\n        #Calculate misclassified  samples in mini-batch \n        correct += (yhat==y_test).sum().item()\n        accuracy=correct/N_test\n        accuracy_list.append(accuracy)\n        ",
            "execution_count": 41,
            "outputs": []
        },
        {
            "metadata": {},
            "cell_type": "markdown",
            "source": "<b>Print out the Accuracy and plot the loss stored in the list <code>loss_list</code> for every iteration and take a screen shot.</b>"
        },
        {
            "metadata": {},
            "cell_type": "code",
            "source": "accuracy",
            "execution_count": 42,
            "outputs": [
                {
                    "data": {
                        "text/plain": "0.9938"
                    },
                    "execution_count": 42,
                    "metadata": {},
                    "output_type": "execute_result"
                }
            ]
        },
        {
            "metadata": {},
            "cell_type": "code",
            "source": "\nfig, ax1 = plt.subplots()\ncolor = 'tab:red'\nax1.plot(loss_list,color=color)\nax1.set_xlabel('epoch',color=color)\nax1.set_ylabel('total loss',color=color)\nax1.tick_params(axis='y', color=color)\n\nax2 = ax1.twinx()  \ncolor = 'tab:blue'\nax2.set_ylabel('accuracy', color=color)  \nax2.plot(accuracy_list, color=color)\nax2.tick_params(axis='y', color=color)\nfig.tight_layout()",
            "execution_count": 98,
            "outputs": [
                {
                    "data": {
                        "image/png": "[encoded data removed]",
                        "text/plain": "<Figure size 432x288 with 2 Axes>"
                    },
                    "metadata": {
                        "needs_background": "light"
                    },
                    "output_type": "display_data"
                }
            ]
        },
        {
            "metadata": {},
            "cell_type": "markdown",
            "source": "<h2 id=\"Question_3\">Question 3:Find the misclassified samples</h2> "
        },
        {
            "metadata": {},
            "cell_type": "markdown",
            "source": "<b>Identify the first four misclassified samples using the validation data:</b>"
        },
        {
            "metadata": {},
            "cell_type": "code",
            "source": "# Plot the data\n            #.reshape(224, 224, 3)\ndef show_data(data_sample):\n    plt.imshow((data_sample[0].permute(1, 2, 0).numpy()*255).astype(np.uint8), cmap='gray')\n    plt.title('y = ' + str(data_sample[1]))",
            "execution_count": 83,
            "outputs": []
        },
        {
            "metadata": {},
            "cell_type": "code",
            "source": "import matplotlib.pyplot as plt\nimport matplotlib.image as mpimg\nimport torchvision",
            "execution_count": 86,
            "outputs": []
        },
        {
            "metadata": {},
            "cell_type": "code",
            "source": "# Plot the misclassified samples\nSoftmax_fn = nn.Softmax(dim=-1)           #\ncount = 0\nfor x, y in torch.utils.data.DataLoader(dataset = validation_dataset, batch_size = 1):\n    model.eval()\n    z = model(x)\n    _, yhat = torch.max(z.data, 1)\n    mask = (yhat != y).sum().item()\n    if mask:\n        #print(x[0].shape)\n        #show_data(x)\n        \n        #plt.imshow(torchvision.transforms.ToPILImage()(x[0]))\n        #plt.show()\n        print('sample', count+1, \"predicted value:\", yhat, 'actual value:', y)      \n        print(\"probability of class \", torch.max(z).item())\n        count += 1\n    if count >= 6:\n        break                 ",
            "execution_count": 95,
            "outputs": [
                {
                    "name": "stdout",
                    "output_type": "stream",
                    "text": "sample 1 predicted value: tensor([0]) actual value: tensor([1])\nprobability of class  0.7938950657844543\nsample 2 predicted value: tensor([0]) actual value: tensor([1])\nprobability of class  0.15576085448265076\nsample 3 predicted value: tensor([1]) actual value: tensor([0])\nprobability of class  1.160595178604126\nsample 4 predicted value: tensor([0]) actual value: tensor([1])\nprobability of class  0.800456166267395\nsample 5 predicted value: tensor([1]) actual value: tensor([0])\nprobability of class  0.542951226234436\nsample 6 predicted value: tensor([1]) actual value: tensor([0])\nprobability of class  0.20666497945785522\n"
                }
            ]
        },
        {
            "metadata": {},
            "cell_type": "markdown",
            "source": "<a href=\"https://dataplatform.cloud.ibm.com/docs/content/wsj/analyze-data/share-notebooks.html\"> CLICK HERE </a> Click here to see how to share your notebook."
        },
        {
            "metadata": {},
            "cell_type": "markdown",
            "source": "<h2>About the Authors:</h2> \n\n<a href=\"https://www.linkedin.com/in/joseph-s-50398b136/\">Joseph Santarcangelo</a> has a PhD in Electrical Engineering, his research focused on using machine learning, signal processing, and computer vision to determine how videos impact human cognition. Joseph has been working for IBM since he completed his PhD."
        },
        {
            "metadata": {},
            "cell_type": "markdown",
            "source": "Copyright &copy; 2018 <a href=\"cognitiveclass.ai?utm_source=bducopyrightlink&utm_medium=dswb&utm_campaign=bdu\">cognitiveclass.ai</a>. This notebook and its source code are released under the terms of the <a href=\"https://bigdatauniversity.com/mit-license/\">MIT License</a>."
        }
    ],
    "metadata": {
        "kernelspec": {
            "name": "python3",
            "display_name": "Python 3.6",
            "language": "python"
        },
        "language_info": {
            "name": "python",
            "version": "3.6.9",
            "mimetype": "text/x-python",
            "codemirror_mode": {
                "name": "ipython",
                "version": 3
            },
            "pygments_lexer": "ipython3",
            "nbconvert_exporter": "python",
            "file_extension": ".py"
        }
    },
    "nbformat": 4,
    "nbformat_minor": 2
}