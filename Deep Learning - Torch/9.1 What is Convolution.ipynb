{
    "cells": [
        {
            "metadata": {},
            "cell_type": "markdown",
            "source": "<a href=\"http://cocl.us/pytorch_link_top\">\n    <img src=\"https://s3-api.us-geo.objectstorage.softlayer.net/cf-courses-data/CognitiveClass/DL0110EN/notebook_images%20/Pytochtop.png\" width=\"750\" alt=\"IBM Product \" />\n</a> "
        },
        {
            "metadata": {},
            "cell_type": "markdown",
            "source": "<img src=\"https://s3-api.us-geo.objectstorage.softlayer.net/cf-courses-data/CognitiveClass/DL0110EN/notebook_images%20/cc-logo-square.png\" width=\"200\" alt=\"cognitiveclass.ai logo\" />\n\n<h1>What's Convolution </h1 >"
        },
        {
            "metadata": {},
            "cell_type": "markdown",
            "source": "\n# Table of Contents\nIn this lab, you will study convolution and review how the different operations change the relationship between input and output.\n\n<div class=\"alert alert-block alert-info\" style=\"margin-top: 20px\">\n<li><a href=\"#ref0\">What is Convolution  </a></li>\n\n<li><a href=\"#ref1\">Determining  the Size of Output</a></li>\n<li><a href=\"#ref2\">Stride</a></li>\n<li><a href=\"#ref3\">Zero Padding </a></li>\n<li><a href=\"#ref4\">Practice Questions </a></li>\n\n<br>\n<p></p>\nEstimated Time Needed: <strong>25 min</strong>\n</div>\n"
        },
        {
            "metadata": {},
            "cell_type": "markdown",
            "source": "Import the following libraries: "
        },
        {
            "metadata": {},
            "cell_type": "code",
            "source": "import torch \nimport torch.nn as nn\nimport matplotlib.pyplot as plt\nimport numpy as np\nfrom scipy import ndimage, misc",
            "execution_count": 1,
            "outputs": []
        },
        {
            "metadata": {},
            "cell_type": "markdown",
            "source": "<a id=\"ref0\"></a>\n<h2 align=center>What is Convolution?</h2>"
        },
        {
            "metadata": {},
            "cell_type": "markdown",
            "source": "Convolution is a linear operation similar to a linear equation, dot product, or matrix multiplication. Convolution has several advantages for analyzing images. As discussed in the video, convolution preserves the relationship between elements, and it requires fewer parameters than other methods.  "
        },
        {
            "metadata": {},
            "cell_type": "markdown",
            "source": "You can see the relationship between the different methods that you learned:\n\n$$linear \\ equation :y=wx+b$$\n$$linear\\ equation\\ with\\ multiple \\ variables \\ where \\ \\mathbf{x} \\ is \\ a \\ vector \\ \\mathbf{y}=\\mathbf{wx}+b$$\n$$ \\ matrix\\ multiplication \\ where \\ \\mathbf{X} \\ in \\ a \\ matrix \\ \\mathbf{y}=\\mathbf{wX}+\\mathbf{b} $$\n$$\\ convolution \\ where \\ \\mathbf{X} \\ and \\ \\mathbf{Y} \\ is \\ a \\ tensor \\  \\mathbf{Y}=\\mathbf{w}*\\mathbf{X}+\\mathbf{b}$$"
        },
        {
            "metadata": {},
            "cell_type": "markdown",
            "source": "In convolution, the parameter <b>w</b> is called a kernel. You can perform convolution on images where you let the variable image denote the variable X and w denote the parameter."
        },
        {
            "metadata": {},
            "cell_type": "markdown",
            "source": "<img src=\"https://s3-api.us-geo.objectstorage.softlayer.net/cf-courses-data/CognitiveClass/DL0110EN/notebook_images%20/chapter%206/6.1.1xw.png\" width=\"500\"/>"
        },
        {
            "metadata": {},
            "cell_type": "markdown",
            "source": "Create a two-dimensional convolution object by using the constructor Conv2d, the parameter <code>in_channels</code> and <code>out_channels</code> will be used for this section, and the parameter kernel_size will be three.\n"
        },
        {
            "metadata": {},
            "cell_type": "code",
            "source": "conv = nn.Conv2d(in_channels=1, out_channels=1,kernel_size=3)\nconv",
            "execution_count": 6,
            "outputs": [
                {
                    "data": {
                        "text/plain": "Conv2d(1, 1, kernel_size=(3, 3), stride=(1, 1))"
                    },
                    "execution_count": 6,
                    "metadata": {},
                    "output_type": "execute_result"
                }
            ]
        },
        {
            "metadata": {},
            "cell_type": "markdown",
            "source": "Because the parameters in <code>nn.Conv2d</code> are randomly initialized and learned through training, give them some values."
        },
        {
            "metadata": {},
            "cell_type": "code",
            "source": "conv.state_dict()['weight'][0][0]=torch.tensor([[1.0,0,-1.0],[2.0,0,-2.0],[1.0,0.0,-1.0]])\nconv.state_dict()['bias'][0]=0.0\nconv.state_dict()",
            "execution_count": 3,
            "outputs": [
                {
                    "data": {
                        "text/plain": "OrderedDict([('weight',\n              tensor([[[[ 1.,  0., -1.],\n                        [ 2.,  0., -2.],\n                        [ 1.,  0., -1.]]]])),\n             ('bias', tensor([0.]))])"
                    },
                    "execution_count": 3,
                    "metadata": {},
                    "output_type": "execute_result"
                }
            ]
        },
        {
            "metadata": {},
            "cell_type": "markdown",
            "source": "Create a dummy tensor to represent an image. The shape of the image is (1,1,5,5) where:\n\n(number of inputs, number of channels, number of rows, number of columns ) \n\nSet the third column to 1:"
        },
        {
            "metadata": {},
            "cell_type": "code",
            "source": "image=torch.zeros(1,1,5,5)\nimage[0,0,:,2]=1\nimage",
            "execution_count": 4,
            "outputs": [
                {
                    "data": {
                        "text/plain": "tensor([[[[0., 0., 1., 0., 0.],\n          [0., 0., 1., 0., 0.],\n          [0., 0., 1., 0., 0.],\n          [0., 0., 1., 0., 0.],\n          [0., 0., 1., 0., 0.]]]])"
                    },
                    "execution_count": 4,
                    "metadata": {},
                    "output_type": "execute_result"
                }
            ]
        },
        {
            "metadata": {},
            "cell_type": "markdown",
            "source": "Call the object <code>conv</code> on the tensor <code>image</code> as an input to perform the convolution and assign the result to the tensor <code>z</code>. "
        },
        {
            "metadata": {},
            "cell_type": "code",
            "source": "z=conv(image)\nz",
            "execution_count": 5,
            "outputs": [
                {
                    "data": {
                        "text/plain": "tensor([[[[-4.,  0.,  4.],\n          [-4.,  0.,  4.],\n          [-4.,  0.,  4.]]]], grad_fn=<MkldnnConvolutionBackward>)"
                    },
                    "execution_count": 5,
                    "metadata": {},
                    "output_type": "execute_result"
                }
            ]
        },
        {
            "metadata": {},
            "cell_type": "markdown",
            "source": "The following animation illustrates the process, the kernel performs at the element-level multiplication on every element in the image in the corresponding region. The values are then added together. The kernel is then shifted and the process is repeated. "
        },
        {
            "metadata": {},
            "cell_type": "markdown",
            "source": "<img src=\"https://s3-api.us-geo.objectstorage.softlayer.net/cf-courses-data/CognitiveClass/DL0110EN/notebook_images%20/chapter%206/6.1.1convltuon.gif\" width=\"500\"/>"
        },
        {
            "metadata": {},
            "cell_type": "markdown",
            "source": "\n<a id=\"ref1\"></a>\n<h2 align=center>Determining  the Size of the Output</h2>"
        },
        {
            "metadata": {},
            "cell_type": "markdown",
            "source": "The size of the output is an important parameter. In this lab, you will assume square images. For rectangular images, the same formula can be used in for each dimension independently.  \n\nLet M be the size of the input and K be the size of the kernel. The size of the output is given by the following formula:"
        },
        {
            "metadata": {},
            "cell_type": "markdown",
            "source": "$$M_{new}=M-K+1$$"
        },
        {
            "metadata": {},
            "cell_type": "markdown",
            "source": "Create a kernel of size 2:"
        },
        {
            "metadata": {},
            "cell_type": "code",
            "source": "K=2\nconv1 = nn.Conv2d(in_channels=1, out_channels=1,kernel_size=K)\nconv1.state_dict()['weight'][0][0]=torch.tensor([[1.0,1.0],[1.0,1.0]])\nconv1.state_dict()['bias'][0]=0.0\nconv1.state_dict()\nconv1",
            "execution_count": 7,
            "outputs": [
                {
                    "data": {
                        "text/plain": "Conv2d(1, 1, kernel_size=(2, 2), stride=(1, 1))"
                    },
                    "execution_count": 7,
                    "metadata": {},
                    "output_type": "execute_result"
                }
            ]
        },
        {
            "metadata": {},
            "cell_type": "markdown",
            "source": "Create an image of size 2:"
        },
        {
            "metadata": {},
            "cell_type": "code",
            "source": "M=4\nimage1=torch.ones(1,1,M,M)",
            "execution_count": 8,
            "outputs": []
        },
        {
            "metadata": {},
            "cell_type": "markdown",
            "source": "<img src=\"https://s3-api.us-geo.objectstorage.softlayer.net/cf-courses-data/CognitiveClass/DL0110EN/notebook_images%20/chapter%206/6.1.1kernal2.png\" width=\"500\"/>"
        },
        {
            "metadata": {},
            "cell_type": "markdown",
            "source": "The following equation provides the output:"
        },
        {
            "metadata": {},
            "cell_type": "markdown",
            "source": "$$M_{new}=M-K+1$$\n$$M_{new}=4-2+1$$\n$$M_{new}=3$$"
        },
        {
            "metadata": {},
            "cell_type": "markdown",
            "source": "The following animation illustrates the process: The first iteration of the kernel overlay of the images produces one output. As the kernel is of size K, there are M-K  elements for the kernel to move in the horizontal direction. The same logic applies to the vertical direction.  "
        },
        {
            "metadata": {},
            "cell_type": "markdown",
            "source": "<img src=\"https://s3-api.us-geo.objectstorage.softlayer.net/cf-courses-data/CognitiveClass/DL0110EN/notebook_images%20/chapter%206/6.1.1outsize.gif\" width=\"500\"/>"
        },
        {
            "metadata": {},
            "cell_type": "markdown",
            "source": "Perform the convolution and verify the size is correct:"
        },
        {
            "metadata": {},
            "cell_type": "code",
            "source": "z1=conv1(image1)\nprint(\"z1:\",z1)\nprint(\"shape:\",z1.shape[2:4])",
            "execution_count": 9,
            "outputs": [
                {
                    "name": "stdout",
                    "output_type": "stream",
                    "text": "z1: tensor([[[[4., 4., 4.],\n          [4., 4., 4.],\n          [4., 4., 4.]]]], grad_fn=<MkldnnConvolutionBackward>)\nshape: torch.Size([3, 3])\n"
                }
            ]
        },
        {
            "metadata": {},
            "cell_type": "markdown",
            "source": "<a id=\"ref2\"></a>\n<h2 align=center>Stride parameter</h2>"
        },
        {
            "metadata": {},
            "cell_type": "markdown",
            "source": "The parameter stride changes the number of shifts the kernel moves per iteration. As a result, the output size also changes and is given by the following formula:"
        },
        {
            "metadata": {},
            "cell_type": "markdown",
            "source": "$$M_{new}=\\dfrac{M-K}{stride}+1$$\n"
        },
        {
            "metadata": {},
            "cell_type": "markdown",
            "source": "Create a convolution object with a stride of 2:"
        },
        {
            "metadata": {},
            "cell_type": "code",
            "source": "conv3 = nn.Conv2d(in_channels=1, out_channels=1,kernel_size=2,stride=2)\n\nconv3.state_dict()['weight'][0][0]=torch.tensor([[1.0,1.0],[1.0,1.0]])\nconv3.state_dict()['bias'][0]=0.0\nconv3.state_dict()",
            "execution_count": 10,
            "outputs": [
                {
                    "data": {
                        "text/plain": "OrderedDict([('weight',\n              tensor([[[[1., 1.],\n                        [1., 1.]]]])),\n             ('bias', tensor([0.]))])"
                    },
                    "execution_count": 10,
                    "metadata": {},
                    "output_type": "execute_result"
                }
            ]
        },
        {
            "metadata": {},
            "cell_type": "markdown",
            "source": "For an image with a size of 4, calculate the output size:"
        },
        {
            "metadata": {},
            "cell_type": "markdown",
            "source": "$$M_{new}=\\dfrac{M-K}{stride}+1$$\n$$M_{new}=\\dfrac{4-2}{2}+1$$\n$$M_{new}=2$$"
        },
        {
            "metadata": {},
            "cell_type": "markdown",
            "source": "The following animation illustrates the process: The first iteration of the kernel overlay of the images produces one output. Because the kernel is of size K, there are M-K=2 elements. The stride is 2 because it will move 2 elements at a time. As a result, you divide M-K by the stride value 2:\n"
        },
        {
            "metadata": {},
            "cell_type": "markdown",
            "source": "<img src=\"https://s3-api.us-geo.objectstorage.softlayer.net/cf-courses-data/CognitiveClass/DL0110EN/notebook_images%20/chapter%206/6.1.1stride2.gif\" width=\"500\"/>"
        },
        {
            "metadata": {},
            "cell_type": "markdown",
            "source": "Perform the convolution and verify the size is correct: "
        },
        {
            "metadata": {},
            "cell_type": "code",
            "source": "z3=conv3(image1)\n\nprint(\"z3:\",z3)\nprint(\"shape:\",z3.shape[2:4])",
            "execution_count": 11,
            "outputs": [
                {
                    "name": "stdout",
                    "output_type": "stream",
                    "text": "z3: tensor([[[[4., 4.],\n          [4., 4.]]]], grad_fn=<MkldnnConvolutionBackward>)\nshape: torch.Size([2, 2])\n"
                }
            ]
        },
        {
            "metadata": {},
            "cell_type": "markdown",
            "source": "<a id='ref3'></a>\n<h2 align=center>Zero Padding </h2>\n"
        },
        {
            "metadata": {},
            "cell_type": "markdown",
            "source": "As you apply successive convolutions, the image will shrink. You can apply zero padding to keep the image at a reasonable size, which also holds information at the borders."
        },
        {
            "metadata": {},
            "cell_type": "markdown",
            "source": "In addition, you might not get integer values for the size of the kernel. Consider the following image:"
        },
        {
            "metadata": {},
            "cell_type": "code",
            "source": "image1",
            "execution_count": 12,
            "outputs": [
                {
                    "data": {
                        "text/plain": "tensor([[[[1., 1., 1., 1.],\n          [1., 1., 1., 1.],\n          [1., 1., 1., 1.],\n          [1., 1., 1., 1.]]]])"
                    },
                    "execution_count": 12,
                    "metadata": {},
                    "output_type": "execute_result"
                }
            ]
        },
        {
            "metadata": {},
            "cell_type": "markdown",
            "source": "Try performing convolutions with the <code>kernel_size=2</code> and a <code>stride=3</code>. Use these values:\n\n$$M_{new}=\\dfrac{M-K}{stride}+1$$\n$$M_{new}=\\dfrac{4-2}{3}+1$$\n$$M_{new}=1.666$$"
        },
        {
            "metadata": {},
            "cell_type": "code",
            "source": "conv4 = nn.Conv2d(in_channels=1, out_channels=1,kernel_size=2,stride=3)\nconv4.state_dict()['weight'][0][0]=torch.tensor([[1.0,1.0],[1.0,1.0]])\nconv4.state_dict()['bias'][0]=0.0\nconv4.state_dict()\nz4=conv4(image1)\nprint(\"z4:\",z4)\nprint(\"z4:\",z4.shape[2:4])",
            "execution_count": 13,
            "outputs": [
                {
                    "name": "stdout",
                    "output_type": "stream",
                    "text": "z4: tensor([[[[4.]]]], grad_fn=<MkldnnConvolutionBackward>)\nz4: torch.Size([1, 1])\n"
                }
            ]
        },
        {
            "metadata": {},
            "cell_type": "markdown",
            "source": "You can add rows and columns of zeros around the image. This is called padding. In the constructor <code>Conv2d</code>, you specify the number of rows or columns of zeros that you want to add with the parameter padding. \n\nFor a square image, you merely pad an extra column of zeros to the first column and the last column. Repeat the process for the rows. As a result, for a square image, the width and height is the original size plus 2 x the number of padding elements specified. You can then determine the size of the output after subsequent operations accordingly as shown in the following equation where you determine the size of an image after padding and then applying a convolutions kernel of size K."
        },
        {
            "metadata": {},
            "cell_type": "markdown",
            "source": "$$M'=M+2 \\times padding$$\n$$M_{new}=M'-K+1$$"
        },
        {
            "metadata": {},
            "cell_type": "markdown",
            "source": "Consider the following example:"
        },
        {
            "metadata": {},
            "cell_type": "code",
            "source": "conv5 = nn.Conv2d(in_channels=1, out_channels=1,kernel_size=2,stride=3,padding=1)\n\nconv5.state_dict()['weight'][0][0]=torch.tensor([[1.0,1.0],[1.0,1.0]])\nconv5.state_dict()['bias'][0]=0.0\nconv5.state_dict()\nz5=conv5(image1)\nprint(\"z5:\",z5)\nprint(\"z5:\",z4.shape[2:4])",
            "execution_count": 14,
            "outputs": [
                {
                    "name": "stdout",
                    "output_type": "stream",
                    "text": "z5: tensor([[[[1., 2.],\n          [2., 4.]]]], grad_fn=<MkldnnConvolutionBackward>)\nz5: torch.Size([1, 1])\n"
                }
            ]
        },
        {
            "metadata": {},
            "cell_type": "markdown",
            "source": "The process is summarized in the following  animation: "
        },
        {
            "metadata": {},
            "cell_type": "markdown",
            "source": "<img src=\"https://s3-api.us-geo.objectstorage.softlayer.net/cf-courses-data/CognitiveClass/DL0110EN/notebook_images%20/chapter%206/6.1.1zeropad.gif\" width=\"500\"/>"
        },
        {
            "metadata": {},
            "cell_type": "markdown",
            "source": "<a id='ref4'></a>\n<h2 align=center>Practice Question </h2>"
        },
        {
            "metadata": {},
            "cell_type": "markdown",
            "source": " A kernel of zeros with a kernel size=3  is applied to the following image: "
        },
        {
            "metadata": {},
            "cell_type": "code",
            "source": "Image=torch.randn((1,1,4,4))\nImage",
            "execution_count": 15,
            "outputs": [
                {
                    "data": {
                        "text/plain": "tensor([[[[ 1.5649,  0.7504,  0.5891,  0.1486],\n          [-0.0919, -0.1072, -1.3635, -0.3928],\n          [ 0.2769,  1.1158,  0.4721, -0.4559],\n          [ 0.1914, -0.7317, -0.8387, -0.1965]]]])"
                    },
                    "execution_count": 15,
                    "metadata": {},
                    "output_type": "execute_result"
                }
            ]
        },
        {
            "metadata": {},
            "cell_type": "markdown",
            "source": "Question: Without using the function, determine what the outputs values are as each element:"
        },
        {
            "metadata": {},
            "cell_type": "markdown",
            "source": "Double-click __here__ for the solution.\n\n<!-- Your answer is below:\nAs each element of the kernel is zero, and for every  output, the image is multiplied  by the  kernel, the result is always zero \n\n-->"
        },
        {
            "metadata": {},
            "cell_type": "markdown",
            "source": "Question: Use the following convolution object to perform convolution on the tensor   <code>Image</code>:"
        },
        {
            "metadata": {},
            "cell_type": "code",
            "source": "conv = nn.Conv2d(in_channels=1, out_channels=1,kernel_size=3)\nconv.state_dict()['weight'][0][0]=torch.tensor([[0,0,0],[0,0,0],[0,0.0,0]])\nconv.state_dict()['bias'][0]=0.0",
            "execution_count": 16,
            "outputs": []
        },
        {
            "metadata": {},
            "cell_type": "markdown",
            "source": "Double-click __here__ for the solution.\n<!-- Your answer is below:\nconv(Image)\n-->"
        },
        {
            "metadata": {},
            "cell_type": "markdown",
            "source": "Question: You have an image of size 4. The parameters are as follows  kernel_size=2,stride=2. What is the size of the output?"
        },
        {
            "metadata": {},
            "cell_type": "markdown",
            "source": "(M-K)/stride +1\n(4-2)/2 +1\n2"
        },
        {
            "metadata": {},
            "cell_type": "markdown",
            "source": "Double-click __here__ for the solution.\n\n<!-- Your answer is below:\n(M-K)/stride +1\n(4-2)/2 +1\n2\n-->"
        },
        {
            "metadata": {},
            "cell_type": "markdown",
            "source": "<a href=\"http://cocl.us/pytorch_link_bottom\">\n    <img src=\"https://s3-api.us-geo.objectstorage.softlayer.net/cf-courses-data/CognitiveClass/DL0110EN/notebook_images%20/notebook_bottom%20.png\" width=\"750\" alt=\"PyTorch Bottom\" />\n</a>"
        },
        {
            "metadata": {},
            "cell_type": "markdown",
            "source": "### About the Authors:  \n[Joseph Santarcangelo]( https://www.linkedin.com/in/joseph-s-50398b136/) has a PhD in Electrical Engineering. His research focused on using machine learning, signal processing, and computer vision to determine how videos impact human cognition. \n\nOther contributors: [Michelle Carey](  https://www.linkedin.com/in/michelleccarey/), [Mavis Zhou](  https://www.linkedin.com/in/jiahui-mavis-zhou-a4537814a/) "
        },
        {
            "metadata": {},
            "cell_type": "markdown",
            "source": "<hr>"
        },
        {
            "metadata": {},
            "cell_type": "markdown",
            "source": "Copyright &copy; 2018 [cognitiveclass.ai](cognitiveclass.ai?utm_source=bducopyrightlink&utm_medium=dswb&utm_campaign=bdu). This notebook and its source code are released under the terms of the [MIT License](https://bigdatauniversity.com/mit-license/)."
        },
        {
            "metadata": {},
            "cell_type": "code",
            "source": "",
            "execution_count": null,
            "outputs": []
        }
    ],
    "metadata": {
        "kernelspec": {
            "name": "python3",
            "display_name": "Python 3.6",
            "language": "python"
        },
        "language_info": {
            "name": "python",
            "version": "3.6.9",
            "mimetype": "text/x-python",
            "codemirror_mode": {
                "name": "ipython",
                "version": 3
            },
            "pygments_lexer": "ipython3",
            "nbconvert_exporter": "python",
            "file_extension": ".py"
        }
    },
    "nbformat": 4,
    "nbformat_minor": 2
}