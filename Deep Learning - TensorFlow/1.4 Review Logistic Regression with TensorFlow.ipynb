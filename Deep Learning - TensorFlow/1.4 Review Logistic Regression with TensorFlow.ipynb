{
    "cells": [
        {
            "cell_type": "markdown",
            "metadata": {},
            "source": "<a href=\"https://cognitiveclass.ai/\"><img src=\"https://s3-api.us-geo.objectstorage.softlayer.net/cf-courses-data/CognitiveClass/DL0110EN/notebook_images%20/cc-logo-square.png\" width=\"200px\" align=\"center\"></a>\n\n<h1>LOGISTIC REGRESSION WITH TENSORFLOW</h1>"
        },
        {
            "cell_type": "markdown",
            "metadata": {},
            "source": "## Table of Contents\n\nLogistic Regression is one of most important techniques in data science. It is usually used to solve the classic classification problem.\n\n<div class=\"alert alert-block alert-info\" style=\"margin-top: 20px\">\n<font size = 3><strong>This lesson covers the following concepts of Logistics Regression:</strong></font>\n<br>\n<h2>Table of Contents</h2>\n\n<ol>\n    <li><a href=\"#ref1\">Linear Regression vs Logistic Regression</a></li>\n    <li><a href=\"#ref2\">Utilizing Logistic Regression in TensorFlow</a></li>\n    <li><a href=\"#ref3\">Training</a></li>\n</ol>    \n</div>\n<p></p>\n<br>\n\n<hr>"
        },
        {
            "cell_type": "markdown",
            "metadata": {},
            "source": "<a id=\"ref1\"></a>\n<h2>What is different between Linear and Logistic Regression?</h2>\n\nWhile Linear Regression is suited for estimating continuous values (e.g. estimating house price), it is n0t the best tool for predicting the class in which an observed data point belongs. In order to provide estimate for classification, we need some sort of guidance on what would be the <b>most probable class</b> for that data point. For this, we use <b>Logistic Regression</b>.\n\n<div class=\"alert alert-success alertsuccess\" style=\"margin-top: 20px\">\n<font size=\"3\"><strong>Recall linear regression:</strong></font>\n<br>\n<br>\nLinear regression finds a function that relates a continuous dependent variable, <i>y</i>, to some predictors (independent variables <i>x1</i>, <i>x2</i>, etc.). Simple linear regression assumes a function of the form:\n<br><br>\n$$\ny = w0 + w1 \\times x1 + w2 \\times x2 + \\cdots\n$$\n<br>\nand finds the values of <i>w0</i>, <i>w1</i>, <i>w2</i>, etc. The term <i>w0</i> is the \"intercept\" or \"constant term\" (it's shown as <i>b</i> in the formula below):\n<br><br>\n$$\nY = W X + b\n$$\n<p></p>\n\n</div>\n\nLogistic Regression is a variation of Linear Regression, useful when the observed dependent variable, <i>y</i>, is categorical. It produces a formula that predicts the probability of the class label as a function of the independent variables.\n\nDespite the name logistic <i>regression</i>, it is actually a <b>probabilistic classification</b> model. Logistic regression fits a special s-shaped curve by taking the linear regression and transforming the numeric estimate into a probability with the following function:\n\n$$\nProbabilityOfaClass = \\theta(y) = \\frac{e^y}{1 + e^y} = exp(y) / (1 + exp(y)) = p \n$$\n\nwhich produces p-values between 0 (as y approaches minus infinity $-\\infty$) and 1 (as y approaches plus infinity $+\\infty$). This now becomes a special kind of non-linear regression.\n\nIn this equation, <i>y</i> is the regression result (the sum of the variables weighted by the coefficients), <code>exp</code> is the exponential function and $\\theta(y)$ is the <a href=\"http://en.wikipedia.org/wiki/Logistic_function\">logistic function</a>, also called logistic curve. It is a common \"S\" shape (sigmoid curve), and was first developed for modeling population growth.\n\nYou might also have seen this function before, in another configuration:\n\n$$\nProbabilityOfaClass = \\theta(y) = \\frac{1}{1+e^{-y}}\n$$\n\nSo, briefly, Logistic Regression passes the input through the logistic/sigmoid function but then treats the result as a probability:\n\n<img src=\"https://ibm.box.com/shared/static/kgv9alcghmjcv97op4d6onkyxevk23b1.png\" width=\"400\" align=\"center\">\n"
        },
        {
            "cell_type": "markdown",
            "metadata": {},
            "source": "-------------------------------"
        },
        {
            "cell_type": "markdown",
            "metadata": {},
            "source": "<a id=\"ref2\"></a>\n<h2>Utilizing Logistic Regression in TensorFlow</h2>\n\nFor us to utilize Logistic Regression in TensorFlow, we first need to import the required libraries. To do so, you can run the code cell below."
        },
        {
            "cell_type": "code",
            "execution_count": 1,
            "metadata": {},
            "outputs": [],
            "source": "import tensorflow.compat.v1 as tf\nimport pandas as pd\nimport numpy as np\nimport time\nfrom sklearn.datasets import load_iris\nfrom sklearn.model_selection import train_test_split\nimport matplotlib.pyplot as plt"
        },
        {
            "cell_type": "code",
            "execution_count": 2,
            "metadata": {},
            "outputs": [
                {
                    "name": "stdout",
                    "output_type": "stream",
                    "text": "2.2.0\nWARNING:tensorflow:From /home/robi/.virtualenvs/DataScience/lib/python3.6/site-packages/tensorflow/python/compat/v2_compat.py:96: disable_resource_variables (from tensorflow.python.ops.variable_scope) is deprecated and will be removed in a future version.\nInstructions for updating:\nnon-resource variables are not supported in the long term\n"
                }
            ],
            "source": "print(tf.__version__)\n\ntf.disable_v2_behavior()"
        },
        {
            "cell_type": "markdown",
            "metadata": {},
            "source": "Next, we will load the dataset we are going to use. In this case, we are utilizing the <code>iris</code> dataset, which is inbuilt -- so there's no need to do any preprocessing and we can jump right into manipulating it. We separate the dataset into <i>xs</i> and <i>ys</i>, and then into training <i>xs</i> and <i>ys</i> and testing <i>xs</i> and <i>ys</i>, (pseudo)randomly."
        },
        {
            "cell_type": "markdown",
            "metadata": {},
            "source": "<h3>Understanding the Data</h3>\n\n<h4><code>Iris Dataset</code>:</h4>\nThis dataset was introduced by British Statistician and Biologist Ronald Fisher, it consists of 50 samples from each of three species of Iris (Iris setosa, Iris virginica and Iris versicolor). In total it has 150 records under five attributes - petal length, petal width, sepal length, sepal width and species. <a href=\"https://archive.ics.uci.edu/ml/datasets/iris\">Dataset source</a>\n\nAttributes\nIndependent Variable\n<ul>\n    <li>petal length</li>\n    <li>petal width</li>\n    <li>sepal length</li>\n    <li>sepal width</li>\n</ul>\nDependent Variable\n<ul>    \n    <li>Species\n        <ul>\n            <li>Iris setosa</li>\n            <li>Iris virginica</li>\n            <li>Iris versicolor</li>\n        </ul>\n    </li>\n</ul>\n<br>"
        },
        {
            "cell_type": "code",
            "execution_count": 3,
            "metadata": {},
            "outputs": [],
            "source": "iris = load_iris()\niris_X, iris_y = iris.data[:-1,:], iris.target[:-1]\niris_y= pd.get_dummies(iris_y).values\ntrainX, testX, trainY, testY = train_test_split(iris_X, iris_y, test_size=0.33, random_state=42)"
        },
        {
            "cell_type": "markdown",
            "metadata": {},
            "source": "Now we define x and y. These placeholders will hold our iris data (both the features and label matrices), and help pass them along to different parts of the algorithm. You can consider placeholders as empty shells into which we insert our data. We also need to give them shapes which correspond to the shape of our data. Later, we will insert data into these placeholders by \u201cfeeding\u201d the placeholders the data via a \u201cfeed_dict\u201d (Feed Dictionary).\n\n<h3>Why use Placeholders?</h3>\n\n<ol>\n    <li>This feature of TensorFlow allows us to create an algorithm which accepts data and knows something about the shape of the data without knowing the amount of data going in.</li>\n    <li>When we insert \u201cbatches\u201d of data in training, we can easily adjust how many examples we train on in a single step without changing the entire algorithm.</li>\n</ol>"
        },
        {
            "cell_type": "code",
            "execution_count": 4,
            "metadata": {},
            "outputs": [],
            "source": "# numFeatures is the number of features in our input data.\n# In the iris dataset, this number is '4'.\nnumFeatures = trainX.shape[1]\n\n# numLabels is the number of classes our data points can be in.\n# In the iris dataset, this number is '3'.\nnumLabels = trainY.shape[1]\n\n\n# Placeholders\n# 'None' means TensorFlow shouldn't expect a fixed number in that dimension\nX = tf.placeholder(tf.float32, [None, numFeatures]) # Iris has 4 features, so X is a tensor to hold our data.\nyGold = tf.placeholder(tf.float32, [None, numLabels]) # This will be our correct answers matrix for 3 classes."
        },
        {
            "cell_type": "markdown",
            "metadata": {},
            "source": "<h3>Set model weights and bias</h3>\n\nMuch like Linear Regression, we need a shared variable weight matrix for Logistic Regression. We initialize both <code>W</code> and <code>b</code> as tensors full of zeros. Since we are going to learn <code>W</code> and <code>b</code>, their initial value does not matter too much. These variables are the objects which define the structure of our regression model, and we can save them after they have been trained so we can reuse them later.\n\nWe define two TensorFlow variables as our parameters. These variables will hold the weights and biases of our logistic regression and they will be continually updated during training. \n\nNotice that <code>W</code> has a shape of [4, 3] because we want to multiply the 4-dimensional input vectors by it to produce 3-dimensional vectors of evidence for the difference classes. <code>b</code> has a shape of [3] so we can add it to the output. Moreover, unlike our placeholders above which are essentially empty shells waiting to be fed data, TensorFlow variables need to be initialized with values, e.g. with zeros."
        },
        {
            "cell_type": "code",
            "execution_count": 5,
            "metadata": {},
            "outputs": [],
            "source": "W = tf.Variable(tf.zeros([4, 3]))  # 4-dimensional input and  3 classes\nb = tf.Variable(tf.zeros([3])) # 3-dimensional output [0,0,1],[0,1,0],[1,0,0]"
        },
        {
            "cell_type": "code",
            "execution_count": 6,
            "metadata": {},
            "outputs": [],
            "source": "#Randomly sample from a normal distribution with standard deviation .01\n\nweights = tf.Variable(tf.random_normal([numFeatures,numLabels],\n                                       mean=0,\n                                       stddev=0.01,\n                                       name=\"weights\"))\n\nbias = tf.Variable(tf.random_normal([1,numLabels],\n                                    mean=0,\n                                    stddev=0.01,\n                                    name=\"bias\"))"
        },
        {
            "cell_type": "markdown",
            "metadata": {},
            "source": "<h3>Logistic Regression model</h3>\n\nWe now define our operations in order to properly run the Logistic Regression. Logistic regression is typically thought of as a single equation:\n\n$$\ny\u0302 =sigmoid(WX+b)\n$$\n\nHowever, for the sake of clarity, we can have it broken into its three main components: \n- a weight times features matrix multiplication operation, \n- a summation of the weighted features and a bias term, \n- and finally the application of a sigmoid function. \n\nAs such, you will find these components defined as three separate operations below.\n"
        },
        {
            "cell_type": "code",
            "execution_count": 7,
            "metadata": {},
            "outputs": [],
            "source": "# Three-component breakdown of the Logistic Regression equation.\n# Note that these feed into each other.\napply_weights_OP = tf.matmul(X, weights, name=\"apply_weights\")\nadd_bias_OP = tf.add(apply_weights_OP, bias, name=\"add_bias\") \nactivation_OP = tf.nn.sigmoid(add_bias_OP, name=\"activation\")"
        },
        {
            "cell_type": "markdown",
            "metadata": {},
            "source": "As we have seen before, the function we are going to use is the <i>logistic function</i> $(\\frac{1}{1+e^{-Wx}})$, which is fed the input data after applying weights and bias. In TensorFlow, this function is implemented as the <code>nn.sigmoid</code> function. Effectively, this fits the weighted input with bias into a 0-100 percent curve, which is the probability function we want."
        },
        {
            "cell_type": "markdown",
            "metadata": {},
            "source": "<hr>"
        },
        {
            "cell_type": "markdown",
            "metadata": {},
            "source": "<a id=\"ref3\"></a>\n<h2>Training</h2>\n\nThe learning algorithm is how we search for the best weight vector (${\\bf w}$). This search is an optimization problem looking for the hypothesis that optimizes an error/cost measure.\n\n<b>What tell us our model is bad?</b>  \nThe Cost or Loss of the model, so what we want is to minimize that. \n\n<b>What is the cost function in our model?</b>  \nThe cost function we are going to utilize is the Squared Mean Error loss function.\n\n<b>How to minimize the cost function?</b>   \nWe can't use <b>least-squares linear regression</b> here, so we will use <a href=\"http://en.wikipedia.org/wiki/Gradient_descent\">gradient descent</a> instead. Specifically, we will use batch gradient descent which calculates the gradient from all data points in the data set.\n\n<h3>Cost function</h3>\nBefore defining our cost function, we need to define how long we are going to train and how should we define the learning rate."
        },
        {
            "cell_type": "code",
            "execution_count": 8,
            "metadata": {},
            "outputs": [],
            "source": "# Number of Epochs in our training\nnumEpochs = 700\n\n# Defining our learning rate iterations (decay)\nlearningRate = tf.train.exponential_decay(learning_rate=0.0008,\n                                          global_step= 1,\n                                          decay_steps=trainX.shape[0],\n                                          decay_rate= 0.95,\n                                          staircase=True)"
        },
        {
            "cell_type": "code",
            "execution_count": 9,
            "metadata": {},
            "outputs": [],
            "source": "#Defining our cost function - Squared Mean Error\ncost_OP = tf.nn.l2_loss(activation_OP-yGold, name=\"squared_error_cost\")\n\n#Defining our Gradient Descent\ntraining_OP = tf.train.GradientDescentOptimizer(learningRate).minimize(cost_OP)"
        },
        {
            "cell_type": "markdown",
            "metadata": {},
            "source": "Now we move on to actually running our operations. We will start with the operations involved in the prediction phase (i.e. the logistic regression itself).\n\nFirst, we need to initialize our weights and biases with zeros or random values via the inbuilt Initialization Op, <b>tf.initialize_all_variables()</b>. This Initialization Op will become a node in our computational graph, and when we put the graph into a session, then the Op will run and create the variables."
        },
        {
            "cell_type": "code",
            "execution_count": 10,
            "metadata": {},
            "outputs": [],
            "source": "# Create a tensorflow session\nsess = tf.Session()\n\n# Initialize our weights and biases variables.\ninit_OP = tf.global_variables_initializer()\n\n# Initialize all tensorflow variables\nsess.run(init_OP)"
        },
        {
            "cell_type": "markdown",
            "metadata": {},
            "source": "We also want some additional operations to keep track of our model's efficiency over time. We can do this like so:"
        },
        {
            "cell_type": "code",
            "execution_count": 11,
            "metadata": {},
            "outputs": [],
            "source": "# argmax(activation_OP, 1) returns the label with the most probability\n# argmax(yGold, 1) is the correct label\ncorrect_predictions_OP = tf.equal(tf.argmax(activation_OP,1),tf.argmax(yGold,1))\n\n# If every false prediction is 0 and every true prediction is 1, the average returns us the accuracy\naccuracy_OP = tf.reduce_mean(tf.cast(correct_predictions_OP, \"float\"))\n\n# Summary op for regression output\nactivation_summary_OP = tf.summary.histogram(\"output\", activation_OP)\n\n# Summary op for accuracy\naccuracy_summary_OP = tf.summary.scalar(\"accuracy\", accuracy_OP)\n\n# Summary op for cost\ncost_summary_OP = tf.summary.scalar(\"cost\", cost_OP)\n\n# Summary ops to check how variables (W, b) are updating after each iteration\nweightSummary = tf.summary.histogram(\"weights\", weights.eval(session=sess))\nbiasSummary = tf.summary.histogram(\"biases\", bias.eval(session=sess))\n\n# Merge all summaries\nmerged = tf.summary.merge([activation_summary_OP, accuracy_summary_OP, cost_summary_OP, weightSummary, biasSummary])\n\n# Summary writer\nwriter = tf.summary.FileWriter(\"summary_logs\", sess.graph)"
        },
        {
            "cell_type": "markdown",
            "metadata": {},
            "source": "Now we can define and run the actual training loop, like this:"
        },
        {
            "cell_type": "code",
            "execution_count": 12,
            "metadata": {},
            "outputs": [
                {
                    "name": "stdout",
                    "output_type": "stream",
                    "text": "step 0, training accuracy 0.333333, cost 34.6352, change in cost 34.6352\nstep 10, training accuracy 0.545455, cost 30.1103, change in cost 4.52488\nstep 20, training accuracy 0.646465, cost 28.1627, change in cost 1.94757\nstep 30, training accuracy 0.646465, cost 26.5181, change in cost 1.64461\nstep 40, training accuracy 0.646465, cost 25.1511, change in cost 1.36704\nstep 50, training accuracy 0.646465, cost 24.0215, change in cost 1.12957\nstep 60, training accuracy 0.646465, cost 23.0865, change in cost 0.934986\nstep 70, training accuracy 0.646465, cost 22.3076, change in cost 0.778864\nstep 80, training accuracy 0.646465, cost 21.6531, change in cost 0.654535\nstep 90, training accuracy 0.646465, cost 21.0976, change in cost 0.555496\nstep 100, training accuracy 0.656566, cost 20.6214, change in cost 0.476244\nstep 110, training accuracy 0.666667, cost 20.209, change in cost 0.412361\nstep 120, training accuracy 0.666667, cost 19.8486, change in cost 0.360437\nstep 130, training accuracy 0.666667, cost 19.5307, change in cost 0.317877\nstep 140, training accuracy 0.666667, cost 19.248, change in cost 0.282673\nstep 150, training accuracy 0.666667, cost 18.9947, change in cost 0.253311\nstep 160, training accuracy 0.686869, cost 18.7661, change in cost 0.228615\nstep 170, training accuracy 0.686869, cost 18.5584, change in cost 0.20768\nstep 180, training accuracy 0.69697, cost 18.3686, change in cost 0.1898\nstep 190, training accuracy 0.717172, cost 18.1942, change in cost 0.174425\nstep 200, training accuracy 0.717172, cost 18.0331, change in cost 0.16111\nstep 210, training accuracy 0.737374, cost 17.8836, change in cost 0.149515\nstep 220, training accuracy 0.737374, cost 17.7442, change in cost 0.139349\nstep 230, training accuracy 0.747475, cost 17.6138, change in cost 0.13039\nstep 240, training accuracy 0.757576, cost 17.4914, change in cost 0.122458\nstep 250, training accuracy 0.777778, cost 17.376, change in cost 0.115393\nstep 260, training accuracy 0.787879, cost 17.2669, change in cost 0.109074\nstep 270, training accuracy 0.787879, cost 17.1635, change in cost 0.103395\nstep 280, training accuracy 0.787879, cost 17.0652, change in cost 0.0982742\nstep 290, training accuracy 0.79798, cost 16.9716, change in cost 0.0936317\nstep 300, training accuracy 0.79798, cost 16.8822, change in cost 0.0894108\nstep 310, training accuracy 0.79798, cost 16.7966, change in cost 0.0855637\nstep 320, training accuracy 0.79798, cost 16.7146, change in cost 0.082037\nstep 330, training accuracy 0.79798, cost 16.6358, change in cost 0.0787964\nstep 340, training accuracy 0.808081, cost 16.56, change in cost 0.0758133\nstep 350, training accuracy 0.828283, cost 16.4869, change in cost 0.0730553\nstep 360, training accuracy 0.828283, cost 16.4164, change in cost 0.0704975\nstep 370, training accuracy 0.838384, cost 16.3483, change in cost 0.0681248\nstep 380, training accuracy 0.838384, cost 16.2824, change in cost 0.0659084\nstep 390, training accuracy 0.848485, cost 16.2185, change in cost 0.0638466\nstep 400, training accuracy 0.848485, cost 16.1566, change in cost 0.0619106\nstep 410, training accuracy 0.848485, cost 16.0965, change in cost 0.0600948\nstep 420, training accuracy 0.848485, cost 16.0381, change in cost 0.0583954\nstep 430, training accuracy 0.848485, cost 15.9814, change in cost 0.0567846\nstep 440, training accuracy 0.868687, cost 15.9261, change in cost 0.0552711\nstep 450, training accuracy 0.868687, cost 15.8723, change in cost 0.0538387\nstep 460, training accuracy 0.878788, cost 15.8198, change in cost 0.0524836\nstep 470, training accuracy 0.878788, cost 15.7686, change in cost 0.0511951\nstep 480, training accuracy 0.878788, cost 15.7186, change in cost 0.0499744\nstep 490, training accuracy 0.878788, cost 15.6698, change in cost 0.04881\nstep 500, training accuracy 0.878788, cost 15.6221, change in cost 0.0477047\nstep 510, training accuracy 0.878788, cost 15.5754, change in cost 0.0466461\nstep 520, training accuracy 0.878788, cost 15.5298, change in cost 0.0456371\nstep 530, training accuracy 0.888889, cost 15.4851, change in cost 0.0446701\nstep 540, training accuracy 0.89899, cost 15.4414, change in cost 0.0437469\nstep 550, training accuracy 0.89899, cost 15.3985, change in cost 0.042861\nstep 560, training accuracy 0.89899, cost 15.3565, change in cost 0.0420084\nstep 570, training accuracy 0.89899, cost 15.3153, change in cost 0.0411901\nstep 580, training accuracy 0.909091, cost 15.2749, change in cost 0.0404062\nstep 590, training accuracy 0.909091, cost 15.2353, change in cost 0.0396481\nstep 600, training accuracy 0.909091, cost 15.1964, change in cost 0.0389214\nstep 610, training accuracy 0.909091, cost 15.1581, change in cost 0.0382166\nstep 620, training accuracy 0.909091, cost 15.1206, change in cost 0.0375357\nstep 630, training accuracy 0.909091, cost 15.0837, change in cost 0.0368843\nstep 640, training accuracy 0.909091, cost 15.0475, change in cost 0.0362492\nstep 650, training accuracy 0.909091, cost 15.0118, change in cost 0.035635\nstep 660, training accuracy 0.909091, cost 14.9768, change in cost 0.0350447\nstep 670, training accuracy 0.909091, cost 14.9423, change in cost 0.0344687\nstep 680, training accuracy 0.909091, cost 14.9084, change in cost 0.0339108\nstep 690, training accuracy 0.909091, cost 14.875, change in cost 0.0333719\nfinal accuracy on test set: 0.9\n"
                }
            ],
            "source": "# Initialize reporting variables\ncost = 0\ndiff = 1\nepoch_values = []\naccuracy_values = []\ncost_values = []\n\n# Training epochs\nfor i in range(numEpochs):\n    if i > 1 and diff < .0001:\n        print(\"change in cost %g; convergence.\"%diff)\n        break\n    else:\n        # Run training step\n        step = sess.run(training_OP, feed_dict={X: trainX, yGold: trainY})\n        # Report occasional stats\n        if i % 10 == 0:\n            # Add epoch to epoch_values\n            epoch_values.append(i)\n            # Generate accuracy stats on test data\n            train_accuracy, newCost = sess.run([accuracy_OP, cost_OP], feed_dict={X: trainX, yGold: trainY})\n            # Add accuracy to live graphing variable\n            accuracy_values.append(train_accuracy)\n            # Add cost to live graphing variable\n            cost_values.append(newCost)\n            # Re-assign values for variables\n            diff = abs(newCost - cost)\n            cost = newCost\n\n            #generate print statements\n            print(\"step %d, training accuracy %g, cost %g, change in cost %g\"%(i, train_accuracy, newCost, diff))\n\n\n# How well do we perform on held-out test data?\nprint(\"final accuracy on test set: %s\" %str(sess.run(accuracy_OP, \n                                                     feed_dict={X: testX, \n                                                                yGold: testY})))"
        },
        {
            "cell_type": "markdown",
            "metadata": {},
            "source": "<b>Why don't we plot the cost to see how it behaves?</b>"
        },
        {
            "cell_type": "code",
            "execution_count": 13,
            "metadata": {},
            "outputs": [
                {
                    "name": "stderr",
                    "output_type": "stream",
                    "text": "/home/robi/.virtualenvs/DataScience/lib/python3.6/site-packages/numpy/core/fromnumeric.py:3335: RuntimeWarning: Mean of empty slice.\n  out=out, **kwargs)\n/home/robi/.virtualenvs/DataScience/lib/python3.6/site-packages/numpy/core/_methods.py:161: RuntimeWarning: invalid value encountered in double_scalars\n  ret = ret.dtype.type(ret / rcount)\n"
                },
                {
                    "data": {
                        "image/png": "[encoded data removed]",
                        "text/plain": "<Figure size 432x288 with 1 Axes>"
                    },
                    "metadata": {
                        "needs_background": "light"
                    },
                    "output_type": "display_data"
                }
            ],
            "source": "%matplotlib inline\nimport numpy as np\nimport matplotlib.pyplot as plt\nplt.plot([np.mean(cost_values[0:i]) for i in range(len(cost_values))])\nplt.show()"
        },
        {
            "cell_type": "markdown",
            "metadata": {},
            "source": "Assuming no parameters were changed, you should reach a peak accuracy of 90% at the end of training, which is commendable. Try changing the parameters such as the length of training, and maybe some operations to see how the model behaves. Does it take much longer? How is the performance?"
        },
        {
            "cell_type": "markdown",
            "metadata": {},
            "source": "<hr>"
        },
        {
            "cell_type": "markdown",
            "metadata": {},
            "source": "## Want to learn more?\n\nRunning deep learning programs usually needs a high performance platform. __PowerAI__ speeds up deep learning and AI. Built on IBM\u2019s Power Systems, __PowerAI__ is a scalable software platform that accelerates deep learning and AI with blazing performance for individual users or enterprises. The __PowerAI__ platform supports popular machine learning libraries and dependencies including TensorFlow, Caffe, Torch, and Theano. You can use [PowerAI on IMB Cloud](https://cocl.us/ML0120EN_PAI).\n\nAlso, you can use __Watson Studio__ to run these notebooks faster with bigger datasets.__Watson Studio__ is IBM\u2019s leading cloud solution for data scientists, built by data scientists. With Jupyter notebooks, RStudio, Apache Spark and popular libraries pre-packaged in the cloud, __Watson Studio__ enables data scientists to collaborate on their projects without having to install anything. Join the fast-growing community of __Watson Studio__ users today with a free account at [Watson Studio](https://cocl.us/ML0120EN_DSX).This is the end of this lesson. Thank you for reading this notebook, and good luck on your studies."
        },
        {
            "cell_type": "markdown",
            "metadata": {},
            "source": "### Thanks for completing this lesson!\n\nThis is the end of **Logistic Regression with TensorFlow** notebook. Hopefully, now you have a deeper understanding of Logistic Regression and how its structure and flow work. Thank you for reading this notebook and good luck on your studies."
        },
        {
            "cell_type": "markdown",
            "metadata": {},
            "source": "Created by: <a href=\"https://br.linkedin.com/in/walter-gomes-de-amorim-junior-624726121\">Saeed Aghabozorgi</a> , <a href=\"https://br.linkedin.com/in/walter-gomes-de-amorim-junior-624726121\">Walter Gomes de Amorim Junior</a> ,  Victor Barros Costa\n"
        },
        {
            "cell_type": "markdown",
            "metadata": {},
            "source": "<hr>\n\nCopyright &copy; 2018 [Cognitive Class](https://cocl.us/DX0108EN_CC). This notebook and its source code are released under the terms of the [MIT License](https://bigdatauniversity.com/mit-license/)."
        }
    ],
    "metadata": {
        "kernelspec": {
            "display_name": "Python 3",
            "language": "python",
            "name": "python3"
        },
        "language_info": {
            "codemirror_mode": {
                "name": "ipython",
                "version": 3
            },
            "file_extension": ".py",
            "mimetype": "text/x-python",
            "name": "python",
            "nbconvert_exporter": "python",
            "pygments_lexer": "ipython3",
            "version": "3.6.9"
        }
    },
    "nbformat": 4,
    "nbformat_minor": 2
}