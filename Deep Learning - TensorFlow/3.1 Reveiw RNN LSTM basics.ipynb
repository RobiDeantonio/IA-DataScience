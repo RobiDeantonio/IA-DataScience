{
    "cells": [
        {
            "metadata": {},
            "cell_type": "markdown",
            "source": "<a href=\"https://cognitiveclass.ai/\"><img src=\"https://s3-api.us-geo.objectstorage.softlayer.net/cf-courses-data/CognitiveClass/DL0110EN/notebook_images%20/cc-logo-square.png\" width=\"200px\" align=\"center\"></a>\n\n<h1>RECURRENT NETWORKS IN DEEP LEARNING</h1>"
        },
        {
            "metadata": {},
            "cell_type": "markdown",
            "source": "Hello and welcome to this notebook. In this notebook, we will go over concepts of the Long Short-Term Memory (LSTM) model, a refinement of the original Recurrent Neural Network model. By the end of this notebook, you should be able to understand the Long Short-Term Memory model, the benefits and problems it solves, and its inner workings and calculations."
        },
        {
            "metadata": {},
            "cell_type": "markdown",
            "source": "<br>\n<h2>Table of Contents</h2>\n<ol>\n    <li><a href=\"#intro\">Introduction</a></li>\n    <li><a href=\"#long_short_term_memory_model\">Long Short-Term Memory Model</a></li>\n    <li><a href=\"#ltsm\">LTSM</a></li>\n    <li><a href=\"#stacked_ltsm\">Stacked LTSM</a></li>\n</ol>\n<p></p>\n</div>\n<br>\n\n<hr>"
        },
        {
            "metadata": {},
            "cell_type": "markdown",
            "source": "<a id=\"intro\"><a/> \n<h2>Introduction</h2>\n\nRecurrent Neural Networks are Deep Learning models with simple structures and a feedback mechanism built-in, or in different words, the output of a layer is added to the next input and fed back to the same layer.\n\nThe Recurrent Neural Network is a specialized type of Neural Network that solves the issue of **maintaining context for Sequential data** -- such as Weather data, Stocks, Genes, etc. At each iterative step, the processing unit takes in an input and the current state of the network, and produces an output and a new state that is <b>re-fed into the network</b>.\n\n<img src=\"https://ibm.box.com/shared/static/v7p90neiaqghmpwawpiecmz9n7080m59.png\">\n\n\n<center><i>Representation of a Recurrent Neural Network</i></center>\n<br><br>\nHowever, <b>this model has some problems</b>. It's very computationally expensive to maintain the state for a large amount of units, even more so over a long amount of time. Additionally, Recurrent Networks are very sensitive to changes in their parameters. As such, they are prone to different problems with their Gradient Descent optimizer -- they either grow exponentially (Exploding Gradient) or drop down to near zero and stabilize (Vanishing Gradient), both problems that greatly harm a model's learning capability.\n\nTo solve these problems, Hochreiter and Schmidhuber published a paper in 1997 describing a way to keep information over long periods of time and additionally solve the oversensitivity to parameter changes, i.e., make backpropagating through the Recurrent Networks more viable. This proposed method is called Long Short-Term Memory (LSTM).\n\n(In this notebook, we will cover only LSTM and its implementation using TensorFlow)\n<hr>"
        },
        {
            "metadata": {
                "button": false,
                "new_sheet": false,
                "run_control": {
                    "read_only": false
                }
            },
            "cell_type": "markdown",
            "source": "<a id=\"long_short_term_memory_model\"></a>\n<h2>Long Short-Term Memory Model</h2>\n\nThe Long Short-Term Memory, as it was called, was an abstraction of how computer memory works. It is \"bundled\" with whatever processing unit is implemented in the Recurrent Network, although outside of its flow, and is responsible for keeping, reading, and outputting information for the model. The way it works is simple: you have a linear unit, which is the information cell itself, surrounded by three logistic gates responsible for maintaining the data. One gate is for inputting data into the information cell, one is for outputting data from the input cell, and the last one is to keep or forget data depending on the needs of the network.\n\nThanks to that, it not only solves the problem of keeping states, because the network can choose to forget data whenever information is not needed, it also solves the gradient problems, since the Logistic Gates have a very nice derivative.\n\n<h3>Long Short-Term Memory Architecture</h3>\n\nThe Long Short-Term Memory is composed of a linear unit surrounded by three logistic gates. The name for these gates vary from place to place, but the most usual names for them are:\n\n<ul>\n    <li>the \"Input\" or \"Write\" Gate, which handles the writing of data into the information cell</li>\n    <li>the \"Output\" or \"Read\" Gate, which handles the sending of data back onto the Recurrent Network</li>\n    <li>the \"Keep\" or \"Forget\" Gate, which handles the maintaining and modification of the data stored in the information cell</li>\n</ul>\n<br>\n<img src=\"https://ibm.box.com/shared/static/zx10duv5egw0baw6gh2hzsgr8ex45gsg.png\" width=\"720\"/>\n<center><i>Diagram of the Long Short-Term Memory Unit</i></center>\n<br><br>\nThe three gates are the centerpiece of the LSTM unit. The gates, when activated by the network, perform their respective functions. For example, the Input Gate will write whatever data it is passed into the information cell, the Output Gate will return whatever data is in the information cell, and the Keep Gate will maintain the data in the information cell. These gates are analog and multiplicative, and as such, can modify the data based on the signal they are sent.\n\n<hr>\n\nFor example, an usual flow of operations for the LSTM unit is as such: First off, the Keep Gate has to decide whether to keep or forget the data currently stored in memory. It receives both the input and the state of the Recurrent Network, and passes it through its Sigmoid activation. If $K\n_t$ has value of 1 means that the LSTM unit should keep the data stored perfectly and if $K_t$ a value of 0 means that it should forget it entirely. Consider $S_{t-1}$ as the incoming (previous) state, $x_t$ as the incoming input, and $W_k$, $B_k$ as the weight and bias for the Keep Gate. Additionally, consider $Old_{t-1}$ as the data previously in memory. What happens can be summarized by this equation:\n\n<br>\n\n<font size=\"4\"><strong>\n$$K_t = \\sigma(W_k \\times [S_{t-1}, x_t] + B_k)$$\n\n$$Old_t = K_t \\times Old_{t-1}$$\n</strong></font>\n\n<br>\n\nAs you can see, $Old_{t-1}$ was multiplied by value was returned by the Keep Gate($K_t$) -- this value is written in the memory cell.\n\n<br>\nThen, the input and state are passed on to the Input Gate, in which there is another Sigmoid activation applied. Concurrently, the input is processed as normal by whatever processing unit is implemented in the network, and then multiplied by the Sigmoid activation's result $I_t$, much like the Keep Gate. Consider $W_i$ and $B_i$ as the weight and bias for the Input Gate, and $C_t$ the result of the processing of the inputs by the Recurrent Network.\n<br><br>\n\n<font size=\"4\"><strong>\n$$I_t = \\sigma(W_i\\times[S_{t-1},x_t]+B_i)$$\n\n$$New_t = I_t \\times C_t$$\n</strong></font>\n\n<br>\n$New_t$ is the new data to be input into the memory cell. This is then <b>added</b> to whatever value is still stored in memory.\n<br><br>\n\n<font size=\"4\"><strong>\n$$Cell_t = Old_t + New_t$$\n</strong></font>\n\n<br>\nWe now have the <i>candidate data</i> which is to be kept in the memory cell. The conjunction of the Keep and Input gates work in an analog manner, making it so that it is possible to keep part of the old data and add only part of the new data. Consider however, what would happen if the Forget Gate was set to 0 and the Input Gate was set to 1:\n<br><br>\n\n<font size=\"4\"><strong>\n$$Old_t = 0 \\times Old_{t-1}$$\n\n$$New_t = 1 \\times C_t$$\n\n$$Cell_t = C_t$$\n</strong></font>\n\n<br>\nThe old data would be totally forgotten and the new data would overwrite it completely.\n\nThe Output Gate functions in a similar manner. To decide what we should output, we take the input data and state and pass it through a Sigmoid function as usual. The contents of our memory cell, however, are pushed onto a <i>Tanh</i> function to bind them between a value of -1 to 1. Consider $W_o$ and $B_o$ as the weight and bias for the Output Gate.\n<br>\n<font size=\"4\"><strong>\n$$O_t = \\sigma(W_o \\times [S_{t-1},x_t] + B_o)$$\n\n$$Output_t = O_t \\times tanh(Cell_t)$$\n</strong></font>\n<br>\n\nAnd that $Output_t$ is what is output into the Recurrent Network.\n\n<br>\n<img width=\"384\" src=\"https://ibm.box.com/shared/static/rkr60528r3mz2fmtlpah8lqpg7mcsy0g.png\">\n<center><i>The Logistic Function plotted</i></center>\n<br><br>\nAs mentioned many times, all three gates are logistic. The reason for this is because it is very easy to backpropagate through them, and as such, it is possible for the model to learn exactly _how_ it is supposed to use this structure. This is one of the reasons for which LSTM is a very strong structure. Additionally, this solves the gradient problems by being able to manipulate values through the gates themselves -- by passing the inputs and outputs through the gates, we have now a easily derivable function modifying our inputs.\n\nIn regards to the problem of storing many states over a long period of time, LSTM handles this perfectly by only keeping whatever information is necessary and forgetting it whenever it is not needed anymore. Therefore, LSTMs are a very elegant solution to both problems.\n<hr>\n"
        },
        {
            "metadata": {
                "button": false,
                "new_sheet": false,
                "run_control": {
                    "read_only": false
                }
            },
            "cell_type": "markdown",
            "source": "<a id=\"ltsm\"></a>\n<h2>LSTM</h2>\nLets first create a tiny LSTM network sample to understand the architecture of LSTM networks."
        },
        {
            "metadata": {
                "button": false,
                "new_sheet": false,
                "run_control": {
                    "read_only": false
                }
            },
            "cell_type": "markdown",
            "source": "We need to import the necessary modules for our code. We need <b><code>numpy</code></b> and <b><code>tensorflow</code></b>, obviously. Additionally, we can import directly the <b><code>tensorflow.contrib.rnn</code></b> model, which includes the function for building RNNs."
        },
        {
            "metadata": {
                "button": false,
                "new_sheet": false,
                "run_control": {
                    "read_only": false
                }
            },
            "cell_type": "code",
            "source": "import numpy as np\nfrom tensorflow import keras\nimport tensorflow.compat.v1 as tf\ntf.disable_v2_behavior()\ntf.__version__\n\nsess = tf.Session()",
            "execution_count": 1,
            "outputs": [
                {
                    "name": "stdout",
                    "output_type": "stream",
                    "text": "WARNING:tensorflow:From /home/robi/.virtualenvs/DataScience/lib/python3.6/site-packages/tensorflow/python/compat/v2_compat.py:96: disable_resource_variables (from tensorflow.python.ops.variable_scope) is deprecated and will be removed in a future version.\nInstructions for updating:\nnon-resource variables are not supported in the long term\n"
                }
            ]
        },
        {
            "metadata": {
                "button": false,
                "new_sheet": false,
                "run_control": {
                    "read_only": false
                }
            },
            "cell_type": "markdown",
            "source": "We want to create a network that has only one LSTM cell. We have to pass 2 elements to LSTM, the <b>prv_output</b> and <b>prv_state</b>, so called, <b>h</b> and <b>c</b>. Therefore, we initialize a state vector, <b>state</b>.  Here, <b>state</b> is a tuple with 2 elements, each one is of size [1 x 4], one for passing prv_output to next time step, and another for passing the prv_state to next time stamp."
        },
        {
            "metadata": {
                "button": false,
                "new_sheet": false,
                "run_control": {
                    "read_only": false
                }
            },
            "cell_type": "code",
            "source": "LSTM_CELL_SIZE = 4  # output size (dimension), which is same as hidden size in the cell\n\nlstm_cell = tf.keras.layers.LSTMCell(LSTM_CELL_SIZE)  #, state_is_tuple=True\n#cell1 = tf.nn.rnn_cell.LSTMCell(LSTM_CELL_SIZE_1)\nstate = (tf.zeros([1,LSTM_CELL_SIZE]),)*2\nstate",
            "execution_count": 2,
            "outputs": [
                {
                    "data": {
                        "text/plain": "(<tf.Tensor 'zeros:0' shape=(1, 4) dtype=float32>,\n <tf.Tensor 'zeros:0' shape=(1, 4) dtype=float32>)"
                    },
                    "execution_count": 2,
                    "metadata": {},
                    "output_type": "execute_result"
                }
            ]
        },
        {
            "metadata": {
                "button": false,
                "new_sheet": false,
                "run_control": {
                    "read_only": false
                }
            },
            "cell_type": "markdown",
            "source": "Let define a sample input. In this example, batch_size = 1, and  seq_len = 6:"
        },
        {
            "metadata": {
                "button": false,
                "new_sheet": false,
                "run_control": {
                    "read_only": false
                }
            },
            "cell_type": "code",
            "source": "sample_input = tf.constant([[3,2,2,2,2,2]],dtype=tf.float32)\nprint (sess.run(sample_input))",
            "execution_count": 3,
            "outputs": [
                {
                    "name": "stdout",
                    "output_type": "stream",
                    "text": "[[3. 2. 2. 2. 2. 2.]]\n"
                }
            ]
        },
        {
            "metadata": {
                "button": false,
                "new_sheet": false,
                "run_control": {
                    "read_only": false
                }
            },
            "cell_type": "markdown",
            "source": "Now, we can pass the input to lstm_cell, and check the new state:"
        },
        {
            "metadata": {
                "button": false,
                "new_sheet": false,
                "run_control": {
                    "read_only": false
                }
            },
            "cell_type": "code",
            "source": "with tf.variable_scope(\"LSTM_sample1\"):\n    output, state_new = lstm_cell(sample_input, state)\nsess.run(tf.global_variables_initializer())\nprint (sess.run(state_new))",
            "execution_count": 4,
            "outputs": [
                {
                    "name": "stdout",
                    "output_type": "stream",
                    "text": "WARNING:tensorflow:From /home/robi/.virtualenvs/DataScience/lib/python3.6/site-packages/tensorflow/python/ops/resource_variable_ops.py:1666: calling BaseResourceVariable.__init__ (from tensorflow.python.ops.resource_variable_ops) with constraint is deprecated and will be removed in a future version.\nInstructions for updating:\nIf using Keras pass *_constraint arguments to layers.\n[array([[-0.1166512 , -0.21953866,  0.02222269,  0.10254906]],\n      dtype=float32), array([[-0.16274321, -0.386678  ,  0.311501  ,  0.18474422]],\n      dtype=float32)]\n"
                }
            ]
        },
        {
            "metadata": {
                "button": false,
                "new_sheet": false,
                "run_control": {
                    "read_only": false
                }
            },
            "cell_type": "markdown",
            "source": "As we can see, the states has 2 parts, the new state c, and also the output h. Lets check the output again:"
        },
        {
            "metadata": {
                "button": false,
                "new_sheet": false,
                "run_control": {
                    "read_only": false
                }
            },
            "cell_type": "code",
            "source": "print (sess.run(output))",
            "execution_count": 5,
            "outputs": [
                {
                    "name": "stdout",
                    "output_type": "stream",
                    "text": "[[-0.1166512  -0.21953866  0.02222269  0.10254906]]\n"
                }
            ]
        },
        {
            "metadata": {
                "button": false,
                "new_sheet": false,
                "run_control": {
                    "read_only": false
                }
            },
            "cell_type": "markdown",
            "source": "<hr>\n<a id=\"stacked_ltsm\"></a>\n<h2>Stacked LSTM</h2>\nWhat about if we want to have a RNN with stacked LSTM? For example, a 2-layer LSTM. In this case, the output of the first layer will become the input of the second."
        },
        {
            "metadata": {
                "button": false,
                "new_sheet": false,
                "run_control": {
                    "read_only": false
                }
            },
            "cell_type": "markdown",
            "source": "Lets start with a new session:"
        },
        {
            "metadata": {
                "button": false,
                "new_sheet": false,
                "run_control": {
                    "read_only": false
                }
            },
            "cell_type": "code",
            "source": "sess = tf.Session()",
            "execution_count": 6,
            "outputs": []
        },
        {
            "metadata": {
                "button": false,
                "new_sheet": false,
                "run_control": {
                    "read_only": false
                }
            },
            "cell_type": "code",
            "source": "input_dim = 6",
            "execution_count": 7,
            "outputs": []
        },
        {
            "metadata": {
                "button": false,
                "new_sheet": false,
                "run_control": {
                    "read_only": false
                }
            },
            "cell_type": "markdown",
            "source": "Lets create the stacked LSTM cell:"
        },
        {
            "metadata": {},
            "cell_type": "code",
            "source": "cells = []",
            "execution_count": 8,
            "outputs": []
        },
        {
            "metadata": {},
            "cell_type": "markdown",
            "source": "Creating the first layer LTSM cell."
        },
        {
            "metadata": {},
            "cell_type": "code",
            "source": "LSTM_CELL_SIZE_1 = 4 #4 hidden nodes\ncell1 = tf.keras.layers.LSTMCell(LSTM_CELL_SIZE_1)\ncells.append(cell1)",
            "execution_count": 9,
            "outputs": []
        },
        {
            "metadata": {},
            "cell_type": "markdown",
            "source": "Creating the second layer LTSM cell."
        },
        {
            "metadata": {},
            "cell_type": "code",
            "source": "LSTM_CELL_SIZE_2 = 5 #5 hidden nodes\ncell2 = tf.keras.layers.LSTMCell(LSTM_CELL_SIZE_2)\ncells.append(cell2)",
            "execution_count": 10,
            "outputs": []
        },
        {
            "metadata": {},
            "cell_type": "markdown",
            "source": "To create a multi-layer LTSM we use the <b>tf.contrib.rnnMultiRNNCell</b> function, it takes in multiple single layer LTSM cells to create a multilayer stacked LTSM model."
        },
        {
            "metadata": {},
            "cell_type": "code",
            "source": "stacked_lstm = tf.keras.layers.StackedRNNCells(cells)",
            "execution_count": 11,
            "outputs": []
        },
        {
            "metadata": {
                "button": false,
                "new_sheet": false,
                "run_control": {
                    "read_only": false
                }
            },
            "cell_type": "markdown",
            "source": "Now we can create the RNN from <b>stacked_lstm</b>:"
        },
        {
            "metadata": {
                "button": false,
                "new_sheet": false,
                "run_control": {
                    "read_only": false
                }
            },
            "cell_type": "code",
            "source": "# Batch size x time steps x features.\ndata = tf.placeholder(tf.float32, [None, None, input_dim])\noutput, state = tf.nn.dynamic_rnn(stacked_lstm, data, dtype=tf.float32)",
            "execution_count": 12,
            "outputs": [
                {
                    "name": "stdout",
                    "output_type": "stream",
                    "text": "WARNING:tensorflow:From <ipython-input-12-2941a7a9b793>:3: dynamic_rnn (from tensorflow.python.ops.rnn) is deprecated and will be removed in a future version.\nInstructions for updating:\nPlease use `keras.layers.RNN(cell)`, which is equivalent to this API\n"
                }
            ]
        },
        {
            "metadata": {
                "button": false,
                "new_sheet": false,
                "run_control": {
                    "read_only": false
                }
            },
            "cell_type": "markdown",
            "source": "Lets say the input sequence length is 3, and the dimensionality of the inputs is 6. The input should be a Tensor of shape: [batch_size, max_time, dimension], in our case it would be (2, 3, 6)"
        },
        {
            "metadata": {
                "button": false,
                "new_sheet": false,
                "run_control": {
                    "read_only": false
                }
            },
            "cell_type": "code",
            "source": "#Batch size x time steps x features.\nsample_input = [[[1,2,3,4,3,2], [1,2,1,1,1,2],[1,2,2,2,2,2]],[[1,2,3,4,3,2],[3,2,2,1,1,2],[0,0,0,0,3,2]]]\nsample_input",
            "execution_count": 13,
            "outputs": [
                {
                    "data": {
                        "text/plain": "[[[1, 2, 3, 4, 3, 2], [1, 2, 1, 1, 1, 2], [1, 2, 2, 2, 2, 2]],\n [[1, 2, 3, 4, 3, 2], [3, 2, 2, 1, 1, 2], [0, 0, 0, 0, 3, 2]]]"
                    },
                    "execution_count": 13,
                    "metadata": {},
                    "output_type": "execute_result"
                }
            ]
        },
        {
            "metadata": {
                "button": false,
                "new_sheet": false,
                "run_control": {
                    "read_only": false
                }
            },
            "cell_type": "markdown",
            "source": "we can now send our input to network, and check the output:"
        },
        {
            "metadata": {},
            "cell_type": "code",
            "source": "output",
            "execution_count": 14,
            "outputs": [
                {
                    "data": {
                        "text/plain": "<tf.Tensor 'rnn/transpose_1:0' shape=(?, ?, 5) dtype=float32>"
                    },
                    "execution_count": 14,
                    "metadata": {},
                    "output_type": "execute_result"
                }
            ]
        },
        {
            "metadata": {
                "button": false,
                "new_sheet": false,
                "run_control": {
                    "read_only": false
                }
            },
            "cell_type": "code",
            "source": "sess.run(tf.global_variables_initializer())\nsess.run(output, feed_dict={data: sample_input})",
            "execution_count": 15,
            "outputs": [
                {
                    "data": {
                        "text/plain": "array([[[-0.01580778,  0.06344766, -0.07242378, -0.05681939,\n          0.05450203],\n        [-0.02333371,  0.10383403, -0.13277893, -0.11185818,\n          0.0837185 ],\n        [-0.0360953 ,  0.15434791, -0.19199303, -0.17193852,\n          0.12478402]],\n\n       [[-0.01580778,  0.06344766, -0.07242378, -0.05681939,\n          0.05450203],\n        [-0.01129825,  0.08852372, -0.1313207 , -0.12630786,\n          0.05517594],\n        [ 0.0193228 ,  0.08563892, -0.17823842, -0.18928583,\n          0.0500958 ]]], dtype=float32)"
                    },
                    "execution_count": 15,
                    "metadata": {},
                    "output_type": "execute_result"
                }
            ]
        },
        {
            "metadata": {},
            "cell_type": "markdown",
            "source": "As you see, the output is of shape (2, 3, 5), which corresponds to our 2 batches, 3 elements in our sequence, and the dimensionality of the output which is 5.\n<hr>"
        },
        {
            "metadata": {
                "button": false,
                "new_sheet": false,
                "run_control": {
                    "read_only": false
                }
            },
            "cell_type": "markdown",
            "source": "## Want to learn more?\n\nRunning deep learning programs usually needs a high performance platform. __PowerAI__ speeds up deep learning and AI. Built on IBM\u2019s Power Systems, __PowerAI__ is a scalable software platform that accelerates deep learning and AI with blazing performance for individual users or enterprises. The __PowerAI__ platform supports popular machine learning libraries and dependencies including TensorFlow, Caffe, Torch, and Theano. You can use [PowerAI on IMB Cloud](https://cocl.us/ML0120EN_PAI).\n\nAlso, you can use __Watson Studio__ to run these notebooks faster with bigger datasets.__Watson Studio__ is IBM\u2019s leading cloud solution for data scientists, built by data scientists. With Jupyter notebooks, RStudio, Apache Spark and popular libraries pre-packaged in the cloud, __Watson Studio__ enables data scientists to collaborate on their projects without having to install anything. Join the fast-growing community of __Watson Studio__ users today with a free account at [Watson Studio](https://cocl.us/ML0120EN_DSX).This is the end of this lesson. Thank you for reading this notebook, and good luck on your studies."
        },
        {
            "metadata": {
                "button": false,
                "new_sheet": false,
                "run_control": {
                    "read_only": false
                }
            },
            "cell_type": "markdown",
            "source": "### Thanks for completing this lesson!\n\nNotebook created by:  <a href = \"https://linkedin.com/in/saeedaghabozorgi\"> Saeed Aghabozorgi </a>, <a href=\"https://br.linkedin.com/in/walter-gomes-de-amorim-junior-624726121\">Walter Gomes de Amorim Junior</a>"
        },
        {
            "metadata": {
                "button": false,
                "new_sheet": false,
                "run_control": {
                    "read_only": false
                }
            },
            "cell_type": "markdown",
            "source": "<hr>\n\nCopyright &copy; 2018 [Cognitive Class](https://cocl.us/DX0108EN_CC). This notebook and its source code are released under the terms of the [MIT License](https://bigdatauniversity.com/mit-license/)."
        }
    ],
    "metadata": {
        "kernelspec": {
            "name": "python3",
            "display_name": "Python 3.6",
            "language": "python"
        },
        "language_info": {
            "name": "python",
            "version": "3.6.9",
            "mimetype": "text/x-python",
            "codemirror_mode": {
                "name": "ipython",
                "version": 3
            },
            "pygments_lexer": "ipython3",
            "nbconvert_exporter": "python",
            "file_extension": ".py"
        },
        "widgets": {
            "state": {},
            "version": "1.1.2"
        }
    },
    "nbformat": 4,
    "nbformat_minor": 2
}